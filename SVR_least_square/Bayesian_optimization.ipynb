{
 "cells": [
  {
   "cell_type": "markdown",
   "metadata": {},
   "source": [
    "## Libraries"
   ]
  },
  {
   "cell_type": "code",
   "execution_count": 23,
   "metadata": {
    "ExecuteTime": {
     "end_time": "2021-06-20T18:29:19.829556Z",
     "start_time": "2021-06-20T18:29:19.810554Z"
    }
   },
   "outputs": [],
   "source": [
    "import matplotlib.pyplot as plt\n",
    "import numpy as np\n",
    "from sklearn.preprocessing import MaxAbsScaler\n",
    "from sklearn.model_selection import train_test_split\n",
    "from sklearn.utils import check_random_state\n",
    "from sklearn.datasets import load_boston\n",
    "import pandas as pd\n",
    "from pathlib import Path"
   ]
  },
  {
   "cell_type": "code",
   "execution_count": 24,
   "metadata": {
    "ExecuteTime": {
     "end_time": "2021-06-20T18:29:19.984563Z",
     "start_time": "2021-06-20T18:29:19.972553Z"
    }
   },
   "outputs": [],
   "source": [
    "from bayes_opt import BayesianOptimization\n",
    "from bayes_opt import SequentialDomainReductionTransformer\n",
    "from bayes_opt import UtilityFunction\n",
    "from bayes_opt.logger import JSONLogger\n",
    "from bayes_opt.event import Events"
   ]
  },
  {
   "cell_type": "code",
   "execution_count": 25,
   "metadata": {
    "ExecuteTime": {
     "end_time": "2021-06-20T18:29:20.484554Z",
     "start_time": "2021-06-20T18:29:20.452555Z"
    }
   },
   "outputs": [],
   "source": [
    "%run SVR_LS_Library.ipynb "
   ]
  },
  {
   "cell_type": "markdown",
   "metadata": {},
   "source": [
    "## Load data"
   ]
  },
  {
   "cell_type": "code",
   "execution_count": 46,
   "metadata": {
    "ExecuteTime": {
     "end_time": "2021-06-20T19:40:00.529907Z",
     "start_time": "2021-06-20T19:40:00.508941Z"
    }
   },
   "outputs": [],
   "source": [
    "rng = check_random_state(0)\n",
    "boston = load_boston()\n",
    "perm = rng.permutation(boston.target.size)\n",
    "boston.data = boston.data[perm]\n",
    "boston.target = boston.target[perm]\n",
    "# \n",
    "Y = boston.target\n",
    "X = boston.data"
   ]
  },
  {
   "cell_type": "code",
   "execution_count": 47,
   "metadata": {
    "ExecuteTime": {
     "end_time": "2021-06-20T19:40:01.025952Z",
     "start_time": "2021-06-20T19:40:01.006915Z"
    }
   },
   "outputs": [],
   "source": [
    "# X = pd.read_csv(\"new_boston.csv\")"
   ]
  },
  {
   "cell_type": "code",
   "execution_count": 48,
   "metadata": {
    "ExecuteTime": {
     "end_time": "2021-06-20T19:40:01.462604Z",
     "start_time": "2021-06-20T19:40:01.440643Z"
    }
   },
   "outputs": [],
   "source": [
    "#split\n",
    "x_train, x_test, y_train, y_test = train_test_split(X, Y, test_size=0.2, random_state = 5)\n",
    "\n",
    "#normalize\n",
    "scaler = MaxAbsScaler().fit(x_train)\n",
    "X_train = scaler.transform(x_train); X_test = scaler.transform(x_test)\n",
    "\n",
    "scaler1 = MaxAbsScaler().fit(y_train.reshape(-1, 1))\n",
    "Y_train = scaler1.transform(y_train.reshape(-1, 1)).reshape(-1)\n",
    "Y_test = scaler1.transform(y_test.reshape(-1, 1)).reshape(-1)"
   ]
  },
  {
   "cell_type": "markdown",
   "metadata": {},
   "source": [
    "## Optimization function"
   ]
  },
  {
   "cell_type": "code",
   "execution_count": 49,
   "metadata": {
    "ExecuteTime": {
     "end_time": "2021-06-20T19:40:02.450539Z",
     "start_time": "2021-06-20T19:40:02.438538Z"
    }
   },
   "outputs": [],
   "source": [
    "def opt_bas(C, gamma):\n",
    "    \n",
    "    # parameters\n",
    "    hyperparameters = {\n",
    "        'kernel' : \"rbf\",\n",
    "        'C' : C, \n",
    "        'gamma' : gamma,\n",
    "    }\n",
    "    \n",
    "    # fit and predict\n",
    "    model = SVR_ls(**hyperparameters).fit(X_train, Y_train)\n",
    "\n",
    "    y_pred = model.predict(X_test)\n",
    "    \n",
    "    # rescale\n",
    "#     y_pred = scaler1.inverse_transform(predict.reshape(-1, 1)).reshape(-1)\n",
    "    \n",
    "    # get score\n",
    "    mape = np.mean(np.abs((Y_test - y_pred)/Y_test))*100\n",
    "    \n",
    "    return -mape"
   ]
  },
  {
   "cell_type": "markdown",
   "metadata": {},
   "source": [
    "## Run optimization"
   ]
  },
  {
   "cell_type": "code",
   "execution_count": 50,
   "metadata": {
    "ExecuteTime": {
     "end_time": "2021-06-20T19:40:03.371275Z",
     "start_time": "2021-06-20T19:40:03.359276Z"
    }
   },
   "outputs": [],
   "source": [
    "class newJSONLogger(JSONLogger):\n",
    "\n",
    "      def __init__(self, path):\n",
    "            self._path=None\n",
    "            super(JSONLogger, self).__init__()\n",
    "            self._path = path if path[-5:] == \".json\" else path + \".json\""
   ]
  },
  {
   "cell_type": "code",
   "execution_count": 51,
   "metadata": {
    "ExecuteTime": {
     "end_time": "2021-06-20T19:40:06.374123Z",
     "start_time": "2021-06-20T19:40:06.351125Z"
    }
   },
   "outputs": [],
   "source": [
    "# Bounded region of parameter space\n",
    "pbounds = {'C': (49.9, 100), 'gamma': (0.3, 2)}\n",
    "\n",
    "# Domain reduction function\n",
    "# bounds_transformer = SequentialDomainReductionTransformer()\n",
    "\n",
    "# Bayes optimizer instantiation\n",
    "optimizer = BayesianOptimization(f=opt_bas, \n",
    "                                 pbounds=pbounds, \n",
    "                                 random_state=1, verbose=2, \n",
    "#                                  bounds_transformer=bounds_transformer\n",
    "                                )\n",
    "\n",
    "# keep data\n",
    "log_path = Path().resolve() / \"Logs\" / \"Boston.json\"\n",
    "logger = newJSONLogger(path = str(log_path))\n",
    "optimizer.subscribe(Events.OPTIMIZATION_STEP, logger)"
   ]
  },
  {
   "cell_type": "code",
   "execution_count": 52,
   "metadata": {
    "ExecuteTime": {
     "end_time": "2021-06-20T19:40:07.233149Z",
     "start_time": "2021-06-20T19:40:07.223149Z"
    }
   },
   "outputs": [],
   "source": [
    "# optimizer.probe(params={\"C\": 131.6135372548593, \"gamma\": 0.1926931038470609}, lazy = False)\n",
    "# optimizer.probe(params={\"C\": 4, \"gamma\": 2}, lazy = False)\n",
    "# optimizer.probe(params={\"C\": 7.628874476243877, \"gamma\": 1.1659271563361087}, lazy = False)"
   ]
  },
  {
   "cell_type": "code",
   "execution_count": 53,
   "metadata": {
    "ExecuteTime": {
     "end_time": "2021-06-20T20:12:30.937382Z",
     "start_time": "2021-06-20T19:40:14.836667Z"
    }
   },
   "outputs": [],
   "source": [
    "optimizer.maximize(init_points=30, n_iter=600)"
   ]
  },
  {
   "cell_type": "code",
   "execution_count": 23,
   "metadata": {
    "ExecuteTime": {
     "end_time": "2021-06-19T23:51:05.217430Z",
     "start_time": "2021-06-19T23:51:05.191401Z"
    }
   },
   "outputs": [
    {
     "data": {
      "text/plain": [
       "{'target': -9.872426091354845,\n",
       " 'params': {'C': 9.996898199730582, 'gamma': 0.6511047795028144}}"
      ]
     },
     "execution_count": 23,
     "metadata": {},
     "output_type": "execute_result"
    }
   ],
   "source": [
    "optimizer.max"
   ]
  },
  {
   "cell_type": "code",
   "execution_count": null,
   "metadata": {},
   "outputs": [],
   "source": [
    "# from bayes_opt.util import load_logs\n",
    "\n",
    "\n",
    "# new_optimizer = BayesianOptimization(\n",
    "#     f=black_box_function,\n",
    "#     pbounds={\"x\": (-2, 2), \"y\": (-2, 2)},\n",
    "#     verbose=2,\n",
    "#     random_state=7,\n",
    "# )\n",
    "# log_path = Path().resolve() / \"Logs\" / \"test2.json\"\n",
    "# # New optimizer is loaded with previously seen points\n",
    "# load_logs(new_optimizer, logs=[\"./logs.json\"]);"
   ]
  }
 ],
 "metadata": {
  "kernelspec": {
   "display_name": "Python 3",
   "language": "python",
   "name": "python3"
  },
  "language_info": {
   "codemirror_mode": {
    "name": "ipython",
    "version": 3
   },
   "file_extension": ".py",
   "mimetype": "text/x-python",
   "name": "python",
   "nbconvert_exporter": "python",
   "pygments_lexer": "ipython3",
   "version": "3.7.7"
  },
  "toc": {
   "base_numbering": 1,
   "nav_menu": {},
   "number_sections": true,
   "sideBar": true,
   "skip_h1_title": false,
   "title_cell": "Table of Contents",
   "title_sidebar": "Contents",
   "toc_cell": false,
   "toc_position": {},
   "toc_section_display": true,
   "toc_window_display": false
  }
 },
 "nbformat": 4,
 "nbformat_minor": 4
}
