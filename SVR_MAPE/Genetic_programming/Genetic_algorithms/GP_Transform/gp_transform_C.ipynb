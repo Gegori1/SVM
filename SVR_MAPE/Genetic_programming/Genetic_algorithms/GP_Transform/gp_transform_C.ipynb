{
 "cells": [
  {
   "cell_type": "markdown",
   "metadata": {},
   "source": [
    "### Libraries"
   ]
  },
  {
   "cell_type": "code",
   "execution_count": 48,
   "metadata": {
    "ExecuteTime": {
     "end_time": "2021-04-18T20:52:56.912854Z",
     "start_time": "2021-04-18T20:52:56.905845Z"
    }
   },
   "outputs": [],
   "source": [
    "from gplearn.genetic import SymbolicTransformer\n",
    "from gplearn.fitness import make_fitness\n",
    "import numpy as np\n",
    "import matplotlib.pyplot as plt\n",
    "import pandas as pd\n",
    "from pathlib import Path\n",
    "from sklearn.model_selection import train_test_split\n",
    "from sklearn.preprocessing import MaxAbsScaler"
   ]
  },
  {
   "cell_type": "code",
   "execution_count": 49,
   "metadata": {
    "ExecuteTime": {
     "end_time": "2021-04-18T20:52:57.128513Z",
     "start_time": "2021-04-18T20:52:57.115548Z"
    }
   },
   "outputs": [
    {
     "data": {
      "text/html": [
       "        <script type=\"text/javascript\">\n",
       "        window.PlotlyConfig = {MathJaxConfig: 'local'};\n",
       "        if (window.MathJax) {MathJax.Hub.Config({SVG: {font: \"STIX-Web\"}});}\n",
       "        if (typeof require !== 'undefined') {\n",
       "        require.undef(\"plotly\");\n",
       "        requirejs.config({\n",
       "            paths: {\n",
       "                'plotly': ['https://cdn.plot.ly/plotly-latest.min']\n",
       "            }\n",
       "        });\n",
       "        require(['plotly'], function(Plotly) {\n",
       "            window._Plotly = Plotly;\n",
       "        });\n",
       "        }\n",
       "        </script>\n",
       "        "
      ]
     },
     "metadata": {},
     "output_type": "display_data"
    }
   ],
   "source": [
    "import cufflinks as cf\n",
    "cf.go_offline()"
   ]
  },
  {
   "cell_type": "code",
   "execution_count": 50,
   "metadata": {
    "ExecuteTime": {
     "end_time": "2021-04-18T20:52:57.534397Z",
     "start_time": "2021-04-18T20:52:57.499490Z"
    }
   },
   "outputs": [],
   "source": [
    "%run ../../SVR_library/SVR_MAPE_Library.ipynb"
   ]
  },
  {
   "cell_type": "markdown",
   "metadata": {},
   "source": [
    "### Load"
   ]
  },
  {
   "cell_type": "code",
   "execution_count": 51,
   "metadata": {
    "ExecuteTime": {
     "end_time": "2021-04-18T20:52:58.285669Z",
     "start_time": "2021-04-18T20:52:57.736962Z"
    }
   },
   "outputs": [],
   "source": [
    "path_consumo = Path().resolve().parents[1] / \"Data\" / \"Data1.xlsx\"\n",
    "consumo = pd.read_excel(path_consumo)\n",
    "consumo = consumo.set_index(\"fecha\").loc[\"2007-01-01\":\"2020-03-30\"]\n",
    "X_path = Path().resolve().parents[1] / \"Data\" / \"X_gp_transform.csv\"\n",
    "X = pd.read_csv(X_path).set_index(\"fecha\")"
   ]
  },
  {
   "cell_type": "code",
   "execution_count": 52,
   "metadata": {
    "ExecuteTime": {
     "end_time": "2021-04-18T20:52:58.333504Z",
     "start_time": "2021-04-18T20:52:58.289654Z"
    }
   },
   "outputs": [],
   "source": [
    "X_train, X_test, y_train, y_test = train_test_split(X, consumo, test_size = 365, shuffle = False)\n",
    "\n",
    "scaler = MaxAbsScaler(); scaler.fit(X_train); X_train = scaler.transform(X_train)\n",
    "X_test = scaler.transform(X_test)\n",
    "\n",
    "scaler1 = MaxAbsScaler(); scaler1.fit(y_train)\n",
    "y_train = scaler1.transform(y_train).reshape(-1)"
   ]
  },
  {
   "cell_type": "markdown",
   "metadata": {},
   "source": [
    "### functions"
   ]
  },
  {
   "cell_type": "code",
   "execution_count": 53,
   "metadata": {
    "ExecuteTime": {
     "end_time": "2021-04-18T20:52:59.346234Z",
     "start_time": "2021-04-18T20:52:59.332271Z"
    }
   },
   "outputs": [],
   "source": [
    "# custom metric\n",
    "def _mape(y, y_pred, w):\n",
    "    diffs = np.abs(np.divide((np.maximum(0.001, y) - np.maximum(0.001, y_pred)),np.maximum(0.001, y)))\n",
    "    \n",
    "    return 100. * np.average(diffs, weights=w)\n",
    "\n",
    "mape = make_fitness(_mape, greater_is_better=False)"
   ]
  },
  {
   "cell_type": "markdown",
   "metadata": {},
   "source": [
    "### model"
   ]
  },
  {
   "cell_type": "code",
   "execution_count": 59,
   "metadata": {
    "ExecuteTime": {
     "end_time": "2021-04-19T02:31:59.821087Z",
     "start_time": "2021-04-19T00:03:04.252485Z"
    }
   },
   "outputs": [
    {
     "name": "stdout",
     "output_type": "stream",
     "text": [
      "    |   Population Average    |             Best Individual              |\n",
      "---- ------------------------- ------------------------------------------ ----------\n",
      " Gen   Length          Fitness   Length          Fitness      OOB Fitness  Time Left\n",
      "   0    15.90          90.1559        4          7.31187          7.45852     27.01m\n",
      "   1    10.75          36.3104        4          7.28059          8.05186     25.95m\n",
      "   2    10.76          30.3954       22          6.72985          5.94183     25.53m\n",
      "   3    12.36           27.934       22          6.66201          7.22853     25.22m\n",
      "   4    15.11          25.9314       25          6.28083          7.08714     26.52m\n",
      "   5    14.80          24.1223       25          6.22591          6.51256     25.76m\n",
      "   6    16.96          23.8615       27          6.19814          6.52275     25.70m\n",
      "   7    27.42          20.0995       48          5.91146          6.07663     30.97m\n",
      "   8    34.65          19.0116       48          5.88679          6.54463     32.83m\n",
      "   9    39.02          18.1878       44          5.13821           5.5677     34.49m\n",
      "  10    46.38          17.2763       47           5.0841          5.10249     36.62m\n",
      "  11    57.65          17.0497       64          4.95062          5.16709     41.34m\n",
      "  12    69.77          16.9396       44          4.74609          5.20122     56.77m\n",
      "  13    74.41           16.117       45           4.7065          5.15728   1507.45m\n",
      "  14    73.80          15.9849       44          4.70196          4.94479     50.40m\n",
      "  15    68.28          16.4369       85           4.6653          4.60894     52.20m\n",
      "  16    80.43          15.1174       48          4.55259          5.50978     54.46m\n",
      "  17    94.12          14.0959       47          4.53158          4.33738     59.99m\n",
      "  18    96.23          13.0842      111          4.51661          5.44697     59.08m\n",
      "  19    89.60          12.8743       73          4.46868          4.75378     56.66m\n",
      "  20    89.49          13.0278       53          4.44252          4.98168     57.45m\n",
      "  21   100.99          12.5363       89          4.40121          4.49888     65.45m\n",
      "  22    99.58           12.056       95          4.36831          4.42217     54.96m\n",
      "  23   100.75           12.616       62          4.34931          5.23558     63.61m\n",
      "  24    97.65          12.8259       97          4.32968          4.68567     50.50m\n",
      "  25   100.31          12.2626      108          4.27162          4.44749     37.80m\n",
      "  26   104.39          11.8894      123          4.26448          4.77233     37.02m\n",
      "  27   113.20          11.5463       75          4.18448          4.15882     34.73m\n",
      "  28   121.06          11.0637       76           4.1845          4.15853     33.23m\n",
      "  29   121.93          10.9646      172          4.15841          4.84392     30.54m\n",
      "  30   123.12          10.7703      147          4.13283          4.35756     28.97m\n",
      "  31   123.70          10.4081       97          4.07602          4.43533     24.84m\n",
      "  32   129.99          10.1225      100          4.05236          4.85025     23.13m\n",
      "  33   133.51          9.77284      106          4.04765          4.91677     18.91m\n",
      "  34   137.11          10.0331      207          4.03395          4.26844     16.12m\n",
      "  35   137.70          10.1846      177          4.02722          4.39617     11.13m\n",
      "  36   139.17          10.5541      203          3.99519          4.74935      8.31m\n",
      "  37   152.94           10.073      186          3.89159          4.20845      6.18m\n",
      "  38   173.72          9.26697      183          3.89551          4.13414      3.39m\n",
      "  39   166.40          9.54974      222          3.86925          4.22084      0.00s\n"
     ]
    },
    {
     "data": {
      "text/plain": [
       "SymbolicTransformer(const_range=(-1.0, 1.0), feature_names=None,\n",
       "                    function_set=['add', 'sub', 'mul', 'div', 'sqrt', 'sin',\n",
       "                                  'cos', 'abs'],\n",
       "                    generations=40, hall_of_fame=100, init_depth=(2, 6),\n",
       "                    init_method='full', low_memory=False, max_samples=0.95,\n",
       "                    metric=<gplearn.fitness._Fitness object at 0x00000298178A7388>,\n",
       "                    n_components=20, n_jobs=1, p_crossover=0.6,\n",
       "                    p_hoist_mutation=0.05, p_point_mutation=0.01,\n",
       "                    p_point_replace=0.05, p_subtree_mutation=0.3,\n",
       "                    parsimony_coefficient=0.0001, population_size=20000,\n",
       "                    random_state=0, stopping_criteria=1.0, tournament_size=20,\n",
       "                    verbose=1, warm_start=False)"
      ]
     },
     "execution_count": 59,
     "metadata": {},
     "output_type": "execute_result"
    }
   ],
   "source": [
    "function_set = ['add', 'sub', 'mul', 'div','sqrt', 'sin', 'cos', 'abs']\n",
    "model = SymbolicTransformer(generations=40, population_size=20000,\n",
    "                         hall_of_fame=100, n_components=20, \n",
    "                         init_method = \"full\", p_hoist_mutation = 0.05,\n",
    "                         p_crossover = 0.6, p_subtree_mutation = 0.3,\n",
    "                         function_set=function_set, metric = mape,\n",
    "                         parsimony_coefficient=0.0001,\n",
    "                         max_samples=0.95, verbose=1,\n",
    "                         random_state=0)\n",
    "model.fit(X_train, y_train)"
   ]
  },
  {
   "cell_type": "code",
   "execution_count": 60,
   "metadata": {
    "ExecuteTime": {
     "end_time": "2021-04-19T02:41:25.491658Z",
     "start_time": "2021-04-19T02:41:25.470712Z"
    }
   },
   "outputs": [],
   "source": [
    "import pickle"
   ]
  },
  {
   "cell_type": "code",
   "execution_count": 61,
   "metadata": {
    "ExecuteTime": {
     "end_time": "2021-04-19T02:41:32.673461Z",
     "start_time": "2021-04-19T02:41:28.968805Z"
    }
   },
   "outputs": [],
   "source": [
    "with open('GT_40it_20best_overfit.pkl', 'wb') as f:\n",
    "    pickle.dump(model, f)"
   ]
  },
  {
   "cell_type": "code",
   "execution_count": 62,
   "metadata": {
    "ExecuteTime": {
     "end_time": "2021-04-19T02:51:37.486306Z",
     "start_time": "2021-04-19T02:51:37.298081Z"
    }
   },
   "outputs": [],
   "source": [
    "X_new = model.transform(X)\n",
    "X_new = pd.DataFrame(X_new, index = X.index)"
   ]
  },
  {
   "cell_type": "code",
   "execution_count": 63,
   "metadata": {
    "ExecuteTime": {
     "end_time": "2021-04-19T02:51:37.953006Z",
     "start_time": "2021-04-19T02:51:37.931063Z"
    }
   },
   "outputs": [],
   "source": [
    "df = pd.concat([X_new, X], axis = 1)"
   ]
  },
  {
   "cell_type": "code",
   "execution_count": 64,
   "metadata": {
    "ExecuteTime": {
     "end_time": "2021-04-19T02:51:38.324049Z",
     "start_time": "2021-04-19T02:51:38.281127Z"
    }
   },
   "outputs": [],
   "source": [
    "df = df/df.max()"
   ]
  },
  {
   "cell_type": "code",
   "execution_count": 65,
   "metadata": {
    "ExecuteTime": {
     "end_time": "2021-04-19T02:51:38.635212Z",
     "start_time": "2021-04-19T02:51:38.613238Z"
    }
   },
   "outputs": [],
   "source": [
    "train_, test_ = train_test_split(X_train, shuffle = False, test_size = 365)"
   ]
  },
  {
   "cell_type": "markdown",
   "metadata": {},
   "source": [
    "### fit"
   ]
  },
  {
   "cell_type": "code",
   "execution_count": 66,
   "metadata": {
    "ExecuteTime": {
     "end_time": "2021-04-19T02:52:49.187230Z",
     "start_time": "2021-04-19T02:51:40.070158Z"
    }
   },
   "outputs": [
    {
     "data": {
      "text/plain": [
       "<__main__.SVR_general_cvxopt at 0x298009c0dc8>"
      ]
     },
     "execution_count": 66,
     "metadata": {},
     "output_type": "execute_result"
    }
   ],
   "source": [
    "hyp = {'kernel': 'rbf',\n",
    " 'C': 1.5622596668986724,\n",
    " 'epsilon': 0.01,\n",
    " 'mu': 0.8894683237212756,\n",
    " 'lmbda': 0.7147423174236999,\n",
    " 'gamma': 0.009632563464115184\n",
    "      }\n",
    "\n",
    "run = SVR_general_cvxopt(**hyp)\n",
    "run.fit(X_train, y_train)"
   ]
  },
  {
   "cell_type": "code",
   "execution_count": 67,
   "metadata": {
    "ExecuteTime": {
     "end_time": "2021-04-19T02:52:49.309540Z",
     "start_time": "2021-04-19T02:52:49.187230Z"
    }
   },
   "outputs": [],
   "source": [
    "pred = run.predict(X_test)"
   ]
  },
  {
   "cell_type": "code",
   "execution_count": 70,
   "metadata": {
    "ExecuteTime": {
     "end_time": "2021-04-19T02:54:35.275952Z",
     "start_time": "2021-04-19T02:54:35.268943Z"
    }
   },
   "outputs": [],
   "source": [
    "pred = scaler1.inverse_transform(pred.reshape(-1, 1))"
   ]
  },
  {
   "cell_type": "code",
   "execution_count": 72,
   "metadata": {
    "ExecuteTime": {
     "end_time": "2021-04-19T02:54:52.037836Z",
     "start_time": "2021-04-19T02:54:51.764092Z"
    }
   },
   "outputs": [
    {
     "data": {
      "text/plain": [
       "[<matplotlib.lines.Line2D at 0x2982f30f788>]"
      ]
     },
     "execution_count": 72,
     "metadata": {},
     "output_type": "execute_result"
    },
    {
     "data": {
      "image/png": "[encoded data removed]",
      "text/plain": [
       "<Figure size 432x288 with 1 Axes>"
      ]
     },
     "metadata": {
      "needs_background": "light"
     },
     "output_type": "display_data"
    }
   ],
   "source": [
    "plt.plot(y_test.values)\n",
    "plt.plot(pred)"
   ]
  },
  {
   "cell_type": "code",
   "execution_count": 68,
   "metadata": {
    "ExecuteTime": {
     "end_time": "2021-04-19T02:52:49.731225Z",
     "start_time": "2021-04-19T02:52:49.313529Z"
    }
   },
   "outputs": [
    {
     "data": {
      "text/plain": [
       "[<matplotlib.lines.Line2D at 0x2982f00f3c8>]"
      ]
     },
     "execution_count": 68,
     "metadata": {},
     "output_type": "execute_result"
    },
    {
     "data": {
      "image/png": "[encoded data removed]",
      "text/plain": [
       "<Figure size 432x288 with 1 Axes>"
      ]
     },
     "metadata": {
      "needs_background": "light"
     },
     "output_type": "display_data"
    }
   ],
   "source": [
    "np.mean(y_test.values)"
   ]
  },
  {
   "cell_type": "code",
   "execution_count": 75,
   "metadata": {
    "ExecuteTime": {
     "end_time": "2021-04-19T03:00:35.711282Z",
     "start_time": "2021-04-19T03:00:35.692332Z"
    }
   },
   "outputs": [
    {
     "data": {
      "text/plain": [
       "MWh    2.897872\n",
       "dtype: float64"
      ]
     },
     "execution_count": 75,
     "metadata": {},
     "output_type": "execute_result"
    }
   ],
   "source": [
    "np.mean(np.abs((y_test - pred)/y_test))*100"
   ]
  },
  {
   "cell_type": "code",
   "execution_count": null,
   "metadata": {},
   "outputs": [],
   "source": []
  }
 ],
 "metadata": {
  "kernelspec": {
   "display_name": "Python 3",
   "language": "python",
   "name": "python3"
  },
  "language_info": {
   "codemirror_mode": {
    "name": "ipython",
    "version": 3
   },
   "file_extension": ".py",
   "mimetype": "text/x-python",
   "name": "python",
   "nbconvert_exporter": "python",
   "pygments_lexer": "ipython3",
   "version": "3.7.7"
  },
  "toc": {
   "base_numbering": 1,
   "nav_menu": {},
   "number_sections": true,
   "sideBar": true,
   "skip_h1_title": false,
   "title_cell": "Table of Contents",
   "title_sidebar": "Contents",
   "toc_cell": false,
   "toc_position": {},
   "toc_section_display": true,
   "toc_window_display": false
  }
 },
 "nbformat": 4,
 "nbformat_minor": 4
}
