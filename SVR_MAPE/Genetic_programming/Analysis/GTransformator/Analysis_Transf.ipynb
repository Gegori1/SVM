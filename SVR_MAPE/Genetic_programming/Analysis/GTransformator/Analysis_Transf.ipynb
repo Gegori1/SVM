{
 "cells": [
  {
   "cell_type": "code",
   "execution_count": 1,
   "metadata": {
    "ExecuteTime": {
     "end_time": "2021-04-19T13:18:35.160776Z",
     "start_time": "2021-04-19T13:18:34.456591Z"
    }
   },
   "outputs": [],
   "source": [
    "import pickle\n",
    "from pathlib import Path\n",
    "from os import listdir\n",
    "import pandas as pd\n",
    "import numpy as np"
   ]
  },
  {
   "cell_type": "code",
   "execution_count": 2,
   "metadata": {
    "ExecuteTime": {
     "end_time": "2021-04-19T13:18:38.780607Z",
     "start_time": "2021-04-19T13:18:35.160776Z"
    }
   },
   "outputs": [
    {
     "data": {
      "text/html": [
       "        <script type=\"text/javascript\">\n",
       "        window.PlotlyConfig = {MathJaxConfig: 'local'};\n",
       "        if (window.MathJax) {MathJax.Hub.Config({SVG: {font: \"STIX-Web\"}});}\n",
       "        if (typeof require !== 'undefined') {\n",
       "        require.undef(\"plotly\");\n",
       "        requirejs.config({\n",
       "            paths: {\n",
       "                'plotly': ['https://cdn.plot.ly/plotly-latest.min']\n",
       "            }\n",
       "        });\n",
       "        require(['plotly'], function(Plotly) {\n",
       "            window._Plotly = Plotly;\n",
       "        });\n",
       "        }\n",
       "        </script>\n",
       "        "
      ]
     },
     "metadata": {},
     "output_type": "display_data"
    }
   ],
   "source": [
    "import cufflinks as cf\n",
    "cf.go_offline()"
   ]
  },
  {
   "cell_type": "code",
   "execution_count": null,
   "metadata": {},
   "outputs": [],
   "source": [
    "%run ..\\..\\SVR_library\\SVR_MAPE_Library.ipynb"
   ]
  },
  {
   "cell_type": "markdown",
   "metadata": {},
   "source": [
    "### Function"
   ]
  },
  {
   "cell_type": "code",
   "execution_count": 3,
   "metadata": {
    "ExecuteTime": {
     "end_time": "2021-04-19T13:18:38.796529Z",
     "start_time": "2021-04-19T13:18:38.784559Z"
    }
   },
   "outputs": [],
   "source": [
    "def open_model(path, files):\n",
    "    tame = {}\n",
    "    for ld in files:\n",
    "        with open(f\"{path}\\\\{ld}\", 'rb') as f:\n",
    "            tame[ld[:-4]] = pickle.load(f)\n",
    "    return tame\n",
    "\n",
    "def mape_comp(y):\n",
    "    return np.mean(np.abs((y.real - y.predict)/y.real))*100"
   ]
  },
  {
   "cell_type": "markdown",
   "metadata": {},
   "source": [
    "### Open Models"
   ]
  },
  {
   "cell_type": "code",
   "execution_count": 4,
   "metadata": {
    "ExecuteTime": {
     "end_time": "2021-04-19T13:18:38.812486Z",
     "start_time": "2021-04-19T13:18:38.801512Z"
    }
   },
   "outputs": [],
   "source": [
    "path = Path().resolve().parents[1] / 'Models' / 'GTransformer'\n",
    "list_dir = listdir(path)\n",
    "files = [ld for ld in list_dir if ld[-3:] == 'pkl']"
   ]
  },
  {
   "cell_type": "code",
   "execution_count": 5,
   "metadata": {
    "ExecuteTime": {
     "end_time": "2021-04-19T13:18:44.243506Z",
     "start_time": "2021-04-19T13:18:39.014948Z"
    }
   },
   "outputs": [],
   "source": [
    "models = open_model(path, files)"
   ]
  },
  {
   "cell_type": "code",
   "execution_count": 6,
   "metadata": {
    "ExecuteTime": {
     "end_time": "2021-04-19T13:18:44.274832Z",
     "start_time": "2021-04-19T13:18:44.245562Z"
    }
   },
   "outputs": [
    {
     "data": {
      "text/plain": [
       "['GT_20it_1', 'GT_20it_20best', 'GT_40it_10best', 'GT_40it_20best_overfit']"
      ]
     },
     "execution_count": 6,
     "metadata": {},
     "output_type": "execute_result"
    }
   ],
   "source": [
    "[*models.keys()]"
   ]
  },
  {
   "cell_type": "markdown",
   "metadata": {},
   "source": [
    "### import data"
   ]
  },
  {
   "cell_type": "code",
   "execution_count": 13,
   "metadata": {
    "ExecuteTime": {
     "end_time": "2021-04-19T13:20:26.996135Z",
     "start_time": "2021-04-19T13:20:26.564129Z"
    }
   },
   "outputs": [],
   "source": [
    "path_consumo = Path().resolve().parents[1] / \"Data\" / \"Data1.xlsx\"\n",
    "consumo = pd.read_excel(path_consumo)\n",
    "consumo = consumo.set_index(\"fecha\").loc[\"2007-01-01\":\"2020-03-30\"]\n",
    "X_path = Path().resolve().parents[1] / \"Data\" / \"X_gp.csv\"\n",
    "X = pd.read_csv(X_path).set_index(\"fecha\")"
   ]
  },
  {
   "cell_type": "code",
   "execution_count": null,
   "metadata": {
    "ExecuteTime": {
     "end_time": "2021-04-19T13:21:45.272744Z",
     "start_time": "2021-04-19T13:21:45.254760Z"
    }
   },
   "outputs": [],
   "source": [
    "y_pred = models['GT_20it_1'].transform(X)\n",
    "\n",
    "plotting = pd.DataFrame(y_pred, index = consumo.index, columns = [\"predict\"])\n",
    "plotting[\"real\"] = consumo.to_numpy()"
   ]
  },
  {
   "cell_type": "code",
   "execution_count": null,
   "metadata": {
    "ExecuteTime": {
     "end_time": "2021-04-19T13:21:45.536813Z",
     "start_time": "2021-04-19T13:21:45.511879Z"
    }
   },
   "outputs": [],
   "source": [
    "mape = mape_comp(plotting)\n",
    "plotting[[\"real\", \"predict\"]].iplot(title = f\"Mape: {mape:.2f}\")"
   ]
  },
  {
   "cell_type": "code",
   "execution_count": null,
   "metadata": {},
   "outputs": [],
   "source": [
    "args = {\n",
    " 'C': 2.755774956836988,\n",
    " 'epsilon': 5.408596056059513,\n",
    " 'mu': 0.3146715715576851,\n",
    " 'lmbda': 0.9776738672958843,\n",
    " 'gamma': 0.04544491870953434\n",
    "       }"
   ]
  }
 ],
 "metadata": {
  "kernelspec": {
   "display_name": "Python 3",
   "language": "python",
   "name": "python3"
  },
  "language_info": {
   "codemirror_mode": {
    "name": "ipython",
    "version": 3
   },
   "file_extension": ".py",
   "mimetype": "text/x-python",
   "name": "python",
   "nbconvert_exporter": "python",
   "pygments_lexer": "ipython3",
   "version": "3.7.7"
  },
  "toc": {
   "base_numbering": 1,
   "nav_menu": {},
   "number_sections": true,
   "sideBar": true,
   "skip_h1_title": false,
   "title_cell": "Table of Contents",
   "title_sidebar": "Contents",
   "toc_cell": false,
   "toc_position": {},
   "toc_section_display": true,
   "toc_window_display": false
  }
 },
 "nbformat": 4,
 "nbformat_minor": 4
}
