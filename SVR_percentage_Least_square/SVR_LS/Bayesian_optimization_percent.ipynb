{
 "cells": [
  {
   "cell_type": "markdown",
   "metadata": {},
   "source": [
    "## Libraries"
   ]
  },
  {
   "cell_type": "code",
   "execution_count": 154,
   "metadata": {
    "ExecuteTime": {
     "end_time": "2021-06-20T20:12:20.603115Z",
     "start_time": "2021-06-20T20:12:20.566124Z"
    }
   },
   "outputs": [],
   "source": [
    "import matplotlib.pyplot as plt\n",
    "import numpy as np\n",
    "from sklearn.preprocessing import MaxAbsScaler\n",
    "from sklearn.model_selection import train_test_split\n",
    "from sklearn.utils import check_random_state\n",
    "from sklearn.datasets import load_boston\n",
    "import pandas as pd\n",
    "from pathlib import Path"
   ]
  },
  {
   "cell_type": "code",
   "execution_count": 155,
   "metadata": {
    "ExecuteTime": {
     "end_time": "2021-06-20T20:12:21.131114Z",
     "start_time": "2021-06-20T20:12:21.108116Z"
    }
   },
   "outputs": [],
   "source": [
    "from sklearn.linear_model import LinearRegression, Lasso, Ridge"
   ]
  },
  {
   "cell_type": "code",
   "execution_count": 156,
   "metadata": {
    "ExecuteTime": {
     "end_time": "2021-06-20T20:12:21.552117Z",
     "start_time": "2021-06-20T20:12:21.534136Z"
    }
   },
   "outputs": [],
   "source": [
    "from bayes_opt import BayesianOptimization\n",
    "from bayes_opt import SequentialDomainReductionTransformer\n",
    "from bayes_opt import UtilityFunction\n",
    "from bayes_opt.logger import JSONLogger\n",
    "from bayes_opt.event import Events"
   ]
  },
  {
   "cell_type": "code",
   "execution_count": 157,
   "metadata": {
    "ExecuteTime": {
     "end_time": "2021-06-20T20:12:22.300116Z",
     "start_time": "2021-06-20T20:12:22.211116Z"
    }
   },
   "outputs": [],
   "source": [
    "%run SVR_LS_Library_percent.ipynb "
   ]
  },
  {
   "cell_type": "markdown",
   "metadata": {},
   "source": [
    "## Load data"
   ]
  },
  {
   "cell_type": "code",
   "execution_count": 158,
   "metadata": {
    "ExecuteTime": {
     "end_time": "2021-06-20T20:12:23.093112Z",
     "start_time": "2021-06-20T20:12:23.057116Z"
    }
   },
   "outputs": [],
   "source": [
    "rng = check_random_state(0)\n",
    "boston = load_boston()\n",
    "perm = rng.permutation(boston.target.size)\n",
    "boston.data = boston.data[perm]\n",
    "boston.target = boston.target[perm]\n",
    "# \n",
    "Y = boston.target\n",
    "X = boston.data"
   ]
  },
  {
   "cell_type": "code",
   "execution_count": 146,
   "metadata": {
    "ExecuteTime": {
     "end_time": "2021-06-20T16:51:03.143004Z",
     "start_time": "2021-06-20T16:51:03.118231Z"
    }
   },
   "outputs": [],
   "source": [
    "# X = pd.read_csv(\"newBostonStandard.csv\")\n",
    "# X = X.drop([\"Unnamed: 0\"], axis = 1)"
   ]
  },
  {
   "cell_type": "code",
   "execution_count": 147,
   "metadata": {
    "ExecuteTime": {
     "end_time": "2021-06-20T16:51:03.334843Z",
     "start_time": "2021-06-20T16:51:03.318429Z"
    }
   },
   "outputs": [],
   "source": [
    "# X = pd.DataFrame(X)\n",
    "# X = pd.get_dummies(X, columns = [\"3\"], prefix = \"dum\")"
   ]
  },
  {
   "cell_type": "code",
   "execution_count": 159,
   "metadata": {
    "ExecuteTime": {
     "end_time": "2021-06-20T20:12:34.041979Z",
     "start_time": "2021-06-20T20:12:34.021973Z"
    }
   },
   "outputs": [],
   "source": [
    "#split\n",
    "x_train, x_test, y_train, y_test = train_test_split(X, Y, test_size=0.2, random_state = 5)\n",
    "\n",
    "#normalize\n",
    "scaler = MaxAbsScaler().fit(x_train)\n",
    "X_train = scaler.transform(x_train); X_test = scaler.transform(x_test)\n",
    "\n",
    "scaler1 = MaxAbsScaler().fit(y_train.reshape(-1, 1))\n",
    "Y_train = scaler1.transform(y_train.reshape(-1, 1)).reshape(-1)\n",
    "Y_test = scaler1.transform(y_test.reshape(-1, 1)).reshape(-1)"
   ]
  },
  {
   "cell_type": "markdown",
   "metadata": {},
   "source": [
    "## Optimization function"
   ]
  },
  {
   "cell_type": "code",
   "execution_count": 160,
   "metadata": {
    "ExecuteTime": {
     "end_time": "2021-06-20T20:12:35.336246Z",
     "start_time": "2021-06-20T20:12:35.323248Z"
    }
   },
   "outputs": [],
   "source": [
    "def opt_bas(C, gamma):\n",
    "    \n",
    "    # parameters\n",
    "    hyperparameters = {\n",
    "        'kernel' : \"rbf\",\n",
    "        'C' : C, \n",
    "        'gamma' : gamma,\n",
    "    }\n",
    "    \n",
    "    # fit and predict\n",
    "    model = SVR_PerLs(**hyperparameters).fit(X_train, Y_train)\n",
    "\n",
    "    y_pred = model.predict(X_test)\n",
    "    \n",
    "    # rescale\n",
    "#     y_pred = scaler1.inverse_transform(predict.reshape(-1, 1)).reshape(-1)\n",
    "    \n",
    "    # get score\n",
    "    mape = np.mean(np.abs((Y_test - y_pred)/Y_test))*100\n",
    "    \n",
    "    return -mape"
   ]
  },
  {
   "cell_type": "markdown",
   "metadata": {},
   "source": [
    "## Run optimization"
   ]
  },
  {
   "cell_type": "code",
   "execution_count": 161,
   "metadata": {
    "ExecuteTime": {
     "end_time": "2021-06-20T20:12:36.239242Z",
     "start_time": "2021-06-20T20:12:36.223242Z"
    }
   },
   "outputs": [],
   "source": [
    "class newJSONLogger(JSONLogger):\n",
    "\n",
    "      def __init__(self, path):\n",
    "            self._path=None\n",
    "            super(JSONLogger, self).__init__()\n",
    "            self._path = path if path[-5:] == \".json\" else path + \".json\""
   ]
  },
  {
   "cell_type": "code",
   "execution_count": 164,
   "metadata": {
    "ExecuteTime": {
     "end_time": "2021-06-20T20:30:01.436131Z",
     "start_time": "2021-06-20T20:30:01.420163Z"
    }
   },
   "outputs": [],
   "source": [
    "# Bounded region of parameter space\n",
    "pbounds = {'C': (9, 10), 'gamma': (0.9, 1.1)}\n",
    "\n",
    "# Domain reduction function\n",
    "# bounds_transformer = SequentialDomainReductionTransformer()\n",
    "\n",
    "# Bayes optimizer instantiation\n",
    "optimizer = BayesianOptimization(f=opt_bas, \n",
    "                                 pbounds=pbounds, \n",
    "                                 random_state=1, verbose=2, \n",
    "#                                  bounds_transformer=bounds_transformer\n",
    "                                )\n",
    "\n",
    "# keep data\n",
    "log_path = Path().resolve() / \"Logs\" / \"Boston.json\"\n",
    "logger = newJSONLogger(path = str(log_path))\n",
    "optimizer.subscribe(Events.OPTIMIZATION_STEP, logger)"
   ]
  },
  {
   "cell_type": "code",
   "execution_count": 152,
   "metadata": {
    "ExecuteTime": {
     "end_time": "2021-06-20T16:53:43.104215Z",
     "start_time": "2021-06-20T16:53:41.780585Z"
    }
   },
   "outputs": [],
   "source": [
    "optimizer.probe(params={\"C\": 131.6135372548593, \"gamma\": 0.1926931038470609}, lazy = False)\n",
    "optimizer.probe(params={\"C\": 4, \"gamma\": 2}, lazy = False)\n",
    "optimizer.probe(params={\"C\": 7.628874476243877, \"gamma\": 1.1659271563361087}, lazy = False)"
   ]
  },
  {
   "cell_type": "code",
   "execution_count": null,
   "metadata": {
    "ExecuteTime": {
     "end_time": "2021-06-20T20:32:52.126847Z",
     "start_time": "2021-06-20T20:30:08.504349Z"
    }
   },
   "outputs": [],
   "source": [
    "optimizer.maximize(init_points=20, n_iter=400)"
   ]
  },
  {
   "cell_type": "code",
   "execution_count": null,
   "metadata": {},
   "outputs": [],
   "source": [
    "# from bayes_opt.util import load_logs\n",
    "\n",
    "\n",
    "# new_optimizer = BayesianOptimization(\n",
    "#     f=black_box_function,\n",
    "#     pbounds={\"x\": (-2, 2), \"y\": (-2, 2)},\n",
    "#     verbose=2,\n",
    "#     random_state=7,\n",
    "# )\n",
    "# log_path = Path().resolve() / \"Logs\" / \"test2.json\"\n",
    "# # New optimizer is loaded with previously seen points\n",
    "# load_logs(new_optimizer, logs=[\"./logs.json\"]);"
   ]
  }
 ],
 "metadata": {
  "kernelspec": {
   "display_name": "Python 3",
   "language": "python",
   "name": "python3"
  },
  "language_info": {
   "codemirror_mode": {
    "name": "ipython",
    "version": 3
   },
   "file_extension": ".py",
   "mimetype": "text/x-python",
   "name": "python",
   "nbconvert_exporter": "python",
   "pygments_lexer": "ipython3",
   "version": "3.7.7"
  },
  "toc": {
   "base_numbering": 1,
   "nav_menu": {},
   "number_sections": true,
   "sideBar": true,
   "skip_h1_title": false,
   "title_cell": "Table of Contents",
   "title_sidebar": "Contents",
   "toc_cell": false,
   "toc_position": {},
   "toc_section_display": true,
   "toc_window_display": false
  }
 },
 "nbformat": 4,
 "nbformat_minor": 4
}
