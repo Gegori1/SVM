{
 "cells": [
  {
   "cell_type": "code",
   "execution_count": 3,
   "metadata": {
    "ExecuteTime": {
     "end_time": "2021-06-17T18:38:02.963385Z",
     "start_time": "2021-06-17T18:38:02.936884Z"
    }
   },
   "outputs": [],
   "source": [
    "class SVRM_ls:\n",
    "    \n",
    "    def __init__(self, C = 0.1, kernel = \"linear\", **kernel_param):\n",
    "        import numpy as np\n",
    "        from numpy.linalg import inv\n",
    "        from sklearn.metrics.pairwise import pairwise_kernels\n",
    "        from sklearn.utils import check_X_y, check_array \n",
    "        self.C = C\n",
    "        self.kernel = kernel\n",
    "        self.pairwise_kernels = pairwise_kernels\n",
    "        self.kernel_param = kernel_param\n",
    "        self.check_X_y = check_X_y\n",
    "        self.check_array = check_array\n",
    "        self.inv = inv\n",
    "        \n",
    "    def fit(self, X, y):\n",
    "        X, y = self.check_X_y(X, y)\n",
    "        a = np.unique(y); c = np.array([-1, 1])\n",
    "        y = np.where(y == a[0], c[0], c[1])\n",
    "        self.c = c; self.a = a\n",
    "        # hyperparameters\n",
    "        C = self.C \n",
    "        \n",
    "        kernel = self.kernel\n",
    "        pairwise_kernels = self.pairwise_kernels\n",
    "        inv = self.inv\n",
    "        \n",
    "        # omega + upsilon\n",
    "        omega_ = pairwise_kernels(X, X, kernel, **self.kernel_param) \n",
    "        + np.identity(y.size)*((y**2)/C)\n",
    "        # ones vector\n",
    "        onev = np.ones(y.shape).reshape(-1, 1)\n",
    "        y = y.reshape(-1, 1)\n",
    "        \n",
    "        # solve for parameters\n",
    "        A = np.linalg.pinv(np.block([[0, onev.T],[onev, omega_]]))\n",
    "        B = np.concatenate((np.array([0]),y.reshape(-1)))\n",
    "        sol =  A @ B\n",
    "        \n",
    "        b = sol[0]\n",
    "        alpha = sol[1:]\n",
    "        \n",
    "        self.X = X\n",
    "        self.alpha = alpha; self.b = b\n",
    "        return self\n",
    "        \n",
    "    def predict(self, X_):\n",
    "        pairwise_kernels = self.pairwise_kernels\n",
    "        kernel_param = self.kernel_param\n",
    "        kernel = self.kernel\n",
    "        alpha = self.alpha\n",
    "        b = self.b\n",
    "        X = self.X\n",
    "        # rename label variables\n",
    "        c = self.c; a = self.a\n",
    "        \n",
    "        X_ = self.check_array(X_)\n",
    "        predict = alpha @ pairwise_kernels(X, X_, metric = kernel, **kernel_param) + b\n",
    "        predict1 = np.sign(predict)\n",
    "        predict2 = np.where(predict1 == c[0], a[0], a[1])\n",
    "        return predict2\n",
    "    \n",
    "    \n",
    "        # coefficient\n",
    "    def coef_(self):\n",
    "        if self.kernel == \"linear\":\n",
    "            alpha = self.alpha; X = self.X\n",
    "            w = alpha @ X\n",
    "            return w, self.b\n",
    "        else: \n",
    "            return self.alpha,  self.b, self.X"
   ]
  },
  {
   "cell_type": "code",
   "execution_count": 5,
   "metadata": {
    "ExecuteTime": {
     "end_time": "2021-03-12T20:07:13.973252Z",
     "start_time": "2021-03-12T20:07:13.949400Z"
    }
   },
   "outputs": [],
   "source": [
    "class plott:\n",
    "    @staticmethod\n",
    "    def line(X, w, b):\n",
    "        xmin, xmax = min(X[:,0])-1, max(X[:,0]+1)\n",
    "        X_ = np.arange(xmin, xmax, 0.1)\n",
    "    \n",
    "        plt.plot(X_,(-w[0]*X_-b)/w[1])\n",
    "    \n",
    "    @staticmethod\n",
    "    def scatter(X, y, m = \"o\"):\n",
    "        plt.scatter(X[:,0], X[:,1], c = y, marker = m)"
   ]
  },
  {
   "cell_type": "code",
   "execution_count": 20,
   "metadata": {
    "ExecuteTime": {
     "end_time": "2021-03-31T21:52:16.513808Z",
     "start_time": "2021-03-31T21:52:16.493894Z"
    }
   },
   "outputs": [],
   "source": [
    "class utilss:\n",
    "    @staticmethod\n",
    "    def contour_plot(X, y, kernel=\"linear\", C = 0.1, **kernel_param):\n",
    "        h = .02\n",
    "        x_min, x_max = X[:, 0].min() - 1, X[:, 0].max() + 1\n",
    "        y_min, y_max = X[:, 1].min() - 1, X[:, 1].max() + 1\n",
    "        xx, yy = np.meshgrid(np.arange(x_min, x_max, h),np.arange(y_min, y_max, h))\n",
    "        \n",
    "        Z = SVM_ls(C = C, kernel = kernel, **kernel_param).fit(X, y).predict(np.c_[xx.ravel(), yy.ravel()])\n",
    "        Z = Z.reshape(xx.shape)\n",
    "\n",
    "        plt.contourf(xx, yy, Z, cmap=plt.cm.coolwarm, alpha=0.8)\n",
    "        \n",
    "    @staticmethod\n",
    "    def X_random(X, n_predict):\n",
    "        max_min = np.array([[X[:,k].min(), X[:,k].max()] for k in range(X.shape[1])])\n",
    "        X_test0 = np.random.choice(np.arange(round(max_min[0][0]), round(max_min[0][1]), 0.1), n_predict)\n",
    "        max_min = np.delete(np.array(max_min),0,  axis = 0)\n",
    "        for i in max_min:\n",
    "            X_test1 = np.random.choice(np.arange(round(i[0]), round(i[1]), 0.1), n_predict)\n",
    "            X_test0 = np.c_[X_test0, X_test1]\n",
    "            X_test0.astype(\"float64\")\n",
    "        return X_test0"
   ]
  },
  {
   "cell_type": "code",
   "execution_count": null,
   "metadata": {},
   "outputs": [],
   "source": []
  }
 ],
 "metadata": {
  "kernelspec": {
   "display_name": "Python 3",
   "language": "python",
   "name": "python3"
  },
  "language_info": {
   "codemirror_mode": {
    "name": "ipython",
    "version": 3
   },
   "file_extension": ".py",
   "mimetype": "text/x-python",
   "name": "python",
   "nbconvert_exporter": "python",
   "pygments_lexer": "ipython3",
   "version": "3.7.7"
  },
  "toc": {
   "base_numbering": 1,
   "nav_menu": {},
   "number_sections": true,
   "sideBar": true,
   "skip_h1_title": false,
   "title_cell": "Table of Contents",
   "title_sidebar": "Contents",
   "toc_cell": false,
   "toc_position": {},
   "toc_section_display": true,
   "toc_window_display": false
  }
 },
 "nbformat": 4,
 "nbformat_minor": 4
}
