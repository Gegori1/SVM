{
 "cells": [
  {
   "cell_type": "code",
   "execution_count": 1,
   "id": "23556eed",
   "metadata": {
    "ExecuteTime": {
     "end_time": "2021-09-23T15:21:32.024607Z",
     "start_time": "2021-09-23T15:21:21.194144Z"
    }
   },
   "outputs": [],
   "source": [
    "import pandas as pd\n",
    "import numpy as np\n",
    "from sklearn import metrics\n",
    "from sklearn.svm import SVR"
   ]
  },
  {
   "cell_type": "markdown",
   "id": "e43388d9",
   "metadata": {},
   "source": [
    "### Importing the Boston Housing dataset"
   ]
  },
  {
   "cell_type": "code",
   "execution_count": 2,
   "id": "7d1f53bf",
   "metadata": {
    "ExecuteTime": {
     "end_time": "2021-09-23T15:21:32.227658Z",
     "start_time": "2021-09-23T15:21:32.028607Z"
    }
   },
   "outputs": [],
   "source": [
    "from sklearn.datasets import load_boston\n",
    "boston = load_boston()"
   ]
  },
  {
   "cell_type": "code",
   "execution_count": 3,
   "id": "15bae327",
   "metadata": {
    "ExecuteTime": {
     "end_time": "2021-09-23T15:21:32.242658Z",
     "start_time": "2021-09-23T15:21:32.230662Z"
    }
   },
   "outputs": [],
   "source": [
    "# Initializing the dataframe\n",
    "data = pd.DataFrame(boston.data)\n",
    "\n",
    "data.columns = boston.feature_names\n",
    "\n",
    "data['PRICE'] = boston.target "
   ]
  },
  {
   "cell_type": "code",
   "execution_count": 4,
   "id": "6ba7f7d0",
   "metadata": {
    "ExecuteTime": {
     "end_time": "2021-09-23T15:21:32.272657Z",
     "start_time": "2021-09-23T15:21:32.248660Z"
    }
   },
   "outputs": [],
   "source": [
    "# Spliting target variable and independent variables\n",
    "X = data.drop(['PRICE'], axis = 1)\n",
    "y = data['PRICE']"
   ]
  },
  {
   "cell_type": "code",
   "execution_count": 5,
   "id": "fb356699",
   "metadata": {
    "ExecuteTime": {
     "end_time": "2021-09-23T15:21:32.287693Z",
     "start_time": "2021-09-23T15:21:32.276660Z"
    }
   },
   "outputs": [],
   "source": [
    "# Splitting to training and testing data\n",
    "from sklearn.model_selection import train_test_split\n",
    "X_train, X_test, y_train, y_test = train_test_split(X,y, test_size = 0.3, random_state = 4)"
   ]
  },
  {
   "cell_type": "code",
   "execution_count": 6,
   "id": "714b2be0",
   "metadata": {
    "ExecuteTime": {
     "end_time": "2021-09-23T15:21:32.319656Z",
     "start_time": "2021-09-23T15:21:32.291657Z"
    }
   },
   "outputs": [],
   "source": [
    "# Creating scaled set to be used in model to improve our results\n",
    "from sklearn.preprocessing import StandardScaler\n",
    "sc = StandardScaler()\n",
    "X_train = sc.fit_transform(X_train)\n",
    "X_test = sc.transform(X_test)"
   ]
  },
  {
   "cell_type": "markdown",
   "id": "1436a590",
   "metadata": {},
   "source": [
    "### SVR ours"
   ]
  },
  {
   "cell_type": "code",
   "execution_count": 7,
   "id": "f16d284d",
   "metadata": {
    "ExecuteTime": {
     "end_time": "2021-09-23T15:21:32.582695Z",
     "start_time": "2021-09-23T15:21:32.323671Z"
    }
   },
   "outputs": [],
   "source": [
    "# Import SVR extended\n",
    "%run SVR_Library.ipynb "
   ]
  },
  {
   "cell_type": "code",
   "execution_count": 8,
   "id": "90845745",
   "metadata": {
    "ExecuteTime": {
     "end_time": "2021-09-23T15:21:34.057298Z",
     "start_time": "2021-09-23T15:21:32.585693Z"
    }
   },
   "outputs": [],
   "source": [
    "# Create a SVM Regressor\n",
    "model = SVR_(\n",
    "    kernel = \"rbf\", \n",
    "    C = 74.888336 , \n",
    "    epsilon = 0.156926, \n",
    "    gamma = 0.060984, \n",
    "    error = 0.1\n",
    ")\n",
    "# Train the model using the training sets \n",
    "model.fit(X_train,y_train);"
   ]
  },
  {
   "cell_type": "code",
   "execution_count": 9,
   "id": "320c0acf",
   "metadata": {
    "ExecuteTime": {
     "end_time": "2021-09-23T15:21:34.089285Z",
     "start_time": "2021-09-23T15:21:34.061286Z"
    }
   },
   "outputs": [],
   "source": [
    "# Model prediction on train data\n",
    "y_pred = model.predict(X_train)\n",
    "# Predicting Test data with the model\n",
    "y_test_pred = model.predict(X_test)"
   ]
  },
  {
   "cell_type": "code",
   "execution_count": 10,
   "id": "4883cd91",
   "metadata": {
    "ExecuteTime": {
     "end_time": "2021-09-23T15:21:34.136285Z",
     "start_time": "2021-09-23T15:21:34.098285Z"
    }
   },
   "outputs": [
    {
     "name": "stdout",
     "output_type": "stream",
     "text": [
      "SVR clasico\n",
      "R^2: 0.8907163806431596\n",
      "Adjusted R^2: 0.8804215469356311\n",
      "MAE: 2.073858042875206\n",
      "MSE: 11.411403432464109\n",
      "RMSE: 3.378076883740823\n",
      "MAPE 10.537101216205622\n"
     ]
    }
   ],
   "source": [
    "# Model Evaluation\n",
    "acc_svm = metrics.r2_score(y_test, y_test_pred)\n",
    "print('SVR clasico')\n",
    "print('R^2:', acc_svm)\n",
    "print('Adjusted R^2:',1 - (1-metrics.r2_score(y_test, y_test_pred))*(len(y_test)-1)/(len(y_test)-X_test.shape[1]-1))\n",
    "print('MAE:',metrics.mean_absolute_error(y_test, y_test_pred))\n",
    "print('MSE:',metrics.mean_squared_error(y_test, y_test_pred))\n",
    "print('RMSE:',np.sqrt(metrics.mean_squared_error(y_test, y_test_pred)))\n",
    "print('MAPE',np.mean(np.abs(( y_test - y_test_pred)/y_test))*100)"
   ]
  },
  {
   "cell_type": "code",
   "execution_count": 11,
   "id": "caed8814",
   "metadata": {
    "ExecuteTime": {
     "end_time": "2021-09-23T15:21:34.167283Z",
     "start_time": "2021-09-23T15:21:34.143284Z"
    }
   },
   "outputs": [
    {
     "data": {
      "text/plain": [
       "(354, 13)"
      ]
     },
     "execution_count": 11,
     "metadata": {},
     "output_type": "execute_result"
    }
   ],
   "source": [
    "model.coef_()[1].shape"
   ]
  },
  {
   "cell_type": "markdown",
   "id": "83a2ab53",
   "metadata": {},
   "source": [
    "### SVR ours cvxpy"
   ]
  },
  {
   "cell_type": "code",
   "execution_count": 12,
   "id": "e1b9a609",
   "metadata": {
    "ExecuteTime": {
     "end_time": "2021-09-23T15:21:34.229283Z",
     "start_time": "2021-09-23T15:21:34.171284Z"
    }
   },
   "outputs": [],
   "source": [
    "# Import SVR extended\n",
    "%run SVR_Library.ipynb"
   ]
  },
  {
   "cell_type": "code",
   "execution_count": 13,
   "id": "04354899",
   "metadata": {
    "ExecuteTime": {
     "end_time": "2021-09-23T15:21:39.872328Z",
     "start_time": "2021-09-23T15:21:34.233287Z"
    }
   },
   "outputs": [],
   "source": [
    "# Create a SVM Regressor\n",
    "model = SVR_cvxpy(\n",
    "    kernel = \"rbf\", \n",
    "    C = 74.888336 , \n",
    "    epsilon = 0.156926, \n",
    "    gamma = 0.060984, \n",
    "    error = 1e-4\n",
    ")\n",
    "# Train the model using the training sets \n",
    "model.fit(X_train,y_train);"
   ]
  },
  {
   "cell_type": "code",
   "execution_count": 14,
   "id": "8d489e08",
   "metadata": {
    "ExecuteTime": {
     "end_time": "2021-09-23T15:21:39.904333Z",
     "start_time": "2021-09-23T15:21:39.876330Z"
    }
   },
   "outputs": [],
   "source": [
    "# Model prediction on train data\n",
    "y_pred = model.predict(X_train)\n",
    "# Predicting Test data with the model\n",
    "y_test_pred = model.predict(X_test)"
   ]
  },
  {
   "cell_type": "code",
   "execution_count": 15,
   "id": "d49103b4",
   "metadata": {
    "ExecuteTime": {
     "end_time": "2021-09-23T15:21:39.936334Z",
     "start_time": "2021-09-23T15:21:39.908334Z"
    }
   },
   "outputs": [
    {
     "name": "stdout",
     "output_type": "stream",
     "text": [
      "SVR clasico\n",
      "R^2: 0.8916059564287211\n",
      "Adjusted R^2: 0.8813949233386731\n",
      "MAE: 2.058355598385911\n",
      "MSE: 11.318513864635587\n",
      "RMSE: 3.364299907058761\n",
      "MAPE 10.455853049699932\n"
     ]
    }
   ],
   "source": [
    "# Model Evaluation\n",
    "acc_svm = metrics.r2_score(y_test, y_test_pred)\n",
    "print('SVR clasico')\n",
    "print('R^2:', acc_svm)\n",
    "print('Adjusted R^2:',1 - (1-metrics.r2_score(y_test, y_test_pred))*(len(y_test)-1)/(len(y_test)-X_test.shape[1]-1))\n",
    "print('MAE:',metrics.mean_absolute_error(y_test, y_test_pred))\n",
    "print('MSE:',metrics.mean_squared_error(y_test, y_test_pred))\n",
    "print('RMSE:',np.sqrt(metrics.mean_squared_error(y_test, y_test_pred)))\n",
    "print('MAPE',np.mean(np.abs(( y_test - y_test_pred)/y_test))*100)"
   ]
  },
  {
   "cell_type": "code",
   "execution_count": 16,
   "id": "fe71d1a0",
   "metadata": {
    "ExecuteTime": {
     "end_time": "2021-09-23T15:21:39.951331Z",
     "start_time": "2021-09-23T15:21:39.940335Z"
    }
   },
   "outputs": [
    {
     "data": {
      "text/plain": [
       "(334, 13)"
      ]
     },
     "execution_count": 16,
     "metadata": {},
     "output_type": "execute_result"
    }
   ],
   "source": [
    "model.coef_()[1].shape"
   ]
  },
  {
   "cell_type": "code",
   "execution_count": null,
   "id": "a7d0d6ef",
   "metadata": {},
   "outputs": [],
   "source": []
  },
  {
   "cell_type": "markdown",
   "id": "83511c7f",
   "metadata": {},
   "source": [
    "### SVR Scikit-learn"
   ]
  },
  {
   "cell_type": "code",
   "execution_count": 17,
   "id": "3ddb4a0f",
   "metadata": {
    "ExecuteTime": {
     "end_time": "2021-09-23T15:21:40.046327Z",
     "start_time": "2021-09-23T15:21:39.956335Z"
    }
   },
   "outputs": [],
   "source": [
    "# Create a SVM Regressor\n",
    "model1 = SVR(\n",
    "    kernel = \"rbf\", \n",
    "    C = 74.888336 , \n",
    "    epsilon = 0.156926, \n",
    "    gamma = 0.060984\n",
    ")\n",
    "# Train the model using the training sets \n",
    "model1.fit(X_train,y_train);"
   ]
  },
  {
   "cell_type": "code",
   "execution_count": 18,
   "id": "0dea4b49",
   "metadata": {
    "ExecuteTime": {
     "end_time": "2021-09-23T15:21:40.125329Z",
     "start_time": "2021-09-23T15:21:40.049330Z"
    }
   },
   "outputs": [],
   "source": [
    "# Model prediction on train data\n",
    "y_pred = model1.predict(X_train)\n",
    "# Predicting Test data with the model\n",
    "y_test_pred = model1.predict(X_test)"
   ]
  },
  {
   "cell_type": "code",
   "execution_count": 19,
   "id": "5dd35746",
   "metadata": {
    "ExecuteTime": {
     "end_time": "2021-09-23T15:21:40.156332Z",
     "start_time": "2021-09-23T15:21:40.129337Z"
    }
   },
   "outputs": [
    {
     "name": "stdout",
     "output_type": "stream",
     "text": [
      "SVR clasico scklearn\n",
      "R^2: 0.8936365303322599\n",
      "Adjusted R^2: 0.8836167831896466\n",
      "MAE: 2.016761965128001\n",
      "MSE: 11.106481190854419\n",
      "RMSE: 3.332638772932707\n",
      "MAPE 10.073354025337828\n"
     ]
    }
   ],
   "source": [
    "# Model Evaluation\n",
    "acc_svm = metrics.r2_score(y_test, y_test_pred)\n",
    "print('SVR clasico scklearn')\n",
    "print('R^2:', acc_svm)\n",
    "print('Adjusted R^2:',1 - (1-metrics.r2_score(y_test, y_test_pred))*(len(y_test)-1)/(len(y_test)-X_test.shape[1]-1))\n",
    "print('MAE:',metrics.mean_absolute_error(y_test, y_test_pred))\n",
    "print('MSE:',metrics.mean_squared_error(y_test, y_test_pred))\n",
    "print('RMSE:',np.sqrt(metrics.mean_squared_error(y_test, y_test_pred)))\n",
    "print('MAPE',np.mean(np.abs(( y_test - y_test_pred)/y_test))*100)"
   ]
  }
 ],
 "metadata": {
  "kernelspec": {
   "display_name": "Python 3 (ipykernel)",
   "language": "python",
   "name": "python3"
  },
  "language_info": {
   "codemirror_mode": {
    "name": "ipython",
    "version": 3
   },
   "file_extension": ".py",
   "mimetype": "text/x-python",
   "name": "python",
   "nbconvert_exporter": "python",
   "pygments_lexer": "ipython3",
   "version": "3.9.9"
  },
  "toc": {
   "base_numbering": 1,
   "nav_menu": {},
   "number_sections": true,
   "sideBar": true,
   "skip_h1_title": false,
   "title_cell": "Table of Contents",
   "title_sidebar": "Contents",
   "toc_cell": false,
   "toc_position": {},
   "toc_section_display": true,
   "toc_window_display": false
  }
 },
 "nbformat": 4,
 "nbformat_minor": 5
}
