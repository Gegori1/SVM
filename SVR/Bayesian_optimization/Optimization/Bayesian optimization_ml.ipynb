{
 "cells": [
  {
   "cell_type": "code",
   "execution_count": 2,
   "metadata": {
    "ExecuteTime": {
     "end_time": "2021-04-15T01:39:19.706713Z",
     "start_time": "2021-04-15T01:39:17.637555Z"
    }
   },
   "outputs": [],
   "source": [
    "import matplotlib.pyplot as plt\n",
    "import numpy as np\n",
    "from sklearn.preprocessing import MaxAbsScaler\n",
    "from sklearn.model_selection import train_test_split\n",
    "import pandas as pd\n",
    "from datetime import datetime\n",
    "from pathlib import Path"
   ]
  },
  {
   "cell_type": "code",
   "execution_count": 2,
   "metadata": {
    "ExecuteTime": {
     "end_time": "2021-04-14T22:51:57.978346Z",
     "start_time": "2021-04-14T22:51:57.919431Z"
    }
   },
   "outputs": [],
   "source": [
    "from bayes_opt import BayesianOptimization\n",
    "from bayes_opt import SequentialDomainReductionTransformer\n",
    "from bayes_opt import UtilityFunction\n",
    "from bayes_opt.logger import JSONLogger\n",
    "from bayes_opt.event import Events"
   ]
  },
  {
   "cell_type": "code",
   "execution_count": 3,
   "metadata": {
    "ExecuteTime": {
     "end_time": "2021-04-14T22:51:59.743436Z",
     "start_time": "2021-04-14T22:51:57.983370Z"
    }
   },
   "outputs": [],
   "source": [
    "%run SVR_MAPE_Library.ipynb # SVR_general_cvxopt + IterativeRun"
   ]
  },
  {
   "cell_type": "code",
   "execution_count": 3,
   "metadata": {
    "ExecuteTime": {
     "end_time": "2021-04-15T01:39:23.520707Z",
     "start_time": "2021-04-15T01:39:22.977291Z"
    }
   },
   "outputs": [],
   "source": [
    "data_path = Path().resolve().parent / \"Data\" / \"Data1.xlsx\"\n",
    "y1 =pd.read_excel(data_path).set_index(\"fecha\").loc[\"2007-01-01\":\"2019-08-25\"]\n",
    "X1 = pd.read_csv(\"X.csv\")\n",
    "\n",
    "X = X1.drop([\"fecha\"], axis = 1).to_numpy(); y = y1.to_numpy()\n",
    "\n",
    "# X, X_test, y, y_test = train_test_split(X, y, test_size = 100, shuffle = False)\n",
    "\n",
    "# scaler = MaxAbsScaler(); scaler.fit(X); X = scaler.transform(X)\n",
    "# X_test = scaler.transform(X_test)\n",
    "\n",
    "# scaler1 = MaxAbsScaler(); scaler1.fit(y); y = scaler1.transform(y).reshape(-1)"
   ]
  },
  {
   "cell_type": "markdown",
   "metadata": {},
   "source": [
    "# Run optimization"
   ]
  },
  {
   "cell_type": "code",
   "execution_count": 9,
   "metadata": {
    "ExecuteTime": {
     "end_time": "2021-04-14T22:57:15.516490Z",
     "start_time": "2021-04-14T22:57:15.508516Z"
    }
   },
   "outputs": [],
   "source": [
    "# Initialize the iterative model. Create folder on pickle folder first\n",
    "itrrun = IterativeRun(folder = \"probe\", n = 40, itr = 1)"
   ]
  },
  {
   "cell_type": "code",
   "execution_count": 10,
   "metadata": {
    "ExecuteTime": {
     "end_time": "2021-04-14T22:57:16.064170Z",
     "start_time": "2021-04-14T22:57:16.051173Z"
    }
   },
   "outputs": [],
   "source": [
    "class newJSONLogger(JSONLogger):\n",
    "\n",
    "      def __init__(self, path):\n",
    "            self._path=None\n",
    "            super(JSONLogger, self).__init__()\n",
    "            self._path = path if path[-5:] == \".json\" else path + \".json\""
   ]
  },
  {
   "cell_type": "code",
   "execution_count": 11,
   "metadata": {
    "ExecuteTime": {
     "end_time": "2021-04-14T22:57:16.419797Z",
     "start_time": "2021-04-14T22:57:16.411850Z"
    }
   },
   "outputs": [],
   "source": [
    "# Bounded region of parameter space\n",
    "pbounds = {'C': (0.1, 10), 'epsilon': (0.01, 10), 'gamma': (0.0001, 0.1), 'mu': (0.001, 1), 'lmbda': (0.001, 1)}\n",
    "\n",
    "# Domain reduction function\n",
    "# bounds_transformer = SequentialDomainReductionTransformer()\n",
    "\n",
    "# Bayes optimizer instantiation\n",
    "optimizer = BayesianOptimization(f=itrrun.bas_optit, \n",
    "                                 pbounds=pbounds, \n",
    "                                 random_state=1, verbose=2, \n",
    "#                                  bounds_transformer=bounds_transformer\n",
    "                                )\n",
    "\n",
    "# keep data\n",
    "log_path = Path().resolve().parent / \"Logs\" / \"log_probe.json\"\n",
    "logger = newJSONLogger(path = log_path)\n",
    "optimizer.subscribe(Events.OPTIMIZATION_STEP, logger)"
   ]
  },
  {
   "cell_type": "code",
   "execution_count": 12,
   "metadata": {
    "ExecuteTime": {
     "end_time": "2021-04-14T22:58:17.758953Z",
     "start_time": "2021-04-14T22:57:17.054864Z"
    }
   },
   "outputs": [],
   "source": [
    "optimizer.maximize(init_points=0, n_iter=0)"
   ]
  },
  {
   "cell_type": "markdown",
   "metadata": {
    "heading_collapsed": true
   },
   "source": [
    "# Optimization utilities"
   ]
  },
  {
   "cell_type": "code",
   "execution_count": null,
   "metadata": {
    "hidden": true
   },
   "outputs": [],
   "source": [
    "# optimizer.probe(\n",
    "#     params={\"C\": 0.5, \"epsilon\": 0.01, \"gamma\": 0.02, \"mu\": -0.3},\n",
    "#     lazy=True,\n",
    "# )"
   ]
  },
  {
   "cell_type": "code",
   "execution_count": 117,
   "metadata": {
    "ExecuteTime": {
     "end_time": "2021-04-08T03:43:24.606538Z",
     "start_time": "2021-04-08T03:43:24.586587Z"
    },
    "hidden": true
   },
   "outputs": [],
   "source": [
    "# utility = UtilityFunction(kind=\"ucb\", kappa=2.575, xi=0.0)\n",
    "# opt_iter = 20\n",
    "# # run model for lmbda and mu negative values\n",
    "# for _ in range(opt_iter):\n",
    "#     nwval = optimizer.suggest(utility)\n",
    "#     while nwval['lmbda'] + nwval['mu'] <= 0:\n",
    "#         nwval = optimizer.suggest(utility) \n",
    "#     target = bas_optit(**nwval)\n",
    "#     optimizer.register(params=nwval,target=target)"
   ]
  },
  {
   "cell_type": "code",
   "execution_count": 75,
   "metadata": {
    "ExecuteTime": {
     "end_time": "2021-04-07T21:58:12.669371Z",
     "start_time": "2021-04-07T21:58:12.656406Z"
    },
    "hidden": true
   },
   "outputs": [],
   "source": [
    "# def opt_filter(C, epsilon, gamma, mu, lmbda):\n",
    "#     if mu + lmbda <= 0:\n",
    "#         mu = abs(mu)\n",
    "#         lmbda = abs(lmbda)\n",
    "#     return bas_optit(C, epsilon, gamma, mu, lmbda)"
   ]
  },
  {
   "cell_type": "code",
   "execution_count": 76,
   "metadata": {
    "ExecuteTime": {
     "end_time": "2021-04-07T21:58:13.227577Z",
     "start_time": "2021-04-07T21:58:13.224549Z"
    },
    "hidden": true
   },
   "outputs": [],
   "source": [
    "# def bas_opt(C, epsilon, gamma, mu, lmbda):\n",
    "#     predict = SVR_general_cvxopt(kernel = \"rbf\", C = C, epsilon = epsilon, mu = mu, lmbda = lmbda, gamma = gamma).fit(X, y).predict(X_test)\n",
    "#     y_pred = scaler1.inverse_transform(predict.reshape(-1, 1))\n",
    "    \n",
    "#     return -np.mean(np.abs((y_pred - y_test)/y_test))*100"
   ]
  },
  {
   "cell_type": "markdown",
   "metadata": {
    "heading_collapsed": true
   },
   "source": [
    "# Schenell test"
   ]
  },
  {
   "cell_type": "markdown",
   "metadata": {
    "hidden": true
   },
   "source": [
    "### Model 2 (mu)"
   ]
  },
  {
   "cell_type": "code",
   "execution_count": 32,
   "metadata": {
    "ExecuteTime": {
     "end_time": "2021-04-11T00:53:59.473738Z",
     "start_time": "2021-04-11T00:51:55.891544Z"
    },
    "hidden": true
   },
   "outputs": [],
   "source": [
    "hyp = {\n",
    "    'kernel' : \"rbf\",\n",
    "    \"C\": 4.228517846555483, \n",
    "       \"epsilon\": 7.20604168948716, \n",
    "       \"gamma\": 0.0010113231069171437, \n",
    "       \"mu\": 0.7423118951773942\n",
    "}\n",
    "cvs = SVR_general_cvxopt(**hyp).fit(X, y)"
   ]
  },
  {
   "cell_type": "code",
   "execution_count": 33,
   "metadata": {
    "ExecuteTime": {
     "end_time": "2021-04-11T00:53:59.519851Z",
     "start_time": "2021-04-11T00:53:59.475794Z"
    },
    "hidden": true
   },
   "outputs": [],
   "source": [
    "pre = cvs.predict(X_test)"
   ]
  },
  {
   "cell_type": "code",
   "execution_count": 34,
   "metadata": {
    "ExecuteTime": {
     "end_time": "2021-04-11T00:55:42.363213Z",
     "start_time": "2021-04-11T00:55:42.345298Z"
    },
    "hidden": true
   },
   "outputs": [],
   "source": [
    "pre = scaler1.inverse_transform(pre.reshape(-1, 1))"
   ]
  },
  {
   "cell_type": "code",
   "execution_count": 35,
   "metadata": {
    "ExecuteTime": {
     "end_time": "2021-04-11T00:55:43.427511Z",
     "start_time": "2021-04-11T00:55:43.112157Z"
    },
    "hidden": true
   },
   "outputs": [
    {
     "data": {
      "text/plain": [
       "[<matplotlib.lines.Line2D at 0x1e35ee9bcc8>]"
      ]
     },
     "execution_count": 35,
     "metadata": {},
     "output_type": "execute_result"
    },
    {
     "data": {
      "image/png": "[encoded data removed]",
      "text/plain": [
       "<Figure size 432x288 with 1 Axes>"
      ]
     },
     "metadata": {
      "needs_background": "light"
     },
     "output_type": "display_data"
    }
   ],
   "source": [
    "plt.plot(y_test)\n",
    "plt.plot(pre)"
   ]
  },
  {
   "cell_type": "code",
   "execution_count": 38,
   "metadata": {
    "ExecuteTime": {
     "end_time": "2021-04-11T00:57:58.873750Z",
     "start_time": "2021-04-11T00:57:58.863741Z"
    },
    "hidden": true
   },
   "outputs": [
    {
     "data": {
      "text/plain": [
       "2.429385277385241"
      ]
     },
     "execution_count": 38,
     "metadata": {},
     "output_type": "execute_result"
    }
   ],
   "source": [
    "np.mean(np.abs((y_test - pre)/y_test))*100"
   ]
  },
  {
   "cell_type": "markdown",
   "metadata": {
    "hidden": true
   },
   "source": [
    "### Model 1 (lmbda_mu)"
   ]
  },
  {
   "cell_type": "code",
   "execution_count": 85,
   "metadata": {
    "ExecuteTime": {
     "end_time": "2021-04-11T02:03:35.184856Z",
     "start_time": "2021-04-11T02:02:34.524371Z"
    },
    "hidden": true
   },
   "outputs": [],
   "source": [
    "hyp = {\n",
    "    'kernel' : \"rbf\",\n",
    "    \"C\": 4.228517846555483, \n",
    "    \"epsilon\": 7.20604168948716, \n",
    "    \"gamma\": 0.0010113231069171437, \n",
    "    \"lmbda\": 1.5186395374328805, \n",
    "    \"mu\": 0.7423118951773942}\n",
    "cvs2 = SVR_general_cvxopt(**hyp).fit(X, y)"
   ]
  },
  {
   "cell_type": "code",
   "execution_count": 86,
   "metadata": {
    "ExecuteTime": {
     "end_time": "2021-04-11T02:03:35.230883Z",
     "start_time": "2021-04-11T02:03:35.186910Z"
    },
    "hidden": true
   },
   "outputs": [],
   "source": [
    "pre2 = cvs2.predict(X_test)"
   ]
  },
  {
   "cell_type": "code",
   "execution_count": 87,
   "metadata": {
    "ExecuteTime": {
     "end_time": "2021-04-11T02:03:35.245872Z",
     "start_time": "2021-04-11T02:03:35.234869Z"
    },
    "hidden": true
   },
   "outputs": [],
   "source": [
    "pre2 = scaler1.inverse_transform(pre2.reshape(-1, 1))"
   ]
  },
  {
   "cell_type": "code",
   "execution_count": 88,
   "metadata": {
    "ExecuteTime": {
     "end_time": "2021-04-11T02:03:35.463257Z",
     "start_time": "2021-04-11T02:03:35.249830Z"
    },
    "hidden": true
   },
   "outputs": [
    {
     "data": {
      "text/plain": [
       "[<matplotlib.lines.Line2D at 0x1e305523c08>]"
      ]
     },
     "execution_count": 88,
     "metadata": {},
     "output_type": "execute_result"
    },
    {
     "data": {
      "image/png": "[encoded data removed]",
      "text/plain": [
       "<Figure size 432x288 with 1 Axes>"
      ]
     },
     "metadata": {
      "needs_background": "light"
     },
     "output_type": "display_data"
    }
   ],
   "source": [
    "plt.plot(y_test)\n",
    "plt.plot(pre2)"
   ]
  },
  {
   "cell_type": "code",
   "execution_count": 89,
   "metadata": {
    "ExecuteTime": {
     "end_time": "2021-04-11T02:03:35.479216Z",
     "start_time": "2021-04-11T02:03:35.466251Z"
    },
    "hidden": true
   },
   "outputs": [
    {
     "data": {
      "text/plain": [
       "1.8416601559050254"
      ]
     },
     "execution_count": 89,
     "metadata": {},
     "output_type": "execute_result"
    }
   ],
   "source": [
    "np.mean(np.abs((y_test - pre2)/y_test))*100"
   ]
  },
  {
   "cell_type": "markdown",
   "metadata": {
    "ExecuteTime": {
     "end_time": "2021-04-08T17:42:49.801694Z",
     "start_time": "2021-04-08T17:42:49.793715Z"
    },
    "heading_collapsed": true
   },
   "source": [
    "# Econn"
   ]
  },
  {
   "cell_type": "code",
   "execution_count": 76,
   "metadata": {
    "ExecuteTime": {
     "end_time": "2021-04-09T00:20:42.526984Z",
     "start_time": "2021-04-09T00:20:42.515981Z"
    },
    "hidden": true
   },
   "outputs": [],
   "source": [
    "from sklearn.metrics.pairwise import pairwise_kernels, linear_kernel, rbf_kernel"
   ]
  },
  {
   "cell_type": "code",
   "execution_count": 27,
   "metadata": {
    "ExecuteTime": {
     "end_time": "2021-04-08T23:26:48.611380Z",
     "start_time": "2021-04-08T23:26:48.594434Z"
    },
    "hidden": true
   },
   "outputs": [],
   "source": [
    "class Coca():\n",
    "    def __init__(self, kernel = \"linear\", **rest):\n",
    "        self.kernel = kernel\n",
    "        self.rest = rest\n",
    "        \n",
    "    def create_kernel(self, X):\n",
    "        kernel = self.kernel\n",
    "        rest = self.rest\n",
    "        \n",
    "        def create(X, kernel):\n",
    "            if kernel == \"linear\":\n",
    "                K = pairwise_kernels(X, X, metric = \"linear\")\n",
    "            else:\n",
    "                K = pairwise_kernels(X, X, metric = kernel, **rest)\n",
    "                \n",
    "            return K\n",
    "        \n",
    "        def run():\n",
    "            \n",
    "            one = create(X, \"linear\")\n",
    "            \n",
    "            other = (kernel, rest.values())\n",
    "            two = create(X, kernel)\n",
    "            \n",
    "            self.one = one; self.two = two\n",
    "            return self\n",
    "        \n",
    "        return run()\n",
    "        \n",
    "    def ocation(self):\n",
    "        return self.one, self.two"
   ]
  },
  {
   "cell_type": "code",
   "execution_count": 36,
   "metadata": {
    "ExecuteTime": {
     "end_time": "2021-04-08T23:35:48.606309Z",
     "start_time": "2021-04-08T23:35:48.049849Z"
    },
    "hidden": true
   },
   "outputs": [],
   "source": [
    "un, dos = Coca(kernel = \"linear\", gamma = 0.01).create_kernel(X).ocation()"
   ]
  }
 ],
 "metadata": {
  "kernelspec": {
   "display_name": "Python 3",
   "language": "python",
   "name": "python3"
  },
  "language_info": {
   "codemirror_mode": {
    "name": "ipython",
    "version": 3
   },
   "file_extension": ".py",
   "mimetype": "text/x-python",
   "name": "python",
   "nbconvert_exporter": "python",
   "pygments_lexer": "ipython3",
   "version": "3.7.7"
  },
  "toc": {
   "base_numbering": 1,
   "nav_menu": {},
   "number_sections": true,
   "sideBar": true,
   "skip_h1_title": false,
   "title_cell": "Table of Contents",
   "title_sidebar": "Contents",
   "toc_cell": false,
   "toc_position": {},
   "toc_section_display": true,
   "toc_window_display": false
  }
 },
 "nbformat": 4,
 "nbformat_minor": 4
}
