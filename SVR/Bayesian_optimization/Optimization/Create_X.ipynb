{
 "cells": [
  {
   "cell_type": "markdown",
   "metadata": {},
   "source": [
    "# Importar librerias"
   ]
  },
  {
   "cell_type": "code",
   "execution_count": 81,
   "metadata": {
    "ExecuteTime": {
     "end_time": "2021-04-14T22:22:22.010989Z",
     "start_time": "2021-04-14T22:22:21.992999Z"
    }
   },
   "outputs": [],
   "source": [
    "c = 365 # Valor para variables climaticas"
   ]
  },
  {
   "cell_type": "code",
   "execution_count": 55,
   "metadata": {
    "ExecuteTime": {
     "end_time": "2021-04-14T03:58:39.469625Z",
     "start_time": "2021-04-14T03:58:39.396782Z"
    }
   },
   "outputs": [],
   "source": [
    "import time\n",
    "start = time.time()\n",
    "#importar datos y librerias\n",
    "\n",
    "import numpy as np\n",
    "import pandas as pd\n",
    "import matplotlib.pyplot as plt\n",
    "\n",
    "from datetime import datetime\n",
    "from scipy import signal\n",
    "from scipy import special\n",
    "from scipy.ndimage.interpolation import shift\n",
    "from statsmodels.tsa.seasonal import seasonal_decompose\n",
    "\n",
    "from pmdarima.arima import auto_arima\n",
    "from statsmodels.tsa.arima_model import ARIMA\n",
    "from sklearn.linear_model import Lasso, LinearRegression\n",
    "from sklearn.model_selection import train_test_split\n",
    "\n",
    "import warnings\n",
    "warnings.filterwarnings(\"ignore\", category=RuntimeWarning)\n",
    "from pathlib import Path"
   ]
  },
  {
   "cell_type": "code",
   "execution_count": 56,
   "metadata": {
    "ExecuteTime": {
     "end_time": "2021-04-14T03:58:39.514765Z",
     "start_time": "2021-04-14T03:58:39.472576Z"
    }
   },
   "outputs": [
    {
     "data": {
      "text/html": [
       "        <script type=\"text/javascript\">\n",
       "        window.PlotlyConfig = {MathJaxConfig: 'local'};\n",
       "        if (window.MathJax) {MathJax.Hub.Config({SVG: {font: \"STIX-Web\"}});}\n",
       "        if (typeof require !== 'undefined') {\n",
       "        require.undef(\"plotly\");\n",
       "        requirejs.config({\n",
       "            paths: {\n",
       "                'plotly': ['https://cdn.plot.ly/plotly-latest.min']\n",
       "            }\n",
       "        });\n",
       "        require(['plotly'], function(Plotly) {\n",
       "            window._Plotly = Plotly;\n",
       "        });\n",
       "        }\n",
       "        </script>\n",
       "        "
      ]
     },
     "metadata": {},
     "output_type": "display_data"
    }
   ],
   "source": [
    "# Plotly\n",
    "import chart_studio.plotly as ply\n",
    "import cufflinks as cf\n",
    "cf.go_offline()"
   ]
  },
  {
   "cell_type": "markdown",
   "metadata": {},
   "source": [
    "# Funciones"
   ]
  },
  {
   "cell_type": "code",
   "execution_count": 57,
   "metadata": {
    "ExecuteTime": {
     "end_time": "2021-04-14T03:58:39.546719Z",
     "start_time": "2021-04-14T03:58:39.518799Z"
    }
   },
   "outputs": [],
   "source": [
    "# para calcular el mape\n",
    "def Mape(y,y_pred):\n",
    "    return np.mean(np.abs((y-y_pred)/y))*100\n",
    "\n",
    "# para hacer kronecker por fila\n",
    "def kronecker(data1:'Dataframe 1',data2:'Dataframe 2'):\n",
    "    Combinacion = pd.DataFrame(); d1 = pd.DataFrame()\n",
    "    for i in data2.columns:\n",
    "        d1 = data1.multiply(data2[f\"{i}\"] , axis=\"index\")\n",
    "        d1.columns = [f'{i}_{j}' for j in data1.columns]\n",
    "        Combinacion = pd.concat([Combinacion, d1], axis = 1)\n",
    "    return Combinacion\n",
    "\n",
    "# para crear variables difusas\n",
    "def triangular():\n",
    "    # Se crea x\n",
    "    ma = pd.DataFrame();\n",
    "    x = consumofeb.index.dayofyear.tolist()\n",
    "    # Se crean variables a, b y c\n",
    "    height = difs()\n",
    "    for hei in height:\n",
    "        ba = pd.DataFrame(x, columns=[\"x\"])\n",
    "        ba[\"a\"] = height[hei][0]\n",
    "        ba[\"b\"] = height[hei][1]\n",
    "        ba[\"c\"] = height[hei][2]\n",
    "        # Variable difusa\n",
    "        ca = pd.DataFrame()\n",
    "        ca[\"bo\"] = (ba.x-ba.a)/(ba.b-ba.a)\n",
    "        ca[\"ba\"] = (ba.c-ba.x)/(ba.c-ba.b)\n",
    "        ca = ca.min(axis = 1)\n",
    "        ca[ca<0]=0\n",
    "        ma = pd.concat([ma, ca], axis = 1) # Se concatenan\n",
    "        \n",
    "    ma.index = consumofeb.index\n",
    "    ma.columns = height.keys()\n",
    "    return ma"
   ]
  },
  {
   "cell_type": "code",
   "execution_count": 58,
   "metadata": {
    "ExecuteTime": {
     "end_time": "2021-04-14T03:58:39.589566Z",
     "start_time": "2021-04-14T03:58:39.549673Z"
    }
   },
   "outputs": [],
   "source": [
    "def calor():\n",
    "    # Inicializar posicion de datos variables difusas\n",
    "\n",
    "    calor1 = [9, 151, 365.25+9]\n",
    "    calor2 = [9-365.25, 151-365.25, 9]\n",
    "    frio1 = [151-365.25, 9, 151]\n",
    "    frio2 = [151, 365.25+9, 365.25+365.25]\n",
    "\n",
    "    height = {'calor1': calor1, 'calor2': calor2, 'frio1': frio1, 'frio2': frio2} \n",
    "    return height\n",
    "\n",
    "# para crear variables difusas\n",
    "def triangular1():\n",
    "    \n",
    "    # Se crea x\n",
    "    ma = pd.DataFrame();\n",
    "    x = consumofeb.index.dayofyear.to_list()\n",
    "    # Se crean variables a, b y c\n",
    "    height = calor()\n",
    "    for hei in height:\n",
    "        ba = pd.DataFrame(x, columns=[\"x\"])\n",
    "        ba[\"a\"] = height[hei][0]\n",
    "        ba[\"b\"] = height[hei][1]\n",
    "        ba[\"c\"] = height[hei][2]\n",
    "        # Variable difusa\n",
    "        ca = pd.DataFrame()\n",
    "        ca[\"bo\"] = (ba.x-ba.a)/(ba.b-ba.a)\n",
    "        ca[\"ba\"] = (ba.c-ba.x)/(ba.c-ba.b)\n",
    "        ca = ca.min(axis = 1)\n",
    "        ca[ca<0]=0\n",
    "        ma = pd.concat([ma, ca], axis = 1) # Se concatenan\n",
    "\n",
    "    ma.index = consumofeb.index\n",
    "    ma.columns = height.keys()\n",
    "    return ma"
   ]
  },
  {
   "cell_type": "markdown",
   "metadata": {},
   "source": [
    "# Cargar datos"
   ]
  },
  {
   "cell_type": "code",
   "execution_count": 59,
   "metadata": {
    "ExecuteTime": {
     "end_time": "2021-04-14T03:58:41.076889Z",
     "start_time": "2021-04-14T03:58:39.599540Z"
    }
   },
   "outputs": [],
   "source": [
    "def cargar():\n",
    "    # variables climaticas\n",
    "    path_consumofeb = Path().relative().parent / \"Data\" / \"Consumo_feb.xlsx\"\n",
    "    consumofeb=pd.read_excel(path_consumofeb).set_index(\"fecha\").loc[\"2007-01-01\":\"2020-03-30\"] # desde el 2007\n",
    "    consumofeb=consumofeb.drop([\"prom\",\"Lluvia\",\"Velocidad_viento\"],1) # variables no importantes para el modelo\n",
    "    #variables de consumo MWh\n",
    "    path_consumo = Path().relative().parent / \"Data\" / \"Data1.xlsx\"\n",
    "    consumo=pd.read_excel(path_consumo).set_index(\"fecha\").loc[\"2007-01-01\":\"2020-03-30\"]  # consumo de energia en MWh\n",
    "    while True:\n",
    "        if len(consumofeb.index) != len(consumo.index): \n",
    "            raise RuntimeError(\"Climatic variable and consumption variable length does not match\")\n",
    "            break\n",
    "        else: return consumo, consumofeb\n",
    "\n",
    "consumo, consumofeb = cargar()"
   ]
  },
  {
   "cell_type": "code",
   "execution_count": 60,
   "metadata": {
    "ExecuteTime": {
     "end_time": "2021-04-14T03:58:41.092643Z",
     "start_time": "2021-04-14T03:58:41.078952Z"
    }
   },
   "outputs": [
    {
     "name": "stdout",
     "output_type": "stream",
     "text": [
      "ok\n"
     ]
    }
   ],
   "source": [
    "if len(consumofeb.index) == len(consumo.index): print(\"ok\")"
   ]
  },
  {
   "cell_type": "markdown",
   "metadata": {},
   "source": [
    " # Variables difusas"
   ]
  },
  {
   "cell_type": "code",
   "execution_count": 61,
   "metadata": {
    "ExecuteTime": {
     "end_time": "2021-04-14T03:58:41.123593Z",
     "start_time": "2021-04-14T03:58:41.100625Z"
    }
   },
   "outputs": [],
   "source": [
    "def difs():\n",
    "    # Inicializar posicion de datos variables difusas\n",
    "\n",
    "    inv1 = [310.5-365.25, 8.6529, 138.941176470588]\n",
    "    pr = [8.6529, 138.941176470588, 221.9375]\n",
    "    vr = [138.941176470588, 221.9375, 310.5]\n",
    "    ot = [221.9375, 310.5, 365.25+8.6529]\n",
    "    ot2 = [221.9375-365.25, 310.5-365.25, 8.6529]\n",
    "    inv2 = [310.5, 365.25+8.6529, 365.25+138.941176470588]\n",
    "\n",
    "    height = {'Invierno1': inv1,'Primavera': pr,'verano': vr,'Otoño': ot,'Otoño2': ot2,'Invierno2': inv2,} \n",
    "    return height "
   ]
  },
  {
   "cell_type": "markdown",
   "metadata": {},
   "source": [
    "-  Para graficar"
   ]
  },
  {
   "cell_type": "code",
   "execution_count": 79,
   "metadata": {
    "ExecuteTime": {
     "end_time": "2021-04-14T22:22:07.978456Z",
     "start_time": "2021-04-14T22:22:07.937523Z"
    }
   },
   "outputs": [],
   "source": [
    "# triangular().iplot()"
   ]
  },
  {
   "cell_type": "code",
   "execution_count": 80,
   "metadata": {
    "ExecuteTime": {
     "end_time": "2021-04-14T22:22:08.072173Z",
     "start_time": "2021-04-14T22:22:08.061203Z"
    }
   },
   "outputs": [],
   "source": [
    "# triangular1().iplot()"
   ]
  },
  {
   "cell_type": "markdown",
   "metadata": {},
   "source": [
    "# Variables climaticas"
   ]
  },
  {
   "cell_type": "code",
   "execution_count": 64,
   "metadata": {
    "ExecuteTime": {
     "end_time": "2021-04-14T03:58:44.863614Z",
     "start_time": "2021-04-14T03:58:44.845449Z"
    }
   },
   "outputs": [],
   "source": [
    "def pba(j, n):\n",
    "    # armonicos\n",
    "    f, asd = signal.periodogram(consumofeb[j], 1)\n",
    "#     plt.figure()\n",
    "#     plt.plot(1/f, asd)\n",
    "    picos = pd.DataFrame(asd, 1/(f), columns=[\"potencia\"])\n",
    "    picos = picos.sort_values(by=\"potencia\",ascending=False).reset_index().head(12)\n",
    "    picos.columns = [\"periodo\", \"potencia\"]\n",
    "    #fourier\n",
    "    sencos = pd.DataFrame(index = consumofeb.index)\n",
    "    t = np.arange(1,len(consumofeb)+1)\n",
    "    sencos[\"t\"]=t\n",
    "    for i  in  picos.periodo:\n",
    "            sencos[f\"{i:.2f}_sen\"] = np.abs(np.sin(((2*np.pi)/(i))*t))\n",
    "            sencos[f\"{i:.2f}_cos\"] = np.abs(np.cos(((2*np.pi)/(i))*t))\n",
    "    sencos['ones']=1\n",
    "    sencos['sen1']=np.abs(np.sin(((2*np.pi)/(365.25))*t))\n",
    "    sencos['cos1']=np.abs(np.cos(((2*np.pi)/(365.25))*t))\n",
    "    \n",
    "    triangular_ = pd.concat([triangular(), triangular1()], axis = 1)\n",
    "    sencos=kronecker(sencos, triangular_)\n",
    "#     sencos = kronecker(sencos, triangular())\n",
    "    #regresion\n",
    "    X_train, X_test, y_train, y_test = train_test_split(sencos, consumofeb[j], test_size=n, shuffle = False)\n",
    "    \n",
    "    reg = LinearRegression(n_jobs=-1).fit(X_train, y_train)\n",
    "    y_predict=reg.predict(X_test)\n",
    "    \n",
    "    nov=pd.DataFrame(np.concatenate([reg.predict(X_train),y_predict]),index=consumofeb.index,columns=[f\"{j}\"])\n",
    "\n",
    "    return nov"
   ]
  },
  {
   "cell_type": "code",
   "execution_count": 65,
   "metadata": {
    "ExecuteTime": {
     "end_time": "2021-04-14T03:58:44.883760Z",
     "start_time": "2021-04-14T03:58:44.865557Z"
    }
   },
   "outputs": [],
   "source": [
    "# pba(\"max\", 33)"
   ]
  },
  {
   "cell_type": "code",
   "execution_count": 66,
   "metadata": {
    "ExecuteTime": {
     "end_time": "2021-04-14T03:58:44.898911Z",
     "start_time": "2021-04-14T03:58:44.885796Z"
    }
   },
   "outputs": [],
   "source": [
    "def modelosclima(n):\n",
    "    ca = pd.DataFrame(index = consumo.index)\n",
    "    for i in [\"mín\", \"max\", \"Nubosidad\"]:\n",
    "        ca = pd.concat([ca, pba(i, n)], axis = 1)\n",
    "    return ca"
   ]
  },
  {
   "cell_type": "code",
   "execution_count": 67,
   "metadata": {
    "ExecuteTime": {
     "end_time": "2021-04-14T03:58:46.728872Z",
     "start_time": "2021-04-14T03:58:44.901904Z"
    }
   },
   "outputs": [],
   "source": [
    "# Se corre y guarda en una variable los datos de clima predichos\n",
    "modclima = modelosclima(c)"
   ]
  },
  {
   "cell_type": "markdown",
   "metadata": {},
   "source": [
    "# Varibles festivos"
   ]
  },
  {
   "cell_type": "code",
   "execution_count": 74,
   "metadata": {
    "ExecuteTime": {
     "end_time": "2021-04-14T03:58:47.705305Z",
     "start_time": "2021-04-14T03:58:47.692337Z"
    }
   },
   "outputs": [],
   "source": [
    "def festivos():\n",
    "    festivos=pd.read_excel(Path().relative().parent / \"Data\" / \"Festivos.xlsx\")\n",
    "    festivos2=pd.read_excel(Path().relative().parent / \"Data\" / \"Festivos2.xlsx\")\n",
    "\n",
    "    Dum = pd.DataFrame(index = consumo.index)\n",
    "\n",
    "    for col in festivos.columns:\n",
    "        Dum[f\"{col}\"] = consumo.index.isin(festivos[f\"{col}\"])\n",
    "        Dum[col] = Dum[col].replace([False, True],[0, 1])\n",
    "        clean = Dum[col].values\n",
    "        Dum[col] = Dum[col]+shift(clean, 1, cval=0)*.4\n",
    "        Dum[col] = Dum[col]+shift(clean, -1, cval=0)*.4\n",
    "        Dum[col] = Dum[col]+shift(clean, 2, cval=0)*.1\n",
    "        Dum[col] = Dum[col]+shift(clean, -2, cval=0)*.1\n",
    "        Dum[col] = Dum[col]/2\n",
    "\n",
    "    Dum[\"ones\"] = 1\n",
    "    Dum[\"t\"]=np.arange(1,len(consumo.index)+1)    \n",
    "    \n",
    "    for col in festivos2.columns:\n",
    "        Dum[col] = consumo.index.isin(festivos2[col])\n",
    "    Dum = Dum.replace([False, True],[0, 1])\n",
    "    \n",
    "    return Dum"
   ]
  },
  {
   "cell_type": "markdown",
   "metadata": {},
   "source": [
    "# Todas las variables independientes"
   ]
  },
  {
   "cell_type": "code",
   "execution_count": 75,
   "metadata": {
    "ExecuteTime": {
     "end_time": "2021-04-14T03:58:47.736256Z",
     "start_time": "2021-04-14T03:58:47.708295Z"
    }
   },
   "outputs": [],
   "source": [
    "def dummies(n):   \n",
    "    # variables eureka y clima\n",
    "    consumo2 = pd.DataFrame(index=consumo.index)\n",
    "    consumo2[\"num\"] = np.arange(1,len(consumo.index)+1)\n",
    "    consumo2[\"day\"] = consumo.index.weekday\n",
    "    consumo2[\"eureka1\"] = consumo2.day**3\n",
    "    consumo2[\"eureka2\"] = modclima[\"max\"]*consumo2.num\n",
    "    consumo2[\"month\"] = consumo.index.month\n",
    "    X = consumo2.join(modclima)\n",
    "    # normalizacion eureka-clima\n",
    "    X_norm = X/X.max()\n",
    "    \n",
    "    # variables gplearn\n",
    "#     X_norm[\"gplearn1\"]=np.cos(X_norm.day)*X_norm.num\n",
    "#     X_norm[\"gplearn2\"]=X_norm.num*X_norm[\"mín\"]\n",
    "#     X_norm[\"gplearn3\"]=3.319**X_norm[\"max\"]*np.cos(X_norm.day)\n",
    "#     X_norm[\"gplearn8\"]=3.319**X_norm[\"max\"]*X_norm.num \n",
    "#     X_norm[\"gplearn4\"]=np.cos(X_norm.day)*np.sin(X_norm.day)\n",
    "#     X_norm[\"gplearn6\"]=X_norm[\"max\"]**2*X_norm[\"mín\"]**2\n",
    "#     X_norm[\"gplearn7\"]=1/np.cos(X_norm.day)\n",
    "#     X_norm[\"gplearn10\"]=X_norm[\"max\"]*X_norm[\"mín\"]**3*np.cos(X_norm.month)**2\n",
    "    # variables dummies\n",
    "    X_norm = pd.get_dummies(X_norm, columns=[\"month\", \"day\"], prefix=[\"month\", \"day\"], drop_first=True)\n",
    "    \n",
    "    X_norm=X_norm.drop([\"mín\", \"max\", \"Nubosidad\"],axis=1) \n",
    "\n",
    "    # variables festivos y difusa de clima\n",
    "    X_norm = X_norm.join(festivos())\n",
    "    triangular_ = pd.concat([triangular(), triangular1()], axis = 1)\n",
    "    X_norm = X_norm.join(triangular_)\n",
    "#     X_norm = X_norm.join(triangular())\n",
    "    \n",
    "    # variables entre y fin\n",
    "    X_norm[\"fin\"]=consumo.index.weekday\n",
    "    X_norm[\"entre\"]=consumo.index.weekday\n",
    "    X_norm[\"fin\"]=X_norm[\"fin\"].replace([0,1,2,3,4,5,6],[.5,0,0,0,.5,1,1])\n",
    "    X_norm[\"entre\"]=X_norm[\"entre\"].replace([0,1,2,3,4,5,6],[.5,1,1,1,.5,0,0])\n",
    "    return X_norm"
   ]
  },
  {
   "cell_type": "code",
   "execution_count": 76,
   "metadata": {
    "ExecuteTime": {
     "end_time": "2021-04-14T03:58:48.252546Z",
     "start_time": "2021-04-14T03:58:47.743201Z"
    }
   },
   "outputs": [
    {
     "data": {
      "text/plain": [
       "0.49437570571899414"
      ]
     },
     "execution_count": 76,
     "metadata": {},
     "output_type": "execute_result"
    }
   ],
   "source": [
    "beg = time.time()\n",
    "dummies(0)\n",
    "end = time.time()\n",
    "end - beg"
   ]
  },
  {
   "cell_type": "code",
   "execution_count": 77,
   "metadata": {
    "ExecuteTime": {
     "end_time": "2021-04-14T03:58:48.760545Z",
     "start_time": "2021-04-14T03:58:48.256496Z"
    }
   },
   "outputs": [],
   "source": [
    "X = dummies(365)"
   ]
  },
  {
   "cell_type": "code",
   "execution_count": 78,
   "metadata": {
    "ExecuteTime": {
     "end_time": "2021-04-14T03:58:49.149483Z",
     "start_time": "2021-04-14T03:58:48.760545Z"
    }
   },
   "outputs": [],
   "source": [
    "X.to_csv(\"X.csv\")"
   ]
  },
  {
   "cell_type": "code",
   "execution_count": null,
   "metadata": {},
   "outputs": [],
   "source": []
  }
 ],
 "metadata": {
  "kernelspec": {
   "display_name": "Python 3",
   "language": "python",
   "name": "python3"
  },
  "language_info": {
   "codemirror_mode": {
    "name": "ipython",
    "version": 3
   },
   "file_extension": ".py",
   "mimetype": "text/x-python",
   "name": "python",
   "nbconvert_exporter": "python",
   "pygments_lexer": "ipython3",
   "version": "3.7.7"
  },
  "toc": {
   "base_numbering": 1,
   "nav_menu": {},
   "number_sections": true,
   "sideBar": true,
   "skip_h1_title": false,
   "title_cell": "Table of Contents",
   "title_sidebar": "Contents",
   "toc_cell": false,
   "toc_position": {},
   "toc_section_display": true,
   "toc_window_display": false
  }
 },
 "nbformat": 4,
 "nbformat_minor": 2
}
