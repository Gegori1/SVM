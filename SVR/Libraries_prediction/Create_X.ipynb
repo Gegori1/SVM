{
 "cells": [
  {
   "cell_type": "markdown",
   "metadata": {},
   "source": [
    "# Importar librerias"
   ]
  },
  {
   "cell_type": "code",
   "execution_count": 1,
   "metadata": {
    "ExecuteTime": {
     "end_time": "2021-04-11T01:58:42.883016Z",
     "start_time": "2021-04-11T01:58:42.867032Z"
    }
   },
   "outputs": [],
   "source": [
    "c = 7 # Valor para variables climaticas"
   ]
  },
  {
   "cell_type": "code",
   "execution_count": 2,
   "metadata": {
    "ExecuteTime": {
     "end_time": "2021-04-11T01:58:47.065913Z",
     "start_time": "2021-04-11T01:58:42.886977Z"
    }
   },
   "outputs": [],
   "source": [
    "import time\n",
    "start = time.time()\n",
    "#importar datos y librerias\n",
    "\n",
    "import numpy as np\n",
    "import pandas as pd\n",
    "import matplotlib.pyplot as plt\n",
    "\n",
    "from datetime import datetime\n",
    "from scipy import signal\n",
    "from scipy import special\n",
    "from scipy.ndimage.interpolation import shift\n",
    "from statsmodels.tsa.seasonal import seasonal_decompose\n",
    "\n",
    "from pmdarima.arima import auto_arima\n",
    "from statsmodels.tsa.arima_model import ARIMA\n",
    "from sklearn.linear_model import Lasso, LinearRegression\n",
    "from sklearn.model_selection import train_test_split\n",
    "\n",
    "import warnings\n",
    "warnings.filterwarnings(\"ignore\", category=RuntimeWarning)\n",
    "%matplotlib inline"
   ]
  },
  {
   "cell_type": "code",
   "execution_count": 3,
   "metadata": {
    "ExecuteTime": {
     "end_time": "2021-04-11T01:58:48.622421Z",
     "start_time": "2021-04-11T01:58:47.067945Z"
    }
   },
   "outputs": [
    {
     "data": {
      "text/html": [
       "        <script type=\"text/javascript\">\n",
       "        window.PlotlyConfig = {MathJaxConfig: 'local'};\n",
       "        if (window.MathJax) {MathJax.Hub.Config({SVG: {font: \"STIX-Web\"}});}\n",
       "        if (typeof require !== 'undefined') {\n",
       "        require.undef(\"plotly\");\n",
       "        requirejs.config({\n",
       "            paths: {\n",
       "                'plotly': ['https://cdn.plot.ly/plotly-latest.min']\n",
       "            }\n",
       "        });\n",
       "        require(['plotly'], function(Plotly) {\n",
       "            window._Plotly = Plotly;\n",
       "        });\n",
       "        }\n",
       "        </script>\n",
       "        "
      ]
     },
     "metadata": {},
     "output_type": "display_data"
    }
   ],
   "source": [
    "# Plotly\n",
    "import chart_studio.plotly as ply\n",
    "import cufflinks as cf\n",
    "cf.go_offline()"
   ]
  },
  {
   "cell_type": "markdown",
   "metadata": {},
   "source": [
    "# Funciones"
   ]
  },
  {
   "cell_type": "code",
   "execution_count": 4,
   "metadata": {
    "ExecuteTime": {
     "end_time": "2021-04-11T01:58:48.653503Z",
     "start_time": "2021-04-11T01:58:48.624475Z"
    }
   },
   "outputs": [],
   "source": [
    "# para calcular el mape\n",
    "def Mape(y,y_pred):\n",
    "    return np.mean(np.abs((y-y_pred)/y))*100\n",
    "\n",
    "# para hacer kronecker por fila\n",
    "def kronecker(data1:'Dataframe 1',data2:'Dataframe 2'):\n",
    "    Combinacion = pd.DataFrame(); d1 = pd.DataFrame()\n",
    "    for i in data2.columns:\n",
    "        d1 = data1.multiply(data2[f\"{i}\"] , axis=\"index\")\n",
    "        d1.columns = [f'{i}_{j}' for j in data1.columns]\n",
    "        Combinacion = pd.concat([Combinacion, d1], axis = 1)\n",
    "    return Combinacion\n",
    "\n",
    "# para crear variables difusas\n",
    "def triangular():\n",
    "    # Se crea x\n",
    "    ma = pd.DataFrame();\n",
    "    x = consumofeb.index.dayofyear.tolist()\n",
    "    # Se crean variables a, b y c\n",
    "    height = difs()\n",
    "    for hei in height:\n",
    "        ba = pd.DataFrame(x, columns=[\"x\"])\n",
    "        ba[\"a\"] = height[hei][0]\n",
    "        ba[\"b\"] = height[hei][1]\n",
    "        ba[\"c\"] = height[hei][2]\n",
    "        # Variable difusa\n",
    "        ca = pd.DataFrame()\n",
    "        ca[\"bo\"] = (ba.x-ba.a)/(ba.b-ba.a)\n",
    "        ca[\"ba\"] = (ba.c-ba.x)/(ba.c-ba.b)\n",
    "        ca = ca.min(axis = 1)\n",
    "        ca[ca<0]=0\n",
    "        ma = pd.concat([ma, ca], axis = 1) # Se concatenan\n",
    "        \n",
    "    ma.index = consumofeb.index\n",
    "    ma.columns = height.keys()\n",
    "    return ma"
   ]
  },
  {
   "cell_type": "code",
   "execution_count": 5,
   "metadata": {
    "ExecuteTime": {
     "end_time": "2021-04-11T01:58:48.668462Z",
     "start_time": "2021-04-11T01:58:48.656495Z"
    }
   },
   "outputs": [],
   "source": [
    "# triangular()"
   ]
  },
  {
   "cell_type": "markdown",
   "metadata": {},
   "source": [
    "# Cargar datos"
   ]
  },
  {
   "cell_type": "code",
   "execution_count": 6,
   "metadata": {
    "ExecuteTime": {
     "end_time": "2021-04-11T01:58:50.150870Z",
     "start_time": "2021-04-11T01:58:48.673449Z"
    }
   },
   "outputs": [],
   "source": [
    "def cargar():\n",
    "    # variables climaticas\n",
    "    consumofeb=pd.read_excel(r'Data//Consumo_feb.xlsx').set_index(\"fecha\").loc[\"2007-01-01\":\"2020-03-30\"] # desde el 2007\n",
    "    consumofeb=consumofeb.drop([\"prom\",\"Lluvia\",\"Velocidad_viento\"],1) # variables no importantes para el modelo\n",
    "    #variables de consumo MWh\n",
    "    consumo=pd.read_excel(r'Data//Data1.xlsx').set_index(\"fecha\").loc[\"2007-01-01\":\"2020-03-30\"]  # consumo de energia en MWh\n",
    "    while True:\n",
    "        if len(consumofeb.index) != len(consumo.index): \n",
    "            raise RuntimeError(\"Climatic variable and consumption variable length does not match\")\n",
    "            break\n",
    "        else: return consumo, consumofeb\n",
    "\n",
    "consumo, consumofeb = cargar()"
   ]
  },
  {
   "cell_type": "code",
   "execution_count": 7,
   "metadata": {
    "ExecuteTime": {
     "end_time": "2021-04-11T01:58:50.166689Z",
     "start_time": "2021-04-11T01:58:50.152977Z"
    }
   },
   "outputs": [
    {
     "name": "stdout",
     "output_type": "stream",
     "text": [
      "ok\n"
     ]
    }
   ],
   "source": [
    "if len(consumofeb.index) == len(consumo.index): print(\"ok\")"
   ]
  },
  {
   "cell_type": "markdown",
   "metadata": {},
   "source": [
    " # Variables difusas"
   ]
  },
  {
   "cell_type": "code",
   "execution_count": 8,
   "metadata": {
    "ExecuteTime": {
     "end_time": "2021-04-11T01:58:50.182614Z",
     "start_time": "2021-04-11T01:58:50.172642Z"
    }
   },
   "outputs": [],
   "source": [
    "def difs():\n",
    "    # Inicializar posicion de datos variables difusas\n",
    "\n",
    "    inv1 = [310.5-365.25, 8.6529, 138.941176470588]\n",
    "    pr = [8.6529, 138.941176470588, 221.9375]\n",
    "    vr = [138.941176470588, 221.9375, 310.5]\n",
    "    ot = [221.9375, 310.5, 365.25+8.6529]\n",
    "    ot2 = [221.9375-365.25, 310.5-365.25, 8.6529]\n",
    "    inv2 = [310.5, 365.25+8.6529, 365.25+138.941176470588]\n",
    "\n",
    "    height = {'Invierno1': inv1,'Primavera': pr,'verano': vr,'Otoño': ot,'Otoño2': ot2,'Invierno2': inv2,} \n",
    "    return height "
   ]
  },
  {
   "cell_type": "markdown",
   "metadata": {},
   "source": [
    "-  Para graficar"
   ]
  },
  {
   "cell_type": "code",
   "execution_count": 9,
   "metadata": {
    "ExecuteTime": {
     "end_time": "2021-04-11T01:58:50.197575Z",
     "start_time": "2021-04-11T01:58:50.188602Z"
    }
   },
   "outputs": [],
   "source": [
    "# triangular().iplot()"
   ]
  },
  {
   "cell_type": "markdown",
   "metadata": {},
   "source": [
    "# Variables climaticas"
   ]
  },
  {
   "cell_type": "code",
   "execution_count": 10,
   "metadata": {
    "ExecuteTime": {
     "end_time": "2021-04-11T01:58:50.228524Z",
     "start_time": "2021-04-11T01:58:50.201565Z"
    }
   },
   "outputs": [],
   "source": [
    "def pba(j, n):\n",
    "    # armonicos\n",
    "    f, asd = signal.periodogram(consumofeb[j], 1)\n",
    "#     plt.figure()\n",
    "#     plt.plot(1/f, asd)\n",
    "    picos = pd.DataFrame(asd, 1/(f), columns=[\"potencia\"])\n",
    "    picos = picos.sort_values(by=\"potencia\",ascending=False).reset_index().head(12)\n",
    "    picos.columns = [\"periodo\", \"potencia\"]\n",
    "    #fourier\n",
    "    sencos = pd.DataFrame(index = consumofeb.index)\n",
    "    t = np.arange(1,len(consumofeb)+1)\n",
    "    sencos[\"t\"]=t\n",
    "    for i  in  picos.periodo:\n",
    "            sencos[f\"{i:.2f}_sen\"] = np.abs(np.sin(((2*np.pi)/(i))*t))\n",
    "            sencos[f\"{i:.2f}_cos\"] = np.abs(np.cos(((2*np.pi)/(i))*t))\n",
    "    sencos['ones']=1\n",
    "    sencos['sen1']=np.abs(np.sin(((2*np.pi)/(365.25))*t))\n",
    "    sencos['cos1']=np.abs(np.cos(((2*np.pi)/(365.25))*t))\n",
    "    \n",
    "    sencos=kronecker(sencos, triangular())\n",
    "    #regresion\n",
    "    X_train, X_test, y_train, y_test = train_test_split(sencos, consumofeb[j], test_size=n, shuffle = False)\n",
    "    \n",
    "    reg = LinearRegression(n_jobs=-1).fit(X_train, y_train)\n",
    "    y_predict=reg.predict(X_test)\n",
    "    \n",
    "    nov=pd.DataFrame(np.concatenate([reg.predict(X_train),y_predict]),index=consumofeb.index,columns=[f\"{j}\"])\n",
    "\n",
    "    return nov"
   ]
  },
  {
   "cell_type": "code",
   "execution_count": 11,
   "metadata": {
    "ExecuteTime": {
     "end_time": "2021-04-11T01:58:50.243486Z",
     "start_time": "2021-04-11T01:58:50.232481Z"
    }
   },
   "outputs": [],
   "source": [
    "# pba(\"max\", 33)"
   ]
  },
  {
   "cell_type": "code",
   "execution_count": 12,
   "metadata": {
    "ExecuteTime": {
     "end_time": "2021-04-11T01:58:50.259443Z",
     "start_time": "2021-04-11T01:58:50.246444Z"
    }
   },
   "outputs": [],
   "source": [
    "def modelosclima(n):\n",
    "    ca = pd.DataFrame(index = consumo.index)\n",
    "    for i in [\"mín\", \"max\", \"Nubosidad\"]:\n",
    "        ca = pd.concat([ca, pba(i, n)], axis = 1)\n",
    "    return ca"
   ]
  },
  {
   "cell_type": "code",
   "execution_count": 13,
   "metadata": {
    "ExecuteTime": {
     "end_time": "2021-04-11T01:58:51.307014Z",
     "start_time": "2021-04-11T01:58:50.263398Z"
    }
   },
   "outputs": [],
   "source": [
    "# Se corre y guarda en una variable los datos de clima predichos\n",
    "modclima = modelosclima(c)"
   ]
  },
  {
   "cell_type": "markdown",
   "metadata": {},
   "source": [
    "# Varibles festivos"
   ]
  },
  {
   "cell_type": "code",
   "execution_count": 14,
   "metadata": {
    "ExecuteTime": {
     "end_time": "2021-04-11T01:58:51.322976Z",
     "start_time": "2021-04-11T01:58:51.309014Z"
    }
   },
   "outputs": [],
   "source": [
    "def festivos():\n",
    "    festivos=pd.read_excel(r'Data\\\\Festivos.xlsx')\n",
    "    festivos2=pd.read_excel(r'Data\\\\Festivos2.xlsx')\n",
    "\n",
    "    Dum = pd.DataFrame(index = consumo.index)\n",
    "\n",
    "    for col in festivos.columns:\n",
    "        Dum[f\"{col}\"] = consumo.index.isin(festivos[f\"{col}\"])\n",
    "        Dum[col] = Dum[col].replace([False, True],[0, 1])\n",
    "        clean = Dum[col].values\n",
    "        Dum[col] = Dum[col]+shift(clean, 1, cval=0)*.4\n",
    "        Dum[col] = Dum[col]+shift(clean, -1, cval=0)*.4\n",
    "        Dum[col] = Dum[col]+shift(clean, 2, cval=0)*.1\n",
    "        Dum[col] = Dum[col]+shift(clean, -2, cval=0)*.1\n",
    "        Dum[col] = Dum[col]/2\n",
    "\n",
    "    Dum[\"ones\"] = 1\n",
    "    Dum[\"t\"]=np.arange(1,len(consumo.index)+1)    \n",
    "    \n",
    "    for col in festivos2.columns:\n",
    "        Dum[col] = consumo.index.isin(festivos2[col])\n",
    "    Dum = Dum.replace([False, True],[0, 1])\n",
    "    \n",
    "    return Dum"
   ]
  },
  {
   "cell_type": "markdown",
   "metadata": {},
   "source": [
    "# Todas las variables independientes"
   ]
  },
  {
   "cell_type": "code",
   "execution_count": 15,
   "metadata": {
    "ExecuteTime": {
     "end_time": "2021-04-11T01:58:51.354991Z",
     "start_time": "2021-04-11T01:58:51.326969Z"
    }
   },
   "outputs": [],
   "source": [
    "def dummies(n):   \n",
    "    # variables eureka y clima\n",
    "    consumo2 = pd.DataFrame(index=consumo.index)\n",
    "    consumo2[\"num\"] = np.arange(1,len(consumo.index)+1)\n",
    "    consumo2[\"day\"] = consumo.index.weekday\n",
    "    consumo2[\"eureka1\"] = consumo2.day**3\n",
    "    consumo2[\"eureka2\"] = modclima[\"max\"]*consumo2.num\n",
    "    consumo2[\"month\"] = consumo.index.month\n",
    "    X = consumo2.join(modclima)\n",
    "    # normalizacion eureka-clima\n",
    "    X_norm = X/X.max()\n",
    "    \n",
    "    # variables gplearn\n",
    "    X_norm[\"gplearn1\"]=np.cos(X_norm.day)*X_norm.num\n",
    "    X_norm[\"gplearn2\"]=X_norm.num*X_norm[\"mín\"]\n",
    "    X_norm[\"gplearn3\"]=3.319**X_norm[\"max\"]*np.cos(X_norm.day)\n",
    "    X_norm[\"gplearn8\"]=3.319**X_norm[\"max\"]*X_norm.num \n",
    "    X_norm[\"gplearn4\"]=np.cos(X_norm.day)*np.sin(X_norm.day)\n",
    "    X_norm[\"gplearn6\"]=X_norm[\"max\"]**2*X_norm[\"mín\"]**2\n",
    "    X_norm[\"gplearn7\"]=1/np.cos(X_norm.day)\n",
    "    X_norm[\"gplearn10\"]=X_norm[\"max\"]*X_norm[\"mín\"]**3*np.cos(X_norm.month)**2\n",
    "    # variables dummies\n",
    "    X_norm = pd.get_dummies(X_norm, columns=[\"month\", \"day\"], prefix=[\"month\", \"day\"], drop_first=True)\n",
    "    \n",
    "    X_norm=X_norm.drop([\"mín\", \"max\", \"Nubosidad\"],axis=1) \n",
    "\n",
    "    # variables festivos y difusa de clima\n",
    "    X_norm = X_norm.join(festivos())\n",
    "    X_norm = X_norm.join(triangular())\n",
    "    \n",
    "    # variables entre y fin\n",
    "    X_norm[\"fin\"]=consumo.index.weekday\n",
    "    X_norm[\"entre\"]=consumo.index.weekday\n",
    "    X_norm[\"fin\"]=X_norm[\"fin\"].replace([0,1,2,3,4,5,6],[.5,0,0,0,.5,1,1])\n",
    "    X_norm[\"entre\"]=X_norm[\"entre\"].replace([0,1,2,3,4,5,6],[.5,1,1,1,.5,0,0])\n",
    "    return X_norm"
   ]
  },
  {
   "cell_type": "code",
   "execution_count": 16,
   "metadata": {
    "ExecuteTime": {
     "end_time": "2021-04-11T01:58:51.839254Z",
     "start_time": "2021-04-11T01:58:51.357983Z"
    }
   },
   "outputs": [
    {
     "data": {
      "text/plain": [
       "0.46677184104919434"
      ]
     },
     "execution_count": 16,
     "metadata": {},
     "output_type": "execute_result"
    }
   ],
   "source": [
    "beg = time.time()\n",
    "dummies(0)\n",
    "end = time.time()\n",
    "end - beg"
   ]
  },
  {
   "cell_type": "code",
   "execution_count": 22,
   "metadata": {
    "ExecuteTime": {
     "end_time": "2021-04-11T02:06:20.886448Z",
     "start_time": "2021-04-11T02:06:20.404741Z"
    }
   },
   "outputs": [],
   "source": [
    "X = dummies(0)"
   ]
  },
  {
   "cell_type": "code",
   "execution_count": 23,
   "metadata": {
    "ExecuteTime": {
     "end_time": "2021-04-11T02:06:21.386318Z",
     "start_time": "2021-04-11T02:06:20.888513Z"
    }
   },
   "outputs": [],
   "source": [
    "X.to_csv(\"X.csv\")"
   ]
  },
  {
   "cell_type": "code",
   "execution_count": null,
   "metadata": {},
   "outputs": [],
   "source": []
  }
 ],
 "metadata": {
  "kernelspec": {
   "display_name": "Python 3",
   "language": "python",
   "name": "python3"
  },
  "language_info": {
   "codemirror_mode": {
    "name": "ipython",
    "version": 3
   },
   "file_extension": ".py",
   "mimetype": "text/x-python",
   "name": "python",
   "nbconvert_exporter": "python",
   "pygments_lexer": "ipython3",
   "version": "3.7.7"
  },
  "toc": {
   "base_numbering": 1,
   "nav_menu": {},
   "number_sections": true,
   "sideBar": true,
   "skip_h1_title": false,
   "title_cell": "Table of Contents",
   "title_sidebar": "Contents",
   "toc_cell": false,
   "toc_position": {},
   "toc_section_display": true,
   "toc_window_display": false
  }
 },
 "nbformat": 4,
 "nbformat_minor": 2
}
