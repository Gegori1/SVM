{
 "cells": [
  {
   "cell_type": "code",
   "execution_count": 291,
   "metadata": {
    "ExecuteTime": {
     "end_time": "2021-04-07T05:57:39.820533Z",
     "start_time": "2021-04-07T05:57:39.809560Z"
    }
   },
   "outputs": [],
   "source": [
    "from bayes_opt import BayesianOptimization\n",
    "import matplotlib.pyplot as plt\n",
    "from sklearn import datasets\n",
    "import numpy as np\n",
    "from sklearn.preprocessing import Normalizer, MaxAbsScaler\n",
    "from sklearn.model_selection import train_test_split\n",
    "import pandas as pd\n",
    "from datetime import datetime\n",
    "import pickle"
   ]
  },
  {
   "cell_type": "code",
   "execution_count": 148,
   "metadata": {
    "ExecuteTime": {
     "end_time": "2021-04-07T05:01:17.811544Z",
     "start_time": "2021-04-07T05:01:17.789947Z"
    }
   },
   "outputs": [],
   "source": [
    "from bayes_opt.logger import JSONLogger\n",
    "from bayes_opt.event import Events"
   ]
  },
  {
   "cell_type": "code",
   "execution_count": 149,
   "metadata": {
    "ExecuteTime": {
     "end_time": "2021-04-07T05:01:18.077428Z",
     "start_time": "2021-04-07T05:01:18.004451Z"
    }
   },
   "outputs": [],
   "source": [
    "%run SVR_MAPE_Library.ipynb"
   ]
  },
  {
   "cell_type": "code",
   "execution_count": 305,
   "metadata": {
    "ExecuteTime": {
     "end_time": "2021-04-07T06:18:49.817501Z",
     "start_time": "2021-04-07T06:18:49.295290Z"
    }
   },
   "outputs": [],
   "source": [
    "y1 =pd.read_excel(r'Data//Data1.xlsx').set_index(\"fecha\").loc[\"2007-01-01\":\"2020-03-30\"]\n",
    "X1 = pd.read_csv(\"X.csv\")\n",
    "\n",
    "X = X1.drop([\"fecha\"], axis = 1).to_numpy(); y = y1.to_numpy()\n",
    "\n",
    "# X, X_test, y, y_test = train_test_split(X, y, test_size = 7, shuffle = False)\n",
    "\n",
    "# scaler = MaxAbsScaler(); scaler.fit(X); X = scaler.transform(X)\n",
    "# X_test = scaler.transform(X_test)\n",
    "\n",
    "# scaler1 = MaxAbsScaler(); scaler1.fit(y); y = scaler1.transform(y).reshape(-1)"
   ]
  },
  {
   "cell_type": "code",
   "execution_count": 306,
   "metadata": {
    "ExecuteTime": {
     "end_time": "2021-04-07T06:18:49.848387Z",
     "start_time": "2021-04-07T06:18:49.821459Z"
    }
   },
   "outputs": [],
   "source": [
    "def bas_optit(C, epsilon, gamma, mu, lmbda): \n",
    "#   n: test size, itr: # of iterations\n",
    "    n = 7; itr = 1\n",
    "    \n",
    "    cas = {}; mape = []; it = itr+1\n",
    "    yl = len(y)\n",
    "    \n",
    "    # parameters\n",
    "    hyperparameters = {\n",
    "        'kernel' : \"rbf\",\n",
    "        'C' : C, \n",
    "        'epsilon' : epsilon, \n",
    "        'mu' : mu,\n",
    "        'lmbda' : lmbda,\n",
    "        'gamma' : gamma, \n",
    "    }\n",
    "    cas[0] = hyperparameters\n",
    "    \n",
    "    itera = np.flip(np.arange(1, it))\n",
    "    for i in itera:\n",
    "        j = i*n\n",
    "        \n",
    "        # y, X split\n",
    "        X_train = X[:yl - j, :]; X_test = X[yl - j : yl - (j-n), :]\n",
    "        y_train = y[:yl - j];    y_test = y[yl - j : yl - (j-n)]\n",
    "        \n",
    "        # test index\n",
    "        y_idx = y1.index[yl - j : yl - (j-n)]\n",
    "        \n",
    "        # rescale X and y\n",
    "        scaler = MaxAbsScaler(); scaler.fit(X_train); \n",
    "        X_train = scaler.transform(X_train); X_test = scaler.transform(X_test)\n",
    "        \n",
    "        scaler1 = MaxAbsScaler(); scaler1.fit(y_train)\n",
    "        y_train = scaler1.transform(y_train).reshape(-1)\n",
    "        y_test = y_test.reshape(-1)\n",
    "        \n",
    "\n",
    "        # fit and predict\n",
    "        model = SVR_general_cvxopt(**hyperparameters).fit(X_train, y_train)\n",
    "        pred = model.predict(X_test)\n",
    "        \n",
    "        # rescale y_test\n",
    "        y_pred = scaler1.inverse_transform(pred.reshape(-1, 1))\n",
    "        \n",
    "        # keep data\n",
    "        yi = pd.DataFrame(y_test, index = y_idx, columns = [\"real\"])\n",
    "        yi[\"predict\"] = y_pred.reshape(-1)\n",
    "        yi[\"resta\"] = yi.real - yi.predict\n",
    "        yi[\"error\"] = (np.abs((yi.real - yi.predict)/yi.real))\n",
    "        cas[i] = y_test\n",
    "        mape.append(yi.error.mean()*100)\n",
    "    \n",
    "    # Store prediction\n",
    "    name_ = datetime.now().strftime(\"%d_%m_%Y_%H_%M_%S\")    \n",
    "    with open(f'{name_}', 'wb') as to_write:\n",
    "        pickle.dump(cas, to_write)\n",
    "    \n",
    "    mape_mean = sum(mape)/it\n",
    "    \n",
    "    return -mape_mean"
   ]
  },
  {
   "cell_type": "code",
   "execution_count": 307,
   "metadata": {
    "ExecuteTime": {
     "end_time": "2021-04-07T06:18:50.419203Z",
     "start_time": "2021-04-07T06:18:50.404207Z"
    }
   },
   "outputs": [],
   "source": [
    "# def bas_opt(C, epsilon, gamma, mu, lmbda):\n",
    "#     predict = SVR_general_cvxopt(kernel = \"rbf\", C = C, epsilon = epsilon, mu = mu, lmbda = lmbda, gamma = gamma).fit(X, y).predict(X_test)\n",
    "#     y_pred = scaler1.inverse_transform(predict.reshape(-1, 1))\n",
    "    \n",
    "#     return -np.mean(np.abs((y_pred - y_test)/y_test))*100"
   ]
  },
  {
   "cell_type": "code",
   "execution_count": 308,
   "metadata": {
    "ExecuteTime": {
     "end_time": "2021-04-07T06:18:50.870016Z",
     "start_time": "2021-04-07T06:18:50.856085Z"
    }
   },
   "outputs": [],
   "source": [
    "class newJSONLogger(JSONLogger):\n",
    "\n",
    "      def __init__(self, path):\n",
    "            self._path=None\n",
    "            super(JSONLogger, self).__init__()\n",
    "            self._path = path if path[-5:] == \".json\" else path + \".json\""
   ]
  },
  {
   "cell_type": "code",
   "execution_count": 309,
   "metadata": {
    "ExecuteTime": {
     "end_time": "2021-04-07T06:18:51.476543Z",
     "start_time": "2021-04-07T06:18:51.462557Z"
    }
   },
   "outputs": [],
   "source": [
    "# Bounded region of parameter space\n",
    "pbounds = {'C': (0.1, 10), 'epsilon': (0.01, 10), 'gamma': (0.001, 0.1), 'mu': (0.01, 5), 'lmbda': (0.01, 5)}\n",
    "\n",
    "# Bayes optimizer instantiation\n",
    "optimizer = BayesianOptimization(f=bas_optit, pbounds=pbounds, random_state=1, verbose=2)\n",
    "\n",
    "# keep data\n",
    "logger = newJSONLogger(path=\"./logs.json\")\n",
    "optimizer.subscribe(Events.OPTIMIZATION_STEP, logger)"
   ]
  },
  {
   "cell_type": "code",
   "execution_count": 310,
   "metadata": {
    "ExecuteTime": {
     "end_time": "2021-04-07T06:20:51.751415Z",
     "start_time": "2021-04-07T06:18:52.537853Z"
    }
   },
   "outputs": [],
   "source": [
    "# optimize\n",
    "optimizer.maximize(init_points=0, n_iter=1)"
   ]
  },
  {
   "cell_type": "code",
   "execution_count": 71,
   "metadata": {
    "ExecuteTime": {
     "end_time": "2021-04-07T02:25:37.940782Z",
     "start_time": "2021-04-07T02:25:37.921832Z"
    }
   },
   "outputs": [
    {
     "data": {
      "text/plain": [
       "30"
      ]
     },
     "execution_count": 71,
     "metadata": {},
     "output_type": "execute_result"
    }
   ],
   "source": [
    "len(optimizer.res)"
   ]
  },
  {
   "cell_type": "code",
   "execution_count": 72,
   "metadata": {
    "ExecuteTime": {
     "end_time": "2021-04-07T02:25:39.559669Z",
     "start_time": "2021-04-07T02:25:39.538725Z"
    }
   },
   "outputs": [
    {
     "name": "stdout",
     "output_type": "stream",
     "text": [
      "0 -1.84\n",
      "1 -3.44\n",
      "2 -3.79\n",
      "3 -5.15\n",
      "4 -4.98\n",
      "5 -2.25\n",
      "6 -4.15\n",
      "7 -3.85\n",
      "8 -5.00\n",
      "9 -5.07\n",
      "10 -2.20\n",
      "11 -2.33\n",
      "12 -4.97\n",
      "13 -87.28\n",
      "14 -3.67\n",
      "15 -16.80\n",
      "16 -5.43\n",
      "17 -144.67\n",
      "18 -11.16\n",
      "19 -2.30\n",
      "20 -2.11\n",
      "21 -3.16\n",
      "22 -2.24\n",
      "23 -1.89\n",
      "24 -2.35\n",
      "25 -2.12\n",
      "26 -2.23\n",
      "27 -5.18\n",
      "28 -1.85\n",
      "29 -1.84\n"
     ]
    }
   ],
   "source": [
    "for i in range(len(optimizer.res)):\n",
    "    print(f\"{i} {optimizer.res[i]['target']:.2f}\")"
   ]
  },
  {
   "cell_type": "code",
   "execution_count": 73,
   "metadata": {
    "ExecuteTime": {
     "end_time": "2021-04-07T02:48:09.300472Z",
     "start_time": "2021-04-07T02:48:09.284512Z"
    }
   },
   "outputs": [
    {
     "data": {
      "text/plain": [
       "{'target': -1.8416600603973563,\n",
       " 'params': {'C': 4.228517846555483,\n",
       "  'epsilon': 7.20604168948716,\n",
       "  'gamma': 0.0010113231069171437,\n",
       "  'lmbda': 1.5186395374328805,\n",
       "  'mu': 0.7423118951773942}}"
      ]
     },
     "execution_count": 73,
     "metadata": {},
     "output_type": "execute_result"
    }
   ],
   "source": [
    "optimizer.res[0]"
   ]
  },
  {
   "cell_type": "code",
   "execution_count": null,
   "metadata": {},
   "outputs": [],
   "source": [
    "with open('07_04_2021_01_13_55','rb') as read_file:\n",
    "    df = pickle.load(read_file)"
   ]
  }
 ],
 "metadata": {
  "kernelspec": {
   "display_name": "Python 3",
   "language": "python",
   "name": "python3"
  },
  "language_info": {
   "codemirror_mode": {
    "name": "ipython",
    "version": 3
   },
   "file_extension": ".py",
   "mimetype": "text/x-python",
   "name": "python",
   "nbconvert_exporter": "python",
   "pygments_lexer": "ipython3",
   "version": "3.7.7"
  },
  "toc": {
   "base_numbering": 1,
   "nav_menu": {},
   "number_sections": true,
   "sideBar": true,
   "skip_h1_title": false,
   "title_cell": "Table of Contents",
   "title_sidebar": "Contents",
   "toc_cell": false,
   "toc_position": {},
   "toc_section_display": true,
   "toc_window_display": false
  }
 },
 "nbformat": 4,
 "nbformat_minor": 4
}
