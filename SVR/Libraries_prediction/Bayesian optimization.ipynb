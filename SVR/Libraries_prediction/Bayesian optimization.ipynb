{
 "cells": [
  {
   "cell_type": "code",
   "execution_count": 70,
   "metadata": {
    "ExecuteTime": {
     "end_time": "2021-04-07T21:58:06.516009Z",
     "start_time": "2021-04-07T21:58:06.500966Z"
    }
   },
   "outputs": [],
   "source": [
    "import matplotlib.pyplot as plt\n",
    "from sklearn import datasets\n",
    "import numpy as np\n",
    "from sklearn.preprocessing import Normalizer, MaxAbsScaler\n",
    "from sklearn.model_selection import train_test_split\n",
    "import pandas as pd\n",
    "from datetime import datetime\n",
    "import pickle"
   ]
  },
  {
   "cell_type": "code",
   "execution_count": 71,
   "metadata": {
    "ExecuteTime": {
     "end_time": "2021-04-07T21:58:06.720326Z",
     "start_time": "2021-04-07T21:58:06.704370Z"
    }
   },
   "outputs": [],
   "source": [
    "from bayes_opt import BayesianOptimization\n",
    "from bayes_opt import SequentialDomainReductionTransformer\n",
    "from bayes_opt import UtilityFunction\n",
    "from bayes_opt.logger import JSONLogger\n",
    "from bayes_opt.event import Events"
   ]
  },
  {
   "cell_type": "code",
   "execution_count": 72,
   "metadata": {
    "ExecuteTime": {
     "end_time": "2021-04-07T21:58:06.937497Z",
     "start_time": "2021-04-07T21:58:06.893533Z"
    }
   },
   "outputs": [],
   "source": [
    "%run SVR_MAPE_Library.ipynb"
   ]
  },
  {
   "cell_type": "code",
   "execution_count": 73,
   "metadata": {
    "ExecuteTime": {
     "end_time": "2021-04-07T21:58:07.813156Z",
     "start_time": "2021-04-07T21:58:07.358415Z"
    }
   },
   "outputs": [],
   "source": [
    "y1 =pd.read_excel(r'Data//Data1.xlsx').set_index(\"fecha\").loc[\"2007-01-01\":\"2020-03-30\"]\n",
    "X1 = pd.read_csv(\"X.csv\")\n",
    "\n",
    "X = X1.drop([\"fecha\"], axis = 1).to_numpy(); y = y1.to_numpy()"
   ]
  },
  {
   "cell_type": "code",
   "execution_count": 74,
   "metadata": {
    "ExecuteTime": {
     "end_time": "2021-04-07T21:58:11.749592Z",
     "start_time": "2021-04-07T21:58:11.717714Z"
    }
   },
   "outputs": [],
   "source": [
    "def bas_optit(C, epsilon, gamma, mu, lmbda): \n",
    "#   n: test size, itr: # of iterations\n",
    "    n = 7; itr = 52\n",
    "    \n",
    "    cas = {}; mape = []; it = itr+1\n",
    "    yl = len(y)\n",
    "    \n",
    "    # parameters\n",
    "    hyperparameters = {\n",
    "        'kernel' : \"rbf\",\n",
    "        'C' : C, \n",
    "        'epsilon' : epsilon, \n",
    "        'mu' : mu,\n",
    "        'lmbda' : lmbda,\n",
    "        'gamma' : gamma, \n",
    "    }\n",
    "    \n",
    "    cas[0] = hyperparameters\n",
    "    \n",
    "    itera = np.flip(np.arange(1, it))\n",
    "    for i in itera:\n",
    "        j = i*n\n",
    "        \n",
    "        # y, X split\n",
    "        X_train = X[:yl - j, :]; X_test = X[yl - j : yl - (j-n), :]\n",
    "        y_train = y[:yl - j];    y_test = y[yl - j : yl - (j-n)]\n",
    "        \n",
    "        # test index\n",
    "        y_idx = y1.index[yl - j : yl - (j-n)]\n",
    "        \n",
    "        # rescale X and y\n",
    "        scaler = MaxAbsScaler(); scaler.fit(X_train); \n",
    "        X_train = scaler.transform(X_train); X_test = scaler.transform(X_test)\n",
    "        \n",
    "        scaler1 = MaxAbsScaler(); scaler1.fit(y_train)\n",
    "        y_train = scaler1.transform(y_train).reshape(-1)\n",
    "        y_test = y_test.reshape(-1)\n",
    "        \n",
    "\n",
    "        # fit and predict\n",
    "        model = SVR_general_cvxopt(**hyperparameters).fit(X_train, y_train)\n",
    "        pred = model.predict(X_test)\n",
    "        \n",
    "        # rescale y_test\n",
    "        y_pred = scaler1.inverse_transform(pred.reshape(-1, 1))\n",
    "        \n",
    "        # keep data\n",
    "        yi = pd.DataFrame(y_test, index = y_idx, columns = [\"real\"])\n",
    "        yi[\"predict\"] = y_pred.reshape(-1)\n",
    "        yi[\"resta\"] = yi.real - yi.predict\n",
    "        yi[\"error\"] = (np.abs((yi.real - yi.predict)/yi.real))\n",
    "        cas[i] = yi\n",
    "        mape.append(yi.error.mean()*100)\n",
    "    \n",
    "    # Store prediction\n",
    "    name_ = datetime.now().strftime(\"%d_%m_%Y_%H_%M_%S\")    \n",
    "    with open(f'Pickles//{name_}', 'wb') as to_write:\n",
    "        pickle.dump(cas, to_write)\n",
    "    \n",
    "    mape_mean = sum(mape)/it\n",
    "    \n",
    "    return -mape_mean"
   ]
  },
  {
   "cell_type": "code",
   "execution_count": 77,
   "metadata": {
    "ExecuteTime": {
     "end_time": "2021-04-07T21:58:13.679721Z",
     "start_time": "2021-04-07T21:58:13.674702Z"
    }
   },
   "outputs": [],
   "source": [
    "# class newJSONLogger(JSONLogger):\n",
    "\n",
    "#       def __init__(self, path):\n",
    "#             self._path=None\n",
    "#             super(JSONLogger, self).__init__()\n",
    "#             self._path = path if path[-5:] == \".json\" else path + \".json\""
   ]
  },
  {
   "cell_type": "code",
   "execution_count": 78,
   "metadata": {
    "ExecuteTime": {
     "end_time": "2021-04-07T21:58:14.436649Z",
     "start_time": "2021-04-07T21:58:14.415670Z"
    }
   },
   "outputs": [],
   "source": [
    "# Bounded region of parameter space\n",
    "pbounds = {'C': (0.1, 10), 'epsilon': (0.01, 10), 'gamma': (0.0001, 0.1), 'mu': (-2, 5), 'lmbda': (-2, 5)}\n",
    "\n",
    "# Domain reduction function\n",
    "bounds_transformer = SequentialDomainReductionTransformer()\n",
    "\n",
    "# Bayes optimizer instantiation\n",
    "optimizer = BayesianOptimization(f=bas_optit, \n",
    "                                 pbounds=pbounds, \n",
    "                                 random_state=1, verbose=2, \n",
    "                                 bounds_transformer=bounds_transformer\n",
    "                                )\n",
    "\n",
    "# keep data\n",
    "logger = newJSONLogger(path=\"Logs./log.json\")\n",
    "optimizer.subscribe(Events.OPTIMIZATION_STEP, logger)"
   ]
  },
  {
   "cell_type": "code",
   "execution_count": null,
   "metadata": {
    "ExecuteTime": {
     "start_time": "2021-04-08T00:24:42.197Z"
    }
   },
   "outputs": [],
   "source": [
    "utility = UtilityFunction(kind=\"ucb\", kappa=2.575, xi=0.0)\n",
    "opt_iter = 20\n",
    "# run model for lmbda and mu negative values\n",
    "for _ in range(opt_iter):\n",
    "    nwval = optimizer.suggest(utility)\n",
    "    while nwval['lmbda'] + nwval['mu'] <= 0:\n",
    "        nwval = optimizer.suggest(utility) \n",
    "    target = bas_optit(**nwval)\n",
    "    optimizer.register(params=nwval,target=target)"
   ]
  },
  {
   "cell_type": "code",
   "execution_count": null,
   "metadata": {
    "ExecuteTime": {
     "end_time": "2021-04-07T23:14:53.897824Z",
     "start_time": "2021-04-07T23:14:49.366901Z"
    }
   },
   "outputs": [],
   "source": []
  },
  {
   "cell_type": "code",
   "execution_count": null,
   "metadata": {},
   "outputs": [],
   "source": []
  },
  {
   "cell_type": "code",
   "execution_count": 16,
   "metadata": {
    "ExecuteTime": {
     "end_time": "2021-04-07T10:55:53.864655Z",
     "start_time": "2021-04-07T10:55:53.842751Z"
    }
   },
   "outputs": [
    {
     "data": {
      "text/plain": [
       "2"
      ]
     },
     "execution_count": 16,
     "metadata": {},
     "output_type": "execute_result"
    }
   ],
   "source": [
    "len(optimizer.res)"
   ]
  },
  {
   "cell_type": "code",
   "execution_count": null,
   "metadata": {
    "ExecuteTime": {
     "end_time": "2021-04-07T02:25:39.559669Z",
     "start_time": "2021-04-07T02:25:39.538725Z"
    }
   },
   "outputs": [],
   "source": [
    "for i in range(len(optimizer.res)):\n",
    "    print(f\"{i} {optimizer.res[i]['target']:.2f}\")"
   ]
  },
  {
   "cell_type": "code",
   "execution_count": 73,
   "metadata": {
    "ExecuteTime": {
     "end_time": "2021-04-07T02:48:09.300472Z",
     "start_time": "2021-04-07T02:48:09.284512Z"
    }
   },
   "outputs": [
    {
     "data": {
      "text/plain": [
       "{'target': -1.8416600603973563,\n",
       " 'params': {'C': 4.228517846555483,\n",
       "  'epsilon': 7.20604168948716,\n",
       "  'gamma': 0.0010113231069171437,\n",
       "  'lmbda': 1.5186395374328805,\n",
       "  'mu': 0.7423118951773942}}"
      ]
     },
     "execution_count": 73,
     "metadata": {},
     "output_type": "execute_result"
    }
   ],
   "source": [
    "optimizer.res[0]"
   ]
  },
  {
   "cell_type": "code",
   "execution_count": 75,
   "metadata": {
    "ExecuteTime": {
     "end_time": "2021-04-07T21:58:12.669371Z",
     "start_time": "2021-04-07T21:58:12.656406Z"
    }
   },
   "outputs": [],
   "source": [
    "# def opt_filter(C, epsilon, gamma, mu, lmbda):\n",
    "#     if mu + lmbda <= 0:\n",
    "#         mu = abs(mu)\n",
    "#         lmbda = abs(lmbda)\n",
    "#     return bas_optit(C, epsilon, gamma, mu, lmbda)"
   ]
  },
  {
   "cell_type": "code",
   "execution_count": 76,
   "metadata": {
    "ExecuteTime": {
     "end_time": "2021-04-07T21:58:13.227577Z",
     "start_time": "2021-04-07T21:58:13.224549Z"
    }
   },
   "outputs": [],
   "source": [
    "# def bas_opt(C, epsilon, gamma, mu, lmbda):\n",
    "#     predict = SVR_general_cvxopt(kernel = \"rbf\", C = C, epsilon = epsilon, mu = mu, lmbda = lmbda, gamma = gamma).fit(X, y).predict(X_test)\n",
    "#     y_pred = scaler1.inverse_transform(predict.reshape(-1, 1))\n",
    "    \n",
    "#     return -np.mean(np.abs((y_pred - y_test)/y_test))*100"
   ]
  },
  {
   "cell_type": "code",
   "execution_count": null,
   "metadata": {},
   "outputs": [],
   "source": [
    "# # optimize\n",
    "# optimizer.maximize(init_points=6, n_iter=20)"
   ]
  }
 ],
 "metadata": {
  "kernelspec": {
   "display_name": "Python 3",
   "language": "python",
   "name": "python3"
  },
  "language_info": {
   "codemirror_mode": {
    "name": "ipython",
    "version": 3
   },
   "file_extension": ".py",
   "mimetype": "text/x-python",
   "name": "python",
   "nbconvert_exporter": "python",
   "pygments_lexer": "ipython3",
   "version": "3.7.7"
  },
  "toc": {
   "base_numbering": 1,
   "nav_menu": {},
   "number_sections": true,
   "sideBar": true,
   "skip_h1_title": false,
   "title_cell": "Table of Contents",
   "title_sidebar": "Contents",
   "toc_cell": false,
   "toc_position": {},
   "toc_section_display": true,
   "toc_window_display": false
  }
 },
 "nbformat": 4,
 "nbformat_minor": 4
}
