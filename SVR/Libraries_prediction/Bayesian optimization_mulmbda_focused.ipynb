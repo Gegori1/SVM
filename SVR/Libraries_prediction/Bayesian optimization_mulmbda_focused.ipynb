{
 "cells": [
  {
   "cell_type": "code",
   "execution_count": 38,
   "metadata": {
    "ExecuteTime": {
     "end_time": "2021-04-14T04:29:38.510007Z",
     "start_time": "2021-04-14T04:29:38.494337Z"
    }
   },
   "outputs": [],
   "source": [
    "import matplotlib.pyplot as plt\n",
    "import numpy as np\n",
    "from sklearn.preprocessing import MaxAbsScaler\n",
    "from sklearn.model_selection import train_test_split\n",
    "import pandas as pd\n",
    "from datetime import datetime\n",
    "import pickle"
   ]
  },
  {
   "cell_type": "code",
   "execution_count": 39,
   "metadata": {
    "ExecuteTime": {
     "end_time": "2021-04-14T04:29:38.757330Z",
     "start_time": "2021-04-14T04:29:38.748353Z"
    }
   },
   "outputs": [],
   "source": [
    "from bayes_opt import BayesianOptimization\n",
    "from bayes_opt import SequentialDomainReductionTransformer\n",
    "from bayes_opt import UtilityFunction\n",
    "from bayes_opt.logger import JSONLogger\n",
    "from bayes_opt.event import Events"
   ]
  },
  {
   "cell_type": "code",
   "execution_count": 40,
   "metadata": {
    "ExecuteTime": {
     "end_time": "2021-04-14T04:29:39.020728Z",
     "start_time": "2021-04-14T04:29:39.014714Z"
    }
   },
   "outputs": [],
   "source": [
    "# %run SVR_MAPE_Library_new_weights.ipynb"
   ]
  },
  {
   "cell_type": "code",
   "execution_count": 41,
   "metadata": {
    "ExecuteTime": {
     "end_time": "2021-04-14T04:29:39.207828Z",
     "start_time": "2021-04-14T04:29:39.137754Z"
    }
   },
   "outputs": [],
   "source": [
    "%run SVR_MAPE_Library.ipynb"
   ]
  },
  {
   "cell_type": "code",
   "execution_count": 42,
   "metadata": {
    "ExecuteTime": {
     "end_time": "2021-04-14T04:29:40.240783Z",
     "start_time": "2021-04-14T04:29:39.387152Z"
    }
   },
   "outputs": [],
   "source": [
    "y1 =pd.read_excel(r'Data//Data1.xlsx').set_index(\"fecha\").loc[\"2007-01-01\":\"2019-08-25\"]\n",
    "X1 = pd.read_csv(\"X.csv\")\n",
    "\n",
    "X = X1.drop([\"fecha\"], axis = 1).to_numpy(); y = y1.to_numpy()\n",
    "\n",
    "# X, X_test, y, y_test = train_test_split(X, y, test_size = 100, shuffle = False)\n",
    "\n",
    "# scaler = MaxAbsScaler(); scaler.fit(X); X = scaler.transform(X)\n",
    "# X_test = scaler.transform(X_test)\n",
    "\n",
    "# scaler1 = MaxAbsScaler(); scaler1.fit(y); y = scaler1.transform(y).reshape(-1)"
   ]
  },
  {
   "cell_type": "markdown",
   "metadata": {},
   "source": [
    "# Continue"
   ]
  },
  {
   "cell_type": "code",
   "execution_count": 43,
   "metadata": {
    "ExecuteTime": {
     "end_time": "2021-04-14T04:29:40.946826Z",
     "start_time": "2021-04-14T04:29:40.914876Z"
    }
   },
   "outputs": [],
   "source": [
    "def bas_optit(C, epsilon, gamma, mu, lmbda): \n",
    "#   n: test size, itr: # of iterations\n",
    "    n = 7; itr = 16\n",
    "    \n",
    "    cas = {}; mape = []; it = itr+1\n",
    "    yl = len(y)\n",
    "    \n",
    "    # parameters\n",
    "    hyperparameters = {\n",
    "        'kernel' : \"rbf\",\n",
    "        'C' : C, \n",
    "        'epsilon' : epsilon, \n",
    "        'mu' : mu,\n",
    "        'lmbda' : lmbda,\n",
    "        'gamma' : gamma, \n",
    "    }\n",
    "    \n",
    "    cas[0] = hyperparameters\n",
    "    \n",
    "    itera = np.flip(np.arange(1, it))\n",
    "    for i in itera:\n",
    "        j = i*n\n",
    "        \n",
    "        # y, X split\n",
    "        X_train = X[:yl - j, :]; X_test = X[yl - j : yl - (j-n), :]\n",
    "        y_train = y[:yl - j];    y_test = y[yl - j : yl - (j-n)]\n",
    "        \n",
    "        # test index\n",
    "        y_idx = y1.index[yl - j : yl - (j-n)]\n",
    "        \n",
    "        # rescale X and y\n",
    "        scaler = MaxAbsScaler(); scaler.fit(X_train); \n",
    "        X_train = scaler.transform(X_train); X_test = scaler.transform(X_test)\n",
    "        \n",
    "        scaler1 = MaxAbsScaler(); scaler1.fit(y_train)\n",
    "        y_train = scaler1.transform(y_train).reshape(-1)\n",
    "        y_test = y_test.reshape(-1)\n",
    "        \n",
    "\n",
    "        # fit and predict\n",
    "        model = SVR_general_cvxopt(**hyperparameters).fit(X_train, y_train)\n",
    "        pred = model.predict(X_test)\n",
    "        \n",
    "        # rescale y_test\n",
    "        y_pred = scaler1.inverse_transform(pred.reshape(-1, 1))\n",
    "        \n",
    "        # keep data\n",
    "        yi = pd.DataFrame(y_test, index = y_idx, columns = [\"real\"])\n",
    "        yi[\"predict\"] = y_pred.reshape(-1)\n",
    "        yi[\"resta\"] = yi.real - yi.predict\n",
    "        yi[\"error\"] = (np.abs((yi.real - yi.predict)/yi.real))\n",
    "        cas[i] = yi\n",
    "        mape.append(yi.error.mean()*100)\n",
    "    \n",
    "    # Store prediction\n",
    "    name_ = datetime.now().strftime(\"%d_%m_%Y_%H_%M_%S\")    \n",
    "    with open(f'Pickles//K_may_ags_16_m_l_no_gplearn//{name_}', 'wb') as to_write:\n",
    "        pickle.dump(cas, to_write)\n",
    "    \n",
    "    mape_mean = sum(mape)/itr\n",
    "    \n",
    "    return -mape_mean"
   ]
  },
  {
   "cell_type": "code",
   "execution_count": 44,
   "metadata": {
    "ExecuteTime": {
     "end_time": "2021-04-14T04:29:41.920204Z",
     "start_time": "2021-04-14T04:29:41.913222Z"
    }
   },
   "outputs": [],
   "source": [
    "class newJSONLogger(JSONLogger):\n",
    "\n",
    "      def __init__(self, path):\n",
    "            self._path=None\n",
    "            super(JSONLogger, self).__init__()\n",
    "            self._path = path if path[-5:] == \".json\" else path + \".json\""
   ]
  },
  {
   "cell_type": "code",
   "execution_count": 45,
   "metadata": {
    "ExecuteTime": {
     "end_time": "2021-04-14T04:29:42.698531Z",
     "start_time": "2021-04-14T04:29:42.676596Z"
    }
   },
   "outputs": [],
   "source": [
    "# Bounded region of parameter space\n",
    "pbounds = {'C': (0.1, 10), 'epsilon': (0.01, 10), 'gamma': (0.0001, 0.1), 'mu': (0.001, 1), 'lmbda': (0.001, 1)}\n",
    "\n",
    "# Domain reduction function\n",
    "# bounds_transformer = SequentialDomainReductionTransformer()\n",
    "\n",
    "# Bayes optimizer instantiation\n",
    "optimizer = BayesianOptimization(f=bas_optit, \n",
    "                                 pbounds=pbounds, \n",
    "                                 random_state=1, verbose=2, \n",
    "#                                  bounds_transformer=bounds_transformer\n",
    "                                )\n",
    "\n",
    "# keep data\n",
    "logger = newJSONLogger(path=\"Logs./log_may_ags_16_mu_lambda_no_gplearn.json\")\n",
    "optimizer.subscribe(Events.OPTIMIZATION_STEP, logger)"
   ]
  },
  {
   "cell_type": "code",
   "execution_count": null,
   "metadata": {
    "ExecuteTime": {
     "start_time": "2021-04-14T04:29:43.442Z"
    }
   },
   "outputs": [],
   "source": [
    "# optimizer.probe(\n",
    "#     params={\"C\": 0.5, \"epsilon\": 0.01, \"gamma\": 0.02, \"mu\": -0.3},\n",
    "#     lazy=True,\n",
    "# )\n",
    "\n",
    "optimizer.maximize(init_points=6, n_iter=40)"
   ]
  },
  {
   "cell_type": "code",
   "execution_count": 117,
   "metadata": {
    "ExecuteTime": {
     "end_time": "2021-04-08T03:43:24.606538Z",
     "start_time": "2021-04-08T03:43:24.586587Z"
    }
   },
   "outputs": [],
   "source": [
    "# utility = UtilityFunction(kind=\"ucb\", kappa=2.575, xi=0.0)\n",
    "# opt_iter = 20\n",
    "# # run model for lmbda and mu negative values\n",
    "# for _ in range(opt_iter):\n",
    "#     nwval = optimizer.suggest(utility)\n",
    "#     while nwval['lmbda'] + nwval['mu'] <= 0:\n",
    "#         nwval = optimizer.suggest(utility) \n",
    "#     target = bas_optit(**nwval)\n",
    "#     optimizer.register(params=nwval,target=target)"
   ]
  },
  {
   "cell_type": "code",
   "execution_count": 16,
   "metadata": {
    "ExecuteTime": {
     "end_time": "2021-04-10T22:34:31.533087Z",
     "start_time": "2021-04-10T22:34:31.488243Z"
    }
   },
   "outputs": [
    {
     "data": {
      "text/plain": [
       "25"
      ]
     },
     "execution_count": 16,
     "metadata": {},
     "output_type": "execute_result"
    }
   ],
   "source": [
    "len(optimizer.res)"
   ]
  },
  {
   "cell_type": "code",
   "execution_count": null,
   "metadata": {
    "ExecuteTime": {
     "end_time": "2021-04-07T02:25:39.559669Z",
     "start_time": "2021-04-07T02:25:39.538725Z"
    }
   },
   "outputs": [],
   "source": [
    "for i in range(len(optimizer.res)):\n",
    "    print(f\"{i} {optimizer.res[i]['target']:.2f}\")"
   ]
  },
  {
   "cell_type": "code",
   "execution_count": 17,
   "metadata": {
    "ExecuteTime": {
     "end_time": "2021-04-10T22:34:35.591899Z",
     "start_time": "2021-04-10T22:34:35.569525Z"
    }
   },
   "outputs": [
    {
     "data": {
      "text/plain": [
       "{'target': -2.50835951452586,\n",
       " 'params': {'C': 0.5, 'epsilon': 0.01, 'gamma': 0.02, 'mu': -0.3}}"
      ]
     },
     "execution_count": 17,
     "metadata": {},
     "output_type": "execute_result"
    }
   ],
   "source": [
    "optimizer.res[0]"
   ]
  },
  {
   "cell_type": "code",
   "execution_count": 75,
   "metadata": {
    "ExecuteTime": {
     "end_time": "2021-04-07T21:58:12.669371Z",
     "start_time": "2021-04-07T21:58:12.656406Z"
    }
   },
   "outputs": [],
   "source": [
    "# def opt_filter(C, epsilon, gamma, mu, lmbda):\n",
    "#     if mu + lmbda <= 0:\n",
    "#         mu = abs(mu)\n",
    "#         lmbda = abs(lmbda)\n",
    "#     return bas_optit(C, epsilon, gamma, mu, lmbda)"
   ]
  },
  {
   "cell_type": "code",
   "execution_count": 76,
   "metadata": {
    "ExecuteTime": {
     "end_time": "2021-04-07T21:58:13.227577Z",
     "start_time": "2021-04-07T21:58:13.224549Z"
    }
   },
   "outputs": [],
   "source": [
    "# def bas_opt(C, epsilon, gamma, mu, lmbda):\n",
    "#     predict = SVR_general_cvxopt(kernel = \"rbf\", C = C, epsilon = epsilon, mu = mu, lmbda = lmbda, gamma = gamma).fit(X, y).predict(X_test)\n",
    "#     y_pred = scaler1.inverse_transform(predict.reshape(-1, 1))\n",
    "    \n",
    "#     return -np.mean(np.abs((y_pred - y_test)/y_test))*100"
   ]
  },
  {
   "cell_type": "code",
   "execution_count": null,
   "metadata": {},
   "outputs": [],
   "source": [
    "# # optimize\n",
    "# optimizer.maximize(init_points=6, n_iter=20)"
   ]
  },
  {
   "cell_type": "markdown",
   "metadata": {
    "heading_collapsed": true
   },
   "source": [
    "## Schenell test"
   ]
  },
  {
   "cell_type": "markdown",
   "metadata": {
    "hidden": true
   },
   "source": [
    "### Model 2 (mu)"
   ]
  },
  {
   "cell_type": "code",
   "execution_count": 32,
   "metadata": {
    "ExecuteTime": {
     "end_time": "2021-04-11T00:53:59.473738Z",
     "start_time": "2021-04-11T00:51:55.891544Z"
    },
    "hidden": true
   },
   "outputs": [],
   "source": [
    "hyp = {\n",
    "    'kernel' : \"rbf\",\n",
    "    \"C\": 4.228517846555483, \n",
    "       \"epsilon\": 7.20604168948716, \n",
    "       \"gamma\": 0.0010113231069171437, \n",
    "       \"mu\": 0.7423118951773942\n",
    "}\n",
    "cvs = SVR_general_cvxopt(**hyp).fit(X, y)"
   ]
  },
  {
   "cell_type": "code",
   "execution_count": 33,
   "metadata": {
    "ExecuteTime": {
     "end_time": "2021-04-11T00:53:59.519851Z",
     "start_time": "2021-04-11T00:53:59.475794Z"
    },
    "hidden": true
   },
   "outputs": [],
   "source": [
    "pre = cvs.predict(X_test)"
   ]
  },
  {
   "cell_type": "code",
   "execution_count": 34,
   "metadata": {
    "ExecuteTime": {
     "end_time": "2021-04-11T00:55:42.363213Z",
     "start_time": "2021-04-11T00:55:42.345298Z"
    },
    "hidden": true
   },
   "outputs": [],
   "source": [
    "pre = scaler1.inverse_transform(pre.reshape(-1, 1))"
   ]
  },
  {
   "cell_type": "code",
   "execution_count": 35,
   "metadata": {
    "ExecuteTime": {
     "end_time": "2021-04-11T00:55:43.427511Z",
     "start_time": "2021-04-11T00:55:43.112157Z"
    },
    "hidden": true
   },
   "outputs": [
    {
     "data": {
      "text/plain": [
       "[<matplotlib.lines.Line2D at 0x1e35ee9bcc8>]"
      ]
     },
     "execution_count": 35,
     "metadata": {},
     "output_type": "execute_result"
    },
    {
     "data": {
      "image/png": "[encoded data removed]",
      "text/plain": [
       "<Figure size 432x288 with 1 Axes>"
      ]
     },
     "metadata": {
      "needs_background": "light"
     },
     "output_type": "display_data"
    }
   ],
   "source": [
    "plt.plot(y_test)\n",
    "plt.plot(pre)"
   ]
  },
  {
   "cell_type": "code",
   "execution_count": 38,
   "metadata": {
    "ExecuteTime": {
     "end_time": "2021-04-11T00:57:58.873750Z",
     "start_time": "2021-04-11T00:57:58.863741Z"
    },
    "hidden": true
   },
   "outputs": [
    {
     "data": {
      "text/plain": [
       "2.429385277385241"
      ]
     },
     "execution_count": 38,
     "metadata": {},
     "output_type": "execute_result"
    }
   ],
   "source": [
    "np.mean(np.abs((y_test - pre)/y_test))*100"
   ]
  },
  {
   "cell_type": "markdown",
   "metadata": {
    "hidden": true
   },
   "source": [
    "### Model 1 (lmbda_mu)"
   ]
  },
  {
   "cell_type": "code",
   "execution_count": 85,
   "metadata": {
    "ExecuteTime": {
     "end_time": "2021-04-11T02:03:35.184856Z",
     "start_time": "2021-04-11T02:02:34.524371Z"
    },
    "hidden": true
   },
   "outputs": [],
   "source": [
    "hyp = {\n",
    "    'kernel' : \"rbf\",\n",
    "    \"C\": 4.228517846555483, \n",
    "    \"epsilon\": 7.20604168948716, \n",
    "    \"gamma\": 0.0010113231069171437, \n",
    "    \"lmbda\": 1.5186395374328805, \n",
    "    \"mu\": 0.7423118951773942}\n",
    "cvs2 = SVR_general_cvxopt(**hyp).fit(X, y)"
   ]
  },
  {
   "cell_type": "code",
   "execution_count": 86,
   "metadata": {
    "ExecuteTime": {
     "end_time": "2021-04-11T02:03:35.230883Z",
     "start_time": "2021-04-11T02:03:35.186910Z"
    },
    "hidden": true
   },
   "outputs": [],
   "source": [
    "pre2 = cvs2.predict(X_test)"
   ]
  },
  {
   "cell_type": "code",
   "execution_count": 87,
   "metadata": {
    "ExecuteTime": {
     "end_time": "2021-04-11T02:03:35.245872Z",
     "start_time": "2021-04-11T02:03:35.234869Z"
    },
    "hidden": true
   },
   "outputs": [],
   "source": [
    "pre2 = scaler1.inverse_transform(pre2.reshape(-1, 1))"
   ]
  },
  {
   "cell_type": "code",
   "execution_count": 88,
   "metadata": {
    "ExecuteTime": {
     "end_time": "2021-04-11T02:03:35.463257Z",
     "start_time": "2021-04-11T02:03:35.249830Z"
    },
    "hidden": true
   },
   "outputs": [
    {
     "data": {
      "text/plain": [
       "[<matplotlib.lines.Line2D at 0x1e305523c08>]"
      ]
     },
     "execution_count": 88,
     "metadata": {},
     "output_type": "execute_result"
    },
    {
     "data": {
      "image/png": "[encoded data removed]",
      "text/plain": [
       "<Figure size 432x288 with 1 Axes>"
      ]
     },
     "metadata": {
      "needs_background": "light"
     },
     "output_type": "display_data"
    }
   ],
   "source": [
    "plt.plot(y_test)\n",
    "plt.plot(pre2)"
   ]
  },
  {
   "cell_type": "code",
   "execution_count": 89,
   "metadata": {
    "ExecuteTime": {
     "end_time": "2021-04-11T02:03:35.479216Z",
     "start_time": "2021-04-11T02:03:35.466251Z"
    },
    "hidden": true
   },
   "outputs": [
    {
     "data": {
      "text/plain": [
       "1.8416601559050254"
      ]
     },
     "execution_count": 89,
     "metadata": {},
     "output_type": "execute_result"
    }
   ],
   "source": [
    "np.mean(np.abs((y_test - pre2)/y_test))*100"
   ]
  },
  {
   "cell_type": "markdown",
   "metadata": {
    "heading_collapsed": true
   },
   "source": [
    "# Prediccion a 7 dias"
   ]
  },
  {
   "cell_type": "code",
   "execution_count": 62,
   "metadata": {
    "ExecuteTime": {
     "end_time": "2021-04-12T19:02:56.745920Z",
     "start_time": "2021-04-12T19:02:56.732011Z"
    },
    "hidden": true
   },
   "outputs": [
    {
     "data": {
      "text/html": [
       "        <script type=\"text/javascript\">\n",
       "        window.PlotlyConfig = {MathJaxConfig: 'local'};\n",
       "        if (window.MathJax) {MathJax.Hub.Config({SVG: {font: \"STIX-Web\"}});}\n",
       "        if (typeof require !== 'undefined') {\n",
       "        require.undef(\"plotly\");\n",
       "        requirejs.config({\n",
       "            paths: {\n",
       "                'plotly': ['https://cdn.plot.ly/plotly-latest.min']\n",
       "            }\n",
       "        });\n",
       "        require(['plotly'], function(Plotly) {\n",
       "            window._Plotly = Plotly;\n",
       "        });\n",
       "        }\n",
       "        </script>\n",
       "        "
      ]
     },
     "metadata": {},
     "output_type": "display_data"
    }
   ],
   "source": [
    "import cufflinks as cf\n",
    "cf.go_offline()"
   ]
  },
  {
   "cell_type": "code",
   "execution_count": 63,
   "metadata": {
    "ExecuteTime": {
     "end_time": "2021-04-12T19:02:58.159232Z",
     "start_time": "2021-04-12T19:02:57.169109Z"
    },
    "hidden": true
   },
   "outputs": [],
   "source": [
    "y1 =pd.read_excel(r'Data//Data1.xlsx').set_index(\"fecha\").loc[\"2007-01-01\":\"2020-03-30\"]\n",
    "X1 = pd.read_csv(\"X.csv\")\n",
    "\n",
    "X = X1.drop([\"fecha\"], axis = 1).to_numpy(); y = y1.to_numpy()\n",
    "\n",
    "X, X_test, y, y_test = train_test_split(X, y, test_size = 300, shuffle = False)\n",
    "\n",
    "scaler = MaxAbsScaler(); scaler.fit(X); X = scaler.transform(X)\n",
    "X_test = scaler.transform(X_test)\n",
    "\n",
    "scaler1 = MaxAbsScaler(); scaler1.fit(y); y = scaler1.transform(y).reshape(-1)"
   ]
  },
  {
   "cell_type": "code",
   "execution_count": 64,
   "metadata": {
    "ExecuteTime": {
     "end_time": "2021-04-12T19:03:58.919761Z",
     "start_time": "2021-04-12T19:02:58.163739Z"
    },
    "hidden": true
   },
   "outputs": [],
   "source": [
    "    hyperparameters = {\n",
    "        'kernel' : \"rbf\",\n",
    "        'C' : 1.5622596668986724, \n",
    "        'epsilon' : 0.01, \n",
    "        'mu' : 0.8894683237212756,\n",
    "        'lmbda' : 0.7147423174236999,\n",
    "        'gamma' : 0.009632563464115184, \n",
    "    }\n",
    "    \n",
    "model = SVR_general_cvxopt(**hyperparameters).fit(X, y)"
   ]
  },
  {
   "cell_type": "code",
   "execution_count": 65,
   "metadata": {
    "ExecuteTime": {
     "end_time": "2021-04-12T19:03:59.024856Z",
     "start_time": "2021-04-12T19:03:58.924503Z"
    },
    "hidden": true
   },
   "outputs": [],
   "source": [
    "predict = model.predict(X_test)"
   ]
  },
  {
   "cell_type": "code",
   "execution_count": 66,
   "metadata": {
    "ExecuteTime": {
     "end_time": "2021-04-12T19:03:59.045736Z",
     "start_time": "2021-04-12T19:03:59.029050Z"
    },
    "hidden": true
   },
   "outputs": [],
   "source": [
    "pred = scaler1.inverse_transform(predict.reshape(-1, 1))"
   ]
  },
  {
   "cell_type": "code",
   "execution_count": 67,
   "metadata": {
    "ExecuteTime": {
     "end_time": "2021-04-12T19:03:59.061299Z",
     "start_time": "2021-04-12T19:03:59.047729Z"
    },
    "hidden": true
   },
   "outputs": [
    {
     "data": {
      "text/plain": [
       "2.4610882886101795"
      ]
     },
     "execution_count": 67,
     "metadata": {},
     "output_type": "execute_result"
    }
   ],
   "source": [
    "# 2.4610961642466016\n",
    "np.mean(np.abs((y_test - pred)/y_test))*100"
   ]
  },
  {
   "cell_type": "code",
   "execution_count": 68,
   "metadata": {
    "ExecuteTime": {
     "end_time": "2021-04-12T19:03:59.389251Z",
     "start_time": "2021-04-12T19:03:59.065240Z"
    },
    "hidden": true
   },
   "outputs": [
    {
     "data": {
      "text/plain": [
       "[<matplotlib.lines.Line2D at 0x2228e1042c8>]"
      ]
     },
     "execution_count": 68,
     "metadata": {},
     "output_type": "execute_result"
    },
    {
     "data": {
      "image/png": "[encoded data removed]",
      "text/plain": [
       "<Figure size 432x288 with 1 Axes>"
      ]
     },
     "metadata": {
      "needs_background": "light"
     },
     "output_type": "display_data"
    }
   ],
   "source": [
    "plt.plot(y_test)\n",
    "plt.plot(pred)"
   ]
  },
  {
   "cell_type": "code",
   "execution_count": 69,
   "metadata": {
    "ExecuteTime": {
     "end_time": "2021-04-12T19:03:59.411302Z",
     "start_time": "2021-04-12T19:03:59.394129Z"
    },
    "hidden": true
   },
   "outputs": [],
   "source": [
    "plotting = pd.DataFrame(y1.tail(300))\n",
    "plotting[\"predict\"] = pred"
   ]
  },
  {
   "cell_type": "code",
   "execution_count": 70,
   "metadata": {
    "ExecuteTime": {
     "end_time": "2021-04-12T19:04:00.100852Z",
     "start_time": "2021-04-12T19:03:59.415759Z"
    },
    "hidden": true
   },
   "outputs": [
    {
     "data": {
      "application/vnd.plotly.v1+json": {
       "config": {
        "linkText": "Export to plot.ly",
        "plotlyServerURL": "https://plot.ly",
        "showLink": true
       },
       "data": [
        {
         "line": {
          "color": "rgba(255, 153, 51, 1.0)",
          "dash": "solid",
          "shape": "linear",
          "width": 1.3
         },
         "mode": "lines",
         "name": "MWh",
         "text": "",
         "type": "scatter",
         "x": [
          "2019-06-05",
          "2019-06-06",
          "2019-06-07",
          "2019-06-08",
          "2019-06-09",
          "2019-06-10",
          "2019-06-11",
          "2019-06-12",
          "2019-06-13",
          "2019-06-14",
          "2019-06-15",
          "2019-06-16",
          "2019-06-17",
          "2019-06-18",
          "2019-06-19",
          "2019-06-20",
          "2019-06-21",
          "2019-06-22",
          "2019-06-23",
          "2019-06-24",
          "2019-06-25",
          "2019-06-26",
          "2019-06-27",
          "2019-06-28",
          "2019-06-29",
          "2019-06-30",
          "2019-07-01",
          "2019-07-02",
          "2019-07-03",
          "2019-07-04",
          "2019-07-05",
          "2019-07-06",
          "2019-07-07",
          "2019-07-08",
          "2019-07-09",
          "2019-07-10",
          "2019-07-11",
          "2019-07-12",
          "2019-07-13",
          "2019-07-14",
          "2019-07-15",
          "2019-07-16",
          "2019-07-17",
          "2019-07-18",
          "2019-07-19",
          "2019-07-20",
          "2019-07-21",
          "2019-07-22",
          "2019-07-23",
          "2019-07-24",
          "2019-07-25",
          "2019-07-26",
          "2019-07-27",
          "2019-07-28",
          "2019-07-29",
          "2019-07-30",
          "2019-07-31",
          "2019-08-01",
          "2019-08-02",
          "2019-08-03",
          "2019-08-04",
          "2019-08-05",
          "2019-08-06",
          "2019-08-07",
          "2019-08-08",
          "2019-08-09",
          "2019-08-10",
          "2019-08-11",
          "2019-08-12",
          "2019-08-13",
          "2019-08-14",
          "2019-08-15",
          "2019-08-16",
          "2019-08-17",
          "2019-08-18",
          "2019-08-19",
          "2019-08-20",
          "2019-08-21",
          "2019-08-22",
          "2019-08-23",
          "2019-08-24",
          "2019-08-25",
          "2019-08-26",
          "2019-08-27",
          "2019-08-28",
          "2019-08-29",
          "2019-08-30",
          "2019-08-31",
          "2019-09-01",
          "2019-09-02",
          "2019-09-03",
          "2019-09-04",
          "2019-09-05",
          "2019-09-06",
          "2019-09-07",
          "2019-09-08",
          "2019-09-09",
          "2019-09-10",
          "2019-09-11",
          "2019-09-12",
          "2019-09-13",
          "2019-09-14",
          "2019-09-15",
          "2019-09-16",
          "2019-09-17",
          "2019-09-18",
          "2019-09-19",
          "2019-09-20",
          "2019-09-21",
          "2019-09-22",
          "2019-09-23",
          "2019-09-24",
          "2019-09-25",
          "2019-09-26",
          "2019-09-27",
          "2019-09-28",
          "2019-09-29",
          "2019-09-30",
          "2019-10-01",
          "2019-10-02",
          "2019-10-03",
          "2019-10-04",
          "2019-10-05",
          "2019-10-06",
          "2019-10-07",
          "2019-10-08",
          "2019-10-09",
          "2019-10-10",
          "2019-10-11",
          "2019-10-12",
          "2019-10-13",
          "2019-10-14",
          "2019-10-15",
          "2019-10-16",
          "2019-10-17",
          "2019-10-18",
          "2019-10-19",
          "2019-10-20",
          "2019-10-21",
          "2019-10-22",
          "2019-10-23",
          "2019-10-24",
          "2019-10-25",
          "2019-10-26",
          "2019-10-27",
          "2019-10-28",
          "2019-10-29",
          "2019-10-30",
          "2019-10-31",
          "2019-11-01",
          "2019-11-02",
          "2019-11-03",
          "2019-11-04",
          "2019-11-05",
          "2019-11-06",
          "2019-11-07",
          "2019-11-08",
          "2019-11-09",
          "2019-11-10",
          "2019-11-11",
          "2019-11-12",
          "2019-11-13",
          "2019-11-14",
          "2019-11-15",
          "2019-11-16",
          "2019-11-17",
          "2019-11-18",
          "2019-11-19",
          "2019-11-20",
          "2019-11-21",
          "2019-11-22",
          "2019-11-23",
          "2019-11-24",
          "2019-11-25",
          "2019-11-26",
          "2019-11-27",
          "2019-11-28",
          "2019-11-29",
          "2019-11-30",
          "2019-12-01",
          "2019-12-02",
          "2019-12-03",
          "2019-12-04",
          "2019-12-05",
          "2019-12-06",
          "2019-12-07",
          "2019-12-08",
          "2019-12-09",
          "2019-12-10",
          "2019-12-11",
          "2019-12-12",
          "2019-12-13",
          "2019-12-14",
          "2019-12-15",
          "2019-12-16",
          "2019-12-17",
          "2019-12-18",
          "2019-12-19",
          "2019-12-20",
          "2019-12-21",
          "2019-12-22",
          "2019-12-23",
          "2019-12-24",
          "2019-12-25",
          "2019-12-26",
          "2019-12-27",
          "2019-12-28",
          "2019-12-29",
          "2019-12-30",
          "2019-12-31",
          "2020-01-01",
          "2020-01-02",
          "2020-01-03",
          "2020-01-04",
          "2020-01-05",
          "2020-01-06",
          "2020-01-07",
          "2020-01-08",
          "2020-01-09",
          "2020-01-10",
          "2020-01-11",
          "2020-01-12",
          "2020-01-13",
          "2020-01-14",
          "2020-01-15",
          "2020-01-16",
          "2020-01-17",
          "2020-01-18",
          "2020-01-19",
          "2020-01-20",
          "2020-01-21",
          "2020-01-22",
          "2020-01-23",
          "2020-01-24",
          "2020-01-25",
          "2020-01-26",
          "2020-01-27",
          "2020-01-28",
          "2020-01-29",
          "2020-01-30",
          "2020-01-31",
          "2020-02-01",
          "2020-02-02",
          "2020-02-03",
          "2020-02-04",
          "2020-02-05",
          "2020-02-06",
          "2020-02-07",
          "2020-02-08",
          "2020-02-09",
          "2020-02-10",
          "2020-02-11",
          "2020-02-12",
          "2020-02-13",
          "2020-02-14",
          "2020-02-15",
          "2020-02-16",
          "2020-02-17",
          "2020-02-18",
          "2020-02-19",
          "2020-02-20",
          "2020-02-21",
          "2020-02-22",
          "2020-02-23",
          "2020-02-24",
          "2020-02-25",
          "2020-02-26",
          "2020-02-27",
          "2020-02-28",
          "2020-02-29",
          "2020-03-01",
          "2020-03-02",
          "2020-03-03",
          "2020-03-04",
          "2020-03-05",
          "2020-03-06",
          "2020-03-07",
          "2020-03-08",
          "2020-03-09",
          "2020-03-10",
          "2020-03-11",
          "2020-03-12",
          "2020-03-13",
          "2020-03-14",
          "2020-03-15",
          "2020-03-16",
          "2020-03-17",
          "2020-03-18",
          "2020-03-19",
          "2020-03-20",
          "2020-03-21",
          "2020-03-22",
          "2020-03-23",
          "2020-03-24",
          "2020-03-25",
          "2020-03-26",
          "2020-03-27",
          "2020-03-28",
          "2020-03-29",
          "2020-03-30"
         ],
         "y": [
          205231.885,
          205121.9593386317,
          207174.452,
          196992.125,
          173742.691,
          202115.272,
          213172.384,
          214206.228,
          210219.923,
          210647.25,
          201523.644,
          173220.341,
          202818.984,
          213100.805,
          211586.981,
          212255.22249000001,
          211196.276,
          199010.263,
          174216.801,
          201163.077,
          208199.545,
          208392.528,
          201950.252,
          203798.639,
          194927.398,
          169873.006,
          193055.643,
          204108.459,
          202544.88,
          203946.333,
          201122.122,
          192091.125,
          169635.476,
          196427.65843207831,
          206337.9759943712,
          211699.241,
          209984.745,
          208242.32,
          192568.957,
          165796.829,
          190345.883,
          197304.89262820993,
          199931.004,
          201280.607,
          198712.895,
          184998.215,
          160963.419,
          186454.933,
          195796.589,
          197287.062,
          195025.742,
          194694.8,
          184374.574,
          162627.706,
          190961.858,
          199457.618,
          202452.177,
          203162.521,
          202889.594,
          196053.95979999998,
          172637.027,
          199254.661,
          206007.418,
          203394.847,
          201745.792,
          200406.64,
          191741.784,
          167069.288,
          194524.297,
          205047.168,
          208453.668,
          207533.345,
          206737.021,
          196792.662,
          172401.209,
          201514.617,
          208755.806,
          211702.788,
          210033.265,
          201585.253,
          187646.883,
          164951.972,
          188368.346,
          194208.01359781428,
          198116.41,
          197749.753,
          198522.107,
          187984.448,
          163619.952,
          193289.27,
          199188.888,
          204328.085,
          202078.586,
          199325.628,
          187721.683,
          163947.116,
          190909.494,
          198840.569,
          198612.584,
          201182.795,
          199985.169,
          187706.973,
          158599.506,
          151766.345,
          190357.229,
          199330.987,
          197681.325,
          195693.814,
          185969.621,
          164464.339,
          191005,
          198628,
          200546,
          199862,
          197636,
          187436,
          162312,
          180928,
          187697,
          189882,
          190440,
          190613,
          180690,
          159532,
          186287,
          193666,
          197044,
          199651,
          198878,
          184454,
          161012,
          189008,
          199283,
          199886,
          197439,
          194628,
          182012,
          157451,
          179750,
          187454,
          187039,
          189448,
          188045,
          175670,
          159302,
          178933,
          189269,
          192074,
          189060,
          187523,
          173539,
          155669,
          185071,
          194240,
          197386,
          199822,
          198145,
          185040,
          163064,
          189833,
          198013,
          193707,
          191211,
          190685,
          179913,
          155538,
          155473,
          182764,
          194381,
          199227,
          196224,
          185421,
          161952,
          187654,
          196899,
          199330,
          199195,
          197505,
          183926,
          162640,
          188061,
          197610,
          198861,
          198273,
          197910,
          183631,
          162086,
          189322,
          199796,
          197256,
          172912,
          184812,
          180866,
          162353,
          188477,
          197525,
          195950,
          196053,
          193610,
          178419,
          158125,
          167160,
          153466,
          128624,
          159127,
          169847,
          167376,
          152744,
          161393,
          153785,
          129479,
          160216,
          176153,
          170064,
          154375,
          179303,
          190582,
          193961,
          195431,
          193819,
          182426,
          159732,
          187431,
          196814,
          199947,
          199867,
          198781,
          187145,
          164080,
          187257,
          194655,
          196498,
          197180.599,
          194469.072,
          182328.698,
          158767.24745535228,
          184964,
          194913,
          195876,
          195641,
          194707,
          182479,
          157497,
          157350.724,
          180261.8694747058,
          190598.32145057345,
          187284.165,
          188032.952,
          180791.29936200002,
          156802.632,
          185664.461,
          196090.494,
          198069.94,
          196326.3004968575,
          198104.11,
          197219.405,
          165175.5991363423,
          193444.758,
          205066.911,
          207864.01059883178,
          208532.257,
          206646.291,
          195404.65734338292,
          170638.966,
          194946.982,
          207646.143,
          206187.856,
          203216.015,
          203384.3655258246,
          193804.37302020256,
          168483.515,
          195732.045,
          206334.203,
          208013.69892374228,
          209467.73,
          204347.097,
          195523.827,
          168597.855,
          194525.969,
          206944.76298956136,
          209419.85150708232,
          212493.446,
          211848.227,
          198746.1259198897,
          172471.601743114,
          172167.1345528299,
          196979.657,
          209386.045,
          207798.931,
          205937.07269599594,
          197432.10889048717,
          171967.55659909293,
          197526.498129075,
          206724.15,
          207132.60167331056,
          205825.95295446686,
          202961.53843346087,
          192610.26960474052,
          168345.521,
          191108.613
         ]
        },
        {
         "line": {
          "color": "rgba(55, 128, 191, 1.0)",
          "dash": "solid",
          "shape": "linear",
          "width": 1.3
         },
         "mode": "lines",
         "name": "predict",
         "text": "",
         "type": "scatter",
         "x": [
          "2019-06-05",
          "2019-06-06",
          "2019-06-07",
          "2019-06-08",
          "2019-06-09",
          "2019-06-10",
          "2019-06-11",
          "2019-06-12",
          "2019-06-13",
          "2019-06-14",
          "2019-06-15",
          "2019-06-16",
          "2019-06-17",
          "2019-06-18",
          "2019-06-19",
          "2019-06-20",
          "2019-06-21",
          "2019-06-22",
          "2019-06-23",
          "2019-06-24",
          "2019-06-25",
          "2019-06-26",
          "2019-06-27",
          "2019-06-28",
          "2019-06-29",
          "2019-06-30",
          "2019-07-01",
          "2019-07-02",
          "2019-07-03",
          "2019-07-04",
          "2019-07-05",
          "2019-07-06",
          "2019-07-07",
          "2019-07-08",
          "2019-07-09",
          "2019-07-10",
          "2019-07-11",
          "2019-07-12",
          "2019-07-13",
          "2019-07-14",
          "2019-07-15",
          "2019-07-16",
          "2019-07-17",
          "2019-07-18",
          "2019-07-19",
          "2019-07-20",
          "2019-07-21",
          "2019-07-22",
          "2019-07-23",
          "2019-07-24",
          "2019-07-25",
          "2019-07-26",
          "2019-07-27",
          "2019-07-28",
          "2019-07-29",
          "2019-07-30",
          "2019-07-31",
          "2019-08-01",
          "2019-08-02",
          "2019-08-03",
          "2019-08-04",
          "2019-08-05",
          "2019-08-06",
          "2019-08-07",
          "2019-08-08",
          "2019-08-09",
          "2019-08-10",
          "2019-08-11",
          "2019-08-12",
          "2019-08-13",
          "2019-08-14",
          "2019-08-15",
          "2019-08-16",
          "2019-08-17",
          "2019-08-18",
          "2019-08-19",
          "2019-08-20",
          "2019-08-21",
          "2019-08-22",
          "2019-08-23",
          "2019-08-24",
          "2019-08-25",
          "2019-08-26",
          "2019-08-27",
          "2019-08-28",
          "2019-08-29",
          "2019-08-30",
          "2019-08-31",
          "2019-09-01",
          "2019-09-02",
          "2019-09-03",
          "2019-09-04",
          "2019-09-05",
          "2019-09-06",
          "2019-09-07",
          "2019-09-08",
          "2019-09-09",
          "2019-09-10",
          "2019-09-11",
          "2019-09-12",
          "2019-09-13",
          "2019-09-14",
          "2019-09-15",
          "2019-09-16",
          "2019-09-17",
          "2019-09-18",
          "2019-09-19",
          "2019-09-20",
          "2019-09-21",
          "2019-09-22",
          "2019-09-23",
          "2019-09-24",
          "2019-09-25",
          "2019-09-26",
          "2019-09-27",
          "2019-09-28",
          "2019-09-29",
          "2019-09-30",
          "2019-10-01",
          "2019-10-02",
          "2019-10-03",
          "2019-10-04",
          "2019-10-05",
          "2019-10-06",
          "2019-10-07",
          "2019-10-08",
          "2019-10-09",
          "2019-10-10",
          "2019-10-11",
          "2019-10-12",
          "2019-10-13",
          "2019-10-14",
          "2019-10-15",
          "2019-10-16",
          "2019-10-17",
          "2019-10-18",
          "2019-10-19",
          "2019-10-20",
          "2019-10-21",
          "2019-10-22",
          "2019-10-23",
          "2019-10-24",
          "2019-10-25",
          "2019-10-26",
          "2019-10-27",
          "2019-10-28",
          "2019-10-29",
          "2019-10-30",
          "2019-10-31",
          "2019-11-01",
          "2019-11-02",
          "2019-11-03",
          "2019-11-04",
          "2019-11-05",
          "2019-11-06",
          "2019-11-07",
          "2019-11-08",
          "2019-11-09",
          "2019-11-10",
          "2019-11-11",
          "2019-11-12",
          "2019-11-13",
          "2019-11-14",
          "2019-11-15",
          "2019-11-16",
          "2019-11-17",
          "2019-11-18",
          "2019-11-19",
          "2019-11-20",
          "2019-11-21",
          "2019-11-22",
          "2019-11-23",
          "2019-11-24",
          "2019-11-25",
          "2019-11-26",
          "2019-11-27",
          "2019-11-28",
          "2019-11-29",
          "2019-11-30",
          "2019-12-01",
          "2019-12-02",
          "2019-12-03",
          "2019-12-04",
          "2019-12-05",
          "2019-12-06",
          "2019-12-07",
          "2019-12-08",
          "2019-12-09",
          "2019-12-10",
          "2019-12-11",
          "2019-12-12",
          "2019-12-13",
          "2019-12-14",
          "2019-12-15",
          "2019-12-16",
          "2019-12-17",
          "2019-12-18",
          "2019-12-19",
          "2019-12-20",
          "2019-12-21",
          "2019-12-22",
          "2019-12-23",
          "2019-12-24",
          "2019-12-25",
          "2019-12-26",
          "2019-12-27",
          "2019-12-28",
          "2019-12-29",
          "2019-12-30",
          "2019-12-31",
          "2020-01-01",
          "2020-01-02",
          "2020-01-03",
          "2020-01-04",
          "2020-01-05",
          "2020-01-06",
          "2020-01-07",
          "2020-01-08",
          "2020-01-09",
          "2020-01-10",
          "2020-01-11",
          "2020-01-12",
          "2020-01-13",
          "2020-01-14",
          "2020-01-15",
          "2020-01-16",
          "2020-01-17",
          "2020-01-18",
          "2020-01-19",
          "2020-01-20",
          "2020-01-21",
          "2020-01-22",
          "2020-01-23",
          "2020-01-24",
          "2020-01-25",
          "2020-01-26",
          "2020-01-27",
          "2020-01-28",
          "2020-01-29",
          "2020-01-30",
          "2020-01-31",
          "2020-02-01",
          "2020-02-02",
          "2020-02-03",
          "2020-02-04",
          "2020-02-05",
          "2020-02-06",
          "2020-02-07",
          "2020-02-08",
          "2020-02-09",
          "2020-02-10",
          "2020-02-11",
          "2020-02-12",
          "2020-02-13",
          "2020-02-14",
          "2020-02-15",
          "2020-02-16",
          "2020-02-17",
          "2020-02-18",
          "2020-02-19",
          "2020-02-20",
          "2020-02-21",
          "2020-02-22",
          "2020-02-23",
          "2020-02-24",
          "2020-02-25",
          "2020-02-26",
          "2020-02-27",
          "2020-02-28",
          "2020-02-29",
          "2020-03-01",
          "2020-03-02",
          "2020-03-03",
          "2020-03-04",
          "2020-03-05",
          "2020-03-06",
          "2020-03-07",
          "2020-03-08",
          "2020-03-09",
          "2020-03-10",
          "2020-03-11",
          "2020-03-12",
          "2020-03-13",
          "2020-03-14",
          "2020-03-15",
          "2020-03-16",
          "2020-03-17",
          "2020-03-18",
          "2020-03-19",
          "2020-03-20",
          "2020-03-21",
          "2020-03-22",
          "2020-03-23",
          "2020-03-24",
          "2020-03-25",
          "2020-03-26",
          "2020-03-27",
          "2020-03-28",
          "2020-03-29",
          "2020-03-30"
         ],
         "y": [
          212726.1752214993,
          213326.70647944027,
          211773.2725804556,
          199611.35529619263,
          176003.90066346686,
          202510.05797343567,
          207597.40957488987,
          208288.99137166239,
          208554.8928143372,
          206586.17431624484,
          194856.9661727106,
          170948.3369069841,
          196712.1730961945,
          201400.8867157918,
          201934.7330656219,
          201909.8751095285,
          199686.6832457434,
          188628.72264032206,
          164628.67918403356,
          189603.82646579505,
          194012.18504001093,
          195013.22817909802,
          195262.2709813245,
          193343.59868459872,
          183424.40460294852,
          159717.07204030058,
          184802.8078666008,
          190243.85638472773,
          191997.4063343858,
          193031.800212118,
          192403.6317704991,
          182209.48322845687,
          160262.99366435336,
          186063.7165649437,
          191673.45850469163,
          193220.67903899087,
          193981.42181375323,
          193290.5415515481,
          183579.6118612487,
          161331.03212855948,
          187344.8135288957,
          193012.7312148753,
          194303.77069196766,
          194789.10344481142,
          193937.7136055626,
          184632.29728289912,
          162036.4516027366,
          188076.03821120685,
          193833.11092113858,
          195007.46122593078,
          195394.89576032388,
          194490.02767051265,
          185708.7998080068,
          162923.11877473505,
          188768.33934720614,
          194684.27595586728,
          195746.5942677582,
          201737.77129908348,
          200606.72705336078,
          191539.0896984522,
          167122.68308368293,
          190779.94656893797,
          199176.06444675458,
          199774.49729082006,
          199993.65468627826,
          198739.07250077857,
          190211.5205299704,
          165845.25145869053,
          189416.16391443892,
          198251.38934441458,
          198951.2287806518,
          199530.9323816042,
          198523.25407864273,
          189930.34287248563,
          165686.70540405498,
          189067.86747148455,
          197871.31201459118,
          198402.77833915674,
          199081.9473811831,
          198190.77844341687,
          189514.5756629282,
          165584.23387705383,
          189139.96106824296,
          198196.32356250644,
          198856.61011357827,
          199831.06768934205,
          199290.06074970128,
          190309.34066103838,
          163273.4786172989,
          190722.48747039022,
          198578.9332918187,
          199586.32999641052,
          198198.77954006926,
          195802.56076753428,
          186657.63407799415,
          162617.32009306285,
          190153.73567517236,
          198281.56460379783,
          199212.7632373168,
          197866.71743867532,
          195566.93185307083,
          183836.72179790583,
          157482.71415598685,
          151238.40256086556,
          186665.91332229835,
          195312.1162743797,
          196604.6081086869,
          194507.8091403952,
          184595.1551907882,
          160609.4530452892,
          187839.95093848725,
          195893.57350163494,
          196699.2956928193,
          195721.3684779882,
          193567.9865422622,
          183116.65779941768,
          159098.07944727913,
          185864.4988650758,
          191083.95096932532,
          194197.86770388825,
          193042.09384321608,
          190230.64947385452,
          180759.40133337156,
          158125.14105927615,
          185252.73569781662,
          191888.46295537605,
          195006.93067923098,
          194445.119882054,
          195020.63203070997,
          179191.13195975128,
          158007.2316465897,
          186107.5803811804,
          192911.56243284143,
          196031.19015192232,
          195185.0918826219,
          192801.14644987212,
          182876.63659364596,
          160879.8254245056,
          186736.39463304452,
          193442.88664899534,
          196787.79322680266,
          196412.13785788155,
          194506.728946116,
          184573.40429978317,
          163018.1569943068,
          188858.94064133544,
          195989.12324460212,
          199239.16541213318,
          198746.85778923827,
          188614.33742301725,
          181090.97927226996,
          157313.37479039418,
          183646.75840872,
          191362.60667806145,
          193003.03699187457,
          193515.59545771958,
          191061.55564455173,
          182789.87590437604,
          159059.56104192906,
          184275.67717113212,
          191009.19073809966,
          192549.08626976798,
          192456.81961822713,
          189806.37059693687,
          180108.74093839785,
          154417.70964387892,
          151284.33996729532,
          179802.63103470387,
          190259.29487410237,
          192115.9397321273,
          188966.19007557703,
          181415.24612721737,
          159147.49920827962,
          183448.01474916117,
          189294.8107458919,
          191715.0300356824,
          190776.0499830286,
          187117.5764401749,
          179617.9540763984,
          157540.7198095209,
          183638.32755733276,
          192687.65974303175,
          195018.48185338578,
          195244.15408105432,
          192315.18359087885,
          179295.60280516,
          158931.7380479454,
          184578.38184935594,
          191684.54992712388,
          188986.56778056,
          169608.55187032497,
          185256.98496352622,
          177405.38090624483,
          158430.34148596055,
          182919.75332688141,
          190029.87539575456,
          192965.97553047392,
          191844.37550662633,
          187528.08099886545,
          174947.78073821194,
          156646.50138683824,
          171310.87617160488,
          151557.4337205161,
          121537.38882037965,
          158275.0359440381,
          174569.64162059984,
          168881.51714108986,
          148800.21025383016,
          158672.77830357666,
          137820.73577003347,
          125405.32038826976,
          164591.99295753683,
          174155.43910209436,
          168621.19470392654,
          150329.83244925257,
          176987.81206019438,
          188287.8383977641,
          193528.18784113994,
          197525.77991457662,
          196092.2135044114,
          185389.01054753453,
          162524.750089221,
          187815.96567913468,
          196290.7429949117,
          197574.15034630825,
          198029.7053887234,
          196733.82980044585,
          186093.9345202409,
          163327.09005112702,
          188761.57823284,
          197220.38120494373,
          198505.42662648266,
          198821.4688426015,
          197320.64864376423,
          186379.59148060865,
          163387.52332916562,
          188881.66619993685,
          196976.83174263174,
          198240.0446141777,
          198404.8392217611,
          196619.89296615968,
          185035.80940947897,
          160213.8470457919,
          167666.5779763247,
          190753.67450704327,
          198670.69980078202,
          200162.21243232678,
          199296.32173597885,
          188817.1968613964,
          164146.18646570397,
          191777.41416618082,
          201638.05274879636,
          203906.76576757172,
          203953.3191296478,
          203342.45007746873,
          192727.05883250816,
          168206.3959307343,
          195562.95766129167,
          204769.5253869171,
          206507.11820013673,
          205945.88974554077,
          204906.18527342143,
          193859.77464372222,
          169141.4778287784,
          197109.0703992042,
          206446.24707669878,
          208488.0719467269,
          208034.0008716096,
          207254.07171788704,
          196256.14174571648,
          171746.1192603362,
          199465.3480719621,
          205440.90328722878,
          209248.4140131686,
          209526.5339931341,
          208984.57040477116,
          199086.21541236067,
          173698.09930720384,
          201556.19900580417,
          207288.0361437286,
          211057.23406326197,
          211158.3290971753,
          210562.47359675018,
          200426.24875573668,
          172095.9656646936,
          177348.9593388816,
          208586.03781141056,
          212542.29443916393,
          212661.4074154988,
          212150.96265363274,
          201897.27941063777,
          176663.6109319252,
          204394.62444589296,
          209974.63738378556,
          214095.02507975625,
          214205.05353891742,
          213768.73046437255,
          203391.05408833077,
          178256.1918491961,
          205865.43657831958
         ]
        }
       ],
       "layout": {
        "legend": {
         "bgcolor": "#F5F6F9",
         "font": {
          "color": "#4D5663"
         }
        },
        "paper_bgcolor": "#F5F6F9",
        "plot_bgcolor": "#F5F6F9",
        "template": {
         "data": {
          "bar": [
           {
            "error_x": {
             "color": "#2a3f5f"
            },
            "error_y": {
             "color": "#2a3f5f"
            },
            "marker": {
             "line": {
              "color": "#E5ECF6",
              "width": 0.5
             }
            },
            "type": "bar"
           }
          ],
          "barpolar": [
           {
            "marker": {
             "line": {
              "color": "#E5ECF6",
              "width": 0.5
             }
            },
            "type": "barpolar"
           }
          ],
          "carpet": [
           {
            "aaxis": {
             "endlinecolor": "#2a3f5f",
             "gridcolor": "white",
             "linecolor": "white",
             "minorgridcolor": "white",
             "startlinecolor": "#2a3f5f"
            },
            "baxis": {
             "endlinecolor": "#2a3f5f",
             "gridcolor": "white",
             "linecolor": "white",
             "minorgridcolor": "white",
             "startlinecolor": "#2a3f5f"
            },
            "type": "carpet"
           }
          ],
          "choropleth": [
           {
            "colorbar": {
             "outlinewidth": 0,
             "ticks": ""
            },
            "type": "choropleth"
           }
          ],
          "contour": [
           {
            "colorbar": {
             "outlinewidth": 0,
             "ticks": ""
            },
            "colorscale": [
             [
              0,
              "#0d0887"
             ],
             [
              0.1111111111111111,
              "#46039f"
             ],
             [
              0.2222222222222222,
              "#7201a8"
             ],
             [
              0.3333333333333333,
              "#9c179e"
             ],
             [
              0.4444444444444444,
              "#bd3786"
             ],
             [
              0.5555555555555556,
              "#d8576b"
             ],
             [
              0.6666666666666666,
              "#ed7953"
             ],
             [
              0.7777777777777778,
              "#fb9f3a"
             ],
             [
              0.8888888888888888,
              "#fdca26"
             ],
             [
              1,
              "#f0f921"
             ]
            ],
            "type": "contour"
           }
          ],
          "contourcarpet": [
           {
            "colorbar": {
             "outlinewidth": 0,
             "ticks": ""
            },
            "type": "contourcarpet"
           }
          ],
          "heatmap": [
           {
            "colorbar": {
             "outlinewidth": 0,
             "ticks": ""
            },
            "colorscale": [
             [
              0,
              "#0d0887"
             ],
             [
              0.1111111111111111,
              "#46039f"
             ],
             [
              0.2222222222222222,
              "#7201a8"
             ],
             [
              0.3333333333333333,
              "#9c179e"
             ],
             [
              0.4444444444444444,
              "#bd3786"
             ],
             [
              0.5555555555555556,
              "#d8576b"
             ],
             [
              0.6666666666666666,
              "#ed7953"
             ],
             [
              0.7777777777777778,
              "#fb9f3a"
             ],
             [
              0.8888888888888888,
              "#fdca26"
             ],
             [
              1,
              "#f0f921"
             ]
            ],
            "type": "heatmap"
           }
          ],
          "heatmapgl": [
           {
            "colorbar": {
             "outlinewidth": 0,
             "ticks": ""
            },
            "colorscale": [
             [
              0,
              "#0d0887"
             ],
             [
              0.1111111111111111,
              "#46039f"
             ],
             [
              0.2222222222222222,
              "#7201a8"
             ],
             [
              0.3333333333333333,
              "#9c179e"
             ],
             [
              0.4444444444444444,
              "#bd3786"
             ],
             [
              0.5555555555555556,
              "#d8576b"
             ],
             [
              0.6666666666666666,
              "#ed7953"
             ],
             [
              0.7777777777777778,
              "#fb9f3a"
             ],
             [
              0.8888888888888888,
              "#fdca26"
             ],
             [
              1,
              "#f0f921"
             ]
            ],
            "type": "heatmapgl"
           }
          ],
          "histogram": [
           {
            "marker": {
             "colorbar": {
              "outlinewidth": 0,
              "ticks": ""
             }
            },
            "type": "histogram"
           }
          ],
          "histogram2d": [
           {
            "colorbar": {
             "outlinewidth": 0,
             "ticks": ""
            },
            "colorscale": [
             [
              0,
              "#0d0887"
             ],
             [
              0.1111111111111111,
              "#46039f"
             ],
             [
              0.2222222222222222,
              "#7201a8"
             ],
             [
              0.3333333333333333,
              "#9c179e"
             ],
             [
              0.4444444444444444,
              "#bd3786"
             ],
             [
              0.5555555555555556,
              "#d8576b"
             ],
             [
              0.6666666666666666,
              "#ed7953"
             ],
             [
              0.7777777777777778,
              "#fb9f3a"
             ],
             [
              0.8888888888888888,
              "#fdca26"
             ],
             [
              1,
              "#f0f921"
             ]
            ],
            "type": "histogram2d"
           }
          ],
          "histogram2dcontour": [
           {
            "colorbar": {
             "outlinewidth": 0,
             "ticks": ""
            },
            "colorscale": [
             [
              0,
              "#0d0887"
             ],
             [
              0.1111111111111111,
              "#46039f"
             ],
             [
              0.2222222222222222,
              "#7201a8"
             ],
             [
              0.3333333333333333,
              "#9c179e"
             ],
             [
              0.4444444444444444,
              "#bd3786"
             ],
             [
              0.5555555555555556,
              "#d8576b"
             ],
             [
              0.6666666666666666,
              "#ed7953"
             ],
             [
              0.7777777777777778,
              "#fb9f3a"
             ],
             [
              0.8888888888888888,
              "#fdca26"
             ],
             [
              1,
              "#f0f921"
             ]
            ],
            "type": "histogram2dcontour"
           }
          ],
          "mesh3d": [
           {
            "colorbar": {
             "outlinewidth": 0,
             "ticks": ""
            },
            "type": "mesh3d"
           }
          ],
          "parcoords": [
           {
            "line": {
             "colorbar": {
              "outlinewidth": 0,
              "ticks": ""
             }
            },
            "type": "parcoords"
           }
          ],
          "scatter": [
           {
            "marker": {
             "colorbar": {
              "outlinewidth": 0,
              "ticks": ""
             }
            },
            "type": "scatter"
           }
          ],
          "scatter3d": [
           {
            "line": {
             "colorbar": {
              "outlinewidth": 0,
              "ticks": ""
             }
            },
            "marker": {
             "colorbar": {
              "outlinewidth": 0,
              "ticks": ""
             }
            },
            "type": "scatter3d"
           }
          ],
          "scattercarpet": [
           {
            "marker": {
             "colorbar": {
              "outlinewidth": 0,
              "ticks": ""
             }
            },
            "type": "scattercarpet"
           }
          ],
          "scattergeo": [
           {
            "marker": {
             "colorbar": {
              "outlinewidth": 0,
              "ticks": ""
             }
            },
            "type": "scattergeo"
           }
          ],
          "scattergl": [
           {
            "marker": {
             "colorbar": {
              "outlinewidth": 0,
              "ticks": ""
             }
            },
            "type": "scattergl"
           }
          ],
          "scattermapbox": [
           {
            "marker": {
             "colorbar": {
              "outlinewidth": 0,
              "ticks": ""
             }
            },
            "type": "scattermapbox"
           }
          ],
          "scatterpolar": [
           {
            "marker": {
             "colorbar": {
              "outlinewidth": 0,
              "ticks": ""
             }
            },
            "type": "scatterpolar"
           }
          ],
          "scatterpolargl": [
           {
            "marker": {
             "colorbar": {
              "outlinewidth": 0,
              "ticks": ""
             }
            },
            "type": "scatterpolargl"
           }
          ],
          "scatterternary": [
           {
            "marker": {
             "colorbar": {
              "outlinewidth": 0,
              "ticks": ""
             }
            },
            "type": "scatterternary"
           }
          ],
          "surface": [
           {
            "colorbar": {
             "outlinewidth": 0,
             "ticks": ""
            },
            "colorscale": [
             [
              0,
              "#0d0887"
             ],
             [
              0.1111111111111111,
              "#46039f"
             ],
             [
              0.2222222222222222,
              "#7201a8"
             ],
             [
              0.3333333333333333,
              "#9c179e"
             ],
             [
              0.4444444444444444,
              "#bd3786"
             ],
             [
              0.5555555555555556,
              "#d8576b"
             ],
             [
              0.6666666666666666,
              "#ed7953"
             ],
             [
              0.7777777777777778,
              "#fb9f3a"
             ],
             [
              0.8888888888888888,
              "#fdca26"
             ],
             [
              1,
              "#f0f921"
             ]
            ],
            "type": "surface"
           }
          ],
          "table": [
           {
            "cells": {
             "fill": {
              "color": "#EBF0F8"
             },
             "line": {
              "color": "white"
             }
            },
            "header": {
             "fill": {
              "color": "#C8D4E3"
             },
             "line": {
              "color": "white"
             }
            },
            "type": "table"
           }
          ]
         },
         "layout": {
          "annotationdefaults": {
           "arrowcolor": "#2a3f5f",
           "arrowhead": 0,
           "arrowwidth": 1
          },
          "colorscale": {
           "diverging": [
            [
             0,
             "#8e0152"
            ],
            [
             0.1,
             "#c51b7d"
            ],
            [
             0.2,
             "#de77ae"
            ],
            [
             0.3,
             "#f1b6da"
            ],
            [
             0.4,
             "#fde0ef"
            ],
            [
             0.5,
             "#f7f7f7"
            ],
            [
             0.6,
             "#e6f5d0"
            ],
            [
             0.7,
             "#b8e186"
            ],
            [
             0.8,
             "#7fbc41"
            ],
            [
             0.9,
             "#4d9221"
            ],
            [
             1,
             "#276419"
            ]
           ],
           "sequential": [
            [
             0,
             "#0d0887"
            ],
            [
             0.1111111111111111,
             "#46039f"
            ],
            [
             0.2222222222222222,
             "#7201a8"
            ],
            [
             0.3333333333333333,
             "#9c179e"
            ],
            [
             0.4444444444444444,
             "#bd3786"
            ],
            [
             0.5555555555555556,
             "#d8576b"
            ],
            [
             0.6666666666666666,
             "#ed7953"
            ],
            [
             0.7777777777777778,
             "#fb9f3a"
            ],
            [
             0.8888888888888888,
             "#fdca26"
            ],
            [
             1,
             "#f0f921"
            ]
           ],
           "sequentialminus": [
            [
             0,
             "#0d0887"
            ],
            [
             0.1111111111111111,
             "#46039f"
            ],
            [
             0.2222222222222222,
             "#7201a8"
            ],
            [
             0.3333333333333333,
             "#9c179e"
            ],
            [
             0.4444444444444444,
             "#bd3786"
            ],
            [
             0.5555555555555556,
             "#d8576b"
            ],
            [
             0.6666666666666666,
             "#ed7953"
            ],
            [
             0.7777777777777778,
             "#fb9f3a"
            ],
            [
             0.8888888888888888,
             "#fdca26"
            ],
            [
             1,
             "#f0f921"
            ]
           ]
          },
          "colorway": [
           "#636efa",
           "#EF553B",
           "#00cc96",
           "#ab63fa",
           "#FFA15A",
           "#19d3f3",
           "#FF6692",
           "#B6E880",
           "#FF97FF",
           "#FECB52"
          ],
          "font": {
           "color": "#2a3f5f"
          },
          "geo": {
           "bgcolor": "white",
           "lakecolor": "white",
           "landcolor": "#E5ECF6",
           "showlakes": true,
           "showland": true,
           "subunitcolor": "white"
          },
          "hoverlabel": {
           "align": "left"
          },
          "hovermode": "closest",
          "mapbox": {
           "style": "light"
          },
          "paper_bgcolor": "white",
          "plot_bgcolor": "#E5ECF6",
          "polar": {
           "angularaxis": {
            "gridcolor": "white",
            "linecolor": "white",
            "ticks": ""
           },
           "bgcolor": "#E5ECF6",
           "radialaxis": {
            "gridcolor": "white",
            "linecolor": "white",
            "ticks": ""
           }
          },
          "scene": {
           "xaxis": {
            "backgroundcolor": "#E5ECF6",
            "gridcolor": "white",
            "gridwidth": 2,
            "linecolor": "white",
            "showbackground": true,
            "ticks": "",
            "zerolinecolor": "white"
           },
           "yaxis": {
            "backgroundcolor": "#E5ECF6",
            "gridcolor": "white",
            "gridwidth": 2,
            "linecolor": "white",
            "showbackground": true,
            "ticks": "",
            "zerolinecolor": "white"
           },
           "zaxis": {
            "backgroundcolor": "#E5ECF6",
            "gridcolor": "white",
            "gridwidth": 2,
            "linecolor": "white",
            "showbackground": true,
            "ticks": "",
            "zerolinecolor": "white"
           }
          },
          "shapedefaults": {
           "line": {
            "color": "#2a3f5f"
           }
          },
          "ternary": {
           "aaxis": {
            "gridcolor": "white",
            "linecolor": "white",
            "ticks": ""
           },
           "baxis": {
            "gridcolor": "white",
            "linecolor": "white",
            "ticks": ""
           },
           "bgcolor": "#E5ECF6",
           "caxis": {
            "gridcolor": "white",
            "linecolor": "white",
            "ticks": ""
           }
          },
          "title": {
           "x": 0.05
          },
          "xaxis": {
           "automargin": true,
           "gridcolor": "white",
           "linecolor": "white",
           "ticks": "",
           "zerolinecolor": "white",
           "zerolinewidth": 2
          },
          "yaxis": {
           "automargin": true,
           "gridcolor": "white",
           "linecolor": "white",
           "ticks": "",
           "zerolinecolor": "white",
           "zerolinewidth": 2
          }
         }
        },
        "title": {
         "font": {
          "color": "#4D5663"
         }
        },
        "xaxis": {
         "gridcolor": "#E1E5ED",
         "showgrid": true,
         "tickfont": {
          "color": "#4D5663"
         },
         "title": {
          "font": {
           "color": "#4D5663"
          },
          "text": ""
         },
         "zerolinecolor": "#E1E5ED"
        },
        "yaxis": {
         "gridcolor": "#E1E5ED",
         "showgrid": true,
         "tickfont": {
          "color": "#4D5663"
         },
         "title": {
          "font": {
           "color": "#4D5663"
          },
          "text": ""
         },
         "zerolinecolor": "#E1E5ED"
        }
       }
      },
      "text/html": [
       "<div>\n",
       "        \n",
       "        \n",
       "            <div id=\"e3be5536-8042-4582-96d1-6426c9c044b4\" class=\"plotly-graph-div\" style=\"height:525px; width:100%;\"></div>\n",
       "            <script type=\"text/javascript\">\n",
       "                require([\"plotly\"], function(Plotly) {\n",
       "                    window.PLOTLYENV=window.PLOTLYENV || {};\n",
       "                    window.PLOTLYENV.BASE_URL='https://plot.ly';\n",
       "                    \n",
       "                if (document.getElementById(\"e3be5536-8042-4582-96d1-6426c9c044b4\")) {\n",
       "                    Plotly.newPlot(\n",
       "                        'e3be5536-8042-4582-96d1-6426c9c044b4',\n",
       "                        [{\"line\": {\"color\": \"rgba(255, 153, 51, 1.0)\", \"dash\": \"solid\", \"shape\": \"linear\", \"width\": 1.3}, \"mode\": \"lines\", \"name\": \"MWh\", \"text\": \"\", \"type\": \"scatter\", \"x\": [\"2019-06-05\", \"2019-06-06\", \"2019-06-07\", \"2019-06-08\", \"2019-06-09\", \"2019-06-10\", \"2019-06-11\", \"2019-06-12\", \"2019-06-13\", \"2019-06-14\", \"2019-06-15\", \"2019-06-16\", \"2019-06-17\", \"2019-06-18\", \"2019-06-19\", \"2019-06-20\", \"2019-06-21\", \"2019-06-22\", \"2019-06-23\", \"2019-06-24\", \"2019-06-25\", \"2019-06-26\", \"2019-06-27\", \"2019-06-28\", \"2019-06-29\", \"2019-06-30\", \"2019-07-01\", \"2019-07-02\", \"2019-07-03\", \"2019-07-04\", \"2019-07-05\", \"2019-07-06\", \"2019-07-07\", \"2019-07-08\", \"2019-07-09\", \"2019-07-10\", \"2019-07-11\", \"2019-07-12\", \"2019-07-13\", \"2019-07-14\", \"2019-07-15\", \"2019-07-16\", \"2019-07-17\", \"2019-07-18\", \"2019-07-19\", \"2019-07-20\", \"2019-07-21\", \"2019-07-22\", \"2019-07-23\", \"2019-07-24\", \"2019-07-25\", \"2019-07-26\", \"2019-07-27\", \"2019-07-28\", \"2019-07-29\", \"2019-07-30\", \"2019-07-31\", \"2019-08-01\", \"2019-08-02\", \"2019-08-03\", \"2019-08-04\", \"2019-08-05\", \"2019-08-06\", \"2019-08-07\", \"2019-08-08\", \"2019-08-09\", \"2019-08-10\", \"2019-08-11\", \"2019-08-12\", \"2019-08-13\", \"2019-08-14\", \"2019-08-15\", \"2019-08-16\", \"2019-08-17\", \"2019-08-18\", \"2019-08-19\", \"2019-08-20\", \"2019-08-21\", \"2019-08-22\", \"2019-08-23\", \"2019-08-24\", \"2019-08-25\", \"2019-08-26\", \"2019-08-27\", \"2019-08-28\", \"2019-08-29\", \"2019-08-30\", \"2019-08-31\", \"2019-09-01\", \"2019-09-02\", \"2019-09-03\", \"2019-09-04\", \"2019-09-05\", \"2019-09-06\", \"2019-09-07\", \"2019-09-08\", \"2019-09-09\", \"2019-09-10\", \"2019-09-11\", \"2019-09-12\", \"2019-09-13\", \"2019-09-14\", \"2019-09-15\", \"2019-09-16\", \"2019-09-17\", \"2019-09-18\", \"2019-09-19\", \"2019-09-20\", \"2019-09-21\", \"2019-09-22\", \"2019-09-23\", \"2019-09-24\", \"2019-09-25\", \"2019-09-26\", \"2019-09-27\", \"2019-09-28\", \"2019-09-29\", \"2019-09-30\", \"2019-10-01\", \"2019-10-02\", \"2019-10-03\", \"2019-10-04\", \"2019-10-05\", \"2019-10-06\", \"2019-10-07\", \"2019-10-08\", \"2019-10-09\", \"2019-10-10\", \"2019-10-11\", \"2019-10-12\", \"2019-10-13\", \"2019-10-14\", \"2019-10-15\", \"2019-10-16\", \"2019-10-17\", \"2019-10-18\", \"2019-10-19\", \"2019-10-20\", \"2019-10-21\", \"2019-10-22\", \"2019-10-23\", \"2019-10-24\", \"2019-10-25\", \"2019-10-26\", \"2019-10-27\", \"2019-10-28\", \"2019-10-29\", \"2019-10-30\", \"2019-10-31\", \"2019-11-01\", \"2019-11-02\", \"2019-11-03\", \"2019-11-04\", \"2019-11-05\", \"2019-11-06\", \"2019-11-07\", \"2019-11-08\", \"2019-11-09\", \"2019-11-10\", \"2019-11-11\", \"2019-11-12\", \"2019-11-13\", \"2019-11-14\", \"2019-11-15\", \"2019-11-16\", \"2019-11-17\", \"2019-11-18\", \"2019-11-19\", \"2019-11-20\", \"2019-11-21\", \"2019-11-22\", \"2019-11-23\", \"2019-11-24\", \"2019-11-25\", \"2019-11-26\", \"2019-11-27\", \"2019-11-28\", \"2019-11-29\", \"2019-11-30\", \"2019-12-01\", \"2019-12-02\", \"2019-12-03\", \"2019-12-04\", \"2019-12-05\", \"2019-12-06\", \"2019-12-07\", \"2019-12-08\", \"2019-12-09\", \"2019-12-10\", \"2019-12-11\", \"2019-12-12\", \"2019-12-13\", \"2019-12-14\", \"2019-12-15\", \"2019-12-16\", \"2019-12-17\", \"2019-12-18\", \"2019-12-19\", \"2019-12-20\", \"2019-12-21\", \"2019-12-22\", \"2019-12-23\", \"2019-12-24\", \"2019-12-25\", \"2019-12-26\", \"2019-12-27\", \"2019-12-28\", \"2019-12-29\", \"2019-12-30\", \"2019-12-31\", \"2020-01-01\", \"2020-01-02\", \"2020-01-03\", \"2020-01-04\", \"2020-01-05\", \"2020-01-06\", \"2020-01-07\", \"2020-01-08\", \"2020-01-09\", \"2020-01-10\", \"2020-01-11\", \"2020-01-12\", \"2020-01-13\", \"2020-01-14\", \"2020-01-15\", \"2020-01-16\", \"2020-01-17\", \"2020-01-18\", \"2020-01-19\", \"2020-01-20\", \"2020-01-21\", \"2020-01-22\", \"2020-01-23\", \"2020-01-24\", \"2020-01-25\", \"2020-01-26\", \"2020-01-27\", \"2020-01-28\", \"2020-01-29\", \"2020-01-30\", \"2020-01-31\", \"2020-02-01\", \"2020-02-02\", \"2020-02-03\", \"2020-02-04\", \"2020-02-05\", \"2020-02-06\", \"2020-02-07\", \"2020-02-08\", \"2020-02-09\", \"2020-02-10\", \"2020-02-11\", \"2020-02-12\", \"2020-02-13\", \"2020-02-14\", \"2020-02-15\", \"2020-02-16\", \"2020-02-17\", \"2020-02-18\", \"2020-02-19\", \"2020-02-20\", \"2020-02-21\", \"2020-02-22\", \"2020-02-23\", \"2020-02-24\", \"2020-02-25\", \"2020-02-26\", \"2020-02-27\", \"2020-02-28\", \"2020-02-29\", \"2020-03-01\", \"2020-03-02\", \"2020-03-03\", \"2020-03-04\", \"2020-03-05\", \"2020-03-06\", \"2020-03-07\", \"2020-03-08\", \"2020-03-09\", \"2020-03-10\", \"2020-03-11\", \"2020-03-12\", \"2020-03-13\", \"2020-03-14\", \"2020-03-15\", \"2020-03-16\", \"2020-03-17\", \"2020-03-18\", \"2020-03-19\", \"2020-03-20\", \"2020-03-21\", \"2020-03-22\", \"2020-03-23\", \"2020-03-24\", \"2020-03-25\", \"2020-03-26\", \"2020-03-27\", \"2020-03-28\", \"2020-03-29\", \"2020-03-30\"], \"y\": [205231.885, 205121.9593386317, 207174.452, 196992.125, 173742.691, 202115.272, 213172.384, 214206.228, 210219.923, 210647.25, 201523.644, 173220.341, 202818.984, 213100.805, 211586.981, 212255.22249000001, 211196.276, 199010.263, 174216.801, 201163.077, 208199.545, 208392.528, 201950.252, 203798.639, 194927.398, 169873.006, 193055.643, 204108.459, 202544.88, 203946.333, 201122.122, 192091.125, 169635.476, 196427.65843207831, 206337.9759943712, 211699.241, 209984.745, 208242.32, 192568.957, 165796.829, 190345.883, 197304.89262820993, 199931.004, 201280.607, 198712.895, 184998.215, 160963.419, 186454.933, 195796.589, 197287.062, 195025.742, 194694.8, 184374.574, 162627.706, 190961.858, 199457.618, 202452.177, 203162.521, 202889.594, 196053.95979999998, 172637.027, 199254.661, 206007.418, 203394.847, 201745.792, 200406.64, 191741.784, 167069.288, 194524.297, 205047.168, 208453.668, 207533.345, 206737.021, 196792.662, 172401.209, 201514.617, 208755.806, 211702.788, 210033.265, 201585.253, 187646.883, 164951.972, 188368.346, 194208.01359781428, 198116.41, 197749.753, 198522.107, 187984.448, 163619.952, 193289.27, 199188.888, 204328.085, 202078.586, 199325.628, 187721.683, 163947.116, 190909.494, 198840.569, 198612.584, 201182.795, 199985.169, 187706.973, 158599.506, 151766.345, 190357.229, 199330.987, 197681.325, 195693.814, 185969.621, 164464.339, 191005.0, 198628.0, 200546.0, 199862.0, 197636.0, 187436.0, 162312.0, 180928.0, 187697.0, 189882.0, 190440.0, 190613.0, 180690.0, 159532.0, 186287.0, 193666.0, 197044.0, 199651.0, 198878.0, 184454.0, 161012.0, 189008.0, 199283.0, 199886.0, 197439.0, 194628.0, 182012.0, 157451.0, 179750.0, 187454.0, 187039.0, 189448.0, 188045.0, 175670.0, 159302.0, 178933.0, 189269.0, 192074.0, 189060.0, 187523.0, 173539.0, 155669.0, 185071.0, 194240.0, 197386.0, 199822.0, 198145.0, 185040.0, 163064.0, 189833.0, 198013.0, 193707.0, 191211.0, 190685.0, 179913.0, 155538.0, 155473.0, 182764.0, 194381.0, 199227.0, 196224.0, 185421.0, 161952.0, 187654.0, 196899.0, 199330.0, 199195.0, 197505.0, 183926.0, 162640.0, 188061.0, 197610.0, 198861.0, 198273.0, 197910.0, 183631.0, 162086.0, 189322.0, 199796.0, 197256.0, 172912.0, 184812.0, 180866.0, 162353.0, 188477.0, 197525.0, 195950.0, 196053.0, 193610.0, 178419.0, 158125.0, 167160.0, 153466.0, 128624.0, 159127.0, 169847.0, 167376.0, 152744.0, 161393.0, 153785.0, 129479.0, 160216.0, 176153.0, 170064.0, 154375.0, 179303.0, 190582.0, 193961.0, 195431.0, 193819.0, 182426.0, 159732.0, 187431.0, 196814.0, 199947.0, 199867.0, 198781.0, 187145.0, 164080.0, 187257.0, 194655.0, 196498.0, 197180.599, 194469.072, 182328.698, 158767.24745535228, 184964.0, 194913.0, 195876.0, 195641.0, 194707.0, 182479.0, 157497.0, 157350.724, 180261.8694747058, 190598.32145057345, 187284.165, 188032.952, 180791.29936200002, 156802.632, 185664.461, 196090.494, 198069.94, 196326.3004968575, 198104.11, 197219.405, 165175.5991363423, 193444.758, 205066.911, 207864.01059883178, 208532.257, 206646.291, 195404.65734338292, 170638.966, 194946.982, 207646.143, 206187.856, 203216.015, 203384.3655258246, 193804.37302020256, 168483.515, 195732.045, 206334.203, 208013.69892374228, 209467.73, 204347.097, 195523.827, 168597.855, 194525.969, 206944.76298956136, 209419.85150708232, 212493.446, 211848.227, 198746.1259198897, 172471.601743114, 172167.1345528299, 196979.657, 209386.045, 207798.931, 205937.07269599594, 197432.10889048717, 171967.55659909293, 197526.498129075, 206724.15, 207132.60167331056, 205825.95295446686, 202961.53843346087, 192610.26960474052, 168345.521, 191108.613]}, {\"line\": {\"color\": \"rgba(55, 128, 191, 1.0)\", \"dash\": \"solid\", \"shape\": \"linear\", \"width\": 1.3}, \"mode\": \"lines\", \"name\": \"predict\", \"text\": \"\", \"type\": \"scatter\", \"x\": [\"2019-06-05\", \"2019-06-06\", \"2019-06-07\", \"2019-06-08\", \"2019-06-09\", \"2019-06-10\", \"2019-06-11\", \"2019-06-12\", \"2019-06-13\", \"2019-06-14\", \"2019-06-15\", \"2019-06-16\", \"2019-06-17\", \"2019-06-18\", \"2019-06-19\", \"2019-06-20\", \"2019-06-21\", \"2019-06-22\", \"2019-06-23\", \"2019-06-24\", \"2019-06-25\", \"2019-06-26\", \"2019-06-27\", \"2019-06-28\", \"2019-06-29\", \"2019-06-30\", \"2019-07-01\", \"2019-07-02\", \"2019-07-03\", \"2019-07-04\", \"2019-07-05\", \"2019-07-06\", \"2019-07-07\", \"2019-07-08\", \"2019-07-09\", \"2019-07-10\", \"2019-07-11\", \"2019-07-12\", \"2019-07-13\", \"2019-07-14\", \"2019-07-15\", \"2019-07-16\", \"2019-07-17\", \"2019-07-18\", \"2019-07-19\", \"2019-07-20\", \"2019-07-21\", \"2019-07-22\", \"2019-07-23\", \"2019-07-24\", \"2019-07-25\", \"2019-07-26\", \"2019-07-27\", \"2019-07-28\", \"2019-07-29\", \"2019-07-30\", \"2019-07-31\", \"2019-08-01\", \"2019-08-02\", \"2019-08-03\", \"2019-08-04\", \"2019-08-05\", \"2019-08-06\", \"2019-08-07\", \"2019-08-08\", \"2019-08-09\", \"2019-08-10\", \"2019-08-11\", \"2019-08-12\", \"2019-08-13\", \"2019-08-14\", \"2019-08-15\", \"2019-08-16\", \"2019-08-17\", \"2019-08-18\", \"2019-08-19\", \"2019-08-20\", \"2019-08-21\", \"2019-08-22\", \"2019-08-23\", \"2019-08-24\", \"2019-08-25\", \"2019-08-26\", \"2019-08-27\", \"2019-08-28\", \"2019-08-29\", \"2019-08-30\", \"2019-08-31\", \"2019-09-01\", \"2019-09-02\", \"2019-09-03\", \"2019-09-04\", \"2019-09-05\", \"2019-09-06\", \"2019-09-07\", \"2019-09-08\", \"2019-09-09\", \"2019-09-10\", \"2019-09-11\", \"2019-09-12\", \"2019-09-13\", \"2019-09-14\", \"2019-09-15\", \"2019-09-16\", \"2019-09-17\", \"2019-09-18\", \"2019-09-19\", \"2019-09-20\", \"2019-09-21\", \"2019-09-22\", \"2019-09-23\", \"2019-09-24\", \"2019-09-25\", \"2019-09-26\", \"2019-09-27\", \"2019-09-28\", \"2019-09-29\", \"2019-09-30\", \"2019-10-01\", \"2019-10-02\", \"2019-10-03\", \"2019-10-04\", \"2019-10-05\", \"2019-10-06\", \"2019-10-07\", \"2019-10-08\", \"2019-10-09\", \"2019-10-10\", \"2019-10-11\", \"2019-10-12\", \"2019-10-13\", \"2019-10-14\", \"2019-10-15\", \"2019-10-16\", \"2019-10-17\", \"2019-10-18\", \"2019-10-19\", \"2019-10-20\", \"2019-10-21\", \"2019-10-22\", \"2019-10-23\", \"2019-10-24\", \"2019-10-25\", \"2019-10-26\", \"2019-10-27\", \"2019-10-28\", \"2019-10-29\", \"2019-10-30\", \"2019-10-31\", \"2019-11-01\", \"2019-11-02\", \"2019-11-03\", \"2019-11-04\", \"2019-11-05\", \"2019-11-06\", \"2019-11-07\", \"2019-11-08\", \"2019-11-09\", \"2019-11-10\", \"2019-11-11\", \"2019-11-12\", \"2019-11-13\", \"2019-11-14\", \"2019-11-15\", \"2019-11-16\", \"2019-11-17\", \"2019-11-18\", \"2019-11-19\", \"2019-11-20\", \"2019-11-21\", \"2019-11-22\", \"2019-11-23\", \"2019-11-24\", \"2019-11-25\", \"2019-11-26\", \"2019-11-27\", \"2019-11-28\", \"2019-11-29\", \"2019-11-30\", \"2019-12-01\", \"2019-12-02\", \"2019-12-03\", \"2019-12-04\", \"2019-12-05\", \"2019-12-06\", \"2019-12-07\", \"2019-12-08\", \"2019-12-09\", \"2019-12-10\", \"2019-12-11\", \"2019-12-12\", \"2019-12-13\", \"2019-12-14\", \"2019-12-15\", \"2019-12-16\", \"2019-12-17\", \"2019-12-18\", \"2019-12-19\", \"2019-12-20\", \"2019-12-21\", \"2019-12-22\", \"2019-12-23\", \"2019-12-24\", \"2019-12-25\", \"2019-12-26\", \"2019-12-27\", \"2019-12-28\", \"2019-12-29\", \"2019-12-30\", \"2019-12-31\", \"2020-01-01\", \"2020-01-02\", \"2020-01-03\", \"2020-01-04\", \"2020-01-05\", \"2020-01-06\", \"2020-01-07\", \"2020-01-08\", \"2020-01-09\", \"2020-01-10\", \"2020-01-11\", \"2020-01-12\", \"2020-01-13\", \"2020-01-14\", \"2020-01-15\", \"2020-01-16\", \"2020-01-17\", \"2020-01-18\", \"2020-01-19\", \"2020-01-20\", \"2020-01-21\", \"2020-01-22\", \"2020-01-23\", \"2020-01-24\", \"2020-01-25\", \"2020-01-26\", \"2020-01-27\", \"2020-01-28\", \"2020-01-29\", \"2020-01-30\", \"2020-01-31\", \"2020-02-01\", \"2020-02-02\", \"2020-02-03\", \"2020-02-04\", \"2020-02-05\", \"2020-02-06\", \"2020-02-07\", \"2020-02-08\", \"2020-02-09\", \"2020-02-10\", \"2020-02-11\", \"2020-02-12\", \"2020-02-13\", \"2020-02-14\", \"2020-02-15\", \"2020-02-16\", \"2020-02-17\", \"2020-02-18\", \"2020-02-19\", \"2020-02-20\", \"2020-02-21\", \"2020-02-22\", \"2020-02-23\", \"2020-02-24\", \"2020-02-25\", \"2020-02-26\", \"2020-02-27\", \"2020-02-28\", \"2020-02-29\", \"2020-03-01\", \"2020-03-02\", \"2020-03-03\", \"2020-03-04\", \"2020-03-05\", \"2020-03-06\", \"2020-03-07\", \"2020-03-08\", \"2020-03-09\", \"2020-03-10\", \"2020-03-11\", \"2020-03-12\", \"2020-03-13\", \"2020-03-14\", \"2020-03-15\", \"2020-03-16\", \"2020-03-17\", \"2020-03-18\", \"2020-03-19\", \"2020-03-20\", \"2020-03-21\", \"2020-03-22\", \"2020-03-23\", \"2020-03-24\", \"2020-03-25\", \"2020-03-26\", \"2020-03-27\", \"2020-03-28\", \"2020-03-29\", \"2020-03-30\"], \"y\": [212726.1752214993, 213326.70647944027, 211773.2725804556, 199611.35529619263, 176003.90066346686, 202510.05797343567, 207597.40957488987, 208288.99137166239, 208554.8928143372, 206586.17431624484, 194856.9661727106, 170948.3369069841, 196712.1730961945, 201400.8867157918, 201934.7330656219, 201909.8751095285, 199686.6832457434, 188628.72264032206, 164628.67918403356, 189603.82646579505, 194012.18504001093, 195013.22817909802, 195262.2709813245, 193343.59868459872, 183424.40460294852, 159717.07204030058, 184802.8078666008, 190243.85638472773, 191997.4063343858, 193031.800212118, 192403.6317704991, 182209.48322845687, 160262.99366435336, 186063.7165649437, 191673.45850469163, 193220.67903899087, 193981.42181375323, 193290.5415515481, 183579.6118612487, 161331.03212855948, 187344.8135288957, 193012.7312148753, 194303.77069196766, 194789.10344481142, 193937.7136055626, 184632.29728289912, 162036.4516027366, 188076.03821120685, 193833.11092113858, 195007.46122593078, 195394.89576032388, 194490.02767051265, 185708.7998080068, 162923.11877473505, 188768.33934720614, 194684.27595586728, 195746.5942677582, 201737.77129908348, 200606.72705336078, 191539.0896984522, 167122.68308368293, 190779.94656893797, 199176.06444675458, 199774.49729082006, 199993.65468627826, 198739.07250077857, 190211.5205299704, 165845.25145869053, 189416.16391443892, 198251.38934441458, 198951.2287806518, 199530.9323816042, 198523.25407864273, 189930.34287248563, 165686.70540405498, 189067.86747148455, 197871.31201459118, 198402.77833915674, 199081.9473811831, 198190.77844341687, 189514.5756629282, 165584.23387705383, 189139.96106824296, 198196.32356250644, 198856.61011357827, 199831.06768934205, 199290.06074970128, 190309.34066103838, 163273.4786172989, 190722.48747039022, 198578.9332918187, 199586.32999641052, 198198.77954006926, 195802.56076753428, 186657.63407799415, 162617.32009306285, 190153.73567517236, 198281.56460379783, 199212.7632373168, 197866.71743867532, 195566.93185307083, 183836.72179790583, 157482.71415598685, 151238.40256086556, 186665.91332229835, 195312.1162743797, 196604.6081086869, 194507.8091403952, 184595.1551907882, 160609.4530452892, 187839.95093848725, 195893.57350163494, 196699.2956928193, 195721.3684779882, 193567.9865422622, 183116.65779941768, 159098.07944727913, 185864.4988650758, 191083.95096932532, 194197.86770388825, 193042.09384321608, 190230.64947385452, 180759.40133337156, 158125.14105927615, 185252.73569781662, 191888.46295537605, 195006.93067923098, 194445.119882054, 195020.63203070997, 179191.13195975128, 158007.2316465897, 186107.5803811804, 192911.56243284143, 196031.19015192232, 195185.0918826219, 192801.14644987212, 182876.63659364596, 160879.8254245056, 186736.39463304452, 193442.88664899534, 196787.79322680266, 196412.13785788155, 194506.728946116, 184573.40429978317, 163018.1569943068, 188858.94064133544, 195989.12324460212, 199239.16541213318, 198746.85778923827, 188614.33742301725, 181090.97927226996, 157313.37479039418, 183646.75840872, 191362.60667806145, 193003.03699187457, 193515.59545771958, 191061.55564455173, 182789.87590437604, 159059.56104192906, 184275.67717113212, 191009.19073809966, 192549.08626976798, 192456.81961822713, 189806.37059693687, 180108.74093839785, 154417.70964387892, 151284.33996729532, 179802.63103470387, 190259.29487410237, 192115.9397321273, 188966.19007557703, 181415.24612721737, 159147.49920827962, 183448.01474916117, 189294.8107458919, 191715.0300356824, 190776.0499830286, 187117.5764401749, 179617.9540763984, 157540.7198095209, 183638.32755733276, 192687.65974303175, 195018.48185338578, 195244.15408105432, 192315.18359087885, 179295.60280516, 158931.7380479454, 184578.38184935594, 191684.54992712388, 188986.56778056, 169608.55187032497, 185256.98496352622, 177405.38090624483, 158430.34148596055, 182919.75332688141, 190029.87539575456, 192965.97553047392, 191844.37550662633, 187528.08099886545, 174947.78073821194, 156646.50138683824, 171310.87617160488, 151557.4337205161, 121537.38882037965, 158275.0359440381, 174569.64162059984, 168881.51714108986, 148800.21025383016, 158672.77830357666, 137820.73577003347, 125405.32038826976, 164591.99295753683, 174155.43910209436, 168621.19470392654, 150329.83244925257, 176987.81206019438, 188287.8383977641, 193528.18784113994, 197525.77991457662, 196092.2135044114, 185389.01054753453, 162524.750089221, 187815.96567913468, 196290.7429949117, 197574.15034630825, 198029.7053887234, 196733.82980044585, 186093.9345202409, 163327.09005112702, 188761.57823284, 197220.38120494373, 198505.42662648266, 198821.4688426015, 197320.64864376423, 186379.59148060865, 163387.52332916562, 188881.66619993685, 196976.83174263174, 198240.0446141777, 198404.8392217611, 196619.89296615968, 185035.80940947897, 160213.8470457919, 167666.5779763247, 190753.67450704327, 198670.69980078202, 200162.21243232678, 199296.32173597885, 188817.1968613964, 164146.18646570397, 191777.41416618082, 201638.05274879636, 203906.76576757172, 203953.3191296478, 203342.45007746873, 192727.05883250816, 168206.3959307343, 195562.95766129167, 204769.5253869171, 206507.11820013673, 205945.88974554077, 204906.18527342143, 193859.77464372222, 169141.4778287784, 197109.0703992042, 206446.24707669878, 208488.0719467269, 208034.0008716096, 207254.07171788704, 196256.14174571648, 171746.1192603362, 199465.3480719621, 205440.90328722878, 209248.4140131686, 209526.5339931341, 208984.57040477116, 199086.21541236067, 173698.09930720384, 201556.19900580417, 207288.0361437286, 211057.23406326197, 211158.3290971753, 210562.47359675018, 200426.24875573668, 172095.9656646936, 177348.9593388816, 208586.03781141056, 212542.29443916393, 212661.4074154988, 212150.96265363274, 201897.27941063777, 176663.6109319252, 204394.62444589296, 209974.63738378556, 214095.02507975625, 214205.05353891742, 213768.73046437255, 203391.05408833077, 178256.1918491961, 205865.43657831958]}],\n",
       "                        {\"legend\": {\"bgcolor\": \"#F5F6F9\", \"font\": {\"color\": \"#4D5663\"}}, \"paper_bgcolor\": \"#F5F6F9\", \"plot_bgcolor\": \"#F5F6F9\", \"template\": {\"data\": {\"bar\": [{\"error_x\": {\"color\": \"#2a3f5f\"}, \"error_y\": {\"color\": \"#2a3f5f\"}, \"marker\": {\"line\": {\"color\": \"#E5ECF6\", \"width\": 0.5}}, \"type\": \"bar\"}], \"barpolar\": [{\"marker\": {\"line\": {\"color\": \"#E5ECF6\", \"width\": 0.5}}, \"type\": \"barpolar\"}], \"carpet\": [{\"aaxis\": {\"endlinecolor\": \"#2a3f5f\", \"gridcolor\": \"white\", \"linecolor\": \"white\", \"minorgridcolor\": \"white\", \"startlinecolor\": \"#2a3f5f\"}, \"baxis\": {\"endlinecolor\": \"#2a3f5f\", \"gridcolor\": \"white\", \"linecolor\": \"white\", \"minorgridcolor\": \"white\", \"startlinecolor\": \"#2a3f5f\"}, \"type\": \"carpet\"}], \"choropleth\": [{\"colorbar\": {\"outlinewidth\": 0, \"ticks\": \"\"}, \"type\": \"choropleth\"}], \"contour\": [{\"colorbar\": {\"outlinewidth\": 0, \"ticks\": \"\"}, \"colorscale\": [[0.0, \"#0d0887\"], [0.1111111111111111, \"#46039f\"], [0.2222222222222222, \"#7201a8\"], [0.3333333333333333, \"#9c179e\"], [0.4444444444444444, \"#bd3786\"], [0.5555555555555556, \"#d8576b\"], [0.6666666666666666, \"#ed7953\"], [0.7777777777777778, \"#fb9f3a\"], [0.8888888888888888, \"#fdca26\"], [1.0, \"#f0f921\"]], \"type\": \"contour\"}], \"contourcarpet\": [{\"colorbar\": {\"outlinewidth\": 0, \"ticks\": \"\"}, \"type\": \"contourcarpet\"}], \"heatmap\": [{\"colorbar\": {\"outlinewidth\": 0, \"ticks\": \"\"}, \"colorscale\": [[0.0, \"#0d0887\"], [0.1111111111111111, \"#46039f\"], [0.2222222222222222, \"#7201a8\"], [0.3333333333333333, \"#9c179e\"], [0.4444444444444444, \"#bd3786\"], [0.5555555555555556, \"#d8576b\"], [0.6666666666666666, \"#ed7953\"], [0.7777777777777778, \"#fb9f3a\"], [0.8888888888888888, \"#fdca26\"], [1.0, \"#f0f921\"]], \"type\": \"heatmap\"}], \"heatmapgl\": [{\"colorbar\": {\"outlinewidth\": 0, \"ticks\": \"\"}, \"colorscale\": [[0.0, \"#0d0887\"], [0.1111111111111111, \"#46039f\"], [0.2222222222222222, \"#7201a8\"], [0.3333333333333333, \"#9c179e\"], [0.4444444444444444, \"#bd3786\"], [0.5555555555555556, \"#d8576b\"], [0.6666666666666666, \"#ed7953\"], [0.7777777777777778, \"#fb9f3a\"], [0.8888888888888888, \"#fdca26\"], [1.0, \"#f0f921\"]], \"type\": \"heatmapgl\"}], \"histogram\": [{\"marker\": {\"colorbar\": {\"outlinewidth\": 0, \"ticks\": \"\"}}, \"type\": \"histogram\"}], \"histogram2d\": [{\"colorbar\": {\"outlinewidth\": 0, \"ticks\": \"\"}, \"colorscale\": [[0.0, \"#0d0887\"], [0.1111111111111111, \"#46039f\"], [0.2222222222222222, \"#7201a8\"], [0.3333333333333333, \"#9c179e\"], [0.4444444444444444, \"#bd3786\"], [0.5555555555555556, \"#d8576b\"], [0.6666666666666666, \"#ed7953\"], [0.7777777777777778, \"#fb9f3a\"], [0.8888888888888888, \"#fdca26\"], [1.0, \"#f0f921\"]], \"type\": \"histogram2d\"}], \"histogram2dcontour\": [{\"colorbar\": {\"outlinewidth\": 0, \"ticks\": \"\"}, \"colorscale\": [[0.0, \"#0d0887\"], [0.1111111111111111, \"#46039f\"], [0.2222222222222222, \"#7201a8\"], [0.3333333333333333, \"#9c179e\"], [0.4444444444444444, \"#bd3786\"], [0.5555555555555556, \"#d8576b\"], [0.6666666666666666, \"#ed7953\"], [0.7777777777777778, \"#fb9f3a\"], [0.8888888888888888, \"#fdca26\"], [1.0, \"#f0f921\"]], \"type\": \"histogram2dcontour\"}], \"mesh3d\": [{\"colorbar\": {\"outlinewidth\": 0, \"ticks\": \"\"}, \"type\": \"mesh3d\"}], \"parcoords\": [{\"line\": {\"colorbar\": {\"outlinewidth\": 0, \"ticks\": \"\"}}, \"type\": \"parcoords\"}], \"scatter\": [{\"marker\": {\"colorbar\": {\"outlinewidth\": 0, \"ticks\": \"\"}}, \"type\": \"scatter\"}], \"scatter3d\": [{\"line\": {\"colorbar\": {\"outlinewidth\": 0, \"ticks\": \"\"}}, \"marker\": {\"colorbar\": {\"outlinewidth\": 0, \"ticks\": \"\"}}, \"type\": \"scatter3d\"}], \"scattercarpet\": [{\"marker\": {\"colorbar\": {\"outlinewidth\": 0, \"ticks\": \"\"}}, \"type\": \"scattercarpet\"}], \"scattergeo\": [{\"marker\": {\"colorbar\": {\"outlinewidth\": 0, \"ticks\": \"\"}}, \"type\": \"scattergeo\"}], \"scattergl\": [{\"marker\": {\"colorbar\": {\"outlinewidth\": 0, \"ticks\": \"\"}}, \"type\": \"scattergl\"}], \"scattermapbox\": [{\"marker\": {\"colorbar\": {\"outlinewidth\": 0, \"ticks\": \"\"}}, \"type\": \"scattermapbox\"}], \"scatterpolar\": [{\"marker\": {\"colorbar\": {\"outlinewidth\": 0, \"ticks\": \"\"}}, \"type\": \"scatterpolar\"}], \"scatterpolargl\": [{\"marker\": {\"colorbar\": {\"outlinewidth\": 0, \"ticks\": \"\"}}, \"type\": \"scatterpolargl\"}], \"scatterternary\": [{\"marker\": {\"colorbar\": {\"outlinewidth\": 0, \"ticks\": \"\"}}, \"type\": \"scatterternary\"}], \"surface\": [{\"colorbar\": {\"outlinewidth\": 0, \"ticks\": \"\"}, \"colorscale\": [[0.0, \"#0d0887\"], [0.1111111111111111, \"#46039f\"], [0.2222222222222222, \"#7201a8\"], [0.3333333333333333, \"#9c179e\"], [0.4444444444444444, \"#bd3786\"], [0.5555555555555556, \"#d8576b\"], [0.6666666666666666, \"#ed7953\"], [0.7777777777777778, \"#fb9f3a\"], [0.8888888888888888, \"#fdca26\"], [1.0, \"#f0f921\"]], \"type\": \"surface\"}], \"table\": [{\"cells\": {\"fill\": {\"color\": \"#EBF0F8\"}, \"line\": {\"color\": \"white\"}}, \"header\": {\"fill\": {\"color\": \"#C8D4E3\"}, \"line\": {\"color\": \"white\"}}, \"type\": \"table\"}]}, \"layout\": {\"annotationdefaults\": {\"arrowcolor\": \"#2a3f5f\", \"arrowhead\": 0, \"arrowwidth\": 1}, \"colorscale\": {\"diverging\": [[0, \"#8e0152\"], [0.1, \"#c51b7d\"], [0.2, \"#de77ae\"], [0.3, \"#f1b6da\"], [0.4, \"#fde0ef\"], [0.5, \"#f7f7f7\"], [0.6, \"#e6f5d0\"], [0.7, \"#b8e186\"], [0.8, \"#7fbc41\"], [0.9, \"#4d9221\"], [1, \"#276419\"]], \"sequential\": [[0.0, \"#0d0887\"], [0.1111111111111111, \"#46039f\"], [0.2222222222222222, \"#7201a8\"], [0.3333333333333333, \"#9c179e\"], [0.4444444444444444, \"#bd3786\"], [0.5555555555555556, \"#d8576b\"], [0.6666666666666666, \"#ed7953\"], [0.7777777777777778, \"#fb9f3a\"], [0.8888888888888888, \"#fdca26\"], [1.0, \"#f0f921\"]], \"sequentialminus\": [[0.0, \"#0d0887\"], [0.1111111111111111, \"#46039f\"], [0.2222222222222222, \"#7201a8\"], [0.3333333333333333, \"#9c179e\"], [0.4444444444444444, \"#bd3786\"], [0.5555555555555556, \"#d8576b\"], [0.6666666666666666, \"#ed7953\"], [0.7777777777777778, \"#fb9f3a\"], [0.8888888888888888, \"#fdca26\"], [1.0, \"#f0f921\"]]}, \"colorway\": [\"#636efa\", \"#EF553B\", \"#00cc96\", \"#ab63fa\", \"#FFA15A\", \"#19d3f3\", \"#FF6692\", \"#B6E880\", \"#FF97FF\", \"#FECB52\"], \"font\": {\"color\": \"#2a3f5f\"}, \"geo\": {\"bgcolor\": \"white\", \"lakecolor\": \"white\", \"landcolor\": \"#E5ECF6\", \"showlakes\": true, \"showland\": true, \"subunitcolor\": \"white\"}, \"hoverlabel\": {\"align\": \"left\"}, \"hovermode\": \"closest\", \"mapbox\": {\"style\": \"light\"}, \"paper_bgcolor\": \"white\", \"plot_bgcolor\": \"#E5ECF6\", \"polar\": {\"angularaxis\": {\"gridcolor\": \"white\", \"linecolor\": \"white\", \"ticks\": \"\"}, \"bgcolor\": \"#E5ECF6\", \"radialaxis\": {\"gridcolor\": \"white\", \"linecolor\": \"white\", \"ticks\": \"\"}}, \"scene\": {\"xaxis\": {\"backgroundcolor\": \"#E5ECF6\", \"gridcolor\": \"white\", \"gridwidth\": 2, \"linecolor\": \"white\", \"showbackground\": true, \"ticks\": \"\", \"zerolinecolor\": \"white\"}, \"yaxis\": {\"backgroundcolor\": \"#E5ECF6\", \"gridcolor\": \"white\", \"gridwidth\": 2, \"linecolor\": \"white\", \"showbackground\": true, \"ticks\": \"\", \"zerolinecolor\": \"white\"}, \"zaxis\": {\"backgroundcolor\": \"#E5ECF6\", \"gridcolor\": \"white\", \"gridwidth\": 2, \"linecolor\": \"white\", \"showbackground\": true, \"ticks\": \"\", \"zerolinecolor\": \"white\"}}, \"shapedefaults\": {\"line\": {\"color\": \"#2a3f5f\"}}, \"ternary\": {\"aaxis\": {\"gridcolor\": \"white\", \"linecolor\": \"white\", \"ticks\": \"\"}, \"baxis\": {\"gridcolor\": \"white\", \"linecolor\": \"white\", \"ticks\": \"\"}, \"bgcolor\": \"#E5ECF6\", \"caxis\": {\"gridcolor\": \"white\", \"linecolor\": \"white\", \"ticks\": \"\"}}, \"title\": {\"x\": 0.05}, \"xaxis\": {\"automargin\": true, \"gridcolor\": \"white\", \"linecolor\": \"white\", \"ticks\": \"\", \"zerolinecolor\": \"white\", \"zerolinewidth\": 2}, \"yaxis\": {\"automargin\": true, \"gridcolor\": \"white\", \"linecolor\": \"white\", \"ticks\": \"\", \"zerolinecolor\": \"white\", \"zerolinewidth\": 2}}}, \"title\": {\"font\": {\"color\": \"#4D5663\"}}, \"xaxis\": {\"gridcolor\": \"#E1E5ED\", \"showgrid\": true, \"tickfont\": {\"color\": \"#4D5663\"}, \"title\": {\"font\": {\"color\": \"#4D5663\"}, \"text\": \"\"}, \"zerolinecolor\": \"#E1E5ED\"}, \"yaxis\": {\"gridcolor\": \"#E1E5ED\", \"showgrid\": true, \"tickfont\": {\"color\": \"#4D5663\"}, \"title\": {\"font\": {\"color\": \"#4D5663\"}, \"text\": \"\"}, \"zerolinecolor\": \"#E1E5ED\"}},\n",
       "                        {\"showLink\": true, \"linkText\": \"Export to plot.ly\", \"plotlyServerURL\": \"https://plot.ly\", \"responsive\": true}\n",
       "                    ).then(function(){\n",
       "                            \n",
       "var gd = document.getElementById('e3be5536-8042-4582-96d1-6426c9c044b4');\n",
       "var x = new MutationObserver(function (mutations, observer) {{\n",
       "        var display = window.getComputedStyle(gd).display;\n",
       "        if (!display || display === 'none') {{\n",
       "            console.log([gd, 'removed!']);\n",
       "            Plotly.purge(gd);\n",
       "            observer.disconnect();\n",
       "        }}\n",
       "}});\n",
       "\n",
       "// Listen for the removal of the full notebook cells\n",
       "var notebookContainer = gd.closest('#notebook-container');\n",
       "if (notebookContainer) {{\n",
       "    x.observe(notebookContainer, {childList: true});\n",
       "}}\n",
       "\n",
       "// Listen for the clearing of the current output cell\n",
       "var outputEl = gd.closest('.output');\n",
       "if (outputEl) {{\n",
       "    x.observe(outputEl, {childList: true});\n",
       "}}\n",
       "\n",
       "                        })\n",
       "                };\n",
       "                });\n",
       "            </script>\n",
       "        </div>"
      ]
     },
     "metadata": {},
     "output_type": "display_data"
    }
   ],
   "source": [
    "plotting.iplot()"
   ]
  },
  {
   "cell_type": "markdown",
   "metadata": {
    "ExecuteTime": {
     "end_time": "2021-04-08T17:42:49.801694Z",
     "start_time": "2021-04-08T17:42:49.793715Z"
    },
    "heading_collapsed": true
   },
   "source": [
    "# Econn"
   ]
  },
  {
   "cell_type": "code",
   "execution_count": 76,
   "metadata": {
    "ExecuteTime": {
     "end_time": "2021-04-09T00:20:42.526984Z",
     "start_time": "2021-04-09T00:20:42.515981Z"
    },
    "hidden": true
   },
   "outputs": [],
   "source": [
    "from sklearn.metrics.pairwise import pairwise_kernels, linear_kernel, rbf_kernel"
   ]
  },
  {
   "cell_type": "code",
   "execution_count": 27,
   "metadata": {
    "ExecuteTime": {
     "end_time": "2021-04-08T23:26:48.611380Z",
     "start_time": "2021-04-08T23:26:48.594434Z"
    },
    "hidden": true
   },
   "outputs": [],
   "source": [
    "class Coca():\n",
    "    def __init__(self, kernel = \"linear\", **rest):\n",
    "        self.kernel = kernel\n",
    "        self.rest = rest\n",
    "        \n",
    "    def create_kernel(self, X):\n",
    "        kernel = self.kernel\n",
    "        rest = self.rest\n",
    "        \n",
    "        def create(X, kernel):\n",
    "            if kernel == \"linear\":\n",
    "                K = pairwise_kernels(X, X, metric = \"linear\")\n",
    "            else:\n",
    "                K = pairwise_kernels(X, X, metric = kernel, **rest)\n",
    "                \n",
    "            return K\n",
    "        \n",
    "        def run():\n",
    "            \n",
    "            one = create(X, \"linear\")\n",
    "            \n",
    "            other = (kernel, rest.values())\n",
    "            two = create(X, kernel)\n",
    "            \n",
    "            self.one = one; self.two = two\n",
    "            return self\n",
    "        \n",
    "        return run()\n",
    "        \n",
    "    def ocation(self):\n",
    "        return self.one, self.two"
   ]
  },
  {
   "cell_type": "code",
   "execution_count": 36,
   "metadata": {
    "ExecuteTime": {
     "end_time": "2021-04-08T23:35:48.606309Z",
     "start_time": "2021-04-08T23:35:48.049849Z"
    },
    "hidden": true
   },
   "outputs": [],
   "source": [
    "un, dos = Coca(kernel = \"linear\", gamma = 0.01).create_kernel(X).ocation()"
   ]
  }
 ],
 "metadata": {
  "kernelspec": {
   "display_name": "Python 3",
   "language": "python",
   "name": "python3"
  },
  "toc": {
   "base_numbering": 1,
   "nav_menu": {},
   "number_sections": true,
   "sideBar": true,
   "skip_h1_title": false,
   "title_cell": "Table of Contents",
   "title_sidebar": "Contents",
   "toc_cell": false,
   "toc_position": {},
   "toc_section_display": true,
   "toc_window_display": false
  }
 },
 "nbformat": 4,
 "nbformat_minor": 4
}
