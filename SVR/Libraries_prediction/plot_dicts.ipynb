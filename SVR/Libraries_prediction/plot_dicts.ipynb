{
 "cells": [
  {
   "cell_type": "code",
   "execution_count": 1,
   "metadata": {
    "ExecuteTime": {
     "end_time": "2021-04-09T02:47:47.201290Z",
     "start_time": "2021-04-09T02:47:46.086315Z"
    }
   },
   "outputs": [],
   "source": [
    "import pandas as pd\n",
    "import pickle\n",
    "import matplotlib.pyplot as plt\n",
    "from pathlib import Path\n",
    "from os import listdir"
   ]
  },
  {
   "cell_type": "code",
   "execution_count": 2,
   "metadata": {
    "ExecuteTime": {
     "end_time": "2021-04-09T02:47:53.461572Z",
     "start_time": "2021-04-09T02:47:47.203407Z"
    }
   },
   "outputs": [
    {
     "data": {
      "text/html": [
       "        <script type=\"text/javascript\">\n",
       "        window.PlotlyConfig = {MathJaxConfig: 'local'};\n",
       "        if (window.MathJax) {MathJax.Hub.Config({SVG: {font: \"STIX-Web\"}});}\n",
       "        if (typeof require !== 'undefined') {\n",
       "        require.undef(\"plotly\");\n",
       "        requirejs.config({\n",
       "            paths: {\n",
       "                'plotly': ['https://cdn.plot.ly/plotly-latest.min']\n",
       "            }\n",
       "        });\n",
       "        require(['plotly'], function(Plotly) {\n",
       "            window._Plotly = Plotly;\n",
       "        });\n",
       "        }\n",
       "        </script>\n",
       "        "
      ]
     },
     "metadata": {},
     "output_type": "display_data"
    }
   ],
   "source": [
    "import cufflinks as cf\n",
    "cf.go_offline()"
   ]
  },
  {
   "cell_type": "code",
   "execution_count": 6,
   "metadata": {
    "ExecuteTime": {
     "end_time": "2021-04-09T02:48:40.086493Z",
     "start_time": "2021-04-09T02:48:40.077520Z"
    }
   },
   "outputs": [],
   "source": [
    "# list of Pickle files names\n",
    "list_dir = listdir(Path.cwd() / 'Pickles' / 'K_one_w')\n",
    "files = [ld for ld in list_dir if ld[-2:-1].isdigit()]"
   ]
  },
  {
   "cell_type": "code",
   "execution_count": 7,
   "metadata": {
    "ExecuteTime": {
     "end_time": "2021-04-09T02:48:41.018655Z",
     "start_time": "2021-04-09T02:48:41.009677Z"
    }
   },
   "outputs": [],
   "source": [
    "# Open Pickles wich contain a dir of dirs \n",
    "# dir_parent: contain all runs dictionary. Labeled by date and time\n",
    "# dir_son: contain a dictionary of one run. labeled by week (1 - 52). 0 contain hyperparameter information.\n",
    "def open_pickle():\n",
    "    tame = {}\n",
    "    for ld in files:\n",
    "        with open(f\"Pickles//K_one_w//{ld}\", 'rb') as f:\n",
    "            tame[ld] = pickle.load(f)\n",
    "    return tame"
   ]
  },
  {
   "cell_type": "code",
   "execution_count": null,
   "metadata": {},
   "outputs": [],
   "source": []
  },
  {
   "cell_type": "code",
   "execution_count": 8,
   "metadata": {
    "ExecuteTime": {
     "end_time": "2021-04-09T02:48:42.352320Z",
     "start_time": "2021-04-09T02:48:42.327375Z"
    }
   },
   "outputs": [],
   "source": [
    "pkls = open_pickle()"
   ]
  },
  {
   "cell_type": "code",
   "execution_count": 12,
   "metadata": {
    "ExecuteTime": {
     "end_time": "2021-04-09T02:53:00.037622Z",
     "start_time": "2021-04-09T02:53:00.016679Z"
    }
   },
   "outputs": [
    {
     "data": {
      "text/plain": [
       "dict_keys(['08_04_2021_21_29_44', '08_04_2021_21_31_39', '08_04_2021_21_33_43', '08_04_2021_21_35_41', '08_04_2021_21_37_40', '08_04_2021_21_40_03', '08_04_2021_21_41_46'])"
      ]
     },
     "execution_count": 12,
     "metadata": {},
     "output_type": "execute_result"
    }
   ],
   "source": [
    "pkls.keys()"
   ]
  },
  {
   "cell_type": "code",
   "execution_count": 26,
   "metadata": {
    "ExecuteTime": {
     "end_time": "2021-04-09T02:59:22.183655Z",
     "start_time": "2021-04-09T02:59:21.639075Z"
    }
   },
   "outputs": [
    {
     "data": {
      "application/vnd.plotly.v1+json": {
       "config": {
        "linkText": "Export to plot.ly",
        "plotlyServerURL": "https://plot.ly",
        "showLink": true
       },
       "data": [
        {
         "line": {
          "color": "rgba(255, 153, 51, 1.0)",
          "dash": "solid",
          "shape": "linear",
          "width": 1.3
         },
         "mode": "lines",
         "name": "real",
         "text": "",
         "type": "scatter",
         "x": [
          "2020-02-20",
          "2020-02-21",
          "2020-02-22",
          "2020-02-23",
          "2020-02-24",
          "2020-02-25",
          "2020-02-26",
          "2020-02-27",
          "2020-02-28",
          "2020-02-29",
          "2020-03-01",
          "2020-03-02",
          "2020-03-03",
          "2020-03-04",
          "2020-03-05",
          "2020-03-06",
          "2020-03-07",
          "2020-03-08",
          "2020-03-09",
          "2020-03-10",
          "2020-03-11",
          "2020-03-12",
          "2020-03-13",
          "2020-03-14",
          "2020-03-15",
          "2020-03-16",
          "2020-03-17",
          "2020-03-18",
          "2020-03-19",
          "2020-03-20",
          "2020-03-21",
          "2020-03-22",
          "2020-03-23",
          "2020-03-24",
          "2020-03-25",
          "2020-03-26",
          "2020-03-27",
          "2020-03-28",
          "2020-03-29",
          "2020-03-30"
         ],
         "y": [
          208532.257,
          206646.291,
          195404.65734338292,
          170638.966,
          194946.982,
          207646.143,
          206187.856,
          203216.015,
          203384.3655258246,
          193804.37302020256,
          168483.515,
          195732.045,
          206334.203,
          208013.69892374228,
          209467.73,
          204347.097,
          195523.827,
          168597.855,
          194525.969,
          206944.76298956136,
          209419.85150708232,
          212493.446,
          211848.227,
          198746.1259198897,
          172471.601743114,
          172167.1345528299,
          196979.657,
          209386.045,
          207798.931,
          205937.07269599594,
          197432.10889048717,
          171967.55659909293,
          197526.498129075,
          206724.15,
          207132.60167331056,
          205825.95295446686,
          202961.53843346087,
          192610.26960474052,
          168345.521,
          191108.613
         ]
        },
        {
         "line": {
          "color": "rgba(55, 128, 191, 1.0)",
          "dash": "solid",
          "shape": "linear",
          "width": 1.3
         },
         "mode": "lines",
         "name": "predict",
         "text": "",
         "type": "scatter",
         "x": [
          "2020-02-20",
          "2020-02-21",
          "2020-02-22",
          "2020-02-23",
          "2020-02-24",
          "2020-02-25",
          "2020-02-26",
          "2020-02-27",
          "2020-02-28",
          "2020-02-29",
          "2020-03-01",
          "2020-03-02",
          "2020-03-03",
          "2020-03-04",
          "2020-03-05",
          "2020-03-06",
          "2020-03-07",
          "2020-03-08",
          "2020-03-09",
          "2020-03-10",
          "2020-03-11",
          "2020-03-12",
          "2020-03-13",
          "2020-03-14",
          "2020-03-15",
          "2020-03-16",
          "2020-03-17",
          "2020-03-18",
          "2020-03-19",
          "2020-03-20",
          "2020-03-21",
          "2020-03-22",
          "2020-03-23",
          "2020-03-24",
          "2020-03-25",
          "2020-03-26",
          "2020-03-27",
          "2020-03-28",
          "2020-03-29",
          "2020-03-30"
         ],
         "y": [
          207234.8668487226,
          205382.0631523039,
          194041.63850844864,
          167002.49351867626,
          195049.9984873042,
          207523.97101637124,
          210419.23925933053,
          209709.32575438335,
          208452.91635440648,
          197179.64636107656,
          168471.47427871716,
          199153.2607798981,
          206104.76125853288,
          210529.23831375263,
          210934.14249385177,
          210676.03151050518,
          199308.21628873737,
          170633.52926411628,
          201146.67444974117,
          207687.7610599908,
          212360.97311659958,
          212513.55538473403,
          212383.78274517457,
          200795.28500830033,
          170562.98319317508,
          174408.9732784111,
          208723.8668203877,
          213909.145935105,
          213971.21677319767,
          214108.82895805407,
          202429.45389890292,
          174113.36830754363,
          203783.96666941312,
          209886.71630387072,
          215536.69228330287,
          215476.8334413546,
          215857.04080459394,
          204074.09263780748,
          175969.6356482656,
          205176.61523894643
         ]
        }
       ],
       "layout": {
        "legend": {
         "bgcolor": "#F5F6F9",
         "font": {
          "color": "#4D5663"
         }
        },
        "paper_bgcolor": "#F5F6F9",
        "plot_bgcolor": "#F5F6F9",
        "template": {
         "data": {
          "bar": [
           {
            "error_x": {
             "color": "#2a3f5f"
            },
            "error_y": {
             "color": "#2a3f5f"
            },
            "marker": {
             "line": {
              "color": "#E5ECF6",
              "width": 0.5
             }
            },
            "type": "bar"
           }
          ],
          "barpolar": [
           {
            "marker": {
             "line": {
              "color": "#E5ECF6",
              "width": 0.5
             }
            },
            "type": "barpolar"
           }
          ],
          "carpet": [
           {
            "aaxis": {
             "endlinecolor": "#2a3f5f",
             "gridcolor": "white",
             "linecolor": "white",
             "minorgridcolor": "white",
             "startlinecolor": "#2a3f5f"
            },
            "baxis": {
             "endlinecolor": "#2a3f5f",
             "gridcolor": "white",
             "linecolor": "white",
             "minorgridcolor": "white",
             "startlinecolor": "#2a3f5f"
            },
            "type": "carpet"
           }
          ],
          "choropleth": [
           {
            "colorbar": {
             "outlinewidth": 0,
             "ticks": ""
            },
            "type": "choropleth"
           }
          ],
          "contour": [
           {
            "colorbar": {
             "outlinewidth": 0,
             "ticks": ""
            },
            "colorscale": [
             [
              0,
              "#0d0887"
             ],
             [
              0.1111111111111111,
              "#46039f"
             ],
             [
              0.2222222222222222,
              "#7201a8"
             ],
             [
              0.3333333333333333,
              "#9c179e"
             ],
             [
              0.4444444444444444,
              "#bd3786"
             ],
             [
              0.5555555555555556,
              "#d8576b"
             ],
             [
              0.6666666666666666,
              "#ed7953"
             ],
             [
              0.7777777777777778,
              "#fb9f3a"
             ],
             [
              0.8888888888888888,
              "#fdca26"
             ],
             [
              1,
              "#f0f921"
             ]
            ],
            "type": "contour"
           }
          ],
          "contourcarpet": [
           {
            "colorbar": {
             "outlinewidth": 0,
             "ticks": ""
            },
            "type": "contourcarpet"
           }
          ],
          "heatmap": [
           {
            "colorbar": {
             "outlinewidth": 0,
             "ticks": ""
            },
            "colorscale": [
             [
              0,
              "#0d0887"
             ],
             [
              0.1111111111111111,
              "#46039f"
             ],
             [
              0.2222222222222222,
              "#7201a8"
             ],
             [
              0.3333333333333333,
              "#9c179e"
             ],
             [
              0.4444444444444444,
              "#bd3786"
             ],
             [
              0.5555555555555556,
              "#d8576b"
             ],
             [
              0.6666666666666666,
              "#ed7953"
             ],
             [
              0.7777777777777778,
              "#fb9f3a"
             ],
             [
              0.8888888888888888,
              "#fdca26"
             ],
             [
              1,
              "#f0f921"
             ]
            ],
            "type": "heatmap"
           }
          ],
          "heatmapgl": [
           {
            "colorbar": {
             "outlinewidth": 0,
             "ticks": ""
            },
            "colorscale": [
             [
              0,
              "#0d0887"
             ],
             [
              0.1111111111111111,
              "#46039f"
             ],
             [
              0.2222222222222222,
              "#7201a8"
             ],
             [
              0.3333333333333333,
              "#9c179e"
             ],
             [
              0.4444444444444444,
              "#bd3786"
             ],
             [
              0.5555555555555556,
              "#d8576b"
             ],
             [
              0.6666666666666666,
              "#ed7953"
             ],
             [
              0.7777777777777778,
              "#fb9f3a"
             ],
             [
              0.8888888888888888,
              "#fdca26"
             ],
             [
              1,
              "#f0f921"
             ]
            ],
            "type": "heatmapgl"
           }
          ],
          "histogram": [
           {
            "marker": {
             "colorbar": {
              "outlinewidth": 0,
              "ticks": ""
             }
            },
            "type": "histogram"
           }
          ],
          "histogram2d": [
           {
            "colorbar": {
             "outlinewidth": 0,
             "ticks": ""
            },
            "colorscale": [
             [
              0,
              "#0d0887"
             ],
             [
              0.1111111111111111,
              "#46039f"
             ],
             [
              0.2222222222222222,
              "#7201a8"
             ],
             [
              0.3333333333333333,
              "#9c179e"
             ],
             [
              0.4444444444444444,
              "#bd3786"
             ],
             [
              0.5555555555555556,
              "#d8576b"
             ],
             [
              0.6666666666666666,
              "#ed7953"
             ],
             [
              0.7777777777777778,
              "#fb9f3a"
             ],
             [
              0.8888888888888888,
              "#fdca26"
             ],
             [
              1,
              "#f0f921"
             ]
            ],
            "type": "histogram2d"
           }
          ],
          "histogram2dcontour": [
           {
            "colorbar": {
             "outlinewidth": 0,
             "ticks": ""
            },
            "colorscale": [
             [
              0,
              "#0d0887"
             ],
             [
              0.1111111111111111,
              "#46039f"
             ],
             [
              0.2222222222222222,
              "#7201a8"
             ],
             [
              0.3333333333333333,
              "#9c179e"
             ],
             [
              0.4444444444444444,
              "#bd3786"
             ],
             [
              0.5555555555555556,
              "#d8576b"
             ],
             [
              0.6666666666666666,
              "#ed7953"
             ],
             [
              0.7777777777777778,
              "#fb9f3a"
             ],
             [
              0.8888888888888888,
              "#fdca26"
             ],
             [
              1,
              "#f0f921"
             ]
            ],
            "type": "histogram2dcontour"
           }
          ],
          "mesh3d": [
           {
            "colorbar": {
             "outlinewidth": 0,
             "ticks": ""
            },
            "type": "mesh3d"
           }
          ],
          "parcoords": [
           {
            "line": {
             "colorbar": {
              "outlinewidth": 0,
              "ticks": ""
             }
            },
            "type": "parcoords"
           }
          ],
          "scatter": [
           {
            "marker": {
             "colorbar": {
              "outlinewidth": 0,
              "ticks": ""
             }
            },
            "type": "scatter"
           }
          ],
          "scatter3d": [
           {
            "line": {
             "colorbar": {
              "outlinewidth": 0,
              "ticks": ""
             }
            },
            "marker": {
             "colorbar": {
              "outlinewidth": 0,
              "ticks": ""
             }
            },
            "type": "scatter3d"
           }
          ],
          "scattercarpet": [
           {
            "marker": {
             "colorbar": {
              "outlinewidth": 0,
              "ticks": ""
             }
            },
            "type": "scattercarpet"
           }
          ],
          "scattergeo": [
           {
            "marker": {
             "colorbar": {
              "outlinewidth": 0,
              "ticks": ""
             }
            },
            "type": "scattergeo"
           }
          ],
          "scattergl": [
           {
            "marker": {
             "colorbar": {
              "outlinewidth": 0,
              "ticks": ""
             }
            },
            "type": "scattergl"
           }
          ],
          "scattermapbox": [
           {
            "marker": {
             "colorbar": {
              "outlinewidth": 0,
              "ticks": ""
             }
            },
            "type": "scattermapbox"
           }
          ],
          "scatterpolar": [
           {
            "marker": {
             "colorbar": {
              "outlinewidth": 0,
              "ticks": ""
             }
            },
            "type": "scatterpolar"
           }
          ],
          "scatterpolargl": [
           {
            "marker": {
             "colorbar": {
              "outlinewidth": 0,
              "ticks": ""
             }
            },
            "type": "scatterpolargl"
           }
          ],
          "scatterternary": [
           {
            "marker": {
             "colorbar": {
              "outlinewidth": 0,
              "ticks": ""
             }
            },
            "type": "scatterternary"
           }
          ],
          "surface": [
           {
            "colorbar": {
             "outlinewidth": 0,
             "ticks": ""
            },
            "colorscale": [
             [
              0,
              "#0d0887"
             ],
             [
              0.1111111111111111,
              "#46039f"
             ],
             [
              0.2222222222222222,
              "#7201a8"
             ],
             [
              0.3333333333333333,
              "#9c179e"
             ],
             [
              0.4444444444444444,
              "#bd3786"
             ],
             [
              0.5555555555555556,
              "#d8576b"
             ],
             [
              0.6666666666666666,
              "#ed7953"
             ],
             [
              0.7777777777777778,
              "#fb9f3a"
             ],
             [
              0.8888888888888888,
              "#fdca26"
             ],
             [
              1,
              "#f0f921"
             ]
            ],
            "type": "surface"
           }
          ],
          "table": [
           {
            "cells": {
             "fill": {
              "color": "#EBF0F8"
             },
             "line": {
              "color": "white"
             }
            },
            "header": {
             "fill": {
              "color": "#C8D4E3"
             },
             "line": {
              "color": "white"
             }
            },
            "type": "table"
           }
          ]
         },
         "layout": {
          "annotationdefaults": {
           "arrowcolor": "#2a3f5f",
           "arrowhead": 0,
           "arrowwidth": 1
          },
          "colorscale": {
           "diverging": [
            [
             0,
             "#8e0152"
            ],
            [
             0.1,
             "#c51b7d"
            ],
            [
             0.2,
             "#de77ae"
            ],
            [
             0.3,
             "#f1b6da"
            ],
            [
             0.4,
             "#fde0ef"
            ],
            [
             0.5,
             "#f7f7f7"
            ],
            [
             0.6,
             "#e6f5d0"
            ],
            [
             0.7,
             "#b8e186"
            ],
            [
             0.8,
             "#7fbc41"
            ],
            [
             0.9,
             "#4d9221"
            ],
            [
             1,
             "#276419"
            ]
           ],
           "sequential": [
            [
             0,
             "#0d0887"
            ],
            [
             0.1111111111111111,
             "#46039f"
            ],
            [
             0.2222222222222222,
             "#7201a8"
            ],
            [
             0.3333333333333333,
             "#9c179e"
            ],
            [
             0.4444444444444444,
             "#bd3786"
            ],
            [
             0.5555555555555556,
             "#d8576b"
            ],
            [
             0.6666666666666666,
             "#ed7953"
            ],
            [
             0.7777777777777778,
             "#fb9f3a"
            ],
            [
             0.8888888888888888,
             "#fdca26"
            ],
            [
             1,
             "#f0f921"
            ]
           ],
           "sequentialminus": [
            [
             0,
             "#0d0887"
            ],
            [
             0.1111111111111111,
             "#46039f"
            ],
            [
             0.2222222222222222,
             "#7201a8"
            ],
            [
             0.3333333333333333,
             "#9c179e"
            ],
            [
             0.4444444444444444,
             "#bd3786"
            ],
            [
             0.5555555555555556,
             "#d8576b"
            ],
            [
             0.6666666666666666,
             "#ed7953"
            ],
            [
             0.7777777777777778,
             "#fb9f3a"
            ],
            [
             0.8888888888888888,
             "#fdca26"
            ],
            [
             1,
             "#f0f921"
            ]
           ]
          },
          "colorway": [
           "#636efa",
           "#EF553B",
           "#00cc96",
           "#ab63fa",
           "#FFA15A",
           "#19d3f3",
           "#FF6692",
           "#B6E880",
           "#FF97FF",
           "#FECB52"
          ],
          "font": {
           "color": "#2a3f5f"
          },
          "geo": {
           "bgcolor": "white",
           "lakecolor": "white",
           "landcolor": "#E5ECF6",
           "showlakes": true,
           "showland": true,
           "subunitcolor": "white"
          },
          "hoverlabel": {
           "align": "left"
          },
          "hovermode": "closest",
          "mapbox": {
           "style": "light"
          },
          "paper_bgcolor": "white",
          "plot_bgcolor": "#E5ECF6",
          "polar": {
           "angularaxis": {
            "gridcolor": "white",
            "linecolor": "white",
            "ticks": ""
           },
           "bgcolor": "#E5ECF6",
           "radialaxis": {
            "gridcolor": "white",
            "linecolor": "white",
            "ticks": ""
           }
          },
          "scene": {
           "xaxis": {
            "backgroundcolor": "#E5ECF6",
            "gridcolor": "white",
            "gridwidth": 2,
            "linecolor": "white",
            "showbackground": true,
            "ticks": "",
            "zerolinecolor": "white"
           },
           "yaxis": {
            "backgroundcolor": "#E5ECF6",
            "gridcolor": "white",
            "gridwidth": 2,
            "linecolor": "white",
            "showbackground": true,
            "ticks": "",
            "zerolinecolor": "white"
           },
           "zaxis": {
            "backgroundcolor": "#E5ECF6",
            "gridcolor": "white",
            "gridwidth": 2,
            "linecolor": "white",
            "showbackground": true,
            "ticks": "",
            "zerolinecolor": "white"
           }
          },
          "shapedefaults": {
           "line": {
            "color": "#2a3f5f"
           }
          },
          "ternary": {
           "aaxis": {
            "gridcolor": "white",
            "linecolor": "white",
            "ticks": ""
           },
           "baxis": {
            "gridcolor": "white",
            "linecolor": "white",
            "ticks": ""
           },
           "bgcolor": "#E5ECF6",
           "caxis": {
            "gridcolor": "white",
            "linecolor": "white",
            "ticks": ""
           }
          },
          "title": {
           "x": 0.05
          },
          "xaxis": {
           "automargin": true,
           "gridcolor": "white",
           "linecolor": "white",
           "ticks": "",
           "zerolinecolor": "white",
           "zerolinewidth": 2
          },
          "yaxis": {
           "automargin": true,
           "gridcolor": "white",
           "linecolor": "white",
           "ticks": "",
           "zerolinecolor": "white",
           "zerolinewidth": 2
          }
         }
        },
        "title": {
         "font": {
          "color": "#4D5663"
         },
         "text": "MAPE: 2.23"
        },
        "xaxis": {
         "gridcolor": "#E1E5ED",
         "showgrid": true,
         "tickfont": {
          "color": "#4D5663"
         },
         "title": {
          "font": {
           "color": "#4D5663"
          },
          "text": ""
         },
         "zerolinecolor": "#E1E5ED"
        },
        "yaxis": {
         "gridcolor": "#E1E5ED",
         "showgrid": true,
         "tickfont": {
          "color": "#4D5663"
         },
         "title": {
          "font": {
           "color": "#4D5663"
          },
          "text": ""
         },
         "zerolinecolor": "#E1E5ED"
        }
       }
      },
      "text/html": [
       "<div>\n",
       "        \n",
       "        \n",
       "            <div id=\"313d51a8-eb58-4675-a55e-edfa6dbe8a1b\" class=\"plotly-graph-div\" style=\"height:525px; width:100%;\"></div>\n",
       "            <script type=\"text/javascript\">\n",
       "                require([\"plotly\"], function(Plotly) {\n",
       "                    window.PLOTLYENV=window.PLOTLYENV || {};\n",
       "                    window.PLOTLYENV.BASE_URL='https://plot.ly';\n",
       "                    \n",
       "                if (document.getElementById(\"313d51a8-eb58-4675-a55e-edfa6dbe8a1b\")) {\n",
       "                    Plotly.newPlot(\n",
       "                        '313d51a8-eb58-4675-a55e-edfa6dbe8a1b',\n",
       "                        [{\"line\": {\"color\": \"rgba(255, 153, 51, 1.0)\", \"dash\": \"solid\", \"shape\": \"linear\", \"width\": 1.3}, \"mode\": \"lines\", \"name\": \"real\", \"text\": \"\", \"type\": \"scatter\", \"x\": [\"2020-02-20\", \"2020-02-21\", \"2020-02-22\", \"2020-02-23\", \"2020-02-24\", \"2020-02-25\", \"2020-02-26\", \"2020-02-27\", \"2020-02-28\", \"2020-02-29\", \"2020-03-01\", \"2020-03-02\", \"2020-03-03\", \"2020-03-04\", \"2020-03-05\", \"2020-03-06\", \"2020-03-07\", \"2020-03-08\", \"2020-03-09\", \"2020-03-10\", \"2020-03-11\", \"2020-03-12\", \"2020-03-13\", \"2020-03-14\", \"2020-03-15\", \"2020-03-16\", \"2020-03-17\", \"2020-03-18\", \"2020-03-19\", \"2020-03-20\", \"2020-03-21\", \"2020-03-22\", \"2020-03-23\", \"2020-03-24\", \"2020-03-25\", \"2020-03-26\", \"2020-03-27\", \"2020-03-28\", \"2020-03-29\", \"2020-03-30\"], \"y\": [208532.257, 206646.291, 195404.65734338292, 170638.966, 194946.982, 207646.143, 206187.856, 203216.015, 203384.3655258246, 193804.37302020256, 168483.515, 195732.045, 206334.203, 208013.69892374228, 209467.73, 204347.097, 195523.827, 168597.855, 194525.969, 206944.76298956136, 209419.85150708232, 212493.446, 211848.227, 198746.1259198897, 172471.601743114, 172167.1345528299, 196979.657, 209386.045, 207798.931, 205937.07269599594, 197432.10889048717, 171967.55659909293, 197526.498129075, 206724.15, 207132.60167331056, 205825.95295446686, 202961.53843346087, 192610.26960474052, 168345.521, 191108.613]}, {\"line\": {\"color\": \"rgba(55, 128, 191, 1.0)\", \"dash\": \"solid\", \"shape\": \"linear\", \"width\": 1.3}, \"mode\": \"lines\", \"name\": \"predict\", \"text\": \"\", \"type\": \"scatter\", \"x\": [\"2020-02-20\", \"2020-02-21\", \"2020-02-22\", \"2020-02-23\", \"2020-02-24\", \"2020-02-25\", \"2020-02-26\", \"2020-02-27\", \"2020-02-28\", \"2020-02-29\", \"2020-03-01\", \"2020-03-02\", \"2020-03-03\", \"2020-03-04\", \"2020-03-05\", \"2020-03-06\", \"2020-03-07\", \"2020-03-08\", \"2020-03-09\", \"2020-03-10\", \"2020-03-11\", \"2020-03-12\", \"2020-03-13\", \"2020-03-14\", \"2020-03-15\", \"2020-03-16\", \"2020-03-17\", \"2020-03-18\", \"2020-03-19\", \"2020-03-20\", \"2020-03-21\", \"2020-03-22\", \"2020-03-23\", \"2020-03-24\", \"2020-03-25\", \"2020-03-26\", \"2020-03-27\", \"2020-03-28\", \"2020-03-29\", \"2020-03-30\"], \"y\": [207234.8668487226, 205382.0631523039, 194041.63850844864, 167002.49351867626, 195049.9984873042, 207523.97101637124, 210419.23925933053, 209709.32575438335, 208452.91635440648, 197179.64636107656, 168471.47427871716, 199153.2607798981, 206104.76125853288, 210529.23831375263, 210934.14249385177, 210676.03151050518, 199308.21628873737, 170633.52926411628, 201146.67444974117, 207687.7610599908, 212360.97311659958, 212513.55538473403, 212383.78274517457, 200795.28500830033, 170562.98319317508, 174408.9732784111, 208723.8668203877, 213909.145935105, 213971.21677319767, 214108.82895805407, 202429.45389890292, 174113.36830754363, 203783.96666941312, 209886.71630387072, 215536.69228330287, 215476.8334413546, 215857.04080459394, 204074.09263780748, 175969.6356482656, 205176.61523894643]}],\n",
       "                        {\"legend\": {\"bgcolor\": \"#F5F6F9\", \"font\": {\"color\": \"#4D5663\"}}, \"paper_bgcolor\": \"#F5F6F9\", \"plot_bgcolor\": \"#F5F6F9\", \"template\": {\"data\": {\"bar\": [{\"error_x\": {\"color\": \"#2a3f5f\"}, \"error_y\": {\"color\": \"#2a3f5f\"}, \"marker\": {\"line\": {\"color\": \"#E5ECF6\", \"width\": 0.5}}, \"type\": \"bar\"}], \"barpolar\": [{\"marker\": {\"line\": {\"color\": \"#E5ECF6\", \"width\": 0.5}}, \"type\": \"barpolar\"}], \"carpet\": [{\"aaxis\": {\"endlinecolor\": \"#2a3f5f\", \"gridcolor\": \"white\", \"linecolor\": \"white\", \"minorgridcolor\": \"white\", \"startlinecolor\": \"#2a3f5f\"}, \"baxis\": {\"endlinecolor\": \"#2a3f5f\", \"gridcolor\": \"white\", \"linecolor\": \"white\", \"minorgridcolor\": \"white\", \"startlinecolor\": \"#2a3f5f\"}, \"type\": \"carpet\"}], \"choropleth\": [{\"colorbar\": {\"outlinewidth\": 0, \"ticks\": \"\"}, \"type\": \"choropleth\"}], \"contour\": [{\"colorbar\": {\"outlinewidth\": 0, \"ticks\": \"\"}, \"colorscale\": [[0.0, \"#0d0887\"], [0.1111111111111111, \"#46039f\"], [0.2222222222222222, \"#7201a8\"], [0.3333333333333333, \"#9c179e\"], [0.4444444444444444, \"#bd3786\"], [0.5555555555555556, \"#d8576b\"], [0.6666666666666666, \"#ed7953\"], [0.7777777777777778, \"#fb9f3a\"], [0.8888888888888888, \"#fdca26\"], [1.0, \"#f0f921\"]], \"type\": \"contour\"}], \"contourcarpet\": [{\"colorbar\": {\"outlinewidth\": 0, \"ticks\": \"\"}, \"type\": \"contourcarpet\"}], \"heatmap\": [{\"colorbar\": {\"outlinewidth\": 0, \"ticks\": \"\"}, \"colorscale\": [[0.0, \"#0d0887\"], [0.1111111111111111, \"#46039f\"], [0.2222222222222222, \"#7201a8\"], [0.3333333333333333, \"#9c179e\"], [0.4444444444444444, \"#bd3786\"], [0.5555555555555556, \"#d8576b\"], [0.6666666666666666, \"#ed7953\"], [0.7777777777777778, \"#fb9f3a\"], [0.8888888888888888, \"#fdca26\"], [1.0, \"#f0f921\"]], \"type\": \"heatmap\"}], \"heatmapgl\": [{\"colorbar\": {\"outlinewidth\": 0, \"ticks\": \"\"}, \"colorscale\": [[0.0, \"#0d0887\"], [0.1111111111111111, \"#46039f\"], [0.2222222222222222, \"#7201a8\"], [0.3333333333333333, \"#9c179e\"], [0.4444444444444444, \"#bd3786\"], [0.5555555555555556, \"#d8576b\"], [0.6666666666666666, \"#ed7953\"], [0.7777777777777778, \"#fb9f3a\"], [0.8888888888888888, \"#fdca26\"], [1.0, \"#f0f921\"]], \"type\": \"heatmapgl\"}], \"histogram\": [{\"marker\": {\"colorbar\": {\"outlinewidth\": 0, \"ticks\": \"\"}}, \"type\": \"histogram\"}], \"histogram2d\": [{\"colorbar\": {\"outlinewidth\": 0, \"ticks\": \"\"}, \"colorscale\": [[0.0, \"#0d0887\"], [0.1111111111111111, \"#46039f\"], [0.2222222222222222, \"#7201a8\"], [0.3333333333333333, \"#9c179e\"], [0.4444444444444444, \"#bd3786\"], [0.5555555555555556, \"#d8576b\"], [0.6666666666666666, \"#ed7953\"], [0.7777777777777778, \"#fb9f3a\"], [0.8888888888888888, \"#fdca26\"], [1.0, \"#f0f921\"]], \"type\": \"histogram2d\"}], \"histogram2dcontour\": [{\"colorbar\": {\"outlinewidth\": 0, \"ticks\": \"\"}, \"colorscale\": [[0.0, \"#0d0887\"], [0.1111111111111111, \"#46039f\"], [0.2222222222222222, \"#7201a8\"], [0.3333333333333333, \"#9c179e\"], [0.4444444444444444, \"#bd3786\"], [0.5555555555555556, \"#d8576b\"], [0.6666666666666666, \"#ed7953\"], [0.7777777777777778, \"#fb9f3a\"], [0.8888888888888888, \"#fdca26\"], [1.0, \"#f0f921\"]], \"type\": \"histogram2dcontour\"}], \"mesh3d\": [{\"colorbar\": {\"outlinewidth\": 0, \"ticks\": \"\"}, \"type\": \"mesh3d\"}], \"parcoords\": [{\"line\": {\"colorbar\": {\"outlinewidth\": 0, \"ticks\": \"\"}}, \"type\": \"parcoords\"}], \"scatter\": [{\"marker\": {\"colorbar\": {\"outlinewidth\": 0, \"ticks\": \"\"}}, \"type\": \"scatter\"}], \"scatter3d\": [{\"line\": {\"colorbar\": {\"outlinewidth\": 0, \"ticks\": \"\"}}, \"marker\": {\"colorbar\": {\"outlinewidth\": 0, \"ticks\": \"\"}}, \"type\": \"scatter3d\"}], \"scattercarpet\": [{\"marker\": {\"colorbar\": {\"outlinewidth\": 0, \"ticks\": \"\"}}, \"type\": \"scattercarpet\"}], \"scattergeo\": [{\"marker\": {\"colorbar\": {\"outlinewidth\": 0, \"ticks\": \"\"}}, \"type\": \"scattergeo\"}], \"scattergl\": [{\"marker\": {\"colorbar\": {\"outlinewidth\": 0, \"ticks\": \"\"}}, \"type\": \"scattergl\"}], \"scattermapbox\": [{\"marker\": {\"colorbar\": {\"outlinewidth\": 0, \"ticks\": \"\"}}, \"type\": \"scattermapbox\"}], \"scatterpolar\": [{\"marker\": {\"colorbar\": {\"outlinewidth\": 0, \"ticks\": \"\"}}, \"type\": \"scatterpolar\"}], \"scatterpolargl\": [{\"marker\": {\"colorbar\": {\"outlinewidth\": 0, \"ticks\": \"\"}}, \"type\": \"scatterpolargl\"}], \"scatterternary\": [{\"marker\": {\"colorbar\": {\"outlinewidth\": 0, \"ticks\": \"\"}}, \"type\": \"scatterternary\"}], \"surface\": [{\"colorbar\": {\"outlinewidth\": 0, \"ticks\": \"\"}, \"colorscale\": [[0.0, \"#0d0887\"], [0.1111111111111111, \"#46039f\"], [0.2222222222222222, \"#7201a8\"], [0.3333333333333333, \"#9c179e\"], [0.4444444444444444, \"#bd3786\"], [0.5555555555555556, \"#d8576b\"], [0.6666666666666666, \"#ed7953\"], [0.7777777777777778, \"#fb9f3a\"], [0.8888888888888888, \"#fdca26\"], [1.0, \"#f0f921\"]], \"type\": \"surface\"}], \"table\": [{\"cells\": {\"fill\": {\"color\": \"#EBF0F8\"}, \"line\": {\"color\": \"white\"}}, \"header\": {\"fill\": {\"color\": \"#C8D4E3\"}, \"line\": {\"color\": \"white\"}}, \"type\": \"table\"}]}, \"layout\": {\"annotationdefaults\": {\"arrowcolor\": \"#2a3f5f\", \"arrowhead\": 0, \"arrowwidth\": 1}, \"colorscale\": {\"diverging\": [[0, \"#8e0152\"], [0.1, \"#c51b7d\"], [0.2, \"#de77ae\"], [0.3, \"#f1b6da\"], [0.4, \"#fde0ef\"], [0.5, \"#f7f7f7\"], [0.6, \"#e6f5d0\"], [0.7, \"#b8e186\"], [0.8, \"#7fbc41\"], [0.9, \"#4d9221\"], [1, \"#276419\"]], \"sequential\": [[0.0, \"#0d0887\"], [0.1111111111111111, \"#46039f\"], [0.2222222222222222, \"#7201a8\"], [0.3333333333333333, \"#9c179e\"], [0.4444444444444444, \"#bd3786\"], [0.5555555555555556, \"#d8576b\"], [0.6666666666666666, \"#ed7953\"], [0.7777777777777778, \"#fb9f3a\"], [0.8888888888888888, \"#fdca26\"], [1.0, \"#f0f921\"]], \"sequentialminus\": [[0.0, \"#0d0887\"], [0.1111111111111111, \"#46039f\"], [0.2222222222222222, \"#7201a8\"], [0.3333333333333333, \"#9c179e\"], [0.4444444444444444, \"#bd3786\"], [0.5555555555555556, \"#d8576b\"], [0.6666666666666666, \"#ed7953\"], [0.7777777777777778, \"#fb9f3a\"], [0.8888888888888888, \"#fdca26\"], [1.0, \"#f0f921\"]]}, \"colorway\": [\"#636efa\", \"#EF553B\", \"#00cc96\", \"#ab63fa\", \"#FFA15A\", \"#19d3f3\", \"#FF6692\", \"#B6E880\", \"#FF97FF\", \"#FECB52\"], \"font\": {\"color\": \"#2a3f5f\"}, \"geo\": {\"bgcolor\": \"white\", \"lakecolor\": \"white\", \"landcolor\": \"#E5ECF6\", \"showlakes\": true, \"showland\": true, \"subunitcolor\": \"white\"}, \"hoverlabel\": {\"align\": \"left\"}, \"hovermode\": \"closest\", \"mapbox\": {\"style\": \"light\"}, \"paper_bgcolor\": \"white\", \"plot_bgcolor\": \"#E5ECF6\", \"polar\": {\"angularaxis\": {\"gridcolor\": \"white\", \"linecolor\": \"white\", \"ticks\": \"\"}, \"bgcolor\": \"#E5ECF6\", \"radialaxis\": {\"gridcolor\": \"white\", \"linecolor\": \"white\", \"ticks\": \"\"}}, \"scene\": {\"xaxis\": {\"backgroundcolor\": \"#E5ECF6\", \"gridcolor\": \"white\", \"gridwidth\": 2, \"linecolor\": \"white\", \"showbackground\": true, \"ticks\": \"\", \"zerolinecolor\": \"white\"}, \"yaxis\": {\"backgroundcolor\": \"#E5ECF6\", \"gridcolor\": \"white\", \"gridwidth\": 2, \"linecolor\": \"white\", \"showbackground\": true, \"ticks\": \"\", \"zerolinecolor\": \"white\"}, \"zaxis\": {\"backgroundcolor\": \"#E5ECF6\", \"gridcolor\": \"white\", \"gridwidth\": 2, \"linecolor\": \"white\", \"showbackground\": true, \"ticks\": \"\", \"zerolinecolor\": \"white\"}}, \"shapedefaults\": {\"line\": {\"color\": \"#2a3f5f\"}}, \"ternary\": {\"aaxis\": {\"gridcolor\": \"white\", \"linecolor\": \"white\", \"ticks\": \"\"}, \"baxis\": {\"gridcolor\": \"white\", \"linecolor\": \"white\", \"ticks\": \"\"}, \"bgcolor\": \"#E5ECF6\", \"caxis\": {\"gridcolor\": \"white\", \"linecolor\": \"white\", \"ticks\": \"\"}}, \"title\": {\"x\": 0.05}, \"xaxis\": {\"automargin\": true, \"gridcolor\": \"white\", \"linecolor\": \"white\", \"ticks\": \"\", \"zerolinecolor\": \"white\", \"zerolinewidth\": 2}, \"yaxis\": {\"automargin\": true, \"gridcolor\": \"white\", \"linecolor\": \"white\", \"ticks\": \"\", \"zerolinecolor\": \"white\", \"zerolinewidth\": 2}}}, \"title\": {\"font\": {\"color\": \"#4D5663\"}, \"text\": \"MAPE: 2.23\"}, \"xaxis\": {\"gridcolor\": \"#E1E5ED\", \"showgrid\": true, \"tickfont\": {\"color\": \"#4D5663\"}, \"title\": {\"font\": {\"color\": \"#4D5663\"}, \"text\": \"\"}, \"zerolinecolor\": \"#E1E5ED\"}, \"yaxis\": {\"gridcolor\": \"#E1E5ED\", \"showgrid\": true, \"tickfont\": {\"color\": \"#4D5663\"}, \"title\": {\"font\": {\"color\": \"#4D5663\"}, \"text\": \"\"}, \"zerolinecolor\": \"#E1E5ED\"}},\n",
       "                        {\"showLink\": true, \"linkText\": \"Export to plot.ly\", \"plotlyServerURL\": \"https://plot.ly\", \"responsive\": true}\n",
       "                    ).then(function(){\n",
       "                            \n",
       "var gd = document.getElementById('313d51a8-eb58-4675-a55e-edfa6dbe8a1b');\n",
       "var x = new MutationObserver(function (mutations, observer) {{\n",
       "        var display = window.getComputedStyle(gd).display;\n",
       "        if (!display || display === 'none') {{\n",
       "            console.log([gd, 'removed!']);\n",
       "            Plotly.purge(gd);\n",
       "            observer.disconnect();\n",
       "        }}\n",
       "}});\n",
       "\n",
       "// Listen for the removal of the full notebook cells\n",
       "var notebookContainer = gd.closest('#notebook-container');\n",
       "if (notebookContainer) {{\n",
       "    x.observe(notebookContainer, {childList: true});\n",
       "}}\n",
       "\n",
       "// Listen for the clearing of the current output cell\n",
       "var outputEl = gd.closest('.output');\n",
       "if (outputEl) {{\n",
       "    x.observe(outputEl, {childList: true});\n",
       "}}\n",
       "\n",
       "                        })\n",
       "                };\n",
       "                });\n",
       "            </script>\n",
       "        </div>"
      ]
     },
     "metadata": {},
     "output_type": "display_data"
    }
   ],
   "source": [
    "d = '08_04_2021_21_41_46'\n",
    "mape = pkls[d][1][\"error\"].mean()*100\n",
    "pkls[d][1][[\"real\", \"predict\"]].iplot(title = f\"MAPE: {mape:.2f}\")"
   ]
  },
  {
   "cell_type": "code",
   "execution_count": 213,
   "metadata": {
    "ExecuteTime": {
     "end_time": "2021-04-08T02:02:43.041997Z",
     "start_time": "2021-04-08T02:02:43.026039Z"
    }
   },
   "outputs": [
    {
     "data": {
      "text/plain": [
       "{'kernel': 'rbf',\n",
       " 'C': 4.228517846555483,\n",
       " 'epsilon': 7.20604168948716,\n",
       " 'mu': 0.7423118951773942,\n",
       " 'lmbda': 1.5186395374328805,\n",
       " 'gamma': 0.00011142604425275418}"
      ]
     },
     "execution_count": 213,
     "metadata": {},
     "output_type": "execute_result"
    }
   ],
   "source": [
    "pkls['07_04_2021_13_19_55'][0]"
   ]
  },
  {
   "cell_type": "code",
   "execution_count": 227,
   "metadata": {
    "ExecuteTime": {
     "end_time": "2021-04-08T02:20:57.386837Z",
     "start_time": "2021-04-08T02:20:56.602329Z"
    }
   },
   "outputs": [
    {
     "data": {
      "application/vnd.plotly.v1+json": {
       "config": {
        "linkText": "Export to plot.ly",
        "plotlyServerURL": "https://plot.ly",
        "showLink": true
       },
       "data": [
        {
         "line": {
          "color": "rgba(255, 153, 51, 1.0)",
          "dash": "solid",
          "shape": "linear",
          "width": 1.3
         },
         "mode": "lines",
         "name": "real",
         "text": "",
         "type": "scatter",
         "x": [
          "2020-03-24",
          "2020-03-25",
          "2020-03-26",
          "2020-03-27",
          "2020-03-28",
          "2020-03-29",
          "2020-03-30"
         ],
         "y": [
          206724.15,
          207132.60167331056,
          205825.95295446686,
          202961.53843346087,
          192610.26960474052,
          168345.521,
          191108.613
         ]
        },
        {
         "line": {
          "color": "rgba(55, 128, 191, 1.0)",
          "dash": "solid",
          "shape": "linear",
          "width": 1.3
         },
         "mode": "lines",
         "name": "predict",
         "text": "",
         "type": "scatter",
         "x": [
          "2020-03-24",
          "2020-03-25",
          "2020-03-26",
          "2020-03-27",
          "2020-03-28",
          "2020-03-29",
          "2020-03-30"
         ],
         "y": [
          209190.5397022616,
          210265.6936629319,
          209832.1027464551,
          208322.876600814,
          199353.31388795443,
          178132.14494162335,
          203959.484879857
         ]
        }
       ],
       "layout": {
        "legend": {
         "bgcolor": "#F5F6F9",
         "font": {
          "color": "#4D5663"
         }
        },
        "paper_bgcolor": "#F5F6F9",
        "plot_bgcolor": "#F5F6F9",
        "template": {
         "data": {
          "bar": [
           {
            "error_x": {
             "color": "#2a3f5f"
            },
            "error_y": {
             "color": "#2a3f5f"
            },
            "marker": {
             "line": {
              "color": "#E5ECF6",
              "width": 0.5
             }
            },
            "type": "bar"
           }
          ],
          "barpolar": [
           {
            "marker": {
             "line": {
              "color": "#E5ECF6",
              "width": 0.5
             }
            },
            "type": "barpolar"
           }
          ],
          "carpet": [
           {
            "aaxis": {
             "endlinecolor": "#2a3f5f",
             "gridcolor": "white",
             "linecolor": "white",
             "minorgridcolor": "white",
             "startlinecolor": "#2a3f5f"
            },
            "baxis": {
             "endlinecolor": "#2a3f5f",
             "gridcolor": "white",
             "linecolor": "white",
             "minorgridcolor": "white",
             "startlinecolor": "#2a3f5f"
            },
            "type": "carpet"
           }
          ],
          "choropleth": [
           {
            "colorbar": {
             "outlinewidth": 0,
             "ticks": ""
            },
            "type": "choropleth"
           }
          ],
          "contour": [
           {
            "colorbar": {
             "outlinewidth": 0,
             "ticks": ""
            },
            "colorscale": [
             [
              0,
              "#0d0887"
             ],
             [
              0.1111111111111111,
              "#46039f"
             ],
             [
              0.2222222222222222,
              "#7201a8"
             ],
             [
              0.3333333333333333,
              "#9c179e"
             ],
             [
              0.4444444444444444,
              "#bd3786"
             ],
             [
              0.5555555555555556,
              "#d8576b"
             ],
             [
              0.6666666666666666,
              "#ed7953"
             ],
             [
              0.7777777777777778,
              "#fb9f3a"
             ],
             [
              0.8888888888888888,
              "#fdca26"
             ],
             [
              1,
              "#f0f921"
             ]
            ],
            "type": "contour"
           }
          ],
          "contourcarpet": [
           {
            "colorbar": {
             "outlinewidth": 0,
             "ticks": ""
            },
            "type": "contourcarpet"
           }
          ],
          "heatmap": [
           {
            "colorbar": {
             "outlinewidth": 0,
             "ticks": ""
            },
            "colorscale": [
             [
              0,
              "#0d0887"
             ],
             [
              0.1111111111111111,
              "#46039f"
             ],
             [
              0.2222222222222222,
              "#7201a8"
             ],
             [
              0.3333333333333333,
              "#9c179e"
             ],
             [
              0.4444444444444444,
              "#bd3786"
             ],
             [
              0.5555555555555556,
              "#d8576b"
             ],
             [
              0.6666666666666666,
              "#ed7953"
             ],
             [
              0.7777777777777778,
              "#fb9f3a"
             ],
             [
              0.8888888888888888,
              "#fdca26"
             ],
             [
              1,
              "#f0f921"
             ]
            ],
            "type": "heatmap"
           }
          ],
          "heatmapgl": [
           {
            "colorbar": {
             "outlinewidth": 0,
             "ticks": ""
            },
            "colorscale": [
             [
              0,
              "#0d0887"
             ],
             [
              0.1111111111111111,
              "#46039f"
             ],
             [
              0.2222222222222222,
              "#7201a8"
             ],
             [
              0.3333333333333333,
              "#9c179e"
             ],
             [
              0.4444444444444444,
              "#bd3786"
             ],
             [
              0.5555555555555556,
              "#d8576b"
             ],
             [
              0.6666666666666666,
              "#ed7953"
             ],
             [
              0.7777777777777778,
              "#fb9f3a"
             ],
             [
              0.8888888888888888,
              "#fdca26"
             ],
             [
              1,
              "#f0f921"
             ]
            ],
            "type": "heatmapgl"
           }
          ],
          "histogram": [
           {
            "marker": {
             "colorbar": {
              "outlinewidth": 0,
              "ticks": ""
             }
            },
            "type": "histogram"
           }
          ],
          "histogram2d": [
           {
            "colorbar": {
             "outlinewidth": 0,
             "ticks": ""
            },
            "colorscale": [
             [
              0,
              "#0d0887"
             ],
             [
              0.1111111111111111,
              "#46039f"
             ],
             [
              0.2222222222222222,
              "#7201a8"
             ],
             [
              0.3333333333333333,
              "#9c179e"
             ],
             [
              0.4444444444444444,
              "#bd3786"
             ],
             [
              0.5555555555555556,
              "#d8576b"
             ],
             [
              0.6666666666666666,
              "#ed7953"
             ],
             [
              0.7777777777777778,
              "#fb9f3a"
             ],
             [
              0.8888888888888888,
              "#fdca26"
             ],
             [
              1,
              "#f0f921"
             ]
            ],
            "type": "histogram2d"
           }
          ],
          "histogram2dcontour": [
           {
            "colorbar": {
             "outlinewidth": 0,
             "ticks": ""
            },
            "colorscale": [
             [
              0,
              "#0d0887"
             ],
             [
              0.1111111111111111,
              "#46039f"
             ],
             [
              0.2222222222222222,
              "#7201a8"
             ],
             [
              0.3333333333333333,
              "#9c179e"
             ],
             [
              0.4444444444444444,
              "#bd3786"
             ],
             [
              0.5555555555555556,
              "#d8576b"
             ],
             [
              0.6666666666666666,
              "#ed7953"
             ],
             [
              0.7777777777777778,
              "#fb9f3a"
             ],
             [
              0.8888888888888888,
              "#fdca26"
             ],
             [
              1,
              "#f0f921"
             ]
            ],
            "type": "histogram2dcontour"
           }
          ],
          "mesh3d": [
           {
            "colorbar": {
             "outlinewidth": 0,
             "ticks": ""
            },
            "type": "mesh3d"
           }
          ],
          "parcoords": [
           {
            "line": {
             "colorbar": {
              "outlinewidth": 0,
              "ticks": ""
             }
            },
            "type": "parcoords"
           }
          ],
          "scatter": [
           {
            "marker": {
             "colorbar": {
              "outlinewidth": 0,
              "ticks": ""
             }
            },
            "type": "scatter"
           }
          ],
          "scatter3d": [
           {
            "line": {
             "colorbar": {
              "outlinewidth": 0,
              "ticks": ""
             }
            },
            "marker": {
             "colorbar": {
              "outlinewidth": 0,
              "ticks": ""
             }
            },
            "type": "scatter3d"
           }
          ],
          "scattercarpet": [
           {
            "marker": {
             "colorbar": {
              "outlinewidth": 0,
              "ticks": ""
             }
            },
            "type": "scattercarpet"
           }
          ],
          "scattergeo": [
           {
            "marker": {
             "colorbar": {
              "outlinewidth": 0,
              "ticks": ""
             }
            },
            "type": "scattergeo"
           }
          ],
          "scattergl": [
           {
            "marker": {
             "colorbar": {
              "outlinewidth": 0,
              "ticks": ""
             }
            },
            "type": "scattergl"
           }
          ],
          "scattermapbox": [
           {
            "marker": {
             "colorbar": {
              "outlinewidth": 0,
              "ticks": ""
             }
            },
            "type": "scattermapbox"
           }
          ],
          "scatterpolar": [
           {
            "marker": {
             "colorbar": {
              "outlinewidth": 0,
              "ticks": ""
             }
            },
            "type": "scatterpolar"
           }
          ],
          "scatterpolargl": [
           {
            "marker": {
             "colorbar": {
              "outlinewidth": 0,
              "ticks": ""
             }
            },
            "type": "scatterpolargl"
           }
          ],
          "scatterternary": [
           {
            "marker": {
             "colorbar": {
              "outlinewidth": 0,
              "ticks": ""
             }
            },
            "type": "scatterternary"
           }
          ],
          "surface": [
           {
            "colorbar": {
             "outlinewidth": 0,
             "ticks": ""
            },
            "colorscale": [
             [
              0,
              "#0d0887"
             ],
             [
              0.1111111111111111,
              "#46039f"
             ],
             [
              0.2222222222222222,
              "#7201a8"
             ],
             [
              0.3333333333333333,
              "#9c179e"
             ],
             [
              0.4444444444444444,
              "#bd3786"
             ],
             [
              0.5555555555555556,
              "#d8576b"
             ],
             [
              0.6666666666666666,
              "#ed7953"
             ],
             [
              0.7777777777777778,
              "#fb9f3a"
             ],
             [
              0.8888888888888888,
              "#fdca26"
             ],
             [
              1,
              "#f0f921"
             ]
            ],
            "type": "surface"
           }
          ],
          "table": [
           {
            "cells": {
             "fill": {
              "color": "#EBF0F8"
             },
             "line": {
              "color": "white"
             }
            },
            "header": {
             "fill": {
              "color": "#C8D4E3"
             },
             "line": {
              "color": "white"
             }
            },
            "type": "table"
           }
          ]
         },
         "layout": {
          "annotationdefaults": {
           "arrowcolor": "#2a3f5f",
           "arrowhead": 0,
           "arrowwidth": 1
          },
          "colorscale": {
           "diverging": [
            [
             0,
             "#8e0152"
            ],
            [
             0.1,
             "#c51b7d"
            ],
            [
             0.2,
             "#de77ae"
            ],
            [
             0.3,
             "#f1b6da"
            ],
            [
             0.4,
             "#fde0ef"
            ],
            [
             0.5,
             "#f7f7f7"
            ],
            [
             0.6,
             "#e6f5d0"
            ],
            [
             0.7,
             "#b8e186"
            ],
            [
             0.8,
             "#7fbc41"
            ],
            [
             0.9,
             "#4d9221"
            ],
            [
             1,
             "#276419"
            ]
           ],
           "sequential": [
            [
             0,
             "#0d0887"
            ],
            [
             0.1111111111111111,
             "#46039f"
            ],
            [
             0.2222222222222222,
             "#7201a8"
            ],
            [
             0.3333333333333333,
             "#9c179e"
            ],
            [
             0.4444444444444444,
             "#bd3786"
            ],
            [
             0.5555555555555556,
             "#d8576b"
            ],
            [
             0.6666666666666666,
             "#ed7953"
            ],
            [
             0.7777777777777778,
             "#fb9f3a"
            ],
            [
             0.8888888888888888,
             "#fdca26"
            ],
            [
             1,
             "#f0f921"
            ]
           ],
           "sequentialminus": [
            [
             0,
             "#0d0887"
            ],
            [
             0.1111111111111111,
             "#46039f"
            ],
            [
             0.2222222222222222,
             "#7201a8"
            ],
            [
             0.3333333333333333,
             "#9c179e"
            ],
            [
             0.4444444444444444,
             "#bd3786"
            ],
            [
             0.5555555555555556,
             "#d8576b"
            ],
            [
             0.6666666666666666,
             "#ed7953"
            ],
            [
             0.7777777777777778,
             "#fb9f3a"
            ],
            [
             0.8888888888888888,
             "#fdca26"
            ],
            [
             1,
             "#f0f921"
            ]
           ]
          },
          "colorway": [
           "#636efa",
           "#EF553B",
           "#00cc96",
           "#ab63fa",
           "#FFA15A",
           "#19d3f3",
           "#FF6692",
           "#B6E880",
           "#FF97FF",
           "#FECB52"
          ],
          "font": {
           "color": "#2a3f5f"
          },
          "geo": {
           "bgcolor": "white",
           "lakecolor": "white",
           "landcolor": "#E5ECF6",
           "showlakes": true,
           "showland": true,
           "subunitcolor": "white"
          },
          "hoverlabel": {
           "align": "left"
          },
          "hovermode": "closest",
          "mapbox": {
           "style": "light"
          },
          "paper_bgcolor": "white",
          "plot_bgcolor": "#E5ECF6",
          "polar": {
           "angularaxis": {
            "gridcolor": "white",
            "linecolor": "white",
            "ticks": ""
           },
           "bgcolor": "#E5ECF6",
           "radialaxis": {
            "gridcolor": "white",
            "linecolor": "white",
            "ticks": ""
           }
          },
          "scene": {
           "xaxis": {
            "backgroundcolor": "#E5ECF6",
            "gridcolor": "white",
            "gridwidth": 2,
            "linecolor": "white",
            "showbackground": true,
            "ticks": "",
            "zerolinecolor": "white"
           },
           "yaxis": {
            "backgroundcolor": "#E5ECF6",
            "gridcolor": "white",
            "gridwidth": 2,
            "linecolor": "white",
            "showbackground": true,
            "ticks": "",
            "zerolinecolor": "white"
           },
           "zaxis": {
            "backgroundcolor": "#E5ECF6",
            "gridcolor": "white",
            "gridwidth": 2,
            "linecolor": "white",
            "showbackground": true,
            "ticks": "",
            "zerolinecolor": "white"
           }
          },
          "shapedefaults": {
           "line": {
            "color": "#2a3f5f"
           }
          },
          "ternary": {
           "aaxis": {
            "gridcolor": "white",
            "linecolor": "white",
            "ticks": ""
           },
           "baxis": {
            "gridcolor": "white",
            "linecolor": "white",
            "ticks": ""
           },
           "bgcolor": "#E5ECF6",
           "caxis": {
            "gridcolor": "white",
            "linecolor": "white",
            "ticks": ""
           }
          },
          "title": {
           "x": 0.05
          },
          "xaxis": {
           "automargin": true,
           "gridcolor": "white",
           "linecolor": "white",
           "ticks": "",
           "zerolinecolor": "white",
           "zerolinewidth": 2
          },
          "yaxis": {
           "automargin": true,
           "gridcolor": "white",
           "linecolor": "white",
           "ticks": "",
           "zerolinecolor": "white",
           "zerolinewidth": 2
          }
         }
        },
        "title": {
         "font": {
          "color": "#4D5663"
         },
         "text": "MAPE: 3.33"
        },
        "xaxis": {
         "gridcolor": "#E1E5ED",
         "showgrid": true,
         "tickfont": {
          "color": "#4D5663"
         },
         "title": {
          "font": {
           "color": "#4D5663"
          },
          "text": ""
         },
         "zerolinecolor": "#E1E5ED"
        },
        "yaxis": {
         "gridcolor": "#E1E5ED",
         "showgrid": true,
         "tickfont": {
          "color": "#4D5663"
         },
         "title": {
          "font": {
           "color": "#4D5663"
          },
          "text": ""
         },
         "zerolinecolor": "#E1E5ED"
        }
       }
      },
      "text/html": [
       "<div>\n",
       "        \n",
       "        \n",
       "            <div id=\"4f04539a-d196-4458-8995-394945b65aea\" class=\"plotly-graph-div\" style=\"height:525px; width:100%;\"></div>\n",
       "            <script type=\"text/javascript\">\n",
       "                require([\"plotly\"], function(Plotly) {\n",
       "                    window.PLOTLYENV=window.PLOTLYENV || {};\n",
       "                    window.PLOTLYENV.BASE_URL='https://plot.ly';\n",
       "                    \n",
       "                if (document.getElementById(\"4f04539a-d196-4458-8995-394945b65aea\")) {\n",
       "                    Plotly.newPlot(\n",
       "                        '4f04539a-d196-4458-8995-394945b65aea',\n",
       "                        [{\"line\": {\"color\": \"rgba(255, 153, 51, 1.0)\", \"dash\": \"solid\", \"shape\": \"linear\", \"width\": 1.3}, \"mode\": \"lines\", \"name\": \"real\", \"text\": \"\", \"type\": \"scatter\", \"x\": [\"2020-03-24\", \"2020-03-25\", \"2020-03-26\", \"2020-03-27\", \"2020-03-28\", \"2020-03-29\", \"2020-03-30\"], \"y\": [206724.15, 207132.60167331056, 205825.95295446686, 202961.53843346087, 192610.26960474052, 168345.521, 191108.613]}, {\"line\": {\"color\": \"rgba(55, 128, 191, 1.0)\", \"dash\": \"solid\", \"shape\": \"linear\", \"width\": 1.3}, \"mode\": \"lines\", \"name\": \"predict\", \"text\": \"\", \"type\": \"scatter\", \"x\": [\"2020-03-24\", \"2020-03-25\", \"2020-03-26\", \"2020-03-27\", \"2020-03-28\", \"2020-03-29\", \"2020-03-30\"], \"y\": [209190.5397022616, 210265.6936629319, 209832.1027464551, 208322.876600814, 199353.31388795443, 178132.14494162335, 203959.484879857]}],\n",
       "                        {\"legend\": {\"bgcolor\": \"#F5F6F9\", \"font\": {\"color\": \"#4D5663\"}}, \"paper_bgcolor\": \"#F5F6F9\", \"plot_bgcolor\": \"#F5F6F9\", \"template\": {\"data\": {\"bar\": [{\"error_x\": {\"color\": \"#2a3f5f\"}, \"error_y\": {\"color\": \"#2a3f5f\"}, \"marker\": {\"line\": {\"color\": \"#E5ECF6\", \"width\": 0.5}}, \"type\": \"bar\"}], \"barpolar\": [{\"marker\": {\"line\": {\"color\": \"#E5ECF6\", \"width\": 0.5}}, \"type\": \"barpolar\"}], \"carpet\": [{\"aaxis\": {\"endlinecolor\": \"#2a3f5f\", \"gridcolor\": \"white\", \"linecolor\": \"white\", \"minorgridcolor\": \"white\", \"startlinecolor\": \"#2a3f5f\"}, \"baxis\": {\"endlinecolor\": \"#2a3f5f\", \"gridcolor\": \"white\", \"linecolor\": \"white\", \"minorgridcolor\": \"white\", \"startlinecolor\": \"#2a3f5f\"}, \"type\": \"carpet\"}], \"choropleth\": [{\"colorbar\": {\"outlinewidth\": 0, \"ticks\": \"\"}, \"type\": \"choropleth\"}], \"contour\": [{\"colorbar\": {\"outlinewidth\": 0, \"ticks\": \"\"}, \"colorscale\": [[0.0, \"#0d0887\"], [0.1111111111111111, \"#46039f\"], [0.2222222222222222, \"#7201a8\"], [0.3333333333333333, \"#9c179e\"], [0.4444444444444444, \"#bd3786\"], [0.5555555555555556, \"#d8576b\"], [0.6666666666666666, \"#ed7953\"], [0.7777777777777778, \"#fb9f3a\"], [0.8888888888888888, \"#fdca26\"], [1.0, \"#f0f921\"]], \"type\": \"contour\"}], \"contourcarpet\": [{\"colorbar\": {\"outlinewidth\": 0, \"ticks\": \"\"}, \"type\": \"contourcarpet\"}], \"heatmap\": [{\"colorbar\": {\"outlinewidth\": 0, \"ticks\": \"\"}, \"colorscale\": [[0.0, \"#0d0887\"], [0.1111111111111111, \"#46039f\"], [0.2222222222222222, \"#7201a8\"], [0.3333333333333333, \"#9c179e\"], [0.4444444444444444, \"#bd3786\"], [0.5555555555555556, \"#d8576b\"], [0.6666666666666666, \"#ed7953\"], [0.7777777777777778, \"#fb9f3a\"], [0.8888888888888888, \"#fdca26\"], [1.0, \"#f0f921\"]], \"type\": \"heatmap\"}], \"heatmapgl\": [{\"colorbar\": {\"outlinewidth\": 0, \"ticks\": \"\"}, \"colorscale\": [[0.0, \"#0d0887\"], [0.1111111111111111, \"#46039f\"], [0.2222222222222222, \"#7201a8\"], [0.3333333333333333, \"#9c179e\"], [0.4444444444444444, \"#bd3786\"], [0.5555555555555556, \"#d8576b\"], [0.6666666666666666, \"#ed7953\"], [0.7777777777777778, \"#fb9f3a\"], [0.8888888888888888, \"#fdca26\"], [1.0, \"#f0f921\"]], \"type\": \"heatmapgl\"}], \"histogram\": [{\"marker\": {\"colorbar\": {\"outlinewidth\": 0, \"ticks\": \"\"}}, \"type\": \"histogram\"}], \"histogram2d\": [{\"colorbar\": {\"outlinewidth\": 0, \"ticks\": \"\"}, \"colorscale\": [[0.0, \"#0d0887\"], [0.1111111111111111, \"#46039f\"], [0.2222222222222222, \"#7201a8\"], [0.3333333333333333, \"#9c179e\"], [0.4444444444444444, \"#bd3786\"], [0.5555555555555556, \"#d8576b\"], [0.6666666666666666, \"#ed7953\"], [0.7777777777777778, \"#fb9f3a\"], [0.8888888888888888, \"#fdca26\"], [1.0, \"#f0f921\"]], \"type\": \"histogram2d\"}], \"histogram2dcontour\": [{\"colorbar\": {\"outlinewidth\": 0, \"ticks\": \"\"}, \"colorscale\": [[0.0, \"#0d0887\"], [0.1111111111111111, \"#46039f\"], [0.2222222222222222, \"#7201a8\"], [0.3333333333333333, \"#9c179e\"], [0.4444444444444444, \"#bd3786\"], [0.5555555555555556, \"#d8576b\"], [0.6666666666666666, \"#ed7953\"], [0.7777777777777778, \"#fb9f3a\"], [0.8888888888888888, \"#fdca26\"], [1.0, \"#f0f921\"]], \"type\": \"histogram2dcontour\"}], \"mesh3d\": [{\"colorbar\": {\"outlinewidth\": 0, \"ticks\": \"\"}, \"type\": \"mesh3d\"}], \"parcoords\": [{\"line\": {\"colorbar\": {\"outlinewidth\": 0, \"ticks\": \"\"}}, \"type\": \"parcoords\"}], \"scatter\": [{\"marker\": {\"colorbar\": {\"outlinewidth\": 0, \"ticks\": \"\"}}, \"type\": \"scatter\"}], \"scatter3d\": [{\"line\": {\"colorbar\": {\"outlinewidth\": 0, \"ticks\": \"\"}}, \"marker\": {\"colorbar\": {\"outlinewidth\": 0, \"ticks\": \"\"}}, \"type\": \"scatter3d\"}], \"scattercarpet\": [{\"marker\": {\"colorbar\": {\"outlinewidth\": 0, \"ticks\": \"\"}}, \"type\": \"scattercarpet\"}], \"scattergeo\": [{\"marker\": {\"colorbar\": {\"outlinewidth\": 0, \"ticks\": \"\"}}, \"type\": \"scattergeo\"}], \"scattergl\": [{\"marker\": {\"colorbar\": {\"outlinewidth\": 0, \"ticks\": \"\"}}, \"type\": \"scattergl\"}], \"scattermapbox\": [{\"marker\": {\"colorbar\": {\"outlinewidth\": 0, \"ticks\": \"\"}}, \"type\": \"scattermapbox\"}], \"scatterpolar\": [{\"marker\": {\"colorbar\": {\"outlinewidth\": 0, \"ticks\": \"\"}}, \"type\": \"scatterpolar\"}], \"scatterpolargl\": [{\"marker\": {\"colorbar\": {\"outlinewidth\": 0, \"ticks\": \"\"}}, \"type\": \"scatterpolargl\"}], \"scatterternary\": [{\"marker\": {\"colorbar\": {\"outlinewidth\": 0, \"ticks\": \"\"}}, \"type\": \"scatterternary\"}], \"surface\": [{\"colorbar\": {\"outlinewidth\": 0, \"ticks\": \"\"}, \"colorscale\": [[0.0, \"#0d0887\"], [0.1111111111111111, \"#46039f\"], [0.2222222222222222, \"#7201a8\"], [0.3333333333333333, \"#9c179e\"], [0.4444444444444444, \"#bd3786\"], [0.5555555555555556, \"#d8576b\"], [0.6666666666666666, \"#ed7953\"], [0.7777777777777778, \"#fb9f3a\"], [0.8888888888888888, \"#fdca26\"], [1.0, \"#f0f921\"]], \"type\": \"surface\"}], \"table\": [{\"cells\": {\"fill\": {\"color\": \"#EBF0F8\"}, \"line\": {\"color\": \"white\"}}, \"header\": {\"fill\": {\"color\": \"#C8D4E3\"}, \"line\": {\"color\": \"white\"}}, \"type\": \"table\"}]}, \"layout\": {\"annotationdefaults\": {\"arrowcolor\": \"#2a3f5f\", \"arrowhead\": 0, \"arrowwidth\": 1}, \"colorscale\": {\"diverging\": [[0, \"#8e0152\"], [0.1, \"#c51b7d\"], [0.2, \"#de77ae\"], [0.3, \"#f1b6da\"], [0.4, \"#fde0ef\"], [0.5, \"#f7f7f7\"], [0.6, \"#e6f5d0\"], [0.7, \"#b8e186\"], [0.8, \"#7fbc41\"], [0.9, \"#4d9221\"], [1, \"#276419\"]], \"sequential\": [[0.0, \"#0d0887\"], [0.1111111111111111, \"#46039f\"], [0.2222222222222222, \"#7201a8\"], [0.3333333333333333, \"#9c179e\"], [0.4444444444444444, \"#bd3786\"], [0.5555555555555556, \"#d8576b\"], [0.6666666666666666, \"#ed7953\"], [0.7777777777777778, \"#fb9f3a\"], [0.8888888888888888, \"#fdca26\"], [1.0, \"#f0f921\"]], \"sequentialminus\": [[0.0, \"#0d0887\"], [0.1111111111111111, \"#46039f\"], [0.2222222222222222, \"#7201a8\"], [0.3333333333333333, \"#9c179e\"], [0.4444444444444444, \"#bd3786\"], [0.5555555555555556, \"#d8576b\"], [0.6666666666666666, \"#ed7953\"], [0.7777777777777778, \"#fb9f3a\"], [0.8888888888888888, \"#fdca26\"], [1.0, \"#f0f921\"]]}, \"colorway\": [\"#636efa\", \"#EF553B\", \"#00cc96\", \"#ab63fa\", \"#FFA15A\", \"#19d3f3\", \"#FF6692\", \"#B6E880\", \"#FF97FF\", \"#FECB52\"], \"font\": {\"color\": \"#2a3f5f\"}, \"geo\": {\"bgcolor\": \"white\", \"lakecolor\": \"white\", \"landcolor\": \"#E5ECF6\", \"showlakes\": true, \"showland\": true, \"subunitcolor\": \"white\"}, \"hoverlabel\": {\"align\": \"left\"}, \"hovermode\": \"closest\", \"mapbox\": {\"style\": \"light\"}, \"paper_bgcolor\": \"white\", \"plot_bgcolor\": \"#E5ECF6\", \"polar\": {\"angularaxis\": {\"gridcolor\": \"white\", \"linecolor\": \"white\", \"ticks\": \"\"}, \"bgcolor\": \"#E5ECF6\", \"radialaxis\": {\"gridcolor\": \"white\", \"linecolor\": \"white\", \"ticks\": \"\"}}, \"scene\": {\"xaxis\": {\"backgroundcolor\": \"#E5ECF6\", \"gridcolor\": \"white\", \"gridwidth\": 2, \"linecolor\": \"white\", \"showbackground\": true, \"ticks\": \"\", \"zerolinecolor\": \"white\"}, \"yaxis\": {\"backgroundcolor\": \"#E5ECF6\", \"gridcolor\": \"white\", \"gridwidth\": 2, \"linecolor\": \"white\", \"showbackground\": true, \"ticks\": \"\", \"zerolinecolor\": \"white\"}, \"zaxis\": {\"backgroundcolor\": \"#E5ECF6\", \"gridcolor\": \"white\", \"gridwidth\": 2, \"linecolor\": \"white\", \"showbackground\": true, \"ticks\": \"\", \"zerolinecolor\": \"white\"}}, \"shapedefaults\": {\"line\": {\"color\": \"#2a3f5f\"}}, \"ternary\": {\"aaxis\": {\"gridcolor\": \"white\", \"linecolor\": \"white\", \"ticks\": \"\"}, \"baxis\": {\"gridcolor\": \"white\", \"linecolor\": \"white\", \"ticks\": \"\"}, \"bgcolor\": \"#E5ECF6\", \"caxis\": {\"gridcolor\": \"white\", \"linecolor\": \"white\", \"ticks\": \"\"}}, \"title\": {\"x\": 0.05}, \"xaxis\": {\"automargin\": true, \"gridcolor\": \"white\", \"linecolor\": \"white\", \"ticks\": \"\", \"zerolinecolor\": \"white\", \"zerolinewidth\": 2}, \"yaxis\": {\"automargin\": true, \"gridcolor\": \"white\", \"linecolor\": \"white\", \"ticks\": \"\", \"zerolinecolor\": \"white\", \"zerolinewidth\": 2}}}, \"title\": {\"font\": {\"color\": \"#4D5663\"}, \"text\": \"MAPE: 3.33\"}, \"xaxis\": {\"gridcolor\": \"#E1E5ED\", \"showgrid\": true, \"tickfont\": {\"color\": \"#4D5663\"}, \"title\": {\"font\": {\"color\": \"#4D5663\"}, \"text\": \"\"}, \"zerolinecolor\": \"#E1E5ED\"}, \"yaxis\": {\"gridcolor\": \"#E1E5ED\", \"showgrid\": true, \"tickfont\": {\"color\": \"#4D5663\"}, \"title\": {\"font\": {\"color\": \"#4D5663\"}, \"text\": \"\"}, \"zerolinecolor\": \"#E1E5ED\"}},\n",
       "                        {\"showLink\": true, \"linkText\": \"Export to plot.ly\", \"plotlyServerURL\": \"https://plot.ly\", \"responsive\": true}\n",
       "                    ).then(function(){\n",
       "                            \n",
       "var gd = document.getElementById('4f04539a-d196-4458-8995-394945b65aea');\n",
       "var x = new MutationObserver(function (mutations, observer) {{\n",
       "        var display = window.getComputedStyle(gd).display;\n",
       "        if (!display || display === 'none') {{\n",
       "            console.log([gd, 'removed!']);\n",
       "            Plotly.purge(gd);\n",
       "            observer.disconnect();\n",
       "        }}\n",
       "}});\n",
       "\n",
       "// Listen for the removal of the full notebook cells\n",
       "var notebookContainer = gd.closest('#notebook-container');\n",
       "if (notebookContainer) {{\n",
       "    x.observe(notebookContainer, {childList: true});\n",
       "}}\n",
       "\n",
       "// Listen for the clearing of the current output cell\n",
       "var outputEl = gd.closest('.output');\n",
       "if (outputEl) {{\n",
       "    x.observe(outputEl, {childList: true});\n",
       "}}\n",
       "\n",
       "                        })\n",
       "                };\n",
       "                });\n",
       "            </script>\n",
       "        </div>"
      ]
     },
     "metadata": {},
     "output_type": "display_data"
    }
   ],
   "source": [
    "# Dataset's last week [1] prediction for hyperparameters on [0]\n",
    "ma = pkls['07_04_2021_13_19_55'][1].error.mean()*100\n",
    "pkls['07_04_2021_13_19_55'][1][[\"real\", \"predict\"]].iplot(title = f\"MAPE: {ma:.2f}\")"
   ]
  },
  {
   "cell_type": "code",
   "execution_count": 168,
   "metadata": {
    "ExecuteTime": {
     "end_time": "2021-04-08T01:19:26.812609Z",
     "start_time": "2021-04-08T01:19:26.805626Z"
    }
   },
   "outputs": [],
   "source": [
    "# Join each dir_son sequentially by date. Dir labeled by date.\n",
    "# recives dir of dirs. Returns dir of ordered 52 weeks prediction\n",
    "def join_pickle(pkls):\n",
    "    li_n = {}\n",
    "    for a in pkls.keys():\n",
    "        li_n[a] = pd.DataFrame()\n",
    "        for i in range(1, 53):\n",
    "            li_n[a] = pd.concat([li_n[a], pkls[a][i]], axis = 0)\n",
    "        li_n[a] = li_n[a].sort_index()\n",
    "    return li_n"
   ]
  },
  {
   "cell_type": "code",
   "execution_count": 191,
   "metadata": {
    "ExecuteTime": {
     "end_time": "2021-04-08T01:56:47.383534Z",
     "start_time": "2021-04-08T01:56:47.176456Z"
    }
   },
   "outputs": [],
   "source": [
    "jointed = join_pickle(pkls)"
   ]
  },
  {
   "cell_type": "code",
   "execution_count": 220,
   "metadata": {
    "ExecuteTime": {
     "end_time": "2021-04-08T02:12:44.784407Z",
     "start_time": "2021-04-08T02:12:44.764459Z"
    }
   },
   "outputs": [
    {
     "data": {
      "text/plain": [
       "{'kernel': 'rbf',\n",
       " 'C': 4.228517846555483,\n",
       " 'epsilon': 7.20604168948716,\n",
       " 'mu': 0.7423118951773942,\n",
       " 'lmbda': 1.5186395374328805,\n",
       " 'gamma': 0.00011142604425275418}"
      ]
     },
     "execution_count": 220,
     "metadata": {},
     "output_type": "execute_result"
    }
   ],
   "source": [
    "pkls['07_04_2021_13_19_55'][0]"
   ]
  },
  {
   "cell_type": "code",
   "execution_count": 224,
   "metadata": {
    "ExecuteTime": {
     "end_time": "2021-04-08T02:18:17.033566Z",
     "start_time": "2021-04-08T02:18:17.022628Z"
    }
   },
   "outputs": [
    {
     "data": {
      "text/plain": [
       "2.570841558544486"
      ]
     },
     "execution_count": 224,
     "metadata": {},
     "output_type": "execute_result"
    }
   ],
   "source": []
  },
  {
   "cell_type": "code",
   "execution_count": 226,
   "metadata": {
    "ExecuteTime": {
     "end_time": "2021-04-08T02:18:43.102539Z",
     "start_time": "2021-04-08T02:18:42.568746Z"
    }
   },
   "outputs": [
    {
     "data": {
      "application/vnd.plotly.v1+json": {
       "config": {
        "linkText": "Export to plot.ly",
        "plotlyServerURL": "https://plot.ly",
        "showLink": true
       },
       "data": [
        {
         "line": {
          "color": "rgba(255, 153, 51, 1.0)",
          "dash": "solid",
          "shape": "linear",
          "width": 1.3
         },
         "mode": "lines",
         "name": "real",
         "text": "",
         "type": "scatter",
         "x": [
          "2019-04-02",
          "2019-04-03",
          "2019-04-04",
          "2019-04-05",
          "2019-04-06",
          "2019-04-07",
          "2019-04-08",
          "2019-04-09",
          "2019-04-10",
          "2019-04-11",
          "2019-04-12",
          "2019-04-13",
          "2019-04-14",
          "2019-04-15",
          "2019-04-16",
          "2019-04-17",
          "2019-04-18",
          "2019-04-19",
          "2019-04-20",
          "2019-04-21",
          "2019-04-22",
          "2019-04-23",
          "2019-04-24",
          "2019-04-25",
          "2019-04-26",
          "2019-04-27",
          "2019-04-28",
          "2019-04-29",
          "2019-04-30",
          "2019-05-01",
          "2019-05-02",
          "2019-05-03",
          "2019-05-04",
          "2019-05-05",
          "2019-05-06",
          "2019-05-07",
          "2019-05-08",
          "2019-05-09",
          "2019-05-10",
          "2019-05-11",
          "2019-05-12",
          "2019-05-13",
          "2019-05-14",
          "2019-05-15",
          "2019-05-16",
          "2019-05-17",
          "2019-05-18",
          "2019-05-19",
          "2019-05-20",
          "2019-05-21",
          "2019-05-22",
          "2019-05-23",
          "2019-05-24",
          "2019-05-25",
          "2019-05-26",
          "2019-05-27",
          "2019-05-28",
          "2019-05-29",
          "2019-05-30",
          "2019-05-31",
          "2019-06-01",
          "2019-06-02",
          "2019-06-03",
          "2019-06-04",
          "2019-06-05",
          "2019-06-06",
          "2019-06-07",
          "2019-06-08",
          "2019-06-09",
          "2019-06-10",
          "2019-06-11",
          "2019-06-12",
          "2019-06-13",
          "2019-06-14",
          "2019-06-15",
          "2019-06-16",
          "2019-06-17",
          "2019-06-18",
          "2019-06-19",
          "2019-06-20",
          "2019-06-21",
          "2019-06-22",
          "2019-06-23",
          "2019-06-24",
          "2019-06-25",
          "2019-06-26",
          "2019-06-27",
          "2019-06-28",
          "2019-06-29",
          "2019-06-30",
          "2019-07-01",
          "2019-07-02",
          "2019-07-03",
          "2019-07-04",
          "2019-07-05",
          "2019-07-06",
          "2019-07-07",
          "2019-07-08",
          "2019-07-09",
          "2019-07-10",
          "2019-07-11",
          "2019-07-12",
          "2019-07-13",
          "2019-07-14",
          "2019-07-15",
          "2019-07-16",
          "2019-07-17",
          "2019-07-18",
          "2019-07-19",
          "2019-07-20",
          "2019-07-21",
          "2019-07-22",
          "2019-07-23",
          "2019-07-24",
          "2019-07-25",
          "2019-07-26",
          "2019-07-27",
          "2019-07-28",
          "2019-07-29",
          "2019-07-30",
          "2019-07-31",
          "2019-08-01",
          "2019-08-02",
          "2019-08-03",
          "2019-08-04",
          "2019-08-05",
          "2019-08-06",
          "2019-08-07",
          "2019-08-08",
          "2019-08-09",
          "2019-08-10",
          "2019-08-11",
          "2019-08-12",
          "2019-08-13",
          "2019-08-14",
          "2019-08-15",
          "2019-08-16",
          "2019-08-17",
          "2019-08-18",
          "2019-08-19",
          "2019-08-20",
          "2019-08-21",
          "2019-08-22",
          "2019-08-23",
          "2019-08-24",
          "2019-08-25",
          "2019-08-26",
          "2019-08-27",
          "2019-08-28",
          "2019-08-29",
          "2019-08-30",
          "2019-08-31",
          "2019-09-01",
          "2019-09-02",
          "2019-09-03",
          "2019-09-04",
          "2019-09-05",
          "2019-09-06",
          "2019-09-07",
          "2019-09-08",
          "2019-09-09",
          "2019-09-10",
          "2019-09-11",
          "2019-09-12",
          "2019-09-13",
          "2019-09-14",
          "2019-09-15",
          "2019-09-16",
          "2019-09-17",
          "2019-09-18",
          "2019-09-19",
          "2019-09-20",
          "2019-09-21",
          "2019-09-22",
          "2019-09-23",
          "2019-09-24",
          "2019-09-25",
          "2019-09-26",
          "2019-09-27",
          "2019-09-28",
          "2019-09-29",
          "2019-09-30",
          "2019-10-01",
          "2019-10-02",
          "2019-10-03",
          "2019-10-04",
          "2019-10-05",
          "2019-10-06",
          "2019-10-07",
          "2019-10-08",
          "2019-10-09",
          "2019-10-10",
          "2019-10-11",
          "2019-10-12",
          "2019-10-13",
          "2019-10-14",
          "2019-10-15",
          "2019-10-16",
          "2019-10-17",
          "2019-10-18",
          "2019-10-19",
          "2019-10-20",
          "2019-10-21",
          "2019-10-22",
          "2019-10-23",
          "2019-10-24",
          "2019-10-25",
          "2019-10-26",
          "2019-10-27",
          "2019-10-28",
          "2019-10-29",
          "2019-10-30",
          "2019-10-31",
          "2019-11-01",
          "2019-11-02",
          "2019-11-03",
          "2019-11-04",
          "2019-11-05",
          "2019-11-06",
          "2019-11-07",
          "2019-11-08",
          "2019-11-09",
          "2019-11-10",
          "2019-11-11",
          "2019-11-12",
          "2019-11-13",
          "2019-11-14",
          "2019-11-15",
          "2019-11-16",
          "2019-11-17",
          "2019-11-18",
          "2019-11-19",
          "2019-11-20",
          "2019-11-21",
          "2019-11-22",
          "2019-11-23",
          "2019-11-24",
          "2019-11-25",
          "2019-11-26",
          "2019-11-27",
          "2019-11-28",
          "2019-11-29",
          "2019-11-30",
          "2019-12-01",
          "2019-12-02",
          "2019-12-03",
          "2019-12-04",
          "2019-12-05",
          "2019-12-06",
          "2019-12-07",
          "2019-12-08",
          "2019-12-09",
          "2019-12-10",
          "2019-12-11",
          "2019-12-12",
          "2019-12-13",
          "2019-12-14",
          "2019-12-15",
          "2019-12-16",
          "2019-12-17",
          "2019-12-18",
          "2019-12-19",
          "2019-12-20",
          "2019-12-21",
          "2019-12-22",
          "2019-12-23",
          "2019-12-24",
          "2019-12-25",
          "2019-12-26",
          "2019-12-27",
          "2019-12-28",
          "2019-12-29",
          "2019-12-30",
          "2019-12-31",
          "2020-01-01",
          "2020-01-02",
          "2020-01-03",
          "2020-01-04",
          "2020-01-05",
          "2020-01-06",
          "2020-01-07",
          "2020-01-08",
          "2020-01-09",
          "2020-01-10",
          "2020-01-11",
          "2020-01-12",
          "2020-01-13",
          "2020-01-14",
          "2020-01-15",
          "2020-01-16",
          "2020-01-17",
          "2020-01-18",
          "2020-01-19",
          "2020-01-20",
          "2020-01-21",
          "2020-01-22",
          "2020-01-23",
          "2020-01-24",
          "2020-01-25",
          "2020-01-26",
          "2020-01-27",
          "2020-01-28",
          "2020-01-29",
          "2020-01-30",
          "2020-01-31",
          "2020-02-01",
          "2020-02-02",
          "2020-02-03",
          "2020-02-04",
          "2020-02-05",
          "2020-02-06",
          "2020-02-07",
          "2020-02-08",
          "2020-02-09",
          "2020-02-10",
          "2020-02-11",
          "2020-02-12",
          "2020-02-13",
          "2020-02-14",
          "2020-02-15",
          "2020-02-16",
          "2020-02-17",
          "2020-02-18",
          "2020-02-19",
          "2020-02-20",
          "2020-02-21",
          "2020-02-22",
          "2020-02-23",
          "2020-02-24",
          "2020-02-25",
          "2020-02-26",
          "2020-02-27",
          "2020-02-28",
          "2020-02-29",
          "2020-03-01",
          "2020-03-02",
          "2020-03-03",
          "2020-03-04",
          "2020-03-05",
          "2020-03-06",
          "2020-03-07",
          "2020-03-08",
          "2020-03-09",
          "2020-03-10",
          "2020-03-11",
          "2020-03-12",
          "2020-03-13",
          "2020-03-14",
          "2020-03-15",
          "2020-03-16",
          "2020-03-17",
          "2020-03-18",
          "2020-03-19",
          "2020-03-20",
          "2020-03-21",
          "2020-03-22",
          "2020-03-23",
          "2020-03-24",
          "2020-03-25",
          "2020-03-26",
          "2020-03-27",
          "2020-03-28",
          "2020-03-29",
          "2020-03-30"
         ],
         "y": [
          207122.4405,
          209673.883,
          209630.608,
          211877.7711357422,
          199579.798,
          164382.75672412172,
          198098.91,
          206602.96572962598,
          208861.0498082413,
          209024.609,
          206789.222,
          193673.112,
          169069.223,
          193010,
          200917.15777472832,
          202274.278,
          183225.159,
          153917.929,
          160248.371,
          160343.94,
          198123.603,
          211378.832,
          210246.035,
          209295.313,
          209775.398,
          199141.387,
          175661.977,
          203507.566,
          208979.3018291059,
          186503.626,
          203723.777,
          210553.967,
          199380.424,
          176362.695,
          202461.592,
          210949.84,
          211644.159,
          210037.206,
          201229.201,
          197201.055,
          175505.845,
          204508.96828426616,
          212116.69955164206,
          217260.67556218783,
          216793.73291693113,
          217725.277,
          205663.784,
          181471.309,
          209524.979,
          217588.154,
          218979.919,
          219686,
          219078,
          209627.982,
          183584.0425017895,
          211223.095,
          217109,
          219521.027,
          219614.065,
          216893.743,
          202679.913,
          178435.842,
          203386.629,
          212216.49,
          205231.885,
          205121.9593386317,
          207174.452,
          196992.125,
          173742.691,
          202115.272,
          213172.384,
          214206.228,
          210219.923,
          210647.25,
          201523.644,
          173220.341,
          202818.984,
          213100.805,
          211586.981,
          212255.22249000001,
          211196.276,
          199010.263,
          174216.801,
          201163.077,
          208199.545,
          208392.528,
          201950.252,
          203798.639,
          194927.398,
          169873.006,
          193055.643,
          204108.459,
          202544.88,
          203946.333,
          201122.122,
          192091.125,
          169635.476,
          196427.65843207831,
          206337.9759943712,
          211699.241,
          209984.745,
          208242.32,
          192568.957,
          165796.829,
          190345.883,
          197304.89262820993,
          199931.004,
          201280.607,
          198712.895,
          184998.215,
          160963.419,
          186454.933,
          195796.589,
          197287.062,
          195025.742,
          194694.8,
          184374.574,
          162627.706,
          190961.858,
          199457.618,
          202452.177,
          203162.521,
          202889.594,
          196053.95979999998,
          172637.027,
          199254.661,
          206007.418,
          203394.847,
          201745.792,
          200406.64,
          191741.784,
          167069.288,
          194524.297,
          205047.168,
          208453.668,
          207533.345,
          206737.021,
          196792.662,
          172401.209,
          201514.617,
          208755.806,
          211702.788,
          210033.265,
          201585.253,
          187646.883,
          164951.972,
          188368.346,
          194208.01359781428,
          198116.41,
          197749.753,
          198522.107,
          187984.448,
          163619.952,
          193289.27,
          199188.888,
          204328.085,
          202078.586,
          199325.628,
          187721.683,
          163947.116,
          190909.494,
          198840.569,
          198612.584,
          201182.795,
          199985.169,
          187706.973,
          158599.506,
          151766.345,
          190357.229,
          199330.987,
          197681.325,
          195693.814,
          185969.621,
          164464.339,
          191005,
          198628,
          200546,
          199862,
          197636,
          187436,
          162312,
          180928,
          187697,
          189882,
          190440,
          190613,
          180690,
          159532,
          186287,
          193666,
          197044,
          199651,
          198878,
          184454,
          161012,
          189008,
          199283,
          199886,
          197439,
          194628,
          182012,
          157451,
          179750,
          187454,
          187039,
          189448,
          188045,
          175670,
          159302,
          178933,
          189269,
          192074,
          189060,
          187523,
          173539,
          155669,
          185071,
          194240,
          197386,
          199822,
          198145,
          185040,
          163064,
          189833,
          198013,
          193707,
          191211,
          190685,
          179913,
          155538,
          155473,
          182764,
          194381,
          199227,
          196224,
          185421,
          161952,
          187654,
          196899,
          199330,
          199195,
          197505,
          183926,
          162640,
          188061,
          197610,
          198861,
          198273,
          197910,
          183631,
          162086,
          189322,
          199796,
          197256,
          172912,
          184812,
          180866,
          162353,
          188477,
          197525,
          195950,
          196053,
          193610,
          178419,
          158125,
          167160,
          153466,
          128624,
          159127,
          169847,
          167376,
          152744,
          161393,
          153785,
          129479,
          160216,
          176153,
          170064,
          154375,
          179303,
          190582,
          193961,
          195431,
          193819,
          182426,
          159732,
          187431,
          196814,
          199947,
          199867,
          198781,
          187145,
          164080,
          187257,
          194655,
          196498,
          197180.599,
          194469.072,
          182328.698,
          158767.24745535228,
          184964,
          194913,
          195876,
          195641,
          194707,
          182479,
          157497,
          157350.724,
          180261.8694747058,
          190598.32145057345,
          187284.165,
          188032.952,
          180791.29936200002,
          156802.632,
          185664.461,
          196090.494,
          198069.94,
          196326.3004968575,
          198104.11,
          197219.405,
          165175.5991363423,
          193444.758,
          205066.911,
          207864.01059883178,
          208532.257,
          206646.291,
          195404.65734338292,
          170638.966,
          194946.982,
          207646.143,
          206187.856,
          203216.015,
          203384.3655258246,
          193804.37302020256,
          168483.515,
          195732.045,
          206334.203,
          208013.69892374228,
          209467.73,
          204347.097,
          195523.827,
          168597.855,
          194525.969,
          206944.76298956136,
          209419.85150708232,
          212493.446,
          211848.227,
          198746.1259198897,
          172471.601743114,
          172167.1345528299,
          196979.657,
          209386.045,
          207798.931,
          205937.07269599594,
          197432.10889048717,
          171967.55659909293,
          197526.498129075,
          206724.15,
          207132.60167331056,
          205825.95295446686,
          202961.53843346087,
          192610.26960474052,
          168345.521,
          191108.613
         ]
        },
        {
         "line": {
          "color": "rgba(55, 128, 191, 1.0)",
          "dash": "solid",
          "shape": "linear",
          "width": 1.3
         },
         "mode": "lines",
         "name": "predict",
         "text": "",
         "type": "scatter",
         "x": [
          "2019-04-02",
          "2019-04-03",
          "2019-04-04",
          "2019-04-05",
          "2019-04-06",
          "2019-04-07",
          "2019-04-08",
          "2019-04-09",
          "2019-04-10",
          "2019-04-11",
          "2019-04-12",
          "2019-04-13",
          "2019-04-14",
          "2019-04-15",
          "2019-04-16",
          "2019-04-17",
          "2019-04-18",
          "2019-04-19",
          "2019-04-20",
          "2019-04-21",
          "2019-04-22",
          "2019-04-23",
          "2019-04-24",
          "2019-04-25",
          "2019-04-26",
          "2019-04-27",
          "2019-04-28",
          "2019-04-29",
          "2019-04-30",
          "2019-05-01",
          "2019-05-02",
          "2019-05-03",
          "2019-05-04",
          "2019-05-05",
          "2019-05-06",
          "2019-05-07",
          "2019-05-08",
          "2019-05-09",
          "2019-05-10",
          "2019-05-11",
          "2019-05-12",
          "2019-05-13",
          "2019-05-14",
          "2019-05-15",
          "2019-05-16",
          "2019-05-17",
          "2019-05-18",
          "2019-05-19",
          "2019-05-20",
          "2019-05-21",
          "2019-05-22",
          "2019-05-23",
          "2019-05-24",
          "2019-05-25",
          "2019-05-26",
          "2019-05-27",
          "2019-05-28",
          "2019-05-29",
          "2019-05-30",
          "2019-05-31",
          "2019-06-01",
          "2019-06-02",
          "2019-06-03",
          "2019-06-04",
          "2019-06-05",
          "2019-06-06",
          "2019-06-07",
          "2019-06-08",
          "2019-06-09",
          "2019-06-10",
          "2019-06-11",
          "2019-06-12",
          "2019-06-13",
          "2019-06-14",
          "2019-06-15",
          "2019-06-16",
          "2019-06-17",
          "2019-06-18",
          "2019-06-19",
          "2019-06-20",
          "2019-06-21",
          "2019-06-22",
          "2019-06-23",
          "2019-06-24",
          "2019-06-25",
          "2019-06-26",
          "2019-06-27",
          "2019-06-28",
          "2019-06-29",
          "2019-06-30",
          "2019-07-01",
          "2019-07-02",
          "2019-07-03",
          "2019-07-04",
          "2019-07-05",
          "2019-07-06",
          "2019-07-07",
          "2019-07-08",
          "2019-07-09",
          "2019-07-10",
          "2019-07-11",
          "2019-07-12",
          "2019-07-13",
          "2019-07-14",
          "2019-07-15",
          "2019-07-16",
          "2019-07-17",
          "2019-07-18",
          "2019-07-19",
          "2019-07-20",
          "2019-07-21",
          "2019-07-22",
          "2019-07-23",
          "2019-07-24",
          "2019-07-25",
          "2019-07-26",
          "2019-07-27",
          "2019-07-28",
          "2019-07-29",
          "2019-07-30",
          "2019-07-31",
          "2019-08-01",
          "2019-08-02",
          "2019-08-03",
          "2019-08-04",
          "2019-08-05",
          "2019-08-06",
          "2019-08-07",
          "2019-08-08",
          "2019-08-09",
          "2019-08-10",
          "2019-08-11",
          "2019-08-12",
          "2019-08-13",
          "2019-08-14",
          "2019-08-15",
          "2019-08-16",
          "2019-08-17",
          "2019-08-18",
          "2019-08-19",
          "2019-08-20",
          "2019-08-21",
          "2019-08-22",
          "2019-08-23",
          "2019-08-24",
          "2019-08-25",
          "2019-08-26",
          "2019-08-27",
          "2019-08-28",
          "2019-08-29",
          "2019-08-30",
          "2019-08-31",
          "2019-09-01",
          "2019-09-02",
          "2019-09-03",
          "2019-09-04",
          "2019-09-05",
          "2019-09-06",
          "2019-09-07",
          "2019-09-08",
          "2019-09-09",
          "2019-09-10",
          "2019-09-11",
          "2019-09-12",
          "2019-09-13",
          "2019-09-14",
          "2019-09-15",
          "2019-09-16",
          "2019-09-17",
          "2019-09-18",
          "2019-09-19",
          "2019-09-20",
          "2019-09-21",
          "2019-09-22",
          "2019-09-23",
          "2019-09-24",
          "2019-09-25",
          "2019-09-26",
          "2019-09-27",
          "2019-09-28",
          "2019-09-29",
          "2019-09-30",
          "2019-10-01",
          "2019-10-02",
          "2019-10-03",
          "2019-10-04",
          "2019-10-05",
          "2019-10-06",
          "2019-10-07",
          "2019-10-08",
          "2019-10-09",
          "2019-10-10",
          "2019-10-11",
          "2019-10-12",
          "2019-10-13",
          "2019-10-14",
          "2019-10-15",
          "2019-10-16",
          "2019-10-17",
          "2019-10-18",
          "2019-10-19",
          "2019-10-20",
          "2019-10-21",
          "2019-10-22",
          "2019-10-23",
          "2019-10-24",
          "2019-10-25",
          "2019-10-26",
          "2019-10-27",
          "2019-10-28",
          "2019-10-29",
          "2019-10-30",
          "2019-10-31",
          "2019-11-01",
          "2019-11-02",
          "2019-11-03",
          "2019-11-04",
          "2019-11-05",
          "2019-11-06",
          "2019-11-07",
          "2019-11-08",
          "2019-11-09",
          "2019-11-10",
          "2019-11-11",
          "2019-11-12",
          "2019-11-13",
          "2019-11-14",
          "2019-11-15",
          "2019-11-16",
          "2019-11-17",
          "2019-11-18",
          "2019-11-19",
          "2019-11-20",
          "2019-11-21",
          "2019-11-22",
          "2019-11-23",
          "2019-11-24",
          "2019-11-25",
          "2019-11-26",
          "2019-11-27",
          "2019-11-28",
          "2019-11-29",
          "2019-11-30",
          "2019-12-01",
          "2019-12-02",
          "2019-12-03",
          "2019-12-04",
          "2019-12-05",
          "2019-12-06",
          "2019-12-07",
          "2019-12-08",
          "2019-12-09",
          "2019-12-10",
          "2019-12-11",
          "2019-12-12",
          "2019-12-13",
          "2019-12-14",
          "2019-12-15",
          "2019-12-16",
          "2019-12-17",
          "2019-12-18",
          "2019-12-19",
          "2019-12-20",
          "2019-12-21",
          "2019-12-22",
          "2019-12-23",
          "2019-12-24",
          "2019-12-25",
          "2019-12-26",
          "2019-12-27",
          "2019-12-28",
          "2019-12-29",
          "2019-12-30",
          "2019-12-31",
          "2020-01-01",
          "2020-01-02",
          "2020-01-03",
          "2020-01-04",
          "2020-01-05",
          "2020-01-06",
          "2020-01-07",
          "2020-01-08",
          "2020-01-09",
          "2020-01-10",
          "2020-01-11",
          "2020-01-12",
          "2020-01-13",
          "2020-01-14",
          "2020-01-15",
          "2020-01-16",
          "2020-01-17",
          "2020-01-18",
          "2020-01-19",
          "2020-01-20",
          "2020-01-21",
          "2020-01-22",
          "2020-01-23",
          "2020-01-24",
          "2020-01-25",
          "2020-01-26",
          "2020-01-27",
          "2020-01-28",
          "2020-01-29",
          "2020-01-30",
          "2020-01-31",
          "2020-02-01",
          "2020-02-02",
          "2020-02-03",
          "2020-02-04",
          "2020-02-05",
          "2020-02-06",
          "2020-02-07",
          "2020-02-08",
          "2020-02-09",
          "2020-02-10",
          "2020-02-11",
          "2020-02-12",
          "2020-02-13",
          "2020-02-14",
          "2020-02-15",
          "2020-02-16",
          "2020-02-17",
          "2020-02-18",
          "2020-02-19",
          "2020-02-20",
          "2020-02-21",
          "2020-02-22",
          "2020-02-23",
          "2020-02-24",
          "2020-02-25",
          "2020-02-26",
          "2020-02-27",
          "2020-02-28",
          "2020-02-29",
          "2020-03-01",
          "2020-03-02",
          "2020-03-03",
          "2020-03-04",
          "2020-03-05",
          "2020-03-06",
          "2020-03-07",
          "2020-03-08",
          "2020-03-09",
          "2020-03-10",
          "2020-03-11",
          "2020-03-12",
          "2020-03-13",
          "2020-03-14",
          "2020-03-15",
          "2020-03-16",
          "2020-03-17",
          "2020-03-18",
          "2020-03-19",
          "2020-03-20",
          "2020-03-21",
          "2020-03-22",
          "2020-03-23",
          "2020-03-24",
          "2020-03-25",
          "2020-03-26",
          "2020-03-27",
          "2020-03-28",
          "2020-03-29",
          "2020-03-30"
         ],
         "y": [
          201490.69992504234,
          201828.6691145264,
          201812.8030545111,
          199797.173976431,
          191218.08337417006,
          170892.66263468572,
          195311.386477131,
          202006.34003577047,
          202636.79566448182,
          202939.0974730038,
          201212.26988299596,
          192854.49189126588,
          172526.50428528123,
          197468.4335609588,
          202887.75591501917,
          196867.29865023564,
          179116.73930240682,
          159907.89654101754,
          166973.1421664857,
          160377.0241858082,
          196492.28620101287,
          206061.04176380264,
          207619.75272534532,
          207928.83940323934,
          206112.8127634493,
          197605.156780385,
          177012.75122189327,
          203231.25622607738,
          209689.68790033535,
          189610.67801574036,
          208407.0436348383,
          206421.04209732063,
          197883.07617826512,
          177349.13088188862,
          203247.2710387405,
          209517.7011779526,
          210221.02515981576,
          210371.59387571804,
          208428.8000586308,
          200247.99601564003,
          179822.80756496653,
          205919.92989662715,
          212151.5952706765,
          212869.0447204352,
          213288.6807777736,
          211756.47297915455,
          203553.6772099742,
          183108.45843322226,
          209199.3896667852,
          215386.41585722033,
          215974.75233517098,
          215981.51813068194,
          213819.89950214018,
          204884.38171726227,
          183704.42882387099,
          209659.6800278671,
          215704.72645869764,
          216043.25168093096,
          215609.43950766601,
          213005.6616674677,
          201461.76375071934,
          180115.04946298993,
          205770.18139656418,
          211119.3221973836,
          211501.01098636902,
          210953.32357268868,
          208532.6968006292,
          199459.6821514202,
          178127.0871144316,
          202829.2235446074,
          207951.71380226538,
          208060.02476841665,
          207309.22025725062,
          204627.7975862973,
          195444.0052257073,
          174135.39997115242,
          197739.34248370474,
          203095.3723010752,
          202967.44802020752,
          202074.9349249929,
          199456.39388994494,
          190319.29533118915,
          169212.49482648046,
          191499.07991362218,
          197153.93193603778,
          197652.30655496335,
          197369.7390382764,
          195448.09612670416,
          186940.06677115988,
          166609.77125438844,
          184830.79320608272,
          191190.13406693333,
          191851.51425875828,
          192040.64257335267,
          190470.80355167825,
          182066.80880263867,
          161862.01052681598,
          185252.85900576488,
          192064.43816140696,
          192590.8780990758,
          192598.6615015735,
          190987.07369204029,
          182408.95717668312,
          162256.42596609323,
          185954.5628868364,
          192507.10504368975,
          192757.8409130712,
          192371.76636363618,
          190582.24799513258,
          181766.71477536342,
          161424.3058124388,
          184965.9311169739,
          191321.7871263339,
          191639.48068272654,
          191249.159552628,
          189616.96790759437,
          180898.1170930909,
          160579.97916295106,
          184127.44626972845,
          190488.4915566903,
          190968.08339884898,
          196264.30919568104,
          194785.59144658534,
          186306.46296369733,
          166091.46332699186,
          189137.54279159365,
          195728.35772544376,
          196304.66293984253,
          196182.6476487277,
          194847.48855580276,
          186530.72609727326,
          166515.5583527863,
          189685.36504363143,
          196586.93255765023,
          197267.57348156016,
          197119.95093139497,
          195929.2352577953,
          187681.0633671814,
          167476.758939361,
          190671.16035103283,
          197171.14586203615,
          197764.07683051578,
          197491.97656037463,
          196151.2558199665,
          188049.1897445672,
          168066.8373834192,
          191337.22190315175,
          197815.99681345222,
          198818.06177137815,
          198823.7341792545,
          197740.65305593383,
          189554.15754440558,
          164543.93386705485,
          187630.34945260675,
          193868.10065709957,
          194703.45604350985,
          194643.88966905273,
          193414.84794265954,
          185245.97234916966,
          165494.53361460875,
          188806.0451935294,
          195538.0291262728,
          196363.45617861132,
          196230.57456825793,
          194890.2936882454,
          183672.39192220502,
          155140.81640761078,
          161237.7115831418,
          184431.6444705118,
          193777.74257149946,
          196544.23024075164,
          195373.60959915904,
          186972.23635102174,
          166975.63328129056,
          189992.37640840845,
          196073.44507180984,
          196862.55681270652,
          196759.65672473682,
          195252.30624583145,
          186610.42729138563,
          166498.183863698,
          188994.88532373545,
          193244.84340663376,
          194037.4675891422,
          193791.38909463162,
          192458.1750603369,
          184172.21968577683,
          164288.0674812376,
          186827.7417430169,
          192478.27440893085,
          193361.26971348288,
          192755.00471694203,
          190166.60562270912,
          179273.45674803393,
          162274.09294532242,
          186106.87697675725,
          192778.7132225965,
          193756.1334848598,
          193526.7423219815,
          192151.21302595476,
          183815.10493355876,
          164032.95188395257,
          185886.57021207045,
          191873.3380590993,
          193231.42271861076,
          193593.0958730107,
          192702.2596803798,
          184804.67553292337,
          165384.14030372025,
          188051.52875669772,
          194259.07749490626,
          195684.15232639224,
          195560.17039480445,
          195827.3674154659,
          187209.53534623777,
          167477.84614940087,
          189999.56776316575,
          195804.29364463588,
          196493.52844513915,
          195881.59368070276,
          194172.52219214116,
          185242.90237509634,
          165339.18904826054,
          186848.21789392337,
          192660.8999717183,
          193362.73071445973,
          193061.78601445112,
          192130.41999228124,
          182794.38970874922,
          160063.26555968827,
          174607.35432115398,
          187553.19651021107,
          192374.4588131668,
          193589.42172012464,
          192327.4066735431,
          183615.78023240983,
          164098.6058804257,
          185442.07006143223,
          191576.74371665006,
          192291.12326477308,
          191922.54343228848,
          190489.48651335225,
          181871.92514775204,
          164773.0437588292,
          185959.29162036147,
          192021.77999527447,
          192678.80095845653,
          192415.18611449876,
          190924.97188275532,
          182275.63973460623,
          163110.82485647246,
          185001.9487973608,
          190273.37452315193,
          187100.56833794265,
          178393.77843397507,
          185136.8221418941,
          180433.675112865,
          162325.13278895314,
          183863.5461253491,
          189886.72158959322,
          190453.6107317884,
          190021.5531293413,
          188401.23548420522,
          179800.46551827915,
          160899.34061795578,
          176644.104129669,
          165704.7575866998,
          133754.96719510615,
          166465.53248683122,
          181485.10462038597,
          178673.95101092654,
          159803.13905617243,
          172854.70863188637,
          158045.35629327255,
          143688.36629518657,
          164734.6257445387,
          174323.95513397898,
          169629.37409014636,
          150969.87507957095,
          173321.0640468714,
          182391.71675736844,
          187744.3569500199,
          191980.98718283823,
          190382.93568989256,
          181737.9220750828,
          162075.86039100733,
          184134.84439382996,
          191000.1219959327,
          192020.85425786677,
          191988.0934033306,
          190908.87051950252,
          182629.92534987288,
          163229.33633696096,
          186041.7969206835,
          193365.36473740864,
          194466.92820768486,
          194141.5732291059,
          192674.4022278918,
          184108.2567581252,
          164297.56772080457,
          187111.56743971445,
          193914.3270705076,
          195045.41215211796,
          195063.00643594307,
          194165.42503965116,
          183029.43019491635,
          159024.6023128263,
          168019.34562424442,
          186606.3275304933,
          193971.0676881346,
          196208.1815298914,
          195205.23159761252,
          186834.5779576819,
          166067.00459329307,
          191583.72746998156,
          198458.43177538368,
          199856.8878523881,
          200096.69261740302,
          198999.77163250616,
          190134.24214016137,
          169809.61220691598,
          194255.90803489846,
          200444.78208762628,
          201162.98816907287,
          200758.5055353413,
          199260.60233321224,
          190402.5851701399,
          170029.77285550465,
          194750.69856999995,
          201685.76116651404,
          202672.49649531682,
          202414.9103114401,
          201099.01952734494,
          192297.66865385696,
          173096.53631269702,
          198132.3899265329,
          204694.11727029659,
          205976.3463592182,
          205900.03610474075,
          204746.37665318538,
          196119.99344865253,
          175165.35851821292,
          200575.70722424053,
          206935.90309468785,
          207973.1765389189,
          207609.38250316965,
          206123.68735090454,
          197250.6110907382,
          172516.59059643876,
          180894.89653742212,
          208218.78736227466,
          209349.00135583093,
          209020.85773916726,
          207526.46903783493,
          198645.1364226164,
          177495.89049192393,
          203212.31672016735,
          209190.5397022616,
          210265.6936629319,
          209832.1027464551,
          208322.876600814,
          199353.31388795443,
          178132.14494162335,
          203959.484879857
         ]
        }
       ],
       "layout": {
        "legend": {
         "bgcolor": "#F5F6F9",
         "font": {
          "color": "#4D5663"
         }
        },
        "paper_bgcolor": "#F5F6F9",
        "plot_bgcolor": "#F5F6F9",
        "template": {
         "data": {
          "bar": [
           {
            "error_x": {
             "color": "#2a3f5f"
            },
            "error_y": {
             "color": "#2a3f5f"
            },
            "marker": {
             "line": {
              "color": "#E5ECF6",
              "width": 0.5
             }
            },
            "type": "bar"
           }
          ],
          "barpolar": [
           {
            "marker": {
             "line": {
              "color": "#E5ECF6",
              "width": 0.5
             }
            },
            "type": "barpolar"
           }
          ],
          "carpet": [
           {
            "aaxis": {
             "endlinecolor": "#2a3f5f",
             "gridcolor": "white",
             "linecolor": "white",
             "minorgridcolor": "white",
             "startlinecolor": "#2a3f5f"
            },
            "baxis": {
             "endlinecolor": "#2a3f5f",
             "gridcolor": "white",
             "linecolor": "white",
             "minorgridcolor": "white",
             "startlinecolor": "#2a3f5f"
            },
            "type": "carpet"
           }
          ],
          "choropleth": [
           {
            "colorbar": {
             "outlinewidth": 0,
             "ticks": ""
            },
            "type": "choropleth"
           }
          ],
          "contour": [
           {
            "colorbar": {
             "outlinewidth": 0,
             "ticks": ""
            },
            "colorscale": [
             [
              0,
              "#0d0887"
             ],
             [
              0.1111111111111111,
              "#46039f"
             ],
             [
              0.2222222222222222,
              "#7201a8"
             ],
             [
              0.3333333333333333,
              "#9c179e"
             ],
             [
              0.4444444444444444,
              "#bd3786"
             ],
             [
              0.5555555555555556,
              "#d8576b"
             ],
             [
              0.6666666666666666,
              "#ed7953"
             ],
             [
              0.7777777777777778,
              "#fb9f3a"
             ],
             [
              0.8888888888888888,
              "#fdca26"
             ],
             [
              1,
              "#f0f921"
             ]
            ],
            "type": "contour"
           }
          ],
          "contourcarpet": [
           {
            "colorbar": {
             "outlinewidth": 0,
             "ticks": ""
            },
            "type": "contourcarpet"
           }
          ],
          "heatmap": [
           {
            "colorbar": {
             "outlinewidth": 0,
             "ticks": ""
            },
            "colorscale": [
             [
              0,
              "#0d0887"
             ],
             [
              0.1111111111111111,
              "#46039f"
             ],
             [
              0.2222222222222222,
              "#7201a8"
             ],
             [
              0.3333333333333333,
              "#9c179e"
             ],
             [
              0.4444444444444444,
              "#bd3786"
             ],
             [
              0.5555555555555556,
              "#d8576b"
             ],
             [
              0.6666666666666666,
              "#ed7953"
             ],
             [
              0.7777777777777778,
              "#fb9f3a"
             ],
             [
              0.8888888888888888,
              "#fdca26"
             ],
             [
              1,
              "#f0f921"
             ]
            ],
            "type": "heatmap"
           }
          ],
          "heatmapgl": [
           {
            "colorbar": {
             "outlinewidth": 0,
             "ticks": ""
            },
            "colorscale": [
             [
              0,
              "#0d0887"
             ],
             [
              0.1111111111111111,
              "#46039f"
             ],
             [
              0.2222222222222222,
              "#7201a8"
             ],
             [
              0.3333333333333333,
              "#9c179e"
             ],
             [
              0.4444444444444444,
              "#bd3786"
             ],
             [
              0.5555555555555556,
              "#d8576b"
             ],
             [
              0.6666666666666666,
              "#ed7953"
             ],
             [
              0.7777777777777778,
              "#fb9f3a"
             ],
             [
              0.8888888888888888,
              "#fdca26"
             ],
             [
              1,
              "#f0f921"
             ]
            ],
            "type": "heatmapgl"
           }
          ],
          "histogram": [
           {
            "marker": {
             "colorbar": {
              "outlinewidth": 0,
              "ticks": ""
             }
            },
            "type": "histogram"
           }
          ],
          "histogram2d": [
           {
            "colorbar": {
             "outlinewidth": 0,
             "ticks": ""
            },
            "colorscale": [
             [
              0,
              "#0d0887"
             ],
             [
              0.1111111111111111,
              "#46039f"
             ],
             [
              0.2222222222222222,
              "#7201a8"
             ],
             [
              0.3333333333333333,
              "#9c179e"
             ],
             [
              0.4444444444444444,
              "#bd3786"
             ],
             [
              0.5555555555555556,
              "#d8576b"
             ],
             [
              0.6666666666666666,
              "#ed7953"
             ],
             [
              0.7777777777777778,
              "#fb9f3a"
             ],
             [
              0.8888888888888888,
              "#fdca26"
             ],
             [
              1,
              "#f0f921"
             ]
            ],
            "type": "histogram2d"
           }
          ],
          "histogram2dcontour": [
           {
            "colorbar": {
             "outlinewidth": 0,
             "ticks": ""
            },
            "colorscale": [
             [
              0,
              "#0d0887"
             ],
             [
              0.1111111111111111,
              "#46039f"
             ],
             [
              0.2222222222222222,
              "#7201a8"
             ],
             [
              0.3333333333333333,
              "#9c179e"
             ],
             [
              0.4444444444444444,
              "#bd3786"
             ],
             [
              0.5555555555555556,
              "#d8576b"
             ],
             [
              0.6666666666666666,
              "#ed7953"
             ],
             [
              0.7777777777777778,
              "#fb9f3a"
             ],
             [
              0.8888888888888888,
              "#fdca26"
             ],
             [
              1,
              "#f0f921"
             ]
            ],
            "type": "histogram2dcontour"
           }
          ],
          "mesh3d": [
           {
            "colorbar": {
             "outlinewidth": 0,
             "ticks": ""
            },
            "type": "mesh3d"
           }
          ],
          "parcoords": [
           {
            "line": {
             "colorbar": {
              "outlinewidth": 0,
              "ticks": ""
             }
            },
            "type": "parcoords"
           }
          ],
          "scatter": [
           {
            "marker": {
             "colorbar": {
              "outlinewidth": 0,
              "ticks": ""
             }
            },
            "type": "scatter"
           }
          ],
          "scatter3d": [
           {
            "line": {
             "colorbar": {
              "outlinewidth": 0,
              "ticks": ""
             }
            },
            "marker": {
             "colorbar": {
              "outlinewidth": 0,
              "ticks": ""
             }
            },
            "type": "scatter3d"
           }
          ],
          "scattercarpet": [
           {
            "marker": {
             "colorbar": {
              "outlinewidth": 0,
              "ticks": ""
             }
            },
            "type": "scattercarpet"
           }
          ],
          "scattergeo": [
           {
            "marker": {
             "colorbar": {
              "outlinewidth": 0,
              "ticks": ""
             }
            },
            "type": "scattergeo"
           }
          ],
          "scattergl": [
           {
            "marker": {
             "colorbar": {
              "outlinewidth": 0,
              "ticks": ""
             }
            },
            "type": "scattergl"
           }
          ],
          "scattermapbox": [
           {
            "marker": {
             "colorbar": {
              "outlinewidth": 0,
              "ticks": ""
             }
            },
            "type": "scattermapbox"
           }
          ],
          "scatterpolar": [
           {
            "marker": {
             "colorbar": {
              "outlinewidth": 0,
              "ticks": ""
             }
            },
            "type": "scatterpolar"
           }
          ],
          "scatterpolargl": [
           {
            "marker": {
             "colorbar": {
              "outlinewidth": 0,
              "ticks": ""
             }
            },
            "type": "scatterpolargl"
           }
          ],
          "scatterternary": [
           {
            "marker": {
             "colorbar": {
              "outlinewidth": 0,
              "ticks": ""
             }
            },
            "type": "scatterternary"
           }
          ],
          "surface": [
           {
            "colorbar": {
             "outlinewidth": 0,
             "ticks": ""
            },
            "colorscale": [
             [
              0,
              "#0d0887"
             ],
             [
              0.1111111111111111,
              "#46039f"
             ],
             [
              0.2222222222222222,
              "#7201a8"
             ],
             [
              0.3333333333333333,
              "#9c179e"
             ],
             [
              0.4444444444444444,
              "#bd3786"
             ],
             [
              0.5555555555555556,
              "#d8576b"
             ],
             [
              0.6666666666666666,
              "#ed7953"
             ],
             [
              0.7777777777777778,
              "#fb9f3a"
             ],
             [
              0.8888888888888888,
              "#fdca26"
             ],
             [
              1,
              "#f0f921"
             ]
            ],
            "type": "surface"
           }
          ],
          "table": [
           {
            "cells": {
             "fill": {
              "color": "#EBF0F8"
             },
             "line": {
              "color": "white"
             }
            },
            "header": {
             "fill": {
              "color": "#C8D4E3"
             },
             "line": {
              "color": "white"
             }
            },
            "type": "table"
           }
          ]
         },
         "layout": {
          "annotationdefaults": {
           "arrowcolor": "#2a3f5f",
           "arrowhead": 0,
           "arrowwidth": 1
          },
          "colorscale": {
           "diverging": [
            [
             0,
             "#8e0152"
            ],
            [
             0.1,
             "#c51b7d"
            ],
            [
             0.2,
             "#de77ae"
            ],
            [
             0.3,
             "#f1b6da"
            ],
            [
             0.4,
             "#fde0ef"
            ],
            [
             0.5,
             "#f7f7f7"
            ],
            [
             0.6,
             "#e6f5d0"
            ],
            [
             0.7,
             "#b8e186"
            ],
            [
             0.8,
             "#7fbc41"
            ],
            [
             0.9,
             "#4d9221"
            ],
            [
             1,
             "#276419"
            ]
           ],
           "sequential": [
            [
             0,
             "#0d0887"
            ],
            [
             0.1111111111111111,
             "#46039f"
            ],
            [
             0.2222222222222222,
             "#7201a8"
            ],
            [
             0.3333333333333333,
             "#9c179e"
            ],
            [
             0.4444444444444444,
             "#bd3786"
            ],
            [
             0.5555555555555556,
             "#d8576b"
            ],
            [
             0.6666666666666666,
             "#ed7953"
            ],
            [
             0.7777777777777778,
             "#fb9f3a"
            ],
            [
             0.8888888888888888,
             "#fdca26"
            ],
            [
             1,
             "#f0f921"
            ]
           ],
           "sequentialminus": [
            [
             0,
             "#0d0887"
            ],
            [
             0.1111111111111111,
             "#46039f"
            ],
            [
             0.2222222222222222,
             "#7201a8"
            ],
            [
             0.3333333333333333,
             "#9c179e"
            ],
            [
             0.4444444444444444,
             "#bd3786"
            ],
            [
             0.5555555555555556,
             "#d8576b"
            ],
            [
             0.6666666666666666,
             "#ed7953"
            ],
            [
             0.7777777777777778,
             "#fb9f3a"
            ],
            [
             0.8888888888888888,
             "#fdca26"
            ],
            [
             1,
             "#f0f921"
            ]
           ]
          },
          "colorway": [
           "#636efa",
           "#EF553B",
           "#00cc96",
           "#ab63fa",
           "#FFA15A",
           "#19d3f3",
           "#FF6692",
           "#B6E880",
           "#FF97FF",
           "#FECB52"
          ],
          "font": {
           "color": "#2a3f5f"
          },
          "geo": {
           "bgcolor": "white",
           "lakecolor": "white",
           "landcolor": "#E5ECF6",
           "showlakes": true,
           "showland": true,
           "subunitcolor": "white"
          },
          "hoverlabel": {
           "align": "left"
          },
          "hovermode": "closest",
          "mapbox": {
           "style": "light"
          },
          "paper_bgcolor": "white",
          "plot_bgcolor": "#E5ECF6",
          "polar": {
           "angularaxis": {
            "gridcolor": "white",
            "linecolor": "white",
            "ticks": ""
           },
           "bgcolor": "#E5ECF6",
           "radialaxis": {
            "gridcolor": "white",
            "linecolor": "white",
            "ticks": ""
           }
          },
          "scene": {
           "xaxis": {
            "backgroundcolor": "#E5ECF6",
            "gridcolor": "white",
            "gridwidth": 2,
            "linecolor": "white",
            "showbackground": true,
            "ticks": "",
            "zerolinecolor": "white"
           },
           "yaxis": {
            "backgroundcolor": "#E5ECF6",
            "gridcolor": "white",
            "gridwidth": 2,
            "linecolor": "white",
            "showbackground": true,
            "ticks": "",
            "zerolinecolor": "white"
           },
           "zaxis": {
            "backgroundcolor": "#E5ECF6",
            "gridcolor": "white",
            "gridwidth": 2,
            "linecolor": "white",
            "showbackground": true,
            "ticks": "",
            "zerolinecolor": "white"
           }
          },
          "shapedefaults": {
           "line": {
            "color": "#2a3f5f"
           }
          },
          "ternary": {
           "aaxis": {
            "gridcolor": "white",
            "linecolor": "white",
            "ticks": ""
           },
           "baxis": {
            "gridcolor": "white",
            "linecolor": "white",
            "ticks": ""
           },
           "bgcolor": "#E5ECF6",
           "caxis": {
            "gridcolor": "white",
            "linecolor": "white",
            "ticks": ""
           }
          },
          "title": {
           "x": 0.05
          },
          "xaxis": {
           "automargin": true,
           "gridcolor": "white",
           "linecolor": "white",
           "ticks": "",
           "zerolinecolor": "white",
           "zerolinewidth": 2
          },
          "yaxis": {
           "automargin": true,
           "gridcolor": "white",
           "linecolor": "white",
           "ticks": "",
           "zerolinecolor": "white",
           "zerolinewidth": 2
          }
         }
        },
        "title": {
         "font": {
          "color": "#4D5663"
         },
         "text": "MAPE: 2.57"
        },
        "xaxis": {
         "gridcolor": "#E1E5ED",
         "showgrid": true,
         "tickfont": {
          "color": "#4D5663"
         },
         "title": {
          "font": {
           "color": "#4D5663"
          },
          "text": ""
         },
         "zerolinecolor": "#E1E5ED"
        },
        "yaxis": {
         "gridcolor": "#E1E5ED",
         "showgrid": true,
         "tickfont": {
          "color": "#4D5663"
         },
         "title": {
          "font": {
           "color": "#4D5663"
          },
          "text": ""
         },
         "zerolinecolor": "#E1E5ED"
        }
       }
      },
      "text/html": [
       "<div>\n",
       "        \n",
       "        \n",
       "            <div id=\"766481ac-ddd0-4618-a645-039e58c2acd3\" class=\"plotly-graph-div\" style=\"height:525px; width:100%;\"></div>\n",
       "            <script type=\"text/javascript\">\n",
       "                require([\"plotly\"], function(Plotly) {\n",
       "                    window.PLOTLYENV=window.PLOTLYENV || {};\n",
       "                    window.PLOTLYENV.BASE_URL='https://plot.ly';\n",
       "                    \n",
       "                if (document.getElementById(\"766481ac-ddd0-4618-a645-039e58c2acd3\")) {\n",
       "                    Plotly.newPlot(\n",
       "                        '766481ac-ddd0-4618-a645-039e58c2acd3',\n",
       "                        [{\"line\": {\"color\": \"rgba(255, 153, 51, 1.0)\", \"dash\": \"solid\", \"shape\": \"linear\", \"width\": 1.3}, \"mode\": \"lines\", \"name\": \"real\", \"text\": \"\", \"type\": \"scatter\", \"x\": [\"2019-04-02\", \"2019-04-03\", \"2019-04-04\", \"2019-04-05\", \"2019-04-06\", \"2019-04-07\", \"2019-04-08\", \"2019-04-09\", \"2019-04-10\", \"2019-04-11\", \"2019-04-12\", \"2019-04-13\", \"2019-04-14\", \"2019-04-15\", \"2019-04-16\", \"2019-04-17\", \"2019-04-18\", \"2019-04-19\", \"2019-04-20\", \"2019-04-21\", \"2019-04-22\", \"2019-04-23\", \"2019-04-24\", \"2019-04-25\", \"2019-04-26\", \"2019-04-27\", \"2019-04-28\", \"2019-04-29\", \"2019-04-30\", \"2019-05-01\", \"2019-05-02\", \"2019-05-03\", \"2019-05-04\", \"2019-05-05\", \"2019-05-06\", \"2019-05-07\", \"2019-05-08\", \"2019-05-09\", \"2019-05-10\", \"2019-05-11\", \"2019-05-12\", \"2019-05-13\", \"2019-05-14\", \"2019-05-15\", \"2019-05-16\", \"2019-05-17\", \"2019-05-18\", \"2019-05-19\", \"2019-05-20\", \"2019-05-21\", \"2019-05-22\", \"2019-05-23\", \"2019-05-24\", \"2019-05-25\", \"2019-05-26\", \"2019-05-27\", \"2019-05-28\", \"2019-05-29\", \"2019-05-30\", \"2019-05-31\", \"2019-06-01\", \"2019-06-02\", \"2019-06-03\", \"2019-06-04\", \"2019-06-05\", \"2019-06-06\", \"2019-06-07\", \"2019-06-08\", \"2019-06-09\", \"2019-06-10\", \"2019-06-11\", \"2019-06-12\", \"2019-06-13\", \"2019-06-14\", \"2019-06-15\", \"2019-06-16\", \"2019-06-17\", \"2019-06-18\", \"2019-06-19\", \"2019-06-20\", \"2019-06-21\", \"2019-06-22\", \"2019-06-23\", \"2019-06-24\", \"2019-06-25\", \"2019-06-26\", \"2019-06-27\", \"2019-06-28\", \"2019-06-29\", \"2019-06-30\", \"2019-07-01\", \"2019-07-02\", \"2019-07-03\", \"2019-07-04\", \"2019-07-05\", \"2019-07-06\", \"2019-07-07\", \"2019-07-08\", \"2019-07-09\", \"2019-07-10\", \"2019-07-11\", \"2019-07-12\", \"2019-07-13\", \"2019-07-14\", \"2019-07-15\", \"2019-07-16\", \"2019-07-17\", \"2019-07-18\", \"2019-07-19\", \"2019-07-20\", \"2019-07-21\", \"2019-07-22\", \"2019-07-23\", \"2019-07-24\", \"2019-07-25\", \"2019-07-26\", \"2019-07-27\", \"2019-07-28\", \"2019-07-29\", \"2019-07-30\", \"2019-07-31\", \"2019-08-01\", \"2019-08-02\", \"2019-08-03\", \"2019-08-04\", \"2019-08-05\", \"2019-08-06\", \"2019-08-07\", \"2019-08-08\", \"2019-08-09\", \"2019-08-10\", \"2019-08-11\", \"2019-08-12\", \"2019-08-13\", \"2019-08-14\", \"2019-08-15\", \"2019-08-16\", \"2019-08-17\", \"2019-08-18\", \"2019-08-19\", \"2019-08-20\", \"2019-08-21\", \"2019-08-22\", \"2019-08-23\", \"2019-08-24\", \"2019-08-25\", \"2019-08-26\", \"2019-08-27\", \"2019-08-28\", \"2019-08-29\", \"2019-08-30\", \"2019-08-31\", \"2019-09-01\", \"2019-09-02\", \"2019-09-03\", \"2019-09-04\", \"2019-09-05\", \"2019-09-06\", \"2019-09-07\", \"2019-09-08\", \"2019-09-09\", \"2019-09-10\", \"2019-09-11\", \"2019-09-12\", \"2019-09-13\", \"2019-09-14\", \"2019-09-15\", \"2019-09-16\", \"2019-09-17\", \"2019-09-18\", \"2019-09-19\", \"2019-09-20\", \"2019-09-21\", \"2019-09-22\", \"2019-09-23\", \"2019-09-24\", \"2019-09-25\", \"2019-09-26\", \"2019-09-27\", \"2019-09-28\", \"2019-09-29\", \"2019-09-30\", \"2019-10-01\", \"2019-10-02\", \"2019-10-03\", \"2019-10-04\", \"2019-10-05\", \"2019-10-06\", \"2019-10-07\", \"2019-10-08\", \"2019-10-09\", \"2019-10-10\", \"2019-10-11\", \"2019-10-12\", \"2019-10-13\", \"2019-10-14\", \"2019-10-15\", \"2019-10-16\", \"2019-10-17\", \"2019-10-18\", \"2019-10-19\", \"2019-10-20\", \"2019-10-21\", \"2019-10-22\", \"2019-10-23\", \"2019-10-24\", \"2019-10-25\", \"2019-10-26\", \"2019-10-27\", \"2019-10-28\", \"2019-10-29\", \"2019-10-30\", \"2019-10-31\", \"2019-11-01\", \"2019-11-02\", \"2019-11-03\", \"2019-11-04\", \"2019-11-05\", \"2019-11-06\", \"2019-11-07\", \"2019-11-08\", \"2019-11-09\", \"2019-11-10\", \"2019-11-11\", \"2019-11-12\", \"2019-11-13\", \"2019-11-14\", \"2019-11-15\", \"2019-11-16\", \"2019-11-17\", \"2019-11-18\", \"2019-11-19\", \"2019-11-20\", \"2019-11-21\", \"2019-11-22\", \"2019-11-23\", \"2019-11-24\", \"2019-11-25\", \"2019-11-26\", \"2019-11-27\", \"2019-11-28\", \"2019-11-29\", \"2019-11-30\", \"2019-12-01\", \"2019-12-02\", \"2019-12-03\", \"2019-12-04\", \"2019-12-05\", \"2019-12-06\", \"2019-12-07\", \"2019-12-08\", \"2019-12-09\", \"2019-12-10\", \"2019-12-11\", \"2019-12-12\", \"2019-12-13\", \"2019-12-14\", \"2019-12-15\", \"2019-12-16\", \"2019-12-17\", \"2019-12-18\", \"2019-12-19\", \"2019-12-20\", \"2019-12-21\", \"2019-12-22\", \"2019-12-23\", \"2019-12-24\", \"2019-12-25\", \"2019-12-26\", \"2019-12-27\", \"2019-12-28\", \"2019-12-29\", \"2019-12-30\", \"2019-12-31\", \"2020-01-01\", \"2020-01-02\", \"2020-01-03\", \"2020-01-04\", \"2020-01-05\", \"2020-01-06\", \"2020-01-07\", \"2020-01-08\", \"2020-01-09\", \"2020-01-10\", \"2020-01-11\", \"2020-01-12\", \"2020-01-13\", \"2020-01-14\", \"2020-01-15\", \"2020-01-16\", \"2020-01-17\", \"2020-01-18\", \"2020-01-19\", \"2020-01-20\", \"2020-01-21\", \"2020-01-22\", \"2020-01-23\", \"2020-01-24\", \"2020-01-25\", \"2020-01-26\", \"2020-01-27\", \"2020-01-28\", \"2020-01-29\", \"2020-01-30\", \"2020-01-31\", \"2020-02-01\", \"2020-02-02\", \"2020-02-03\", \"2020-02-04\", \"2020-02-05\", \"2020-02-06\", \"2020-02-07\", \"2020-02-08\", \"2020-02-09\", \"2020-02-10\", \"2020-02-11\", \"2020-02-12\", \"2020-02-13\", \"2020-02-14\", \"2020-02-15\", \"2020-02-16\", \"2020-02-17\", \"2020-02-18\", \"2020-02-19\", \"2020-02-20\", \"2020-02-21\", \"2020-02-22\", \"2020-02-23\", \"2020-02-24\", \"2020-02-25\", \"2020-02-26\", \"2020-02-27\", \"2020-02-28\", \"2020-02-29\", \"2020-03-01\", \"2020-03-02\", \"2020-03-03\", \"2020-03-04\", \"2020-03-05\", \"2020-03-06\", \"2020-03-07\", \"2020-03-08\", \"2020-03-09\", \"2020-03-10\", \"2020-03-11\", \"2020-03-12\", \"2020-03-13\", \"2020-03-14\", \"2020-03-15\", \"2020-03-16\", \"2020-03-17\", \"2020-03-18\", \"2020-03-19\", \"2020-03-20\", \"2020-03-21\", \"2020-03-22\", \"2020-03-23\", \"2020-03-24\", \"2020-03-25\", \"2020-03-26\", \"2020-03-27\", \"2020-03-28\", \"2020-03-29\", \"2020-03-30\"], \"y\": [207122.4405, 209673.883, 209630.608, 211877.7711357422, 199579.798, 164382.75672412172, 198098.91, 206602.96572962598, 208861.0498082413, 209024.609, 206789.222, 193673.112, 169069.223, 193010.0, 200917.15777472832, 202274.278, 183225.159, 153917.929, 160248.371, 160343.94, 198123.603, 211378.832, 210246.035, 209295.313, 209775.398, 199141.387, 175661.977, 203507.566, 208979.3018291059, 186503.626, 203723.777, 210553.967, 199380.424, 176362.695, 202461.592, 210949.84, 211644.159, 210037.206, 201229.201, 197201.055, 175505.845, 204508.96828426616, 212116.69955164206, 217260.67556218783, 216793.73291693113, 217725.277, 205663.784, 181471.309, 209524.979, 217588.154, 218979.919, 219686.0, 219078.0, 209627.982, 183584.0425017895, 211223.095, 217109.0, 219521.027, 219614.065, 216893.743, 202679.913, 178435.842, 203386.629, 212216.49, 205231.885, 205121.9593386317, 207174.452, 196992.125, 173742.691, 202115.272, 213172.384, 214206.228, 210219.923, 210647.25, 201523.644, 173220.341, 202818.984, 213100.805, 211586.981, 212255.22249000001, 211196.276, 199010.263, 174216.801, 201163.077, 208199.545, 208392.528, 201950.252, 203798.639, 194927.398, 169873.006, 193055.643, 204108.459, 202544.88, 203946.333, 201122.122, 192091.125, 169635.476, 196427.65843207831, 206337.9759943712, 211699.241, 209984.745, 208242.32, 192568.957, 165796.829, 190345.883, 197304.89262820993, 199931.004, 201280.607, 198712.895, 184998.215, 160963.419, 186454.933, 195796.589, 197287.062, 195025.742, 194694.8, 184374.574, 162627.706, 190961.858, 199457.618, 202452.177, 203162.521, 202889.594, 196053.95979999998, 172637.027, 199254.661, 206007.418, 203394.847, 201745.792, 200406.64, 191741.784, 167069.288, 194524.297, 205047.168, 208453.668, 207533.345, 206737.021, 196792.662, 172401.209, 201514.617, 208755.806, 211702.788, 210033.265, 201585.253, 187646.883, 164951.972, 188368.346, 194208.01359781428, 198116.41, 197749.753, 198522.107, 187984.448, 163619.952, 193289.27, 199188.888, 204328.085, 202078.586, 199325.628, 187721.683, 163947.116, 190909.494, 198840.569, 198612.584, 201182.795, 199985.169, 187706.973, 158599.506, 151766.345, 190357.229, 199330.987, 197681.325, 195693.814, 185969.621, 164464.339, 191005.0, 198628.0, 200546.0, 199862.0, 197636.0, 187436.0, 162312.0, 180928.0, 187697.0, 189882.0, 190440.0, 190613.0, 180690.0, 159532.0, 186287.0, 193666.0, 197044.0, 199651.0, 198878.0, 184454.0, 161012.0, 189008.0, 199283.0, 199886.0, 197439.0, 194628.0, 182012.0, 157451.0, 179750.0, 187454.0, 187039.0, 189448.0, 188045.0, 175670.0, 159302.0, 178933.0, 189269.0, 192074.0, 189060.0, 187523.0, 173539.0, 155669.0, 185071.0, 194240.0, 197386.0, 199822.0, 198145.0, 185040.0, 163064.0, 189833.0, 198013.0, 193707.0, 191211.0, 190685.0, 179913.0, 155538.0, 155473.0, 182764.0, 194381.0, 199227.0, 196224.0, 185421.0, 161952.0, 187654.0, 196899.0, 199330.0, 199195.0, 197505.0, 183926.0, 162640.0, 188061.0, 197610.0, 198861.0, 198273.0, 197910.0, 183631.0, 162086.0, 189322.0, 199796.0, 197256.0, 172912.0, 184812.0, 180866.0, 162353.0, 188477.0, 197525.0, 195950.0, 196053.0, 193610.0, 178419.0, 158125.0, 167160.0, 153466.0, 128624.0, 159127.0, 169847.0, 167376.0, 152744.0, 161393.0, 153785.0, 129479.0, 160216.0, 176153.0, 170064.0, 154375.0, 179303.0, 190582.0, 193961.0, 195431.0, 193819.0, 182426.0, 159732.0, 187431.0, 196814.0, 199947.0, 199867.0, 198781.0, 187145.0, 164080.0, 187257.0, 194655.0, 196498.0, 197180.599, 194469.072, 182328.698, 158767.24745535228, 184964.0, 194913.0, 195876.0, 195641.0, 194707.0, 182479.0, 157497.0, 157350.724, 180261.8694747058, 190598.32145057345, 187284.165, 188032.952, 180791.29936200002, 156802.632, 185664.461, 196090.494, 198069.94, 196326.3004968575, 198104.11, 197219.405, 165175.5991363423, 193444.758, 205066.911, 207864.01059883178, 208532.257, 206646.291, 195404.65734338292, 170638.966, 194946.982, 207646.143, 206187.856, 203216.015, 203384.3655258246, 193804.37302020256, 168483.515, 195732.045, 206334.203, 208013.69892374228, 209467.73, 204347.097, 195523.827, 168597.855, 194525.969, 206944.76298956136, 209419.85150708232, 212493.446, 211848.227, 198746.1259198897, 172471.601743114, 172167.1345528299, 196979.657, 209386.045, 207798.931, 205937.07269599594, 197432.10889048717, 171967.55659909293, 197526.498129075, 206724.15, 207132.60167331056, 205825.95295446686, 202961.53843346087, 192610.26960474052, 168345.521, 191108.613]}, {\"line\": {\"color\": \"rgba(55, 128, 191, 1.0)\", \"dash\": \"solid\", \"shape\": \"linear\", \"width\": 1.3}, \"mode\": \"lines\", \"name\": \"predict\", \"text\": \"\", \"type\": \"scatter\", \"x\": [\"2019-04-02\", \"2019-04-03\", \"2019-04-04\", \"2019-04-05\", \"2019-04-06\", \"2019-04-07\", \"2019-04-08\", \"2019-04-09\", \"2019-04-10\", \"2019-04-11\", \"2019-04-12\", \"2019-04-13\", \"2019-04-14\", \"2019-04-15\", \"2019-04-16\", \"2019-04-17\", \"2019-04-18\", \"2019-04-19\", \"2019-04-20\", \"2019-04-21\", \"2019-04-22\", \"2019-04-23\", \"2019-04-24\", \"2019-04-25\", \"2019-04-26\", \"2019-04-27\", \"2019-04-28\", \"2019-04-29\", \"2019-04-30\", \"2019-05-01\", \"2019-05-02\", \"2019-05-03\", \"2019-05-04\", \"2019-05-05\", \"2019-05-06\", \"2019-05-07\", \"2019-05-08\", \"2019-05-09\", \"2019-05-10\", \"2019-05-11\", \"2019-05-12\", \"2019-05-13\", \"2019-05-14\", \"2019-05-15\", \"2019-05-16\", \"2019-05-17\", \"2019-05-18\", \"2019-05-19\", \"2019-05-20\", \"2019-05-21\", \"2019-05-22\", \"2019-05-23\", \"2019-05-24\", \"2019-05-25\", \"2019-05-26\", \"2019-05-27\", \"2019-05-28\", \"2019-05-29\", \"2019-05-30\", \"2019-05-31\", \"2019-06-01\", \"2019-06-02\", \"2019-06-03\", \"2019-06-04\", \"2019-06-05\", \"2019-06-06\", \"2019-06-07\", \"2019-06-08\", \"2019-06-09\", \"2019-06-10\", \"2019-06-11\", \"2019-06-12\", \"2019-06-13\", \"2019-06-14\", \"2019-06-15\", \"2019-06-16\", \"2019-06-17\", \"2019-06-18\", \"2019-06-19\", \"2019-06-20\", \"2019-06-21\", \"2019-06-22\", \"2019-06-23\", \"2019-06-24\", \"2019-06-25\", \"2019-06-26\", \"2019-06-27\", \"2019-06-28\", \"2019-06-29\", \"2019-06-30\", \"2019-07-01\", \"2019-07-02\", \"2019-07-03\", \"2019-07-04\", \"2019-07-05\", \"2019-07-06\", \"2019-07-07\", \"2019-07-08\", \"2019-07-09\", \"2019-07-10\", \"2019-07-11\", \"2019-07-12\", \"2019-07-13\", \"2019-07-14\", \"2019-07-15\", \"2019-07-16\", \"2019-07-17\", \"2019-07-18\", \"2019-07-19\", \"2019-07-20\", \"2019-07-21\", \"2019-07-22\", \"2019-07-23\", \"2019-07-24\", \"2019-07-25\", \"2019-07-26\", \"2019-07-27\", \"2019-07-28\", \"2019-07-29\", \"2019-07-30\", \"2019-07-31\", \"2019-08-01\", \"2019-08-02\", \"2019-08-03\", \"2019-08-04\", \"2019-08-05\", \"2019-08-06\", \"2019-08-07\", \"2019-08-08\", \"2019-08-09\", \"2019-08-10\", \"2019-08-11\", \"2019-08-12\", \"2019-08-13\", \"2019-08-14\", \"2019-08-15\", \"2019-08-16\", \"2019-08-17\", \"2019-08-18\", \"2019-08-19\", \"2019-08-20\", \"2019-08-21\", \"2019-08-22\", \"2019-08-23\", \"2019-08-24\", \"2019-08-25\", \"2019-08-26\", \"2019-08-27\", \"2019-08-28\", \"2019-08-29\", \"2019-08-30\", \"2019-08-31\", \"2019-09-01\", \"2019-09-02\", \"2019-09-03\", \"2019-09-04\", \"2019-09-05\", \"2019-09-06\", \"2019-09-07\", \"2019-09-08\", \"2019-09-09\", \"2019-09-10\", \"2019-09-11\", \"2019-09-12\", \"2019-09-13\", \"2019-09-14\", \"2019-09-15\", \"2019-09-16\", \"2019-09-17\", \"2019-09-18\", \"2019-09-19\", \"2019-09-20\", \"2019-09-21\", \"2019-09-22\", \"2019-09-23\", \"2019-09-24\", \"2019-09-25\", \"2019-09-26\", \"2019-09-27\", \"2019-09-28\", \"2019-09-29\", \"2019-09-30\", \"2019-10-01\", \"2019-10-02\", \"2019-10-03\", \"2019-10-04\", \"2019-10-05\", \"2019-10-06\", \"2019-10-07\", \"2019-10-08\", \"2019-10-09\", \"2019-10-10\", \"2019-10-11\", \"2019-10-12\", \"2019-10-13\", \"2019-10-14\", \"2019-10-15\", \"2019-10-16\", \"2019-10-17\", \"2019-10-18\", \"2019-10-19\", \"2019-10-20\", \"2019-10-21\", \"2019-10-22\", \"2019-10-23\", \"2019-10-24\", \"2019-10-25\", \"2019-10-26\", \"2019-10-27\", \"2019-10-28\", \"2019-10-29\", \"2019-10-30\", \"2019-10-31\", \"2019-11-01\", \"2019-11-02\", \"2019-11-03\", \"2019-11-04\", \"2019-11-05\", \"2019-11-06\", \"2019-11-07\", \"2019-11-08\", \"2019-11-09\", \"2019-11-10\", \"2019-11-11\", \"2019-11-12\", \"2019-11-13\", \"2019-11-14\", \"2019-11-15\", \"2019-11-16\", \"2019-11-17\", \"2019-11-18\", \"2019-11-19\", \"2019-11-20\", \"2019-11-21\", \"2019-11-22\", \"2019-11-23\", \"2019-11-24\", \"2019-11-25\", \"2019-11-26\", \"2019-11-27\", \"2019-11-28\", \"2019-11-29\", \"2019-11-30\", \"2019-12-01\", \"2019-12-02\", \"2019-12-03\", \"2019-12-04\", \"2019-12-05\", \"2019-12-06\", \"2019-12-07\", \"2019-12-08\", \"2019-12-09\", \"2019-12-10\", \"2019-12-11\", \"2019-12-12\", \"2019-12-13\", \"2019-12-14\", \"2019-12-15\", \"2019-12-16\", \"2019-12-17\", \"2019-12-18\", \"2019-12-19\", \"2019-12-20\", \"2019-12-21\", \"2019-12-22\", \"2019-12-23\", \"2019-12-24\", \"2019-12-25\", \"2019-12-26\", \"2019-12-27\", \"2019-12-28\", \"2019-12-29\", \"2019-12-30\", \"2019-12-31\", \"2020-01-01\", \"2020-01-02\", \"2020-01-03\", \"2020-01-04\", \"2020-01-05\", \"2020-01-06\", \"2020-01-07\", \"2020-01-08\", \"2020-01-09\", \"2020-01-10\", \"2020-01-11\", \"2020-01-12\", \"2020-01-13\", \"2020-01-14\", \"2020-01-15\", \"2020-01-16\", \"2020-01-17\", \"2020-01-18\", \"2020-01-19\", \"2020-01-20\", \"2020-01-21\", \"2020-01-22\", \"2020-01-23\", \"2020-01-24\", \"2020-01-25\", \"2020-01-26\", \"2020-01-27\", \"2020-01-28\", \"2020-01-29\", \"2020-01-30\", \"2020-01-31\", \"2020-02-01\", \"2020-02-02\", \"2020-02-03\", \"2020-02-04\", \"2020-02-05\", \"2020-02-06\", \"2020-02-07\", \"2020-02-08\", \"2020-02-09\", \"2020-02-10\", \"2020-02-11\", \"2020-02-12\", \"2020-02-13\", \"2020-02-14\", \"2020-02-15\", \"2020-02-16\", \"2020-02-17\", \"2020-02-18\", \"2020-02-19\", \"2020-02-20\", \"2020-02-21\", \"2020-02-22\", \"2020-02-23\", \"2020-02-24\", \"2020-02-25\", \"2020-02-26\", \"2020-02-27\", \"2020-02-28\", \"2020-02-29\", \"2020-03-01\", \"2020-03-02\", \"2020-03-03\", \"2020-03-04\", \"2020-03-05\", \"2020-03-06\", \"2020-03-07\", \"2020-03-08\", \"2020-03-09\", \"2020-03-10\", \"2020-03-11\", \"2020-03-12\", \"2020-03-13\", \"2020-03-14\", \"2020-03-15\", \"2020-03-16\", \"2020-03-17\", \"2020-03-18\", \"2020-03-19\", \"2020-03-20\", \"2020-03-21\", \"2020-03-22\", \"2020-03-23\", \"2020-03-24\", \"2020-03-25\", \"2020-03-26\", \"2020-03-27\", \"2020-03-28\", \"2020-03-29\", \"2020-03-30\"], \"y\": [201490.69992504234, 201828.6691145264, 201812.8030545111, 199797.173976431, 191218.08337417006, 170892.66263468572, 195311.386477131, 202006.34003577047, 202636.79566448182, 202939.0974730038, 201212.26988299596, 192854.49189126588, 172526.50428528123, 197468.4335609588, 202887.75591501917, 196867.29865023564, 179116.73930240682, 159907.89654101754, 166973.1421664857, 160377.0241858082, 196492.28620101287, 206061.04176380264, 207619.75272534532, 207928.83940323934, 206112.8127634493, 197605.156780385, 177012.75122189327, 203231.25622607738, 209689.68790033535, 189610.67801574036, 208407.0436348383, 206421.04209732063, 197883.07617826512, 177349.13088188862, 203247.2710387405, 209517.7011779526, 210221.02515981576, 210371.59387571804, 208428.8000586308, 200247.99601564003, 179822.80756496653, 205919.92989662715, 212151.5952706765, 212869.0447204352, 213288.6807777736, 211756.47297915455, 203553.6772099742, 183108.45843322226, 209199.3896667852, 215386.41585722033, 215974.75233517098, 215981.51813068194, 213819.89950214018, 204884.38171726227, 183704.42882387099, 209659.6800278671, 215704.72645869764, 216043.25168093096, 215609.43950766601, 213005.6616674677, 201461.76375071934, 180115.04946298993, 205770.18139656418, 211119.3221973836, 211501.01098636902, 210953.32357268868, 208532.6968006292, 199459.6821514202, 178127.0871144316, 202829.2235446074, 207951.71380226538, 208060.02476841665, 207309.22025725062, 204627.7975862973, 195444.0052257073, 174135.39997115242, 197739.34248370474, 203095.3723010752, 202967.44802020752, 202074.9349249929, 199456.39388994494, 190319.29533118915, 169212.49482648046, 191499.07991362218, 197153.93193603778, 197652.30655496335, 197369.7390382764, 195448.09612670416, 186940.06677115988, 166609.77125438844, 184830.79320608272, 191190.13406693333, 191851.51425875828, 192040.64257335267, 190470.80355167825, 182066.80880263867, 161862.01052681598, 185252.85900576488, 192064.43816140696, 192590.8780990758, 192598.6615015735, 190987.07369204029, 182408.95717668312, 162256.42596609323, 185954.5628868364, 192507.10504368975, 192757.8409130712, 192371.76636363618, 190582.24799513258, 181766.71477536342, 161424.3058124388, 184965.9311169739, 191321.7871263339, 191639.48068272654, 191249.159552628, 189616.96790759437, 180898.1170930909, 160579.97916295106, 184127.44626972845, 190488.4915566903, 190968.08339884898, 196264.30919568104, 194785.59144658534, 186306.46296369733, 166091.46332699186, 189137.54279159365, 195728.35772544376, 196304.66293984253, 196182.6476487277, 194847.48855580276, 186530.72609727326, 166515.5583527863, 189685.36504363143, 196586.93255765023, 197267.57348156016, 197119.95093139497, 195929.2352577953, 187681.0633671814, 167476.758939361, 190671.16035103283, 197171.14586203615, 197764.07683051578, 197491.97656037463, 196151.2558199665, 188049.1897445672, 168066.8373834192, 191337.22190315175, 197815.99681345222, 198818.06177137815, 198823.7341792545, 197740.65305593383, 189554.15754440558, 164543.93386705485, 187630.34945260675, 193868.10065709957, 194703.45604350985, 194643.88966905273, 193414.84794265954, 185245.97234916966, 165494.53361460875, 188806.0451935294, 195538.0291262728, 196363.45617861132, 196230.57456825793, 194890.2936882454, 183672.39192220502, 155140.81640761078, 161237.7115831418, 184431.6444705118, 193777.74257149946, 196544.23024075164, 195373.60959915904, 186972.23635102174, 166975.63328129056, 189992.37640840845, 196073.44507180984, 196862.55681270652, 196759.65672473682, 195252.30624583145, 186610.42729138563, 166498.183863698, 188994.88532373545, 193244.84340663376, 194037.4675891422, 193791.38909463162, 192458.1750603369, 184172.21968577683, 164288.0674812376, 186827.7417430169, 192478.27440893085, 193361.26971348288, 192755.00471694203, 190166.60562270912, 179273.45674803393, 162274.09294532242, 186106.87697675725, 192778.7132225965, 193756.1334848598, 193526.7423219815, 192151.21302595476, 183815.10493355876, 164032.95188395257, 185886.57021207045, 191873.3380590993, 193231.42271861076, 193593.0958730107, 192702.2596803798, 184804.67553292337, 165384.14030372025, 188051.52875669772, 194259.07749490626, 195684.15232639224, 195560.17039480445, 195827.3674154659, 187209.53534623777, 167477.84614940087, 189999.56776316575, 195804.29364463588, 196493.52844513915, 195881.59368070276, 194172.52219214116, 185242.90237509634, 165339.18904826054, 186848.21789392337, 192660.8999717183, 193362.73071445973, 193061.78601445112, 192130.41999228124, 182794.38970874922, 160063.26555968827, 174607.35432115398, 187553.19651021107, 192374.4588131668, 193589.42172012464, 192327.4066735431, 183615.78023240983, 164098.6058804257, 185442.07006143223, 191576.74371665006, 192291.12326477308, 191922.54343228848, 190489.48651335225, 181871.92514775204, 164773.0437588292, 185959.29162036147, 192021.77999527447, 192678.80095845653, 192415.18611449876, 190924.97188275532, 182275.63973460623, 163110.82485647246, 185001.9487973608, 190273.37452315193, 187100.56833794265, 178393.77843397507, 185136.8221418941, 180433.675112865, 162325.13278895314, 183863.5461253491, 189886.72158959322, 190453.6107317884, 190021.5531293413, 188401.23548420522, 179800.46551827915, 160899.34061795578, 176644.104129669, 165704.7575866998, 133754.96719510615, 166465.53248683122, 181485.10462038597, 178673.95101092654, 159803.13905617243, 172854.70863188637, 158045.35629327255, 143688.36629518657, 164734.6257445387, 174323.95513397898, 169629.37409014636, 150969.87507957095, 173321.0640468714, 182391.71675736844, 187744.3569500199, 191980.98718283823, 190382.93568989256, 181737.9220750828, 162075.86039100733, 184134.84439382996, 191000.1219959327, 192020.85425786677, 191988.0934033306, 190908.87051950252, 182629.92534987288, 163229.33633696096, 186041.7969206835, 193365.36473740864, 194466.92820768486, 194141.5732291059, 192674.4022278918, 184108.2567581252, 164297.56772080457, 187111.56743971445, 193914.3270705076, 195045.41215211796, 195063.00643594307, 194165.42503965116, 183029.43019491635, 159024.6023128263, 168019.34562424442, 186606.3275304933, 193971.0676881346, 196208.1815298914, 195205.23159761252, 186834.5779576819, 166067.00459329307, 191583.72746998156, 198458.43177538368, 199856.8878523881, 200096.69261740302, 198999.77163250616, 190134.24214016137, 169809.61220691598, 194255.90803489846, 200444.78208762628, 201162.98816907287, 200758.5055353413, 199260.60233321224, 190402.5851701399, 170029.77285550465, 194750.69856999995, 201685.76116651404, 202672.49649531682, 202414.9103114401, 201099.01952734494, 192297.66865385696, 173096.53631269702, 198132.3899265329, 204694.11727029659, 205976.3463592182, 205900.03610474075, 204746.37665318538, 196119.99344865253, 175165.35851821292, 200575.70722424053, 206935.90309468785, 207973.1765389189, 207609.38250316965, 206123.68735090454, 197250.6110907382, 172516.59059643876, 180894.89653742212, 208218.78736227466, 209349.00135583093, 209020.85773916726, 207526.46903783493, 198645.1364226164, 177495.89049192393, 203212.31672016735, 209190.5397022616, 210265.6936629319, 209832.1027464551, 208322.876600814, 199353.31388795443, 178132.14494162335, 203959.484879857]}],\n",
       "                        {\"legend\": {\"bgcolor\": \"#F5F6F9\", \"font\": {\"color\": \"#4D5663\"}}, \"paper_bgcolor\": \"#F5F6F9\", \"plot_bgcolor\": \"#F5F6F9\", \"template\": {\"data\": {\"bar\": [{\"error_x\": {\"color\": \"#2a3f5f\"}, \"error_y\": {\"color\": \"#2a3f5f\"}, \"marker\": {\"line\": {\"color\": \"#E5ECF6\", \"width\": 0.5}}, \"type\": \"bar\"}], \"barpolar\": [{\"marker\": {\"line\": {\"color\": \"#E5ECF6\", \"width\": 0.5}}, \"type\": \"barpolar\"}], \"carpet\": [{\"aaxis\": {\"endlinecolor\": \"#2a3f5f\", \"gridcolor\": \"white\", \"linecolor\": \"white\", \"minorgridcolor\": \"white\", \"startlinecolor\": \"#2a3f5f\"}, \"baxis\": {\"endlinecolor\": \"#2a3f5f\", \"gridcolor\": \"white\", \"linecolor\": \"white\", \"minorgridcolor\": \"white\", \"startlinecolor\": \"#2a3f5f\"}, \"type\": \"carpet\"}], \"choropleth\": [{\"colorbar\": {\"outlinewidth\": 0, \"ticks\": \"\"}, \"type\": \"choropleth\"}], \"contour\": [{\"colorbar\": {\"outlinewidth\": 0, \"ticks\": \"\"}, \"colorscale\": [[0.0, \"#0d0887\"], [0.1111111111111111, \"#46039f\"], [0.2222222222222222, \"#7201a8\"], [0.3333333333333333, \"#9c179e\"], [0.4444444444444444, \"#bd3786\"], [0.5555555555555556, \"#d8576b\"], [0.6666666666666666, \"#ed7953\"], [0.7777777777777778, \"#fb9f3a\"], [0.8888888888888888, \"#fdca26\"], [1.0, \"#f0f921\"]], \"type\": \"contour\"}], \"contourcarpet\": [{\"colorbar\": {\"outlinewidth\": 0, \"ticks\": \"\"}, \"type\": \"contourcarpet\"}], \"heatmap\": [{\"colorbar\": {\"outlinewidth\": 0, \"ticks\": \"\"}, \"colorscale\": [[0.0, \"#0d0887\"], [0.1111111111111111, \"#46039f\"], [0.2222222222222222, \"#7201a8\"], [0.3333333333333333, \"#9c179e\"], [0.4444444444444444, \"#bd3786\"], [0.5555555555555556, \"#d8576b\"], [0.6666666666666666, \"#ed7953\"], [0.7777777777777778, \"#fb9f3a\"], [0.8888888888888888, \"#fdca26\"], [1.0, \"#f0f921\"]], \"type\": \"heatmap\"}], \"heatmapgl\": [{\"colorbar\": {\"outlinewidth\": 0, \"ticks\": \"\"}, \"colorscale\": [[0.0, \"#0d0887\"], [0.1111111111111111, \"#46039f\"], [0.2222222222222222, \"#7201a8\"], [0.3333333333333333, \"#9c179e\"], [0.4444444444444444, \"#bd3786\"], [0.5555555555555556, \"#d8576b\"], [0.6666666666666666, \"#ed7953\"], [0.7777777777777778, \"#fb9f3a\"], [0.8888888888888888, \"#fdca26\"], [1.0, \"#f0f921\"]], \"type\": \"heatmapgl\"}], \"histogram\": [{\"marker\": {\"colorbar\": {\"outlinewidth\": 0, \"ticks\": \"\"}}, \"type\": \"histogram\"}], \"histogram2d\": [{\"colorbar\": {\"outlinewidth\": 0, \"ticks\": \"\"}, \"colorscale\": [[0.0, \"#0d0887\"], [0.1111111111111111, \"#46039f\"], [0.2222222222222222, \"#7201a8\"], [0.3333333333333333, \"#9c179e\"], [0.4444444444444444, \"#bd3786\"], [0.5555555555555556, \"#d8576b\"], [0.6666666666666666, \"#ed7953\"], [0.7777777777777778, \"#fb9f3a\"], [0.8888888888888888, \"#fdca26\"], [1.0, \"#f0f921\"]], \"type\": \"histogram2d\"}], \"histogram2dcontour\": [{\"colorbar\": {\"outlinewidth\": 0, \"ticks\": \"\"}, \"colorscale\": [[0.0, \"#0d0887\"], [0.1111111111111111, \"#46039f\"], [0.2222222222222222, \"#7201a8\"], [0.3333333333333333, \"#9c179e\"], [0.4444444444444444, \"#bd3786\"], [0.5555555555555556, \"#d8576b\"], [0.6666666666666666, \"#ed7953\"], [0.7777777777777778, \"#fb9f3a\"], [0.8888888888888888, \"#fdca26\"], [1.0, \"#f0f921\"]], \"type\": \"histogram2dcontour\"}], \"mesh3d\": [{\"colorbar\": {\"outlinewidth\": 0, \"ticks\": \"\"}, \"type\": \"mesh3d\"}], \"parcoords\": [{\"line\": {\"colorbar\": {\"outlinewidth\": 0, \"ticks\": \"\"}}, \"type\": \"parcoords\"}], \"scatter\": [{\"marker\": {\"colorbar\": {\"outlinewidth\": 0, \"ticks\": \"\"}}, \"type\": \"scatter\"}], \"scatter3d\": [{\"line\": {\"colorbar\": {\"outlinewidth\": 0, \"ticks\": \"\"}}, \"marker\": {\"colorbar\": {\"outlinewidth\": 0, \"ticks\": \"\"}}, \"type\": \"scatter3d\"}], \"scattercarpet\": [{\"marker\": {\"colorbar\": {\"outlinewidth\": 0, \"ticks\": \"\"}}, \"type\": \"scattercarpet\"}], \"scattergeo\": [{\"marker\": {\"colorbar\": {\"outlinewidth\": 0, \"ticks\": \"\"}}, \"type\": \"scattergeo\"}], \"scattergl\": [{\"marker\": {\"colorbar\": {\"outlinewidth\": 0, \"ticks\": \"\"}}, \"type\": \"scattergl\"}], \"scattermapbox\": [{\"marker\": {\"colorbar\": {\"outlinewidth\": 0, \"ticks\": \"\"}}, \"type\": \"scattermapbox\"}], \"scatterpolar\": [{\"marker\": {\"colorbar\": {\"outlinewidth\": 0, \"ticks\": \"\"}}, \"type\": \"scatterpolar\"}], \"scatterpolargl\": [{\"marker\": {\"colorbar\": {\"outlinewidth\": 0, \"ticks\": \"\"}}, \"type\": \"scatterpolargl\"}], \"scatterternary\": [{\"marker\": {\"colorbar\": {\"outlinewidth\": 0, \"ticks\": \"\"}}, \"type\": \"scatterternary\"}], \"surface\": [{\"colorbar\": {\"outlinewidth\": 0, \"ticks\": \"\"}, \"colorscale\": [[0.0, \"#0d0887\"], [0.1111111111111111, \"#46039f\"], [0.2222222222222222, \"#7201a8\"], [0.3333333333333333, \"#9c179e\"], [0.4444444444444444, \"#bd3786\"], [0.5555555555555556, \"#d8576b\"], [0.6666666666666666, \"#ed7953\"], [0.7777777777777778, \"#fb9f3a\"], [0.8888888888888888, \"#fdca26\"], [1.0, \"#f0f921\"]], \"type\": \"surface\"}], \"table\": [{\"cells\": {\"fill\": {\"color\": \"#EBF0F8\"}, \"line\": {\"color\": \"white\"}}, \"header\": {\"fill\": {\"color\": \"#C8D4E3\"}, \"line\": {\"color\": \"white\"}}, \"type\": \"table\"}]}, \"layout\": {\"annotationdefaults\": {\"arrowcolor\": \"#2a3f5f\", \"arrowhead\": 0, \"arrowwidth\": 1}, \"colorscale\": {\"diverging\": [[0, \"#8e0152\"], [0.1, \"#c51b7d\"], [0.2, \"#de77ae\"], [0.3, \"#f1b6da\"], [0.4, \"#fde0ef\"], [0.5, \"#f7f7f7\"], [0.6, \"#e6f5d0\"], [0.7, \"#b8e186\"], [0.8, \"#7fbc41\"], [0.9, \"#4d9221\"], [1, \"#276419\"]], \"sequential\": [[0.0, \"#0d0887\"], [0.1111111111111111, \"#46039f\"], [0.2222222222222222, \"#7201a8\"], [0.3333333333333333, \"#9c179e\"], [0.4444444444444444, \"#bd3786\"], [0.5555555555555556, \"#d8576b\"], [0.6666666666666666, \"#ed7953\"], [0.7777777777777778, \"#fb9f3a\"], [0.8888888888888888, \"#fdca26\"], [1.0, \"#f0f921\"]], \"sequentialminus\": [[0.0, \"#0d0887\"], [0.1111111111111111, \"#46039f\"], [0.2222222222222222, \"#7201a8\"], [0.3333333333333333, \"#9c179e\"], [0.4444444444444444, \"#bd3786\"], [0.5555555555555556, \"#d8576b\"], [0.6666666666666666, \"#ed7953\"], [0.7777777777777778, \"#fb9f3a\"], [0.8888888888888888, \"#fdca26\"], [1.0, \"#f0f921\"]]}, \"colorway\": [\"#636efa\", \"#EF553B\", \"#00cc96\", \"#ab63fa\", \"#FFA15A\", \"#19d3f3\", \"#FF6692\", \"#B6E880\", \"#FF97FF\", \"#FECB52\"], \"font\": {\"color\": \"#2a3f5f\"}, \"geo\": {\"bgcolor\": \"white\", \"lakecolor\": \"white\", \"landcolor\": \"#E5ECF6\", \"showlakes\": true, \"showland\": true, \"subunitcolor\": \"white\"}, \"hoverlabel\": {\"align\": \"left\"}, \"hovermode\": \"closest\", \"mapbox\": {\"style\": \"light\"}, \"paper_bgcolor\": \"white\", \"plot_bgcolor\": \"#E5ECF6\", \"polar\": {\"angularaxis\": {\"gridcolor\": \"white\", \"linecolor\": \"white\", \"ticks\": \"\"}, \"bgcolor\": \"#E5ECF6\", \"radialaxis\": {\"gridcolor\": \"white\", \"linecolor\": \"white\", \"ticks\": \"\"}}, \"scene\": {\"xaxis\": {\"backgroundcolor\": \"#E5ECF6\", \"gridcolor\": \"white\", \"gridwidth\": 2, \"linecolor\": \"white\", \"showbackground\": true, \"ticks\": \"\", \"zerolinecolor\": \"white\"}, \"yaxis\": {\"backgroundcolor\": \"#E5ECF6\", \"gridcolor\": \"white\", \"gridwidth\": 2, \"linecolor\": \"white\", \"showbackground\": true, \"ticks\": \"\", \"zerolinecolor\": \"white\"}, \"zaxis\": {\"backgroundcolor\": \"#E5ECF6\", \"gridcolor\": \"white\", \"gridwidth\": 2, \"linecolor\": \"white\", \"showbackground\": true, \"ticks\": \"\", \"zerolinecolor\": \"white\"}}, \"shapedefaults\": {\"line\": {\"color\": \"#2a3f5f\"}}, \"ternary\": {\"aaxis\": {\"gridcolor\": \"white\", \"linecolor\": \"white\", \"ticks\": \"\"}, \"baxis\": {\"gridcolor\": \"white\", \"linecolor\": \"white\", \"ticks\": \"\"}, \"bgcolor\": \"#E5ECF6\", \"caxis\": {\"gridcolor\": \"white\", \"linecolor\": \"white\", \"ticks\": \"\"}}, \"title\": {\"x\": 0.05}, \"xaxis\": {\"automargin\": true, \"gridcolor\": \"white\", \"linecolor\": \"white\", \"ticks\": \"\", \"zerolinecolor\": \"white\", \"zerolinewidth\": 2}, \"yaxis\": {\"automargin\": true, \"gridcolor\": \"white\", \"linecolor\": \"white\", \"ticks\": \"\", \"zerolinecolor\": \"white\", \"zerolinewidth\": 2}}}, \"title\": {\"font\": {\"color\": \"#4D5663\"}, \"text\": \"MAPE: 2.57\"}, \"xaxis\": {\"gridcolor\": \"#E1E5ED\", \"showgrid\": true, \"tickfont\": {\"color\": \"#4D5663\"}, \"title\": {\"font\": {\"color\": \"#4D5663\"}, \"text\": \"\"}, \"zerolinecolor\": \"#E1E5ED\"}, \"yaxis\": {\"gridcolor\": \"#E1E5ED\", \"showgrid\": true, \"tickfont\": {\"color\": \"#4D5663\"}, \"title\": {\"font\": {\"color\": \"#4D5663\"}, \"text\": \"\"}, \"zerolinecolor\": \"#E1E5ED\"}},\n",
       "                        {\"showLink\": true, \"linkText\": \"Export to plot.ly\", \"plotlyServerURL\": \"https://plot.ly\", \"responsive\": true}\n",
       "                    ).then(function(){\n",
       "                            \n",
       "var gd = document.getElementById('766481ac-ddd0-4618-a645-039e58c2acd3');\n",
       "var x = new MutationObserver(function (mutations, observer) {{\n",
       "        var display = window.getComputedStyle(gd).display;\n",
       "        if (!display || display === 'none') {{\n",
       "            console.log([gd, 'removed!']);\n",
       "            Plotly.purge(gd);\n",
       "            observer.disconnect();\n",
       "        }}\n",
       "}});\n",
       "\n",
       "// Listen for the removal of the full notebook cells\n",
       "var notebookContainer = gd.closest('#notebook-container');\n",
       "if (notebookContainer) {{\n",
       "    x.observe(notebookContainer, {childList: true});\n",
       "}}\n",
       "\n",
       "// Listen for the clearing of the current output cell\n",
       "var outputEl = gd.closest('.output');\n",
       "if (outputEl) {{\n",
       "    x.observe(outputEl, {childList: true});\n",
       "}}\n",
       "\n",
       "                        })\n",
       "                };\n",
       "                });\n",
       "            </script>\n",
       "        </div>"
      ]
     },
     "metadata": {},
     "output_type": "display_data"
    }
   ],
   "source": [
    "mape = jointed['07_04_2021_13_19_55'].error.mean()*100\n",
    "jointed['07_04_2021_13_19_55'][[\"real\", \"predict\"]].iplot(title = f\"MAPE: {mape:.2f}\")"
   ]
  },
  {
   "cell_type": "code",
   "execution_count": 182,
   "metadata": {
    "ExecuteTime": {
     "end_time": "2021-04-08T01:25:04.939243Z",
     "start_time": "2021-04-08T01:25:04.928270Z"
    }
   },
   "outputs": [],
   "source": [
    "# concatenate real value and prediction for all runs.\n",
    "# argument: dir of jointed dataframes. returns real values and all predictions \n",
    "def concat_pred(j_p):\n",
    "    pred_tot = pd.DataFrame()\n",
    "    pred_tot[\"real\"] = j_p[[*j_p.keys()][0]]['real']\n",
    "    name = ['real']\n",
    "    for a in j_p.keys():\n",
    "        pred_tot = pd.concat([pred_tot, j_p[a]['predict']], axis = 1)\n",
    "        name.append(a)\n",
    "    pred_tot.columns = name\n",
    "    return pred_tot"
   ]
  },
  {
   "cell_type": "code",
   "execution_count": 192,
   "metadata": {
    "ExecuteTime": {
     "end_time": "2021-04-08T01:56:53.759065Z",
     "start_time": "2021-04-08T01:56:53.732137Z"
    }
   },
   "outputs": [],
   "source": [
    "lok = concat_pred(jointed)"
   ]
  },
  {
   "cell_type": "code",
   "execution_count": 193,
   "metadata": {
    "ExecuteTime": {
     "end_time": "2021-04-08T01:56:55.945670Z",
     "start_time": "2021-04-08T01:56:54.679297Z"
    }
   },
   "outputs": [
    {
     "data": {
      "application/vnd.plotly.v1+json": {
       "config": {
        "linkText": "Export to plot.ly",
        "plotlyServerURL": "https://plot.ly",
        "showLink": true
       },
       "data": [
        {
         "line": {
          "color": "rgba(255, 153, 51, 1.0)",
          "dash": "solid",
          "shape": "linear",
          "width": 1.3
         },
         "mode": "lines",
         "name": "real",
         "text": "",
         "type": "scatter",
         "x": [
          "2019-04-02",
          "2019-04-03",
          "2019-04-04",
          "2019-04-05",
          "2019-04-06",
          "2019-04-07",
          "2019-04-08",
          "2019-04-09",
          "2019-04-10",
          "2019-04-11",
          "2019-04-12",
          "2019-04-13",
          "2019-04-14",
          "2019-04-15",
          "2019-04-16",
          "2019-04-17",
          "2019-04-18",
          "2019-04-19",
          "2019-04-20",
          "2019-04-21",
          "2019-04-22",
          "2019-04-23",
          "2019-04-24",
          "2019-04-25",
          "2019-04-26",
          "2019-04-27",
          "2019-04-28",
          "2019-04-29",
          "2019-04-30",
          "2019-05-01",
          "2019-05-02",
          "2019-05-03",
          "2019-05-04",
          "2019-05-05",
          "2019-05-06",
          "2019-05-07",
          "2019-05-08",
          "2019-05-09",
          "2019-05-10",
          "2019-05-11",
          "2019-05-12",
          "2019-05-13",
          "2019-05-14",
          "2019-05-15",
          "2019-05-16",
          "2019-05-17",
          "2019-05-18",
          "2019-05-19",
          "2019-05-20",
          "2019-05-21",
          "2019-05-22",
          "2019-05-23",
          "2019-05-24",
          "2019-05-25",
          "2019-05-26",
          "2019-05-27",
          "2019-05-28",
          "2019-05-29",
          "2019-05-30",
          "2019-05-31",
          "2019-06-01",
          "2019-06-02",
          "2019-06-03",
          "2019-06-04",
          "2019-06-05",
          "2019-06-06",
          "2019-06-07",
          "2019-06-08",
          "2019-06-09",
          "2019-06-10",
          "2019-06-11",
          "2019-06-12",
          "2019-06-13",
          "2019-06-14",
          "2019-06-15",
          "2019-06-16",
          "2019-06-17",
          "2019-06-18",
          "2019-06-19",
          "2019-06-20",
          "2019-06-21",
          "2019-06-22",
          "2019-06-23",
          "2019-06-24",
          "2019-06-25",
          "2019-06-26",
          "2019-06-27",
          "2019-06-28",
          "2019-06-29",
          "2019-06-30",
          "2019-07-01",
          "2019-07-02",
          "2019-07-03",
          "2019-07-04",
          "2019-07-05",
          "2019-07-06",
          "2019-07-07",
          "2019-07-08",
          "2019-07-09",
          "2019-07-10",
          "2019-07-11",
          "2019-07-12",
          "2019-07-13",
          "2019-07-14",
          "2019-07-15",
          "2019-07-16",
          "2019-07-17",
          "2019-07-18",
          "2019-07-19",
          "2019-07-20",
          "2019-07-21",
          "2019-07-22",
          "2019-07-23",
          "2019-07-24",
          "2019-07-25",
          "2019-07-26",
          "2019-07-27",
          "2019-07-28",
          "2019-07-29",
          "2019-07-30",
          "2019-07-31",
          "2019-08-01",
          "2019-08-02",
          "2019-08-03",
          "2019-08-04",
          "2019-08-05",
          "2019-08-06",
          "2019-08-07",
          "2019-08-08",
          "2019-08-09",
          "2019-08-10",
          "2019-08-11",
          "2019-08-12",
          "2019-08-13",
          "2019-08-14",
          "2019-08-15",
          "2019-08-16",
          "2019-08-17",
          "2019-08-18",
          "2019-08-19",
          "2019-08-20",
          "2019-08-21",
          "2019-08-22",
          "2019-08-23",
          "2019-08-24",
          "2019-08-25",
          "2019-08-26",
          "2019-08-27",
          "2019-08-28",
          "2019-08-29",
          "2019-08-30",
          "2019-08-31",
          "2019-09-01",
          "2019-09-02",
          "2019-09-03",
          "2019-09-04",
          "2019-09-05",
          "2019-09-06",
          "2019-09-07",
          "2019-09-08",
          "2019-09-09",
          "2019-09-10",
          "2019-09-11",
          "2019-09-12",
          "2019-09-13",
          "2019-09-14",
          "2019-09-15",
          "2019-09-16",
          "2019-09-17",
          "2019-09-18",
          "2019-09-19",
          "2019-09-20",
          "2019-09-21",
          "2019-09-22",
          "2019-09-23",
          "2019-09-24",
          "2019-09-25",
          "2019-09-26",
          "2019-09-27",
          "2019-09-28",
          "2019-09-29",
          "2019-09-30",
          "2019-10-01",
          "2019-10-02",
          "2019-10-03",
          "2019-10-04",
          "2019-10-05",
          "2019-10-06",
          "2019-10-07",
          "2019-10-08",
          "2019-10-09",
          "2019-10-10",
          "2019-10-11",
          "2019-10-12",
          "2019-10-13",
          "2019-10-14",
          "2019-10-15",
          "2019-10-16",
          "2019-10-17",
          "2019-10-18",
          "2019-10-19",
          "2019-10-20",
          "2019-10-21",
          "2019-10-22",
          "2019-10-23",
          "2019-10-24",
          "2019-10-25",
          "2019-10-26",
          "2019-10-27",
          "2019-10-28",
          "2019-10-29",
          "2019-10-30",
          "2019-10-31",
          "2019-11-01",
          "2019-11-02",
          "2019-11-03",
          "2019-11-04",
          "2019-11-05",
          "2019-11-06",
          "2019-11-07",
          "2019-11-08",
          "2019-11-09",
          "2019-11-10",
          "2019-11-11",
          "2019-11-12",
          "2019-11-13",
          "2019-11-14",
          "2019-11-15",
          "2019-11-16",
          "2019-11-17",
          "2019-11-18",
          "2019-11-19",
          "2019-11-20",
          "2019-11-21",
          "2019-11-22",
          "2019-11-23",
          "2019-11-24",
          "2019-11-25",
          "2019-11-26",
          "2019-11-27",
          "2019-11-28",
          "2019-11-29",
          "2019-11-30",
          "2019-12-01",
          "2019-12-02",
          "2019-12-03",
          "2019-12-04",
          "2019-12-05",
          "2019-12-06",
          "2019-12-07",
          "2019-12-08",
          "2019-12-09",
          "2019-12-10",
          "2019-12-11",
          "2019-12-12",
          "2019-12-13",
          "2019-12-14",
          "2019-12-15",
          "2019-12-16",
          "2019-12-17",
          "2019-12-18",
          "2019-12-19",
          "2019-12-20",
          "2019-12-21",
          "2019-12-22",
          "2019-12-23",
          "2019-12-24",
          "2019-12-25",
          "2019-12-26",
          "2019-12-27",
          "2019-12-28",
          "2019-12-29",
          "2019-12-30",
          "2019-12-31",
          "2020-01-01",
          "2020-01-02",
          "2020-01-03",
          "2020-01-04",
          "2020-01-05",
          "2020-01-06",
          "2020-01-07",
          "2020-01-08",
          "2020-01-09",
          "2020-01-10",
          "2020-01-11",
          "2020-01-12",
          "2020-01-13",
          "2020-01-14",
          "2020-01-15",
          "2020-01-16",
          "2020-01-17",
          "2020-01-18",
          "2020-01-19",
          "2020-01-20",
          "2020-01-21",
          "2020-01-22",
          "2020-01-23",
          "2020-01-24",
          "2020-01-25",
          "2020-01-26",
          "2020-01-27",
          "2020-01-28",
          "2020-01-29",
          "2020-01-30",
          "2020-01-31",
          "2020-02-01",
          "2020-02-02",
          "2020-02-03",
          "2020-02-04",
          "2020-02-05",
          "2020-02-06",
          "2020-02-07",
          "2020-02-08",
          "2020-02-09",
          "2020-02-10",
          "2020-02-11",
          "2020-02-12",
          "2020-02-13",
          "2020-02-14",
          "2020-02-15",
          "2020-02-16",
          "2020-02-17",
          "2020-02-18",
          "2020-02-19",
          "2020-02-20",
          "2020-02-21",
          "2020-02-22",
          "2020-02-23",
          "2020-02-24",
          "2020-02-25",
          "2020-02-26",
          "2020-02-27",
          "2020-02-28",
          "2020-02-29",
          "2020-03-01",
          "2020-03-02",
          "2020-03-03",
          "2020-03-04",
          "2020-03-05",
          "2020-03-06",
          "2020-03-07",
          "2020-03-08",
          "2020-03-09",
          "2020-03-10",
          "2020-03-11",
          "2020-03-12",
          "2020-03-13",
          "2020-03-14",
          "2020-03-15",
          "2020-03-16",
          "2020-03-17",
          "2020-03-18",
          "2020-03-19",
          "2020-03-20",
          "2020-03-21",
          "2020-03-22",
          "2020-03-23",
          "2020-03-24",
          "2020-03-25",
          "2020-03-26",
          "2020-03-27",
          "2020-03-28",
          "2020-03-29",
          "2020-03-30"
         ],
         "y": [
          207122.4405,
          209673.883,
          209630.608,
          211877.7711357422,
          199579.798,
          164382.75672412172,
          198098.91,
          206602.96572962598,
          208861.0498082413,
          209024.609,
          206789.222,
          193673.112,
          169069.223,
          193010,
          200917.15777472832,
          202274.278,
          183225.159,
          153917.929,
          160248.371,
          160343.94,
          198123.603,
          211378.832,
          210246.035,
          209295.313,
          209775.398,
          199141.387,
          175661.977,
          203507.566,
          208979.3018291059,
          186503.626,
          203723.777,
          210553.967,
          199380.424,
          176362.695,
          202461.592,
          210949.84,
          211644.159,
          210037.206,
          201229.201,
          197201.055,
          175505.845,
          204508.96828426616,
          212116.69955164206,
          217260.67556218783,
          216793.73291693113,
          217725.277,
          205663.784,
          181471.309,
          209524.979,
          217588.154,
          218979.919,
          219686,
          219078,
          209627.982,
          183584.0425017895,
          211223.095,
          217109,
          219521.027,
          219614.065,
          216893.743,
          202679.913,
          178435.842,
          203386.629,
          212216.49,
          205231.885,
          205121.9593386317,
          207174.452,
          196992.125,
          173742.691,
          202115.272,
          213172.384,
          214206.228,
          210219.923,
          210647.25,
          201523.644,
          173220.341,
          202818.984,
          213100.805,
          211586.981,
          212255.22249000001,
          211196.276,
          199010.263,
          174216.801,
          201163.077,
          208199.545,
          208392.528,
          201950.252,
          203798.639,
          194927.398,
          169873.006,
          193055.643,
          204108.459,
          202544.88,
          203946.333,
          201122.122,
          192091.125,
          169635.476,
          196427.65843207831,
          206337.9759943712,
          211699.241,
          209984.745,
          208242.32,
          192568.957,
          165796.829,
          190345.883,
          197304.89262820993,
          199931.004,
          201280.607,
          198712.895,
          184998.215,
          160963.419,
          186454.933,
          195796.589,
          197287.062,
          195025.742,
          194694.8,
          184374.574,
          162627.706,
          190961.858,
          199457.618,
          202452.177,
          203162.521,
          202889.594,
          196053.95979999998,
          172637.027,
          199254.661,
          206007.418,
          203394.847,
          201745.792,
          200406.64,
          191741.784,
          167069.288,
          194524.297,
          205047.168,
          208453.668,
          207533.345,
          206737.021,
          196792.662,
          172401.209,
          201514.617,
          208755.806,
          211702.788,
          210033.265,
          201585.253,
          187646.883,
          164951.972,
          188368.346,
          194208.01359781428,
          198116.41,
          197749.753,
          198522.107,
          187984.448,
          163619.952,
          193289.27,
          199188.888,
          204328.085,
          202078.586,
          199325.628,
          187721.683,
          163947.116,
          190909.494,
          198840.569,
          198612.584,
          201182.795,
          199985.169,
          187706.973,
          158599.506,
          151766.345,
          190357.229,
          199330.987,
          197681.325,
          195693.814,
          185969.621,
          164464.339,
          191005,
          198628,
          200546,
          199862,
          197636,
          187436,
          162312,
          180928,
          187697,
          189882,
          190440,
          190613,
          180690,
          159532,
          186287,
          193666,
          197044,
          199651,
          198878,
          184454,
          161012,
          189008,
          199283,
          199886,
          197439,
          194628,
          182012,
          157451,
          179750,
          187454,
          187039,
          189448,
          188045,
          175670,
          159302,
          178933,
          189269,
          192074,
          189060,
          187523,
          173539,
          155669,
          185071,
          194240,
          197386,
          199822,
          198145,
          185040,
          163064,
          189833,
          198013,
          193707,
          191211,
          190685,
          179913,
          155538,
          155473,
          182764,
          194381,
          199227,
          196224,
          185421,
          161952,
          187654,
          196899,
          199330,
          199195,
          197505,
          183926,
          162640,
          188061,
          197610,
          198861,
          198273,
          197910,
          183631,
          162086,
          189322,
          199796,
          197256,
          172912,
          184812,
          180866,
          162353,
          188477,
          197525,
          195950,
          196053,
          193610,
          178419,
          158125,
          167160,
          153466,
          128624,
          159127,
          169847,
          167376,
          152744,
          161393,
          153785,
          129479,
          160216,
          176153,
          170064,
          154375,
          179303,
          190582,
          193961,
          195431,
          193819,
          182426,
          159732,
          187431,
          196814,
          199947,
          199867,
          198781,
          187145,
          164080,
          187257,
          194655,
          196498,
          197180.599,
          194469.072,
          182328.698,
          158767.24745535228,
          184964,
          194913,
          195876,
          195641,
          194707,
          182479,
          157497,
          157350.724,
          180261.8694747058,
          190598.32145057345,
          187284.165,
          188032.952,
          180791.29936200002,
          156802.632,
          185664.461,
          196090.494,
          198069.94,
          196326.3004968575,
          198104.11,
          197219.405,
          165175.5991363423,
          193444.758,
          205066.911,
          207864.01059883178,
          208532.257,
          206646.291,
          195404.65734338292,
          170638.966,
          194946.982,
          207646.143,
          206187.856,
          203216.015,
          203384.3655258246,
          193804.37302020256,
          168483.515,
          195732.045,
          206334.203,
          208013.69892374228,
          209467.73,
          204347.097,
          195523.827,
          168597.855,
          194525.969,
          206944.76298956136,
          209419.85150708232,
          212493.446,
          211848.227,
          198746.1259198897,
          172471.601743114,
          172167.1345528299,
          196979.657,
          209386.045,
          207798.931,
          205937.07269599594,
          197432.10889048717,
          171967.55659909293,
          197526.498129075,
          206724.15,
          207132.60167331056,
          205825.95295446686,
          202961.53843346087,
          192610.26960474052,
          168345.521,
          191108.613
         ]
        },
        {
         "line": {
          "color": "rgba(55, 128, 191, 1.0)",
          "dash": "solid",
          "shape": "linear",
          "width": 1.3
         },
         "mode": "lines",
         "name": "07_04_2021_13_19_55",
         "text": "",
         "type": "scatter",
         "x": [
          "2019-04-02",
          "2019-04-03",
          "2019-04-04",
          "2019-04-05",
          "2019-04-06",
          "2019-04-07",
          "2019-04-08",
          "2019-04-09",
          "2019-04-10",
          "2019-04-11",
          "2019-04-12",
          "2019-04-13",
          "2019-04-14",
          "2019-04-15",
          "2019-04-16",
          "2019-04-17",
          "2019-04-18",
          "2019-04-19",
          "2019-04-20",
          "2019-04-21",
          "2019-04-22",
          "2019-04-23",
          "2019-04-24",
          "2019-04-25",
          "2019-04-26",
          "2019-04-27",
          "2019-04-28",
          "2019-04-29",
          "2019-04-30",
          "2019-05-01",
          "2019-05-02",
          "2019-05-03",
          "2019-05-04",
          "2019-05-05",
          "2019-05-06",
          "2019-05-07",
          "2019-05-08",
          "2019-05-09",
          "2019-05-10",
          "2019-05-11",
          "2019-05-12",
          "2019-05-13",
          "2019-05-14",
          "2019-05-15",
          "2019-05-16",
          "2019-05-17",
          "2019-05-18",
          "2019-05-19",
          "2019-05-20",
          "2019-05-21",
          "2019-05-22",
          "2019-05-23",
          "2019-05-24",
          "2019-05-25",
          "2019-05-26",
          "2019-05-27",
          "2019-05-28",
          "2019-05-29",
          "2019-05-30",
          "2019-05-31",
          "2019-06-01",
          "2019-06-02",
          "2019-06-03",
          "2019-06-04",
          "2019-06-05",
          "2019-06-06",
          "2019-06-07",
          "2019-06-08",
          "2019-06-09",
          "2019-06-10",
          "2019-06-11",
          "2019-06-12",
          "2019-06-13",
          "2019-06-14",
          "2019-06-15",
          "2019-06-16",
          "2019-06-17",
          "2019-06-18",
          "2019-06-19",
          "2019-06-20",
          "2019-06-21",
          "2019-06-22",
          "2019-06-23",
          "2019-06-24",
          "2019-06-25",
          "2019-06-26",
          "2019-06-27",
          "2019-06-28",
          "2019-06-29",
          "2019-06-30",
          "2019-07-01",
          "2019-07-02",
          "2019-07-03",
          "2019-07-04",
          "2019-07-05",
          "2019-07-06",
          "2019-07-07",
          "2019-07-08",
          "2019-07-09",
          "2019-07-10",
          "2019-07-11",
          "2019-07-12",
          "2019-07-13",
          "2019-07-14",
          "2019-07-15",
          "2019-07-16",
          "2019-07-17",
          "2019-07-18",
          "2019-07-19",
          "2019-07-20",
          "2019-07-21",
          "2019-07-22",
          "2019-07-23",
          "2019-07-24",
          "2019-07-25",
          "2019-07-26",
          "2019-07-27",
          "2019-07-28",
          "2019-07-29",
          "2019-07-30",
          "2019-07-31",
          "2019-08-01",
          "2019-08-02",
          "2019-08-03",
          "2019-08-04",
          "2019-08-05",
          "2019-08-06",
          "2019-08-07",
          "2019-08-08",
          "2019-08-09",
          "2019-08-10",
          "2019-08-11",
          "2019-08-12",
          "2019-08-13",
          "2019-08-14",
          "2019-08-15",
          "2019-08-16",
          "2019-08-17",
          "2019-08-18",
          "2019-08-19",
          "2019-08-20",
          "2019-08-21",
          "2019-08-22",
          "2019-08-23",
          "2019-08-24",
          "2019-08-25",
          "2019-08-26",
          "2019-08-27",
          "2019-08-28",
          "2019-08-29",
          "2019-08-30",
          "2019-08-31",
          "2019-09-01",
          "2019-09-02",
          "2019-09-03",
          "2019-09-04",
          "2019-09-05",
          "2019-09-06",
          "2019-09-07",
          "2019-09-08",
          "2019-09-09",
          "2019-09-10",
          "2019-09-11",
          "2019-09-12",
          "2019-09-13",
          "2019-09-14",
          "2019-09-15",
          "2019-09-16",
          "2019-09-17",
          "2019-09-18",
          "2019-09-19",
          "2019-09-20",
          "2019-09-21",
          "2019-09-22",
          "2019-09-23",
          "2019-09-24",
          "2019-09-25",
          "2019-09-26",
          "2019-09-27",
          "2019-09-28",
          "2019-09-29",
          "2019-09-30",
          "2019-10-01",
          "2019-10-02",
          "2019-10-03",
          "2019-10-04",
          "2019-10-05",
          "2019-10-06",
          "2019-10-07",
          "2019-10-08",
          "2019-10-09",
          "2019-10-10",
          "2019-10-11",
          "2019-10-12",
          "2019-10-13",
          "2019-10-14",
          "2019-10-15",
          "2019-10-16",
          "2019-10-17",
          "2019-10-18",
          "2019-10-19",
          "2019-10-20",
          "2019-10-21",
          "2019-10-22",
          "2019-10-23",
          "2019-10-24",
          "2019-10-25",
          "2019-10-26",
          "2019-10-27",
          "2019-10-28",
          "2019-10-29",
          "2019-10-30",
          "2019-10-31",
          "2019-11-01",
          "2019-11-02",
          "2019-11-03",
          "2019-11-04",
          "2019-11-05",
          "2019-11-06",
          "2019-11-07",
          "2019-11-08",
          "2019-11-09",
          "2019-11-10",
          "2019-11-11",
          "2019-11-12",
          "2019-11-13",
          "2019-11-14",
          "2019-11-15",
          "2019-11-16",
          "2019-11-17",
          "2019-11-18",
          "2019-11-19",
          "2019-11-20",
          "2019-11-21",
          "2019-11-22",
          "2019-11-23",
          "2019-11-24",
          "2019-11-25",
          "2019-11-26",
          "2019-11-27",
          "2019-11-28",
          "2019-11-29",
          "2019-11-30",
          "2019-12-01",
          "2019-12-02",
          "2019-12-03",
          "2019-12-04",
          "2019-12-05",
          "2019-12-06",
          "2019-12-07",
          "2019-12-08",
          "2019-12-09",
          "2019-12-10",
          "2019-12-11",
          "2019-12-12",
          "2019-12-13",
          "2019-12-14",
          "2019-12-15",
          "2019-12-16",
          "2019-12-17",
          "2019-12-18",
          "2019-12-19",
          "2019-12-20",
          "2019-12-21",
          "2019-12-22",
          "2019-12-23",
          "2019-12-24",
          "2019-12-25",
          "2019-12-26",
          "2019-12-27",
          "2019-12-28",
          "2019-12-29",
          "2019-12-30",
          "2019-12-31",
          "2020-01-01",
          "2020-01-02",
          "2020-01-03",
          "2020-01-04",
          "2020-01-05",
          "2020-01-06",
          "2020-01-07",
          "2020-01-08",
          "2020-01-09",
          "2020-01-10",
          "2020-01-11",
          "2020-01-12",
          "2020-01-13",
          "2020-01-14",
          "2020-01-15",
          "2020-01-16",
          "2020-01-17",
          "2020-01-18",
          "2020-01-19",
          "2020-01-20",
          "2020-01-21",
          "2020-01-22",
          "2020-01-23",
          "2020-01-24",
          "2020-01-25",
          "2020-01-26",
          "2020-01-27",
          "2020-01-28",
          "2020-01-29",
          "2020-01-30",
          "2020-01-31",
          "2020-02-01",
          "2020-02-02",
          "2020-02-03",
          "2020-02-04",
          "2020-02-05",
          "2020-02-06",
          "2020-02-07",
          "2020-02-08",
          "2020-02-09",
          "2020-02-10",
          "2020-02-11",
          "2020-02-12",
          "2020-02-13",
          "2020-02-14",
          "2020-02-15",
          "2020-02-16",
          "2020-02-17",
          "2020-02-18",
          "2020-02-19",
          "2020-02-20",
          "2020-02-21",
          "2020-02-22",
          "2020-02-23",
          "2020-02-24",
          "2020-02-25",
          "2020-02-26",
          "2020-02-27",
          "2020-02-28",
          "2020-02-29",
          "2020-03-01",
          "2020-03-02",
          "2020-03-03",
          "2020-03-04",
          "2020-03-05",
          "2020-03-06",
          "2020-03-07",
          "2020-03-08",
          "2020-03-09",
          "2020-03-10",
          "2020-03-11",
          "2020-03-12",
          "2020-03-13",
          "2020-03-14",
          "2020-03-15",
          "2020-03-16",
          "2020-03-17",
          "2020-03-18",
          "2020-03-19",
          "2020-03-20",
          "2020-03-21",
          "2020-03-22",
          "2020-03-23",
          "2020-03-24",
          "2020-03-25",
          "2020-03-26",
          "2020-03-27",
          "2020-03-28",
          "2020-03-29",
          "2020-03-30"
         ],
         "y": [
          201490.69992504234,
          201828.6691145264,
          201812.8030545111,
          199797.173976431,
          191218.08337417006,
          170892.66263468572,
          195311.386477131,
          202006.34003577047,
          202636.79566448182,
          202939.0974730038,
          201212.26988299596,
          192854.49189126588,
          172526.50428528123,
          197468.4335609588,
          202887.75591501917,
          196867.29865023564,
          179116.73930240682,
          159907.89654101754,
          166973.1421664857,
          160377.0241858082,
          196492.28620101287,
          206061.04176380264,
          207619.75272534532,
          207928.83940323934,
          206112.8127634493,
          197605.156780385,
          177012.75122189327,
          203231.25622607738,
          209689.68790033535,
          189610.67801574036,
          208407.0436348383,
          206421.04209732063,
          197883.07617826512,
          177349.13088188862,
          203247.2710387405,
          209517.7011779526,
          210221.02515981576,
          210371.59387571804,
          208428.8000586308,
          200247.99601564003,
          179822.80756496653,
          205919.92989662715,
          212151.5952706765,
          212869.0447204352,
          213288.6807777736,
          211756.47297915455,
          203553.6772099742,
          183108.45843322226,
          209199.3896667852,
          215386.41585722033,
          215974.75233517098,
          215981.51813068194,
          213819.89950214018,
          204884.38171726227,
          183704.42882387099,
          209659.6800278671,
          215704.72645869764,
          216043.25168093096,
          215609.43950766601,
          213005.6616674677,
          201461.76375071934,
          180115.04946298993,
          205770.18139656418,
          211119.3221973836,
          211501.01098636902,
          210953.32357268868,
          208532.6968006292,
          199459.6821514202,
          178127.0871144316,
          202829.2235446074,
          207951.71380226538,
          208060.02476841665,
          207309.22025725062,
          204627.7975862973,
          195444.0052257073,
          174135.39997115242,
          197739.34248370474,
          203095.3723010752,
          202967.44802020752,
          202074.9349249929,
          199456.39388994494,
          190319.29533118915,
          169212.49482648046,
          191499.07991362218,
          197153.93193603778,
          197652.30655496335,
          197369.7390382764,
          195448.09612670416,
          186940.06677115988,
          166609.77125438844,
          184830.79320608272,
          191190.13406693333,
          191851.51425875828,
          192040.64257335267,
          190470.80355167825,
          182066.80880263867,
          161862.01052681598,
          185252.85900576488,
          192064.43816140696,
          192590.8780990758,
          192598.6615015735,
          190987.07369204029,
          182408.95717668312,
          162256.42596609323,
          185954.5628868364,
          192507.10504368975,
          192757.8409130712,
          192371.76636363618,
          190582.24799513258,
          181766.71477536342,
          161424.3058124388,
          184965.9311169739,
          191321.7871263339,
          191639.48068272654,
          191249.159552628,
          189616.96790759437,
          180898.1170930909,
          160579.97916295106,
          184127.44626972845,
          190488.4915566903,
          190968.08339884898,
          196264.30919568104,
          194785.59144658534,
          186306.46296369733,
          166091.46332699186,
          189137.54279159365,
          195728.35772544376,
          196304.66293984253,
          196182.6476487277,
          194847.48855580276,
          186530.72609727326,
          166515.5583527863,
          189685.36504363143,
          196586.93255765023,
          197267.57348156016,
          197119.95093139497,
          195929.2352577953,
          187681.0633671814,
          167476.758939361,
          190671.16035103283,
          197171.14586203615,
          197764.07683051578,
          197491.97656037463,
          196151.2558199665,
          188049.1897445672,
          168066.8373834192,
          191337.22190315175,
          197815.99681345222,
          198818.06177137815,
          198823.7341792545,
          197740.65305593383,
          189554.15754440558,
          164543.93386705485,
          187630.34945260675,
          193868.10065709957,
          194703.45604350985,
          194643.88966905273,
          193414.84794265954,
          185245.97234916966,
          165494.53361460875,
          188806.0451935294,
          195538.0291262728,
          196363.45617861132,
          196230.57456825793,
          194890.2936882454,
          183672.39192220502,
          155140.81640761078,
          161237.7115831418,
          184431.6444705118,
          193777.74257149946,
          196544.23024075164,
          195373.60959915904,
          186972.23635102174,
          166975.63328129056,
          189992.37640840845,
          196073.44507180984,
          196862.55681270652,
          196759.65672473682,
          195252.30624583145,
          186610.42729138563,
          166498.183863698,
          188994.88532373545,
          193244.84340663376,
          194037.4675891422,
          193791.38909463162,
          192458.1750603369,
          184172.21968577683,
          164288.0674812376,
          186827.7417430169,
          192478.27440893085,
          193361.26971348288,
          192755.00471694203,
          190166.60562270912,
          179273.45674803393,
          162274.09294532242,
          186106.87697675725,
          192778.7132225965,
          193756.1334848598,
          193526.7423219815,
          192151.21302595476,
          183815.10493355876,
          164032.95188395257,
          185886.57021207045,
          191873.3380590993,
          193231.42271861076,
          193593.0958730107,
          192702.2596803798,
          184804.67553292337,
          165384.14030372025,
          188051.52875669772,
          194259.07749490626,
          195684.15232639224,
          195560.17039480445,
          195827.3674154659,
          187209.53534623777,
          167477.84614940087,
          189999.56776316575,
          195804.29364463588,
          196493.52844513915,
          195881.59368070276,
          194172.52219214116,
          185242.90237509634,
          165339.18904826054,
          186848.21789392337,
          192660.8999717183,
          193362.73071445973,
          193061.78601445112,
          192130.41999228124,
          182794.38970874922,
          160063.26555968827,
          174607.35432115398,
          187553.19651021107,
          192374.4588131668,
          193589.42172012464,
          192327.4066735431,
          183615.78023240983,
          164098.6058804257,
          185442.07006143223,
          191576.74371665006,
          192291.12326477308,
          191922.54343228848,
          190489.48651335225,
          181871.92514775204,
          164773.0437588292,
          185959.29162036147,
          192021.77999527447,
          192678.80095845653,
          192415.18611449876,
          190924.97188275532,
          182275.63973460623,
          163110.82485647246,
          185001.9487973608,
          190273.37452315193,
          187100.56833794265,
          178393.77843397507,
          185136.8221418941,
          180433.675112865,
          162325.13278895314,
          183863.5461253491,
          189886.72158959322,
          190453.6107317884,
          190021.5531293413,
          188401.23548420522,
          179800.46551827915,
          160899.34061795578,
          176644.104129669,
          165704.7575866998,
          133754.96719510615,
          166465.53248683122,
          181485.10462038597,
          178673.95101092654,
          159803.13905617243,
          172854.70863188637,
          158045.35629327255,
          143688.36629518657,
          164734.6257445387,
          174323.95513397898,
          169629.37409014636,
          150969.87507957095,
          173321.0640468714,
          182391.71675736844,
          187744.3569500199,
          191980.98718283823,
          190382.93568989256,
          181737.9220750828,
          162075.86039100733,
          184134.84439382996,
          191000.1219959327,
          192020.85425786677,
          191988.0934033306,
          190908.87051950252,
          182629.92534987288,
          163229.33633696096,
          186041.7969206835,
          193365.36473740864,
          194466.92820768486,
          194141.5732291059,
          192674.4022278918,
          184108.2567581252,
          164297.56772080457,
          187111.56743971445,
          193914.3270705076,
          195045.41215211796,
          195063.00643594307,
          194165.42503965116,
          183029.43019491635,
          159024.6023128263,
          168019.34562424442,
          186606.3275304933,
          193971.0676881346,
          196208.1815298914,
          195205.23159761252,
          186834.5779576819,
          166067.00459329307,
          191583.72746998156,
          198458.43177538368,
          199856.8878523881,
          200096.69261740302,
          198999.77163250616,
          190134.24214016137,
          169809.61220691598,
          194255.90803489846,
          200444.78208762628,
          201162.98816907287,
          200758.5055353413,
          199260.60233321224,
          190402.5851701399,
          170029.77285550465,
          194750.69856999995,
          201685.76116651404,
          202672.49649531682,
          202414.9103114401,
          201099.01952734494,
          192297.66865385696,
          173096.53631269702,
          198132.3899265329,
          204694.11727029659,
          205976.3463592182,
          205900.03610474075,
          204746.37665318538,
          196119.99344865253,
          175165.35851821292,
          200575.70722424053,
          206935.90309468785,
          207973.1765389189,
          207609.38250316965,
          206123.68735090454,
          197250.6110907382,
          172516.59059643876,
          180894.89653742212,
          208218.78736227466,
          209349.00135583093,
          209020.85773916726,
          207526.46903783493,
          198645.1364226164,
          177495.89049192393,
          203212.31672016735,
          209190.5397022616,
          210265.6936629319,
          209832.1027464551,
          208322.876600814,
          199353.31388795443,
          178132.14494162335,
          203959.484879857
         ]
        },
        {
         "line": {
          "color": "rgba(50, 171, 96, 1.0)",
          "dash": "solid",
          "shape": "linear",
          "width": 1.3
         },
         "mode": "lines",
         "name": "07_04_2021_14_00_17",
         "text": "",
         "type": "scatter",
         "x": [
          "2019-04-02",
          "2019-04-03",
          "2019-04-04",
          "2019-04-05",
          "2019-04-06",
          "2019-04-07",
          "2019-04-08",
          "2019-04-09",
          "2019-04-10",
          "2019-04-11",
          "2019-04-12",
          "2019-04-13",
          "2019-04-14",
          "2019-04-15",
          "2019-04-16",
          "2019-04-17",
          "2019-04-18",
          "2019-04-19",
          "2019-04-20",
          "2019-04-21",
          "2019-04-22",
          "2019-04-23",
          "2019-04-24",
          "2019-04-25",
          "2019-04-26",
          "2019-04-27",
          "2019-04-28",
          "2019-04-29",
          "2019-04-30",
          "2019-05-01",
          "2019-05-02",
          "2019-05-03",
          "2019-05-04",
          "2019-05-05",
          "2019-05-06",
          "2019-05-07",
          "2019-05-08",
          "2019-05-09",
          "2019-05-10",
          "2019-05-11",
          "2019-05-12",
          "2019-05-13",
          "2019-05-14",
          "2019-05-15",
          "2019-05-16",
          "2019-05-17",
          "2019-05-18",
          "2019-05-19",
          "2019-05-20",
          "2019-05-21",
          "2019-05-22",
          "2019-05-23",
          "2019-05-24",
          "2019-05-25",
          "2019-05-26",
          "2019-05-27",
          "2019-05-28",
          "2019-05-29",
          "2019-05-30",
          "2019-05-31",
          "2019-06-01",
          "2019-06-02",
          "2019-06-03",
          "2019-06-04",
          "2019-06-05",
          "2019-06-06",
          "2019-06-07",
          "2019-06-08",
          "2019-06-09",
          "2019-06-10",
          "2019-06-11",
          "2019-06-12",
          "2019-06-13",
          "2019-06-14",
          "2019-06-15",
          "2019-06-16",
          "2019-06-17",
          "2019-06-18",
          "2019-06-19",
          "2019-06-20",
          "2019-06-21",
          "2019-06-22",
          "2019-06-23",
          "2019-06-24",
          "2019-06-25",
          "2019-06-26",
          "2019-06-27",
          "2019-06-28",
          "2019-06-29",
          "2019-06-30",
          "2019-07-01",
          "2019-07-02",
          "2019-07-03",
          "2019-07-04",
          "2019-07-05",
          "2019-07-06",
          "2019-07-07",
          "2019-07-08",
          "2019-07-09",
          "2019-07-10",
          "2019-07-11",
          "2019-07-12",
          "2019-07-13",
          "2019-07-14",
          "2019-07-15",
          "2019-07-16",
          "2019-07-17",
          "2019-07-18",
          "2019-07-19",
          "2019-07-20",
          "2019-07-21",
          "2019-07-22",
          "2019-07-23",
          "2019-07-24",
          "2019-07-25",
          "2019-07-26",
          "2019-07-27",
          "2019-07-28",
          "2019-07-29",
          "2019-07-30",
          "2019-07-31",
          "2019-08-01",
          "2019-08-02",
          "2019-08-03",
          "2019-08-04",
          "2019-08-05",
          "2019-08-06",
          "2019-08-07",
          "2019-08-08",
          "2019-08-09",
          "2019-08-10",
          "2019-08-11",
          "2019-08-12",
          "2019-08-13",
          "2019-08-14",
          "2019-08-15",
          "2019-08-16",
          "2019-08-17",
          "2019-08-18",
          "2019-08-19",
          "2019-08-20",
          "2019-08-21",
          "2019-08-22",
          "2019-08-23",
          "2019-08-24",
          "2019-08-25",
          "2019-08-26",
          "2019-08-27",
          "2019-08-28",
          "2019-08-29",
          "2019-08-30",
          "2019-08-31",
          "2019-09-01",
          "2019-09-02",
          "2019-09-03",
          "2019-09-04",
          "2019-09-05",
          "2019-09-06",
          "2019-09-07",
          "2019-09-08",
          "2019-09-09",
          "2019-09-10",
          "2019-09-11",
          "2019-09-12",
          "2019-09-13",
          "2019-09-14",
          "2019-09-15",
          "2019-09-16",
          "2019-09-17",
          "2019-09-18",
          "2019-09-19",
          "2019-09-20",
          "2019-09-21",
          "2019-09-22",
          "2019-09-23",
          "2019-09-24",
          "2019-09-25",
          "2019-09-26",
          "2019-09-27",
          "2019-09-28",
          "2019-09-29",
          "2019-09-30",
          "2019-10-01",
          "2019-10-02",
          "2019-10-03",
          "2019-10-04",
          "2019-10-05",
          "2019-10-06",
          "2019-10-07",
          "2019-10-08",
          "2019-10-09",
          "2019-10-10",
          "2019-10-11",
          "2019-10-12",
          "2019-10-13",
          "2019-10-14",
          "2019-10-15",
          "2019-10-16",
          "2019-10-17",
          "2019-10-18",
          "2019-10-19",
          "2019-10-20",
          "2019-10-21",
          "2019-10-22",
          "2019-10-23",
          "2019-10-24",
          "2019-10-25",
          "2019-10-26",
          "2019-10-27",
          "2019-10-28",
          "2019-10-29",
          "2019-10-30",
          "2019-10-31",
          "2019-11-01",
          "2019-11-02",
          "2019-11-03",
          "2019-11-04",
          "2019-11-05",
          "2019-11-06",
          "2019-11-07",
          "2019-11-08",
          "2019-11-09",
          "2019-11-10",
          "2019-11-11",
          "2019-11-12",
          "2019-11-13",
          "2019-11-14",
          "2019-11-15",
          "2019-11-16",
          "2019-11-17",
          "2019-11-18",
          "2019-11-19",
          "2019-11-20",
          "2019-11-21",
          "2019-11-22",
          "2019-11-23",
          "2019-11-24",
          "2019-11-25",
          "2019-11-26",
          "2019-11-27",
          "2019-11-28",
          "2019-11-29",
          "2019-11-30",
          "2019-12-01",
          "2019-12-02",
          "2019-12-03",
          "2019-12-04",
          "2019-12-05",
          "2019-12-06",
          "2019-12-07",
          "2019-12-08",
          "2019-12-09",
          "2019-12-10",
          "2019-12-11",
          "2019-12-12",
          "2019-12-13",
          "2019-12-14",
          "2019-12-15",
          "2019-12-16",
          "2019-12-17",
          "2019-12-18",
          "2019-12-19",
          "2019-12-20",
          "2019-12-21",
          "2019-12-22",
          "2019-12-23",
          "2019-12-24",
          "2019-12-25",
          "2019-12-26",
          "2019-12-27",
          "2019-12-28",
          "2019-12-29",
          "2019-12-30",
          "2019-12-31",
          "2020-01-01",
          "2020-01-02",
          "2020-01-03",
          "2020-01-04",
          "2020-01-05",
          "2020-01-06",
          "2020-01-07",
          "2020-01-08",
          "2020-01-09",
          "2020-01-10",
          "2020-01-11",
          "2020-01-12",
          "2020-01-13",
          "2020-01-14",
          "2020-01-15",
          "2020-01-16",
          "2020-01-17",
          "2020-01-18",
          "2020-01-19",
          "2020-01-20",
          "2020-01-21",
          "2020-01-22",
          "2020-01-23",
          "2020-01-24",
          "2020-01-25",
          "2020-01-26",
          "2020-01-27",
          "2020-01-28",
          "2020-01-29",
          "2020-01-30",
          "2020-01-31",
          "2020-02-01",
          "2020-02-02",
          "2020-02-03",
          "2020-02-04",
          "2020-02-05",
          "2020-02-06",
          "2020-02-07",
          "2020-02-08",
          "2020-02-09",
          "2020-02-10",
          "2020-02-11",
          "2020-02-12",
          "2020-02-13",
          "2020-02-14",
          "2020-02-15",
          "2020-02-16",
          "2020-02-17",
          "2020-02-18",
          "2020-02-19",
          "2020-02-20",
          "2020-02-21",
          "2020-02-22",
          "2020-02-23",
          "2020-02-24",
          "2020-02-25",
          "2020-02-26",
          "2020-02-27",
          "2020-02-28",
          "2020-02-29",
          "2020-03-01",
          "2020-03-02",
          "2020-03-03",
          "2020-03-04",
          "2020-03-05",
          "2020-03-06",
          "2020-03-07",
          "2020-03-08",
          "2020-03-09",
          "2020-03-10",
          "2020-03-11",
          "2020-03-12",
          "2020-03-13",
          "2020-03-14",
          "2020-03-15",
          "2020-03-16",
          "2020-03-17",
          "2020-03-18",
          "2020-03-19",
          "2020-03-20",
          "2020-03-21",
          "2020-03-22",
          "2020-03-23",
          "2020-03-24",
          "2020-03-25",
          "2020-03-26",
          "2020-03-27",
          "2020-03-28",
          "2020-03-29",
          "2020-03-30"
         ],
         "y": [
          204914.85836473372,
          202698.06976130692,
          203297.02661788778,
          201459.1700563294,
          191261.0080118538,
          163978.46034325325,
          194641.6583385121,
          205095.34502150942,
          204508.7198978915,
          205104.89890070911,
          203316.70918172627,
          192728.4495607235,
          165220.44690096952,
          196520.6350779353,
          204938.65845560766,
          205901.9435480461,
          182619.52317119515,
          150199.73200077165,
          157736.87457125602,
          162354.78339284813,
          198397.61675689777,
          208747.2166616979,
          208802.78552447702,
          208443.42269644627,
          206183.4024279635,
          195074.06426103396,
          171746.85253168936,
          199677.54152216043,
          211314.28274519616,
          185522.23318547104,
          216626.2447017898,
          212212.30460907923,
          200130.5629485391,
          172844.05078122005,
          200612.96676621243,
          209174.90462956938,
          209326.0901505782,
          207953.76720359313,
          190841.47562316398,
          194853.15190677877,
          177969.2956577912,
          205691.0516995452,
          226277.26991649144,
          233830.4859306803,
          231330.99382515723,
          226363.29893016742,
          212297.53302490496,
          186101.8314221974,
          216549.19348662766,
          217763.5860553217,
          219242.74881937547,
          218485.927924039,
          215391.357740478,
          201767.0663942598,
          175241.81434233737,
          207154.91844579176,
          217154.27606958585,
          217995.04411616476,
          219572.5119958627,
          214763.23453239704,
          212057.16667738467,
          188170.795616733,
          219614.41493219853,
          218359.40725612725,
          217463.25965979006,
          216975.44350534576,
          223820.9952376907,
          206298.149529761,
          182648.18058931263,
          211267.97746321154,
          211411.47516270357,
          207329.25958296974,
          210080.72844783435,
          210011.19060201972,
          197245.37332999145,
          174304.9259704565,
          200832.3282273146,
          206457.92218018573,
          205031.64176188246,
          204639.17217583547,
          202874.2076348565,
          192906.3775302056,
          168310.45182948132,
          196094.7225630139,
          202193.7290601146,
          202978.2666251343,
          203485.308175521,
          202569.46415787286,
          195313.52666940077,
          171336.53081095358,
          190140.2098829728,
          194341.4013669369,
          197732.75920479067,
          198960.04571357067,
          199150.13761454533,
          191900.04157191815,
          166819.29034636274,
          194602.63958140847,
          200069.21580942828,
          201904.26789961735,
          203770.1736232367,
          201301.44001283703,
          192765.90515967115,
          168234.70520061787,
          197294.00787450353,
          204143.36770594947,
          203749.36120229898,
          206352.98417462548,
          201722.7526158049,
          193253.9129497625,
          167713.53738978456,
          198660.00758519673,
          202778.324523099,
          201292.03563915926,
          201941.31050937186,
          199128.28326596192,
          192305.482293877,
          164519.03461240354,
          195336.58110282887,
          198004.11692695308,
          196956.19431510154,
          203346.67249207135,
          199788.88888063445,
          191138.60295363367,
          167287.41155729708,
          189692.3581889713,
          199897.6293213771,
          196779.1410572601,
          194153.169598343,
          182651.1010746662,
          181399.33692820653,
          157333.14358416575,
          192443.72977306473,
          199935.8925146942,
          200247.3349860262,
          199577.57719143236,
          197838.31356942136,
          189986.7744485255,
          165747.8446944748,
          192535.8937705128,
          201344.62857752913,
          200125.55879109006,
          200298.24547046228,
          198800.22027482194,
          191154.89446705577,
          167396.57148916987,
          194099.36871567022,
          203665.90529978604,
          201168.78091381403,
          202140.03455720135,
          200607.91587113313,
          191155.59703516678,
          166088.85189757662,
          194065.3546654929,
          200749.94233335706,
          200574.67849155955,
          199833.62170678104,
          198243.02543372384,
          189720.11106141735,
          162477.60338712423,
          191686.9048314642,
          199524.6541253329,
          201239.7380644936,
          199976.97012839688,
          199260.96819989296,
          186720.13690663493,
          156389.56615257636,
          145204.4205023067,
          188678.27530972377,
          196725.73954729913,
          198467.85538473164,
          198301.17486620435,
          187572.23106609014,
          160931.04790192944,
          187063.93974880804,
          193777.81306947986,
          195309.43791414573,
          194258.91552843363,
          196264.29554117852,
          184670.8934178698,
          158706.4051323661,
          183907.68676545375,
          192130.8132650372,
          196178.34587963752,
          196915.60173890588,
          195471.5334535878,
          186054.71978496521,
          157988.81480094683,
          186156.66014092657,
          177639.4261006621,
          181328.96234127702,
          182381.29061243316,
          181345.7097258718,
          179180.58938724012,
          150229.18659490053,
          170155.28151368574,
          192017.47501614495,
          195026.1672655293,
          195573.46464845104,
          192818.43882529894,
          181389.19017152715,
          158235.90768130272,
          182103.4852270657,
          190442.34074656045,
          193594.5406146874,
          194183.65608496306,
          191513.03985188453,
          178867.33546123022,
          156858.9059879163,
          177835.09935110205,
          187315.25840627478,
          190817.9096955523,
          189070.31033426744,
          187356.84672950255,
          176077.4360251567,
          152263.4080406835,
          176890.38507639783,
          188662.023520524,
          192031.80698014778,
          192253.98790015295,
          191459.9179321771,
          178373.89972922247,
          158062.03069741352,
          182180.72340519482,
          193080.69135672983,
          195332.7958474793,
          194096.61266951181,
          190806.04768697897,
          176662.97515229767,
          148811.345349078,
          146838.4070171945,
          180967.5999465033,
          189461.48603408172,
          188909.80185451795,
          187762.11156117707,
          181023.1188311465,
          160036.8556243199,
          183451.28775766114,
          192583.305893607,
          195222.47887665057,
          190537.20551401124,
          187729.44635222314,
          182532.19398876658,
          153932.46071130372,
          180488.42795936498,
          192500.34778364896,
          194270.5897319819,
          195314.97909587322,
          192693.575925676,
          178663.31275237503,
          159233.98817580257,
          184651.10673961157,
          194531.958643314,
          187843.21151884267,
          164527.22209364324,
          186533.95824369308,
          178475.6675109891,
          159700.12417920012,
          183295.20447431397,
          191880.06875067094,
          192668.59505273256,
          189724.07835652732,
          186084.74209270402,
          174966.18962070098,
          155176.11915327344,
          167511.47744010866,
          163541.5249480244,
          113575.99253946583,
          160910.57579876992,
          171862.677631871,
          166521.8728623981,
          149174.61561490106,
          153576.02964236442,
          145906.24408790018,
          110649.08585328306,
          161090.50432999697,
          170688.4617441818,
          163784.78239389835,
          142504.72335368342,
          175158.26153645274,
          190231.82409259025,
          196869.2987084834,
          198977.660615602,
          199000.1341415817,
          188150.75884081467,
          164083.41717773944,
          189119.30903829666,
          205466.51614725412,
          204831.86560890282,
          204080.60613005125,
          201872.23877157544,
          190061.8571437691,
          164874.930211407,
          191855.3625663269,
          197591.92665958573,
          200182.5865772485,
          200013.61336412356,
          199112.77161468344,
          188984.30475227625,
          164244.50806915652,
          188900.91786435232,
          196381.68444382085,
          199887.90349220717,
          199039.09027913757,
          196903.28020817967,
          188100.00583150444,
          160347.16320441716,
          164076.3517383639,
          192736.99301051028,
          203981.2213973604,
          205424.28538779484,
          202672.35150351786,
          193116.07484818742,
          166103.33365293843,
          194005.1799097297,
          201480.292589321,
          204516.44316647062,
          204086.80444310192,
          203699.06012563122,
          193962.07167509178,
          173346.9221542905,
          196014.61323156336,
          199873.581769313,
          200102.8610597063,
          200363.35778937963,
          200122.88892070274,
          191789.68832492555,
          167528.89400595886,
          193061.50201982365,
          208067.92186184827,
          210221.6657742576,
          208889.46957134793,
          208779.19077673234,
          198251.96168992022,
          172239.07935596866,
          202309.57734146534,
          207410.33544411263,
          212221.94395119656,
          212275.3446571708,
          211132.93716004456,
          200254.89007755235,
          171786.5767982908,
          202717.870800262,
          204983.78808715922,
          209560.1946554965,
          205862.40629699852,
          203490.00263463223,
          185992.59983375017,
          157433.8974079763,
          163951.9882094842,
          207089.18364345387,
          214279.36200938319,
          212331.43927726024,
          212665.68886584172,
          200477.35180425234,
          173668.49351541008,
          203034.28756149663,
          205240.62773669732,
          210154.8521906209,
          209257.0475707552,
          209895.4714633175,
          199848.7624590018,
          172793.8380505588,
          198616.09530311998
         ]
        },
        {
         "line": {
          "color": "rgba(128, 0, 128, 1.0)",
          "dash": "solid",
          "shape": "linear",
          "width": 1.3
         },
         "mode": "lines",
         "name": "07_04_2021_14_46_22",
         "text": "",
         "type": "scatter",
         "x": [
          "2019-04-02",
          "2019-04-03",
          "2019-04-04",
          "2019-04-05",
          "2019-04-06",
          "2019-04-07",
          "2019-04-08",
          "2019-04-09",
          "2019-04-10",
          "2019-04-11",
          "2019-04-12",
          "2019-04-13",
          "2019-04-14",
          "2019-04-15",
          "2019-04-16",
          "2019-04-17",
          "2019-04-18",
          "2019-04-19",
          "2019-04-20",
          "2019-04-21",
          "2019-04-22",
          "2019-04-23",
          "2019-04-24",
          "2019-04-25",
          "2019-04-26",
          "2019-04-27",
          "2019-04-28",
          "2019-04-29",
          "2019-04-30",
          "2019-05-01",
          "2019-05-02",
          "2019-05-03",
          "2019-05-04",
          "2019-05-05",
          "2019-05-06",
          "2019-05-07",
          "2019-05-08",
          "2019-05-09",
          "2019-05-10",
          "2019-05-11",
          "2019-05-12",
          "2019-05-13",
          "2019-05-14",
          "2019-05-15",
          "2019-05-16",
          "2019-05-17",
          "2019-05-18",
          "2019-05-19",
          "2019-05-20",
          "2019-05-21",
          "2019-05-22",
          "2019-05-23",
          "2019-05-24",
          "2019-05-25",
          "2019-05-26",
          "2019-05-27",
          "2019-05-28",
          "2019-05-29",
          "2019-05-30",
          "2019-05-31",
          "2019-06-01",
          "2019-06-02",
          "2019-06-03",
          "2019-06-04",
          "2019-06-05",
          "2019-06-06",
          "2019-06-07",
          "2019-06-08",
          "2019-06-09",
          "2019-06-10",
          "2019-06-11",
          "2019-06-12",
          "2019-06-13",
          "2019-06-14",
          "2019-06-15",
          "2019-06-16",
          "2019-06-17",
          "2019-06-18",
          "2019-06-19",
          "2019-06-20",
          "2019-06-21",
          "2019-06-22",
          "2019-06-23",
          "2019-06-24",
          "2019-06-25",
          "2019-06-26",
          "2019-06-27",
          "2019-06-28",
          "2019-06-29",
          "2019-06-30",
          "2019-07-01",
          "2019-07-02",
          "2019-07-03",
          "2019-07-04",
          "2019-07-05",
          "2019-07-06",
          "2019-07-07",
          "2019-07-08",
          "2019-07-09",
          "2019-07-10",
          "2019-07-11",
          "2019-07-12",
          "2019-07-13",
          "2019-07-14",
          "2019-07-15",
          "2019-07-16",
          "2019-07-17",
          "2019-07-18",
          "2019-07-19",
          "2019-07-20",
          "2019-07-21",
          "2019-07-22",
          "2019-07-23",
          "2019-07-24",
          "2019-07-25",
          "2019-07-26",
          "2019-07-27",
          "2019-07-28",
          "2019-07-29",
          "2019-07-30",
          "2019-07-31",
          "2019-08-01",
          "2019-08-02",
          "2019-08-03",
          "2019-08-04",
          "2019-08-05",
          "2019-08-06",
          "2019-08-07",
          "2019-08-08",
          "2019-08-09",
          "2019-08-10",
          "2019-08-11",
          "2019-08-12",
          "2019-08-13",
          "2019-08-14",
          "2019-08-15",
          "2019-08-16",
          "2019-08-17",
          "2019-08-18",
          "2019-08-19",
          "2019-08-20",
          "2019-08-21",
          "2019-08-22",
          "2019-08-23",
          "2019-08-24",
          "2019-08-25",
          "2019-08-26",
          "2019-08-27",
          "2019-08-28",
          "2019-08-29",
          "2019-08-30",
          "2019-08-31",
          "2019-09-01",
          "2019-09-02",
          "2019-09-03",
          "2019-09-04",
          "2019-09-05",
          "2019-09-06",
          "2019-09-07",
          "2019-09-08",
          "2019-09-09",
          "2019-09-10",
          "2019-09-11",
          "2019-09-12",
          "2019-09-13",
          "2019-09-14",
          "2019-09-15",
          "2019-09-16",
          "2019-09-17",
          "2019-09-18",
          "2019-09-19",
          "2019-09-20",
          "2019-09-21",
          "2019-09-22",
          "2019-09-23",
          "2019-09-24",
          "2019-09-25",
          "2019-09-26",
          "2019-09-27",
          "2019-09-28",
          "2019-09-29",
          "2019-09-30",
          "2019-10-01",
          "2019-10-02",
          "2019-10-03",
          "2019-10-04",
          "2019-10-05",
          "2019-10-06",
          "2019-10-07",
          "2019-10-08",
          "2019-10-09",
          "2019-10-10",
          "2019-10-11",
          "2019-10-12",
          "2019-10-13",
          "2019-10-14",
          "2019-10-15",
          "2019-10-16",
          "2019-10-17",
          "2019-10-18",
          "2019-10-19",
          "2019-10-20",
          "2019-10-21",
          "2019-10-22",
          "2019-10-23",
          "2019-10-24",
          "2019-10-25",
          "2019-10-26",
          "2019-10-27",
          "2019-10-28",
          "2019-10-29",
          "2019-10-30",
          "2019-10-31",
          "2019-11-01",
          "2019-11-02",
          "2019-11-03",
          "2019-11-04",
          "2019-11-05",
          "2019-11-06",
          "2019-11-07",
          "2019-11-08",
          "2019-11-09",
          "2019-11-10",
          "2019-11-11",
          "2019-11-12",
          "2019-11-13",
          "2019-11-14",
          "2019-11-15",
          "2019-11-16",
          "2019-11-17",
          "2019-11-18",
          "2019-11-19",
          "2019-11-20",
          "2019-11-21",
          "2019-11-22",
          "2019-11-23",
          "2019-11-24",
          "2019-11-25",
          "2019-11-26",
          "2019-11-27",
          "2019-11-28",
          "2019-11-29",
          "2019-11-30",
          "2019-12-01",
          "2019-12-02",
          "2019-12-03",
          "2019-12-04",
          "2019-12-05",
          "2019-12-06",
          "2019-12-07",
          "2019-12-08",
          "2019-12-09",
          "2019-12-10",
          "2019-12-11",
          "2019-12-12",
          "2019-12-13",
          "2019-12-14",
          "2019-12-15",
          "2019-12-16",
          "2019-12-17",
          "2019-12-18",
          "2019-12-19",
          "2019-12-20",
          "2019-12-21",
          "2019-12-22",
          "2019-12-23",
          "2019-12-24",
          "2019-12-25",
          "2019-12-26",
          "2019-12-27",
          "2019-12-28",
          "2019-12-29",
          "2019-12-30",
          "2019-12-31",
          "2020-01-01",
          "2020-01-02",
          "2020-01-03",
          "2020-01-04",
          "2020-01-05",
          "2020-01-06",
          "2020-01-07",
          "2020-01-08",
          "2020-01-09",
          "2020-01-10",
          "2020-01-11",
          "2020-01-12",
          "2020-01-13",
          "2020-01-14",
          "2020-01-15",
          "2020-01-16",
          "2020-01-17",
          "2020-01-18",
          "2020-01-19",
          "2020-01-20",
          "2020-01-21",
          "2020-01-22",
          "2020-01-23",
          "2020-01-24",
          "2020-01-25",
          "2020-01-26",
          "2020-01-27",
          "2020-01-28",
          "2020-01-29",
          "2020-01-30",
          "2020-01-31",
          "2020-02-01",
          "2020-02-02",
          "2020-02-03",
          "2020-02-04",
          "2020-02-05",
          "2020-02-06",
          "2020-02-07",
          "2020-02-08",
          "2020-02-09",
          "2020-02-10",
          "2020-02-11",
          "2020-02-12",
          "2020-02-13",
          "2020-02-14",
          "2020-02-15",
          "2020-02-16",
          "2020-02-17",
          "2020-02-18",
          "2020-02-19",
          "2020-02-20",
          "2020-02-21",
          "2020-02-22",
          "2020-02-23",
          "2020-02-24",
          "2020-02-25",
          "2020-02-26",
          "2020-02-27",
          "2020-02-28",
          "2020-02-29",
          "2020-03-01",
          "2020-03-02",
          "2020-03-03",
          "2020-03-04",
          "2020-03-05",
          "2020-03-06",
          "2020-03-07",
          "2020-03-08",
          "2020-03-09",
          "2020-03-10",
          "2020-03-11",
          "2020-03-12",
          "2020-03-13",
          "2020-03-14",
          "2020-03-15",
          "2020-03-16",
          "2020-03-17",
          "2020-03-18",
          "2020-03-19",
          "2020-03-20",
          "2020-03-21",
          "2020-03-22",
          "2020-03-23",
          "2020-03-24",
          "2020-03-25",
          "2020-03-26",
          "2020-03-27",
          "2020-03-28",
          "2020-03-29",
          "2020-03-30"
         ],
         "y": [
          204040.06663143824,
          202048.806166432,
          203013.61887054177,
          202290.5176971561,
          189980.96789860522,
          162610.61518906712,
          193521.6754544417,
          204417.5593886241,
          204502.358356061,
          206312.1882151948,
          203773.4757105935,
          193431.55374441334,
          164664.7883161849,
          195769.86472814585,
          199680.90181191295,
          201761.6284861551,
          179784.65285909892,
          149201.20859703168,
          159547.07024611114,
          165757.01760845346,
          191852.77628444834,
          209703.2124883913,
          208411.5053009179,
          208132.7463392855,
          206439.92170816506,
          195104.00506006673,
          171030.1589595765,
          200219.55677051508,
          212338.34788295734,
          186641.7986045097,
          218732.71572179082,
          213531.17762675593,
          200049.22364200567,
          171087.07232636938,
          200005.7093802084,
          208986.75532594288,
          210103.5233562534,
          208448.27981495354,
          184177.6927645272,
          192775.83218761688,
          177318.5535065678,
          204735.94064145867,
          216177.2826846067,
          217837.46520752594,
          220600.20439448592,
          215961.9252304924,
          205556.9777956547,
          178631.59140252328,
          208731.9343177987,
          219657.32182172997,
          218949.41207447427,
          220785.43023262548,
          214155.71040513847,
          200590.2481791483,
          175223.7931661538,
          206808.96136663132,
          217631.59004411133,
          217912.40123439315,
          219010.89286264783,
          212533.13939648122,
          216159.09422148872,
          190196.41923977502,
          222444.83881744585,
          220738.41766700917,
          219174.11122002976,
          219181.5215074456,
          226839.73288314,
          209722.2666038087,
          184978.9163580768,
          214738.4347730692,
          222691.19607423837,
          224167.1590430027,
          219694.18765373694,
          219098.28097813542,
          199291.33106437515,
          175182.75874926648,
          210716.7574219925,
          206067.41721328493,
          204739.51970425915,
          203963.67872428457,
          202343.7629172211,
          192447.53577014044,
          167475.6870710268,
          194944.02895651074,
          201905.6949721983,
          203275.08767253032,
          202784.80809923212,
          203392.97173694128,
          192918.6952721677,
          169748.73960720786,
          190642.75139868888,
          194892.95341539726,
          198758.3875551906,
          200803.97268643996,
          201230.3986885134,
          192299.62046110767,
          167457.92556601955,
          195270.52770195698,
          200189.2924608449,
          202101.71485018893,
          203916.06821736883,
          201214.65488604808,
          192363.033683581,
          168819.61527770868,
          197884.3190288473,
          203937.6910735639,
          204089.86829674817,
          206458.62556487854,
          203082.35458351657,
          192762.67559049564,
          168352.06839532038,
          199904.8813875066,
          203603.5387053151,
          202781.02015278806,
          202864.30482725662,
          199565.96063979555,
          191071.17117719824,
          164333.2262895497,
          196625.39944327436,
          199085.05345362847,
          199070.52165969304,
          205881.64905262034,
          202178.2791873838,
          192809.05897324142,
          166416.87094114354,
          191875.2144117278,
          196425.80654304524,
          197307.1119563082,
          194379.17339223073,
          191120.18937102964,
          183996.94309749798,
          159381.9597056096,
          186319.4597494927,
          194136.74871666753,
          195403.04307307416,
          195136.61954037778,
          191918.1597123567,
          186338.6212114664,
          163457.26280566663,
          185625.87763302532,
          200427.8194271591,
          199256.4016169739,
          199265.39094618635,
          198764.85080713668,
          190942.75630583585,
          167120.01528263744,
          194661.16089784398,
          205942.0644006199,
          200636.91557109242,
          201069.41635371093,
          198967.96344456004,
          187501.31215376762,
          161763.56774092783,
          193129.02567050143,
          199872.57779657136,
          200663.8141609901,
          199118.87896229056,
          199481.84762785267,
          188553.90766433164,
          162030.07194889116,
          191335.69226984517,
          198440.18838924414,
          201484.51885110303,
          198825.01146569618,
          198816.32479377885,
          185254.6969880548,
          153458.30930531773,
          144796.71678948577,
          189055.88107242613,
          197262.6228736595,
          197503.85050580878,
          198695.6765421194,
          187241.74181428645,
          161102.53745329473,
          186148.06298977035,
          192720.3861054057,
          194172.03747148078,
          192456.50182501078,
          194966.3821162556,
          183353.61919239094,
          158334.06239763222,
          183700.6606691831,
          192353.2559212273,
          198297.32060373313,
          198398.1252597681,
          197511.97164722445,
          187385.62896614254,
          158549.68507928128,
          186866.88304122258,
          192917.5475474812,
          196591.90637366407,
          196652.63437925867,
          193386.46739938564,
          198012.39243017943,
          164302.36513556578,
          183566.73572123316,
          191324.9054265243,
          194264.18037821582,
          194736.69946109975,
          193139.76312243013,
          180857.4970763163,
          158411.0714430179,
          180796.6338311069,
          185120.12392702446,
          188122.43723047964,
          187144.0150691152,
          185991.69119043014,
          171711.416466071,
          149298.52319528832,
          172289.52535492997,
          184161.35164344337,
          186004.42266861422,
          183700.7819451078,
          186761.5140365803,
          176371.81732184064,
          152357.71468571745,
          177380.5478814075,
          189328.54241924995,
          192618.34553303302,
          193585.4701244006,
          191069.5775970551,
          177952.75040934485,
          157738.94958790598,
          181583.64292238114,
          192253.0818453616,
          194217.55295042912,
          193676.92420512618,
          189813.9601105385,
          174309.5179123771,
          147799.96858815983,
          143340.67341136246,
          180274.97397854563,
          185194.903312109,
          185130.03830815255,
          173818.82589388313,
          175266.96174606888,
          156406.29297692134,
          181124.63298205365,
          189980.2158525343,
          190967.71364078252,
          186336.36880867218,
          176671.19183128394,
          178246.58932916468,
          152131.19161184083,
          177901.4033562551,
          192414.7542971848,
          194721.01613549632,
          195605.67748241118,
          193734.41411912238,
          179547.78391806,
          160052.01177466012,
          184203.97248718297,
          192623.65126498605,
          185070.86349857738,
          163342.43947691514,
          181297.2378513564,
          174556.65378381877,
          158533.13083197665,
          182702.90963269418,
          192986.15169391094,
          193639.14484503574,
          190724.37604281618,
          188832.4765240624,
          174667.27364110138,
          156402.13821467513,
          169504.98848950758,
          164860.10289826582,
          110527.00467865862,
          158706.15288738106,
          170865.9670654605,
          166749.0076327367,
          148894.5558710673,
          150617.14040808592,
          152084.3967288589,
          109196.57087279025,
          156348.2313727923,
          170587.1259991067,
          162627.69282442235,
          141767.12918007054,
          174908.2566670368,
          191868.6727289831,
          199342.0919848938,
          201814.36316292218,
          204816.29698894185,
          191550.89093453324,
          166688.60792503017,
          192740.70048423405,
          199493.67408589425,
          200075.3951086387,
          199905.7294714581,
          199287.05882579277,
          188632.28659213643,
          163239.2005487498,
          189902.09510614234,
          196963.0185340151,
          198644.79591481513,
          198196.99211407962,
          196388.5691006969,
          187856.04213931845,
          162744.96612788006,
          187992.02350948998,
          194997.38616396242,
          197897.28256852785,
          196600.5018792151,
          195209.54009711448,
          188123.16415468132,
          160832.3460170314,
          162914.01851718317,
          194447.61244500906,
          206222.06787473886,
          208449.2365921462,
          207456.85794805517,
          194772.6188867271,
          171192.17542048352,
          195340.1572859924,
          200400.15048281997,
          202753.7770773778,
          203763.78606083128,
          201973.36154862895,
          192574.45141777853,
          172380.37464504933,
          195616.3921195469,
          205902.21671898724,
          207986.48392093653,
          209297.20434229792,
          209856.3376334947,
          197610.34501222783,
          173069.4743284261,
          198984.64385941843,
          211857.49538416235,
          215146.46548501393,
          214520.4960152208,
          217712.62451006647,
          203255.75512630487,
          177906.6763314241,
          209176.83408696242,
          209081.09147806445,
          211225.25204578871,
          211209.4820546736,
          210846.7615803034,
          199078.54736210618,
          171082.7985667978,
          201591.48048751103,
          204908.5186150081,
          208794.81016045457,
          206916.51238691167,
          204063.3680881557,
          195128.0605513461,
          160926.6422185313,
          162309.371078709,
          211037.2058670771,
          215973.31762935102,
          214646.19246319868,
          215564.60567383017,
          201803.50274618855,
          173889.38656828404,
          206699.9401712912,
          211402.80225851593,
          217952.62312416933,
          217820.20615373104,
          221642.26562731015,
          207163.82218541624,
          180702.3752049719,
          204200.2360138327
         ]
        },
        {
         "line": {
          "color": "rgba(219, 64, 82, 1.0)",
          "dash": "solid",
          "shape": "linear",
          "width": 1.3
         },
         "mode": "lines",
         "name": "07_04_2021_15_32_29",
         "text": "",
         "type": "scatter",
         "x": [
          "2019-04-02",
          "2019-04-03",
          "2019-04-04",
          "2019-04-05",
          "2019-04-06",
          "2019-04-07",
          "2019-04-08",
          "2019-04-09",
          "2019-04-10",
          "2019-04-11",
          "2019-04-12",
          "2019-04-13",
          "2019-04-14",
          "2019-04-15",
          "2019-04-16",
          "2019-04-17",
          "2019-04-18",
          "2019-04-19",
          "2019-04-20",
          "2019-04-21",
          "2019-04-22",
          "2019-04-23",
          "2019-04-24",
          "2019-04-25",
          "2019-04-26",
          "2019-04-27",
          "2019-04-28",
          "2019-04-29",
          "2019-04-30",
          "2019-05-01",
          "2019-05-02",
          "2019-05-03",
          "2019-05-04",
          "2019-05-05",
          "2019-05-06",
          "2019-05-07",
          "2019-05-08",
          "2019-05-09",
          "2019-05-10",
          "2019-05-11",
          "2019-05-12",
          "2019-05-13",
          "2019-05-14",
          "2019-05-15",
          "2019-05-16",
          "2019-05-17",
          "2019-05-18",
          "2019-05-19",
          "2019-05-20",
          "2019-05-21",
          "2019-05-22",
          "2019-05-23",
          "2019-05-24",
          "2019-05-25",
          "2019-05-26",
          "2019-05-27",
          "2019-05-28",
          "2019-05-29",
          "2019-05-30",
          "2019-05-31",
          "2019-06-01",
          "2019-06-02",
          "2019-06-03",
          "2019-06-04",
          "2019-06-05",
          "2019-06-06",
          "2019-06-07",
          "2019-06-08",
          "2019-06-09",
          "2019-06-10",
          "2019-06-11",
          "2019-06-12",
          "2019-06-13",
          "2019-06-14",
          "2019-06-15",
          "2019-06-16",
          "2019-06-17",
          "2019-06-18",
          "2019-06-19",
          "2019-06-20",
          "2019-06-21",
          "2019-06-22",
          "2019-06-23",
          "2019-06-24",
          "2019-06-25",
          "2019-06-26",
          "2019-06-27",
          "2019-06-28",
          "2019-06-29",
          "2019-06-30",
          "2019-07-01",
          "2019-07-02",
          "2019-07-03",
          "2019-07-04",
          "2019-07-05",
          "2019-07-06",
          "2019-07-07",
          "2019-07-08",
          "2019-07-09",
          "2019-07-10",
          "2019-07-11",
          "2019-07-12",
          "2019-07-13",
          "2019-07-14",
          "2019-07-15",
          "2019-07-16",
          "2019-07-17",
          "2019-07-18",
          "2019-07-19",
          "2019-07-20",
          "2019-07-21",
          "2019-07-22",
          "2019-07-23",
          "2019-07-24",
          "2019-07-25",
          "2019-07-26",
          "2019-07-27",
          "2019-07-28",
          "2019-07-29",
          "2019-07-30",
          "2019-07-31",
          "2019-08-01",
          "2019-08-02",
          "2019-08-03",
          "2019-08-04",
          "2019-08-05",
          "2019-08-06",
          "2019-08-07",
          "2019-08-08",
          "2019-08-09",
          "2019-08-10",
          "2019-08-11",
          "2019-08-12",
          "2019-08-13",
          "2019-08-14",
          "2019-08-15",
          "2019-08-16",
          "2019-08-17",
          "2019-08-18",
          "2019-08-19",
          "2019-08-20",
          "2019-08-21",
          "2019-08-22",
          "2019-08-23",
          "2019-08-24",
          "2019-08-25",
          "2019-08-26",
          "2019-08-27",
          "2019-08-28",
          "2019-08-29",
          "2019-08-30",
          "2019-08-31",
          "2019-09-01",
          "2019-09-02",
          "2019-09-03",
          "2019-09-04",
          "2019-09-05",
          "2019-09-06",
          "2019-09-07",
          "2019-09-08",
          "2019-09-09",
          "2019-09-10",
          "2019-09-11",
          "2019-09-12",
          "2019-09-13",
          "2019-09-14",
          "2019-09-15",
          "2019-09-16",
          "2019-09-17",
          "2019-09-18",
          "2019-09-19",
          "2019-09-20",
          "2019-09-21",
          "2019-09-22",
          "2019-09-23",
          "2019-09-24",
          "2019-09-25",
          "2019-09-26",
          "2019-09-27",
          "2019-09-28",
          "2019-09-29",
          "2019-09-30",
          "2019-10-01",
          "2019-10-02",
          "2019-10-03",
          "2019-10-04",
          "2019-10-05",
          "2019-10-06",
          "2019-10-07",
          "2019-10-08",
          "2019-10-09",
          "2019-10-10",
          "2019-10-11",
          "2019-10-12",
          "2019-10-13",
          "2019-10-14",
          "2019-10-15",
          "2019-10-16",
          "2019-10-17",
          "2019-10-18",
          "2019-10-19",
          "2019-10-20",
          "2019-10-21",
          "2019-10-22",
          "2019-10-23",
          "2019-10-24",
          "2019-10-25",
          "2019-10-26",
          "2019-10-27",
          "2019-10-28",
          "2019-10-29",
          "2019-10-30",
          "2019-10-31",
          "2019-11-01",
          "2019-11-02",
          "2019-11-03",
          "2019-11-04",
          "2019-11-05",
          "2019-11-06",
          "2019-11-07",
          "2019-11-08",
          "2019-11-09",
          "2019-11-10",
          "2019-11-11",
          "2019-11-12",
          "2019-11-13",
          "2019-11-14",
          "2019-11-15",
          "2019-11-16",
          "2019-11-17",
          "2019-11-18",
          "2019-11-19",
          "2019-11-20",
          "2019-11-21",
          "2019-11-22",
          "2019-11-23",
          "2019-11-24",
          "2019-11-25",
          "2019-11-26",
          "2019-11-27",
          "2019-11-28",
          "2019-11-29",
          "2019-11-30",
          "2019-12-01",
          "2019-12-02",
          "2019-12-03",
          "2019-12-04",
          "2019-12-05",
          "2019-12-06",
          "2019-12-07",
          "2019-12-08",
          "2019-12-09",
          "2019-12-10",
          "2019-12-11",
          "2019-12-12",
          "2019-12-13",
          "2019-12-14",
          "2019-12-15",
          "2019-12-16",
          "2019-12-17",
          "2019-12-18",
          "2019-12-19",
          "2019-12-20",
          "2019-12-21",
          "2019-12-22",
          "2019-12-23",
          "2019-12-24",
          "2019-12-25",
          "2019-12-26",
          "2019-12-27",
          "2019-12-28",
          "2019-12-29",
          "2019-12-30",
          "2019-12-31",
          "2020-01-01",
          "2020-01-02",
          "2020-01-03",
          "2020-01-04",
          "2020-01-05",
          "2020-01-06",
          "2020-01-07",
          "2020-01-08",
          "2020-01-09",
          "2020-01-10",
          "2020-01-11",
          "2020-01-12",
          "2020-01-13",
          "2020-01-14",
          "2020-01-15",
          "2020-01-16",
          "2020-01-17",
          "2020-01-18",
          "2020-01-19",
          "2020-01-20",
          "2020-01-21",
          "2020-01-22",
          "2020-01-23",
          "2020-01-24",
          "2020-01-25",
          "2020-01-26",
          "2020-01-27",
          "2020-01-28",
          "2020-01-29",
          "2020-01-30",
          "2020-01-31",
          "2020-02-01",
          "2020-02-02",
          "2020-02-03",
          "2020-02-04",
          "2020-02-05",
          "2020-02-06",
          "2020-02-07",
          "2020-02-08",
          "2020-02-09",
          "2020-02-10",
          "2020-02-11",
          "2020-02-12",
          "2020-02-13",
          "2020-02-14",
          "2020-02-15",
          "2020-02-16",
          "2020-02-17",
          "2020-02-18",
          "2020-02-19",
          "2020-02-20",
          "2020-02-21",
          "2020-02-22",
          "2020-02-23",
          "2020-02-24",
          "2020-02-25",
          "2020-02-26",
          "2020-02-27",
          "2020-02-28",
          "2020-02-29",
          "2020-03-01",
          "2020-03-02",
          "2020-03-03",
          "2020-03-04",
          "2020-03-05",
          "2020-03-06",
          "2020-03-07",
          "2020-03-08",
          "2020-03-09",
          "2020-03-10",
          "2020-03-11",
          "2020-03-12",
          "2020-03-13",
          "2020-03-14",
          "2020-03-15",
          "2020-03-16",
          "2020-03-17",
          "2020-03-18",
          "2020-03-19",
          "2020-03-20",
          "2020-03-21",
          "2020-03-22",
          "2020-03-23",
          "2020-03-24",
          "2020-03-25",
          "2020-03-26",
          "2020-03-27",
          "2020-03-28",
          "2020-03-29",
          "2020-03-30"
         ],
         "y": [
          209533.67478582563,
          212638.76766872843,
          215130.97111734957,
          213804.68250500294,
          201228.06088687852,
          167806.08780738106,
          197748.3088237794,
          206627.82980244776,
          208143.0334453426,
          210989.2840283195,
          212112.79851628185,
          200164.81084773978,
          168074.31344120105,
          199459.8632381048,
          210444.67256554196,
          210305.6971931818,
          183923.15784199297,
          164487.3085067536,
          177062.15295582474,
          182743.36738560276,
          207559.47050512777,
          212703.2450424075,
          202919.831262878,
          195948.76901048105,
          171364.37061418002,
          134661.4227574848,
          67380.7453588904,
          195615.15520846788,
          195052.1511830122,
          176964.4221242751,
          193631.2816296906,
          157633.67752494445,
          143720.56923356658,
          93909.7288146721,
          181389.01240099873,
          193999.19431967937,
          183051.50159435783,
          180336.2982574977,
          147838.93361499932,
          137661.05815953526,
          89427.66822286547,
          188401.93217590635,
          232377.72509840492,
          241573.16518614086,
          249608.13943710615,
          275945.2410101106,
          243183.49515043752,
          218168.948742178,
          228471.15062032023,
          288469.9793924026,
          296272.45683351427,
          305380.5959912402,
          328031.046235213,
          286009.9798283751,
          260432.68062618698,
          273417.0793232428,
          226919.16876941823,
          230364.62428796876,
          233407.65870736935,
          219120.8952996805,
          236822.3975876915,
          204270.50273004742,
          237443.9267814322,
          283418.4392305669,
          288713.6002835556,
          298222.7494179115,
          332300.39842998964,
          333609.0752950384,
          339813.9082490394,
          266744.7400893783,
          221555.14351028536,
          214956.22396881733,
          216652.92779427776,
          219800.09108069635,
          206087.47722431034,
          182038.5256804625,
          211290.80929187607,
          209823.29581257497,
          207316.38595509043,
          205548.59569749687,
          210304.05175425313,
          196426.84800650954,
          176185.1783072963,
          199269.2587638597,
          206558.8815736336,
          204091.64834350362,
          205811.0608083309,
          208038.3910001619,
          194035.40620033717,
          172239.18923804857,
          202400.27792598918,
          208205.65987332875,
          208387.30620522963,
          214965.3480395924,
          216168.1786773342,
          204369.4234192294,
          181208.82048013463,
          206525.97818186157,
          219476.68815459806,
          225326.8766521948,
          235168.27325331766,
          260573.72268303664,
          269977.5168773065,
          283983.0862315027,
          220050.0357325433,
          256580.0972954004,
          289072.7195952469,
          264026.7610458258,
          248296.3149814095,
          218194.89624757145,
          190958.51876701968,
          230024.00298176482,
          163751.80821627413,
          135857.05406321667,
          163916.2285944666,
          185819.7052825648,
          199142.66162081782,
          201542.3679312835,
          176098.98071734243,
          273122.79326572747,
          249003.8125096446,
          258436.5694181202,
          247663.42958117547,
          223827.705640758,
          196612.9910503914,
          237900.95467710562,
          147626.01478310625,
          174650.5461093638,
          172319.36171411385,
          181412.72340789402,
          187120.83095215488,
          167035.89475953323,
          180680.29562465296,
          202607.01382036784,
          200688.15373892259,
          200398.45335059884,
          199463.94867509414,
          189876.14166356332,
          166056.80222258426,
          193304.7345821584,
          240149.25355672574,
          266882.25405079435,
          245336.3489439762,
          230560.12569681733,
          208460.80295946365,
          183087.43621942127,
          217644.54758920136,
          208020.27419760628,
          205961.2247882446,
          208588.46170214284,
          205528.8586314454,
          195198.0720183438,
          156992.08072556628,
          185821.86840827568,
          200835.63633772393,
          199419.8258125472,
          198585.96546704546,
          194064.8601862366,
          186162.89555169217,
          162967.45450899407,
          192697.1126361196,
          199186.3759250852,
          203018.1621372047,
          201124.8324847695,
          200056.3242598848,
          186309.27496296202,
          158028.79475773074,
          161863.70456869475,
          171967.34990492626,
          172593.80448438536,
          170170.1840929345,
          149209.9679527542,
          155204.70681529708,
          130260.54827385978,
          172304.54040568307,
          195593.52783822452,
          195817.8297319783,
          195720.3488117298,
          197115.39393458315,
          185678.169522715,
          162492.62735190333,
          187584.52033909064,
          201108.7901686623,
          204231.41264266148,
          207929.98157747294,
          207161.02556174117,
          194547.81868094153,
          164508.03392149805,
          194755.33052141138,
          196980.69273932526,
          199013.37865394578,
          201773.59786706386,
          198725.6622177689,
          196723.9507156988,
          167076.63160873097,
          188749.16829683416,
          196009.71558813113,
          197650.44908233715,
          197676.28812509892,
          199261.65657624096,
          184961.77357292874,
          161448.2684195375,
          185953.71489760568,
          193165.02547285048,
          195845.0492575947,
          194531.38465708177,
          191639.88420315157,
          176754.2318787869,
          157302.6906826632,
          179718.461070486,
          190782.067930009,
          190961.25425523112,
          188710.67976533555,
          196010.26237285158,
          184489.37101729968,
          161189.64622651192,
          190063.8519816343,
          220352.07071334205,
          240090.44856875186,
          225897.8849845144,
          209790.32568967962,
          188193.19244246004,
          163697.11923590727,
          193593.39019245323,
          181466.81974847696,
          172858.06568871523,
          181400.92660401054,
          179524.9123379322,
          172195.11043156468,
          150452.18301226015,
          147958.90936823539,
          170945.5463722189,
          165423.92641929022,
          177458.58764291278,
          177568.28358917445,
          174273.91978651614,
          154301.7644731823,
          178510.66011313247,
          197943.83138678226,
          197885.80763888705,
          196249.9940227396,
          189866.59299401255,
          183533.6579696391,
          157432.98427975026,
          176287.2426442978,
          223517.44736585548,
          258772.3921844974,
          233481.08914431845,
          218621.63387380744,
          191116.90638739374,
          167964.93486541882,
          199479.35401670536,
          195960.75697736724,
          186102.8751871145,
          166666.93862196058,
          183576.64554035023,
          173399.853424094,
          159821.50650961918,
          186464.83870722412,
          196253.0590325183,
          195737.12003744976,
          191082.18582548876,
          187304.24754033546,
          175433.3389653948,
          158928.8187116328,
          174712.56789348423,
          134881.02556553335,
          103323.12316438612,
          150045.8665405751,
          182148.78196784816,
          202339.63086455502,
          180625.5119499296,
          155417.2188509082,
          171375.6711946134,
          112635.39368989291,
          154826.7348616239,
          177814.31935991332,
          173892.28188747703,
          152948.12767738508,
          180282.57282546087,
          194474.98184413047,
          201795.7158874264,
          204787.07522675654,
          202336.94386319516,
          191611.03486864732,
          165551.97034133444,
          195628.01922763325,
          201278.28223434457,
          202389.4257091114,
          200981.31609713953,
          200153.6498378637,
          189968.45557856734,
          163683.80610704774,
          192067.05842284978,
          201382.46548284256,
          201183.77077553963,
          201142.41955888452,
          199669.70117680824,
          188676.8191953168,
          164685.0408470605,
          191288.44988435687,
          199927.6978804342,
          200959.65328965726,
          200429.67781879488,
          198335.26485725777,
          192676.9818539986,
          164073.68912511648,
          167948.0630194084,
          213612.73846441085,
          221078.0892560006,
          229371.2384997781,
          238537.57040211806,
          240872.40865037456,
          254425.05546675037,
          205787.23888456615,
          203643.9815400229,
          207295.45991029058,
          205607.6009757449,
          204671.32581033828,
          193959.71937277087,
          175998.06273584228,
          195868.57701588416,
          278720.22988673113,
          281386.4814412565,
          310775.7788681702,
          270008.22254257277,
          242609.6833969237,
          214932.85657405897,
          244119.4349333873,
          162336.1611736871,
          186098.58609924017,
          185078.23559172504,
          196310.5403305393,
          199285.23125452438,
          172855.58257182848,
          192070.08738081955,
          161578.17658160484,
          185882.8983655586,
          184870.56045047147,
          196315.89558615274,
          198834.16930025123,
          172770.53523022763,
          190470.9301420059,
          209168.90393057885,
          211732.9436747704,
          210082.00268172633,
          210625.4624500052,
          198453.38069379542,
          167032.19622529135,
          164183.8130031508,
          220075.49575035713,
          210797.48123042847,
          213070.05667489642,
          206886.22153557572,
          187154.3908885693,
          161082.15498901028,
          190322.7373641677,
          202196.43496123148,
          208041.29202839287,
          206735.3958189932,
          206205.9948617767,
          195063.9459834457,
          170247.29677317402,
          193548.85833759335
         ]
        }
       ],
       "layout": {
        "legend": {
         "bgcolor": "#F5F6F9",
         "font": {
          "color": "#4D5663"
         }
        },
        "paper_bgcolor": "#F5F6F9",
        "plot_bgcolor": "#F5F6F9",
        "template": {
         "data": {
          "bar": [
           {
            "error_x": {
             "color": "#2a3f5f"
            },
            "error_y": {
             "color": "#2a3f5f"
            },
            "marker": {
             "line": {
              "color": "#E5ECF6",
              "width": 0.5
             }
            },
            "type": "bar"
           }
          ],
          "barpolar": [
           {
            "marker": {
             "line": {
              "color": "#E5ECF6",
              "width": 0.5
             }
            },
            "type": "barpolar"
           }
          ],
          "carpet": [
           {
            "aaxis": {
             "endlinecolor": "#2a3f5f",
             "gridcolor": "white",
             "linecolor": "white",
             "minorgridcolor": "white",
             "startlinecolor": "#2a3f5f"
            },
            "baxis": {
             "endlinecolor": "#2a3f5f",
             "gridcolor": "white",
             "linecolor": "white",
             "minorgridcolor": "white",
             "startlinecolor": "#2a3f5f"
            },
            "type": "carpet"
           }
          ],
          "choropleth": [
           {
            "colorbar": {
             "outlinewidth": 0,
             "ticks": ""
            },
            "type": "choropleth"
           }
          ],
          "contour": [
           {
            "colorbar": {
             "outlinewidth": 0,
             "ticks": ""
            },
            "colorscale": [
             [
              0,
              "#0d0887"
             ],
             [
              0.1111111111111111,
              "#46039f"
             ],
             [
              0.2222222222222222,
              "#7201a8"
             ],
             [
              0.3333333333333333,
              "#9c179e"
             ],
             [
              0.4444444444444444,
              "#bd3786"
             ],
             [
              0.5555555555555556,
              "#d8576b"
             ],
             [
              0.6666666666666666,
              "#ed7953"
             ],
             [
              0.7777777777777778,
              "#fb9f3a"
             ],
             [
              0.8888888888888888,
              "#fdca26"
             ],
             [
              1,
              "#f0f921"
             ]
            ],
            "type": "contour"
           }
          ],
          "contourcarpet": [
           {
            "colorbar": {
             "outlinewidth": 0,
             "ticks": ""
            },
            "type": "contourcarpet"
           }
          ],
          "heatmap": [
           {
            "colorbar": {
             "outlinewidth": 0,
             "ticks": ""
            },
            "colorscale": [
             [
              0,
              "#0d0887"
             ],
             [
              0.1111111111111111,
              "#46039f"
             ],
             [
              0.2222222222222222,
              "#7201a8"
             ],
             [
              0.3333333333333333,
              "#9c179e"
             ],
             [
              0.4444444444444444,
              "#bd3786"
             ],
             [
              0.5555555555555556,
              "#d8576b"
             ],
             [
              0.6666666666666666,
              "#ed7953"
             ],
             [
              0.7777777777777778,
              "#fb9f3a"
             ],
             [
              0.8888888888888888,
              "#fdca26"
             ],
             [
              1,
              "#f0f921"
             ]
            ],
            "type": "heatmap"
           }
          ],
          "heatmapgl": [
           {
            "colorbar": {
             "outlinewidth": 0,
             "ticks": ""
            },
            "colorscale": [
             [
              0,
              "#0d0887"
             ],
             [
              0.1111111111111111,
              "#46039f"
             ],
             [
              0.2222222222222222,
              "#7201a8"
             ],
             [
              0.3333333333333333,
              "#9c179e"
             ],
             [
              0.4444444444444444,
              "#bd3786"
             ],
             [
              0.5555555555555556,
              "#d8576b"
             ],
             [
              0.6666666666666666,
              "#ed7953"
             ],
             [
              0.7777777777777778,
              "#fb9f3a"
             ],
             [
              0.8888888888888888,
              "#fdca26"
             ],
             [
              1,
              "#f0f921"
             ]
            ],
            "type": "heatmapgl"
           }
          ],
          "histogram": [
           {
            "marker": {
             "colorbar": {
              "outlinewidth": 0,
              "ticks": ""
             }
            },
            "type": "histogram"
           }
          ],
          "histogram2d": [
           {
            "colorbar": {
             "outlinewidth": 0,
             "ticks": ""
            },
            "colorscale": [
             [
              0,
              "#0d0887"
             ],
             [
              0.1111111111111111,
              "#46039f"
             ],
             [
              0.2222222222222222,
              "#7201a8"
             ],
             [
              0.3333333333333333,
              "#9c179e"
             ],
             [
              0.4444444444444444,
              "#bd3786"
             ],
             [
              0.5555555555555556,
              "#d8576b"
             ],
             [
              0.6666666666666666,
              "#ed7953"
             ],
             [
              0.7777777777777778,
              "#fb9f3a"
             ],
             [
              0.8888888888888888,
              "#fdca26"
             ],
             [
              1,
              "#f0f921"
             ]
            ],
            "type": "histogram2d"
           }
          ],
          "histogram2dcontour": [
           {
            "colorbar": {
             "outlinewidth": 0,
             "ticks": ""
            },
            "colorscale": [
             [
              0,
              "#0d0887"
             ],
             [
              0.1111111111111111,
              "#46039f"
             ],
             [
              0.2222222222222222,
              "#7201a8"
             ],
             [
              0.3333333333333333,
              "#9c179e"
             ],
             [
              0.4444444444444444,
              "#bd3786"
             ],
             [
              0.5555555555555556,
              "#d8576b"
             ],
             [
              0.6666666666666666,
              "#ed7953"
             ],
             [
              0.7777777777777778,
              "#fb9f3a"
             ],
             [
              0.8888888888888888,
              "#fdca26"
             ],
             [
              1,
              "#f0f921"
             ]
            ],
            "type": "histogram2dcontour"
           }
          ],
          "mesh3d": [
           {
            "colorbar": {
             "outlinewidth": 0,
             "ticks": ""
            },
            "type": "mesh3d"
           }
          ],
          "parcoords": [
           {
            "line": {
             "colorbar": {
              "outlinewidth": 0,
              "ticks": ""
             }
            },
            "type": "parcoords"
           }
          ],
          "scatter": [
           {
            "marker": {
             "colorbar": {
              "outlinewidth": 0,
              "ticks": ""
             }
            },
            "type": "scatter"
           }
          ],
          "scatter3d": [
           {
            "line": {
             "colorbar": {
              "outlinewidth": 0,
              "ticks": ""
             }
            },
            "marker": {
             "colorbar": {
              "outlinewidth": 0,
              "ticks": ""
             }
            },
            "type": "scatter3d"
           }
          ],
          "scattercarpet": [
           {
            "marker": {
             "colorbar": {
              "outlinewidth": 0,
              "ticks": ""
             }
            },
            "type": "scattercarpet"
           }
          ],
          "scattergeo": [
           {
            "marker": {
             "colorbar": {
              "outlinewidth": 0,
              "ticks": ""
             }
            },
            "type": "scattergeo"
           }
          ],
          "scattergl": [
           {
            "marker": {
             "colorbar": {
              "outlinewidth": 0,
              "ticks": ""
             }
            },
            "type": "scattergl"
           }
          ],
          "scattermapbox": [
           {
            "marker": {
             "colorbar": {
              "outlinewidth": 0,
              "ticks": ""
             }
            },
            "type": "scattermapbox"
           }
          ],
          "scatterpolar": [
           {
            "marker": {
             "colorbar": {
              "outlinewidth": 0,
              "ticks": ""
             }
            },
            "type": "scatterpolar"
           }
          ],
          "scatterpolargl": [
           {
            "marker": {
             "colorbar": {
              "outlinewidth": 0,
              "ticks": ""
             }
            },
            "type": "scatterpolargl"
           }
          ],
          "scatterternary": [
           {
            "marker": {
             "colorbar": {
              "outlinewidth": 0,
              "ticks": ""
             }
            },
            "type": "scatterternary"
           }
          ],
          "surface": [
           {
            "colorbar": {
             "outlinewidth": 0,
             "ticks": ""
            },
            "colorscale": [
             [
              0,
              "#0d0887"
             ],
             [
              0.1111111111111111,
              "#46039f"
             ],
             [
              0.2222222222222222,
              "#7201a8"
             ],
             [
              0.3333333333333333,
              "#9c179e"
             ],
             [
              0.4444444444444444,
              "#bd3786"
             ],
             [
              0.5555555555555556,
              "#d8576b"
             ],
             [
              0.6666666666666666,
              "#ed7953"
             ],
             [
              0.7777777777777778,
              "#fb9f3a"
             ],
             [
              0.8888888888888888,
              "#fdca26"
             ],
             [
              1,
              "#f0f921"
             ]
            ],
            "type": "surface"
           }
          ],
          "table": [
           {
            "cells": {
             "fill": {
              "color": "#EBF0F8"
             },
             "line": {
              "color": "white"
             }
            },
            "header": {
             "fill": {
              "color": "#C8D4E3"
             },
             "line": {
              "color": "white"
             }
            },
            "type": "table"
           }
          ]
         },
         "layout": {
          "annotationdefaults": {
           "arrowcolor": "#2a3f5f",
           "arrowhead": 0,
           "arrowwidth": 1
          },
          "colorscale": {
           "diverging": [
            [
             0,
             "#8e0152"
            ],
            [
             0.1,
             "#c51b7d"
            ],
            [
             0.2,
             "#de77ae"
            ],
            [
             0.3,
             "#f1b6da"
            ],
            [
             0.4,
             "#fde0ef"
            ],
            [
             0.5,
             "#f7f7f7"
            ],
            [
             0.6,
             "#e6f5d0"
            ],
            [
             0.7,
             "#b8e186"
            ],
            [
             0.8,
             "#7fbc41"
            ],
            [
             0.9,
             "#4d9221"
            ],
            [
             1,
             "#276419"
            ]
           ],
           "sequential": [
            [
             0,
             "#0d0887"
            ],
            [
             0.1111111111111111,
             "#46039f"
            ],
            [
             0.2222222222222222,
             "#7201a8"
            ],
            [
             0.3333333333333333,
             "#9c179e"
            ],
            [
             0.4444444444444444,
             "#bd3786"
            ],
            [
             0.5555555555555556,
             "#d8576b"
            ],
            [
             0.6666666666666666,
             "#ed7953"
            ],
            [
             0.7777777777777778,
             "#fb9f3a"
            ],
            [
             0.8888888888888888,
             "#fdca26"
            ],
            [
             1,
             "#f0f921"
            ]
           ],
           "sequentialminus": [
            [
             0,
             "#0d0887"
            ],
            [
             0.1111111111111111,
             "#46039f"
            ],
            [
             0.2222222222222222,
             "#7201a8"
            ],
            [
             0.3333333333333333,
             "#9c179e"
            ],
            [
             0.4444444444444444,
             "#bd3786"
            ],
            [
             0.5555555555555556,
             "#d8576b"
            ],
            [
             0.6666666666666666,
             "#ed7953"
            ],
            [
             0.7777777777777778,
             "#fb9f3a"
            ],
            [
             0.8888888888888888,
             "#fdca26"
            ],
            [
             1,
             "#f0f921"
            ]
           ]
          },
          "colorway": [
           "#636efa",
           "#EF553B",
           "#00cc96",
           "#ab63fa",
           "#FFA15A",
           "#19d3f3",
           "#FF6692",
           "#B6E880",
           "#FF97FF",
           "#FECB52"
          ],
          "font": {
           "color": "#2a3f5f"
          },
          "geo": {
           "bgcolor": "white",
           "lakecolor": "white",
           "landcolor": "#E5ECF6",
           "showlakes": true,
           "showland": true,
           "subunitcolor": "white"
          },
          "hoverlabel": {
           "align": "left"
          },
          "hovermode": "closest",
          "mapbox": {
           "style": "light"
          },
          "paper_bgcolor": "white",
          "plot_bgcolor": "#E5ECF6",
          "polar": {
           "angularaxis": {
            "gridcolor": "white",
            "linecolor": "white",
            "ticks": ""
           },
           "bgcolor": "#E5ECF6",
           "radialaxis": {
            "gridcolor": "white",
            "linecolor": "white",
            "ticks": ""
           }
          },
          "scene": {
           "xaxis": {
            "backgroundcolor": "#E5ECF6",
            "gridcolor": "white",
            "gridwidth": 2,
            "linecolor": "white",
            "showbackground": true,
            "ticks": "",
            "zerolinecolor": "white"
           },
           "yaxis": {
            "backgroundcolor": "#E5ECF6",
            "gridcolor": "white",
            "gridwidth": 2,
            "linecolor": "white",
            "showbackground": true,
            "ticks": "",
            "zerolinecolor": "white"
           },
           "zaxis": {
            "backgroundcolor": "#E5ECF6",
            "gridcolor": "white",
            "gridwidth": 2,
            "linecolor": "white",
            "showbackground": true,
            "ticks": "",
            "zerolinecolor": "white"
           }
          },
          "shapedefaults": {
           "line": {
            "color": "#2a3f5f"
           }
          },
          "ternary": {
           "aaxis": {
            "gridcolor": "white",
            "linecolor": "white",
            "ticks": ""
           },
           "baxis": {
            "gridcolor": "white",
            "linecolor": "white",
            "ticks": ""
           },
           "bgcolor": "#E5ECF6",
           "caxis": {
            "gridcolor": "white",
            "linecolor": "white",
            "ticks": ""
           }
          },
          "title": {
           "x": 0.05
          },
          "xaxis": {
           "automargin": true,
           "gridcolor": "white",
           "linecolor": "white",
           "ticks": "",
           "zerolinecolor": "white",
           "zerolinewidth": 2
          },
          "yaxis": {
           "automargin": true,
           "gridcolor": "white",
           "linecolor": "white",
           "ticks": "",
           "zerolinecolor": "white",
           "zerolinewidth": 2
          }
         }
        },
        "title": {
         "font": {
          "color": "#4D5663"
         }
        },
        "xaxis": {
         "gridcolor": "#E1E5ED",
         "showgrid": true,
         "tickfont": {
          "color": "#4D5663"
         },
         "title": {
          "font": {
           "color": "#4D5663"
          },
          "text": ""
         },
         "zerolinecolor": "#E1E5ED"
        },
        "yaxis": {
         "gridcolor": "#E1E5ED",
         "showgrid": true,
         "tickfont": {
          "color": "#4D5663"
         },
         "title": {
          "font": {
           "color": "#4D5663"
          },
          "text": ""
         },
         "zerolinecolor": "#E1E5ED"
        }
       }
      },
      "text/html": [
       "<div>\n",
       "        \n",
       "        \n",
       "            <div id=\"4412370a-369c-497a-884c-2e5c740210b1\" class=\"plotly-graph-div\" style=\"height:525px; width:100%;\"></div>\n",
       "            <script type=\"text/javascript\">\n",
       "                require([\"plotly\"], function(Plotly) {\n",
       "                    window.PLOTLYENV=window.PLOTLYENV || {};\n",
       "                    window.PLOTLYENV.BASE_URL='https://plot.ly';\n",
       "                    \n",
       "                if (document.getElementById(\"4412370a-369c-497a-884c-2e5c740210b1\")) {\n",
       "                    Plotly.newPlot(\n",
       "                        '4412370a-369c-497a-884c-2e5c740210b1',\n",
       "                        [{\"line\": {\"color\": \"rgba(255, 153, 51, 1.0)\", \"dash\": \"solid\", \"shape\": \"linear\", \"width\": 1.3}, \"mode\": \"lines\", \"name\": \"real\", \"text\": \"\", \"type\": \"scatter\", \"x\": [\"2019-04-02\", \"2019-04-03\", \"2019-04-04\", \"2019-04-05\", \"2019-04-06\", \"2019-04-07\", \"2019-04-08\", \"2019-04-09\", \"2019-04-10\", \"2019-04-11\", \"2019-04-12\", \"2019-04-13\", \"2019-04-14\", \"2019-04-15\", \"2019-04-16\", \"2019-04-17\", \"2019-04-18\", \"2019-04-19\", \"2019-04-20\", \"2019-04-21\", \"2019-04-22\", \"2019-04-23\", \"2019-04-24\", \"2019-04-25\", \"2019-04-26\", \"2019-04-27\", \"2019-04-28\", \"2019-04-29\", \"2019-04-30\", \"2019-05-01\", \"2019-05-02\", \"2019-05-03\", \"2019-05-04\", \"2019-05-05\", \"2019-05-06\", \"2019-05-07\", \"2019-05-08\", \"2019-05-09\", \"2019-05-10\", \"2019-05-11\", \"2019-05-12\", \"2019-05-13\", \"2019-05-14\", \"2019-05-15\", \"2019-05-16\", \"2019-05-17\", \"2019-05-18\", \"2019-05-19\", \"2019-05-20\", \"2019-05-21\", \"2019-05-22\", \"2019-05-23\", \"2019-05-24\", \"2019-05-25\", \"2019-05-26\", \"2019-05-27\", \"2019-05-28\", \"2019-05-29\", \"2019-05-30\", \"2019-05-31\", \"2019-06-01\", \"2019-06-02\", \"2019-06-03\", \"2019-06-04\", \"2019-06-05\", \"2019-06-06\", \"2019-06-07\", \"2019-06-08\", \"2019-06-09\", \"2019-06-10\", \"2019-06-11\", \"2019-06-12\", \"2019-06-13\", \"2019-06-14\", \"2019-06-15\", \"2019-06-16\", \"2019-06-17\", \"2019-06-18\", \"2019-06-19\", \"2019-06-20\", \"2019-06-21\", \"2019-06-22\", \"2019-06-23\", \"2019-06-24\", \"2019-06-25\", \"2019-06-26\", \"2019-06-27\", \"2019-06-28\", \"2019-06-29\", \"2019-06-30\", \"2019-07-01\", \"2019-07-02\", \"2019-07-03\", \"2019-07-04\", \"2019-07-05\", \"2019-07-06\", \"2019-07-07\", \"2019-07-08\", \"2019-07-09\", \"2019-07-10\", \"2019-07-11\", \"2019-07-12\", \"2019-07-13\", \"2019-07-14\", \"2019-07-15\", \"2019-07-16\", \"2019-07-17\", \"2019-07-18\", \"2019-07-19\", \"2019-07-20\", \"2019-07-21\", \"2019-07-22\", \"2019-07-23\", \"2019-07-24\", \"2019-07-25\", \"2019-07-26\", \"2019-07-27\", \"2019-07-28\", \"2019-07-29\", \"2019-07-30\", \"2019-07-31\", \"2019-08-01\", \"2019-08-02\", \"2019-08-03\", \"2019-08-04\", \"2019-08-05\", \"2019-08-06\", \"2019-08-07\", \"2019-08-08\", \"2019-08-09\", \"2019-08-10\", \"2019-08-11\", \"2019-08-12\", \"2019-08-13\", \"2019-08-14\", \"2019-08-15\", \"2019-08-16\", \"2019-08-17\", \"2019-08-18\", \"2019-08-19\", \"2019-08-20\", \"2019-08-21\", \"2019-08-22\", \"2019-08-23\", \"2019-08-24\", \"2019-08-25\", \"2019-08-26\", \"2019-08-27\", \"2019-08-28\", \"2019-08-29\", \"2019-08-30\", \"2019-08-31\", \"2019-09-01\", \"2019-09-02\", \"2019-09-03\", \"2019-09-04\", \"2019-09-05\", \"2019-09-06\", \"2019-09-07\", \"2019-09-08\", \"2019-09-09\", \"2019-09-10\", \"2019-09-11\", \"2019-09-12\", \"2019-09-13\", \"2019-09-14\", \"2019-09-15\", \"2019-09-16\", \"2019-09-17\", \"2019-09-18\", \"2019-09-19\", \"2019-09-20\", \"2019-09-21\", \"2019-09-22\", \"2019-09-23\", \"2019-09-24\", \"2019-09-25\", \"2019-09-26\", \"2019-09-27\", \"2019-09-28\", \"2019-09-29\", \"2019-09-30\", \"2019-10-01\", \"2019-10-02\", \"2019-10-03\", \"2019-10-04\", \"2019-10-05\", \"2019-10-06\", \"2019-10-07\", \"2019-10-08\", \"2019-10-09\", \"2019-10-10\", \"2019-10-11\", \"2019-10-12\", \"2019-10-13\", \"2019-10-14\", \"2019-10-15\", \"2019-10-16\", \"2019-10-17\", \"2019-10-18\", \"2019-10-19\", \"2019-10-20\", \"2019-10-21\", \"2019-10-22\", \"2019-10-23\", \"2019-10-24\", \"2019-10-25\", \"2019-10-26\", \"2019-10-27\", \"2019-10-28\", \"2019-10-29\", \"2019-10-30\", \"2019-10-31\", \"2019-11-01\", \"2019-11-02\", \"2019-11-03\", \"2019-11-04\", \"2019-11-05\", \"2019-11-06\", \"2019-11-07\", \"2019-11-08\", \"2019-11-09\", \"2019-11-10\", \"2019-11-11\", \"2019-11-12\", \"2019-11-13\", \"2019-11-14\", \"2019-11-15\", \"2019-11-16\", \"2019-11-17\", \"2019-11-18\", \"2019-11-19\", \"2019-11-20\", \"2019-11-21\", \"2019-11-22\", \"2019-11-23\", \"2019-11-24\", \"2019-11-25\", \"2019-11-26\", \"2019-11-27\", \"2019-11-28\", \"2019-11-29\", \"2019-11-30\", \"2019-12-01\", \"2019-12-02\", \"2019-12-03\", \"2019-12-04\", \"2019-12-05\", \"2019-12-06\", \"2019-12-07\", \"2019-12-08\", \"2019-12-09\", \"2019-12-10\", \"2019-12-11\", \"2019-12-12\", \"2019-12-13\", \"2019-12-14\", \"2019-12-15\", \"2019-12-16\", \"2019-12-17\", \"2019-12-18\", \"2019-12-19\", \"2019-12-20\", \"2019-12-21\", \"2019-12-22\", \"2019-12-23\", \"2019-12-24\", \"2019-12-25\", \"2019-12-26\", \"2019-12-27\", \"2019-12-28\", \"2019-12-29\", \"2019-12-30\", \"2019-12-31\", \"2020-01-01\", \"2020-01-02\", \"2020-01-03\", \"2020-01-04\", \"2020-01-05\", \"2020-01-06\", \"2020-01-07\", \"2020-01-08\", \"2020-01-09\", \"2020-01-10\", \"2020-01-11\", \"2020-01-12\", \"2020-01-13\", \"2020-01-14\", \"2020-01-15\", \"2020-01-16\", \"2020-01-17\", \"2020-01-18\", \"2020-01-19\", \"2020-01-20\", \"2020-01-21\", \"2020-01-22\", \"2020-01-23\", \"2020-01-24\", \"2020-01-25\", \"2020-01-26\", \"2020-01-27\", \"2020-01-28\", \"2020-01-29\", \"2020-01-30\", \"2020-01-31\", \"2020-02-01\", \"2020-02-02\", \"2020-02-03\", \"2020-02-04\", \"2020-02-05\", \"2020-02-06\", \"2020-02-07\", \"2020-02-08\", \"2020-02-09\", \"2020-02-10\", \"2020-02-11\", \"2020-02-12\", \"2020-02-13\", \"2020-02-14\", \"2020-02-15\", \"2020-02-16\", \"2020-02-17\", \"2020-02-18\", \"2020-02-19\", \"2020-02-20\", \"2020-02-21\", \"2020-02-22\", \"2020-02-23\", \"2020-02-24\", \"2020-02-25\", \"2020-02-26\", \"2020-02-27\", \"2020-02-28\", \"2020-02-29\", \"2020-03-01\", \"2020-03-02\", \"2020-03-03\", \"2020-03-04\", \"2020-03-05\", \"2020-03-06\", \"2020-03-07\", \"2020-03-08\", \"2020-03-09\", \"2020-03-10\", \"2020-03-11\", \"2020-03-12\", \"2020-03-13\", \"2020-03-14\", \"2020-03-15\", \"2020-03-16\", \"2020-03-17\", \"2020-03-18\", \"2020-03-19\", \"2020-03-20\", \"2020-03-21\", \"2020-03-22\", \"2020-03-23\", \"2020-03-24\", \"2020-03-25\", \"2020-03-26\", \"2020-03-27\", \"2020-03-28\", \"2020-03-29\", \"2020-03-30\"], \"y\": [207122.4405, 209673.883, 209630.608, 211877.7711357422, 199579.798, 164382.75672412172, 198098.91, 206602.96572962598, 208861.0498082413, 209024.609, 206789.222, 193673.112, 169069.223, 193010.0, 200917.15777472832, 202274.278, 183225.159, 153917.929, 160248.371, 160343.94, 198123.603, 211378.832, 210246.035, 209295.313, 209775.398, 199141.387, 175661.977, 203507.566, 208979.3018291059, 186503.626, 203723.777, 210553.967, 199380.424, 176362.695, 202461.592, 210949.84, 211644.159, 210037.206, 201229.201, 197201.055, 175505.845, 204508.96828426616, 212116.69955164206, 217260.67556218783, 216793.73291693113, 217725.277, 205663.784, 181471.309, 209524.979, 217588.154, 218979.919, 219686.0, 219078.0, 209627.982, 183584.0425017895, 211223.095, 217109.0, 219521.027, 219614.065, 216893.743, 202679.913, 178435.842, 203386.629, 212216.49, 205231.885, 205121.9593386317, 207174.452, 196992.125, 173742.691, 202115.272, 213172.384, 214206.228, 210219.923, 210647.25, 201523.644, 173220.341, 202818.984, 213100.805, 211586.981, 212255.22249000001, 211196.276, 199010.263, 174216.801, 201163.077, 208199.545, 208392.528, 201950.252, 203798.639, 194927.398, 169873.006, 193055.643, 204108.459, 202544.88, 203946.333, 201122.122, 192091.125, 169635.476, 196427.65843207831, 206337.9759943712, 211699.241, 209984.745, 208242.32, 192568.957, 165796.829, 190345.883, 197304.89262820993, 199931.004, 201280.607, 198712.895, 184998.215, 160963.419, 186454.933, 195796.589, 197287.062, 195025.742, 194694.8, 184374.574, 162627.706, 190961.858, 199457.618, 202452.177, 203162.521, 202889.594, 196053.95979999998, 172637.027, 199254.661, 206007.418, 203394.847, 201745.792, 200406.64, 191741.784, 167069.288, 194524.297, 205047.168, 208453.668, 207533.345, 206737.021, 196792.662, 172401.209, 201514.617, 208755.806, 211702.788, 210033.265, 201585.253, 187646.883, 164951.972, 188368.346, 194208.01359781428, 198116.41, 197749.753, 198522.107, 187984.448, 163619.952, 193289.27, 199188.888, 204328.085, 202078.586, 199325.628, 187721.683, 163947.116, 190909.494, 198840.569, 198612.584, 201182.795, 199985.169, 187706.973, 158599.506, 151766.345, 190357.229, 199330.987, 197681.325, 195693.814, 185969.621, 164464.339, 191005.0, 198628.0, 200546.0, 199862.0, 197636.0, 187436.0, 162312.0, 180928.0, 187697.0, 189882.0, 190440.0, 190613.0, 180690.0, 159532.0, 186287.0, 193666.0, 197044.0, 199651.0, 198878.0, 184454.0, 161012.0, 189008.0, 199283.0, 199886.0, 197439.0, 194628.0, 182012.0, 157451.0, 179750.0, 187454.0, 187039.0, 189448.0, 188045.0, 175670.0, 159302.0, 178933.0, 189269.0, 192074.0, 189060.0, 187523.0, 173539.0, 155669.0, 185071.0, 194240.0, 197386.0, 199822.0, 198145.0, 185040.0, 163064.0, 189833.0, 198013.0, 193707.0, 191211.0, 190685.0, 179913.0, 155538.0, 155473.0, 182764.0, 194381.0, 199227.0, 196224.0, 185421.0, 161952.0, 187654.0, 196899.0, 199330.0, 199195.0, 197505.0, 183926.0, 162640.0, 188061.0, 197610.0, 198861.0, 198273.0, 197910.0, 183631.0, 162086.0, 189322.0, 199796.0, 197256.0, 172912.0, 184812.0, 180866.0, 162353.0, 188477.0, 197525.0, 195950.0, 196053.0, 193610.0, 178419.0, 158125.0, 167160.0, 153466.0, 128624.0, 159127.0, 169847.0, 167376.0, 152744.0, 161393.0, 153785.0, 129479.0, 160216.0, 176153.0, 170064.0, 154375.0, 179303.0, 190582.0, 193961.0, 195431.0, 193819.0, 182426.0, 159732.0, 187431.0, 196814.0, 199947.0, 199867.0, 198781.0, 187145.0, 164080.0, 187257.0, 194655.0, 196498.0, 197180.599, 194469.072, 182328.698, 158767.24745535228, 184964.0, 194913.0, 195876.0, 195641.0, 194707.0, 182479.0, 157497.0, 157350.724, 180261.8694747058, 190598.32145057345, 187284.165, 188032.952, 180791.29936200002, 156802.632, 185664.461, 196090.494, 198069.94, 196326.3004968575, 198104.11, 197219.405, 165175.5991363423, 193444.758, 205066.911, 207864.01059883178, 208532.257, 206646.291, 195404.65734338292, 170638.966, 194946.982, 207646.143, 206187.856, 203216.015, 203384.3655258246, 193804.37302020256, 168483.515, 195732.045, 206334.203, 208013.69892374228, 209467.73, 204347.097, 195523.827, 168597.855, 194525.969, 206944.76298956136, 209419.85150708232, 212493.446, 211848.227, 198746.1259198897, 172471.601743114, 172167.1345528299, 196979.657, 209386.045, 207798.931, 205937.07269599594, 197432.10889048717, 171967.55659909293, 197526.498129075, 206724.15, 207132.60167331056, 205825.95295446686, 202961.53843346087, 192610.26960474052, 168345.521, 191108.613]}, {\"line\": {\"color\": \"rgba(55, 128, 191, 1.0)\", \"dash\": \"solid\", \"shape\": \"linear\", \"width\": 1.3}, \"mode\": \"lines\", \"name\": \"07_04_2021_13_19_55\", \"text\": \"\", \"type\": \"scatter\", \"x\": [\"2019-04-02\", \"2019-04-03\", \"2019-04-04\", \"2019-04-05\", \"2019-04-06\", \"2019-04-07\", \"2019-04-08\", \"2019-04-09\", \"2019-04-10\", \"2019-04-11\", \"2019-04-12\", \"2019-04-13\", \"2019-04-14\", \"2019-04-15\", \"2019-04-16\", \"2019-04-17\", \"2019-04-18\", \"2019-04-19\", \"2019-04-20\", \"2019-04-21\", \"2019-04-22\", \"2019-04-23\", \"2019-04-24\", \"2019-04-25\", \"2019-04-26\", \"2019-04-27\", \"2019-04-28\", \"2019-04-29\", \"2019-04-30\", \"2019-05-01\", \"2019-05-02\", \"2019-05-03\", \"2019-05-04\", \"2019-05-05\", \"2019-05-06\", \"2019-05-07\", \"2019-05-08\", \"2019-05-09\", \"2019-05-10\", \"2019-05-11\", \"2019-05-12\", \"2019-05-13\", \"2019-05-14\", \"2019-05-15\", \"2019-05-16\", \"2019-05-17\", \"2019-05-18\", \"2019-05-19\", \"2019-05-20\", \"2019-05-21\", \"2019-05-22\", \"2019-05-23\", \"2019-05-24\", \"2019-05-25\", \"2019-05-26\", \"2019-05-27\", \"2019-05-28\", \"2019-05-29\", \"2019-05-30\", \"2019-05-31\", \"2019-06-01\", \"2019-06-02\", \"2019-06-03\", \"2019-06-04\", \"2019-06-05\", \"2019-06-06\", \"2019-06-07\", \"2019-06-08\", \"2019-06-09\", \"2019-06-10\", \"2019-06-11\", \"2019-06-12\", \"2019-06-13\", \"2019-06-14\", \"2019-06-15\", \"2019-06-16\", \"2019-06-17\", \"2019-06-18\", \"2019-06-19\", \"2019-06-20\", \"2019-06-21\", \"2019-06-22\", \"2019-06-23\", \"2019-06-24\", \"2019-06-25\", \"2019-06-26\", \"2019-06-27\", \"2019-06-28\", \"2019-06-29\", \"2019-06-30\", \"2019-07-01\", \"2019-07-02\", \"2019-07-03\", \"2019-07-04\", \"2019-07-05\", \"2019-07-06\", \"2019-07-07\", \"2019-07-08\", \"2019-07-09\", \"2019-07-10\", \"2019-07-11\", \"2019-07-12\", \"2019-07-13\", \"2019-07-14\", \"2019-07-15\", \"2019-07-16\", \"2019-07-17\", \"2019-07-18\", \"2019-07-19\", \"2019-07-20\", \"2019-07-21\", \"2019-07-22\", \"2019-07-23\", \"2019-07-24\", \"2019-07-25\", \"2019-07-26\", \"2019-07-27\", \"2019-07-28\", \"2019-07-29\", \"2019-07-30\", \"2019-07-31\", \"2019-08-01\", \"2019-08-02\", \"2019-08-03\", \"2019-08-04\", \"2019-08-05\", \"2019-08-06\", \"2019-08-07\", \"2019-08-08\", \"2019-08-09\", \"2019-08-10\", \"2019-08-11\", \"2019-08-12\", \"2019-08-13\", \"2019-08-14\", \"2019-08-15\", \"2019-08-16\", \"2019-08-17\", \"2019-08-18\", \"2019-08-19\", \"2019-08-20\", \"2019-08-21\", \"2019-08-22\", \"2019-08-23\", \"2019-08-24\", \"2019-08-25\", \"2019-08-26\", \"2019-08-27\", \"2019-08-28\", \"2019-08-29\", \"2019-08-30\", \"2019-08-31\", \"2019-09-01\", \"2019-09-02\", \"2019-09-03\", \"2019-09-04\", \"2019-09-05\", \"2019-09-06\", \"2019-09-07\", \"2019-09-08\", \"2019-09-09\", \"2019-09-10\", \"2019-09-11\", \"2019-09-12\", \"2019-09-13\", \"2019-09-14\", \"2019-09-15\", \"2019-09-16\", \"2019-09-17\", \"2019-09-18\", \"2019-09-19\", \"2019-09-20\", \"2019-09-21\", \"2019-09-22\", \"2019-09-23\", \"2019-09-24\", \"2019-09-25\", \"2019-09-26\", \"2019-09-27\", \"2019-09-28\", \"2019-09-29\", \"2019-09-30\", \"2019-10-01\", \"2019-10-02\", \"2019-10-03\", \"2019-10-04\", \"2019-10-05\", \"2019-10-06\", \"2019-10-07\", \"2019-10-08\", \"2019-10-09\", \"2019-10-10\", \"2019-10-11\", \"2019-10-12\", \"2019-10-13\", \"2019-10-14\", \"2019-10-15\", \"2019-10-16\", \"2019-10-17\", \"2019-10-18\", \"2019-10-19\", \"2019-10-20\", \"2019-10-21\", \"2019-10-22\", \"2019-10-23\", \"2019-10-24\", \"2019-10-25\", \"2019-10-26\", \"2019-10-27\", \"2019-10-28\", \"2019-10-29\", \"2019-10-30\", \"2019-10-31\", \"2019-11-01\", \"2019-11-02\", \"2019-11-03\", \"2019-11-04\", \"2019-11-05\", \"2019-11-06\", \"2019-11-07\", \"2019-11-08\", \"2019-11-09\", \"2019-11-10\", \"2019-11-11\", \"2019-11-12\", \"2019-11-13\", \"2019-11-14\", \"2019-11-15\", \"2019-11-16\", \"2019-11-17\", \"2019-11-18\", \"2019-11-19\", \"2019-11-20\", \"2019-11-21\", \"2019-11-22\", \"2019-11-23\", \"2019-11-24\", \"2019-11-25\", \"2019-11-26\", \"2019-11-27\", \"2019-11-28\", \"2019-11-29\", \"2019-11-30\", \"2019-12-01\", \"2019-12-02\", \"2019-12-03\", \"2019-12-04\", \"2019-12-05\", \"2019-12-06\", \"2019-12-07\", \"2019-12-08\", \"2019-12-09\", \"2019-12-10\", \"2019-12-11\", \"2019-12-12\", \"2019-12-13\", \"2019-12-14\", \"2019-12-15\", \"2019-12-16\", \"2019-12-17\", \"2019-12-18\", \"2019-12-19\", \"2019-12-20\", \"2019-12-21\", \"2019-12-22\", \"2019-12-23\", \"2019-12-24\", \"2019-12-25\", \"2019-12-26\", \"2019-12-27\", \"2019-12-28\", \"2019-12-29\", \"2019-12-30\", \"2019-12-31\", \"2020-01-01\", \"2020-01-02\", \"2020-01-03\", \"2020-01-04\", \"2020-01-05\", \"2020-01-06\", \"2020-01-07\", \"2020-01-08\", \"2020-01-09\", \"2020-01-10\", \"2020-01-11\", \"2020-01-12\", \"2020-01-13\", \"2020-01-14\", \"2020-01-15\", \"2020-01-16\", \"2020-01-17\", \"2020-01-18\", \"2020-01-19\", \"2020-01-20\", \"2020-01-21\", \"2020-01-22\", \"2020-01-23\", \"2020-01-24\", \"2020-01-25\", \"2020-01-26\", \"2020-01-27\", \"2020-01-28\", \"2020-01-29\", \"2020-01-30\", \"2020-01-31\", \"2020-02-01\", \"2020-02-02\", \"2020-02-03\", \"2020-02-04\", \"2020-02-05\", \"2020-02-06\", \"2020-02-07\", \"2020-02-08\", \"2020-02-09\", \"2020-02-10\", \"2020-02-11\", \"2020-02-12\", \"2020-02-13\", \"2020-02-14\", \"2020-02-15\", \"2020-02-16\", \"2020-02-17\", \"2020-02-18\", \"2020-02-19\", \"2020-02-20\", \"2020-02-21\", \"2020-02-22\", \"2020-02-23\", \"2020-02-24\", \"2020-02-25\", \"2020-02-26\", \"2020-02-27\", \"2020-02-28\", \"2020-02-29\", \"2020-03-01\", \"2020-03-02\", \"2020-03-03\", \"2020-03-04\", \"2020-03-05\", \"2020-03-06\", \"2020-03-07\", \"2020-03-08\", \"2020-03-09\", \"2020-03-10\", \"2020-03-11\", \"2020-03-12\", \"2020-03-13\", \"2020-03-14\", \"2020-03-15\", \"2020-03-16\", \"2020-03-17\", \"2020-03-18\", \"2020-03-19\", \"2020-03-20\", \"2020-03-21\", \"2020-03-22\", \"2020-03-23\", \"2020-03-24\", \"2020-03-25\", \"2020-03-26\", \"2020-03-27\", \"2020-03-28\", \"2020-03-29\", \"2020-03-30\"], \"y\": [201490.69992504234, 201828.6691145264, 201812.8030545111, 199797.173976431, 191218.08337417006, 170892.66263468572, 195311.386477131, 202006.34003577047, 202636.79566448182, 202939.0974730038, 201212.26988299596, 192854.49189126588, 172526.50428528123, 197468.4335609588, 202887.75591501917, 196867.29865023564, 179116.73930240682, 159907.89654101754, 166973.1421664857, 160377.0241858082, 196492.28620101287, 206061.04176380264, 207619.75272534532, 207928.83940323934, 206112.8127634493, 197605.156780385, 177012.75122189327, 203231.25622607738, 209689.68790033535, 189610.67801574036, 208407.0436348383, 206421.04209732063, 197883.07617826512, 177349.13088188862, 203247.2710387405, 209517.7011779526, 210221.02515981576, 210371.59387571804, 208428.8000586308, 200247.99601564003, 179822.80756496653, 205919.92989662715, 212151.5952706765, 212869.0447204352, 213288.6807777736, 211756.47297915455, 203553.6772099742, 183108.45843322226, 209199.3896667852, 215386.41585722033, 215974.75233517098, 215981.51813068194, 213819.89950214018, 204884.38171726227, 183704.42882387099, 209659.6800278671, 215704.72645869764, 216043.25168093096, 215609.43950766601, 213005.6616674677, 201461.76375071934, 180115.04946298993, 205770.18139656418, 211119.3221973836, 211501.01098636902, 210953.32357268868, 208532.6968006292, 199459.6821514202, 178127.0871144316, 202829.2235446074, 207951.71380226538, 208060.02476841665, 207309.22025725062, 204627.7975862973, 195444.0052257073, 174135.39997115242, 197739.34248370474, 203095.3723010752, 202967.44802020752, 202074.9349249929, 199456.39388994494, 190319.29533118915, 169212.49482648046, 191499.07991362218, 197153.93193603778, 197652.30655496335, 197369.7390382764, 195448.09612670416, 186940.06677115988, 166609.77125438844, 184830.79320608272, 191190.13406693333, 191851.51425875828, 192040.64257335267, 190470.80355167825, 182066.80880263867, 161862.01052681598, 185252.85900576488, 192064.43816140696, 192590.8780990758, 192598.6615015735, 190987.07369204029, 182408.95717668312, 162256.42596609323, 185954.5628868364, 192507.10504368975, 192757.8409130712, 192371.76636363618, 190582.24799513258, 181766.71477536342, 161424.3058124388, 184965.9311169739, 191321.7871263339, 191639.48068272654, 191249.159552628, 189616.96790759437, 180898.1170930909, 160579.97916295106, 184127.44626972845, 190488.4915566903, 190968.08339884898, 196264.30919568104, 194785.59144658534, 186306.46296369733, 166091.46332699186, 189137.54279159365, 195728.35772544376, 196304.66293984253, 196182.6476487277, 194847.48855580276, 186530.72609727326, 166515.5583527863, 189685.36504363143, 196586.93255765023, 197267.57348156016, 197119.95093139497, 195929.2352577953, 187681.0633671814, 167476.758939361, 190671.16035103283, 197171.14586203615, 197764.07683051578, 197491.97656037463, 196151.2558199665, 188049.1897445672, 168066.8373834192, 191337.22190315175, 197815.99681345222, 198818.06177137815, 198823.7341792545, 197740.65305593383, 189554.15754440558, 164543.93386705485, 187630.34945260675, 193868.10065709957, 194703.45604350985, 194643.88966905273, 193414.84794265954, 185245.97234916966, 165494.53361460875, 188806.0451935294, 195538.0291262728, 196363.45617861132, 196230.57456825793, 194890.2936882454, 183672.39192220502, 155140.81640761078, 161237.7115831418, 184431.6444705118, 193777.74257149946, 196544.23024075164, 195373.60959915904, 186972.23635102174, 166975.63328129056, 189992.37640840845, 196073.44507180984, 196862.55681270652, 196759.65672473682, 195252.30624583145, 186610.42729138563, 166498.183863698, 188994.88532373545, 193244.84340663376, 194037.4675891422, 193791.38909463162, 192458.1750603369, 184172.21968577683, 164288.0674812376, 186827.7417430169, 192478.27440893085, 193361.26971348288, 192755.00471694203, 190166.60562270912, 179273.45674803393, 162274.09294532242, 186106.87697675725, 192778.7132225965, 193756.1334848598, 193526.7423219815, 192151.21302595476, 183815.10493355876, 164032.95188395257, 185886.57021207045, 191873.3380590993, 193231.42271861076, 193593.0958730107, 192702.2596803798, 184804.67553292337, 165384.14030372025, 188051.52875669772, 194259.07749490626, 195684.15232639224, 195560.17039480445, 195827.3674154659, 187209.53534623777, 167477.84614940087, 189999.56776316575, 195804.29364463588, 196493.52844513915, 195881.59368070276, 194172.52219214116, 185242.90237509634, 165339.18904826054, 186848.21789392337, 192660.8999717183, 193362.73071445973, 193061.78601445112, 192130.41999228124, 182794.38970874922, 160063.26555968827, 174607.35432115398, 187553.19651021107, 192374.4588131668, 193589.42172012464, 192327.4066735431, 183615.78023240983, 164098.6058804257, 185442.07006143223, 191576.74371665006, 192291.12326477308, 191922.54343228848, 190489.48651335225, 181871.92514775204, 164773.0437588292, 185959.29162036147, 192021.77999527447, 192678.80095845653, 192415.18611449876, 190924.97188275532, 182275.63973460623, 163110.82485647246, 185001.9487973608, 190273.37452315193, 187100.56833794265, 178393.77843397507, 185136.8221418941, 180433.675112865, 162325.13278895314, 183863.5461253491, 189886.72158959322, 190453.6107317884, 190021.5531293413, 188401.23548420522, 179800.46551827915, 160899.34061795578, 176644.104129669, 165704.7575866998, 133754.96719510615, 166465.53248683122, 181485.10462038597, 178673.95101092654, 159803.13905617243, 172854.70863188637, 158045.35629327255, 143688.36629518657, 164734.6257445387, 174323.95513397898, 169629.37409014636, 150969.87507957095, 173321.0640468714, 182391.71675736844, 187744.3569500199, 191980.98718283823, 190382.93568989256, 181737.9220750828, 162075.86039100733, 184134.84439382996, 191000.1219959327, 192020.85425786677, 191988.0934033306, 190908.87051950252, 182629.92534987288, 163229.33633696096, 186041.7969206835, 193365.36473740864, 194466.92820768486, 194141.5732291059, 192674.4022278918, 184108.2567581252, 164297.56772080457, 187111.56743971445, 193914.3270705076, 195045.41215211796, 195063.00643594307, 194165.42503965116, 183029.43019491635, 159024.6023128263, 168019.34562424442, 186606.3275304933, 193971.0676881346, 196208.1815298914, 195205.23159761252, 186834.5779576819, 166067.00459329307, 191583.72746998156, 198458.43177538368, 199856.8878523881, 200096.69261740302, 198999.77163250616, 190134.24214016137, 169809.61220691598, 194255.90803489846, 200444.78208762628, 201162.98816907287, 200758.5055353413, 199260.60233321224, 190402.5851701399, 170029.77285550465, 194750.69856999995, 201685.76116651404, 202672.49649531682, 202414.9103114401, 201099.01952734494, 192297.66865385696, 173096.53631269702, 198132.3899265329, 204694.11727029659, 205976.3463592182, 205900.03610474075, 204746.37665318538, 196119.99344865253, 175165.35851821292, 200575.70722424053, 206935.90309468785, 207973.1765389189, 207609.38250316965, 206123.68735090454, 197250.6110907382, 172516.59059643876, 180894.89653742212, 208218.78736227466, 209349.00135583093, 209020.85773916726, 207526.46903783493, 198645.1364226164, 177495.89049192393, 203212.31672016735, 209190.5397022616, 210265.6936629319, 209832.1027464551, 208322.876600814, 199353.31388795443, 178132.14494162335, 203959.484879857]}, {\"line\": {\"color\": \"rgba(50, 171, 96, 1.0)\", \"dash\": \"solid\", \"shape\": \"linear\", \"width\": 1.3}, \"mode\": \"lines\", \"name\": \"07_04_2021_14_00_17\", \"text\": \"\", \"type\": \"scatter\", \"x\": [\"2019-04-02\", \"2019-04-03\", \"2019-04-04\", \"2019-04-05\", \"2019-04-06\", \"2019-04-07\", \"2019-04-08\", \"2019-04-09\", \"2019-04-10\", \"2019-04-11\", \"2019-04-12\", \"2019-04-13\", \"2019-04-14\", \"2019-04-15\", \"2019-04-16\", \"2019-04-17\", \"2019-04-18\", \"2019-04-19\", \"2019-04-20\", \"2019-04-21\", \"2019-04-22\", \"2019-04-23\", \"2019-04-24\", \"2019-04-25\", \"2019-04-26\", \"2019-04-27\", \"2019-04-28\", \"2019-04-29\", \"2019-04-30\", \"2019-05-01\", \"2019-05-02\", \"2019-05-03\", \"2019-05-04\", \"2019-05-05\", \"2019-05-06\", \"2019-05-07\", \"2019-05-08\", \"2019-05-09\", \"2019-05-10\", \"2019-05-11\", \"2019-05-12\", \"2019-05-13\", \"2019-05-14\", \"2019-05-15\", \"2019-05-16\", \"2019-05-17\", \"2019-05-18\", \"2019-05-19\", \"2019-05-20\", \"2019-05-21\", \"2019-05-22\", \"2019-05-23\", \"2019-05-24\", \"2019-05-25\", \"2019-05-26\", \"2019-05-27\", \"2019-05-28\", \"2019-05-29\", \"2019-05-30\", \"2019-05-31\", \"2019-06-01\", \"2019-06-02\", \"2019-06-03\", \"2019-06-04\", \"2019-06-05\", \"2019-06-06\", \"2019-06-07\", \"2019-06-08\", \"2019-06-09\", \"2019-06-10\", \"2019-06-11\", \"2019-06-12\", \"2019-06-13\", \"2019-06-14\", \"2019-06-15\", \"2019-06-16\", \"2019-06-17\", \"2019-06-18\", \"2019-06-19\", \"2019-06-20\", \"2019-06-21\", \"2019-06-22\", \"2019-06-23\", \"2019-06-24\", \"2019-06-25\", \"2019-06-26\", \"2019-06-27\", \"2019-06-28\", \"2019-06-29\", \"2019-06-30\", \"2019-07-01\", \"2019-07-02\", \"2019-07-03\", \"2019-07-04\", \"2019-07-05\", \"2019-07-06\", \"2019-07-07\", \"2019-07-08\", \"2019-07-09\", \"2019-07-10\", \"2019-07-11\", \"2019-07-12\", \"2019-07-13\", \"2019-07-14\", \"2019-07-15\", \"2019-07-16\", \"2019-07-17\", \"2019-07-18\", \"2019-07-19\", \"2019-07-20\", \"2019-07-21\", \"2019-07-22\", \"2019-07-23\", \"2019-07-24\", \"2019-07-25\", \"2019-07-26\", \"2019-07-27\", \"2019-07-28\", \"2019-07-29\", \"2019-07-30\", \"2019-07-31\", \"2019-08-01\", \"2019-08-02\", \"2019-08-03\", \"2019-08-04\", \"2019-08-05\", \"2019-08-06\", \"2019-08-07\", \"2019-08-08\", \"2019-08-09\", \"2019-08-10\", \"2019-08-11\", \"2019-08-12\", \"2019-08-13\", \"2019-08-14\", \"2019-08-15\", \"2019-08-16\", \"2019-08-17\", \"2019-08-18\", \"2019-08-19\", \"2019-08-20\", \"2019-08-21\", \"2019-08-22\", \"2019-08-23\", \"2019-08-24\", \"2019-08-25\", \"2019-08-26\", \"2019-08-27\", \"2019-08-28\", \"2019-08-29\", \"2019-08-30\", \"2019-08-31\", \"2019-09-01\", \"2019-09-02\", \"2019-09-03\", \"2019-09-04\", \"2019-09-05\", \"2019-09-06\", \"2019-09-07\", \"2019-09-08\", \"2019-09-09\", \"2019-09-10\", \"2019-09-11\", \"2019-09-12\", \"2019-09-13\", \"2019-09-14\", \"2019-09-15\", \"2019-09-16\", \"2019-09-17\", \"2019-09-18\", \"2019-09-19\", \"2019-09-20\", \"2019-09-21\", \"2019-09-22\", \"2019-09-23\", \"2019-09-24\", \"2019-09-25\", \"2019-09-26\", \"2019-09-27\", \"2019-09-28\", \"2019-09-29\", \"2019-09-30\", \"2019-10-01\", \"2019-10-02\", \"2019-10-03\", \"2019-10-04\", \"2019-10-05\", \"2019-10-06\", \"2019-10-07\", \"2019-10-08\", \"2019-10-09\", \"2019-10-10\", \"2019-10-11\", \"2019-10-12\", \"2019-10-13\", \"2019-10-14\", \"2019-10-15\", \"2019-10-16\", \"2019-10-17\", \"2019-10-18\", \"2019-10-19\", \"2019-10-20\", \"2019-10-21\", \"2019-10-22\", \"2019-10-23\", \"2019-10-24\", \"2019-10-25\", \"2019-10-26\", \"2019-10-27\", \"2019-10-28\", \"2019-10-29\", \"2019-10-30\", \"2019-10-31\", \"2019-11-01\", \"2019-11-02\", \"2019-11-03\", \"2019-11-04\", \"2019-11-05\", \"2019-11-06\", \"2019-11-07\", \"2019-11-08\", \"2019-11-09\", \"2019-11-10\", \"2019-11-11\", \"2019-11-12\", \"2019-11-13\", \"2019-11-14\", \"2019-11-15\", \"2019-11-16\", \"2019-11-17\", \"2019-11-18\", \"2019-11-19\", \"2019-11-20\", \"2019-11-21\", \"2019-11-22\", \"2019-11-23\", \"2019-11-24\", \"2019-11-25\", \"2019-11-26\", \"2019-11-27\", \"2019-11-28\", \"2019-11-29\", \"2019-11-30\", \"2019-12-01\", \"2019-12-02\", \"2019-12-03\", \"2019-12-04\", \"2019-12-05\", \"2019-12-06\", \"2019-12-07\", \"2019-12-08\", \"2019-12-09\", \"2019-12-10\", \"2019-12-11\", \"2019-12-12\", \"2019-12-13\", \"2019-12-14\", \"2019-12-15\", \"2019-12-16\", \"2019-12-17\", \"2019-12-18\", \"2019-12-19\", \"2019-12-20\", \"2019-12-21\", \"2019-12-22\", \"2019-12-23\", \"2019-12-24\", \"2019-12-25\", \"2019-12-26\", \"2019-12-27\", \"2019-12-28\", \"2019-12-29\", \"2019-12-30\", \"2019-12-31\", \"2020-01-01\", \"2020-01-02\", \"2020-01-03\", \"2020-01-04\", \"2020-01-05\", \"2020-01-06\", \"2020-01-07\", \"2020-01-08\", \"2020-01-09\", \"2020-01-10\", \"2020-01-11\", \"2020-01-12\", \"2020-01-13\", \"2020-01-14\", \"2020-01-15\", \"2020-01-16\", \"2020-01-17\", \"2020-01-18\", \"2020-01-19\", \"2020-01-20\", \"2020-01-21\", \"2020-01-22\", \"2020-01-23\", \"2020-01-24\", \"2020-01-25\", \"2020-01-26\", \"2020-01-27\", \"2020-01-28\", \"2020-01-29\", \"2020-01-30\", \"2020-01-31\", \"2020-02-01\", \"2020-02-02\", \"2020-02-03\", \"2020-02-04\", \"2020-02-05\", \"2020-02-06\", \"2020-02-07\", \"2020-02-08\", \"2020-02-09\", \"2020-02-10\", \"2020-02-11\", \"2020-02-12\", \"2020-02-13\", \"2020-02-14\", \"2020-02-15\", \"2020-02-16\", \"2020-02-17\", \"2020-02-18\", \"2020-02-19\", \"2020-02-20\", \"2020-02-21\", \"2020-02-22\", \"2020-02-23\", \"2020-02-24\", \"2020-02-25\", \"2020-02-26\", \"2020-02-27\", \"2020-02-28\", \"2020-02-29\", \"2020-03-01\", \"2020-03-02\", \"2020-03-03\", \"2020-03-04\", \"2020-03-05\", \"2020-03-06\", \"2020-03-07\", \"2020-03-08\", \"2020-03-09\", \"2020-03-10\", \"2020-03-11\", \"2020-03-12\", \"2020-03-13\", \"2020-03-14\", \"2020-03-15\", \"2020-03-16\", \"2020-03-17\", \"2020-03-18\", \"2020-03-19\", \"2020-03-20\", \"2020-03-21\", \"2020-03-22\", \"2020-03-23\", \"2020-03-24\", \"2020-03-25\", \"2020-03-26\", \"2020-03-27\", \"2020-03-28\", \"2020-03-29\", \"2020-03-30\"], \"y\": [204914.85836473372, 202698.06976130692, 203297.02661788778, 201459.1700563294, 191261.0080118538, 163978.46034325325, 194641.6583385121, 205095.34502150942, 204508.7198978915, 205104.89890070911, 203316.70918172627, 192728.4495607235, 165220.44690096952, 196520.6350779353, 204938.65845560766, 205901.9435480461, 182619.52317119515, 150199.73200077165, 157736.87457125602, 162354.78339284813, 198397.61675689777, 208747.2166616979, 208802.78552447702, 208443.42269644627, 206183.4024279635, 195074.06426103396, 171746.85253168936, 199677.54152216043, 211314.28274519616, 185522.23318547104, 216626.2447017898, 212212.30460907923, 200130.5629485391, 172844.05078122005, 200612.96676621243, 209174.90462956938, 209326.0901505782, 207953.76720359313, 190841.47562316398, 194853.15190677877, 177969.2956577912, 205691.0516995452, 226277.26991649144, 233830.4859306803, 231330.99382515723, 226363.29893016742, 212297.53302490496, 186101.8314221974, 216549.19348662766, 217763.5860553217, 219242.74881937547, 218485.927924039, 215391.357740478, 201767.0663942598, 175241.81434233737, 207154.91844579176, 217154.27606958585, 217995.04411616476, 219572.5119958627, 214763.23453239704, 212057.16667738467, 188170.795616733, 219614.41493219853, 218359.40725612725, 217463.25965979006, 216975.44350534576, 223820.9952376907, 206298.149529761, 182648.18058931263, 211267.97746321154, 211411.47516270357, 207329.25958296974, 210080.72844783435, 210011.19060201972, 197245.37332999145, 174304.9259704565, 200832.3282273146, 206457.92218018573, 205031.64176188246, 204639.17217583547, 202874.2076348565, 192906.3775302056, 168310.45182948132, 196094.7225630139, 202193.7290601146, 202978.2666251343, 203485.308175521, 202569.46415787286, 195313.52666940077, 171336.53081095358, 190140.2098829728, 194341.4013669369, 197732.75920479067, 198960.04571357067, 199150.13761454533, 191900.04157191815, 166819.29034636274, 194602.63958140847, 200069.21580942828, 201904.26789961735, 203770.1736232367, 201301.44001283703, 192765.90515967115, 168234.70520061787, 197294.00787450353, 204143.36770594947, 203749.36120229898, 206352.98417462548, 201722.7526158049, 193253.9129497625, 167713.53738978456, 198660.00758519673, 202778.324523099, 201292.03563915926, 201941.31050937186, 199128.28326596192, 192305.482293877, 164519.03461240354, 195336.58110282887, 198004.11692695308, 196956.19431510154, 203346.67249207135, 199788.88888063445, 191138.60295363367, 167287.41155729708, 189692.3581889713, 199897.6293213771, 196779.1410572601, 194153.169598343, 182651.1010746662, 181399.33692820653, 157333.14358416575, 192443.72977306473, 199935.8925146942, 200247.3349860262, 199577.57719143236, 197838.31356942136, 189986.7744485255, 165747.8446944748, 192535.8937705128, 201344.62857752913, 200125.55879109006, 200298.24547046228, 198800.22027482194, 191154.89446705577, 167396.57148916987, 194099.36871567022, 203665.90529978604, 201168.78091381403, 202140.03455720135, 200607.91587113313, 191155.59703516678, 166088.85189757662, 194065.3546654929, 200749.94233335706, 200574.67849155955, 199833.62170678104, 198243.02543372384, 189720.11106141735, 162477.60338712423, 191686.9048314642, 199524.6541253329, 201239.7380644936, 199976.97012839688, 199260.96819989296, 186720.13690663493, 156389.56615257636, 145204.4205023067, 188678.27530972377, 196725.73954729913, 198467.85538473164, 198301.17486620435, 187572.23106609014, 160931.04790192944, 187063.93974880804, 193777.81306947986, 195309.43791414573, 194258.91552843363, 196264.29554117852, 184670.8934178698, 158706.4051323661, 183907.68676545375, 192130.8132650372, 196178.34587963752, 196915.60173890588, 195471.5334535878, 186054.71978496521, 157988.81480094683, 186156.66014092657, 177639.4261006621, 181328.96234127702, 182381.29061243316, 181345.7097258718, 179180.58938724012, 150229.18659490053, 170155.28151368574, 192017.47501614495, 195026.1672655293, 195573.46464845104, 192818.43882529894, 181389.19017152715, 158235.90768130272, 182103.4852270657, 190442.34074656045, 193594.5406146874, 194183.65608496306, 191513.03985188453, 178867.33546123022, 156858.9059879163, 177835.09935110205, 187315.25840627478, 190817.9096955523, 189070.31033426744, 187356.84672950255, 176077.4360251567, 152263.4080406835, 176890.38507639783, 188662.023520524, 192031.80698014778, 192253.98790015295, 191459.9179321771, 178373.89972922247, 158062.03069741352, 182180.72340519482, 193080.69135672983, 195332.7958474793, 194096.61266951181, 190806.04768697897, 176662.97515229767, 148811.345349078, 146838.4070171945, 180967.5999465033, 189461.48603408172, 188909.80185451795, 187762.11156117707, 181023.1188311465, 160036.8556243199, 183451.28775766114, 192583.305893607, 195222.47887665057, 190537.20551401124, 187729.44635222314, 182532.19398876658, 153932.46071130372, 180488.42795936498, 192500.34778364896, 194270.5897319819, 195314.97909587322, 192693.575925676, 178663.31275237503, 159233.98817580257, 184651.10673961157, 194531.958643314, 187843.21151884267, 164527.22209364324, 186533.95824369308, 178475.6675109891, 159700.12417920012, 183295.20447431397, 191880.06875067094, 192668.59505273256, 189724.07835652732, 186084.74209270402, 174966.18962070098, 155176.11915327344, 167511.47744010866, 163541.5249480244, 113575.99253946583, 160910.57579876992, 171862.677631871, 166521.8728623981, 149174.61561490106, 153576.02964236442, 145906.24408790018, 110649.08585328306, 161090.50432999697, 170688.4617441818, 163784.78239389835, 142504.72335368342, 175158.26153645274, 190231.82409259025, 196869.2987084834, 198977.660615602, 199000.1341415817, 188150.75884081467, 164083.41717773944, 189119.30903829666, 205466.51614725412, 204831.86560890282, 204080.60613005125, 201872.23877157544, 190061.8571437691, 164874.930211407, 191855.3625663269, 197591.92665958573, 200182.5865772485, 200013.61336412356, 199112.77161468344, 188984.30475227625, 164244.50806915652, 188900.91786435232, 196381.68444382085, 199887.90349220717, 199039.09027913757, 196903.28020817967, 188100.00583150444, 160347.16320441716, 164076.3517383639, 192736.99301051028, 203981.2213973604, 205424.28538779484, 202672.35150351786, 193116.07484818742, 166103.33365293843, 194005.1799097297, 201480.292589321, 204516.44316647062, 204086.80444310192, 203699.06012563122, 193962.07167509178, 173346.9221542905, 196014.61323156336, 199873.581769313, 200102.8610597063, 200363.35778937963, 200122.88892070274, 191789.68832492555, 167528.89400595886, 193061.50201982365, 208067.92186184827, 210221.6657742576, 208889.46957134793, 208779.19077673234, 198251.96168992022, 172239.07935596866, 202309.57734146534, 207410.33544411263, 212221.94395119656, 212275.3446571708, 211132.93716004456, 200254.89007755235, 171786.5767982908, 202717.870800262, 204983.78808715922, 209560.1946554965, 205862.40629699852, 203490.00263463223, 185992.59983375017, 157433.8974079763, 163951.9882094842, 207089.18364345387, 214279.36200938319, 212331.43927726024, 212665.68886584172, 200477.35180425234, 173668.49351541008, 203034.28756149663, 205240.62773669732, 210154.8521906209, 209257.0475707552, 209895.4714633175, 199848.7624590018, 172793.8380505588, 198616.09530311998]}, {\"line\": {\"color\": \"rgba(128, 0, 128, 1.0)\", \"dash\": \"solid\", \"shape\": \"linear\", \"width\": 1.3}, \"mode\": \"lines\", \"name\": \"07_04_2021_14_46_22\", \"text\": \"\", \"type\": \"scatter\", \"x\": [\"2019-04-02\", \"2019-04-03\", \"2019-04-04\", \"2019-04-05\", \"2019-04-06\", \"2019-04-07\", \"2019-04-08\", \"2019-04-09\", \"2019-04-10\", \"2019-04-11\", \"2019-04-12\", \"2019-04-13\", \"2019-04-14\", \"2019-04-15\", \"2019-04-16\", \"2019-04-17\", \"2019-04-18\", \"2019-04-19\", \"2019-04-20\", \"2019-04-21\", \"2019-04-22\", \"2019-04-23\", \"2019-04-24\", \"2019-04-25\", \"2019-04-26\", \"2019-04-27\", \"2019-04-28\", \"2019-04-29\", \"2019-04-30\", \"2019-05-01\", \"2019-05-02\", \"2019-05-03\", \"2019-05-04\", \"2019-05-05\", \"2019-05-06\", \"2019-05-07\", \"2019-05-08\", \"2019-05-09\", \"2019-05-10\", \"2019-05-11\", \"2019-05-12\", \"2019-05-13\", \"2019-05-14\", \"2019-05-15\", \"2019-05-16\", \"2019-05-17\", \"2019-05-18\", \"2019-05-19\", \"2019-05-20\", \"2019-05-21\", \"2019-05-22\", \"2019-05-23\", \"2019-05-24\", \"2019-05-25\", \"2019-05-26\", \"2019-05-27\", \"2019-05-28\", \"2019-05-29\", \"2019-05-30\", \"2019-05-31\", \"2019-06-01\", \"2019-06-02\", \"2019-06-03\", \"2019-06-04\", \"2019-06-05\", \"2019-06-06\", \"2019-06-07\", \"2019-06-08\", \"2019-06-09\", \"2019-06-10\", \"2019-06-11\", \"2019-06-12\", \"2019-06-13\", \"2019-06-14\", \"2019-06-15\", \"2019-06-16\", \"2019-06-17\", \"2019-06-18\", \"2019-06-19\", \"2019-06-20\", \"2019-06-21\", \"2019-06-22\", \"2019-06-23\", \"2019-06-24\", \"2019-06-25\", \"2019-06-26\", \"2019-06-27\", \"2019-06-28\", \"2019-06-29\", \"2019-06-30\", \"2019-07-01\", \"2019-07-02\", \"2019-07-03\", \"2019-07-04\", \"2019-07-05\", \"2019-07-06\", \"2019-07-07\", \"2019-07-08\", \"2019-07-09\", \"2019-07-10\", \"2019-07-11\", \"2019-07-12\", \"2019-07-13\", \"2019-07-14\", \"2019-07-15\", \"2019-07-16\", \"2019-07-17\", \"2019-07-18\", \"2019-07-19\", \"2019-07-20\", \"2019-07-21\", \"2019-07-22\", \"2019-07-23\", \"2019-07-24\", \"2019-07-25\", \"2019-07-26\", \"2019-07-27\", \"2019-07-28\", \"2019-07-29\", \"2019-07-30\", \"2019-07-31\", \"2019-08-01\", \"2019-08-02\", \"2019-08-03\", \"2019-08-04\", \"2019-08-05\", \"2019-08-06\", \"2019-08-07\", \"2019-08-08\", \"2019-08-09\", \"2019-08-10\", \"2019-08-11\", \"2019-08-12\", \"2019-08-13\", \"2019-08-14\", \"2019-08-15\", \"2019-08-16\", \"2019-08-17\", \"2019-08-18\", \"2019-08-19\", \"2019-08-20\", \"2019-08-21\", \"2019-08-22\", \"2019-08-23\", \"2019-08-24\", \"2019-08-25\", \"2019-08-26\", \"2019-08-27\", \"2019-08-28\", \"2019-08-29\", \"2019-08-30\", \"2019-08-31\", \"2019-09-01\", \"2019-09-02\", \"2019-09-03\", \"2019-09-04\", \"2019-09-05\", \"2019-09-06\", \"2019-09-07\", \"2019-09-08\", \"2019-09-09\", \"2019-09-10\", \"2019-09-11\", \"2019-09-12\", \"2019-09-13\", \"2019-09-14\", \"2019-09-15\", \"2019-09-16\", \"2019-09-17\", \"2019-09-18\", \"2019-09-19\", \"2019-09-20\", \"2019-09-21\", \"2019-09-22\", \"2019-09-23\", \"2019-09-24\", \"2019-09-25\", \"2019-09-26\", \"2019-09-27\", \"2019-09-28\", \"2019-09-29\", \"2019-09-30\", \"2019-10-01\", \"2019-10-02\", \"2019-10-03\", \"2019-10-04\", \"2019-10-05\", \"2019-10-06\", \"2019-10-07\", \"2019-10-08\", \"2019-10-09\", \"2019-10-10\", \"2019-10-11\", \"2019-10-12\", \"2019-10-13\", \"2019-10-14\", \"2019-10-15\", \"2019-10-16\", \"2019-10-17\", \"2019-10-18\", \"2019-10-19\", \"2019-10-20\", \"2019-10-21\", \"2019-10-22\", \"2019-10-23\", \"2019-10-24\", \"2019-10-25\", \"2019-10-26\", \"2019-10-27\", \"2019-10-28\", \"2019-10-29\", \"2019-10-30\", \"2019-10-31\", \"2019-11-01\", \"2019-11-02\", \"2019-11-03\", \"2019-11-04\", \"2019-11-05\", \"2019-11-06\", \"2019-11-07\", \"2019-11-08\", \"2019-11-09\", \"2019-11-10\", \"2019-11-11\", \"2019-11-12\", \"2019-11-13\", \"2019-11-14\", \"2019-11-15\", \"2019-11-16\", \"2019-11-17\", \"2019-11-18\", \"2019-11-19\", \"2019-11-20\", \"2019-11-21\", \"2019-11-22\", \"2019-11-23\", \"2019-11-24\", \"2019-11-25\", \"2019-11-26\", \"2019-11-27\", \"2019-11-28\", \"2019-11-29\", \"2019-11-30\", \"2019-12-01\", \"2019-12-02\", \"2019-12-03\", \"2019-12-04\", \"2019-12-05\", \"2019-12-06\", \"2019-12-07\", \"2019-12-08\", \"2019-12-09\", \"2019-12-10\", \"2019-12-11\", \"2019-12-12\", \"2019-12-13\", \"2019-12-14\", \"2019-12-15\", \"2019-12-16\", \"2019-12-17\", \"2019-12-18\", \"2019-12-19\", \"2019-12-20\", \"2019-12-21\", \"2019-12-22\", \"2019-12-23\", \"2019-12-24\", \"2019-12-25\", \"2019-12-26\", \"2019-12-27\", \"2019-12-28\", \"2019-12-29\", \"2019-12-30\", \"2019-12-31\", \"2020-01-01\", \"2020-01-02\", \"2020-01-03\", \"2020-01-04\", \"2020-01-05\", \"2020-01-06\", \"2020-01-07\", \"2020-01-08\", \"2020-01-09\", \"2020-01-10\", \"2020-01-11\", \"2020-01-12\", \"2020-01-13\", \"2020-01-14\", \"2020-01-15\", \"2020-01-16\", \"2020-01-17\", \"2020-01-18\", \"2020-01-19\", \"2020-01-20\", \"2020-01-21\", \"2020-01-22\", \"2020-01-23\", \"2020-01-24\", \"2020-01-25\", \"2020-01-26\", \"2020-01-27\", \"2020-01-28\", \"2020-01-29\", \"2020-01-30\", \"2020-01-31\", \"2020-02-01\", \"2020-02-02\", \"2020-02-03\", \"2020-02-04\", \"2020-02-05\", \"2020-02-06\", \"2020-02-07\", \"2020-02-08\", \"2020-02-09\", \"2020-02-10\", \"2020-02-11\", \"2020-02-12\", \"2020-02-13\", \"2020-02-14\", \"2020-02-15\", \"2020-02-16\", \"2020-02-17\", \"2020-02-18\", \"2020-02-19\", \"2020-02-20\", \"2020-02-21\", \"2020-02-22\", \"2020-02-23\", \"2020-02-24\", \"2020-02-25\", \"2020-02-26\", \"2020-02-27\", \"2020-02-28\", \"2020-02-29\", \"2020-03-01\", \"2020-03-02\", \"2020-03-03\", \"2020-03-04\", \"2020-03-05\", \"2020-03-06\", \"2020-03-07\", \"2020-03-08\", \"2020-03-09\", \"2020-03-10\", \"2020-03-11\", \"2020-03-12\", \"2020-03-13\", \"2020-03-14\", \"2020-03-15\", \"2020-03-16\", \"2020-03-17\", \"2020-03-18\", \"2020-03-19\", \"2020-03-20\", \"2020-03-21\", \"2020-03-22\", \"2020-03-23\", \"2020-03-24\", \"2020-03-25\", \"2020-03-26\", \"2020-03-27\", \"2020-03-28\", \"2020-03-29\", \"2020-03-30\"], \"y\": [204040.06663143824, 202048.806166432, 203013.61887054177, 202290.5176971561, 189980.96789860522, 162610.61518906712, 193521.6754544417, 204417.5593886241, 204502.358356061, 206312.1882151948, 203773.4757105935, 193431.55374441334, 164664.7883161849, 195769.86472814585, 199680.90181191295, 201761.6284861551, 179784.65285909892, 149201.20859703168, 159547.07024611114, 165757.01760845346, 191852.77628444834, 209703.2124883913, 208411.5053009179, 208132.7463392855, 206439.92170816506, 195104.00506006673, 171030.1589595765, 200219.55677051508, 212338.34788295734, 186641.7986045097, 218732.71572179082, 213531.17762675593, 200049.22364200567, 171087.07232636938, 200005.7093802084, 208986.75532594288, 210103.5233562534, 208448.27981495354, 184177.6927645272, 192775.83218761688, 177318.5535065678, 204735.94064145867, 216177.2826846067, 217837.46520752594, 220600.20439448592, 215961.9252304924, 205556.9777956547, 178631.59140252328, 208731.9343177987, 219657.32182172997, 218949.41207447427, 220785.43023262548, 214155.71040513847, 200590.2481791483, 175223.7931661538, 206808.96136663132, 217631.59004411133, 217912.40123439315, 219010.89286264783, 212533.13939648122, 216159.09422148872, 190196.41923977502, 222444.83881744585, 220738.41766700917, 219174.11122002976, 219181.5215074456, 226839.73288314, 209722.2666038087, 184978.9163580768, 214738.4347730692, 222691.19607423837, 224167.1590430027, 219694.18765373694, 219098.28097813542, 199291.33106437515, 175182.75874926648, 210716.7574219925, 206067.41721328493, 204739.51970425915, 203963.67872428457, 202343.7629172211, 192447.53577014044, 167475.6870710268, 194944.02895651074, 201905.6949721983, 203275.08767253032, 202784.80809923212, 203392.97173694128, 192918.6952721677, 169748.73960720786, 190642.75139868888, 194892.95341539726, 198758.3875551906, 200803.97268643996, 201230.3986885134, 192299.62046110767, 167457.92556601955, 195270.52770195698, 200189.2924608449, 202101.71485018893, 203916.06821736883, 201214.65488604808, 192363.033683581, 168819.61527770868, 197884.3190288473, 203937.6910735639, 204089.86829674817, 206458.62556487854, 203082.35458351657, 192762.67559049564, 168352.06839532038, 199904.8813875066, 203603.5387053151, 202781.02015278806, 202864.30482725662, 199565.96063979555, 191071.17117719824, 164333.2262895497, 196625.39944327436, 199085.05345362847, 199070.52165969304, 205881.64905262034, 202178.2791873838, 192809.05897324142, 166416.87094114354, 191875.2144117278, 196425.80654304524, 197307.1119563082, 194379.17339223073, 191120.18937102964, 183996.94309749798, 159381.9597056096, 186319.4597494927, 194136.74871666753, 195403.04307307416, 195136.61954037778, 191918.1597123567, 186338.6212114664, 163457.26280566663, 185625.87763302532, 200427.8194271591, 199256.4016169739, 199265.39094618635, 198764.85080713668, 190942.75630583585, 167120.01528263744, 194661.16089784398, 205942.0644006199, 200636.91557109242, 201069.41635371093, 198967.96344456004, 187501.31215376762, 161763.56774092783, 193129.02567050143, 199872.57779657136, 200663.8141609901, 199118.87896229056, 199481.84762785267, 188553.90766433164, 162030.07194889116, 191335.69226984517, 198440.18838924414, 201484.51885110303, 198825.01146569618, 198816.32479377885, 185254.6969880548, 153458.30930531773, 144796.71678948577, 189055.88107242613, 197262.6228736595, 197503.85050580878, 198695.6765421194, 187241.74181428645, 161102.53745329473, 186148.06298977035, 192720.3861054057, 194172.03747148078, 192456.50182501078, 194966.3821162556, 183353.61919239094, 158334.06239763222, 183700.6606691831, 192353.2559212273, 198297.32060373313, 198398.1252597681, 197511.97164722445, 187385.62896614254, 158549.68507928128, 186866.88304122258, 192917.5475474812, 196591.90637366407, 196652.63437925867, 193386.46739938564, 198012.39243017943, 164302.36513556578, 183566.73572123316, 191324.9054265243, 194264.18037821582, 194736.69946109975, 193139.76312243013, 180857.4970763163, 158411.0714430179, 180796.6338311069, 185120.12392702446, 188122.43723047964, 187144.0150691152, 185991.69119043014, 171711.416466071, 149298.52319528832, 172289.52535492997, 184161.35164344337, 186004.42266861422, 183700.7819451078, 186761.5140365803, 176371.81732184064, 152357.71468571745, 177380.5478814075, 189328.54241924995, 192618.34553303302, 193585.4701244006, 191069.5775970551, 177952.75040934485, 157738.94958790598, 181583.64292238114, 192253.0818453616, 194217.55295042912, 193676.92420512618, 189813.9601105385, 174309.5179123771, 147799.96858815983, 143340.67341136246, 180274.97397854563, 185194.903312109, 185130.03830815255, 173818.82589388313, 175266.96174606888, 156406.29297692134, 181124.63298205365, 189980.2158525343, 190967.71364078252, 186336.36880867218, 176671.19183128394, 178246.58932916468, 152131.19161184083, 177901.4033562551, 192414.7542971848, 194721.01613549632, 195605.67748241118, 193734.41411912238, 179547.78391806, 160052.01177466012, 184203.97248718297, 192623.65126498605, 185070.86349857738, 163342.43947691514, 181297.2378513564, 174556.65378381877, 158533.13083197665, 182702.90963269418, 192986.15169391094, 193639.14484503574, 190724.37604281618, 188832.4765240624, 174667.27364110138, 156402.13821467513, 169504.98848950758, 164860.10289826582, 110527.00467865862, 158706.15288738106, 170865.9670654605, 166749.0076327367, 148894.5558710673, 150617.14040808592, 152084.3967288589, 109196.57087279025, 156348.2313727923, 170587.1259991067, 162627.69282442235, 141767.12918007054, 174908.2566670368, 191868.6727289831, 199342.0919848938, 201814.36316292218, 204816.29698894185, 191550.89093453324, 166688.60792503017, 192740.70048423405, 199493.67408589425, 200075.3951086387, 199905.7294714581, 199287.05882579277, 188632.28659213643, 163239.2005487498, 189902.09510614234, 196963.0185340151, 198644.79591481513, 198196.99211407962, 196388.5691006969, 187856.04213931845, 162744.96612788006, 187992.02350948998, 194997.38616396242, 197897.28256852785, 196600.5018792151, 195209.54009711448, 188123.16415468132, 160832.3460170314, 162914.01851718317, 194447.61244500906, 206222.06787473886, 208449.2365921462, 207456.85794805517, 194772.6188867271, 171192.17542048352, 195340.1572859924, 200400.15048281997, 202753.7770773778, 203763.78606083128, 201973.36154862895, 192574.45141777853, 172380.37464504933, 195616.3921195469, 205902.21671898724, 207986.48392093653, 209297.20434229792, 209856.3376334947, 197610.34501222783, 173069.4743284261, 198984.64385941843, 211857.49538416235, 215146.46548501393, 214520.4960152208, 217712.62451006647, 203255.75512630487, 177906.6763314241, 209176.83408696242, 209081.09147806445, 211225.25204578871, 211209.4820546736, 210846.7615803034, 199078.54736210618, 171082.7985667978, 201591.48048751103, 204908.5186150081, 208794.81016045457, 206916.51238691167, 204063.3680881557, 195128.0605513461, 160926.6422185313, 162309.371078709, 211037.2058670771, 215973.31762935102, 214646.19246319868, 215564.60567383017, 201803.50274618855, 173889.38656828404, 206699.9401712912, 211402.80225851593, 217952.62312416933, 217820.20615373104, 221642.26562731015, 207163.82218541624, 180702.3752049719, 204200.2360138327]}, {\"line\": {\"color\": \"rgba(219, 64, 82, 1.0)\", \"dash\": \"solid\", \"shape\": \"linear\", \"width\": 1.3}, \"mode\": \"lines\", \"name\": \"07_04_2021_15_32_29\", \"text\": \"\", \"type\": \"scatter\", \"x\": [\"2019-04-02\", \"2019-04-03\", \"2019-04-04\", \"2019-04-05\", \"2019-04-06\", \"2019-04-07\", \"2019-04-08\", \"2019-04-09\", \"2019-04-10\", \"2019-04-11\", \"2019-04-12\", \"2019-04-13\", \"2019-04-14\", \"2019-04-15\", \"2019-04-16\", \"2019-04-17\", \"2019-04-18\", \"2019-04-19\", \"2019-04-20\", \"2019-04-21\", \"2019-04-22\", \"2019-04-23\", \"2019-04-24\", \"2019-04-25\", \"2019-04-26\", \"2019-04-27\", \"2019-04-28\", \"2019-04-29\", \"2019-04-30\", \"2019-05-01\", \"2019-05-02\", \"2019-05-03\", \"2019-05-04\", \"2019-05-05\", \"2019-05-06\", \"2019-05-07\", \"2019-05-08\", \"2019-05-09\", \"2019-05-10\", \"2019-05-11\", \"2019-05-12\", \"2019-05-13\", \"2019-05-14\", \"2019-05-15\", \"2019-05-16\", \"2019-05-17\", \"2019-05-18\", \"2019-05-19\", \"2019-05-20\", \"2019-05-21\", \"2019-05-22\", \"2019-05-23\", \"2019-05-24\", \"2019-05-25\", \"2019-05-26\", \"2019-05-27\", \"2019-05-28\", \"2019-05-29\", \"2019-05-30\", \"2019-05-31\", \"2019-06-01\", \"2019-06-02\", \"2019-06-03\", \"2019-06-04\", \"2019-06-05\", \"2019-06-06\", \"2019-06-07\", \"2019-06-08\", \"2019-06-09\", \"2019-06-10\", \"2019-06-11\", \"2019-06-12\", \"2019-06-13\", \"2019-06-14\", \"2019-06-15\", \"2019-06-16\", \"2019-06-17\", \"2019-06-18\", \"2019-06-19\", \"2019-06-20\", \"2019-06-21\", \"2019-06-22\", \"2019-06-23\", \"2019-06-24\", \"2019-06-25\", \"2019-06-26\", \"2019-06-27\", \"2019-06-28\", \"2019-06-29\", \"2019-06-30\", \"2019-07-01\", \"2019-07-02\", \"2019-07-03\", \"2019-07-04\", \"2019-07-05\", \"2019-07-06\", \"2019-07-07\", \"2019-07-08\", \"2019-07-09\", \"2019-07-10\", \"2019-07-11\", \"2019-07-12\", \"2019-07-13\", \"2019-07-14\", \"2019-07-15\", \"2019-07-16\", \"2019-07-17\", \"2019-07-18\", \"2019-07-19\", \"2019-07-20\", \"2019-07-21\", \"2019-07-22\", \"2019-07-23\", \"2019-07-24\", \"2019-07-25\", \"2019-07-26\", \"2019-07-27\", \"2019-07-28\", \"2019-07-29\", \"2019-07-30\", \"2019-07-31\", \"2019-08-01\", \"2019-08-02\", \"2019-08-03\", \"2019-08-04\", \"2019-08-05\", \"2019-08-06\", \"2019-08-07\", \"2019-08-08\", \"2019-08-09\", \"2019-08-10\", \"2019-08-11\", \"2019-08-12\", \"2019-08-13\", \"2019-08-14\", \"2019-08-15\", \"2019-08-16\", \"2019-08-17\", \"2019-08-18\", \"2019-08-19\", \"2019-08-20\", \"2019-08-21\", \"2019-08-22\", \"2019-08-23\", \"2019-08-24\", \"2019-08-25\", \"2019-08-26\", \"2019-08-27\", \"2019-08-28\", \"2019-08-29\", \"2019-08-30\", \"2019-08-31\", \"2019-09-01\", \"2019-09-02\", \"2019-09-03\", \"2019-09-04\", \"2019-09-05\", \"2019-09-06\", \"2019-09-07\", \"2019-09-08\", \"2019-09-09\", \"2019-09-10\", \"2019-09-11\", \"2019-09-12\", \"2019-09-13\", \"2019-09-14\", \"2019-09-15\", \"2019-09-16\", \"2019-09-17\", \"2019-09-18\", \"2019-09-19\", \"2019-09-20\", \"2019-09-21\", \"2019-09-22\", \"2019-09-23\", \"2019-09-24\", \"2019-09-25\", \"2019-09-26\", \"2019-09-27\", \"2019-09-28\", \"2019-09-29\", \"2019-09-30\", \"2019-10-01\", \"2019-10-02\", \"2019-10-03\", \"2019-10-04\", \"2019-10-05\", \"2019-10-06\", \"2019-10-07\", \"2019-10-08\", \"2019-10-09\", \"2019-10-10\", \"2019-10-11\", \"2019-10-12\", \"2019-10-13\", \"2019-10-14\", \"2019-10-15\", \"2019-10-16\", \"2019-10-17\", \"2019-10-18\", \"2019-10-19\", \"2019-10-20\", \"2019-10-21\", \"2019-10-22\", \"2019-10-23\", \"2019-10-24\", \"2019-10-25\", \"2019-10-26\", \"2019-10-27\", \"2019-10-28\", \"2019-10-29\", \"2019-10-30\", \"2019-10-31\", \"2019-11-01\", \"2019-11-02\", \"2019-11-03\", \"2019-11-04\", \"2019-11-05\", \"2019-11-06\", \"2019-11-07\", \"2019-11-08\", \"2019-11-09\", \"2019-11-10\", \"2019-11-11\", \"2019-11-12\", \"2019-11-13\", \"2019-11-14\", \"2019-11-15\", \"2019-11-16\", \"2019-11-17\", \"2019-11-18\", \"2019-11-19\", \"2019-11-20\", \"2019-11-21\", \"2019-11-22\", \"2019-11-23\", \"2019-11-24\", \"2019-11-25\", \"2019-11-26\", \"2019-11-27\", \"2019-11-28\", \"2019-11-29\", \"2019-11-30\", \"2019-12-01\", \"2019-12-02\", \"2019-12-03\", \"2019-12-04\", \"2019-12-05\", \"2019-12-06\", \"2019-12-07\", \"2019-12-08\", \"2019-12-09\", \"2019-12-10\", \"2019-12-11\", \"2019-12-12\", \"2019-12-13\", \"2019-12-14\", \"2019-12-15\", \"2019-12-16\", \"2019-12-17\", \"2019-12-18\", \"2019-12-19\", \"2019-12-20\", \"2019-12-21\", \"2019-12-22\", \"2019-12-23\", \"2019-12-24\", \"2019-12-25\", \"2019-12-26\", \"2019-12-27\", \"2019-12-28\", \"2019-12-29\", \"2019-12-30\", \"2019-12-31\", \"2020-01-01\", \"2020-01-02\", \"2020-01-03\", \"2020-01-04\", \"2020-01-05\", \"2020-01-06\", \"2020-01-07\", \"2020-01-08\", \"2020-01-09\", \"2020-01-10\", \"2020-01-11\", \"2020-01-12\", \"2020-01-13\", \"2020-01-14\", \"2020-01-15\", \"2020-01-16\", \"2020-01-17\", \"2020-01-18\", \"2020-01-19\", \"2020-01-20\", \"2020-01-21\", \"2020-01-22\", \"2020-01-23\", \"2020-01-24\", \"2020-01-25\", \"2020-01-26\", \"2020-01-27\", \"2020-01-28\", \"2020-01-29\", \"2020-01-30\", \"2020-01-31\", \"2020-02-01\", \"2020-02-02\", \"2020-02-03\", \"2020-02-04\", \"2020-02-05\", \"2020-02-06\", \"2020-02-07\", \"2020-02-08\", \"2020-02-09\", \"2020-02-10\", \"2020-02-11\", \"2020-02-12\", \"2020-02-13\", \"2020-02-14\", \"2020-02-15\", \"2020-02-16\", \"2020-02-17\", \"2020-02-18\", \"2020-02-19\", \"2020-02-20\", \"2020-02-21\", \"2020-02-22\", \"2020-02-23\", \"2020-02-24\", \"2020-02-25\", \"2020-02-26\", \"2020-02-27\", \"2020-02-28\", \"2020-02-29\", \"2020-03-01\", \"2020-03-02\", \"2020-03-03\", \"2020-03-04\", \"2020-03-05\", \"2020-03-06\", \"2020-03-07\", \"2020-03-08\", \"2020-03-09\", \"2020-03-10\", \"2020-03-11\", \"2020-03-12\", \"2020-03-13\", \"2020-03-14\", \"2020-03-15\", \"2020-03-16\", \"2020-03-17\", \"2020-03-18\", \"2020-03-19\", \"2020-03-20\", \"2020-03-21\", \"2020-03-22\", \"2020-03-23\", \"2020-03-24\", \"2020-03-25\", \"2020-03-26\", \"2020-03-27\", \"2020-03-28\", \"2020-03-29\", \"2020-03-30\"], \"y\": [209533.67478582563, 212638.76766872843, 215130.97111734957, 213804.68250500294, 201228.06088687852, 167806.08780738106, 197748.3088237794, 206627.82980244776, 208143.0334453426, 210989.2840283195, 212112.79851628185, 200164.81084773978, 168074.31344120105, 199459.8632381048, 210444.67256554196, 210305.6971931818, 183923.15784199297, 164487.3085067536, 177062.15295582474, 182743.36738560276, 207559.47050512777, 212703.2450424075, 202919.831262878, 195948.76901048105, 171364.37061418002, 134661.4227574848, 67380.7453588904, 195615.15520846788, 195052.1511830122, 176964.4221242751, 193631.2816296906, 157633.67752494445, 143720.56923356658, 93909.7288146721, 181389.01240099873, 193999.19431967937, 183051.50159435783, 180336.2982574977, 147838.93361499932, 137661.05815953526, 89427.66822286547, 188401.93217590635, 232377.72509840492, 241573.16518614086, 249608.13943710615, 275945.2410101106, 243183.49515043752, 218168.948742178, 228471.15062032023, 288469.9793924026, 296272.45683351427, 305380.5959912402, 328031.046235213, 286009.9798283751, 260432.68062618698, 273417.0793232428, 226919.16876941823, 230364.62428796876, 233407.65870736935, 219120.8952996805, 236822.3975876915, 204270.50273004742, 237443.9267814322, 283418.4392305669, 288713.6002835556, 298222.7494179115, 332300.39842998964, 333609.0752950384, 339813.9082490394, 266744.7400893783, 221555.14351028536, 214956.22396881733, 216652.92779427776, 219800.09108069635, 206087.47722431034, 182038.5256804625, 211290.80929187607, 209823.29581257497, 207316.38595509043, 205548.59569749687, 210304.05175425313, 196426.84800650954, 176185.1783072963, 199269.2587638597, 206558.8815736336, 204091.64834350362, 205811.0608083309, 208038.3910001619, 194035.40620033717, 172239.18923804857, 202400.27792598918, 208205.65987332875, 208387.30620522963, 214965.3480395924, 216168.1786773342, 204369.4234192294, 181208.82048013463, 206525.97818186157, 219476.68815459806, 225326.8766521948, 235168.27325331766, 260573.72268303664, 269977.5168773065, 283983.0862315027, 220050.0357325433, 256580.0972954004, 289072.7195952469, 264026.7610458258, 248296.3149814095, 218194.89624757145, 190958.51876701968, 230024.00298176482, 163751.80821627413, 135857.05406321667, 163916.2285944666, 185819.7052825648, 199142.66162081782, 201542.3679312835, 176098.98071734243, 273122.79326572747, 249003.8125096446, 258436.5694181202, 247663.42958117547, 223827.705640758, 196612.9910503914, 237900.95467710562, 147626.01478310625, 174650.5461093638, 172319.36171411385, 181412.72340789402, 187120.83095215488, 167035.89475953323, 180680.29562465296, 202607.01382036784, 200688.15373892259, 200398.45335059884, 199463.94867509414, 189876.14166356332, 166056.80222258426, 193304.7345821584, 240149.25355672574, 266882.25405079435, 245336.3489439762, 230560.12569681733, 208460.80295946365, 183087.43621942127, 217644.54758920136, 208020.27419760628, 205961.2247882446, 208588.46170214284, 205528.8586314454, 195198.0720183438, 156992.08072556628, 185821.86840827568, 200835.63633772393, 199419.8258125472, 198585.96546704546, 194064.8601862366, 186162.89555169217, 162967.45450899407, 192697.1126361196, 199186.3759250852, 203018.1621372047, 201124.8324847695, 200056.3242598848, 186309.27496296202, 158028.79475773074, 161863.70456869475, 171967.34990492626, 172593.80448438536, 170170.1840929345, 149209.9679527542, 155204.70681529708, 130260.54827385978, 172304.54040568307, 195593.52783822452, 195817.8297319783, 195720.3488117298, 197115.39393458315, 185678.169522715, 162492.62735190333, 187584.52033909064, 201108.7901686623, 204231.41264266148, 207929.98157747294, 207161.02556174117, 194547.81868094153, 164508.03392149805, 194755.33052141138, 196980.69273932526, 199013.37865394578, 201773.59786706386, 198725.6622177689, 196723.9507156988, 167076.63160873097, 188749.16829683416, 196009.71558813113, 197650.44908233715, 197676.28812509892, 199261.65657624096, 184961.77357292874, 161448.2684195375, 185953.71489760568, 193165.02547285048, 195845.0492575947, 194531.38465708177, 191639.88420315157, 176754.2318787869, 157302.6906826632, 179718.461070486, 190782.067930009, 190961.25425523112, 188710.67976533555, 196010.26237285158, 184489.37101729968, 161189.64622651192, 190063.8519816343, 220352.07071334205, 240090.44856875186, 225897.8849845144, 209790.32568967962, 188193.19244246004, 163697.11923590727, 193593.39019245323, 181466.81974847696, 172858.06568871523, 181400.92660401054, 179524.9123379322, 172195.11043156468, 150452.18301226015, 147958.90936823539, 170945.5463722189, 165423.92641929022, 177458.58764291278, 177568.28358917445, 174273.91978651614, 154301.7644731823, 178510.66011313247, 197943.83138678226, 197885.80763888705, 196249.9940227396, 189866.59299401255, 183533.6579696391, 157432.98427975026, 176287.2426442978, 223517.44736585548, 258772.3921844974, 233481.08914431845, 218621.63387380744, 191116.90638739374, 167964.93486541882, 199479.35401670536, 195960.75697736724, 186102.8751871145, 166666.93862196058, 183576.64554035023, 173399.853424094, 159821.50650961918, 186464.83870722412, 196253.0590325183, 195737.12003744976, 191082.18582548876, 187304.24754033546, 175433.3389653948, 158928.8187116328, 174712.56789348423, 134881.02556553335, 103323.12316438612, 150045.8665405751, 182148.78196784816, 202339.63086455502, 180625.5119499296, 155417.2188509082, 171375.6711946134, 112635.39368989291, 154826.7348616239, 177814.31935991332, 173892.28188747703, 152948.12767738508, 180282.57282546087, 194474.98184413047, 201795.7158874264, 204787.07522675654, 202336.94386319516, 191611.03486864732, 165551.97034133444, 195628.01922763325, 201278.28223434457, 202389.4257091114, 200981.31609713953, 200153.6498378637, 189968.45557856734, 163683.80610704774, 192067.05842284978, 201382.46548284256, 201183.77077553963, 201142.41955888452, 199669.70117680824, 188676.8191953168, 164685.0408470605, 191288.44988435687, 199927.6978804342, 200959.65328965726, 200429.67781879488, 198335.26485725777, 192676.9818539986, 164073.68912511648, 167948.0630194084, 213612.73846441085, 221078.0892560006, 229371.2384997781, 238537.57040211806, 240872.40865037456, 254425.05546675037, 205787.23888456615, 203643.9815400229, 207295.45991029058, 205607.6009757449, 204671.32581033828, 193959.71937277087, 175998.06273584228, 195868.57701588416, 278720.22988673113, 281386.4814412565, 310775.7788681702, 270008.22254257277, 242609.6833969237, 214932.85657405897, 244119.4349333873, 162336.1611736871, 186098.58609924017, 185078.23559172504, 196310.5403305393, 199285.23125452438, 172855.58257182848, 192070.08738081955, 161578.17658160484, 185882.8983655586, 184870.56045047147, 196315.89558615274, 198834.16930025123, 172770.53523022763, 190470.9301420059, 209168.90393057885, 211732.9436747704, 210082.00268172633, 210625.4624500052, 198453.38069379542, 167032.19622529135, 164183.8130031508, 220075.49575035713, 210797.48123042847, 213070.05667489642, 206886.22153557572, 187154.3908885693, 161082.15498901028, 190322.7373641677, 202196.43496123148, 208041.29202839287, 206735.3958189932, 206205.9948617767, 195063.9459834457, 170247.29677317402, 193548.85833759335]}],\n",
       "                        {\"legend\": {\"bgcolor\": \"#F5F6F9\", \"font\": {\"color\": \"#4D5663\"}}, \"paper_bgcolor\": \"#F5F6F9\", \"plot_bgcolor\": \"#F5F6F9\", \"template\": {\"data\": {\"bar\": [{\"error_x\": {\"color\": \"#2a3f5f\"}, \"error_y\": {\"color\": \"#2a3f5f\"}, \"marker\": {\"line\": {\"color\": \"#E5ECF6\", \"width\": 0.5}}, \"type\": \"bar\"}], \"barpolar\": [{\"marker\": {\"line\": {\"color\": \"#E5ECF6\", \"width\": 0.5}}, \"type\": \"barpolar\"}], \"carpet\": [{\"aaxis\": {\"endlinecolor\": \"#2a3f5f\", \"gridcolor\": \"white\", \"linecolor\": \"white\", \"minorgridcolor\": \"white\", \"startlinecolor\": \"#2a3f5f\"}, \"baxis\": {\"endlinecolor\": \"#2a3f5f\", \"gridcolor\": \"white\", \"linecolor\": \"white\", \"minorgridcolor\": \"white\", \"startlinecolor\": \"#2a3f5f\"}, \"type\": \"carpet\"}], \"choropleth\": [{\"colorbar\": {\"outlinewidth\": 0, \"ticks\": \"\"}, \"type\": \"choropleth\"}], \"contour\": [{\"colorbar\": {\"outlinewidth\": 0, \"ticks\": \"\"}, \"colorscale\": [[0.0, \"#0d0887\"], [0.1111111111111111, \"#46039f\"], [0.2222222222222222, \"#7201a8\"], [0.3333333333333333, \"#9c179e\"], [0.4444444444444444, \"#bd3786\"], [0.5555555555555556, \"#d8576b\"], [0.6666666666666666, \"#ed7953\"], [0.7777777777777778, \"#fb9f3a\"], [0.8888888888888888, \"#fdca26\"], [1.0, \"#f0f921\"]], \"type\": \"contour\"}], \"contourcarpet\": [{\"colorbar\": {\"outlinewidth\": 0, \"ticks\": \"\"}, \"type\": \"contourcarpet\"}], \"heatmap\": [{\"colorbar\": {\"outlinewidth\": 0, \"ticks\": \"\"}, \"colorscale\": [[0.0, \"#0d0887\"], [0.1111111111111111, \"#46039f\"], [0.2222222222222222, \"#7201a8\"], [0.3333333333333333, \"#9c179e\"], [0.4444444444444444, \"#bd3786\"], [0.5555555555555556, \"#d8576b\"], [0.6666666666666666, \"#ed7953\"], [0.7777777777777778, \"#fb9f3a\"], [0.8888888888888888, \"#fdca26\"], [1.0, \"#f0f921\"]], \"type\": \"heatmap\"}], \"heatmapgl\": [{\"colorbar\": {\"outlinewidth\": 0, \"ticks\": \"\"}, \"colorscale\": [[0.0, \"#0d0887\"], [0.1111111111111111, \"#46039f\"], [0.2222222222222222, \"#7201a8\"], [0.3333333333333333, \"#9c179e\"], [0.4444444444444444, \"#bd3786\"], [0.5555555555555556, \"#d8576b\"], [0.6666666666666666, \"#ed7953\"], [0.7777777777777778, \"#fb9f3a\"], [0.8888888888888888, \"#fdca26\"], [1.0, \"#f0f921\"]], \"type\": \"heatmapgl\"}], \"histogram\": [{\"marker\": {\"colorbar\": {\"outlinewidth\": 0, \"ticks\": \"\"}}, \"type\": \"histogram\"}], \"histogram2d\": [{\"colorbar\": {\"outlinewidth\": 0, \"ticks\": \"\"}, \"colorscale\": [[0.0, \"#0d0887\"], [0.1111111111111111, \"#46039f\"], [0.2222222222222222, \"#7201a8\"], [0.3333333333333333, \"#9c179e\"], [0.4444444444444444, \"#bd3786\"], [0.5555555555555556, \"#d8576b\"], [0.6666666666666666, \"#ed7953\"], [0.7777777777777778, \"#fb9f3a\"], [0.8888888888888888, \"#fdca26\"], [1.0, \"#f0f921\"]], \"type\": \"histogram2d\"}], \"histogram2dcontour\": [{\"colorbar\": {\"outlinewidth\": 0, \"ticks\": \"\"}, \"colorscale\": [[0.0, \"#0d0887\"], [0.1111111111111111, \"#46039f\"], [0.2222222222222222, \"#7201a8\"], [0.3333333333333333, \"#9c179e\"], [0.4444444444444444, \"#bd3786\"], [0.5555555555555556, \"#d8576b\"], [0.6666666666666666, \"#ed7953\"], [0.7777777777777778, \"#fb9f3a\"], [0.8888888888888888, \"#fdca26\"], [1.0, \"#f0f921\"]], \"type\": \"histogram2dcontour\"}], \"mesh3d\": [{\"colorbar\": {\"outlinewidth\": 0, \"ticks\": \"\"}, \"type\": \"mesh3d\"}], \"parcoords\": [{\"line\": {\"colorbar\": {\"outlinewidth\": 0, \"ticks\": \"\"}}, \"type\": \"parcoords\"}], \"scatter\": [{\"marker\": {\"colorbar\": {\"outlinewidth\": 0, \"ticks\": \"\"}}, \"type\": \"scatter\"}], \"scatter3d\": [{\"line\": {\"colorbar\": {\"outlinewidth\": 0, \"ticks\": \"\"}}, \"marker\": {\"colorbar\": {\"outlinewidth\": 0, \"ticks\": \"\"}}, \"type\": \"scatter3d\"}], \"scattercarpet\": [{\"marker\": {\"colorbar\": {\"outlinewidth\": 0, \"ticks\": \"\"}}, \"type\": \"scattercarpet\"}], \"scattergeo\": [{\"marker\": {\"colorbar\": {\"outlinewidth\": 0, \"ticks\": \"\"}}, \"type\": \"scattergeo\"}], \"scattergl\": [{\"marker\": {\"colorbar\": {\"outlinewidth\": 0, \"ticks\": \"\"}}, \"type\": \"scattergl\"}], \"scattermapbox\": [{\"marker\": {\"colorbar\": {\"outlinewidth\": 0, \"ticks\": \"\"}}, \"type\": \"scattermapbox\"}], \"scatterpolar\": [{\"marker\": {\"colorbar\": {\"outlinewidth\": 0, \"ticks\": \"\"}}, \"type\": \"scatterpolar\"}], \"scatterpolargl\": [{\"marker\": {\"colorbar\": {\"outlinewidth\": 0, \"ticks\": \"\"}}, \"type\": \"scatterpolargl\"}], \"scatterternary\": [{\"marker\": {\"colorbar\": {\"outlinewidth\": 0, \"ticks\": \"\"}}, \"type\": \"scatterternary\"}], \"surface\": [{\"colorbar\": {\"outlinewidth\": 0, \"ticks\": \"\"}, \"colorscale\": [[0.0, \"#0d0887\"], [0.1111111111111111, \"#46039f\"], [0.2222222222222222, \"#7201a8\"], [0.3333333333333333, \"#9c179e\"], [0.4444444444444444, \"#bd3786\"], [0.5555555555555556, \"#d8576b\"], [0.6666666666666666, \"#ed7953\"], [0.7777777777777778, \"#fb9f3a\"], [0.8888888888888888, \"#fdca26\"], [1.0, \"#f0f921\"]], \"type\": \"surface\"}], \"table\": [{\"cells\": {\"fill\": {\"color\": \"#EBF0F8\"}, \"line\": {\"color\": \"white\"}}, \"header\": {\"fill\": {\"color\": \"#C8D4E3\"}, \"line\": {\"color\": \"white\"}}, \"type\": \"table\"}]}, \"layout\": {\"annotationdefaults\": {\"arrowcolor\": \"#2a3f5f\", \"arrowhead\": 0, \"arrowwidth\": 1}, \"colorscale\": {\"diverging\": [[0, \"#8e0152\"], [0.1, \"#c51b7d\"], [0.2, \"#de77ae\"], [0.3, \"#f1b6da\"], [0.4, \"#fde0ef\"], [0.5, \"#f7f7f7\"], [0.6, \"#e6f5d0\"], [0.7, \"#b8e186\"], [0.8, \"#7fbc41\"], [0.9, \"#4d9221\"], [1, \"#276419\"]], \"sequential\": [[0.0, \"#0d0887\"], [0.1111111111111111, \"#46039f\"], [0.2222222222222222, \"#7201a8\"], [0.3333333333333333, \"#9c179e\"], [0.4444444444444444, \"#bd3786\"], [0.5555555555555556, \"#d8576b\"], [0.6666666666666666, \"#ed7953\"], [0.7777777777777778, \"#fb9f3a\"], [0.8888888888888888, \"#fdca26\"], [1.0, \"#f0f921\"]], \"sequentialminus\": [[0.0, \"#0d0887\"], [0.1111111111111111, \"#46039f\"], [0.2222222222222222, \"#7201a8\"], [0.3333333333333333, \"#9c179e\"], [0.4444444444444444, \"#bd3786\"], [0.5555555555555556, \"#d8576b\"], [0.6666666666666666, \"#ed7953\"], [0.7777777777777778, \"#fb9f3a\"], [0.8888888888888888, \"#fdca26\"], [1.0, \"#f0f921\"]]}, \"colorway\": [\"#636efa\", \"#EF553B\", \"#00cc96\", \"#ab63fa\", \"#FFA15A\", \"#19d3f3\", \"#FF6692\", \"#B6E880\", \"#FF97FF\", \"#FECB52\"], \"font\": {\"color\": \"#2a3f5f\"}, \"geo\": {\"bgcolor\": \"white\", \"lakecolor\": \"white\", \"landcolor\": \"#E5ECF6\", \"showlakes\": true, \"showland\": true, \"subunitcolor\": \"white\"}, \"hoverlabel\": {\"align\": \"left\"}, \"hovermode\": \"closest\", \"mapbox\": {\"style\": \"light\"}, \"paper_bgcolor\": \"white\", \"plot_bgcolor\": \"#E5ECF6\", \"polar\": {\"angularaxis\": {\"gridcolor\": \"white\", \"linecolor\": \"white\", \"ticks\": \"\"}, \"bgcolor\": \"#E5ECF6\", \"radialaxis\": {\"gridcolor\": \"white\", \"linecolor\": \"white\", \"ticks\": \"\"}}, \"scene\": {\"xaxis\": {\"backgroundcolor\": \"#E5ECF6\", \"gridcolor\": \"white\", \"gridwidth\": 2, \"linecolor\": \"white\", \"showbackground\": true, \"ticks\": \"\", \"zerolinecolor\": \"white\"}, \"yaxis\": {\"backgroundcolor\": \"#E5ECF6\", \"gridcolor\": \"white\", \"gridwidth\": 2, \"linecolor\": \"white\", \"showbackground\": true, \"ticks\": \"\", \"zerolinecolor\": \"white\"}, \"zaxis\": {\"backgroundcolor\": \"#E5ECF6\", \"gridcolor\": \"white\", \"gridwidth\": 2, \"linecolor\": \"white\", \"showbackground\": true, \"ticks\": \"\", \"zerolinecolor\": \"white\"}}, \"shapedefaults\": {\"line\": {\"color\": \"#2a3f5f\"}}, \"ternary\": {\"aaxis\": {\"gridcolor\": \"white\", \"linecolor\": \"white\", \"ticks\": \"\"}, \"baxis\": {\"gridcolor\": \"white\", \"linecolor\": \"white\", \"ticks\": \"\"}, \"bgcolor\": \"#E5ECF6\", \"caxis\": {\"gridcolor\": \"white\", \"linecolor\": \"white\", \"ticks\": \"\"}}, \"title\": {\"x\": 0.05}, \"xaxis\": {\"automargin\": true, \"gridcolor\": \"white\", \"linecolor\": \"white\", \"ticks\": \"\", \"zerolinecolor\": \"white\", \"zerolinewidth\": 2}, \"yaxis\": {\"automargin\": true, \"gridcolor\": \"white\", \"linecolor\": \"white\", \"ticks\": \"\", \"zerolinecolor\": \"white\", \"zerolinewidth\": 2}}}, \"title\": {\"font\": {\"color\": \"#4D5663\"}}, \"xaxis\": {\"gridcolor\": \"#E1E5ED\", \"showgrid\": true, \"tickfont\": {\"color\": \"#4D5663\"}, \"title\": {\"font\": {\"color\": \"#4D5663\"}, \"text\": \"\"}, \"zerolinecolor\": \"#E1E5ED\"}, \"yaxis\": {\"gridcolor\": \"#E1E5ED\", \"showgrid\": true, \"tickfont\": {\"color\": \"#4D5663\"}, \"title\": {\"font\": {\"color\": \"#4D5663\"}, \"text\": \"\"}, \"zerolinecolor\": \"#E1E5ED\"}},\n",
       "                        {\"showLink\": true, \"linkText\": \"Export to plot.ly\", \"plotlyServerURL\": \"https://plot.ly\", \"responsive\": true}\n",
       "                    ).then(function(){\n",
       "                            \n",
       "var gd = document.getElementById('4412370a-369c-497a-884c-2e5c740210b1');\n",
       "var x = new MutationObserver(function (mutations, observer) {{\n",
       "        var display = window.getComputedStyle(gd).display;\n",
       "        if (!display || display === 'none') {{\n",
       "            console.log([gd, 'removed!']);\n",
       "            Plotly.purge(gd);\n",
       "            observer.disconnect();\n",
       "        }}\n",
       "}});\n",
       "\n",
       "// Listen for the removal of the full notebook cells\n",
       "var notebookContainer = gd.closest('#notebook-container');\n",
       "if (notebookContainer) {{\n",
       "    x.observe(notebookContainer, {childList: true});\n",
       "}}\n",
       "\n",
       "// Listen for the clearing of the current output cell\n",
       "var outputEl = gd.closest('.output');\n",
       "if (outputEl) {{\n",
       "    x.observe(outputEl, {childList: true});\n",
       "}}\n",
       "\n",
       "                        })\n",
       "                };\n",
       "                });\n",
       "            </script>\n",
       "        </div>"
      ]
     },
     "metadata": {},
     "output_type": "display_data"
    }
   ],
   "source": [
    "lok.iplot()"
   ]
  },
  {
   "cell_type": "code",
   "execution_count": 202,
   "metadata": {
    "ExecuteTime": {
     "end_time": "2021-04-08T01:58:11.155799Z",
     "start_time": "2021-04-08T01:58:11.139843Z"
    }
   },
   "outputs": [],
   "source": [
    "# concatenate real value and prediction for all runs.\n",
    "# argument: dir of jointed dataframes. \n",
    "# return: error given by abs((y - pred)/y)\n",
    "def concat_error(j_p):\n",
    "    error_tot = pd.DataFrame()\n",
    "    for a in j_p.keys():\n",
    "        error_tot = pd.concat([error_tot, j_p[a]['error']], axis = 1)\n",
    "    error_tot.columns = [*j_p.keys()]\n",
    "    return error_tot"
   ]
  },
  {
   "cell_type": "code",
   "execution_count": 204,
   "metadata": {
    "ExecuteTime": {
     "end_time": "2021-04-08T01:58:34.366534Z",
     "start_time": "2021-04-08T01:58:34.331576Z"
    }
   },
   "outputs": [],
   "source": [
    "error_tot = concat_error(jointed)"
   ]
  },
  {
   "cell_type": "code",
   "execution_count": 205,
   "metadata": {
    "ExecuteTime": {
     "end_time": "2021-04-08T01:58:44.182590Z",
     "start_time": "2021-04-08T01:58:43.258452Z"
    }
   },
   "outputs": [
    {
     "data": {
      "application/vnd.plotly.v1+json": {
       "config": {
        "linkText": "Export to plot.ly",
        "plotlyServerURL": "https://plot.ly",
        "showLink": true
       },
       "data": [
        {
         "line": {
          "color": "rgba(255, 153, 51, 1.0)",
          "dash": "solid",
          "shape": "linear",
          "width": 1.3
         },
         "mode": "lines",
         "name": "07_04_2021_13_19_55",
         "text": "",
         "type": "scatter",
         "x": [
          "2019-04-02T00:00:00",
          "2019-04-03T00:00:00",
          "2019-04-04T00:00:00",
          "2019-04-05T00:00:00",
          "2019-04-06T00:00:00",
          "2019-04-07T00:00:00",
          "2019-04-08T00:00:00",
          "2019-04-09T00:00:00",
          "2019-04-10T00:00:00",
          "2019-04-11T00:00:00",
          "2019-04-12T00:00:00",
          "2019-04-13T00:00:00",
          "2019-04-14T00:00:00",
          "2019-04-15T00:00:00",
          "2019-04-16T00:00:00",
          "2019-04-17T00:00:00",
          "2019-04-18T00:00:00",
          "2019-04-19T00:00:00",
          "2019-04-20T00:00:00",
          "2019-04-21T00:00:00",
          "2019-04-22T00:00:00",
          "2019-04-23T00:00:00",
          "2019-04-24T00:00:00",
          "2019-04-25T00:00:00",
          "2019-04-26T00:00:00",
          "2019-04-27T00:00:00",
          "2019-04-28T00:00:00",
          "2019-04-29T00:00:00",
          "2019-04-30T00:00:00",
          "2019-05-01T00:00:00",
          "2019-05-02T00:00:00",
          "2019-05-03T00:00:00",
          "2019-05-04T00:00:00",
          "2019-05-05T00:00:00",
          "2019-05-06T00:00:00",
          "2019-05-07T00:00:00",
          "2019-05-08T00:00:00",
          "2019-05-09T00:00:00",
          "2019-05-10T00:00:00",
          "2019-05-11T00:00:00",
          "2019-05-12T00:00:00",
          "2019-05-13T00:00:00",
          "2019-05-14T00:00:00",
          "2019-05-15T00:00:00",
          "2019-05-16T00:00:00",
          "2019-05-17T00:00:00",
          "2019-05-18T00:00:00",
          "2019-05-19T00:00:00",
          "2019-05-20T00:00:00",
          "2019-05-21T00:00:00",
          "2019-05-22T00:00:00",
          "2019-05-23T00:00:00",
          "2019-05-24T00:00:00",
          "2019-05-25T00:00:00",
          "2019-05-26T00:00:00",
          "2019-05-27T00:00:00",
          "2019-05-28T00:00:00",
          "2019-05-29T00:00:00",
          "2019-05-30T00:00:00",
          "2019-05-31T00:00:00",
          "2019-06-01T00:00:00",
          "2019-06-02T00:00:00",
          "2019-06-03T00:00:00",
          "2019-06-04T00:00:00",
          "2019-06-05T00:00:00",
          "2019-06-06T00:00:00",
          "2019-06-07T00:00:00",
          "2019-06-08T00:00:00",
          "2019-06-09T00:00:00",
          "2019-06-10T00:00:00",
          "2019-06-11T00:00:00",
          "2019-06-12T00:00:00",
          "2019-06-13T00:00:00",
          "2019-06-14T00:00:00",
          "2019-06-15T00:00:00",
          "2019-06-16T00:00:00",
          "2019-06-17T00:00:00",
          "2019-06-18T00:00:00",
          "2019-06-19T00:00:00",
          "2019-06-20T00:00:00",
          "2019-06-21T00:00:00",
          "2019-06-22T00:00:00",
          "2019-06-23T00:00:00",
          "2019-06-24T00:00:00",
          "2019-06-25T00:00:00",
          "2019-06-26T00:00:00",
          "2019-06-27T00:00:00",
          "2019-06-28T00:00:00",
          "2019-06-29T00:00:00",
          "2019-06-30T00:00:00",
          "2019-07-01T00:00:00",
          "2019-07-02T00:00:00",
          "2019-07-03T00:00:00",
          "2019-07-04T00:00:00",
          "2019-07-05T00:00:00",
          "2019-07-06T00:00:00",
          "2019-07-07T00:00:00",
          "2019-07-08T00:00:00",
          "2019-07-09T00:00:00",
          "2019-07-10T00:00:00",
          "2019-07-11T00:00:00",
          "2019-07-12T00:00:00",
          "2019-07-13T00:00:00",
          "2019-07-14T00:00:00",
          "2019-07-15T00:00:00",
          "2019-07-16T00:00:00",
          "2019-07-17T00:00:00",
          "2019-07-18T00:00:00",
          "2019-07-19T00:00:00",
          "2019-07-20T00:00:00",
          "2019-07-21T00:00:00",
          "2019-07-22T00:00:00",
          "2019-07-23T00:00:00",
          "2019-07-24T00:00:00",
          "2019-07-25T00:00:00",
          "2019-07-26T00:00:00",
          "2019-07-27T00:00:00",
          "2019-07-28T00:00:00",
          "2019-07-29T00:00:00",
          "2019-07-30T00:00:00",
          "2019-07-31T00:00:00",
          "2019-08-01T00:00:00",
          "2019-08-02T00:00:00",
          "2019-08-03T00:00:00",
          "2019-08-04T00:00:00",
          "2019-08-05T00:00:00",
          "2019-08-06T00:00:00",
          "2019-08-07T00:00:00",
          "2019-08-08T00:00:00",
          "2019-08-09T00:00:00",
          "2019-08-10T00:00:00",
          "2019-08-11T00:00:00",
          "2019-08-12T00:00:00",
          "2019-08-13T00:00:00",
          "2019-08-14T00:00:00",
          "2019-08-15T00:00:00",
          "2019-08-16T00:00:00",
          "2019-08-17T00:00:00",
          "2019-08-18T00:00:00",
          "2019-08-19T00:00:00",
          "2019-08-20T00:00:00",
          "2019-08-21T00:00:00",
          "2019-08-22T00:00:00",
          "2019-08-23T00:00:00",
          "2019-08-24T00:00:00",
          "2019-08-25T00:00:00",
          "2019-08-26T00:00:00",
          "2019-08-27T00:00:00",
          "2019-08-28T00:00:00",
          "2019-08-29T00:00:00",
          "2019-08-30T00:00:00",
          "2019-08-31T00:00:00",
          "2019-09-01T00:00:00",
          "2019-09-02T00:00:00",
          "2019-09-03T00:00:00",
          "2019-09-04T00:00:00",
          "2019-09-05T00:00:00",
          "2019-09-06T00:00:00",
          "2019-09-07T00:00:00",
          "2019-09-08T00:00:00",
          "2019-09-09T00:00:00",
          "2019-09-10T00:00:00",
          "2019-09-11T00:00:00",
          "2019-09-12T00:00:00",
          "2019-09-13T00:00:00",
          "2019-09-14T00:00:00",
          "2019-09-15T00:00:00",
          "2019-09-16T00:00:00",
          "2019-09-17T00:00:00",
          "2019-09-18T00:00:00",
          "2019-09-19T00:00:00",
          "2019-09-20T00:00:00",
          "2019-09-21T00:00:00",
          "2019-09-22T00:00:00",
          "2019-09-23T00:00:00",
          "2019-09-24T00:00:00",
          "2019-09-25T00:00:00",
          "2019-09-26T00:00:00",
          "2019-09-27T00:00:00",
          "2019-09-28T00:00:00",
          "2019-09-29T00:00:00",
          "2019-09-30T00:00:00",
          "2019-10-01T00:00:00",
          "2019-10-02T00:00:00",
          "2019-10-03T00:00:00",
          "2019-10-04T00:00:00",
          "2019-10-05T00:00:00",
          "2019-10-06T00:00:00",
          "2019-10-07T00:00:00",
          "2019-10-08T00:00:00",
          "2019-10-09T00:00:00",
          "2019-10-10T00:00:00",
          "2019-10-11T00:00:00",
          "2019-10-12T00:00:00",
          "2019-10-13T00:00:00",
          "2019-10-14T00:00:00",
          "2019-10-15T00:00:00",
          "2019-10-16T00:00:00",
          "2019-10-17T00:00:00",
          "2019-10-18T00:00:00",
          "2019-10-19T00:00:00",
          "2019-10-20T00:00:00",
          "2019-10-21T00:00:00",
          "2019-10-22T00:00:00",
          "2019-10-23T00:00:00",
          "2019-10-24T00:00:00",
          "2019-10-25T00:00:00",
          "2019-10-26T00:00:00",
          "2019-10-27T00:00:00",
          "2019-10-28T00:00:00",
          "2019-10-29T00:00:00",
          "2019-10-30T00:00:00",
          "2019-10-31T00:00:00",
          "2019-11-01T00:00:00",
          "2019-11-02T00:00:00",
          "2019-11-03T00:00:00",
          "2019-11-04T00:00:00",
          "2019-11-05T00:00:00",
          "2019-11-06T00:00:00",
          "2019-11-07T00:00:00",
          "2019-11-08T00:00:00",
          "2019-11-09T00:00:00",
          "2019-11-10T00:00:00",
          "2019-11-11T00:00:00",
          "2019-11-12T00:00:00",
          "2019-11-13T00:00:00",
          "2019-11-14T00:00:00",
          "2019-11-15T00:00:00",
          "2019-11-16T00:00:00",
          "2019-11-17T00:00:00",
          "2019-11-18T00:00:00",
          "2019-11-19T00:00:00",
          "2019-11-20T00:00:00",
          "2019-11-21T00:00:00",
          "2019-11-22T00:00:00",
          "2019-11-23T00:00:00",
          "2019-11-24T00:00:00",
          "2019-11-25T00:00:00",
          "2019-11-26T00:00:00",
          "2019-11-27T00:00:00",
          "2019-11-28T00:00:00",
          "2019-11-29T00:00:00",
          "2019-11-30T00:00:00",
          "2019-12-01T00:00:00",
          "2019-12-02T00:00:00",
          "2019-12-03T00:00:00",
          "2019-12-04T00:00:00",
          "2019-12-05T00:00:00",
          "2019-12-06T00:00:00",
          "2019-12-07T00:00:00",
          "2019-12-08T00:00:00",
          "2019-12-09T00:00:00",
          "2019-12-10T00:00:00",
          "2019-12-11T00:00:00",
          "2019-12-12T00:00:00",
          "2019-12-13T00:00:00",
          "2019-12-14T00:00:00",
          "2019-12-15T00:00:00",
          "2019-12-16T00:00:00",
          "2019-12-17T00:00:00",
          "2019-12-18T00:00:00",
          "2019-12-19T00:00:00",
          "2019-12-20T00:00:00",
          "2019-12-21T00:00:00",
          "2019-12-22T00:00:00",
          "2019-12-23T00:00:00",
          "2019-12-24T00:00:00",
          "2019-12-25T00:00:00",
          "2019-12-26T00:00:00",
          "2019-12-27T00:00:00",
          "2019-12-28T00:00:00",
          "2019-12-29T00:00:00",
          "2019-12-30T00:00:00",
          "2019-12-31T00:00:00",
          "2020-01-01T00:00:00",
          "2020-01-02T00:00:00",
          "2020-01-03T00:00:00",
          "2020-01-04T00:00:00",
          "2020-01-05T00:00:00",
          "2020-01-06T00:00:00",
          "2020-01-07T00:00:00",
          "2020-01-08T00:00:00",
          "2020-01-09T00:00:00",
          "2020-01-10T00:00:00",
          "2020-01-11T00:00:00",
          "2020-01-12T00:00:00",
          "2020-01-13T00:00:00",
          "2020-01-14T00:00:00",
          "2020-01-15T00:00:00",
          "2020-01-16T00:00:00",
          "2020-01-17T00:00:00",
          "2020-01-18T00:00:00",
          "2020-01-19T00:00:00",
          "2020-01-20T00:00:00",
          "2020-01-21T00:00:00",
          "2020-01-22T00:00:00",
          "2020-01-23T00:00:00",
          "2020-01-24T00:00:00",
          "2020-01-25T00:00:00",
          "2020-01-26T00:00:00",
          "2020-01-27T00:00:00",
          "2020-01-28T00:00:00",
          "2020-01-29T00:00:00",
          "2020-01-30T00:00:00",
          "2020-01-31T00:00:00",
          "2020-02-01T00:00:00",
          "2020-02-02T00:00:00",
          "2020-02-03T00:00:00",
          "2020-02-04T00:00:00",
          "2020-02-05T00:00:00",
          "2020-02-06T00:00:00",
          "2020-02-07T00:00:00",
          "2020-02-08T00:00:00",
          "2020-02-09T00:00:00",
          "2020-02-10T00:00:00",
          "2020-02-11T00:00:00",
          "2020-02-12T00:00:00",
          "2020-02-13T00:00:00",
          "2020-02-14T00:00:00",
          "2020-02-15T00:00:00",
          "2020-02-16T00:00:00",
          "2020-02-17T00:00:00",
          "2020-02-18T00:00:00",
          "2020-02-19T00:00:00",
          "2020-02-20T00:00:00",
          "2020-02-21T00:00:00",
          "2020-02-22T00:00:00",
          "2020-02-23T00:00:00",
          "2020-02-24T00:00:00",
          "2020-02-25T00:00:00",
          "2020-02-26T00:00:00",
          "2020-02-27T00:00:00",
          "2020-02-28T00:00:00",
          "2020-02-29T00:00:00",
          "2020-03-01T00:00:00",
          "2020-03-02T00:00:00",
          "2020-03-03T00:00:00",
          "2020-03-04T00:00:00",
          "2020-03-05T00:00:00",
          "2020-03-06T00:00:00",
          "2020-03-07T00:00:00",
          "2020-03-08T00:00:00",
          "2020-03-09T00:00:00",
          "2020-03-10T00:00:00",
          "2020-03-11T00:00:00",
          "2020-03-12T00:00:00",
          "2020-03-13T00:00:00",
          "2020-03-14T00:00:00",
          "2020-03-15T00:00:00",
          "2020-03-16T00:00:00",
          "2020-03-17T00:00:00",
          "2020-03-18T00:00:00",
          "2020-03-19T00:00:00",
          "2020-03-20T00:00:00",
          "2020-03-21T00:00:00",
          "2020-03-22T00:00:00",
          "2020-03-23T00:00:00",
          "2020-03-24T00:00:00",
          "2020-03-25T00:00:00",
          "2020-03-26T00:00:00",
          "2020-03-27T00:00:00",
          "2020-03-28T00:00:00",
          "2020-03-29T00:00:00",
          "2020-03-30T00:00:00"
         ],
         "y": [
          0.02719039309001217,
          0.0374162665050354,
          0.03729324176500455,
          0.05701682198446205,
          0.04189659830114643,
          0.03960212153814509,
          0.014071372340559645,
          0.022248594920321513,
          0.029800932962244897,
          0.029113851981879237,
          0.02696925914738464,
          0.0042268134191705345,
          0.02044890976568358,
          0.023099495160659043,
          0.00980801322354121,
          0.026730928930886383,
          0.02242279237205191,
          0.03891663290907156,
          0.04196467723522553,
          0.00020633262353537355,
          0.008233833699193976,
          0.02515762901082429,
          0.01249147112170124,
          0.006528925933284774,
          0.01745955565557162,
          0.007714268956131068,
          0.007689622108108542,
          0.0013577371070449874,
          0.003399313065991403,
          0.016659472431599622,
          0.022988316355622575,
          0.019628815175348226,
          0.007510004200486978,
          0.005593222999277768,
          0.0038806325238245226,
          0.006789001698448262,
          0.006724181980303322,
          0.0015920411534994208,
          0.03577810289387766,
          0.01545093668814318,
          0.024597258085430288,
          0.0068992652214633484,
          0.00016451188948447704,
          0.02021364809986328,
          0.016167682026585833,
          0.02741438248736479,
          0.010259982331287873,
          0.009021533168211455,
          0.0015539404168836456,
          0.010118832768716255,
          0.013723480575536299,
          0.016862621511239028,
          0.02400104299774428,
          0.02262865976898887,
          0.0006557559166958806,
          0.007401723623701692,
          0.006468057709732724,
          0.015842561264388773,
          0.01823483160030751,
          0.01792620330468584,
          0.006010212019780458,
          0.009410707199677567,
          0.01171931708728105,
          0.0051700402858251065,
          0.030546549754532568,
          0.02842876624647526,
          0.006556043892078019,
          0.012526171548330613,
          0.02523499601161129,
          0.0035323978121129186,
          0.024490368310252652,
          0.02869292498621165,
          0.013845989006234145,
          0.028575983848365946,
          0.030168364632651684,
          0.005282630006786773,
          0.025045197525963653,
          0.04695164196552328,
          0.04073753942258138,
          0.0479624833046769,
          0.05558754317266025,
          0.04367095212979473,
          0.02872458996374036,
          0.04804061078454181,
          0.05305301250279979,
          0.051538419098388424,
          0.02268139265170914,
          0.040974478113643534,
          0.040975929042258635,
          0.01920984871258211,
          0.042603519203617865,
          0.06329147256492036,
          0.05279504345526642,
          0.05837658491583343,
          0.0529594573804355,
          0.052185212603452304,
          0.04582452713596308,
          0.056890152412917484,
          0.06917552507810591,
          0.090261839441003,
          0.08279688840456724,
          0.0828613814327449,
          0.052760320155428135,
          0.02135386457787301,
          0.02307021325574778,
          0.024316617396613956,
          0.03587819269355931,
          0.044260799732007,
          0.04091655453395417,
          0.01746773732187944,
          0.002863301583068449,
          0.007985854056358467,
          0.022854340295305746,
          0.028626212281844733,
          0.019364533156715272,
          0.026080984661149744,
          0.018855403060668734,
          0.012591500473166284,
          0.03578940738140263,
          0.04496758024709631,
          0.056724969675930034,
          0.03395415537454848,
          0.03994291867632536,
          0.04971843897591431,
          0.037915178376004735,
          0.050774813284826234,
          0.04989655408698074,
          0.034859211846981944,
          0.027575020505370893,
          0.02773935755919691,
          0.027177476885928795,
          0.003314371263817857,
          0.02487572005654675,
          0.04125994777138192,
          0.05366225802483765,
          0.05017696827757984,
          0.05227794078644818,
          0.04630049992828803,
          0.02856389516757395,
          0.053809777228056715,
          0.05549383444675957,
          0.06584094286696034,
          0.0597109626402531,
          0.026956322941110698,
          0.0021439564469994733,
          0.018883468597872714,
          0.015761012750792825,
          0.018577931717636123,
          0.0035416135966634486,
          0.005431011482752688,
          0.003936357294788137,
          0.008350209610986405,
          0.005647122222935597,
          0.02927695131443788,
          0.026712269927931118,
          0.047103798562444996,
          0.036791114180437096,
          0.029653889049031133,
          0.0131881976086392,
          0.009438516836177472,
          0.011018041912942315,
          0.016608984224578387,
          0.011324195960255386,
          0.0246155265500814,
          0.025476265751259716,
          0.021494039423857636,
          0.02180769461154069,
          0.062407555398015215,
          0.03112876017694186,
          0.02785941369216485,
          0.005752160752910633,
          0.0016362520321719116,
          0.005391285660692541,
          0.015269536828227261,
          0.0053015554126412704,
          0.012861001108555502,
          0.018367073824925355,
          0.015522426850842971,
          0.012061030147182433,
          0.0044045578683623975,
          0.025790969636859937,
          0.04458616313525518,
          0.029557443148445446,
          0.021884473457948667,
          0.017598136392730647,
          0.009680216251446048,
          0.01927178972702877,
          0.02981262368200492,
          0.00290273472124679,
          0.00613285548867197,
          0.018689887976883958,
          0.034540249150056705,
          0.043802705061851396,
          0.028085827642480337,
          0.007838502380707173,
          0.015349207563927178,
          0.032638442704111724,
          0.030666812658916555,
          0.019815019717576085,
          0.012725748474244427,
          0.009906516787677512,
          0.04180317612433437,
          0.034139472667985823,
          0.023575586859172402,
          0.03310765518747833,
          0.021879860822023426,
          0.024766729667791185,
          0.051999063772547226,
          0.03817993687285944,
          0.05096057606309468,
          0.02636500163738521,
          0.01879563254991432,
          0.03438152118271684,
          0.044284527313801024,
          0.07877500357981645,
          0.07585868830275048,
          0.0266306864023307,
          0.008053406325349463,
          0.004521453167199554,
          0.019719582024487987,
          0.02004833736838599,
          0.001096532507005722,
          0.013952736644878928,
          0.01572319937037622,
          0.027029033590126463,
          0.001777268170692185,
          0.00967928630910942,
          0.007580145225273306,
          0.01601546141051076,
          0.02909427638061611,
          0.12307187949775189,
          0.026204266213319196,
          0.010322722832134834,
          0.028297260310476816,
          0.019857883472240413,
          0.009735789191031057,
          0.013254580866094212,
          0.01178727838771235,
          0.0270303875761174,
          0.03531268115801395,
          0.036509232499367536,
          0.035520688016241336,
          0.011167941738786007,
          0.01311512394754803,
          0.011175673742235374,
          0.028279034485732157,
          0.031088041604655867,
          0.029544183451610844,
          0.03529396249428874,
          0.007380890292999388,
          0.006322722853747169,
          0.022818537743311447,
          0.04766174236144904,
          0.05148351209624727,
          0.03170270677555673,
          0.0017575814443548591,
          0.002390304906035451,
          0.00017164580295320374,
          0.024477543014006516,
          0.03866993246630444,
          0.028049957990362914,
          0.03076436917904185,
          0.02690338575380809,
          0.007742816170246143,
          0.017545237109601763,
          0.05673668419280327,
          0.07974898405314398,
          0.03989121155543403,
          0.04611745641425538,
          0.06852110794059343,
          0.06750042425990907,
          0.04621549164728189,
          0.07101738385113587,
          0.027703327979143266,
          0.10974263235881163,
          0.028203336399227927,
          0.010383274006239031,
          0.0025556608679887533,
          0.02205748936310316,
          0.033362163227210855,
          0.04297511434779548,
          0.03205099504529316,
          0.017653354980334587,
          0.017728211940560203,
          0.0037718193948077035,
          0.014673705901180282,
          0.017585968202538743,
          0.029539961608764043,
          0.03964123363758011,
          0.03942074778062113,
          0.03960202172490065,
          0.024126076839494085,
          0.005184444557770856,
          0.006489493473229322,
          0.00662523573805634,
          0.010336348422452842,
          0.015412397499076861,
          0.009228561403883147,
          0.009760168188801545,
          0.03483287865784471,
          0.011610732032797985,
          0.005123685590455233,
          0.004240375788162091,
          0.00295435805407318,
          0.0027814868512628546,
          0.003016402955498162,
          0.009699247051221861,
          0.06780154137863666,
          0.03519578529988415,
          0.01769557156585855,
          0.047649605239670836,
          0.03814373768706527,
          0.03342682207057639,
          0.059083017135152766,
          0.03188152669660108,
          0.012075739762192013,
          0.009021802361267497,
          0.01920472250026367,
          0.004521166332723621,
          0.035925282605120075,
          0.028055070451105724,
          0.004193186950552858,
          0.022539613484370027,
          0.03223753073201108,
          0.03727841234969565,
          0.035740726973840314,
          0.025598530972846322,
          0.0035700705341553526,
          0.001006855443394551,
          0.028704515033953545,
          0.01704930432315653,
          0.003942133638236734,
          0.011236586413961521,
          0.007774356908801727,
          0.027379659741174112,
          0.012263423327196534,
          0.007948685704344536,
          0.009794319196597555,
          0.017032188658650478,
          0.0019539286784454163,
          0.003049073137528863,
          0.0389536599870319,
          0.031099900210447038,
          4.281284892415024e-05,
          0.0069080125773773645,
          0.022984537117584084,
          0.027021890766616957,
          0.007524749588096564,
          0.00026084788956599257,
          0.05069354268606986,
          0.05705731512302638,
          0.00017691553498268503,
          0.005880332171522323,
          0.007717873819568443,
          0.006144023578262428,
          0.03214753993230928,
          0.028785092860690156,
          0.011930825219315693,
          0.015126020550656032,
          0.01946377380735106,
          0.026415537686273464,
          0.03500874744140823,
          0.05813415102159649,
          0.06724381323335214
         ]
        },
        {
         "line": {
          "color": "rgba(55, 128, 191, 1.0)",
          "dash": "solid",
          "shape": "linear",
          "width": 1.3
         },
         "mode": "lines",
         "name": "07_04_2021_14_00_17",
         "text": "",
         "type": "scatter",
         "x": [
          "2019-04-02T00:00:00",
          "2019-04-03T00:00:00",
          "2019-04-04T00:00:00",
          "2019-04-05T00:00:00",
          "2019-04-06T00:00:00",
          "2019-04-07T00:00:00",
          "2019-04-08T00:00:00",
          "2019-04-09T00:00:00",
          "2019-04-10T00:00:00",
          "2019-04-11T00:00:00",
          "2019-04-12T00:00:00",
          "2019-04-13T00:00:00",
          "2019-04-14T00:00:00",
          "2019-04-15T00:00:00",
          "2019-04-16T00:00:00",
          "2019-04-17T00:00:00",
          "2019-04-18T00:00:00",
          "2019-04-19T00:00:00",
          "2019-04-20T00:00:00",
          "2019-04-21T00:00:00",
          "2019-04-22T00:00:00",
          "2019-04-23T00:00:00",
          "2019-04-24T00:00:00",
          "2019-04-25T00:00:00",
          "2019-04-26T00:00:00",
          "2019-04-27T00:00:00",
          "2019-04-28T00:00:00",
          "2019-04-29T00:00:00",
          "2019-04-30T00:00:00",
          "2019-05-01T00:00:00",
          "2019-05-02T00:00:00",
          "2019-05-03T00:00:00",
          "2019-05-04T00:00:00",
          "2019-05-05T00:00:00",
          "2019-05-06T00:00:00",
          "2019-05-07T00:00:00",
          "2019-05-08T00:00:00",
          "2019-05-09T00:00:00",
          "2019-05-10T00:00:00",
          "2019-05-11T00:00:00",
          "2019-05-12T00:00:00",
          "2019-05-13T00:00:00",
          "2019-05-14T00:00:00",
          "2019-05-15T00:00:00",
          "2019-05-16T00:00:00",
          "2019-05-17T00:00:00",
          "2019-05-18T00:00:00",
          "2019-05-19T00:00:00",
          "2019-05-20T00:00:00",
          "2019-05-21T00:00:00",
          "2019-05-22T00:00:00",
          "2019-05-23T00:00:00",
          "2019-05-24T00:00:00",
          "2019-05-25T00:00:00",
          "2019-05-26T00:00:00",
          "2019-05-27T00:00:00",
          "2019-05-28T00:00:00",
          "2019-05-29T00:00:00",
          "2019-05-30T00:00:00",
          "2019-05-31T00:00:00",
          "2019-06-01T00:00:00",
          "2019-06-02T00:00:00",
          "2019-06-03T00:00:00",
          "2019-06-04T00:00:00",
          "2019-06-05T00:00:00",
          "2019-06-06T00:00:00",
          "2019-06-07T00:00:00",
          "2019-06-08T00:00:00",
          "2019-06-09T00:00:00",
          "2019-06-10T00:00:00",
          "2019-06-11T00:00:00",
          "2019-06-12T00:00:00",
          "2019-06-13T00:00:00",
          "2019-06-14T00:00:00",
          "2019-06-15T00:00:00",
          "2019-06-16T00:00:00",
          "2019-06-17T00:00:00",
          "2019-06-18T00:00:00",
          "2019-06-19T00:00:00",
          "2019-06-20T00:00:00",
          "2019-06-21T00:00:00",
          "2019-06-22T00:00:00",
          "2019-06-23T00:00:00",
          "2019-06-24T00:00:00",
          "2019-06-25T00:00:00",
          "2019-06-26T00:00:00",
          "2019-06-27T00:00:00",
          "2019-06-28T00:00:00",
          "2019-06-29T00:00:00",
          "2019-06-30T00:00:00",
          "2019-07-01T00:00:00",
          "2019-07-02T00:00:00",
          "2019-07-03T00:00:00",
          "2019-07-04T00:00:00",
          "2019-07-05T00:00:00",
          "2019-07-06T00:00:00",
          "2019-07-07T00:00:00",
          "2019-07-08T00:00:00",
          "2019-07-09T00:00:00",
          "2019-07-10T00:00:00",
          "2019-07-11T00:00:00",
          "2019-07-12T00:00:00",
          "2019-07-13T00:00:00",
          "2019-07-14T00:00:00",
          "2019-07-15T00:00:00",
          "2019-07-16T00:00:00",
          "2019-07-17T00:00:00",
          "2019-07-18T00:00:00",
          "2019-07-19T00:00:00",
          "2019-07-20T00:00:00",
          "2019-07-21T00:00:00",
          "2019-07-22T00:00:00",
          "2019-07-23T00:00:00",
          "2019-07-24T00:00:00",
          "2019-07-25T00:00:00",
          "2019-07-26T00:00:00",
          "2019-07-27T00:00:00",
          "2019-07-28T00:00:00",
          "2019-07-29T00:00:00",
          "2019-07-30T00:00:00",
          "2019-07-31T00:00:00",
          "2019-08-01T00:00:00",
          "2019-08-02T00:00:00",
          "2019-08-03T00:00:00",
          "2019-08-04T00:00:00",
          "2019-08-05T00:00:00",
          "2019-08-06T00:00:00",
          "2019-08-07T00:00:00",
          "2019-08-08T00:00:00",
          "2019-08-09T00:00:00",
          "2019-08-10T00:00:00",
          "2019-08-11T00:00:00",
          "2019-08-12T00:00:00",
          "2019-08-13T00:00:00",
          "2019-08-14T00:00:00",
          "2019-08-15T00:00:00",
          "2019-08-16T00:00:00",
          "2019-08-17T00:00:00",
          "2019-08-18T00:00:00",
          "2019-08-19T00:00:00",
          "2019-08-20T00:00:00",
          "2019-08-21T00:00:00",
          "2019-08-22T00:00:00",
          "2019-08-23T00:00:00",
          "2019-08-24T00:00:00",
          "2019-08-25T00:00:00",
          "2019-08-26T00:00:00",
          "2019-08-27T00:00:00",
          "2019-08-28T00:00:00",
          "2019-08-29T00:00:00",
          "2019-08-30T00:00:00",
          "2019-08-31T00:00:00",
          "2019-09-01T00:00:00",
          "2019-09-02T00:00:00",
          "2019-09-03T00:00:00",
          "2019-09-04T00:00:00",
          "2019-09-05T00:00:00",
          "2019-09-06T00:00:00",
          "2019-09-07T00:00:00",
          "2019-09-08T00:00:00",
          "2019-09-09T00:00:00",
          "2019-09-10T00:00:00",
          "2019-09-11T00:00:00",
          "2019-09-12T00:00:00",
          "2019-09-13T00:00:00",
          "2019-09-14T00:00:00",
          "2019-09-15T00:00:00",
          "2019-09-16T00:00:00",
          "2019-09-17T00:00:00",
          "2019-09-18T00:00:00",
          "2019-09-19T00:00:00",
          "2019-09-20T00:00:00",
          "2019-09-21T00:00:00",
          "2019-09-22T00:00:00",
          "2019-09-23T00:00:00",
          "2019-09-24T00:00:00",
          "2019-09-25T00:00:00",
          "2019-09-26T00:00:00",
          "2019-09-27T00:00:00",
          "2019-09-28T00:00:00",
          "2019-09-29T00:00:00",
          "2019-09-30T00:00:00",
          "2019-10-01T00:00:00",
          "2019-10-02T00:00:00",
          "2019-10-03T00:00:00",
          "2019-10-04T00:00:00",
          "2019-10-05T00:00:00",
          "2019-10-06T00:00:00",
          "2019-10-07T00:00:00",
          "2019-10-08T00:00:00",
          "2019-10-09T00:00:00",
          "2019-10-10T00:00:00",
          "2019-10-11T00:00:00",
          "2019-10-12T00:00:00",
          "2019-10-13T00:00:00",
          "2019-10-14T00:00:00",
          "2019-10-15T00:00:00",
          "2019-10-16T00:00:00",
          "2019-10-17T00:00:00",
          "2019-10-18T00:00:00",
          "2019-10-19T00:00:00",
          "2019-10-20T00:00:00",
          "2019-10-21T00:00:00",
          "2019-10-22T00:00:00",
          "2019-10-23T00:00:00",
          "2019-10-24T00:00:00",
          "2019-10-25T00:00:00",
          "2019-10-26T00:00:00",
          "2019-10-27T00:00:00",
          "2019-10-28T00:00:00",
          "2019-10-29T00:00:00",
          "2019-10-30T00:00:00",
          "2019-10-31T00:00:00",
          "2019-11-01T00:00:00",
          "2019-11-02T00:00:00",
          "2019-11-03T00:00:00",
          "2019-11-04T00:00:00",
          "2019-11-05T00:00:00",
          "2019-11-06T00:00:00",
          "2019-11-07T00:00:00",
          "2019-11-08T00:00:00",
          "2019-11-09T00:00:00",
          "2019-11-10T00:00:00",
          "2019-11-11T00:00:00",
          "2019-11-12T00:00:00",
          "2019-11-13T00:00:00",
          "2019-11-14T00:00:00",
          "2019-11-15T00:00:00",
          "2019-11-16T00:00:00",
          "2019-11-17T00:00:00",
          "2019-11-18T00:00:00",
          "2019-11-19T00:00:00",
          "2019-11-20T00:00:00",
          "2019-11-21T00:00:00",
          "2019-11-22T00:00:00",
          "2019-11-23T00:00:00",
          "2019-11-24T00:00:00",
          "2019-11-25T00:00:00",
          "2019-11-26T00:00:00",
          "2019-11-27T00:00:00",
          "2019-11-28T00:00:00",
          "2019-11-29T00:00:00",
          "2019-11-30T00:00:00",
          "2019-12-01T00:00:00",
          "2019-12-02T00:00:00",
          "2019-12-03T00:00:00",
          "2019-12-04T00:00:00",
          "2019-12-05T00:00:00",
          "2019-12-06T00:00:00",
          "2019-12-07T00:00:00",
          "2019-12-08T00:00:00",
          "2019-12-09T00:00:00",
          "2019-12-10T00:00:00",
          "2019-12-11T00:00:00",
          "2019-12-12T00:00:00",
          "2019-12-13T00:00:00",
          "2019-12-14T00:00:00",
          "2019-12-15T00:00:00",
          "2019-12-16T00:00:00",
          "2019-12-17T00:00:00",
          "2019-12-18T00:00:00",
          "2019-12-19T00:00:00",
          "2019-12-20T00:00:00",
          "2019-12-21T00:00:00",
          "2019-12-22T00:00:00",
          "2019-12-23T00:00:00",
          "2019-12-24T00:00:00",
          "2019-12-25T00:00:00",
          "2019-12-26T00:00:00",
          "2019-12-27T00:00:00",
          "2019-12-28T00:00:00",
          "2019-12-29T00:00:00",
          "2019-12-30T00:00:00",
          "2019-12-31T00:00:00",
          "2020-01-01T00:00:00",
          "2020-01-02T00:00:00",
          "2020-01-03T00:00:00",
          "2020-01-04T00:00:00",
          "2020-01-05T00:00:00",
          "2020-01-06T00:00:00",
          "2020-01-07T00:00:00",
          "2020-01-08T00:00:00",
          "2020-01-09T00:00:00",
          "2020-01-10T00:00:00",
          "2020-01-11T00:00:00",
          "2020-01-12T00:00:00",
          "2020-01-13T00:00:00",
          "2020-01-14T00:00:00",
          "2020-01-15T00:00:00",
          "2020-01-16T00:00:00",
          "2020-01-17T00:00:00",
          "2020-01-18T00:00:00",
          "2020-01-19T00:00:00",
          "2020-01-20T00:00:00",
          "2020-01-21T00:00:00",
          "2020-01-22T00:00:00",
          "2020-01-23T00:00:00",
          "2020-01-24T00:00:00",
          "2020-01-25T00:00:00",
          "2020-01-26T00:00:00",
          "2020-01-27T00:00:00",
          "2020-01-28T00:00:00",
          "2020-01-29T00:00:00",
          "2020-01-30T00:00:00",
          "2020-01-31T00:00:00",
          "2020-02-01T00:00:00",
          "2020-02-02T00:00:00",
          "2020-02-03T00:00:00",
          "2020-02-04T00:00:00",
          "2020-02-05T00:00:00",
          "2020-02-06T00:00:00",
          "2020-02-07T00:00:00",
          "2020-02-08T00:00:00",
          "2020-02-09T00:00:00",
          "2020-02-10T00:00:00",
          "2020-02-11T00:00:00",
          "2020-02-12T00:00:00",
          "2020-02-13T00:00:00",
          "2020-02-14T00:00:00",
          "2020-02-15T00:00:00",
          "2020-02-16T00:00:00",
          "2020-02-17T00:00:00",
          "2020-02-18T00:00:00",
          "2020-02-19T00:00:00",
          "2020-02-20T00:00:00",
          "2020-02-21T00:00:00",
          "2020-02-22T00:00:00",
          "2020-02-23T00:00:00",
          "2020-02-24T00:00:00",
          "2020-02-25T00:00:00",
          "2020-02-26T00:00:00",
          "2020-02-27T00:00:00",
          "2020-02-28T00:00:00",
          "2020-02-29T00:00:00",
          "2020-03-01T00:00:00",
          "2020-03-02T00:00:00",
          "2020-03-03T00:00:00",
          "2020-03-04T00:00:00",
          "2020-03-05T00:00:00",
          "2020-03-06T00:00:00",
          "2020-03-07T00:00:00",
          "2020-03-08T00:00:00",
          "2020-03-09T00:00:00",
          "2020-03-10T00:00:00",
          "2020-03-11T00:00:00",
          "2020-03-12T00:00:00",
          "2020-03-13T00:00:00",
          "2020-03-14T00:00:00",
          "2020-03-15T00:00:00",
          "2020-03-16T00:00:00",
          "2020-03-17T00:00:00",
          "2020-03-18T00:00:00",
          "2020-03-19T00:00:00",
          "2020-03-20T00:00:00",
          "2020-03-21T00:00:00",
          "2020-03-22T00:00:00",
          "2020-03-23T00:00:00",
          "2020-03-24T00:00:00",
          "2020-03-25T00:00:00",
          "2020-03-26T00:00:00",
          "2020-03-27T00:00:00",
          "2020-03-28T00:00:00",
          "2020-03-29T00:00:00",
          "2020-03-30T00:00:00"
         ],
         "y": [
          0.010658343586224184,
          0.03326982425700144,
          0.030213056397337873,
          0.04917269529297618,
          0.041681523237869104,
          0.0024594816933687894,
          0.017452148835588814,
          0.007297188125022044,
          0.02083839909042755,
          0.01875238575038254,
          0.01679252324994839,
          0.004877612744078246,
          0.022764498651717834,
          0.018188876627818738,
          0.020015715558689688,
          0.017934388810653026,
          0.003305418492254467,
          0.02415701031962531,
          0.015672523926898416,
          0.012540813159812116,
          0.0013830444871213358,
          0.012449758158859072,
          0.006864574047843449,
          0.004070278934310021,
          0.017123054496774124,
          0.02042429652740157,
          0.022287831067224345,
          0.01882005938707732,
          0.011173264029753991,
          0.005262057556612619,
          0.06333314594785766,
          0.007876069174603725,
          0.003762350051673565,
          0.01995118195931376,
          0.00913074532075979,
          0.008414016196602056,
          0.01095267103223862,
          0.009919379695075899,
          0.0516213617368387,
          0.011906138601648044,
          0.014036288408464095,
          0.005780105514179506,
          0.06675839476467924,
          0.07626695593031789,
          0.06705572487095994,
          0.03967395081172602,
          0.03225530959259674,
          0.025516553816214503,
          0.03352447292992052,
          0.0008062573816481602,
          0.0012002462169851953,
          0.005462669792162506,
          0.01682798938972417,
          0.0374993621115915,
          0.04544092202006502,
          0.0192600934770331,
          0.00020854073108827873,
          0.006951420119928832,
          0.00018920921179296307,
          0.00982282124940299,
          0.04626631982708945,
          0.05455716467957706,
          0.07978787008755893,
          0.028946465263501708,
          0.059597828377350066,
          0.057787494839328074,
          0.08035036693467734,
          0.047240591621421385,
          0.05125677251834806,
          0.045284581281970354,
          0.008260492303245142,
          0.03210442796756714,
          0.0006621377754270219,
          0.0030195475990324096,
          0.021229621423521673,
          0.006261302594113465,
          0.009795216076446737,
          0.031172490501921186,
          0.030981770273084696,
          0.03588156854196302,
          0.039404427591060005,
          0.030671209503373296,
          0.033902293789212036,
          0.02519525209383276,
          0.028846441234467723,
          0.025981072482914012,
          0.007601159990238551,
          0.006031320170529368,
          0.0019808845414372523,
          0.008615405386736899,
          0.015101517219194777,
          0.04785229226125859,
          0.02375829394062856,
          0.02444901662649333,
          0.009804910398939992,
          0.0009947540683196718,
          0.016601395651681082,
          0.00929104824258194,
          0.030381029738868467,
          0.04626834302340583,
          0.02959534692276472,
          0.03333078495842235,
          0.0010227409585603963,
          0.01470399775026984,
          0.036502627558818945,
          0.03465942981264824,
          0.019098374568753716,
          0.02520052602298389,
          0.015146765466855642,
          0.044625824901945756,
          0.04193572944536275,
          0.06545857698061942,
          0.03565810599028869,
          0.0203002345848673,
          0.03545977284050976,
          0.022771451861898356,
          0.043015195218170384,
          0.011629805639658574,
          0.02290888425912187,
          0.007287267779598709,
          0.027147066365695107,
          0.0009064245273434956,
          0.015282721297996012,
          0.025071448959156962,
          0.03098764810577354,
          0.047990359487895234,
          0.029658100363273772,
          0.03252641863999586,
          0.03763460108083439,
          0.08859755807159793,
          0.05393945365499201,
          0.058276087319138206,
          0.010695667631356433,
          0.024927315676487732,
          0.03936765945502005,
          0.03833488930931868,
          0.04304360867509381,
          0.03458405146973672,
          0.03859232974129087,
          0.04455618834581709,
          0.0355016589213853,
          0.05468623875142323,
          0.04634989381104814,
          0.01381565706682946,
          0.018694749472901007,
          0.014820068287330719,
          0.03042455294304188,
          0.04869980144876065,
          0.015406956515182289,
          0.022201198689746782,
          0.010506683122868208,
          0.01686920949528109,
          0.01508923494597181,
          0.004015146135597204,
          0.00783705531483791,
          0.018369508569712496,
          0.011109362637855029,
          0.0054313265039664296,
          0.010645696487908444,
          0.008963333108438356,
          0.004072143376296375,
          0.0034403699847232985,
          0.013227530761563442,
          0.0059936778967761015,
          0.0036212725360000838,
          0.005257322504290074,
          0.013934090358538929,
          0.04323702002372997,
          0.00882001539471989,
          0.013069957119616631,
          0.003978779405346582,
          0.013323675454576916,
          0.008617590644496331,
          0.02148363055209533,
          0.020633283166367148,
          0.024418445186580644,
          0.02611152596339128,
          0.02803476634661101,
          0.006940559709878147,
          0.014752270546374171,
          0.022213975969946082,
          0.01646890898840284,
          0.023622185037785362,
          0.033159256167712155,
          0.0340033697695121,
          0.025488993161997302,
          0.029690186424070036,
          0.009673201608788031,
          0.0006996723285759536,
          0.08275367849461394,
          0.07975395169973704,
          0.08649948854534581,
          0.0881560065674846,
          0.028589299298252567,
          0.06696900482634506,
          0.09974561122446807,
          0.03645832802524576,
          0.02431302209494758,
          0.009448666937884384,
          0.00929753773712444,
          0.0034218064109665714,
          0.004985091751101742,
          0.013093102793133318,
          0.015941728352344864,
          0.03504905722703501,
          0.02499712894811802,
          0.018442606035175262,
          0.018200805266865263,
          0.015336241930946815,
          0.006135819825845151,
          0.010322565204683401,
          0.0065396165251293105,
          5.453472055138039e-05,
          0.0008860420881569326,
          0.014627467169666172,
          0.021877136483927355,
          0.04420257589574906,
          0.02871692998082783,
          0.027125495323134453,
          0.037873768152891334,
          0.033738333381225324,
          0.036025185207401285,
          0.0306748841104504,
          0.0403105708428207,
          0.024909014273154628,
          0.008393067093493328,
          0.0150912482519929,
          0.0006348044522588084,
          0.01806442473696913,
          0.04324766070620679,
          0.05553757232963607,
          0.009829069474823846,
          0.02530861537865468,
          0.05178614417464525,
          0.04312361606542999,
          0.023718355358095855,
          0.011825382679313018,
          0.022396070653110858,
          0.021918313990385928,
          0.020606637853556584,
          0.04346391468655722,
          0.04949522112238607,
          0.007578080375985019,
          0.0535387314848517,
          0.040266573296084865,
          0.025857255282379626,
          0.02308351194059222,
          0.014918929476664905,
          0.02635755684060428,
          0.027052552388349298,
          0.017595670349058075,
          0.024671687708710192,
          0.02634708080585201,
          0.047718642176447515,
          0.04849159055679628,
          0.009317350841358134,
          0.013216041096783846,
          0.01634017123674879,
          0.027492986017848487,
          0.028578312868391666,
          0.016746133948800396,
          0.032281687316555646,
          0.03886812616753255,
          0.01935225721082965,
          0.01864904883305336,
          0.002102640823813481,
          0.06565314107375181,
          0.11699222120703885,
          0.011208505148528647,
          0.011867608093584161,
          0.005103044269201674,
          0.023368409790884986,
          0.04843438288919335,
          0.05123227825925688,
          0.14542832541737996,
          0.0054582833799181685,
          0.031021545223857604,
          0.03692267385279454,
          0.0768924803000264,
          0.023115834445309087,
          0.0018374028366254416,
          0.01499424476303691,
          0.0181478916630525,
          0.026731817528630762,
          0.03138126605206862,
          0.027241987690252652,
          0.00900762967863727,
          0.043962909890831556,
          0.024430802207098996,
          0.021082050213648337,
          0.015550977063076676,
          0.015586081080280525,
          0.004844772131929467,
          0.02455642548116701,
          0.015087856256380434,
          0.01875126758159624,
          0.014367612120518902,
          0.023878859331850247,
          0.036503341631256785,
          0.034498680940755956,
          0.02128477900754914,
          0.007535076900057205,
          0.02048185327557829,
          0.017369008945658477,
          0.01127992423579876,
          0.03080357647457759,
          0.0180966190112647,
          0.04274290938987942,
          0.06920555951271203,
          0.07021520360166159,
          0.09685880484233586,
          0.07785550004829934,
          0.06817128661434857,
          0.05931470367754039,
          0.044923615778733654,
          0.02748628186596847,
          0.03254660028912322,
          0.03952860073563422,
          0.02824247374590682,
          0.016516292222401852,
          0.04947052143702712,
          0.013284698216342244,
          0.02532504734850665,
          0.03733763010136537,
          0.03917331221625046,
          0.03156796111717901,
          0.01849991227233042,
          0.01822603633241145,
          0.009671757730398432,
          0.002031238605035197,
          0.019563760216108905,
          0.02791834379464589,
          0.02652527020432521,
          0.022948856108907487,
          0.02229039651724172,
          0.03360478015475353,
          0.005215482593124029,
          0.020230614854827515,
          0.013403566540635063,
          0.03320742139069659,
          0.024196862091658836,
          0.018913181299315993,
          0.04211212437277197,
          0.009475837291427659,
          0.000670152076817058,
          0.031205855182006283,
          0.03945383203687509,
          0.06416993552508388,
          0.0871894513830483,
          0.04771611239672958,
          0.051322693913787576,
          0.02336983350243409,
          0.02181199034782442,
          0.03267316603931021,
          0.015424253587111896,
          0.00989103380867669,
          0.027883800323451013,
          0.007176337468567033,
          0.014590897294270624,
          0.016669883302070174,
          0.034163778434946425,
          0.03758103277211301,
          0.026423732714331054,
          0.039283851131921316
         ]
        },
        {
         "line": {
          "color": "rgba(50, 171, 96, 1.0)",
          "dash": "solid",
          "shape": "linear",
          "width": 1.3
         },
         "mode": "lines",
         "name": "07_04_2021_14_46_22",
         "text": "",
         "type": "scatter",
         "x": [
          "2019-04-02T00:00:00",
          "2019-04-03T00:00:00",
          "2019-04-04T00:00:00",
          "2019-04-05T00:00:00",
          "2019-04-06T00:00:00",
          "2019-04-07T00:00:00",
          "2019-04-08T00:00:00",
          "2019-04-09T00:00:00",
          "2019-04-10T00:00:00",
          "2019-04-11T00:00:00",
          "2019-04-12T00:00:00",
          "2019-04-13T00:00:00",
          "2019-04-14T00:00:00",
          "2019-04-15T00:00:00",
          "2019-04-16T00:00:00",
          "2019-04-17T00:00:00",
          "2019-04-18T00:00:00",
          "2019-04-19T00:00:00",
          "2019-04-20T00:00:00",
          "2019-04-21T00:00:00",
          "2019-04-22T00:00:00",
          "2019-04-23T00:00:00",
          "2019-04-24T00:00:00",
          "2019-04-25T00:00:00",
          "2019-04-26T00:00:00",
          "2019-04-27T00:00:00",
          "2019-04-28T00:00:00",
          "2019-04-29T00:00:00",
          "2019-04-30T00:00:00",
          "2019-05-01T00:00:00",
          "2019-05-02T00:00:00",
          "2019-05-03T00:00:00",
          "2019-05-04T00:00:00",
          "2019-05-05T00:00:00",
          "2019-05-06T00:00:00",
          "2019-05-07T00:00:00",
          "2019-05-08T00:00:00",
          "2019-05-09T00:00:00",
          "2019-05-10T00:00:00",
          "2019-05-11T00:00:00",
          "2019-05-12T00:00:00",
          "2019-05-13T00:00:00",
          "2019-05-14T00:00:00",
          "2019-05-15T00:00:00",
          "2019-05-16T00:00:00",
          "2019-05-17T00:00:00",
          "2019-05-18T00:00:00",
          "2019-05-19T00:00:00",
          "2019-05-20T00:00:00",
          "2019-05-21T00:00:00",
          "2019-05-22T00:00:00",
          "2019-05-23T00:00:00",
          "2019-05-24T00:00:00",
          "2019-05-25T00:00:00",
          "2019-05-26T00:00:00",
          "2019-05-27T00:00:00",
          "2019-05-28T00:00:00",
          "2019-05-29T00:00:00",
          "2019-05-30T00:00:00",
          "2019-05-31T00:00:00",
          "2019-06-01T00:00:00",
          "2019-06-02T00:00:00",
          "2019-06-03T00:00:00",
          "2019-06-04T00:00:00",
          "2019-06-05T00:00:00",
          "2019-06-06T00:00:00",
          "2019-06-07T00:00:00",
          "2019-06-08T00:00:00",
          "2019-06-09T00:00:00",
          "2019-06-10T00:00:00",
          "2019-06-11T00:00:00",
          "2019-06-12T00:00:00",
          "2019-06-13T00:00:00",
          "2019-06-14T00:00:00",
          "2019-06-15T00:00:00",
          "2019-06-16T00:00:00",
          "2019-06-17T00:00:00",
          "2019-06-18T00:00:00",
          "2019-06-19T00:00:00",
          "2019-06-20T00:00:00",
          "2019-06-21T00:00:00",
          "2019-06-22T00:00:00",
          "2019-06-23T00:00:00",
          "2019-06-24T00:00:00",
          "2019-06-25T00:00:00",
          "2019-06-26T00:00:00",
          "2019-06-27T00:00:00",
          "2019-06-28T00:00:00",
          "2019-06-29T00:00:00",
          "2019-06-30T00:00:00",
          "2019-07-01T00:00:00",
          "2019-07-02T00:00:00",
          "2019-07-03T00:00:00",
          "2019-07-04T00:00:00",
          "2019-07-05T00:00:00",
          "2019-07-06T00:00:00",
          "2019-07-07T00:00:00",
          "2019-07-08T00:00:00",
          "2019-07-09T00:00:00",
          "2019-07-10T00:00:00",
          "2019-07-11T00:00:00",
          "2019-07-12T00:00:00",
          "2019-07-13T00:00:00",
          "2019-07-14T00:00:00",
          "2019-07-15T00:00:00",
          "2019-07-16T00:00:00",
          "2019-07-17T00:00:00",
          "2019-07-18T00:00:00",
          "2019-07-19T00:00:00",
          "2019-07-20T00:00:00",
          "2019-07-21T00:00:00",
          "2019-07-22T00:00:00",
          "2019-07-23T00:00:00",
          "2019-07-24T00:00:00",
          "2019-07-25T00:00:00",
          "2019-07-26T00:00:00",
          "2019-07-27T00:00:00",
          "2019-07-28T00:00:00",
          "2019-07-29T00:00:00",
          "2019-07-30T00:00:00",
          "2019-07-31T00:00:00",
          "2019-08-01T00:00:00",
          "2019-08-02T00:00:00",
          "2019-08-03T00:00:00",
          "2019-08-04T00:00:00",
          "2019-08-05T00:00:00",
          "2019-08-06T00:00:00",
          "2019-08-07T00:00:00",
          "2019-08-08T00:00:00",
          "2019-08-09T00:00:00",
          "2019-08-10T00:00:00",
          "2019-08-11T00:00:00",
          "2019-08-12T00:00:00",
          "2019-08-13T00:00:00",
          "2019-08-14T00:00:00",
          "2019-08-15T00:00:00",
          "2019-08-16T00:00:00",
          "2019-08-17T00:00:00",
          "2019-08-18T00:00:00",
          "2019-08-19T00:00:00",
          "2019-08-20T00:00:00",
          "2019-08-21T00:00:00",
          "2019-08-22T00:00:00",
          "2019-08-23T00:00:00",
          "2019-08-24T00:00:00",
          "2019-08-25T00:00:00",
          "2019-08-26T00:00:00",
          "2019-08-27T00:00:00",
          "2019-08-28T00:00:00",
          "2019-08-29T00:00:00",
          "2019-08-30T00:00:00",
          "2019-08-31T00:00:00",
          "2019-09-01T00:00:00",
          "2019-09-02T00:00:00",
          "2019-09-03T00:00:00",
          "2019-09-04T00:00:00",
          "2019-09-05T00:00:00",
          "2019-09-06T00:00:00",
          "2019-09-07T00:00:00",
          "2019-09-08T00:00:00",
          "2019-09-09T00:00:00",
          "2019-09-10T00:00:00",
          "2019-09-11T00:00:00",
          "2019-09-12T00:00:00",
          "2019-09-13T00:00:00",
          "2019-09-14T00:00:00",
          "2019-09-15T00:00:00",
          "2019-09-16T00:00:00",
          "2019-09-17T00:00:00",
          "2019-09-18T00:00:00",
          "2019-09-19T00:00:00",
          "2019-09-20T00:00:00",
          "2019-09-21T00:00:00",
          "2019-09-22T00:00:00",
          "2019-09-23T00:00:00",
          "2019-09-24T00:00:00",
          "2019-09-25T00:00:00",
          "2019-09-26T00:00:00",
          "2019-09-27T00:00:00",
          "2019-09-28T00:00:00",
          "2019-09-29T00:00:00",
          "2019-09-30T00:00:00",
          "2019-10-01T00:00:00",
          "2019-10-02T00:00:00",
          "2019-10-03T00:00:00",
          "2019-10-04T00:00:00",
          "2019-10-05T00:00:00",
          "2019-10-06T00:00:00",
          "2019-10-07T00:00:00",
          "2019-10-08T00:00:00",
          "2019-10-09T00:00:00",
          "2019-10-10T00:00:00",
          "2019-10-11T00:00:00",
          "2019-10-12T00:00:00",
          "2019-10-13T00:00:00",
          "2019-10-14T00:00:00",
          "2019-10-15T00:00:00",
          "2019-10-16T00:00:00",
          "2019-10-17T00:00:00",
          "2019-10-18T00:00:00",
          "2019-10-19T00:00:00",
          "2019-10-20T00:00:00",
          "2019-10-21T00:00:00",
          "2019-10-22T00:00:00",
          "2019-10-23T00:00:00",
          "2019-10-24T00:00:00",
          "2019-10-25T00:00:00",
          "2019-10-26T00:00:00",
          "2019-10-27T00:00:00",
          "2019-10-28T00:00:00",
          "2019-10-29T00:00:00",
          "2019-10-30T00:00:00",
          "2019-10-31T00:00:00",
          "2019-11-01T00:00:00",
          "2019-11-02T00:00:00",
          "2019-11-03T00:00:00",
          "2019-11-04T00:00:00",
          "2019-11-05T00:00:00",
          "2019-11-06T00:00:00",
          "2019-11-07T00:00:00",
          "2019-11-08T00:00:00",
          "2019-11-09T00:00:00",
          "2019-11-10T00:00:00",
          "2019-11-11T00:00:00",
          "2019-11-12T00:00:00",
          "2019-11-13T00:00:00",
          "2019-11-14T00:00:00",
          "2019-11-15T00:00:00",
          "2019-11-16T00:00:00",
          "2019-11-17T00:00:00",
          "2019-11-18T00:00:00",
          "2019-11-19T00:00:00",
          "2019-11-20T00:00:00",
          "2019-11-21T00:00:00",
          "2019-11-22T00:00:00",
          "2019-11-23T00:00:00",
          "2019-11-24T00:00:00",
          "2019-11-25T00:00:00",
          "2019-11-26T00:00:00",
          "2019-11-27T00:00:00",
          "2019-11-28T00:00:00",
          "2019-11-29T00:00:00",
          "2019-11-30T00:00:00",
          "2019-12-01T00:00:00",
          "2019-12-02T00:00:00",
          "2019-12-03T00:00:00",
          "2019-12-04T00:00:00",
          "2019-12-05T00:00:00",
          "2019-12-06T00:00:00",
          "2019-12-07T00:00:00",
          "2019-12-08T00:00:00",
          "2019-12-09T00:00:00",
          "2019-12-10T00:00:00",
          "2019-12-11T00:00:00",
          "2019-12-12T00:00:00",
          "2019-12-13T00:00:00",
          "2019-12-14T00:00:00",
          "2019-12-15T00:00:00",
          "2019-12-16T00:00:00",
          "2019-12-17T00:00:00",
          "2019-12-18T00:00:00",
          "2019-12-19T00:00:00",
          "2019-12-20T00:00:00",
          "2019-12-21T00:00:00",
          "2019-12-22T00:00:00",
          "2019-12-23T00:00:00",
          "2019-12-24T00:00:00",
          "2019-12-25T00:00:00",
          "2019-12-26T00:00:00",
          "2019-12-27T00:00:00",
          "2019-12-28T00:00:00",
          "2019-12-29T00:00:00",
          "2019-12-30T00:00:00",
          "2019-12-31T00:00:00",
          "2020-01-01T00:00:00",
          "2020-01-02T00:00:00",
          "2020-01-03T00:00:00",
          "2020-01-04T00:00:00",
          "2020-01-05T00:00:00",
          "2020-01-06T00:00:00",
          "2020-01-07T00:00:00",
          "2020-01-08T00:00:00",
          "2020-01-09T00:00:00",
          "2020-01-10T00:00:00",
          "2020-01-11T00:00:00",
          "2020-01-12T00:00:00",
          "2020-01-13T00:00:00",
          "2020-01-14T00:00:00",
          "2020-01-15T00:00:00",
          "2020-01-16T00:00:00",
          "2020-01-17T00:00:00",
          "2020-01-18T00:00:00",
          "2020-01-19T00:00:00",
          "2020-01-20T00:00:00",
          "2020-01-21T00:00:00",
          "2020-01-22T00:00:00",
          "2020-01-23T00:00:00",
          "2020-01-24T00:00:00",
          "2020-01-25T00:00:00",
          "2020-01-26T00:00:00",
          "2020-01-27T00:00:00",
          "2020-01-28T00:00:00",
          "2020-01-29T00:00:00",
          "2020-01-30T00:00:00",
          "2020-01-31T00:00:00",
          "2020-02-01T00:00:00",
          "2020-02-02T00:00:00",
          "2020-02-03T00:00:00",
          "2020-02-04T00:00:00",
          "2020-02-05T00:00:00",
          "2020-02-06T00:00:00",
          "2020-02-07T00:00:00",
          "2020-02-08T00:00:00",
          "2020-02-09T00:00:00",
          "2020-02-10T00:00:00",
          "2020-02-11T00:00:00",
          "2020-02-12T00:00:00",
          "2020-02-13T00:00:00",
          "2020-02-14T00:00:00",
          "2020-02-15T00:00:00",
          "2020-02-16T00:00:00",
          "2020-02-17T00:00:00",
          "2020-02-18T00:00:00",
          "2020-02-19T00:00:00",
          "2020-02-20T00:00:00",
          "2020-02-21T00:00:00",
          "2020-02-22T00:00:00",
          "2020-02-23T00:00:00",
          "2020-02-24T00:00:00",
          "2020-02-25T00:00:00",
          "2020-02-26T00:00:00",
          "2020-02-27T00:00:00",
          "2020-02-28T00:00:00",
          "2020-02-29T00:00:00",
          "2020-03-01T00:00:00",
          "2020-03-02T00:00:00",
          "2020-03-03T00:00:00",
          "2020-03-04T00:00:00",
          "2020-03-05T00:00:00",
          "2020-03-06T00:00:00",
          "2020-03-07T00:00:00",
          "2020-03-08T00:00:00",
          "2020-03-09T00:00:00",
          "2020-03-10T00:00:00",
          "2020-03-11T00:00:00",
          "2020-03-12T00:00:00",
          "2020-03-13T00:00:00",
          "2020-03-14T00:00:00",
          "2020-03-15T00:00:00",
          "2020-03-16T00:00:00",
          "2020-03-17T00:00:00",
          "2020-03-18T00:00:00",
          "2020-03-19T00:00:00",
          "2020-03-20T00:00:00",
          "2020-03-21T00:00:00",
          "2020-03-22T00:00:00",
          "2020-03-23T00:00:00",
          "2020-03-24T00:00:00",
          "2020-03-25T00:00:00",
          "2020-03-26T00:00:00",
          "2020-03-27T00:00:00",
          "2020-03-28T00:00:00",
          "2020-03-29T00:00:00",
          "2020-03-30T00:00:00"
         ],
         "y": [
          0.014881892377865049,
          0.03636636439631344,
          0.03156499517216605,
          0.0452489819351739,
          0.048095199001027114,
          0.010780580459717738,
          0.02310580379043132,
          0.010577807212418482,
          0.020868857339279307,
          0.012976561935849396,
          0.014583672496270118,
          0.0012472472461053693,
          0.02605107307919142,
          0.014299076359493571,
          0.006153063165473799,
          0.002534427604506864,
          0.01877747662863862,
          0.0306443858334939,
          0.0043763362429991735,
          0.033759165506681815,
          0.03165108356903678,
          0.007927092300371419,
          0.008725632800076863,
          0.005554671263538908,
          0.015900226259301056,
          0.020273947072254033,
          0.02636778954402581,
          0.01615669281546474,
          0.0160735825244469,
          0.000740857470029653,
          0.07367298477777005,
          0.014139893297550306,
          0.00335438970681331,
          0.029913484105188043,
          0.01213011611501902,
          0.009305931087964391,
          0.007279367647214948,
          0.00756497486948321,
          0.08473674869619349,
          0.022440157900692346,
          0.01032847941085843,
          0.0011098406055084253,
          0.019143156298149236,
          0.0026548276343410933,
          0.01755803281921123,
          0.008098975892025621,
          0.0005193243179135034,
          0.015648300621872575,
          0.003784964857107988,
          0.00950956099259872,
          0.00013931380404668897,
          0.005004553010321476,
          0.022468205821038777,
          0.04311320337402136,
          0.04553908510623517,
          0.02089796872528867,
          0.002407039985036703,
          0.0073278892122113125,
          0.002746509597881048,
          0.020104792066402633,
          0.06650477110422244,
          0.06590927645453099,
          0.09370433991236399,
          0.04015676475946416,
          0.06793401629590722,
          0.06854245256892873,
          0.09492136068563135,
          0.06462259140464983,
          0.06467164341363173,
          0.06245526450405588,
          0.0446531201444854,
          0.04650159398261145,
          0.0450683480353902,
          0.04011935108640353,
          0.011077176312000659,
          0.01132902601355859,
          0.03894001077331346,
          0.03300497990476882,
          0.03236239424268194,
          0.03906402711059832,
          0.041916047244975684,
          0.03297682808378362,
          0.038693822239183516,
          0.030915454944493877,
          0.030229893287238938,
          0.024556736158360088,
          0.0041324835743810386,
          0.0019905297947485938,
          0.010304876320322495,
          0.0007315252477026192,
          0.01249842565498658,
          0.04515004243211076,
          0.018694584848599528,
          0.0154077804064271,
          0.0005383628983061556,
          0.001085398719527871,
          0.012836645289812177,
          0.005890874734025588,
          0.029799088141167097,
          0.04533566631828915,
          0.028900560288944655,
          0.03374753563037486,
          0.0010693484538061252,
          0.018231870271226264,
          0.03960388273198058,
          0.03361699934046972,
          0.020801497584377594,
          0.02572537236475323,
          0.02198880743756756,
          0.04197046220416581,
          0.0459026618670444,
          0.07213511689447563,
          0.039872756441712495,
          0.027847533928950955,
          0.04019245227256525,
          0.025019469650938608,
          0.03632061098184961,
          0.010487267707937117,
          0.029657972029547158,
          0.0018678882767542081,
          0.016703477287413688,
          0.01338400428994644,
          0.0035059206270392175,
          0.01655105987182698,
          0.0360302547312545,
          0.03703525202992466,
          0.046511002127868836,
          0.029930625743393686,
          0.036514360645347466,
          0.04633803864467949,
          0.04039203527230161,
          0.04601281532001504,
          0.04217898420425748,
          0.05320931466526023,
          0.06260683753919763,
          0.059733656100527936,
          0.07167976599432241,
          0.05312210669996223,
          0.051878674437447675,
          0.07884658494512427,
          0.039893436893635045,
          0.05879179249649802,
          0.051267469721111375,
          0.013991113689567935,
          0.017564231566989837,
          0.013143482047231486,
          0.03340696582770858,
          0.060420013497000706,
          0.012722346276577597,
          0.016787193426789918,
          0.002245878060119771,
          0.002570084128621024,
          0.011345708371019211,
          0.0008290389295720188,
          0.003432369161935167,
          0.017933270597675792,
          0.014646317040784566,
          0.000783740803529128,
          0.004433290022930631,
          0.011693063579775642,
          0.002232462414075442,
          0.002013576066340106,
          0.014459984323566455,
          0.011719608201605069,
          0.005844654441455805,
          0.013064384198157546,
          0.0324162213637807,
          0.045923410822829205,
          0.0068363462444279675,
          0.01037653080170865,
          0.000897780780208934,
          0.015339588312788472,
          0.0068404764576383914,
          0.02044091483385511,
          0.025428323919424373,
          0.02974210028089851,
          0.03178304492993735,
          0.03705305748461047,
          0.01350775103596707,
          0.021780131925612286,
          0.02450796985045946,
          0.015324663231689382,
          0.024807300709267087,
          0.04431868530841852,
          0.041788097352279466,
          0.03619360509107169,
          0.03705589111817223,
          0.006157478880216655,
          0.0031128476019399087,
          0.003864655915435867,
          0.0022943790540992503,
          0.015018034574038344,
          0.027612569518068154,
          0.07350554843039149,
          0.020435527386566087,
          0.028788539526193837,
          0.039933634948669534,
          0.02812512943269752,
          0.013686761677785292,
          0.007646571292773242,
          0.006343004437529943,
          0.006097588729305576,
          0.005822719505462654,
          0.0124503935524211,
          0.005792573904264039,
          0.012161569036805833,
          0.010919241721767992,
          0.022534203528940578,
          0.06279567616672535,
          0.03712828066969219,
          0.026986185569515507,
          0.03160020268951435,
          0.028346652146896245,
          0.0040607603516352175,
          0.016323808030705746,
          0.021271321292502348,
          0.04155406367606222,
          0.02528551060929804,
          0.02415396465284763,
          0.031210426657722376,
          0.03570830655805047,
          0.03830117591145238,
          0.03265619886727921,
          0.04345586424709538,
          0.02908858587384872,
          0.002635696956894273,
          0.012896351178154932,
          0.004567951802509408,
          0.03114550970537366,
          0.04975010230194662,
          0.07803494232849141,
          0.013618798130126102,
          0.04725820264270169,
          0.07075828924717759,
          0.11418161950687415,
          0.054762072548045396,
          0.03424290544777874,
          0.03479471270501216,
          0.03513874700971406,
          0.04195197089859772,
          0.06455298170801385,
          0.10548496579183342,
          0.030878780981673723,
          0.06461392270142138,
          0.05402287897939982,
          0.02629039877949098,
          0.02081848056936091,
          0.0134527773201032,
          0.021098407765537997,
          0.022235984566549148,
          0.01254882115259728,
          0.027033453654710136,
          0.035898360002272055,
          0.06177321096150493,
          0.05534353036853926,
          0.01901804075841185,
          0.0348840921797421,
          0.023528171133415127,
          0.030635517157562037,
          0.02297860172681462,
          0.011793085761491493,
          0.027179507363742576,
          0.02467601609388773,
          0.021027616783518707,
          0.010895568602845043,
          0.014028406852761313,
          0.07424512855137827,
          0.14069687866449015,
          0.002644724733193862,
          0.005999323305448517,
          0.0037460111799977372,
          0.02520193348958187,
          0.06676782507242618,
          0.011058316943402122,
          0.1566464764727079,
          0.024140963619162237,
          0.03159681640899272,
          0.043726521636428914,
          0.08167041826674956,
          0.024510149484187126,
          0.006751281490293434,
          0.027743164785156843,
          0.03266300209752894,
          0.05674003574954904,
          0.050019684335200224,
          0.0435517487105287,
          0.02832882759113516,
          0.013615261545897397,
          0.0006421457118071771,
          0.00019377621847575154,
          0.00254581084607067,
          0.007947241936126684,
          0.005124326250915435,
          0.014125480522182564,
          0.011856970198634032,
          0.010925281248741094,
          0.00515463042121925,
          0.009870449223395935,
          0.030315272362217205,
          0.02505377359802361,
          0.016370880330712916,
          0.00043294271784038454,
          0.010319194636034283,
          0.004904400811767957,
          0.0025810068313644836,
          0.030930485999382498,
          0.02117720348344036,
          0.03535601474056886,
          0.07869519500514104,
          0.08197210922561565,
          0.11301047043750966,
          0.10330054249244133,
          0.07733402865108112,
          0.09176850692457447,
          0.052113884552156674,
          0.021977895995406907,
          0.023647389792604574,
          0.037883286880826386,
          0.019531404717595024,
          0.023552213750069207,
          0.043618885273483655,
          0.011226120273297273,
          0.004073332527973023,
          0.0005891992642301027,
          0.003668244679756697,
          0.015534015239086473,
          0.011287794768212081,
          0.014243571590946616,
          0.02071158946907134,
          0.020281389884339623,
          0.04344877365141201,
          0.055627904204404256,
          0.0704491662729235,
          0.048767641095059676,
          0.05592927789655909,
          0.06868976966424895,
          0.013312812118039604,
          0.015439142415441526,
          0.008315133097941102,
          0.0318069827060151,
          0.018180497060883493,
          0.01473888008123114,
          0.03632168765863346,
          0.009839554986254844,
          0.0029846327467509216,
          0.026245202937168855,
          0.03674734040537578,
          0.01820445732865227,
          0.06693832148540146,
          0.057256941051638546,
          0.07136548555913619,
          0.031459941035473525,
          0.03295137963533924,
          0.04674987777478211,
          0.02214125088501246,
          0.011175538032859658,
          0.04644157684718218,
          0.022632344883343047,
          0.05223717253319735,
          0.05827376493146888,
          0.09204072524299271,
          0.07555958781710531,
          0.07340174025165716,
          0.06850357400601663
         ]
        },
        {
         "line": {
          "color": "rgba(128, 0, 128, 1.0)",
          "dash": "solid",
          "shape": "linear",
          "width": 1.3
         },
         "mode": "lines",
         "name": "07_04_2021_15_32_29",
         "text": "",
         "type": "scatter",
         "x": [
          "2019-04-02T00:00:00",
          "2019-04-03T00:00:00",
          "2019-04-04T00:00:00",
          "2019-04-05T00:00:00",
          "2019-04-06T00:00:00",
          "2019-04-07T00:00:00",
          "2019-04-08T00:00:00",
          "2019-04-09T00:00:00",
          "2019-04-10T00:00:00",
          "2019-04-11T00:00:00",
          "2019-04-12T00:00:00",
          "2019-04-13T00:00:00",
          "2019-04-14T00:00:00",
          "2019-04-15T00:00:00",
          "2019-04-16T00:00:00",
          "2019-04-17T00:00:00",
          "2019-04-18T00:00:00",
          "2019-04-19T00:00:00",
          "2019-04-20T00:00:00",
          "2019-04-21T00:00:00",
          "2019-04-22T00:00:00",
          "2019-04-23T00:00:00",
          "2019-04-24T00:00:00",
          "2019-04-25T00:00:00",
          "2019-04-26T00:00:00",
          "2019-04-27T00:00:00",
          "2019-04-28T00:00:00",
          "2019-04-29T00:00:00",
          "2019-04-30T00:00:00",
          "2019-05-01T00:00:00",
          "2019-05-02T00:00:00",
          "2019-05-03T00:00:00",
          "2019-05-04T00:00:00",
          "2019-05-05T00:00:00",
          "2019-05-06T00:00:00",
          "2019-05-07T00:00:00",
          "2019-05-08T00:00:00",
          "2019-05-09T00:00:00",
          "2019-05-10T00:00:00",
          "2019-05-11T00:00:00",
          "2019-05-12T00:00:00",
          "2019-05-13T00:00:00",
          "2019-05-14T00:00:00",
          "2019-05-15T00:00:00",
          "2019-05-16T00:00:00",
          "2019-05-17T00:00:00",
          "2019-05-18T00:00:00",
          "2019-05-19T00:00:00",
          "2019-05-20T00:00:00",
          "2019-05-21T00:00:00",
          "2019-05-22T00:00:00",
          "2019-05-23T00:00:00",
          "2019-05-24T00:00:00",
          "2019-05-25T00:00:00",
          "2019-05-26T00:00:00",
          "2019-05-27T00:00:00",
          "2019-05-28T00:00:00",
          "2019-05-29T00:00:00",
          "2019-05-30T00:00:00",
          "2019-05-31T00:00:00",
          "2019-06-01T00:00:00",
          "2019-06-02T00:00:00",
          "2019-06-03T00:00:00",
          "2019-06-04T00:00:00",
          "2019-06-05T00:00:00",
          "2019-06-06T00:00:00",
          "2019-06-07T00:00:00",
          "2019-06-08T00:00:00",
          "2019-06-09T00:00:00",
          "2019-06-10T00:00:00",
          "2019-06-11T00:00:00",
          "2019-06-12T00:00:00",
          "2019-06-13T00:00:00",
          "2019-06-14T00:00:00",
          "2019-06-15T00:00:00",
          "2019-06-16T00:00:00",
          "2019-06-17T00:00:00",
          "2019-06-18T00:00:00",
          "2019-06-19T00:00:00",
          "2019-06-20T00:00:00",
          "2019-06-21T00:00:00",
          "2019-06-22T00:00:00",
          "2019-06-23T00:00:00",
          "2019-06-24T00:00:00",
          "2019-06-25T00:00:00",
          "2019-06-26T00:00:00",
          "2019-06-27T00:00:00",
          "2019-06-28T00:00:00",
          "2019-06-29T00:00:00",
          "2019-06-30T00:00:00",
          "2019-07-01T00:00:00",
          "2019-07-02T00:00:00",
          "2019-07-03T00:00:00",
          "2019-07-04T00:00:00",
          "2019-07-05T00:00:00",
          "2019-07-06T00:00:00",
          "2019-07-07T00:00:00",
          "2019-07-08T00:00:00",
          "2019-07-09T00:00:00",
          "2019-07-10T00:00:00",
          "2019-07-11T00:00:00",
          "2019-07-12T00:00:00",
          "2019-07-13T00:00:00",
          "2019-07-14T00:00:00",
          "2019-07-15T00:00:00",
          "2019-07-16T00:00:00",
          "2019-07-17T00:00:00",
          "2019-07-18T00:00:00",
          "2019-07-19T00:00:00",
          "2019-07-20T00:00:00",
          "2019-07-21T00:00:00",
          "2019-07-22T00:00:00",
          "2019-07-23T00:00:00",
          "2019-07-24T00:00:00",
          "2019-07-25T00:00:00",
          "2019-07-26T00:00:00",
          "2019-07-27T00:00:00",
          "2019-07-28T00:00:00",
          "2019-07-29T00:00:00",
          "2019-07-30T00:00:00",
          "2019-07-31T00:00:00",
          "2019-08-01T00:00:00",
          "2019-08-02T00:00:00",
          "2019-08-03T00:00:00",
          "2019-08-04T00:00:00",
          "2019-08-05T00:00:00",
          "2019-08-06T00:00:00",
          "2019-08-07T00:00:00",
          "2019-08-08T00:00:00",
          "2019-08-09T00:00:00",
          "2019-08-10T00:00:00",
          "2019-08-11T00:00:00",
          "2019-08-12T00:00:00",
          "2019-08-13T00:00:00",
          "2019-08-14T00:00:00",
          "2019-08-15T00:00:00",
          "2019-08-16T00:00:00",
          "2019-08-17T00:00:00",
          "2019-08-18T00:00:00",
          "2019-08-19T00:00:00",
          "2019-08-20T00:00:00",
          "2019-08-21T00:00:00",
          "2019-08-22T00:00:00",
          "2019-08-23T00:00:00",
          "2019-08-24T00:00:00",
          "2019-08-25T00:00:00",
          "2019-08-26T00:00:00",
          "2019-08-27T00:00:00",
          "2019-08-28T00:00:00",
          "2019-08-29T00:00:00",
          "2019-08-30T00:00:00",
          "2019-08-31T00:00:00",
          "2019-09-01T00:00:00",
          "2019-09-02T00:00:00",
          "2019-09-03T00:00:00",
          "2019-09-04T00:00:00",
          "2019-09-05T00:00:00",
          "2019-09-06T00:00:00",
          "2019-09-07T00:00:00",
          "2019-09-08T00:00:00",
          "2019-09-09T00:00:00",
          "2019-09-10T00:00:00",
          "2019-09-11T00:00:00",
          "2019-09-12T00:00:00",
          "2019-09-13T00:00:00",
          "2019-09-14T00:00:00",
          "2019-09-15T00:00:00",
          "2019-09-16T00:00:00",
          "2019-09-17T00:00:00",
          "2019-09-18T00:00:00",
          "2019-09-19T00:00:00",
          "2019-09-20T00:00:00",
          "2019-09-21T00:00:00",
          "2019-09-22T00:00:00",
          "2019-09-23T00:00:00",
          "2019-09-24T00:00:00",
          "2019-09-25T00:00:00",
          "2019-09-26T00:00:00",
          "2019-09-27T00:00:00",
          "2019-09-28T00:00:00",
          "2019-09-29T00:00:00",
          "2019-09-30T00:00:00",
          "2019-10-01T00:00:00",
          "2019-10-02T00:00:00",
          "2019-10-03T00:00:00",
          "2019-10-04T00:00:00",
          "2019-10-05T00:00:00",
          "2019-10-06T00:00:00",
          "2019-10-07T00:00:00",
          "2019-10-08T00:00:00",
          "2019-10-09T00:00:00",
          "2019-10-10T00:00:00",
          "2019-10-11T00:00:00",
          "2019-10-12T00:00:00",
          "2019-10-13T00:00:00",
          "2019-10-14T00:00:00",
          "2019-10-15T00:00:00",
          "2019-10-16T00:00:00",
          "2019-10-17T00:00:00",
          "2019-10-18T00:00:00",
          "2019-10-19T00:00:00",
          "2019-10-20T00:00:00",
          "2019-10-21T00:00:00",
          "2019-10-22T00:00:00",
          "2019-10-23T00:00:00",
          "2019-10-24T00:00:00",
          "2019-10-25T00:00:00",
          "2019-10-26T00:00:00",
          "2019-10-27T00:00:00",
          "2019-10-28T00:00:00",
          "2019-10-29T00:00:00",
          "2019-10-30T00:00:00",
          "2019-10-31T00:00:00",
          "2019-11-01T00:00:00",
          "2019-11-02T00:00:00",
          "2019-11-03T00:00:00",
          "2019-11-04T00:00:00",
          "2019-11-05T00:00:00",
          "2019-11-06T00:00:00",
          "2019-11-07T00:00:00",
          "2019-11-08T00:00:00",
          "2019-11-09T00:00:00",
          "2019-11-10T00:00:00",
          "2019-11-11T00:00:00",
          "2019-11-12T00:00:00",
          "2019-11-13T00:00:00",
          "2019-11-14T00:00:00",
          "2019-11-15T00:00:00",
          "2019-11-16T00:00:00",
          "2019-11-17T00:00:00",
          "2019-11-18T00:00:00",
          "2019-11-19T00:00:00",
          "2019-11-20T00:00:00",
          "2019-11-21T00:00:00",
          "2019-11-22T00:00:00",
          "2019-11-23T00:00:00",
          "2019-11-24T00:00:00",
          "2019-11-25T00:00:00",
          "2019-11-26T00:00:00",
          "2019-11-27T00:00:00",
          "2019-11-28T00:00:00",
          "2019-11-29T00:00:00",
          "2019-11-30T00:00:00",
          "2019-12-01T00:00:00",
          "2019-12-02T00:00:00",
          "2019-12-03T00:00:00",
          "2019-12-04T00:00:00",
          "2019-12-05T00:00:00",
          "2019-12-06T00:00:00",
          "2019-12-07T00:00:00",
          "2019-12-08T00:00:00",
          "2019-12-09T00:00:00",
          "2019-12-10T00:00:00",
          "2019-12-11T00:00:00",
          "2019-12-12T00:00:00",
          "2019-12-13T00:00:00",
          "2019-12-14T00:00:00",
          "2019-12-15T00:00:00",
          "2019-12-16T00:00:00",
          "2019-12-17T00:00:00",
          "2019-12-18T00:00:00",
          "2019-12-19T00:00:00",
          "2019-12-20T00:00:00",
          "2019-12-21T00:00:00",
          "2019-12-22T00:00:00",
          "2019-12-23T00:00:00",
          "2019-12-24T00:00:00",
          "2019-12-25T00:00:00",
          "2019-12-26T00:00:00",
          "2019-12-27T00:00:00",
          "2019-12-28T00:00:00",
          "2019-12-29T00:00:00",
          "2019-12-30T00:00:00",
          "2019-12-31T00:00:00",
          "2020-01-01T00:00:00",
          "2020-01-02T00:00:00",
          "2020-01-03T00:00:00",
          "2020-01-04T00:00:00",
          "2020-01-05T00:00:00",
          "2020-01-06T00:00:00",
          "2020-01-07T00:00:00",
          "2020-01-08T00:00:00",
          "2020-01-09T00:00:00",
          "2020-01-10T00:00:00",
          "2020-01-11T00:00:00",
          "2020-01-12T00:00:00",
          "2020-01-13T00:00:00",
          "2020-01-14T00:00:00",
          "2020-01-15T00:00:00",
          "2020-01-16T00:00:00",
          "2020-01-17T00:00:00",
          "2020-01-18T00:00:00",
          "2020-01-19T00:00:00",
          "2020-01-20T00:00:00",
          "2020-01-21T00:00:00",
          "2020-01-22T00:00:00",
          "2020-01-23T00:00:00",
          "2020-01-24T00:00:00",
          "2020-01-25T00:00:00",
          "2020-01-26T00:00:00",
          "2020-01-27T00:00:00",
          "2020-01-28T00:00:00",
          "2020-01-29T00:00:00",
          "2020-01-30T00:00:00",
          "2020-01-31T00:00:00",
          "2020-02-01T00:00:00",
          "2020-02-02T00:00:00",
          "2020-02-03T00:00:00",
          "2020-02-04T00:00:00",
          "2020-02-05T00:00:00",
          "2020-02-06T00:00:00",
          "2020-02-07T00:00:00",
          "2020-02-08T00:00:00",
          "2020-02-09T00:00:00",
          "2020-02-10T00:00:00",
          "2020-02-11T00:00:00",
          "2020-02-12T00:00:00",
          "2020-02-13T00:00:00",
          "2020-02-14T00:00:00",
          "2020-02-15T00:00:00",
          "2020-02-16T00:00:00",
          "2020-02-17T00:00:00",
          "2020-02-18T00:00:00",
          "2020-02-19T00:00:00",
          "2020-02-20T00:00:00",
          "2020-02-21T00:00:00",
          "2020-02-22T00:00:00",
          "2020-02-23T00:00:00",
          "2020-02-24T00:00:00",
          "2020-02-25T00:00:00",
          "2020-02-26T00:00:00",
          "2020-02-27T00:00:00",
          "2020-02-28T00:00:00",
          "2020-02-29T00:00:00",
          "2020-03-01T00:00:00",
          "2020-03-02T00:00:00",
          "2020-03-03T00:00:00",
          "2020-03-04T00:00:00",
          "2020-03-05T00:00:00",
          "2020-03-06T00:00:00",
          "2020-03-07T00:00:00",
          "2020-03-08T00:00:00",
          "2020-03-09T00:00:00",
          "2020-03-10T00:00:00",
          "2020-03-11T00:00:00",
          "2020-03-12T00:00:00",
          "2020-03-13T00:00:00",
          "2020-03-14T00:00:00",
          "2020-03-15T00:00:00",
          "2020-03-16T00:00:00",
          "2020-03-17T00:00:00",
          "2020-03-18T00:00:00",
          "2020-03-19T00:00:00",
          "2020-03-20T00:00:00",
          "2020-03-21T00:00:00",
          "2020-03-22T00:00:00",
          "2020-03-23T00:00:00",
          "2020-03-24T00:00:00",
          "2020-03-25T00:00:00",
          "2020-03-26T00:00:00",
          "2020-03-27T00:00:00",
          "2020-03-28T00:00:00",
          "2020-03-29T00:00:00",
          "2020-03-30T00:00:00"
         ],
         "y": [
          0.01164158881097015,
          0.014140457677928462,
          0.02623835884380761,
          0.009094447987307972,
          0.008258665974190987,
          0.020825366063209463,
          0.0017698289012322355,
          0.00012034712441790967,
          0.0034377705348026524,
          0.009399252258950523,
          0.025743974781634617,
          0.033518844101290544,
          0.005884628444758057,
          0.033417249044633925,
          0.04742011531686135,
          0.03970558823688804,
          0.003809514183545927,
          0.06866893009425551,
          0.10492326287563151,
          0.13969612687328725,
          0.047626165495929164,
          0.006265589746505516,
          0.03484585921975654,
          0.06376895783384766,
          0.18310549164502107,
          0.3237898721801872,
          0.6164181542890731,
          0.03878190352653575,
          0.06664368444240817,
          0.0511475518214584,
          0.049540095510350726,
          0.25133836340901405,
          0.27916409068541964,
          0.46751931402118746,
          0.1040818625934803,
          0.08035391579496161,
          0.13509778649569149,
          0.14140784058278852,
          0.26532067473150023,
          0.3019253463956607,
          0.490457607136301,
          0.07875955877871886,
          0.09551829530437371,
          0.11190469495246472,
          0.15136233911682548,
          0.2674010331382451,
          0.1824322708680567,
          0.20222281937789954,
          0.09042440529403531,
          0.32576141710546686,
          0.3529663276271203,
          0.3900776380435721,
          0.4973253646427893,
          0.3643692845756399,
          0.41860194969640896,
          0.29444689428134185,
          0.04518545417010918,
          0.049396622438217554,
          0.06280833473652678,
          0.010268402715888924,
          0.1684551965822656,
          0.14478403240335208,
          0.16745101656329742,
          0.33551562949027625,
          0.40676776556213773,
          0.4538801714816968,
          0.6039641723294611,
          0.6935147803245353,
          0.9558457756881376,
          0.31976538660264286,
          0.03932385308542295,
          0.0035012799385894873,
          0.030601308869653353,
          0.04345103522925816,
          0.02264663904306105,
          0.050907327797389136,
          0.04177037634640784,
          0.015380088251778407,
          0.020183638070385666,
          0.03159699306253401,
          0.004224621109071459,
          0.012981315408293646,
          0.011298435604361109,
          0.009414343150757738,
          0.007880245013822685,
          0.020638358283634674,
          0.019117623127951743,
          0.02080363255105895,
          0.004576020655971722,
          0.013929130317789114,
          0.048403842440332974,
          0.020073645616660852,
          0.028845094505620804,
          0.05402899320377777,
          0.07481055056357343,
          0.06391913431309955,
          0.06822478854679333,
          0.05140986676922132,
          0.06367568595606113,
          0.06437262404825905,
          0.11993027518888415,
          0.2513005170276466,
          0.4019783930039488,
          0.7128378627283801,
          0.15605356031022377,
          0.30042440345807986,
          0.44586239158408325,
          0.31173472189412565,
          0.24952291083781708,
          0.17944325164203045,
          0.18634730768870958,
          0.23367078189218426,
          0.1636636314625781,
          0.31137372777533345,
          0.15951490857823986,
          0.04558465206792986,
          0.08009828741797025,
          0.23928679121430563,
          0.07783165412360814,
          0.3693274591584037,
          0.22993892285803677,
          0.2720681361210328,
          0.22068078849413764,
          0.14166378413927874,
          0.13888077469262372,
          0.1939542768191788,
          0.2833946650255757,
          0.14132266040464742,
          0.1458589544503914,
          0.09477688260282188,
          0.024099875110399172,
          0.0001998765953127909,
          0.07116849457292745,
          0.011900452971055757,
          0.037252950910306934,
          0.03437949525364786,
          0.035180309214699695,
          0.03514623089166145,
          0.036800245277953614,
          0.04074087795746157,
          0.1503835900819244,
          0.26064591105335067,
          0.1680832983478887,
          0.14373508114116526,
          0.11092068051811788,
          0.10994390669922555,
          0.1554199641865591,
          0.07112096119985985,
          0.03959699647416691,
          0.0548102262466181,
          0.035294566118247966,
          0.03837351491089202,
          0.040507720442514925,
          0.03863329605272092,
          0.008267270098540466,
          0.02402146130549203,
          0.017283476701259914,
          0.026392832003335802,
          0.008303715497307892,
          0.005975472548147436,
          0.009363696894611154,
          0.0017391165536505713,
          0.022181767380886053,
          0.00028810870845354054,
          0.00035580268397206286,
          0.007446170031403017,
          0.0035984427484235604,
          0.06653227083181552,
          0.0966072010591924,
          0.13413460153897014,
          0.13916914461730517,
          0.23753354844034982,
          0.1654297837424906,
          0.20797086428651398,
          0.09790560244138596,
          0.015277162141165817,
          0.0235764875291539,
          0.020722554503958678,
          0.0026341661712281877,
          0.009378297004230752,
          0.0011128404055358045,
          0.03679099055475459,
          0.07145447273351356,
          0.07557015748023237,
          0.09183985285377513,
          0.08681477948377694,
          0.0766938883222178,
          0.031191446991813858,
          0.04545851573867945,
          0.01711551196041254,
          0.009994613659618052,
          0.010631541375018696,
          0.0007659860931380107,
          0.06652038294479272,
          0.037665711926632595,
          0.0013694219459802607,
          0.016425306784165566,
          0.0111841295421533,
          0.0012018300594052633,
          0.023807759295892468,
          0.01620647854497911,
          0.02538738032491054,
          0.03451301751101907,
          0.030466276915139076,
          0.047081353394718285,
          0.026832611888654247,
          0.01911714857162683,
          0.006171980866322655,
          0.012550434503878143,
          0.004389693742831088,
          0.007994272332019572,
          0.005793317912725717,
          0.0018476686483891564,
          0.04525984744725487,
          0.06310034641953498,
          0.03546400520663664,
          0.026978035357426627,
          0.1344319950233837,
          0.21634993651399725,
          0.13049556597629097,
          0.05877173630260477,
          0.017040599018915067,
          0.003882642618280392,
          0.01980893834292892,
          0.08356108059330972,
          0.10763129009940152,
          0.051304963605595166,
          0.05852630076863827,
          0.04289789825324084,
          0.03269822800691694,
          0.048330518043419854,
          0.06466510706583954,
          0.1489706997119563,
          0.10926436856995898,
          0.09507357107604346,
          0.06011767929999223,
          0.047237672438856605,
          0.04872446037317365,
          0.005306433180372973,
          0.007245233337244499,
          0.01478453765034471,
          0.03867449941007797,
          0.002133151541168118,
          0.03201559100005986,
          0.06260605524644768,
          0.1311039287781766,
          0.30127270900024344,
          0.17757379544526208,
          0.10465178047500097,
          0.04076602745393611,
          0.036270466699275826,
          0.05365120808308257,
          0.019195794823884144,
          0.05654137168393107,
          0.03611699233158728,
          0.006684384453659755,
          0.04127998947234966,
          0.015592526718821439,
          0.010675898347150492,
          0.006439392317335526,
          0.001086399400613643,
          0.02535444076097401,
          0.032569353130853455,
          0.01673398592417402,
          0.005083438492539475,
          0.045181669618833624,
          0.12110157581787923,
          0.19670416746185684,
          0.057068463927711144,
          0.07242860908846292,
          0.20889273769569722,
          0.18253752651449232,
          0.03702627219948703,
          0.11438483073520427,
          0.13008755327201393,
          0.03363749649458292,
          0.009431115904431504,
          0.02251083055483248,
          0.009242897636371926,
          0.005463226077984581,
          0.02042680759006867,
          0.04039325373361861,
          0.04787405901190978,
          0.04394793009557971,
          0.05034937382087704,
          0.0364358446731678,
          0.04373352981968433,
          0.022682747336798058,
          0.012215365617445684,
          0.00557528805225238,
          0.006905337219672352,
          0.015086994461873648,
          0.002414638547978172,
          0.025686935189871543,
          0.034560969319270274,
          0.023846404419076154,
          0.020092344677807426,
          0.026742705785155696,
          0.03481690630685472,
          0.03727338910610262,
          0.034192869338665215,
          0.02572787797855552,
          0.025953426094351837,
          0.024476862307976754,
          0.018634485957144706,
          0.05588578331752468,
          0.04175755173188364,
          0.06734852404878938,
          0.1850134423152913,
          0.15991624466289567,
          0.22472307522516963,
          0.2685945089141507,
          0.33232301277991044,
          0.6225815359193101,
          0.10838249698506457,
          0.03852041670119361,
          0.04657708236944271,
          0.04727487074018367,
          0.033150325908626016,
          0.016528219559475567,
          0.06552095864091104,
          0.012529773569176585,
          0.35916725193530197,
          0.3537046679250299,
          0.4903007493376442,
          0.30662022161613717,
          0.2415757469413219,
          0.25957664660285734,
          0.2522350047634352,
          0.2182076737457767,
          0.09743187736895537,
          0.08925369099613027,
          0.03478057508007956,
          0.02828036410587329,
          0.025949527298433094,
          0.018709034686581166,
          0.2169103608013799,
          0.10639107266823244,
          0.1174270115474519,
          0.039301764163780964,
          0.016930633729111914,
          0.024749307932936743,
          0.020845745577517755,
          0.010747510151439162,
          0.011045238314524553,
          0.011348318565428454,
          0.005771889466862576,
          0.0014729606664749065,
          0.03153797763138027,
          0.04636960224966393,
          0.11724986783968827,
          0.006740832372226423,
          0.025366471567153576,
          0.004608926538355292,
          0.052056973202969654,
          0.0632991584305622,
          0.03646984497340678,
          0.021902206581904005,
          0.004386998221146714,
          0.004418504330829035,
          0.015985572701891524,
          0.01273907348627064,
          0.011296859945409613,
          0.012768892512413033
         ]
        }
       ],
       "layout": {
        "legend": {
         "bgcolor": "#F5F6F9",
         "font": {
          "color": "#4D5663"
         }
        },
        "paper_bgcolor": "#F5F6F9",
        "plot_bgcolor": "#F5F6F9",
        "template": {
         "data": {
          "bar": [
           {
            "error_x": {
             "color": "#2a3f5f"
            },
            "error_y": {
             "color": "#2a3f5f"
            },
            "marker": {
             "line": {
              "color": "#E5ECF6",
              "width": 0.5
             }
            },
            "type": "bar"
           }
          ],
          "barpolar": [
           {
            "marker": {
             "line": {
              "color": "#E5ECF6",
              "width": 0.5
             }
            },
            "type": "barpolar"
           }
          ],
          "carpet": [
           {
            "aaxis": {
             "endlinecolor": "#2a3f5f",
             "gridcolor": "white",
             "linecolor": "white",
             "minorgridcolor": "white",
             "startlinecolor": "#2a3f5f"
            },
            "baxis": {
             "endlinecolor": "#2a3f5f",
             "gridcolor": "white",
             "linecolor": "white",
             "minorgridcolor": "white",
             "startlinecolor": "#2a3f5f"
            },
            "type": "carpet"
           }
          ],
          "choropleth": [
           {
            "colorbar": {
             "outlinewidth": 0,
             "ticks": ""
            },
            "type": "choropleth"
           }
          ],
          "contour": [
           {
            "colorbar": {
             "outlinewidth": 0,
             "ticks": ""
            },
            "colorscale": [
             [
              0,
              "#0d0887"
             ],
             [
              0.1111111111111111,
              "#46039f"
             ],
             [
              0.2222222222222222,
              "#7201a8"
             ],
             [
              0.3333333333333333,
              "#9c179e"
             ],
             [
              0.4444444444444444,
              "#bd3786"
             ],
             [
              0.5555555555555556,
              "#d8576b"
             ],
             [
              0.6666666666666666,
              "#ed7953"
             ],
             [
              0.7777777777777778,
              "#fb9f3a"
             ],
             [
              0.8888888888888888,
              "#fdca26"
             ],
             [
              1,
              "#f0f921"
             ]
            ],
            "type": "contour"
           }
          ],
          "contourcarpet": [
           {
            "colorbar": {
             "outlinewidth": 0,
             "ticks": ""
            },
            "type": "contourcarpet"
           }
          ],
          "heatmap": [
           {
            "colorbar": {
             "outlinewidth": 0,
             "ticks": ""
            },
            "colorscale": [
             [
              0,
              "#0d0887"
             ],
             [
              0.1111111111111111,
              "#46039f"
             ],
             [
              0.2222222222222222,
              "#7201a8"
             ],
             [
              0.3333333333333333,
              "#9c179e"
             ],
             [
              0.4444444444444444,
              "#bd3786"
             ],
             [
              0.5555555555555556,
              "#d8576b"
             ],
             [
              0.6666666666666666,
              "#ed7953"
             ],
             [
              0.7777777777777778,
              "#fb9f3a"
             ],
             [
              0.8888888888888888,
              "#fdca26"
             ],
             [
              1,
              "#f0f921"
             ]
            ],
            "type": "heatmap"
           }
          ],
          "heatmapgl": [
           {
            "colorbar": {
             "outlinewidth": 0,
             "ticks": ""
            },
            "colorscale": [
             [
              0,
              "#0d0887"
             ],
             [
              0.1111111111111111,
              "#46039f"
             ],
             [
              0.2222222222222222,
              "#7201a8"
             ],
             [
              0.3333333333333333,
              "#9c179e"
             ],
             [
              0.4444444444444444,
              "#bd3786"
             ],
             [
              0.5555555555555556,
              "#d8576b"
             ],
             [
              0.6666666666666666,
              "#ed7953"
             ],
             [
              0.7777777777777778,
              "#fb9f3a"
             ],
             [
              0.8888888888888888,
              "#fdca26"
             ],
             [
              1,
              "#f0f921"
             ]
            ],
            "type": "heatmapgl"
           }
          ],
          "histogram": [
           {
            "marker": {
             "colorbar": {
              "outlinewidth": 0,
              "ticks": ""
             }
            },
            "type": "histogram"
           }
          ],
          "histogram2d": [
           {
            "colorbar": {
             "outlinewidth": 0,
             "ticks": ""
            },
            "colorscale": [
             [
              0,
              "#0d0887"
             ],
             [
              0.1111111111111111,
              "#46039f"
             ],
             [
              0.2222222222222222,
              "#7201a8"
             ],
             [
              0.3333333333333333,
              "#9c179e"
             ],
             [
              0.4444444444444444,
              "#bd3786"
             ],
             [
              0.5555555555555556,
              "#d8576b"
             ],
             [
              0.6666666666666666,
              "#ed7953"
             ],
             [
              0.7777777777777778,
              "#fb9f3a"
             ],
             [
              0.8888888888888888,
              "#fdca26"
             ],
             [
              1,
              "#f0f921"
             ]
            ],
            "type": "histogram2d"
           }
          ],
          "histogram2dcontour": [
           {
            "colorbar": {
             "outlinewidth": 0,
             "ticks": ""
            },
            "colorscale": [
             [
              0,
              "#0d0887"
             ],
             [
              0.1111111111111111,
              "#46039f"
             ],
             [
              0.2222222222222222,
              "#7201a8"
             ],
             [
              0.3333333333333333,
              "#9c179e"
             ],
             [
              0.4444444444444444,
              "#bd3786"
             ],
             [
              0.5555555555555556,
              "#d8576b"
             ],
             [
              0.6666666666666666,
              "#ed7953"
             ],
             [
              0.7777777777777778,
              "#fb9f3a"
             ],
             [
              0.8888888888888888,
              "#fdca26"
             ],
             [
              1,
              "#f0f921"
             ]
            ],
            "type": "histogram2dcontour"
           }
          ],
          "mesh3d": [
           {
            "colorbar": {
             "outlinewidth": 0,
             "ticks": ""
            },
            "type": "mesh3d"
           }
          ],
          "parcoords": [
           {
            "line": {
             "colorbar": {
              "outlinewidth": 0,
              "ticks": ""
             }
            },
            "type": "parcoords"
           }
          ],
          "scatter": [
           {
            "marker": {
             "colorbar": {
              "outlinewidth": 0,
              "ticks": ""
             }
            },
            "type": "scatter"
           }
          ],
          "scatter3d": [
           {
            "line": {
             "colorbar": {
              "outlinewidth": 0,
              "ticks": ""
             }
            },
            "marker": {
             "colorbar": {
              "outlinewidth": 0,
              "ticks": ""
             }
            },
            "type": "scatter3d"
           }
          ],
          "scattercarpet": [
           {
            "marker": {
             "colorbar": {
              "outlinewidth": 0,
              "ticks": ""
             }
            },
            "type": "scattercarpet"
           }
          ],
          "scattergeo": [
           {
            "marker": {
             "colorbar": {
              "outlinewidth": 0,
              "ticks": ""
             }
            },
            "type": "scattergeo"
           }
          ],
          "scattergl": [
           {
            "marker": {
             "colorbar": {
              "outlinewidth": 0,
              "ticks": ""
             }
            },
            "type": "scattergl"
           }
          ],
          "scattermapbox": [
           {
            "marker": {
             "colorbar": {
              "outlinewidth": 0,
              "ticks": ""
             }
            },
            "type": "scattermapbox"
           }
          ],
          "scatterpolar": [
           {
            "marker": {
             "colorbar": {
              "outlinewidth": 0,
              "ticks": ""
             }
            },
            "type": "scatterpolar"
           }
          ],
          "scatterpolargl": [
           {
            "marker": {
             "colorbar": {
              "outlinewidth": 0,
              "ticks": ""
             }
            },
            "type": "scatterpolargl"
           }
          ],
          "scatterternary": [
           {
            "marker": {
             "colorbar": {
              "outlinewidth": 0,
              "ticks": ""
             }
            },
            "type": "scatterternary"
           }
          ],
          "surface": [
           {
            "colorbar": {
             "outlinewidth": 0,
             "ticks": ""
            },
            "colorscale": [
             [
              0,
              "#0d0887"
             ],
             [
              0.1111111111111111,
              "#46039f"
             ],
             [
              0.2222222222222222,
              "#7201a8"
             ],
             [
              0.3333333333333333,
              "#9c179e"
             ],
             [
              0.4444444444444444,
              "#bd3786"
             ],
             [
              0.5555555555555556,
              "#d8576b"
             ],
             [
              0.6666666666666666,
              "#ed7953"
             ],
             [
              0.7777777777777778,
              "#fb9f3a"
             ],
             [
              0.8888888888888888,
              "#fdca26"
             ],
             [
              1,
              "#f0f921"
             ]
            ],
            "type": "surface"
           }
          ],
          "table": [
           {
            "cells": {
             "fill": {
              "color": "#EBF0F8"
             },
             "line": {
              "color": "white"
             }
            },
            "header": {
             "fill": {
              "color": "#C8D4E3"
             },
             "line": {
              "color": "white"
             }
            },
            "type": "table"
           }
          ]
         },
         "layout": {
          "annotationdefaults": {
           "arrowcolor": "#2a3f5f",
           "arrowhead": 0,
           "arrowwidth": 1
          },
          "colorscale": {
           "diverging": [
            [
             0,
             "#8e0152"
            ],
            [
             0.1,
             "#c51b7d"
            ],
            [
             0.2,
             "#de77ae"
            ],
            [
             0.3,
             "#f1b6da"
            ],
            [
             0.4,
             "#fde0ef"
            ],
            [
             0.5,
             "#f7f7f7"
            ],
            [
             0.6,
             "#e6f5d0"
            ],
            [
             0.7,
             "#b8e186"
            ],
            [
             0.8,
             "#7fbc41"
            ],
            [
             0.9,
             "#4d9221"
            ],
            [
             1,
             "#276419"
            ]
           ],
           "sequential": [
            [
             0,
             "#0d0887"
            ],
            [
             0.1111111111111111,
             "#46039f"
            ],
            [
             0.2222222222222222,
             "#7201a8"
            ],
            [
             0.3333333333333333,
             "#9c179e"
            ],
            [
             0.4444444444444444,
             "#bd3786"
            ],
            [
             0.5555555555555556,
             "#d8576b"
            ],
            [
             0.6666666666666666,
             "#ed7953"
            ],
            [
             0.7777777777777778,
             "#fb9f3a"
            ],
            [
             0.8888888888888888,
             "#fdca26"
            ],
            [
             1,
             "#f0f921"
            ]
           ],
           "sequentialminus": [
            [
             0,
             "#0d0887"
            ],
            [
             0.1111111111111111,
             "#46039f"
            ],
            [
             0.2222222222222222,
             "#7201a8"
            ],
            [
             0.3333333333333333,
             "#9c179e"
            ],
            [
             0.4444444444444444,
             "#bd3786"
            ],
            [
             0.5555555555555556,
             "#d8576b"
            ],
            [
             0.6666666666666666,
             "#ed7953"
            ],
            [
             0.7777777777777778,
             "#fb9f3a"
            ],
            [
             0.8888888888888888,
             "#fdca26"
            ],
            [
             1,
             "#f0f921"
            ]
           ]
          },
          "colorway": [
           "#636efa",
           "#EF553B",
           "#00cc96",
           "#ab63fa",
           "#FFA15A",
           "#19d3f3",
           "#FF6692",
           "#B6E880",
           "#FF97FF",
           "#FECB52"
          ],
          "font": {
           "color": "#2a3f5f"
          },
          "geo": {
           "bgcolor": "white",
           "lakecolor": "white",
           "landcolor": "#E5ECF6",
           "showlakes": true,
           "showland": true,
           "subunitcolor": "white"
          },
          "hoverlabel": {
           "align": "left"
          },
          "hovermode": "closest",
          "mapbox": {
           "style": "light"
          },
          "paper_bgcolor": "white",
          "plot_bgcolor": "#E5ECF6",
          "polar": {
           "angularaxis": {
            "gridcolor": "white",
            "linecolor": "white",
            "ticks": ""
           },
           "bgcolor": "#E5ECF6",
           "radialaxis": {
            "gridcolor": "white",
            "linecolor": "white",
            "ticks": ""
           }
          },
          "scene": {
           "xaxis": {
            "backgroundcolor": "#E5ECF6",
            "gridcolor": "white",
            "gridwidth": 2,
            "linecolor": "white",
            "showbackground": true,
            "ticks": "",
            "zerolinecolor": "white"
           },
           "yaxis": {
            "backgroundcolor": "#E5ECF6",
            "gridcolor": "white",
            "gridwidth": 2,
            "linecolor": "white",
            "showbackground": true,
            "ticks": "",
            "zerolinecolor": "white"
           },
           "zaxis": {
            "backgroundcolor": "#E5ECF6",
            "gridcolor": "white",
            "gridwidth": 2,
            "linecolor": "white",
            "showbackground": true,
            "ticks": "",
            "zerolinecolor": "white"
           }
          },
          "shapedefaults": {
           "line": {
            "color": "#2a3f5f"
           }
          },
          "ternary": {
           "aaxis": {
            "gridcolor": "white",
            "linecolor": "white",
            "ticks": ""
           },
           "baxis": {
            "gridcolor": "white",
            "linecolor": "white",
            "ticks": ""
           },
           "bgcolor": "#E5ECF6",
           "caxis": {
            "gridcolor": "white",
            "linecolor": "white",
            "ticks": ""
           }
          },
          "title": {
           "x": 0.05
          },
          "xaxis": {
           "automargin": true,
           "gridcolor": "white",
           "linecolor": "white",
           "ticks": "",
           "zerolinecolor": "white",
           "zerolinewidth": 2
          },
          "yaxis": {
           "automargin": true,
           "gridcolor": "white",
           "linecolor": "white",
           "ticks": "",
           "zerolinecolor": "white",
           "zerolinewidth": 2
          }
         }
        },
        "title": {
         "font": {
          "color": "#4D5663"
         }
        },
        "xaxis": {
         "gridcolor": "#E1E5ED",
         "showgrid": true,
         "tickfont": {
          "color": "#4D5663"
         },
         "title": {
          "font": {
           "color": "#4D5663"
          },
          "text": ""
         },
         "zerolinecolor": "#E1E5ED"
        },
        "yaxis": {
         "gridcolor": "#E1E5ED",
         "showgrid": true,
         "tickfont": {
          "color": "#4D5663"
         },
         "title": {
          "font": {
           "color": "#4D5663"
          },
          "text": ""
         },
         "zerolinecolor": "#E1E5ED"
        }
       }
      },
      "text/html": [
       "<div>\n",
       "        \n",
       "        \n",
       "            <div id=\"922b91e7-6254-4a23-b181-33cd47048a26\" class=\"plotly-graph-div\" style=\"height:525px; width:100%;\"></div>\n",
       "            <script type=\"text/javascript\">\n",
       "                require([\"plotly\"], function(Plotly) {\n",
       "                    window.PLOTLYENV=window.PLOTLYENV || {};\n",
       "                    window.PLOTLYENV.BASE_URL='https://plot.ly';\n",
       "                    \n",
       "                if (document.getElementById(\"922b91e7-6254-4a23-b181-33cd47048a26\")) {\n",
       "                    Plotly.newPlot(\n",
       "                        '922b91e7-6254-4a23-b181-33cd47048a26',\n",
       "                        [{\"line\": {\"color\": \"rgba(255, 153, 51, 1.0)\", \"dash\": \"solid\", \"shape\": \"linear\", \"width\": 1.3}, \"mode\": \"lines\", \"name\": \"07_04_2021_13_19_55\", \"text\": \"\", \"type\": \"scatter\", \"x\": [\"2019-04-02T00:00:00\", \"2019-04-03T00:00:00\", \"2019-04-04T00:00:00\", \"2019-04-05T00:00:00\", \"2019-04-06T00:00:00\", \"2019-04-07T00:00:00\", \"2019-04-08T00:00:00\", \"2019-04-09T00:00:00\", \"2019-04-10T00:00:00\", \"2019-04-11T00:00:00\", \"2019-04-12T00:00:00\", \"2019-04-13T00:00:00\", \"2019-04-14T00:00:00\", \"2019-04-15T00:00:00\", \"2019-04-16T00:00:00\", \"2019-04-17T00:00:00\", \"2019-04-18T00:00:00\", \"2019-04-19T00:00:00\", \"2019-04-20T00:00:00\", \"2019-04-21T00:00:00\", \"2019-04-22T00:00:00\", \"2019-04-23T00:00:00\", \"2019-04-24T00:00:00\", \"2019-04-25T00:00:00\", \"2019-04-26T00:00:00\", \"2019-04-27T00:00:00\", \"2019-04-28T00:00:00\", \"2019-04-29T00:00:00\", \"2019-04-30T00:00:00\", \"2019-05-01T00:00:00\", \"2019-05-02T00:00:00\", \"2019-05-03T00:00:00\", \"2019-05-04T00:00:00\", \"2019-05-05T00:00:00\", \"2019-05-06T00:00:00\", \"2019-05-07T00:00:00\", \"2019-05-08T00:00:00\", \"2019-05-09T00:00:00\", \"2019-05-10T00:00:00\", \"2019-05-11T00:00:00\", \"2019-05-12T00:00:00\", \"2019-05-13T00:00:00\", \"2019-05-14T00:00:00\", \"2019-05-15T00:00:00\", \"2019-05-16T00:00:00\", \"2019-05-17T00:00:00\", \"2019-05-18T00:00:00\", \"2019-05-19T00:00:00\", \"2019-05-20T00:00:00\", \"2019-05-21T00:00:00\", \"2019-05-22T00:00:00\", \"2019-05-23T00:00:00\", \"2019-05-24T00:00:00\", \"2019-05-25T00:00:00\", \"2019-05-26T00:00:00\", \"2019-05-27T00:00:00\", \"2019-05-28T00:00:00\", \"2019-05-29T00:00:00\", \"2019-05-30T00:00:00\", \"2019-05-31T00:00:00\", \"2019-06-01T00:00:00\", \"2019-06-02T00:00:00\", \"2019-06-03T00:00:00\", \"2019-06-04T00:00:00\", \"2019-06-05T00:00:00\", \"2019-06-06T00:00:00\", \"2019-06-07T00:00:00\", \"2019-06-08T00:00:00\", \"2019-06-09T00:00:00\", \"2019-06-10T00:00:00\", \"2019-06-11T00:00:00\", \"2019-06-12T00:00:00\", \"2019-06-13T00:00:00\", \"2019-06-14T00:00:00\", \"2019-06-15T00:00:00\", \"2019-06-16T00:00:00\", \"2019-06-17T00:00:00\", \"2019-06-18T00:00:00\", \"2019-06-19T00:00:00\", \"2019-06-20T00:00:00\", \"2019-06-21T00:00:00\", \"2019-06-22T00:00:00\", \"2019-06-23T00:00:00\", \"2019-06-24T00:00:00\", \"2019-06-25T00:00:00\", \"2019-06-26T00:00:00\", \"2019-06-27T00:00:00\", \"2019-06-28T00:00:00\", \"2019-06-29T00:00:00\", \"2019-06-30T00:00:00\", \"2019-07-01T00:00:00\", \"2019-07-02T00:00:00\", \"2019-07-03T00:00:00\", \"2019-07-04T00:00:00\", \"2019-07-05T00:00:00\", \"2019-07-06T00:00:00\", \"2019-07-07T00:00:00\", \"2019-07-08T00:00:00\", \"2019-07-09T00:00:00\", \"2019-07-10T00:00:00\", \"2019-07-11T00:00:00\", \"2019-07-12T00:00:00\", \"2019-07-13T00:00:00\", \"2019-07-14T00:00:00\", \"2019-07-15T00:00:00\", \"2019-07-16T00:00:00\", \"2019-07-17T00:00:00\", \"2019-07-18T00:00:00\", \"2019-07-19T00:00:00\", \"2019-07-20T00:00:00\", \"2019-07-21T00:00:00\", \"2019-07-22T00:00:00\", \"2019-07-23T00:00:00\", \"2019-07-24T00:00:00\", \"2019-07-25T00:00:00\", \"2019-07-26T00:00:00\", \"2019-07-27T00:00:00\", \"2019-07-28T00:00:00\", \"2019-07-29T00:00:00\", \"2019-07-30T00:00:00\", \"2019-07-31T00:00:00\", \"2019-08-01T00:00:00\", \"2019-08-02T00:00:00\", \"2019-08-03T00:00:00\", \"2019-08-04T00:00:00\", \"2019-08-05T00:00:00\", \"2019-08-06T00:00:00\", \"2019-08-07T00:00:00\", \"2019-08-08T00:00:00\", \"2019-08-09T00:00:00\", \"2019-08-10T00:00:00\", \"2019-08-11T00:00:00\", \"2019-08-12T00:00:00\", \"2019-08-13T00:00:00\", \"2019-08-14T00:00:00\", \"2019-08-15T00:00:00\", \"2019-08-16T00:00:00\", \"2019-08-17T00:00:00\", \"2019-08-18T00:00:00\", \"2019-08-19T00:00:00\", \"2019-08-20T00:00:00\", \"2019-08-21T00:00:00\", \"2019-08-22T00:00:00\", \"2019-08-23T00:00:00\", \"2019-08-24T00:00:00\", \"2019-08-25T00:00:00\", \"2019-08-26T00:00:00\", \"2019-08-27T00:00:00\", \"2019-08-28T00:00:00\", \"2019-08-29T00:00:00\", \"2019-08-30T00:00:00\", \"2019-08-31T00:00:00\", \"2019-09-01T00:00:00\", \"2019-09-02T00:00:00\", \"2019-09-03T00:00:00\", \"2019-09-04T00:00:00\", \"2019-09-05T00:00:00\", \"2019-09-06T00:00:00\", \"2019-09-07T00:00:00\", \"2019-09-08T00:00:00\", \"2019-09-09T00:00:00\", \"2019-09-10T00:00:00\", \"2019-09-11T00:00:00\", \"2019-09-12T00:00:00\", \"2019-09-13T00:00:00\", \"2019-09-14T00:00:00\", \"2019-09-15T00:00:00\", \"2019-09-16T00:00:00\", \"2019-09-17T00:00:00\", \"2019-09-18T00:00:00\", \"2019-09-19T00:00:00\", \"2019-09-20T00:00:00\", \"2019-09-21T00:00:00\", \"2019-09-22T00:00:00\", \"2019-09-23T00:00:00\", \"2019-09-24T00:00:00\", \"2019-09-25T00:00:00\", \"2019-09-26T00:00:00\", \"2019-09-27T00:00:00\", \"2019-09-28T00:00:00\", \"2019-09-29T00:00:00\", \"2019-09-30T00:00:00\", \"2019-10-01T00:00:00\", \"2019-10-02T00:00:00\", \"2019-10-03T00:00:00\", \"2019-10-04T00:00:00\", \"2019-10-05T00:00:00\", \"2019-10-06T00:00:00\", \"2019-10-07T00:00:00\", \"2019-10-08T00:00:00\", \"2019-10-09T00:00:00\", \"2019-10-10T00:00:00\", \"2019-10-11T00:00:00\", \"2019-10-12T00:00:00\", \"2019-10-13T00:00:00\", \"2019-10-14T00:00:00\", \"2019-10-15T00:00:00\", \"2019-10-16T00:00:00\", \"2019-10-17T00:00:00\", \"2019-10-18T00:00:00\", \"2019-10-19T00:00:00\", \"2019-10-20T00:00:00\", \"2019-10-21T00:00:00\", \"2019-10-22T00:00:00\", \"2019-10-23T00:00:00\", \"2019-10-24T00:00:00\", \"2019-10-25T00:00:00\", \"2019-10-26T00:00:00\", \"2019-10-27T00:00:00\", \"2019-10-28T00:00:00\", \"2019-10-29T00:00:00\", \"2019-10-30T00:00:00\", \"2019-10-31T00:00:00\", \"2019-11-01T00:00:00\", \"2019-11-02T00:00:00\", \"2019-11-03T00:00:00\", \"2019-11-04T00:00:00\", \"2019-11-05T00:00:00\", \"2019-11-06T00:00:00\", \"2019-11-07T00:00:00\", \"2019-11-08T00:00:00\", \"2019-11-09T00:00:00\", \"2019-11-10T00:00:00\", \"2019-11-11T00:00:00\", \"2019-11-12T00:00:00\", \"2019-11-13T00:00:00\", \"2019-11-14T00:00:00\", \"2019-11-15T00:00:00\", \"2019-11-16T00:00:00\", \"2019-11-17T00:00:00\", \"2019-11-18T00:00:00\", \"2019-11-19T00:00:00\", \"2019-11-20T00:00:00\", \"2019-11-21T00:00:00\", \"2019-11-22T00:00:00\", \"2019-11-23T00:00:00\", \"2019-11-24T00:00:00\", \"2019-11-25T00:00:00\", \"2019-11-26T00:00:00\", \"2019-11-27T00:00:00\", \"2019-11-28T00:00:00\", \"2019-11-29T00:00:00\", \"2019-11-30T00:00:00\", \"2019-12-01T00:00:00\", \"2019-12-02T00:00:00\", \"2019-12-03T00:00:00\", \"2019-12-04T00:00:00\", \"2019-12-05T00:00:00\", \"2019-12-06T00:00:00\", \"2019-12-07T00:00:00\", \"2019-12-08T00:00:00\", \"2019-12-09T00:00:00\", \"2019-12-10T00:00:00\", \"2019-12-11T00:00:00\", \"2019-12-12T00:00:00\", \"2019-12-13T00:00:00\", \"2019-12-14T00:00:00\", \"2019-12-15T00:00:00\", \"2019-12-16T00:00:00\", \"2019-12-17T00:00:00\", \"2019-12-18T00:00:00\", \"2019-12-19T00:00:00\", \"2019-12-20T00:00:00\", \"2019-12-21T00:00:00\", \"2019-12-22T00:00:00\", \"2019-12-23T00:00:00\", \"2019-12-24T00:00:00\", \"2019-12-25T00:00:00\", \"2019-12-26T00:00:00\", \"2019-12-27T00:00:00\", \"2019-12-28T00:00:00\", \"2019-12-29T00:00:00\", \"2019-12-30T00:00:00\", \"2019-12-31T00:00:00\", \"2020-01-01T00:00:00\", \"2020-01-02T00:00:00\", \"2020-01-03T00:00:00\", \"2020-01-04T00:00:00\", \"2020-01-05T00:00:00\", \"2020-01-06T00:00:00\", \"2020-01-07T00:00:00\", \"2020-01-08T00:00:00\", \"2020-01-09T00:00:00\", \"2020-01-10T00:00:00\", \"2020-01-11T00:00:00\", \"2020-01-12T00:00:00\", \"2020-01-13T00:00:00\", \"2020-01-14T00:00:00\", \"2020-01-15T00:00:00\", \"2020-01-16T00:00:00\", \"2020-01-17T00:00:00\", \"2020-01-18T00:00:00\", \"2020-01-19T00:00:00\", \"2020-01-20T00:00:00\", \"2020-01-21T00:00:00\", \"2020-01-22T00:00:00\", \"2020-01-23T00:00:00\", \"2020-01-24T00:00:00\", \"2020-01-25T00:00:00\", \"2020-01-26T00:00:00\", \"2020-01-27T00:00:00\", \"2020-01-28T00:00:00\", \"2020-01-29T00:00:00\", \"2020-01-30T00:00:00\", \"2020-01-31T00:00:00\", \"2020-02-01T00:00:00\", \"2020-02-02T00:00:00\", \"2020-02-03T00:00:00\", \"2020-02-04T00:00:00\", \"2020-02-05T00:00:00\", \"2020-02-06T00:00:00\", \"2020-02-07T00:00:00\", \"2020-02-08T00:00:00\", \"2020-02-09T00:00:00\", \"2020-02-10T00:00:00\", \"2020-02-11T00:00:00\", \"2020-02-12T00:00:00\", \"2020-02-13T00:00:00\", \"2020-02-14T00:00:00\", \"2020-02-15T00:00:00\", \"2020-02-16T00:00:00\", \"2020-02-17T00:00:00\", \"2020-02-18T00:00:00\", \"2020-02-19T00:00:00\", \"2020-02-20T00:00:00\", \"2020-02-21T00:00:00\", \"2020-02-22T00:00:00\", \"2020-02-23T00:00:00\", \"2020-02-24T00:00:00\", \"2020-02-25T00:00:00\", \"2020-02-26T00:00:00\", \"2020-02-27T00:00:00\", \"2020-02-28T00:00:00\", \"2020-02-29T00:00:00\", \"2020-03-01T00:00:00\", \"2020-03-02T00:00:00\", \"2020-03-03T00:00:00\", \"2020-03-04T00:00:00\", \"2020-03-05T00:00:00\", \"2020-03-06T00:00:00\", \"2020-03-07T00:00:00\", \"2020-03-08T00:00:00\", \"2020-03-09T00:00:00\", \"2020-03-10T00:00:00\", \"2020-03-11T00:00:00\", \"2020-03-12T00:00:00\", \"2020-03-13T00:00:00\", \"2020-03-14T00:00:00\", \"2020-03-15T00:00:00\", \"2020-03-16T00:00:00\", \"2020-03-17T00:00:00\", \"2020-03-18T00:00:00\", \"2020-03-19T00:00:00\", \"2020-03-20T00:00:00\", \"2020-03-21T00:00:00\", \"2020-03-22T00:00:00\", \"2020-03-23T00:00:00\", \"2020-03-24T00:00:00\", \"2020-03-25T00:00:00\", \"2020-03-26T00:00:00\", \"2020-03-27T00:00:00\", \"2020-03-28T00:00:00\", \"2020-03-29T00:00:00\", \"2020-03-30T00:00:00\"], \"y\": [0.02719039309001217, 0.0374162665050354, 0.03729324176500455, 0.05701682198446205, 0.04189659830114643, 0.03960212153814509, 0.014071372340559645, 0.022248594920321513, 0.029800932962244897, 0.029113851981879237, 0.02696925914738464, 0.0042268134191705345, 0.02044890976568358, 0.023099495160659043, 0.00980801322354121, 0.026730928930886383, 0.02242279237205191, 0.03891663290907156, 0.04196467723522553, 0.00020633262353537355, 0.008233833699193976, 0.02515762901082429, 0.01249147112170124, 0.006528925933284774, 0.01745955565557162, 0.007714268956131068, 0.007689622108108542, 0.0013577371070449874, 0.003399313065991403, 0.016659472431599622, 0.022988316355622575, 0.019628815175348226, 0.007510004200486978, 0.005593222999277768, 0.0038806325238245226, 0.006789001698448262, 0.006724181980303322, 0.0015920411534994208, 0.03577810289387766, 0.01545093668814318, 0.024597258085430288, 0.0068992652214633484, 0.00016451188948447704, 0.02021364809986328, 0.016167682026585833, 0.02741438248736479, 0.010259982331287873, 0.009021533168211455, 0.0015539404168836456, 0.010118832768716255, 0.013723480575536299, 0.016862621511239028, 0.02400104299774428, 0.02262865976898887, 0.0006557559166958806, 0.007401723623701692, 0.006468057709732724, 0.015842561264388773, 0.01823483160030751, 0.01792620330468584, 0.006010212019780458, 0.009410707199677567, 0.01171931708728105, 0.0051700402858251065, 0.030546549754532568, 0.02842876624647526, 0.006556043892078019, 0.012526171548330613, 0.02523499601161129, 0.0035323978121129186, 0.024490368310252652, 0.02869292498621165, 0.013845989006234145, 0.028575983848365946, 0.030168364632651684, 0.005282630006786773, 0.025045197525963653, 0.04695164196552328, 0.04073753942258138, 0.0479624833046769, 0.05558754317266025, 0.04367095212979473, 0.02872458996374036, 0.04804061078454181, 0.05305301250279979, 0.051538419098388424, 0.02268139265170914, 0.040974478113643534, 0.040975929042258635, 0.01920984871258211, 0.042603519203617865, 0.06329147256492036, 0.05279504345526642, 0.05837658491583343, 0.0529594573804355, 0.052185212603452304, 0.04582452713596308, 0.056890152412917484, 0.06917552507810591, 0.090261839441003, 0.08279688840456724, 0.0828613814327449, 0.052760320155428135, 0.02135386457787301, 0.02307021325574778, 0.024316617396613956, 0.03587819269355931, 0.044260799732007, 0.04091655453395417, 0.01746773732187944, 0.002863301583068449, 0.007985854056358467, 0.022854340295305746, 0.028626212281844733, 0.019364533156715272, 0.026080984661149744, 0.018855403060668734, 0.012591500473166284, 0.03578940738140263, 0.04496758024709631, 0.056724969675930034, 0.03395415537454848, 0.03994291867632536, 0.04971843897591431, 0.037915178376004735, 0.050774813284826234, 0.04989655408698074, 0.034859211846981944, 0.027575020505370893, 0.02773935755919691, 0.027177476885928795, 0.003314371263817857, 0.02487572005654675, 0.04125994777138192, 0.05366225802483765, 0.05017696827757984, 0.05227794078644818, 0.04630049992828803, 0.02856389516757395, 0.053809777228056715, 0.05549383444675957, 0.06584094286696034, 0.0597109626402531, 0.026956322941110698, 0.0021439564469994733, 0.018883468597872714, 0.015761012750792825, 0.018577931717636123, 0.0035416135966634486, 0.005431011482752688, 0.003936357294788137, 0.008350209610986405, 0.005647122222935597, 0.02927695131443788, 0.026712269927931118, 0.047103798562444996, 0.036791114180437096, 0.029653889049031133, 0.0131881976086392, 0.009438516836177472, 0.011018041912942315, 0.016608984224578387, 0.011324195960255386, 0.0246155265500814, 0.025476265751259716, 0.021494039423857636, 0.02180769461154069, 0.062407555398015215, 0.03112876017694186, 0.02785941369216485, 0.005752160752910633, 0.0016362520321719116, 0.005391285660692541, 0.015269536828227261, 0.0053015554126412704, 0.012861001108555502, 0.018367073824925355, 0.015522426850842971, 0.012061030147182433, 0.0044045578683623975, 0.025790969636859937, 0.04458616313525518, 0.029557443148445446, 0.021884473457948667, 0.017598136392730647, 0.009680216251446048, 0.01927178972702877, 0.02981262368200492, 0.00290273472124679, 0.00613285548867197, 0.018689887976883958, 0.034540249150056705, 0.043802705061851396, 0.028085827642480337, 0.007838502380707173, 0.015349207563927178, 0.032638442704111724, 0.030666812658916555, 0.019815019717576085, 0.012725748474244427, 0.009906516787677512, 0.04180317612433437, 0.034139472667985823, 0.023575586859172402, 0.03310765518747833, 0.021879860822023426, 0.024766729667791185, 0.051999063772547226, 0.03817993687285944, 0.05096057606309468, 0.02636500163738521, 0.01879563254991432, 0.03438152118271684, 0.044284527313801024, 0.07877500357981645, 0.07585868830275048, 0.0266306864023307, 0.008053406325349463, 0.004521453167199554, 0.019719582024487987, 0.02004833736838599, 0.001096532507005722, 0.013952736644878928, 0.01572319937037622, 0.027029033590126463, 0.001777268170692185, 0.00967928630910942, 0.007580145225273306, 0.01601546141051076, 0.02909427638061611, 0.12307187949775189, 0.026204266213319196, 0.010322722832134834, 0.028297260310476816, 0.019857883472240413, 0.009735789191031057, 0.013254580866094212, 0.01178727838771235, 0.0270303875761174, 0.03531268115801395, 0.036509232499367536, 0.035520688016241336, 0.011167941738786007, 0.01311512394754803, 0.011175673742235374, 0.028279034485732157, 0.031088041604655867, 0.029544183451610844, 0.03529396249428874, 0.007380890292999388, 0.006322722853747169, 0.022818537743311447, 0.04766174236144904, 0.05148351209624727, 0.03170270677555673, 0.0017575814443548591, 0.002390304906035451, 0.00017164580295320374, 0.024477543014006516, 0.03866993246630444, 0.028049957990362914, 0.03076436917904185, 0.02690338575380809, 0.007742816170246143, 0.017545237109601763, 0.05673668419280327, 0.07974898405314398, 0.03989121155543403, 0.04611745641425538, 0.06852110794059343, 0.06750042425990907, 0.04621549164728189, 0.07101738385113587, 0.027703327979143266, 0.10974263235881163, 0.028203336399227927, 0.010383274006239031, 0.0025556608679887533, 0.02205748936310316, 0.033362163227210855, 0.04297511434779548, 0.03205099504529316, 0.017653354980334587, 0.017728211940560203, 0.0037718193948077035, 0.014673705901180282, 0.017585968202538743, 0.029539961608764043, 0.03964123363758011, 0.03942074778062113, 0.03960202172490065, 0.024126076839494085, 0.005184444557770856, 0.006489493473229322, 0.00662523573805634, 0.010336348422452842, 0.015412397499076861, 0.009228561403883147, 0.009760168188801545, 0.03483287865784471, 0.011610732032797985, 0.005123685590455233, 0.004240375788162091, 0.00295435805407318, 0.0027814868512628546, 0.003016402955498162, 0.009699247051221861, 0.06780154137863666, 0.03519578529988415, 0.01769557156585855, 0.047649605239670836, 0.03814373768706527, 0.03342682207057639, 0.059083017135152766, 0.03188152669660108, 0.012075739762192013, 0.009021802361267497, 0.01920472250026367, 0.004521166332723621, 0.035925282605120075, 0.028055070451105724, 0.004193186950552858, 0.022539613484370027, 0.03223753073201108, 0.03727841234969565, 0.035740726973840314, 0.025598530972846322, 0.0035700705341553526, 0.001006855443394551, 0.028704515033953545, 0.01704930432315653, 0.003942133638236734, 0.011236586413961521, 0.007774356908801727, 0.027379659741174112, 0.012263423327196534, 0.007948685704344536, 0.009794319196597555, 0.017032188658650478, 0.0019539286784454163, 0.003049073137528863, 0.0389536599870319, 0.031099900210447038, 4.281284892415024e-05, 0.0069080125773773645, 0.022984537117584084, 0.027021890766616957, 0.007524749588096564, 0.00026084788956599257, 0.05069354268606986, 0.05705731512302638, 0.00017691553498268503, 0.005880332171522323, 0.007717873819568443, 0.006144023578262428, 0.03214753993230928, 0.028785092860690156, 0.011930825219315693, 0.015126020550656032, 0.01946377380735106, 0.026415537686273464, 0.03500874744140823, 0.05813415102159649, 0.06724381323335214]}, {\"line\": {\"color\": \"rgba(55, 128, 191, 1.0)\", \"dash\": \"solid\", \"shape\": \"linear\", \"width\": 1.3}, \"mode\": \"lines\", \"name\": \"07_04_2021_14_00_17\", \"text\": \"\", \"type\": \"scatter\", \"x\": [\"2019-04-02T00:00:00\", \"2019-04-03T00:00:00\", \"2019-04-04T00:00:00\", \"2019-04-05T00:00:00\", \"2019-04-06T00:00:00\", \"2019-04-07T00:00:00\", \"2019-04-08T00:00:00\", \"2019-04-09T00:00:00\", \"2019-04-10T00:00:00\", \"2019-04-11T00:00:00\", \"2019-04-12T00:00:00\", \"2019-04-13T00:00:00\", \"2019-04-14T00:00:00\", \"2019-04-15T00:00:00\", \"2019-04-16T00:00:00\", \"2019-04-17T00:00:00\", \"2019-04-18T00:00:00\", \"2019-04-19T00:00:00\", \"2019-04-20T00:00:00\", \"2019-04-21T00:00:00\", \"2019-04-22T00:00:00\", \"2019-04-23T00:00:00\", \"2019-04-24T00:00:00\", \"2019-04-25T00:00:00\", \"2019-04-26T00:00:00\", \"2019-04-27T00:00:00\", \"2019-04-28T00:00:00\", \"2019-04-29T00:00:00\", \"2019-04-30T00:00:00\", \"2019-05-01T00:00:00\", \"2019-05-02T00:00:00\", \"2019-05-03T00:00:00\", \"2019-05-04T00:00:00\", \"2019-05-05T00:00:00\", \"2019-05-06T00:00:00\", \"2019-05-07T00:00:00\", \"2019-05-08T00:00:00\", \"2019-05-09T00:00:00\", \"2019-05-10T00:00:00\", \"2019-05-11T00:00:00\", \"2019-05-12T00:00:00\", \"2019-05-13T00:00:00\", \"2019-05-14T00:00:00\", \"2019-05-15T00:00:00\", \"2019-05-16T00:00:00\", \"2019-05-17T00:00:00\", \"2019-05-18T00:00:00\", \"2019-05-19T00:00:00\", \"2019-05-20T00:00:00\", \"2019-05-21T00:00:00\", \"2019-05-22T00:00:00\", \"2019-05-23T00:00:00\", \"2019-05-24T00:00:00\", \"2019-05-25T00:00:00\", \"2019-05-26T00:00:00\", \"2019-05-27T00:00:00\", \"2019-05-28T00:00:00\", \"2019-05-29T00:00:00\", \"2019-05-30T00:00:00\", \"2019-05-31T00:00:00\", \"2019-06-01T00:00:00\", \"2019-06-02T00:00:00\", \"2019-06-03T00:00:00\", \"2019-06-04T00:00:00\", \"2019-06-05T00:00:00\", \"2019-06-06T00:00:00\", \"2019-06-07T00:00:00\", \"2019-06-08T00:00:00\", \"2019-06-09T00:00:00\", \"2019-06-10T00:00:00\", \"2019-06-11T00:00:00\", \"2019-06-12T00:00:00\", \"2019-06-13T00:00:00\", \"2019-06-14T00:00:00\", \"2019-06-15T00:00:00\", \"2019-06-16T00:00:00\", \"2019-06-17T00:00:00\", \"2019-06-18T00:00:00\", \"2019-06-19T00:00:00\", \"2019-06-20T00:00:00\", \"2019-06-21T00:00:00\", \"2019-06-22T00:00:00\", \"2019-06-23T00:00:00\", \"2019-06-24T00:00:00\", \"2019-06-25T00:00:00\", \"2019-06-26T00:00:00\", \"2019-06-27T00:00:00\", \"2019-06-28T00:00:00\", \"2019-06-29T00:00:00\", \"2019-06-30T00:00:00\", \"2019-07-01T00:00:00\", \"2019-07-02T00:00:00\", \"2019-07-03T00:00:00\", \"2019-07-04T00:00:00\", \"2019-07-05T00:00:00\", \"2019-07-06T00:00:00\", \"2019-07-07T00:00:00\", \"2019-07-08T00:00:00\", \"2019-07-09T00:00:00\", \"2019-07-10T00:00:00\", \"2019-07-11T00:00:00\", \"2019-07-12T00:00:00\", \"2019-07-13T00:00:00\", \"2019-07-14T00:00:00\", \"2019-07-15T00:00:00\", \"2019-07-16T00:00:00\", \"2019-07-17T00:00:00\", \"2019-07-18T00:00:00\", \"2019-07-19T00:00:00\", \"2019-07-20T00:00:00\", \"2019-07-21T00:00:00\", \"2019-07-22T00:00:00\", \"2019-07-23T00:00:00\", \"2019-07-24T00:00:00\", \"2019-07-25T00:00:00\", \"2019-07-26T00:00:00\", \"2019-07-27T00:00:00\", \"2019-07-28T00:00:00\", \"2019-07-29T00:00:00\", \"2019-07-30T00:00:00\", \"2019-07-31T00:00:00\", \"2019-08-01T00:00:00\", \"2019-08-02T00:00:00\", \"2019-08-03T00:00:00\", \"2019-08-04T00:00:00\", \"2019-08-05T00:00:00\", \"2019-08-06T00:00:00\", \"2019-08-07T00:00:00\", \"2019-08-08T00:00:00\", \"2019-08-09T00:00:00\", \"2019-08-10T00:00:00\", \"2019-08-11T00:00:00\", \"2019-08-12T00:00:00\", \"2019-08-13T00:00:00\", \"2019-08-14T00:00:00\", \"2019-08-15T00:00:00\", \"2019-08-16T00:00:00\", \"2019-08-17T00:00:00\", \"2019-08-18T00:00:00\", \"2019-08-19T00:00:00\", \"2019-08-20T00:00:00\", \"2019-08-21T00:00:00\", \"2019-08-22T00:00:00\", \"2019-08-23T00:00:00\", \"2019-08-24T00:00:00\", \"2019-08-25T00:00:00\", \"2019-08-26T00:00:00\", \"2019-08-27T00:00:00\", \"2019-08-28T00:00:00\", \"2019-08-29T00:00:00\", \"2019-08-30T00:00:00\", \"2019-08-31T00:00:00\", \"2019-09-01T00:00:00\", \"2019-09-02T00:00:00\", \"2019-09-03T00:00:00\", \"2019-09-04T00:00:00\", \"2019-09-05T00:00:00\", \"2019-09-06T00:00:00\", \"2019-09-07T00:00:00\", \"2019-09-08T00:00:00\", \"2019-09-09T00:00:00\", \"2019-09-10T00:00:00\", \"2019-09-11T00:00:00\", \"2019-09-12T00:00:00\", \"2019-09-13T00:00:00\", \"2019-09-14T00:00:00\", \"2019-09-15T00:00:00\", \"2019-09-16T00:00:00\", \"2019-09-17T00:00:00\", \"2019-09-18T00:00:00\", \"2019-09-19T00:00:00\", \"2019-09-20T00:00:00\", \"2019-09-21T00:00:00\", \"2019-09-22T00:00:00\", \"2019-09-23T00:00:00\", \"2019-09-24T00:00:00\", \"2019-09-25T00:00:00\", \"2019-09-26T00:00:00\", \"2019-09-27T00:00:00\", \"2019-09-28T00:00:00\", \"2019-09-29T00:00:00\", \"2019-09-30T00:00:00\", \"2019-10-01T00:00:00\", \"2019-10-02T00:00:00\", \"2019-10-03T00:00:00\", \"2019-10-04T00:00:00\", \"2019-10-05T00:00:00\", \"2019-10-06T00:00:00\", \"2019-10-07T00:00:00\", \"2019-10-08T00:00:00\", \"2019-10-09T00:00:00\", \"2019-10-10T00:00:00\", \"2019-10-11T00:00:00\", \"2019-10-12T00:00:00\", \"2019-10-13T00:00:00\", \"2019-10-14T00:00:00\", \"2019-10-15T00:00:00\", \"2019-10-16T00:00:00\", \"2019-10-17T00:00:00\", \"2019-10-18T00:00:00\", \"2019-10-19T00:00:00\", \"2019-10-20T00:00:00\", \"2019-10-21T00:00:00\", \"2019-10-22T00:00:00\", \"2019-10-23T00:00:00\", \"2019-10-24T00:00:00\", \"2019-10-25T00:00:00\", \"2019-10-26T00:00:00\", \"2019-10-27T00:00:00\", \"2019-10-28T00:00:00\", \"2019-10-29T00:00:00\", \"2019-10-30T00:00:00\", \"2019-10-31T00:00:00\", \"2019-11-01T00:00:00\", \"2019-11-02T00:00:00\", \"2019-11-03T00:00:00\", \"2019-11-04T00:00:00\", \"2019-11-05T00:00:00\", \"2019-11-06T00:00:00\", \"2019-11-07T00:00:00\", \"2019-11-08T00:00:00\", \"2019-11-09T00:00:00\", \"2019-11-10T00:00:00\", \"2019-11-11T00:00:00\", \"2019-11-12T00:00:00\", \"2019-11-13T00:00:00\", \"2019-11-14T00:00:00\", \"2019-11-15T00:00:00\", \"2019-11-16T00:00:00\", \"2019-11-17T00:00:00\", \"2019-11-18T00:00:00\", \"2019-11-19T00:00:00\", \"2019-11-20T00:00:00\", \"2019-11-21T00:00:00\", \"2019-11-22T00:00:00\", \"2019-11-23T00:00:00\", \"2019-11-24T00:00:00\", \"2019-11-25T00:00:00\", \"2019-11-26T00:00:00\", \"2019-11-27T00:00:00\", \"2019-11-28T00:00:00\", \"2019-11-29T00:00:00\", \"2019-11-30T00:00:00\", \"2019-12-01T00:00:00\", \"2019-12-02T00:00:00\", \"2019-12-03T00:00:00\", \"2019-12-04T00:00:00\", \"2019-12-05T00:00:00\", \"2019-12-06T00:00:00\", \"2019-12-07T00:00:00\", \"2019-12-08T00:00:00\", \"2019-12-09T00:00:00\", \"2019-12-10T00:00:00\", \"2019-12-11T00:00:00\", \"2019-12-12T00:00:00\", \"2019-12-13T00:00:00\", \"2019-12-14T00:00:00\", \"2019-12-15T00:00:00\", \"2019-12-16T00:00:00\", \"2019-12-17T00:00:00\", \"2019-12-18T00:00:00\", \"2019-12-19T00:00:00\", \"2019-12-20T00:00:00\", \"2019-12-21T00:00:00\", \"2019-12-22T00:00:00\", \"2019-12-23T00:00:00\", \"2019-12-24T00:00:00\", \"2019-12-25T00:00:00\", \"2019-12-26T00:00:00\", \"2019-12-27T00:00:00\", \"2019-12-28T00:00:00\", \"2019-12-29T00:00:00\", \"2019-12-30T00:00:00\", \"2019-12-31T00:00:00\", \"2020-01-01T00:00:00\", \"2020-01-02T00:00:00\", \"2020-01-03T00:00:00\", \"2020-01-04T00:00:00\", \"2020-01-05T00:00:00\", \"2020-01-06T00:00:00\", \"2020-01-07T00:00:00\", \"2020-01-08T00:00:00\", \"2020-01-09T00:00:00\", \"2020-01-10T00:00:00\", \"2020-01-11T00:00:00\", \"2020-01-12T00:00:00\", \"2020-01-13T00:00:00\", \"2020-01-14T00:00:00\", \"2020-01-15T00:00:00\", \"2020-01-16T00:00:00\", \"2020-01-17T00:00:00\", \"2020-01-18T00:00:00\", \"2020-01-19T00:00:00\", \"2020-01-20T00:00:00\", \"2020-01-21T00:00:00\", \"2020-01-22T00:00:00\", \"2020-01-23T00:00:00\", \"2020-01-24T00:00:00\", \"2020-01-25T00:00:00\", \"2020-01-26T00:00:00\", \"2020-01-27T00:00:00\", \"2020-01-28T00:00:00\", \"2020-01-29T00:00:00\", \"2020-01-30T00:00:00\", \"2020-01-31T00:00:00\", \"2020-02-01T00:00:00\", \"2020-02-02T00:00:00\", \"2020-02-03T00:00:00\", \"2020-02-04T00:00:00\", \"2020-02-05T00:00:00\", \"2020-02-06T00:00:00\", \"2020-02-07T00:00:00\", \"2020-02-08T00:00:00\", \"2020-02-09T00:00:00\", \"2020-02-10T00:00:00\", \"2020-02-11T00:00:00\", \"2020-02-12T00:00:00\", \"2020-02-13T00:00:00\", \"2020-02-14T00:00:00\", \"2020-02-15T00:00:00\", \"2020-02-16T00:00:00\", \"2020-02-17T00:00:00\", \"2020-02-18T00:00:00\", \"2020-02-19T00:00:00\", \"2020-02-20T00:00:00\", \"2020-02-21T00:00:00\", \"2020-02-22T00:00:00\", \"2020-02-23T00:00:00\", \"2020-02-24T00:00:00\", \"2020-02-25T00:00:00\", \"2020-02-26T00:00:00\", \"2020-02-27T00:00:00\", \"2020-02-28T00:00:00\", \"2020-02-29T00:00:00\", \"2020-03-01T00:00:00\", \"2020-03-02T00:00:00\", \"2020-03-03T00:00:00\", \"2020-03-04T00:00:00\", \"2020-03-05T00:00:00\", \"2020-03-06T00:00:00\", \"2020-03-07T00:00:00\", \"2020-03-08T00:00:00\", \"2020-03-09T00:00:00\", \"2020-03-10T00:00:00\", \"2020-03-11T00:00:00\", \"2020-03-12T00:00:00\", \"2020-03-13T00:00:00\", \"2020-03-14T00:00:00\", \"2020-03-15T00:00:00\", \"2020-03-16T00:00:00\", \"2020-03-17T00:00:00\", \"2020-03-18T00:00:00\", \"2020-03-19T00:00:00\", \"2020-03-20T00:00:00\", \"2020-03-21T00:00:00\", \"2020-03-22T00:00:00\", \"2020-03-23T00:00:00\", \"2020-03-24T00:00:00\", \"2020-03-25T00:00:00\", \"2020-03-26T00:00:00\", \"2020-03-27T00:00:00\", \"2020-03-28T00:00:00\", \"2020-03-29T00:00:00\", \"2020-03-30T00:00:00\"], \"y\": [0.010658343586224184, 0.03326982425700144, 0.030213056397337873, 0.04917269529297618, 0.041681523237869104, 0.0024594816933687894, 0.017452148835588814, 0.007297188125022044, 0.02083839909042755, 0.01875238575038254, 0.01679252324994839, 0.004877612744078246, 0.022764498651717834, 0.018188876627818738, 0.020015715558689688, 0.017934388810653026, 0.003305418492254467, 0.02415701031962531, 0.015672523926898416, 0.012540813159812116, 0.0013830444871213358, 0.012449758158859072, 0.006864574047843449, 0.004070278934310021, 0.017123054496774124, 0.02042429652740157, 0.022287831067224345, 0.01882005938707732, 0.011173264029753991, 0.005262057556612619, 0.06333314594785766, 0.007876069174603725, 0.003762350051673565, 0.01995118195931376, 0.00913074532075979, 0.008414016196602056, 0.01095267103223862, 0.009919379695075899, 0.0516213617368387, 0.011906138601648044, 0.014036288408464095, 0.005780105514179506, 0.06675839476467924, 0.07626695593031789, 0.06705572487095994, 0.03967395081172602, 0.03225530959259674, 0.025516553816214503, 0.03352447292992052, 0.0008062573816481602, 0.0012002462169851953, 0.005462669792162506, 0.01682798938972417, 0.0374993621115915, 0.04544092202006502, 0.0192600934770331, 0.00020854073108827873, 0.006951420119928832, 0.00018920921179296307, 0.00982282124940299, 0.04626631982708945, 0.05455716467957706, 0.07978787008755893, 0.028946465263501708, 0.059597828377350066, 0.057787494839328074, 0.08035036693467734, 0.047240591621421385, 0.05125677251834806, 0.045284581281970354, 0.008260492303245142, 0.03210442796756714, 0.0006621377754270219, 0.0030195475990324096, 0.021229621423521673, 0.006261302594113465, 0.009795216076446737, 0.031172490501921186, 0.030981770273084696, 0.03588156854196302, 0.039404427591060005, 0.030671209503373296, 0.033902293789212036, 0.02519525209383276, 0.028846441234467723, 0.025981072482914012, 0.007601159990238551, 0.006031320170529368, 0.0019808845414372523, 0.008615405386736899, 0.015101517219194777, 0.04785229226125859, 0.02375829394062856, 0.02444901662649333, 0.009804910398939992, 0.0009947540683196718, 0.016601395651681082, 0.00929104824258194, 0.030381029738868467, 0.04626834302340583, 0.02959534692276472, 0.03333078495842235, 0.0010227409585603963, 0.01470399775026984, 0.036502627558818945, 0.03465942981264824, 0.019098374568753716, 0.02520052602298389, 0.015146765466855642, 0.044625824901945756, 0.04193572944536275, 0.06545857698061942, 0.03565810599028869, 0.0203002345848673, 0.03545977284050976, 0.022771451861898356, 0.043015195218170384, 0.011629805639658574, 0.02290888425912187, 0.007287267779598709, 0.027147066365695107, 0.0009064245273434956, 0.015282721297996012, 0.025071448959156962, 0.03098764810577354, 0.047990359487895234, 0.029658100363273772, 0.03252641863999586, 0.03763460108083439, 0.08859755807159793, 0.05393945365499201, 0.058276087319138206, 0.010695667631356433, 0.024927315676487732, 0.03936765945502005, 0.03833488930931868, 0.04304360867509381, 0.03458405146973672, 0.03859232974129087, 0.04455618834581709, 0.0355016589213853, 0.05468623875142323, 0.04634989381104814, 0.01381565706682946, 0.018694749472901007, 0.014820068287330719, 0.03042455294304188, 0.04869980144876065, 0.015406956515182289, 0.022201198689746782, 0.010506683122868208, 0.01686920949528109, 0.01508923494597181, 0.004015146135597204, 0.00783705531483791, 0.018369508569712496, 0.011109362637855029, 0.0054313265039664296, 0.010645696487908444, 0.008963333108438356, 0.004072143376296375, 0.0034403699847232985, 0.013227530761563442, 0.0059936778967761015, 0.0036212725360000838, 0.005257322504290074, 0.013934090358538929, 0.04323702002372997, 0.00882001539471989, 0.013069957119616631, 0.003978779405346582, 0.013323675454576916, 0.008617590644496331, 0.02148363055209533, 0.020633283166367148, 0.024418445186580644, 0.02611152596339128, 0.02803476634661101, 0.006940559709878147, 0.014752270546374171, 0.022213975969946082, 0.01646890898840284, 0.023622185037785362, 0.033159256167712155, 0.0340033697695121, 0.025488993161997302, 0.029690186424070036, 0.009673201608788031, 0.0006996723285759536, 0.08275367849461394, 0.07975395169973704, 0.08649948854534581, 0.0881560065674846, 0.028589299298252567, 0.06696900482634506, 0.09974561122446807, 0.03645832802524576, 0.02431302209494758, 0.009448666937884384, 0.00929753773712444, 0.0034218064109665714, 0.004985091751101742, 0.013093102793133318, 0.015941728352344864, 0.03504905722703501, 0.02499712894811802, 0.018442606035175262, 0.018200805266865263, 0.015336241930946815, 0.006135819825845151, 0.010322565204683401, 0.0065396165251293105, 5.453472055138039e-05, 0.0008860420881569326, 0.014627467169666172, 0.021877136483927355, 0.04420257589574906, 0.02871692998082783, 0.027125495323134453, 0.037873768152891334, 0.033738333381225324, 0.036025185207401285, 0.0306748841104504, 0.0403105708428207, 0.024909014273154628, 0.008393067093493328, 0.0150912482519929, 0.0006348044522588084, 0.01806442473696913, 0.04324766070620679, 0.05553757232963607, 0.009829069474823846, 0.02530861537865468, 0.05178614417464525, 0.04312361606542999, 0.023718355358095855, 0.011825382679313018, 0.022396070653110858, 0.021918313990385928, 0.020606637853556584, 0.04346391468655722, 0.04949522112238607, 0.007578080375985019, 0.0535387314848517, 0.040266573296084865, 0.025857255282379626, 0.02308351194059222, 0.014918929476664905, 0.02635755684060428, 0.027052552388349298, 0.017595670349058075, 0.024671687708710192, 0.02634708080585201, 0.047718642176447515, 0.04849159055679628, 0.009317350841358134, 0.013216041096783846, 0.01634017123674879, 0.027492986017848487, 0.028578312868391666, 0.016746133948800396, 0.032281687316555646, 0.03886812616753255, 0.01935225721082965, 0.01864904883305336, 0.002102640823813481, 0.06565314107375181, 0.11699222120703885, 0.011208505148528647, 0.011867608093584161, 0.005103044269201674, 0.023368409790884986, 0.04843438288919335, 0.05123227825925688, 0.14542832541737996, 0.0054582833799181685, 0.031021545223857604, 0.03692267385279454, 0.0768924803000264, 0.023115834445309087, 0.0018374028366254416, 0.01499424476303691, 0.0181478916630525, 0.026731817528630762, 0.03138126605206862, 0.027241987690252652, 0.00900762967863727, 0.043962909890831556, 0.024430802207098996, 0.021082050213648337, 0.015550977063076676, 0.015586081080280525, 0.004844772131929467, 0.02455642548116701, 0.015087856256380434, 0.01875126758159624, 0.014367612120518902, 0.023878859331850247, 0.036503341631256785, 0.034498680940755956, 0.02128477900754914, 0.007535076900057205, 0.02048185327557829, 0.017369008945658477, 0.01127992423579876, 0.03080357647457759, 0.0180966190112647, 0.04274290938987942, 0.06920555951271203, 0.07021520360166159, 0.09685880484233586, 0.07785550004829934, 0.06817128661434857, 0.05931470367754039, 0.044923615778733654, 0.02748628186596847, 0.03254660028912322, 0.03952860073563422, 0.02824247374590682, 0.016516292222401852, 0.04947052143702712, 0.013284698216342244, 0.02532504734850665, 0.03733763010136537, 0.03917331221625046, 0.03156796111717901, 0.01849991227233042, 0.01822603633241145, 0.009671757730398432, 0.002031238605035197, 0.019563760216108905, 0.02791834379464589, 0.02652527020432521, 0.022948856108907487, 0.02229039651724172, 0.03360478015475353, 0.005215482593124029, 0.020230614854827515, 0.013403566540635063, 0.03320742139069659, 0.024196862091658836, 0.018913181299315993, 0.04211212437277197, 0.009475837291427659, 0.000670152076817058, 0.031205855182006283, 0.03945383203687509, 0.06416993552508388, 0.0871894513830483, 0.04771611239672958, 0.051322693913787576, 0.02336983350243409, 0.02181199034782442, 0.03267316603931021, 0.015424253587111896, 0.00989103380867669, 0.027883800323451013, 0.007176337468567033, 0.014590897294270624, 0.016669883302070174, 0.034163778434946425, 0.03758103277211301, 0.026423732714331054, 0.039283851131921316]}, {\"line\": {\"color\": \"rgba(50, 171, 96, 1.0)\", \"dash\": \"solid\", \"shape\": \"linear\", \"width\": 1.3}, \"mode\": \"lines\", \"name\": \"07_04_2021_14_46_22\", \"text\": \"\", \"type\": \"scatter\", \"x\": [\"2019-04-02T00:00:00\", \"2019-04-03T00:00:00\", \"2019-04-04T00:00:00\", \"2019-04-05T00:00:00\", \"2019-04-06T00:00:00\", \"2019-04-07T00:00:00\", \"2019-04-08T00:00:00\", \"2019-04-09T00:00:00\", \"2019-04-10T00:00:00\", \"2019-04-11T00:00:00\", \"2019-04-12T00:00:00\", \"2019-04-13T00:00:00\", \"2019-04-14T00:00:00\", \"2019-04-15T00:00:00\", \"2019-04-16T00:00:00\", \"2019-04-17T00:00:00\", \"2019-04-18T00:00:00\", \"2019-04-19T00:00:00\", \"2019-04-20T00:00:00\", \"2019-04-21T00:00:00\", \"2019-04-22T00:00:00\", \"2019-04-23T00:00:00\", \"2019-04-24T00:00:00\", \"2019-04-25T00:00:00\", \"2019-04-26T00:00:00\", \"2019-04-27T00:00:00\", \"2019-04-28T00:00:00\", \"2019-04-29T00:00:00\", \"2019-04-30T00:00:00\", \"2019-05-01T00:00:00\", \"2019-05-02T00:00:00\", \"2019-05-03T00:00:00\", \"2019-05-04T00:00:00\", \"2019-05-05T00:00:00\", \"2019-05-06T00:00:00\", \"2019-05-07T00:00:00\", \"2019-05-08T00:00:00\", \"2019-05-09T00:00:00\", \"2019-05-10T00:00:00\", \"2019-05-11T00:00:00\", \"2019-05-12T00:00:00\", \"2019-05-13T00:00:00\", \"2019-05-14T00:00:00\", \"2019-05-15T00:00:00\", \"2019-05-16T00:00:00\", \"2019-05-17T00:00:00\", \"2019-05-18T00:00:00\", \"2019-05-19T00:00:00\", \"2019-05-20T00:00:00\", \"2019-05-21T00:00:00\", \"2019-05-22T00:00:00\", \"2019-05-23T00:00:00\", \"2019-05-24T00:00:00\", \"2019-05-25T00:00:00\", \"2019-05-26T00:00:00\", \"2019-05-27T00:00:00\", \"2019-05-28T00:00:00\", \"2019-05-29T00:00:00\", \"2019-05-30T00:00:00\", \"2019-05-31T00:00:00\", \"2019-06-01T00:00:00\", \"2019-06-02T00:00:00\", \"2019-06-03T00:00:00\", \"2019-06-04T00:00:00\", \"2019-06-05T00:00:00\", \"2019-06-06T00:00:00\", \"2019-06-07T00:00:00\", \"2019-06-08T00:00:00\", \"2019-06-09T00:00:00\", \"2019-06-10T00:00:00\", \"2019-06-11T00:00:00\", \"2019-06-12T00:00:00\", \"2019-06-13T00:00:00\", \"2019-06-14T00:00:00\", \"2019-06-15T00:00:00\", \"2019-06-16T00:00:00\", \"2019-06-17T00:00:00\", \"2019-06-18T00:00:00\", \"2019-06-19T00:00:00\", \"2019-06-20T00:00:00\", \"2019-06-21T00:00:00\", \"2019-06-22T00:00:00\", \"2019-06-23T00:00:00\", \"2019-06-24T00:00:00\", \"2019-06-25T00:00:00\", \"2019-06-26T00:00:00\", \"2019-06-27T00:00:00\", \"2019-06-28T00:00:00\", \"2019-06-29T00:00:00\", \"2019-06-30T00:00:00\", \"2019-07-01T00:00:00\", \"2019-07-02T00:00:00\", \"2019-07-03T00:00:00\", \"2019-07-04T00:00:00\", \"2019-07-05T00:00:00\", \"2019-07-06T00:00:00\", \"2019-07-07T00:00:00\", \"2019-07-08T00:00:00\", \"2019-07-09T00:00:00\", \"2019-07-10T00:00:00\", \"2019-07-11T00:00:00\", \"2019-07-12T00:00:00\", \"2019-07-13T00:00:00\", \"2019-07-14T00:00:00\", \"2019-07-15T00:00:00\", \"2019-07-16T00:00:00\", \"2019-07-17T00:00:00\", \"2019-07-18T00:00:00\", \"2019-07-19T00:00:00\", \"2019-07-20T00:00:00\", \"2019-07-21T00:00:00\", \"2019-07-22T00:00:00\", \"2019-07-23T00:00:00\", \"2019-07-24T00:00:00\", \"2019-07-25T00:00:00\", \"2019-07-26T00:00:00\", \"2019-07-27T00:00:00\", \"2019-07-28T00:00:00\", \"2019-07-29T00:00:00\", \"2019-07-30T00:00:00\", \"2019-07-31T00:00:00\", \"2019-08-01T00:00:00\", \"2019-08-02T00:00:00\", \"2019-08-03T00:00:00\", \"2019-08-04T00:00:00\", \"2019-08-05T00:00:00\", \"2019-08-06T00:00:00\", \"2019-08-07T00:00:00\", \"2019-08-08T00:00:00\", \"2019-08-09T00:00:00\", \"2019-08-10T00:00:00\", \"2019-08-11T00:00:00\", \"2019-08-12T00:00:00\", \"2019-08-13T00:00:00\", \"2019-08-14T00:00:00\", \"2019-08-15T00:00:00\", \"2019-08-16T00:00:00\", \"2019-08-17T00:00:00\", \"2019-08-18T00:00:00\", \"2019-08-19T00:00:00\", \"2019-08-20T00:00:00\", \"2019-08-21T00:00:00\", \"2019-08-22T00:00:00\", \"2019-08-23T00:00:00\", \"2019-08-24T00:00:00\", \"2019-08-25T00:00:00\", \"2019-08-26T00:00:00\", \"2019-08-27T00:00:00\", \"2019-08-28T00:00:00\", \"2019-08-29T00:00:00\", \"2019-08-30T00:00:00\", \"2019-08-31T00:00:00\", \"2019-09-01T00:00:00\", \"2019-09-02T00:00:00\", \"2019-09-03T00:00:00\", \"2019-09-04T00:00:00\", \"2019-09-05T00:00:00\", \"2019-09-06T00:00:00\", \"2019-09-07T00:00:00\", \"2019-09-08T00:00:00\", \"2019-09-09T00:00:00\", \"2019-09-10T00:00:00\", \"2019-09-11T00:00:00\", \"2019-09-12T00:00:00\", \"2019-09-13T00:00:00\", \"2019-09-14T00:00:00\", \"2019-09-15T00:00:00\", \"2019-09-16T00:00:00\", \"2019-09-17T00:00:00\", \"2019-09-18T00:00:00\", \"2019-09-19T00:00:00\", \"2019-09-20T00:00:00\", \"2019-09-21T00:00:00\", \"2019-09-22T00:00:00\", \"2019-09-23T00:00:00\", \"2019-09-24T00:00:00\", \"2019-09-25T00:00:00\", \"2019-09-26T00:00:00\", \"2019-09-27T00:00:00\", \"2019-09-28T00:00:00\", \"2019-09-29T00:00:00\", \"2019-09-30T00:00:00\", \"2019-10-01T00:00:00\", \"2019-10-02T00:00:00\", \"2019-10-03T00:00:00\", \"2019-10-04T00:00:00\", \"2019-10-05T00:00:00\", \"2019-10-06T00:00:00\", \"2019-10-07T00:00:00\", \"2019-10-08T00:00:00\", \"2019-10-09T00:00:00\", \"2019-10-10T00:00:00\", \"2019-10-11T00:00:00\", \"2019-10-12T00:00:00\", \"2019-10-13T00:00:00\", \"2019-10-14T00:00:00\", \"2019-10-15T00:00:00\", \"2019-10-16T00:00:00\", \"2019-10-17T00:00:00\", \"2019-10-18T00:00:00\", \"2019-10-19T00:00:00\", \"2019-10-20T00:00:00\", \"2019-10-21T00:00:00\", \"2019-10-22T00:00:00\", \"2019-10-23T00:00:00\", \"2019-10-24T00:00:00\", \"2019-10-25T00:00:00\", \"2019-10-26T00:00:00\", \"2019-10-27T00:00:00\", \"2019-10-28T00:00:00\", \"2019-10-29T00:00:00\", \"2019-10-30T00:00:00\", \"2019-10-31T00:00:00\", \"2019-11-01T00:00:00\", \"2019-11-02T00:00:00\", \"2019-11-03T00:00:00\", \"2019-11-04T00:00:00\", \"2019-11-05T00:00:00\", \"2019-11-06T00:00:00\", \"2019-11-07T00:00:00\", \"2019-11-08T00:00:00\", \"2019-11-09T00:00:00\", \"2019-11-10T00:00:00\", \"2019-11-11T00:00:00\", \"2019-11-12T00:00:00\", \"2019-11-13T00:00:00\", \"2019-11-14T00:00:00\", \"2019-11-15T00:00:00\", \"2019-11-16T00:00:00\", \"2019-11-17T00:00:00\", \"2019-11-18T00:00:00\", \"2019-11-19T00:00:00\", \"2019-11-20T00:00:00\", \"2019-11-21T00:00:00\", \"2019-11-22T00:00:00\", \"2019-11-23T00:00:00\", \"2019-11-24T00:00:00\", \"2019-11-25T00:00:00\", \"2019-11-26T00:00:00\", \"2019-11-27T00:00:00\", \"2019-11-28T00:00:00\", \"2019-11-29T00:00:00\", \"2019-11-30T00:00:00\", \"2019-12-01T00:00:00\", \"2019-12-02T00:00:00\", \"2019-12-03T00:00:00\", \"2019-12-04T00:00:00\", \"2019-12-05T00:00:00\", \"2019-12-06T00:00:00\", \"2019-12-07T00:00:00\", \"2019-12-08T00:00:00\", \"2019-12-09T00:00:00\", \"2019-12-10T00:00:00\", \"2019-12-11T00:00:00\", \"2019-12-12T00:00:00\", \"2019-12-13T00:00:00\", \"2019-12-14T00:00:00\", \"2019-12-15T00:00:00\", \"2019-12-16T00:00:00\", \"2019-12-17T00:00:00\", \"2019-12-18T00:00:00\", \"2019-12-19T00:00:00\", \"2019-12-20T00:00:00\", \"2019-12-21T00:00:00\", \"2019-12-22T00:00:00\", \"2019-12-23T00:00:00\", \"2019-12-24T00:00:00\", \"2019-12-25T00:00:00\", \"2019-12-26T00:00:00\", \"2019-12-27T00:00:00\", \"2019-12-28T00:00:00\", \"2019-12-29T00:00:00\", \"2019-12-30T00:00:00\", \"2019-12-31T00:00:00\", \"2020-01-01T00:00:00\", \"2020-01-02T00:00:00\", \"2020-01-03T00:00:00\", \"2020-01-04T00:00:00\", \"2020-01-05T00:00:00\", \"2020-01-06T00:00:00\", \"2020-01-07T00:00:00\", \"2020-01-08T00:00:00\", \"2020-01-09T00:00:00\", \"2020-01-10T00:00:00\", \"2020-01-11T00:00:00\", \"2020-01-12T00:00:00\", \"2020-01-13T00:00:00\", \"2020-01-14T00:00:00\", \"2020-01-15T00:00:00\", \"2020-01-16T00:00:00\", \"2020-01-17T00:00:00\", \"2020-01-18T00:00:00\", \"2020-01-19T00:00:00\", \"2020-01-20T00:00:00\", \"2020-01-21T00:00:00\", \"2020-01-22T00:00:00\", \"2020-01-23T00:00:00\", \"2020-01-24T00:00:00\", \"2020-01-25T00:00:00\", \"2020-01-26T00:00:00\", \"2020-01-27T00:00:00\", \"2020-01-28T00:00:00\", \"2020-01-29T00:00:00\", \"2020-01-30T00:00:00\", \"2020-01-31T00:00:00\", \"2020-02-01T00:00:00\", \"2020-02-02T00:00:00\", \"2020-02-03T00:00:00\", \"2020-02-04T00:00:00\", \"2020-02-05T00:00:00\", \"2020-02-06T00:00:00\", \"2020-02-07T00:00:00\", \"2020-02-08T00:00:00\", \"2020-02-09T00:00:00\", \"2020-02-10T00:00:00\", \"2020-02-11T00:00:00\", \"2020-02-12T00:00:00\", \"2020-02-13T00:00:00\", \"2020-02-14T00:00:00\", \"2020-02-15T00:00:00\", \"2020-02-16T00:00:00\", \"2020-02-17T00:00:00\", \"2020-02-18T00:00:00\", \"2020-02-19T00:00:00\", \"2020-02-20T00:00:00\", \"2020-02-21T00:00:00\", \"2020-02-22T00:00:00\", \"2020-02-23T00:00:00\", \"2020-02-24T00:00:00\", \"2020-02-25T00:00:00\", \"2020-02-26T00:00:00\", \"2020-02-27T00:00:00\", \"2020-02-28T00:00:00\", \"2020-02-29T00:00:00\", \"2020-03-01T00:00:00\", \"2020-03-02T00:00:00\", \"2020-03-03T00:00:00\", \"2020-03-04T00:00:00\", \"2020-03-05T00:00:00\", \"2020-03-06T00:00:00\", \"2020-03-07T00:00:00\", \"2020-03-08T00:00:00\", \"2020-03-09T00:00:00\", \"2020-03-10T00:00:00\", \"2020-03-11T00:00:00\", \"2020-03-12T00:00:00\", \"2020-03-13T00:00:00\", \"2020-03-14T00:00:00\", \"2020-03-15T00:00:00\", \"2020-03-16T00:00:00\", \"2020-03-17T00:00:00\", \"2020-03-18T00:00:00\", \"2020-03-19T00:00:00\", \"2020-03-20T00:00:00\", \"2020-03-21T00:00:00\", \"2020-03-22T00:00:00\", \"2020-03-23T00:00:00\", \"2020-03-24T00:00:00\", \"2020-03-25T00:00:00\", \"2020-03-26T00:00:00\", \"2020-03-27T00:00:00\", \"2020-03-28T00:00:00\", \"2020-03-29T00:00:00\", \"2020-03-30T00:00:00\"], \"y\": [0.014881892377865049, 0.03636636439631344, 0.03156499517216605, 0.0452489819351739, 0.048095199001027114, 0.010780580459717738, 0.02310580379043132, 0.010577807212418482, 0.020868857339279307, 0.012976561935849396, 0.014583672496270118, 0.0012472472461053693, 0.02605107307919142, 0.014299076359493571, 0.006153063165473799, 0.002534427604506864, 0.01877747662863862, 0.0306443858334939, 0.0043763362429991735, 0.033759165506681815, 0.03165108356903678, 0.007927092300371419, 0.008725632800076863, 0.005554671263538908, 0.015900226259301056, 0.020273947072254033, 0.02636778954402581, 0.01615669281546474, 0.0160735825244469, 0.000740857470029653, 0.07367298477777005, 0.014139893297550306, 0.00335438970681331, 0.029913484105188043, 0.01213011611501902, 0.009305931087964391, 0.007279367647214948, 0.00756497486948321, 0.08473674869619349, 0.022440157900692346, 0.01032847941085843, 0.0011098406055084253, 0.019143156298149236, 0.0026548276343410933, 0.01755803281921123, 0.008098975892025621, 0.0005193243179135034, 0.015648300621872575, 0.003784964857107988, 0.00950956099259872, 0.00013931380404668897, 0.005004553010321476, 0.022468205821038777, 0.04311320337402136, 0.04553908510623517, 0.02089796872528867, 0.002407039985036703, 0.0073278892122113125, 0.002746509597881048, 0.020104792066402633, 0.06650477110422244, 0.06590927645453099, 0.09370433991236399, 0.04015676475946416, 0.06793401629590722, 0.06854245256892873, 0.09492136068563135, 0.06462259140464983, 0.06467164341363173, 0.06245526450405588, 0.0446531201444854, 0.04650159398261145, 0.0450683480353902, 0.04011935108640353, 0.011077176312000659, 0.01132902601355859, 0.03894001077331346, 0.03300497990476882, 0.03236239424268194, 0.03906402711059832, 0.041916047244975684, 0.03297682808378362, 0.038693822239183516, 0.030915454944493877, 0.030229893287238938, 0.024556736158360088, 0.0041324835743810386, 0.0019905297947485938, 0.010304876320322495, 0.0007315252477026192, 0.01249842565498658, 0.04515004243211076, 0.018694584848599528, 0.0154077804064271, 0.0005383628983061556, 0.001085398719527871, 0.012836645289812177, 0.005890874734025588, 0.029799088141167097, 0.04533566631828915, 0.028900560288944655, 0.03374753563037486, 0.0010693484538061252, 0.018231870271226264, 0.03960388273198058, 0.03361699934046972, 0.020801497584377594, 0.02572537236475323, 0.02198880743756756, 0.04197046220416581, 0.0459026618670444, 0.07213511689447563, 0.039872756441712495, 0.027847533928950955, 0.04019245227256525, 0.025019469650938608, 0.03632061098184961, 0.010487267707937117, 0.029657972029547158, 0.0018678882767542081, 0.016703477287413688, 0.01338400428994644, 0.0035059206270392175, 0.01655105987182698, 0.0360302547312545, 0.03703525202992466, 0.046511002127868836, 0.029930625743393686, 0.036514360645347466, 0.04633803864467949, 0.04039203527230161, 0.04601281532001504, 0.04217898420425748, 0.05320931466526023, 0.06260683753919763, 0.059733656100527936, 0.07167976599432241, 0.05312210669996223, 0.051878674437447675, 0.07884658494512427, 0.039893436893635045, 0.05879179249649802, 0.051267469721111375, 0.013991113689567935, 0.017564231566989837, 0.013143482047231486, 0.03340696582770858, 0.060420013497000706, 0.012722346276577597, 0.016787193426789918, 0.002245878060119771, 0.002570084128621024, 0.011345708371019211, 0.0008290389295720188, 0.003432369161935167, 0.017933270597675792, 0.014646317040784566, 0.000783740803529128, 0.004433290022930631, 0.011693063579775642, 0.002232462414075442, 0.002013576066340106, 0.014459984323566455, 0.011719608201605069, 0.005844654441455805, 0.013064384198157546, 0.0324162213637807, 0.045923410822829205, 0.0068363462444279675, 0.01037653080170865, 0.000897780780208934, 0.015339588312788472, 0.0068404764576383914, 0.02044091483385511, 0.025428323919424373, 0.02974210028089851, 0.03178304492993735, 0.03705305748461047, 0.01350775103596707, 0.021780131925612286, 0.02450796985045946, 0.015324663231689382, 0.024807300709267087, 0.04431868530841852, 0.041788097352279466, 0.03619360509107169, 0.03705589111817223, 0.006157478880216655, 0.0031128476019399087, 0.003864655915435867, 0.0022943790540992503, 0.015018034574038344, 0.027612569518068154, 0.07350554843039149, 0.020435527386566087, 0.028788539526193837, 0.039933634948669534, 0.02812512943269752, 0.013686761677785292, 0.007646571292773242, 0.006343004437529943, 0.006097588729305576, 0.005822719505462654, 0.0124503935524211, 0.005792573904264039, 0.012161569036805833, 0.010919241721767992, 0.022534203528940578, 0.06279567616672535, 0.03712828066969219, 0.026986185569515507, 0.03160020268951435, 0.028346652146896245, 0.0040607603516352175, 0.016323808030705746, 0.021271321292502348, 0.04155406367606222, 0.02528551060929804, 0.02415396465284763, 0.031210426657722376, 0.03570830655805047, 0.03830117591145238, 0.03265619886727921, 0.04345586424709538, 0.02908858587384872, 0.002635696956894273, 0.012896351178154932, 0.004567951802509408, 0.03114550970537366, 0.04975010230194662, 0.07803494232849141, 0.013618798130126102, 0.04725820264270169, 0.07075828924717759, 0.11418161950687415, 0.054762072548045396, 0.03424290544777874, 0.03479471270501216, 0.03513874700971406, 0.04195197089859772, 0.06455298170801385, 0.10548496579183342, 0.030878780981673723, 0.06461392270142138, 0.05402287897939982, 0.02629039877949098, 0.02081848056936091, 0.0134527773201032, 0.021098407765537997, 0.022235984566549148, 0.01254882115259728, 0.027033453654710136, 0.035898360002272055, 0.06177321096150493, 0.05534353036853926, 0.01901804075841185, 0.0348840921797421, 0.023528171133415127, 0.030635517157562037, 0.02297860172681462, 0.011793085761491493, 0.027179507363742576, 0.02467601609388773, 0.021027616783518707, 0.010895568602845043, 0.014028406852761313, 0.07424512855137827, 0.14069687866449015, 0.002644724733193862, 0.005999323305448517, 0.0037460111799977372, 0.02520193348958187, 0.06676782507242618, 0.011058316943402122, 0.1566464764727079, 0.024140963619162237, 0.03159681640899272, 0.043726521636428914, 0.08167041826674956, 0.024510149484187126, 0.006751281490293434, 0.027743164785156843, 0.03266300209752894, 0.05674003574954904, 0.050019684335200224, 0.0435517487105287, 0.02832882759113516, 0.013615261545897397, 0.0006421457118071771, 0.00019377621847575154, 0.00254581084607067, 0.007947241936126684, 0.005124326250915435, 0.014125480522182564, 0.011856970198634032, 0.010925281248741094, 0.00515463042121925, 0.009870449223395935, 0.030315272362217205, 0.02505377359802361, 0.016370880330712916, 0.00043294271784038454, 0.010319194636034283, 0.004904400811767957, 0.0025810068313644836, 0.030930485999382498, 0.02117720348344036, 0.03535601474056886, 0.07869519500514104, 0.08197210922561565, 0.11301047043750966, 0.10330054249244133, 0.07733402865108112, 0.09176850692457447, 0.052113884552156674, 0.021977895995406907, 0.023647389792604574, 0.037883286880826386, 0.019531404717595024, 0.023552213750069207, 0.043618885273483655, 0.011226120273297273, 0.004073332527973023, 0.0005891992642301027, 0.003668244679756697, 0.015534015239086473, 0.011287794768212081, 0.014243571590946616, 0.02071158946907134, 0.020281389884339623, 0.04344877365141201, 0.055627904204404256, 0.0704491662729235, 0.048767641095059676, 0.05592927789655909, 0.06868976966424895, 0.013312812118039604, 0.015439142415441526, 0.008315133097941102, 0.0318069827060151, 0.018180497060883493, 0.01473888008123114, 0.03632168765863346, 0.009839554986254844, 0.0029846327467509216, 0.026245202937168855, 0.03674734040537578, 0.01820445732865227, 0.06693832148540146, 0.057256941051638546, 0.07136548555913619, 0.031459941035473525, 0.03295137963533924, 0.04674987777478211, 0.02214125088501246, 0.011175538032859658, 0.04644157684718218, 0.022632344883343047, 0.05223717253319735, 0.05827376493146888, 0.09204072524299271, 0.07555958781710531, 0.07340174025165716, 0.06850357400601663]}, {\"line\": {\"color\": \"rgba(128, 0, 128, 1.0)\", \"dash\": \"solid\", \"shape\": \"linear\", \"width\": 1.3}, \"mode\": \"lines\", \"name\": \"07_04_2021_15_32_29\", \"text\": \"\", \"type\": \"scatter\", \"x\": [\"2019-04-02T00:00:00\", \"2019-04-03T00:00:00\", \"2019-04-04T00:00:00\", \"2019-04-05T00:00:00\", \"2019-04-06T00:00:00\", \"2019-04-07T00:00:00\", \"2019-04-08T00:00:00\", \"2019-04-09T00:00:00\", \"2019-04-10T00:00:00\", \"2019-04-11T00:00:00\", \"2019-04-12T00:00:00\", \"2019-04-13T00:00:00\", \"2019-04-14T00:00:00\", \"2019-04-15T00:00:00\", \"2019-04-16T00:00:00\", \"2019-04-17T00:00:00\", \"2019-04-18T00:00:00\", \"2019-04-19T00:00:00\", \"2019-04-20T00:00:00\", \"2019-04-21T00:00:00\", \"2019-04-22T00:00:00\", \"2019-04-23T00:00:00\", \"2019-04-24T00:00:00\", \"2019-04-25T00:00:00\", \"2019-04-26T00:00:00\", \"2019-04-27T00:00:00\", \"2019-04-28T00:00:00\", \"2019-04-29T00:00:00\", \"2019-04-30T00:00:00\", \"2019-05-01T00:00:00\", \"2019-05-02T00:00:00\", \"2019-05-03T00:00:00\", \"2019-05-04T00:00:00\", \"2019-05-05T00:00:00\", \"2019-05-06T00:00:00\", \"2019-05-07T00:00:00\", \"2019-05-08T00:00:00\", \"2019-05-09T00:00:00\", \"2019-05-10T00:00:00\", \"2019-05-11T00:00:00\", \"2019-05-12T00:00:00\", \"2019-05-13T00:00:00\", \"2019-05-14T00:00:00\", \"2019-05-15T00:00:00\", \"2019-05-16T00:00:00\", \"2019-05-17T00:00:00\", \"2019-05-18T00:00:00\", \"2019-05-19T00:00:00\", \"2019-05-20T00:00:00\", \"2019-05-21T00:00:00\", \"2019-05-22T00:00:00\", \"2019-05-23T00:00:00\", \"2019-05-24T00:00:00\", \"2019-05-25T00:00:00\", \"2019-05-26T00:00:00\", \"2019-05-27T00:00:00\", \"2019-05-28T00:00:00\", \"2019-05-29T00:00:00\", \"2019-05-30T00:00:00\", \"2019-05-31T00:00:00\", \"2019-06-01T00:00:00\", \"2019-06-02T00:00:00\", \"2019-06-03T00:00:00\", \"2019-06-04T00:00:00\", \"2019-06-05T00:00:00\", \"2019-06-06T00:00:00\", \"2019-06-07T00:00:00\", \"2019-06-08T00:00:00\", \"2019-06-09T00:00:00\", \"2019-06-10T00:00:00\", \"2019-06-11T00:00:00\", \"2019-06-12T00:00:00\", \"2019-06-13T00:00:00\", \"2019-06-14T00:00:00\", \"2019-06-15T00:00:00\", \"2019-06-16T00:00:00\", \"2019-06-17T00:00:00\", \"2019-06-18T00:00:00\", \"2019-06-19T00:00:00\", \"2019-06-20T00:00:00\", \"2019-06-21T00:00:00\", \"2019-06-22T00:00:00\", \"2019-06-23T00:00:00\", \"2019-06-24T00:00:00\", \"2019-06-25T00:00:00\", \"2019-06-26T00:00:00\", \"2019-06-27T00:00:00\", \"2019-06-28T00:00:00\", \"2019-06-29T00:00:00\", \"2019-06-30T00:00:00\", \"2019-07-01T00:00:00\", \"2019-07-02T00:00:00\", \"2019-07-03T00:00:00\", \"2019-07-04T00:00:00\", \"2019-07-05T00:00:00\", \"2019-07-06T00:00:00\", \"2019-07-07T00:00:00\", \"2019-07-08T00:00:00\", \"2019-07-09T00:00:00\", \"2019-07-10T00:00:00\", \"2019-07-11T00:00:00\", \"2019-07-12T00:00:00\", \"2019-07-13T00:00:00\", \"2019-07-14T00:00:00\", \"2019-07-15T00:00:00\", \"2019-07-16T00:00:00\", \"2019-07-17T00:00:00\", \"2019-07-18T00:00:00\", \"2019-07-19T00:00:00\", \"2019-07-20T00:00:00\", \"2019-07-21T00:00:00\", \"2019-07-22T00:00:00\", \"2019-07-23T00:00:00\", \"2019-07-24T00:00:00\", \"2019-07-25T00:00:00\", \"2019-07-26T00:00:00\", \"2019-07-27T00:00:00\", \"2019-07-28T00:00:00\", \"2019-07-29T00:00:00\", \"2019-07-30T00:00:00\", \"2019-07-31T00:00:00\", \"2019-08-01T00:00:00\", \"2019-08-02T00:00:00\", \"2019-08-03T00:00:00\", \"2019-08-04T00:00:00\", \"2019-08-05T00:00:00\", \"2019-08-06T00:00:00\", \"2019-08-07T00:00:00\", \"2019-08-08T00:00:00\", \"2019-08-09T00:00:00\", \"2019-08-10T00:00:00\", \"2019-08-11T00:00:00\", \"2019-08-12T00:00:00\", \"2019-08-13T00:00:00\", \"2019-08-14T00:00:00\", \"2019-08-15T00:00:00\", \"2019-08-16T00:00:00\", \"2019-08-17T00:00:00\", \"2019-08-18T00:00:00\", \"2019-08-19T00:00:00\", \"2019-08-20T00:00:00\", \"2019-08-21T00:00:00\", \"2019-08-22T00:00:00\", \"2019-08-23T00:00:00\", \"2019-08-24T00:00:00\", \"2019-08-25T00:00:00\", \"2019-08-26T00:00:00\", \"2019-08-27T00:00:00\", \"2019-08-28T00:00:00\", \"2019-08-29T00:00:00\", \"2019-08-30T00:00:00\", \"2019-08-31T00:00:00\", \"2019-09-01T00:00:00\", \"2019-09-02T00:00:00\", \"2019-09-03T00:00:00\", \"2019-09-04T00:00:00\", \"2019-09-05T00:00:00\", \"2019-09-06T00:00:00\", \"2019-09-07T00:00:00\", \"2019-09-08T00:00:00\", \"2019-09-09T00:00:00\", \"2019-09-10T00:00:00\", \"2019-09-11T00:00:00\", \"2019-09-12T00:00:00\", \"2019-09-13T00:00:00\", \"2019-09-14T00:00:00\", \"2019-09-15T00:00:00\", \"2019-09-16T00:00:00\", \"2019-09-17T00:00:00\", \"2019-09-18T00:00:00\", \"2019-09-19T00:00:00\", \"2019-09-20T00:00:00\", \"2019-09-21T00:00:00\", \"2019-09-22T00:00:00\", \"2019-09-23T00:00:00\", \"2019-09-24T00:00:00\", \"2019-09-25T00:00:00\", \"2019-09-26T00:00:00\", \"2019-09-27T00:00:00\", \"2019-09-28T00:00:00\", \"2019-09-29T00:00:00\", \"2019-09-30T00:00:00\", \"2019-10-01T00:00:00\", \"2019-10-02T00:00:00\", \"2019-10-03T00:00:00\", \"2019-10-04T00:00:00\", \"2019-10-05T00:00:00\", \"2019-10-06T00:00:00\", \"2019-10-07T00:00:00\", \"2019-10-08T00:00:00\", \"2019-10-09T00:00:00\", \"2019-10-10T00:00:00\", \"2019-10-11T00:00:00\", \"2019-10-12T00:00:00\", \"2019-10-13T00:00:00\", \"2019-10-14T00:00:00\", \"2019-10-15T00:00:00\", \"2019-10-16T00:00:00\", \"2019-10-17T00:00:00\", \"2019-10-18T00:00:00\", \"2019-10-19T00:00:00\", \"2019-10-20T00:00:00\", \"2019-10-21T00:00:00\", \"2019-10-22T00:00:00\", \"2019-10-23T00:00:00\", \"2019-10-24T00:00:00\", \"2019-10-25T00:00:00\", \"2019-10-26T00:00:00\", \"2019-10-27T00:00:00\", \"2019-10-28T00:00:00\", \"2019-10-29T00:00:00\", \"2019-10-30T00:00:00\", \"2019-10-31T00:00:00\", \"2019-11-01T00:00:00\", \"2019-11-02T00:00:00\", \"2019-11-03T00:00:00\", \"2019-11-04T00:00:00\", \"2019-11-05T00:00:00\", \"2019-11-06T00:00:00\", \"2019-11-07T00:00:00\", \"2019-11-08T00:00:00\", \"2019-11-09T00:00:00\", \"2019-11-10T00:00:00\", \"2019-11-11T00:00:00\", \"2019-11-12T00:00:00\", \"2019-11-13T00:00:00\", \"2019-11-14T00:00:00\", \"2019-11-15T00:00:00\", \"2019-11-16T00:00:00\", \"2019-11-17T00:00:00\", \"2019-11-18T00:00:00\", \"2019-11-19T00:00:00\", \"2019-11-20T00:00:00\", \"2019-11-21T00:00:00\", \"2019-11-22T00:00:00\", \"2019-11-23T00:00:00\", \"2019-11-24T00:00:00\", \"2019-11-25T00:00:00\", \"2019-11-26T00:00:00\", \"2019-11-27T00:00:00\", \"2019-11-28T00:00:00\", \"2019-11-29T00:00:00\", \"2019-11-30T00:00:00\", \"2019-12-01T00:00:00\", \"2019-12-02T00:00:00\", \"2019-12-03T00:00:00\", \"2019-12-04T00:00:00\", \"2019-12-05T00:00:00\", \"2019-12-06T00:00:00\", \"2019-12-07T00:00:00\", \"2019-12-08T00:00:00\", \"2019-12-09T00:00:00\", \"2019-12-10T00:00:00\", \"2019-12-11T00:00:00\", \"2019-12-12T00:00:00\", \"2019-12-13T00:00:00\", \"2019-12-14T00:00:00\", \"2019-12-15T00:00:00\", \"2019-12-16T00:00:00\", \"2019-12-17T00:00:00\", \"2019-12-18T00:00:00\", \"2019-12-19T00:00:00\", \"2019-12-20T00:00:00\", \"2019-12-21T00:00:00\", \"2019-12-22T00:00:00\", \"2019-12-23T00:00:00\", \"2019-12-24T00:00:00\", \"2019-12-25T00:00:00\", \"2019-12-26T00:00:00\", \"2019-12-27T00:00:00\", \"2019-12-28T00:00:00\", \"2019-12-29T00:00:00\", \"2019-12-30T00:00:00\", \"2019-12-31T00:00:00\", \"2020-01-01T00:00:00\", \"2020-01-02T00:00:00\", \"2020-01-03T00:00:00\", \"2020-01-04T00:00:00\", \"2020-01-05T00:00:00\", \"2020-01-06T00:00:00\", \"2020-01-07T00:00:00\", \"2020-01-08T00:00:00\", \"2020-01-09T00:00:00\", \"2020-01-10T00:00:00\", \"2020-01-11T00:00:00\", \"2020-01-12T00:00:00\", \"2020-01-13T00:00:00\", \"2020-01-14T00:00:00\", \"2020-01-15T00:00:00\", \"2020-01-16T00:00:00\", \"2020-01-17T00:00:00\", \"2020-01-18T00:00:00\", \"2020-01-19T00:00:00\", \"2020-01-20T00:00:00\", \"2020-01-21T00:00:00\", \"2020-01-22T00:00:00\", \"2020-01-23T00:00:00\", \"2020-01-24T00:00:00\", \"2020-01-25T00:00:00\", \"2020-01-26T00:00:00\", \"2020-01-27T00:00:00\", \"2020-01-28T00:00:00\", \"2020-01-29T00:00:00\", \"2020-01-30T00:00:00\", \"2020-01-31T00:00:00\", \"2020-02-01T00:00:00\", \"2020-02-02T00:00:00\", \"2020-02-03T00:00:00\", \"2020-02-04T00:00:00\", \"2020-02-05T00:00:00\", \"2020-02-06T00:00:00\", \"2020-02-07T00:00:00\", \"2020-02-08T00:00:00\", \"2020-02-09T00:00:00\", \"2020-02-10T00:00:00\", \"2020-02-11T00:00:00\", \"2020-02-12T00:00:00\", \"2020-02-13T00:00:00\", \"2020-02-14T00:00:00\", \"2020-02-15T00:00:00\", \"2020-02-16T00:00:00\", \"2020-02-17T00:00:00\", \"2020-02-18T00:00:00\", \"2020-02-19T00:00:00\", \"2020-02-20T00:00:00\", \"2020-02-21T00:00:00\", \"2020-02-22T00:00:00\", \"2020-02-23T00:00:00\", \"2020-02-24T00:00:00\", \"2020-02-25T00:00:00\", \"2020-02-26T00:00:00\", \"2020-02-27T00:00:00\", \"2020-02-28T00:00:00\", \"2020-02-29T00:00:00\", \"2020-03-01T00:00:00\", \"2020-03-02T00:00:00\", \"2020-03-03T00:00:00\", \"2020-03-04T00:00:00\", \"2020-03-05T00:00:00\", \"2020-03-06T00:00:00\", \"2020-03-07T00:00:00\", \"2020-03-08T00:00:00\", \"2020-03-09T00:00:00\", \"2020-03-10T00:00:00\", \"2020-03-11T00:00:00\", \"2020-03-12T00:00:00\", \"2020-03-13T00:00:00\", \"2020-03-14T00:00:00\", \"2020-03-15T00:00:00\", \"2020-03-16T00:00:00\", \"2020-03-17T00:00:00\", \"2020-03-18T00:00:00\", \"2020-03-19T00:00:00\", \"2020-03-20T00:00:00\", \"2020-03-21T00:00:00\", \"2020-03-22T00:00:00\", \"2020-03-23T00:00:00\", \"2020-03-24T00:00:00\", \"2020-03-25T00:00:00\", \"2020-03-26T00:00:00\", \"2020-03-27T00:00:00\", \"2020-03-28T00:00:00\", \"2020-03-29T00:00:00\", \"2020-03-30T00:00:00\"], \"y\": [0.01164158881097015, 0.014140457677928462, 0.02623835884380761, 0.009094447987307972, 0.008258665974190987, 0.020825366063209463, 0.0017698289012322355, 0.00012034712441790967, 0.0034377705348026524, 0.009399252258950523, 0.025743974781634617, 0.033518844101290544, 0.005884628444758057, 0.033417249044633925, 0.04742011531686135, 0.03970558823688804, 0.003809514183545927, 0.06866893009425551, 0.10492326287563151, 0.13969612687328725, 0.047626165495929164, 0.006265589746505516, 0.03484585921975654, 0.06376895783384766, 0.18310549164502107, 0.3237898721801872, 0.6164181542890731, 0.03878190352653575, 0.06664368444240817, 0.0511475518214584, 0.049540095510350726, 0.25133836340901405, 0.27916409068541964, 0.46751931402118746, 0.1040818625934803, 0.08035391579496161, 0.13509778649569149, 0.14140784058278852, 0.26532067473150023, 0.3019253463956607, 0.490457607136301, 0.07875955877871886, 0.09551829530437371, 0.11190469495246472, 0.15136233911682548, 0.2674010331382451, 0.1824322708680567, 0.20222281937789954, 0.09042440529403531, 0.32576141710546686, 0.3529663276271203, 0.3900776380435721, 0.4973253646427893, 0.3643692845756399, 0.41860194969640896, 0.29444689428134185, 0.04518545417010918, 0.049396622438217554, 0.06280833473652678, 0.010268402715888924, 0.1684551965822656, 0.14478403240335208, 0.16745101656329742, 0.33551562949027625, 0.40676776556213773, 0.4538801714816968, 0.6039641723294611, 0.6935147803245353, 0.9558457756881376, 0.31976538660264286, 0.03932385308542295, 0.0035012799385894873, 0.030601308869653353, 0.04345103522925816, 0.02264663904306105, 0.050907327797389136, 0.04177037634640784, 0.015380088251778407, 0.020183638070385666, 0.03159699306253401, 0.004224621109071459, 0.012981315408293646, 0.011298435604361109, 0.009414343150757738, 0.007880245013822685, 0.020638358283634674, 0.019117623127951743, 0.02080363255105895, 0.004576020655971722, 0.013929130317789114, 0.048403842440332974, 0.020073645616660852, 0.028845094505620804, 0.05402899320377777, 0.07481055056357343, 0.06391913431309955, 0.06822478854679333, 0.05140986676922132, 0.06367568595606113, 0.06437262404825905, 0.11993027518888415, 0.2513005170276466, 0.4019783930039488, 0.7128378627283801, 0.15605356031022377, 0.30042440345807986, 0.44586239158408325, 0.31173472189412565, 0.24952291083781708, 0.17944325164203045, 0.18634730768870958, 0.23367078189218426, 0.1636636314625781, 0.31137372777533345, 0.15951490857823986, 0.04558465206792986, 0.08009828741797025, 0.23928679121430563, 0.07783165412360814, 0.3693274591584037, 0.22993892285803677, 0.2720681361210328, 0.22068078849413764, 0.14166378413927874, 0.13888077469262372, 0.1939542768191788, 0.2833946650255757, 0.14132266040464742, 0.1458589544503914, 0.09477688260282188, 0.024099875110399172, 0.0001998765953127909, 0.07116849457292745, 0.011900452971055757, 0.037252950910306934, 0.03437949525364786, 0.035180309214699695, 0.03514623089166145, 0.036800245277953614, 0.04074087795746157, 0.1503835900819244, 0.26064591105335067, 0.1680832983478887, 0.14373508114116526, 0.11092068051811788, 0.10994390669922555, 0.1554199641865591, 0.07112096119985985, 0.03959699647416691, 0.0548102262466181, 0.035294566118247966, 0.03837351491089202, 0.040507720442514925, 0.03863329605272092, 0.008267270098540466, 0.02402146130549203, 0.017283476701259914, 0.026392832003335802, 0.008303715497307892, 0.005975472548147436, 0.009363696894611154, 0.0017391165536505713, 0.022181767380886053, 0.00028810870845354054, 0.00035580268397206286, 0.007446170031403017, 0.0035984427484235604, 0.06653227083181552, 0.0966072010591924, 0.13413460153897014, 0.13916914461730517, 0.23753354844034982, 0.1654297837424906, 0.20797086428651398, 0.09790560244138596, 0.015277162141165817, 0.0235764875291539, 0.020722554503958678, 0.0026341661712281877, 0.009378297004230752, 0.0011128404055358045, 0.03679099055475459, 0.07145447273351356, 0.07557015748023237, 0.09183985285377513, 0.08681477948377694, 0.0766938883222178, 0.031191446991813858, 0.04545851573867945, 0.01711551196041254, 0.009994613659618052, 0.010631541375018696, 0.0007659860931380107, 0.06652038294479272, 0.037665711926632595, 0.0013694219459802607, 0.016425306784165566, 0.0111841295421533, 0.0012018300594052633, 0.023807759295892468, 0.01620647854497911, 0.02538738032491054, 0.03451301751101907, 0.030466276915139076, 0.047081353394718285, 0.026832611888654247, 0.01911714857162683, 0.006171980866322655, 0.012550434503878143, 0.004389693742831088, 0.007994272332019572, 0.005793317912725717, 0.0018476686483891564, 0.04525984744725487, 0.06310034641953498, 0.03546400520663664, 0.026978035357426627, 0.1344319950233837, 0.21634993651399725, 0.13049556597629097, 0.05877173630260477, 0.017040599018915067, 0.003882642618280392, 0.01980893834292892, 0.08356108059330972, 0.10763129009940152, 0.051304963605595166, 0.05852630076863827, 0.04289789825324084, 0.03269822800691694, 0.048330518043419854, 0.06466510706583954, 0.1489706997119563, 0.10926436856995898, 0.09507357107604346, 0.06011767929999223, 0.047237672438856605, 0.04872446037317365, 0.005306433180372973, 0.007245233337244499, 0.01478453765034471, 0.03867449941007797, 0.002133151541168118, 0.03201559100005986, 0.06260605524644768, 0.1311039287781766, 0.30127270900024344, 0.17757379544526208, 0.10465178047500097, 0.04076602745393611, 0.036270466699275826, 0.05365120808308257, 0.019195794823884144, 0.05654137168393107, 0.03611699233158728, 0.006684384453659755, 0.04127998947234966, 0.015592526718821439, 0.010675898347150492, 0.006439392317335526, 0.001086399400613643, 0.02535444076097401, 0.032569353130853455, 0.01673398592417402, 0.005083438492539475, 0.045181669618833624, 0.12110157581787923, 0.19670416746185684, 0.057068463927711144, 0.07242860908846292, 0.20889273769569722, 0.18253752651449232, 0.03702627219948703, 0.11438483073520427, 0.13008755327201393, 0.03363749649458292, 0.009431115904431504, 0.02251083055483248, 0.009242897636371926, 0.005463226077984581, 0.02042680759006867, 0.04039325373361861, 0.04787405901190978, 0.04394793009557971, 0.05034937382087704, 0.0364358446731678, 0.04373352981968433, 0.022682747336798058, 0.012215365617445684, 0.00557528805225238, 0.006905337219672352, 0.015086994461873648, 0.002414638547978172, 0.025686935189871543, 0.034560969319270274, 0.023846404419076154, 0.020092344677807426, 0.026742705785155696, 0.03481690630685472, 0.03727338910610262, 0.034192869338665215, 0.02572787797855552, 0.025953426094351837, 0.024476862307976754, 0.018634485957144706, 0.05588578331752468, 0.04175755173188364, 0.06734852404878938, 0.1850134423152913, 0.15991624466289567, 0.22472307522516963, 0.2685945089141507, 0.33232301277991044, 0.6225815359193101, 0.10838249698506457, 0.03852041670119361, 0.04657708236944271, 0.04727487074018367, 0.033150325908626016, 0.016528219559475567, 0.06552095864091104, 0.012529773569176585, 0.35916725193530197, 0.3537046679250299, 0.4903007493376442, 0.30662022161613717, 0.2415757469413219, 0.25957664660285734, 0.2522350047634352, 0.2182076737457767, 0.09743187736895537, 0.08925369099613027, 0.03478057508007956, 0.02828036410587329, 0.025949527298433094, 0.018709034686581166, 0.2169103608013799, 0.10639107266823244, 0.1174270115474519, 0.039301764163780964, 0.016930633729111914, 0.024749307932936743, 0.020845745577517755, 0.010747510151439162, 0.011045238314524553, 0.011348318565428454, 0.005771889466862576, 0.0014729606664749065, 0.03153797763138027, 0.04636960224966393, 0.11724986783968827, 0.006740832372226423, 0.025366471567153576, 0.004608926538355292, 0.052056973202969654, 0.0632991584305622, 0.03646984497340678, 0.021902206581904005, 0.004386998221146714, 0.004418504330829035, 0.015985572701891524, 0.01273907348627064, 0.011296859945409613, 0.012768892512413033]}],\n",
       "                        {\"legend\": {\"bgcolor\": \"#F5F6F9\", \"font\": {\"color\": \"#4D5663\"}}, \"paper_bgcolor\": \"#F5F6F9\", \"plot_bgcolor\": \"#F5F6F9\", \"template\": {\"data\": {\"bar\": [{\"error_x\": {\"color\": \"#2a3f5f\"}, \"error_y\": {\"color\": \"#2a3f5f\"}, \"marker\": {\"line\": {\"color\": \"#E5ECF6\", \"width\": 0.5}}, \"type\": \"bar\"}], \"barpolar\": [{\"marker\": {\"line\": {\"color\": \"#E5ECF6\", \"width\": 0.5}}, \"type\": \"barpolar\"}], \"carpet\": [{\"aaxis\": {\"endlinecolor\": \"#2a3f5f\", \"gridcolor\": \"white\", \"linecolor\": \"white\", \"minorgridcolor\": \"white\", \"startlinecolor\": \"#2a3f5f\"}, \"baxis\": {\"endlinecolor\": \"#2a3f5f\", \"gridcolor\": \"white\", \"linecolor\": \"white\", \"minorgridcolor\": \"white\", \"startlinecolor\": \"#2a3f5f\"}, \"type\": \"carpet\"}], \"choropleth\": [{\"colorbar\": {\"outlinewidth\": 0, \"ticks\": \"\"}, \"type\": \"choropleth\"}], \"contour\": [{\"colorbar\": {\"outlinewidth\": 0, \"ticks\": \"\"}, \"colorscale\": [[0.0, \"#0d0887\"], [0.1111111111111111, \"#46039f\"], [0.2222222222222222, \"#7201a8\"], [0.3333333333333333, \"#9c179e\"], [0.4444444444444444, \"#bd3786\"], [0.5555555555555556, \"#d8576b\"], [0.6666666666666666, \"#ed7953\"], [0.7777777777777778, \"#fb9f3a\"], [0.8888888888888888, \"#fdca26\"], [1.0, \"#f0f921\"]], \"type\": \"contour\"}], \"contourcarpet\": [{\"colorbar\": {\"outlinewidth\": 0, \"ticks\": \"\"}, \"type\": \"contourcarpet\"}], \"heatmap\": [{\"colorbar\": {\"outlinewidth\": 0, \"ticks\": \"\"}, \"colorscale\": [[0.0, \"#0d0887\"], [0.1111111111111111, \"#46039f\"], [0.2222222222222222, \"#7201a8\"], [0.3333333333333333, \"#9c179e\"], [0.4444444444444444, \"#bd3786\"], [0.5555555555555556, \"#d8576b\"], [0.6666666666666666, \"#ed7953\"], [0.7777777777777778, \"#fb9f3a\"], [0.8888888888888888, \"#fdca26\"], [1.0, \"#f0f921\"]], \"type\": \"heatmap\"}], \"heatmapgl\": [{\"colorbar\": {\"outlinewidth\": 0, \"ticks\": \"\"}, \"colorscale\": [[0.0, \"#0d0887\"], [0.1111111111111111, \"#46039f\"], [0.2222222222222222, \"#7201a8\"], [0.3333333333333333, \"#9c179e\"], [0.4444444444444444, \"#bd3786\"], [0.5555555555555556, \"#d8576b\"], [0.6666666666666666, \"#ed7953\"], [0.7777777777777778, \"#fb9f3a\"], [0.8888888888888888, \"#fdca26\"], [1.0, \"#f0f921\"]], \"type\": \"heatmapgl\"}], \"histogram\": [{\"marker\": {\"colorbar\": {\"outlinewidth\": 0, \"ticks\": \"\"}}, \"type\": \"histogram\"}], \"histogram2d\": [{\"colorbar\": {\"outlinewidth\": 0, \"ticks\": \"\"}, \"colorscale\": [[0.0, \"#0d0887\"], [0.1111111111111111, \"#46039f\"], [0.2222222222222222, \"#7201a8\"], [0.3333333333333333, \"#9c179e\"], [0.4444444444444444, \"#bd3786\"], [0.5555555555555556, \"#d8576b\"], [0.6666666666666666, \"#ed7953\"], [0.7777777777777778, \"#fb9f3a\"], [0.8888888888888888, \"#fdca26\"], [1.0, \"#f0f921\"]], \"type\": \"histogram2d\"}], \"histogram2dcontour\": [{\"colorbar\": {\"outlinewidth\": 0, \"ticks\": \"\"}, \"colorscale\": [[0.0, \"#0d0887\"], [0.1111111111111111, \"#46039f\"], [0.2222222222222222, \"#7201a8\"], [0.3333333333333333, \"#9c179e\"], [0.4444444444444444, \"#bd3786\"], [0.5555555555555556, \"#d8576b\"], [0.6666666666666666, \"#ed7953\"], [0.7777777777777778, \"#fb9f3a\"], [0.8888888888888888, \"#fdca26\"], [1.0, \"#f0f921\"]], \"type\": \"histogram2dcontour\"}], \"mesh3d\": [{\"colorbar\": {\"outlinewidth\": 0, \"ticks\": \"\"}, \"type\": \"mesh3d\"}], \"parcoords\": [{\"line\": {\"colorbar\": {\"outlinewidth\": 0, \"ticks\": \"\"}}, \"type\": \"parcoords\"}], \"scatter\": [{\"marker\": {\"colorbar\": {\"outlinewidth\": 0, \"ticks\": \"\"}}, \"type\": \"scatter\"}], \"scatter3d\": [{\"line\": {\"colorbar\": {\"outlinewidth\": 0, \"ticks\": \"\"}}, \"marker\": {\"colorbar\": {\"outlinewidth\": 0, \"ticks\": \"\"}}, \"type\": \"scatter3d\"}], \"scattercarpet\": [{\"marker\": {\"colorbar\": {\"outlinewidth\": 0, \"ticks\": \"\"}}, \"type\": \"scattercarpet\"}], \"scattergeo\": [{\"marker\": {\"colorbar\": {\"outlinewidth\": 0, \"ticks\": \"\"}}, \"type\": \"scattergeo\"}], \"scattergl\": [{\"marker\": {\"colorbar\": {\"outlinewidth\": 0, \"ticks\": \"\"}}, \"type\": \"scattergl\"}], \"scattermapbox\": [{\"marker\": {\"colorbar\": {\"outlinewidth\": 0, \"ticks\": \"\"}}, \"type\": \"scattermapbox\"}], \"scatterpolar\": [{\"marker\": {\"colorbar\": {\"outlinewidth\": 0, \"ticks\": \"\"}}, \"type\": \"scatterpolar\"}], \"scatterpolargl\": [{\"marker\": {\"colorbar\": {\"outlinewidth\": 0, \"ticks\": \"\"}}, \"type\": \"scatterpolargl\"}], \"scatterternary\": [{\"marker\": {\"colorbar\": {\"outlinewidth\": 0, \"ticks\": \"\"}}, \"type\": \"scatterternary\"}], \"surface\": [{\"colorbar\": {\"outlinewidth\": 0, \"ticks\": \"\"}, \"colorscale\": [[0.0, \"#0d0887\"], [0.1111111111111111, \"#46039f\"], [0.2222222222222222, \"#7201a8\"], [0.3333333333333333, \"#9c179e\"], [0.4444444444444444, \"#bd3786\"], [0.5555555555555556, \"#d8576b\"], [0.6666666666666666, \"#ed7953\"], [0.7777777777777778, \"#fb9f3a\"], [0.8888888888888888, \"#fdca26\"], [1.0, \"#f0f921\"]], \"type\": \"surface\"}], \"table\": [{\"cells\": {\"fill\": {\"color\": \"#EBF0F8\"}, \"line\": {\"color\": \"white\"}}, \"header\": {\"fill\": {\"color\": \"#C8D4E3\"}, \"line\": {\"color\": \"white\"}}, \"type\": \"table\"}]}, \"layout\": {\"annotationdefaults\": {\"arrowcolor\": \"#2a3f5f\", \"arrowhead\": 0, \"arrowwidth\": 1}, \"colorscale\": {\"diverging\": [[0, \"#8e0152\"], [0.1, \"#c51b7d\"], [0.2, \"#de77ae\"], [0.3, \"#f1b6da\"], [0.4, \"#fde0ef\"], [0.5, \"#f7f7f7\"], [0.6, \"#e6f5d0\"], [0.7, \"#b8e186\"], [0.8, \"#7fbc41\"], [0.9, \"#4d9221\"], [1, \"#276419\"]], \"sequential\": [[0.0, \"#0d0887\"], [0.1111111111111111, \"#46039f\"], [0.2222222222222222, \"#7201a8\"], [0.3333333333333333, \"#9c179e\"], [0.4444444444444444, \"#bd3786\"], [0.5555555555555556, \"#d8576b\"], [0.6666666666666666, \"#ed7953\"], [0.7777777777777778, \"#fb9f3a\"], [0.8888888888888888, \"#fdca26\"], [1.0, \"#f0f921\"]], \"sequentialminus\": [[0.0, \"#0d0887\"], [0.1111111111111111, \"#46039f\"], [0.2222222222222222, \"#7201a8\"], [0.3333333333333333, \"#9c179e\"], [0.4444444444444444, \"#bd3786\"], [0.5555555555555556, \"#d8576b\"], [0.6666666666666666, \"#ed7953\"], [0.7777777777777778, \"#fb9f3a\"], [0.8888888888888888, \"#fdca26\"], [1.0, \"#f0f921\"]]}, \"colorway\": [\"#636efa\", \"#EF553B\", \"#00cc96\", \"#ab63fa\", \"#FFA15A\", \"#19d3f3\", \"#FF6692\", \"#B6E880\", \"#FF97FF\", \"#FECB52\"], \"font\": {\"color\": \"#2a3f5f\"}, \"geo\": {\"bgcolor\": \"white\", \"lakecolor\": \"white\", \"landcolor\": \"#E5ECF6\", \"showlakes\": true, \"showland\": true, \"subunitcolor\": \"white\"}, \"hoverlabel\": {\"align\": \"left\"}, \"hovermode\": \"closest\", \"mapbox\": {\"style\": \"light\"}, \"paper_bgcolor\": \"white\", \"plot_bgcolor\": \"#E5ECF6\", \"polar\": {\"angularaxis\": {\"gridcolor\": \"white\", \"linecolor\": \"white\", \"ticks\": \"\"}, \"bgcolor\": \"#E5ECF6\", \"radialaxis\": {\"gridcolor\": \"white\", \"linecolor\": \"white\", \"ticks\": \"\"}}, \"scene\": {\"xaxis\": {\"backgroundcolor\": \"#E5ECF6\", \"gridcolor\": \"white\", \"gridwidth\": 2, \"linecolor\": \"white\", \"showbackground\": true, \"ticks\": \"\", \"zerolinecolor\": \"white\"}, \"yaxis\": {\"backgroundcolor\": \"#E5ECF6\", \"gridcolor\": \"white\", \"gridwidth\": 2, \"linecolor\": \"white\", \"showbackground\": true, \"ticks\": \"\", \"zerolinecolor\": \"white\"}, \"zaxis\": {\"backgroundcolor\": \"#E5ECF6\", \"gridcolor\": \"white\", \"gridwidth\": 2, \"linecolor\": \"white\", \"showbackground\": true, \"ticks\": \"\", \"zerolinecolor\": \"white\"}}, \"shapedefaults\": {\"line\": {\"color\": \"#2a3f5f\"}}, \"ternary\": {\"aaxis\": {\"gridcolor\": \"white\", \"linecolor\": \"white\", \"ticks\": \"\"}, \"baxis\": {\"gridcolor\": \"white\", \"linecolor\": \"white\", \"ticks\": \"\"}, \"bgcolor\": \"#E5ECF6\", \"caxis\": {\"gridcolor\": \"white\", \"linecolor\": \"white\", \"ticks\": \"\"}}, \"title\": {\"x\": 0.05}, \"xaxis\": {\"automargin\": true, \"gridcolor\": \"white\", \"linecolor\": \"white\", \"ticks\": \"\", \"zerolinecolor\": \"white\", \"zerolinewidth\": 2}, \"yaxis\": {\"automargin\": true, \"gridcolor\": \"white\", \"linecolor\": \"white\", \"ticks\": \"\", \"zerolinecolor\": \"white\", \"zerolinewidth\": 2}}}, \"title\": {\"font\": {\"color\": \"#4D5663\"}}, \"xaxis\": {\"gridcolor\": \"#E1E5ED\", \"showgrid\": true, \"tickfont\": {\"color\": \"#4D5663\"}, \"title\": {\"font\": {\"color\": \"#4D5663\"}, \"text\": \"\"}, \"zerolinecolor\": \"#E1E5ED\"}, \"yaxis\": {\"gridcolor\": \"#E1E5ED\", \"showgrid\": true, \"tickfont\": {\"color\": \"#4D5663\"}, \"title\": {\"font\": {\"color\": \"#4D5663\"}, \"text\": \"\"}, \"zerolinecolor\": \"#E1E5ED\"}},\n",
       "                        {\"showLink\": true, \"linkText\": \"Export to plot.ly\", \"plotlyServerURL\": \"https://plot.ly\", \"responsive\": true}\n",
       "                    ).then(function(){\n",
       "                            \n",
       "var gd = document.getElementById('922b91e7-6254-4a23-b181-33cd47048a26');\n",
       "var x = new MutationObserver(function (mutations, observer) {{\n",
       "        var display = window.getComputedStyle(gd).display;\n",
       "        if (!display || display === 'none') {{\n",
       "            console.log([gd, 'removed!']);\n",
       "            Plotly.purge(gd);\n",
       "            observer.disconnect();\n",
       "        }}\n",
       "}});\n",
       "\n",
       "// Listen for the removal of the full notebook cells\n",
       "var notebookContainer = gd.closest('#notebook-container');\n",
       "if (notebookContainer) {{\n",
       "    x.observe(notebookContainer, {childList: true});\n",
       "}}\n",
       "\n",
       "// Listen for the clearing of the current output cell\n",
       "var outputEl = gd.closest('.output');\n",
       "if (outputEl) {{\n",
       "    x.observe(outputEl, {childList: true});\n",
       "}}\n",
       "\n",
       "                        })\n",
       "                };\n",
       "                });\n",
       "            </script>\n",
       "        </div>"
      ]
     },
     "metadata": {},
     "output_type": "display_data"
    }
   ],
   "source": [
    "error_tot.iplot()"
   ]
  },
  {
   "cell_type": "code",
   "execution_count": null,
   "metadata": {},
   "outputs": [],
   "source": []
  }
 ],
 "metadata": {
  "kernelspec": {
   "display_name": "Python 3",
   "language": "python",
   "name": "python3"
  },
  "language_info": {
   "codemirror_mode": {
    "name": "ipython",
    "version": 3
   },
   "file_extension": ".py",
   "mimetype": "text/x-python",
   "name": "python",
   "nbconvert_exporter": "python",
   "pygments_lexer": "ipython3",
   "version": "3.7.7"
  },
  "toc": {
   "base_numbering": 1,
   "nav_menu": {},
   "number_sections": true,
   "sideBar": true,
   "skip_h1_title": false,
   "title_cell": "Table of Contents",
   "title_sidebar": "Contents",
   "toc_cell": false,
   "toc_position": {},
   "toc_section_display": true,
   "toc_window_display": false
  }
 },
 "nbformat": 4,
 "nbformat_minor": 4
}
