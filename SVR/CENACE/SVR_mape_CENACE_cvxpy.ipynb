{
 "cells": [
  {
   "cell_type": "markdown",
   "metadata": {},
   "source": [
    "# cvxpy"
   ]
  },
  {
   "cell_type": "code",
   "execution_count": 20,
   "metadata": {
    "ExecuteTime": {
     "end_time": "2021-04-05T00:00:13.474432Z",
     "start_time": "2021-04-05T00:00:13.461371Z"
    }
   },
   "outputs": [],
   "source": [
    "import numpy as np\n",
    "from sklearn import datasets\n",
    "import matplotlib.pyplot as plt\n",
    "from sklearn.metrics.pairwise import pairwise_kernels\n",
    "import cvxpy as cp\n",
    "from sklearn.model_selection import train_test_split\n",
    "import pandas as pd\n",
    "from sklearn.preprocessing import Normalizer, MaxAbsScaler"
   ]
  },
  {
   "cell_type": "markdown",
   "metadata": {},
   "source": [
    "$$\n",
    "\\begin{align}\n",
    "%     dual function\n",
    "    \\min_{\\beta, \\eta} \\mathcal{D}(\\beta, \\eta) = &\n",
    "%     -1\\2 omega^2\n",
    "    \\frac{1}{2}\\sum_{k, l = 1}^N \\beta_k \\beta_l K(x_l, x_k)  \n",
    "%     e(a + a*)\n",
    "+ \\frac{\\epsilon}{100} \\sum_{k=1}^N |\\beta_k|y_k\n",
    "%     y_k(a - a*)\n",
    "- \\sum_{k=1}^N y_k \\beta_k \\\\\n",
    "\\text{S. t. } & \\sum_{k=1}^N  \\beta_k = 0 & (9)\\\\\n",
    "& 0 \\leq |\\beta_k|  \\leq \\frac{100}{y_k}C\n",
    "\\end{align}\n",
    "$$"
   ]
  },
  {
   "cell_type": "code",
   "execution_count": 21,
   "metadata": {
    "ExecuteTime": {
     "end_time": "2021-04-05T00:00:13.865299Z",
     "start_time": "2021-04-05T00:00:13.856293Z"
    }
   },
   "outputs": [],
   "source": [
    "kernel = \"rbf\""
   ]
  },
  {
   "cell_type": "code",
   "execution_count": 22,
   "metadata": {
    "ExecuteTime": {
     "end_time": "2021-04-05T00:00:14.612146Z",
     "start_time": "2021-04-05T00:00:14.078823Z"
    }
   },
   "outputs": [],
   "source": [
    "y1 =pd.read_excel(r'Data1.xlsx').set_index(\"fecha\").loc[\"2007-01-01\":\"2020-03-30\"]\n",
    "X1 = pd.read_csv(\"X.csv\")\n",
    "\n",
    "X = X1.drop([\"fecha\"], axis = 1).to_numpy(); y = y1.to_numpy()\n",
    "\n",
    "# scaler1 = MaxAbsScaler(); scaler1.fit(y); y = scaler1transform(y)\n",
    "\n",
    "X, X_test, y, y_test = train_test_split(X, y, test_size = 40, shuffle = False)\n",
    "\n",
    "scaler = MaxAbsScaler(); scaler.fit(X); X = scaler.transform(X)\n",
    "X_test = scaler.transform(X_test)\n",
    "\n",
    "scaler1 = MaxAbsScaler(); scaler1.fit(y); y = scaler1.transform(y).reshape(-1)\n",
    "y_test = scaler1.transform(y_test).reshape(-1)"
   ]
  },
  {
   "cell_type": "markdown",
   "metadata": {},
   "source": [
    "Parameters to be defined: $\\epsilon$ and $C$"
   ]
  },
  {
   "cell_type": "code",
   "execution_count": 23,
   "metadata": {
    "ExecuteTime": {
     "end_time": "2021-04-05T00:00:15.234359Z",
     "start_time": "2021-04-05T00:00:15.224218Z"
    }
   },
   "outputs": [],
   "source": [
    "ydim = y.shape[0]\n",
    "epsilon = 5 # margin max\n",
    "C = 0.5 # alphas constraint\n",
    "onev = np.ones((ydim,1))\n",
    "error = 1E-5 # vector support "
   ]
  },
  {
   "cell_type": "code",
   "execution_count": 24,
   "metadata": {
    "ExecuteTime": {
     "end_time": "2021-04-05T00:00:15.607852Z",
     "start_time": "2021-04-05T00:00:15.594027Z"
    }
   },
   "outputs": [],
   "source": [
    "beta = cp.Variable((ydim,1)) # variable to be optimized"
   ]
  },
  {
   "cell_type": "code",
   "execution_count": 25,
   "metadata": {
    "ExecuteTime": {
     "end_time": "2021-04-05T00:00:15.931921Z",
     "start_time": "2021-04-05T00:00:15.923517Z"
    }
   },
   "outputs": [
    {
     "data": {
      "text/plain": [
       "(4798, 51)"
      ]
     },
     "execution_count": 25,
     "metadata": {},
     "output_type": "execute_result"
    }
   ],
   "source": [
    "X.shape"
   ]
  },
  {
   "cell_type": "code",
   "execution_count": 26,
   "metadata": {
    "ExecuteTime": {
     "end_time": "2021-04-05T00:00:17.077965Z",
     "start_time": "2021-04-05T00:00:16.310655Z"
    }
   },
   "outputs": [],
   "source": [
    "K = pairwise_kernels(X, X, metric = kernel)"
   ]
  },
  {
   "cell_type": "code",
   "execution_count": 27,
   "metadata": {
    "ExecuteTime": {
     "end_time": "2021-04-05T00:00:17.093618Z",
     "start_time": "2021-04-05T00:00:17.081656Z"
    }
   },
   "outputs": [],
   "source": [
    "Ev = (y*epsilon)/100 "
   ]
  },
  {
   "cell_type": "code",
   "execution_count": 28,
   "metadata": {
    "ExecuteTime": {
     "end_time": "2021-04-05T00:00:19.580670Z",
     "start_time": "2021-04-05T00:00:18.318070Z"
    }
   },
   "outputs": [],
   "source": [
    "objective = cp.Minimize((1/2)*cp.quad_form(beta, K) + Ev.T @ cp.abs(beta) - y.T @ beta)"
   ]
  },
  {
   "cell_type": "code",
   "execution_count": 29,
   "metadata": {
    "ExecuteTime": {
     "end_time": "2021-04-05T00:00:20.143730Z",
     "start_time": "2021-04-05T00:00:19.583661Z"
    }
   },
   "outputs": [],
   "source": [
    "A = onev.T\n",
    "b = 0\n",
    "G = np.concatenate((np.identity(ydim), -np.identity(ydim)))\n",
    "h_ = np.concatenate((100*C*np.ones(ydim)/y, 100*C*np.ones(ydim)/y)); \n",
    "h = h_.reshape(-1, 1)"
   ]
  },
  {
   "cell_type": "code",
   "execution_count": 30,
   "metadata": {
    "ExecuteTime": {
     "end_time": "2021-04-05T00:00:20.159694Z",
     "start_time": "2021-04-05T00:00:20.148102Z"
    }
   },
   "outputs": [],
   "source": [
    "constraints = [A @ beta == b, G @ beta <= h]"
   ]
  },
  {
   "cell_type": "code",
   "execution_count": 31,
   "metadata": {
    "ExecuteTime": {
     "end_time": "2021-04-05T00:00:20.176859Z",
     "start_time": "2021-04-05T00:00:20.164219Z"
    }
   },
   "outputs": [],
   "source": [
    "# adaptive_rho = False"
   ]
  },
  {
   "cell_type": "code",
   "execution_count": 32,
   "metadata": {
    "ExecuteTime": {
     "end_time": "2021-04-05T00:10:04.546473Z",
     "start_time": "2021-04-05T00:00:20.179852Z"
    }
   },
   "outputs": [],
   "source": [
    "prob = cp.Problem(objective,constraints)\n",
    "result = prob.solve()"
   ]
  },
  {
   "cell_type": "code",
   "execution_count": 33,
   "metadata": {
    "ExecuteTime": {
     "end_time": "2021-04-05T00:10:04.562432Z",
     "start_time": "2021-04-05T00:10:04.550469Z"
    }
   },
   "outputs": [
    {
     "data": {
      "text/plain": [
       "(91.86583674552584, 1.226218374052853e-08)"
      ]
     },
     "execution_count": 33,
     "metadata": {},
     "output_type": "execute_result"
    }
   ],
   "source": [
    "beta.value.max(), np.abs(beta.value).min()"
   ]
  },
  {
   "cell_type": "code",
   "execution_count": 34,
   "metadata": {
    "ExecuteTime": {
     "end_time": "2021-04-05T00:10:04.577388Z",
     "start_time": "2021-04-05T00:10:04.565432Z"
    }
   },
   "outputs": [],
   "source": [
    "beta_1 = np.array(beta.value)\n",
    "indx = np.abs(beta_1) > error\n",
    "beta_sv = beta_1[indx]\n",
    "x_sv = X[indx[:,0],:]\n",
    "y_sv = y[indx[:,0]]"
   ]
  },
  {
   "cell_type": "markdown",
   "metadata": {
    "ExecuteTime": {
     "end_time": "2021-03-29T21:15:46.310200Z",
     "start_time": "2021-03-29T21:15:46.296219Z"
    }
   },
   "source": [
    "\n",
    "$$\n",
    "b = \\left\\{\n",
    "\\begin{array}{ll}\n",
    "& y_k\\left[1 - \\frac{\\epsilon}{100}\\right] - \\omega \\phi(x_k) & 0 < \\beta < 100\\frac{C}{y_k}\\\\\n",
    "\\\\\n",
    "& y_k\\left[1 + \\frac{\\epsilon}{100}\\right] - \\omega\\phi(x_k) & -100\\frac{C}{y_k} < \\beta < 0\\\\\n",
    "\\end{array}\n",
    "\\right.\n",
    "$$\n",
    "\n",
    "$$\n",
    "\\phi^T\\omega =  \\beta^T K\n",
    "$$"
   ]
  },
  {
   "cell_type": "code",
   "execution_count": 35,
   "metadata": {
    "ExecuteTime": {
     "end_time": "2021-04-05T00:10:05.012227Z",
     "start_time": "2021-04-05T00:10:04.582408Z"
    }
   },
   "outputs": [],
   "source": [
    "# new kernel and custom b constant\n",
    "k_sv = pairwise_kernels(x_sv, x_sv, metric = kernel)\n",
    "cons = np.where(beta_sv >= 0, 1 - epsilon/100, 1 + epsilon/100)"
   ]
  },
  {
   "cell_type": "code",
   "execution_count": 36,
   "metadata": {
    "ExecuteTime": {
     "end_time": "2021-04-05T00:10:05.043146Z",
     "start_time": "2021-04-05T00:10:05.015218Z"
    }
   },
   "outputs": [],
   "source": [
    "# omega and b\n",
    "w_phi = beta_sv @ k_sv\n",
    "b = np.mean((y_sv*cons - w_phi))"
   ]
  },
  {
   "cell_type": "code",
   "execution_count": 37,
   "metadata": {
    "ExecuteTime": {
     "end_time": "2021-04-05T00:10:05.075062Z",
     "start_time": "2021-04-05T00:10:05.048130Z"
    }
   },
   "outputs": [],
   "source": [
    "# predict\n",
    "k_test = pairwise_kernels(x_sv, X_test, metric = kernel)\n",
    "w_phi_test = beta_sv @ k_test"
   ]
  },
  {
   "cell_type": "code",
   "execution_count": 38,
   "metadata": {
    "ExecuteTime": {
     "end_time": "2021-04-05T00:10:05.090021Z",
     "start_time": "2021-04-05T00:10:05.079052Z"
    }
   },
   "outputs": [],
   "source": [
    "y_pred = w_phi_test + b"
   ]
  },
  {
   "cell_type": "code",
   "execution_count": 39,
   "metadata": {
    "ExecuteTime": {
     "end_time": "2021-04-05T00:10:05.104983Z",
     "start_time": "2021-04-05T00:10:05.093014Z"
    }
   },
   "outputs": [],
   "source": [
    "# RBF X filtered"
   ]
  },
  {
   "cell_type": "code",
   "execution_count": 40,
   "metadata": {
    "ExecuteTime": {
     "end_time": "2021-04-05T00:10:05.386235Z",
     "start_time": "2021-04-05T00:10:05.108967Z"
    }
   },
   "outputs": [
    {
     "name": "stdout",
     "output_type": "stream",
     "text": [
      "2.504812535402213\n"
     ]
    },
    {
     "data": {
      "text/plain": [
       "[<matplotlib.lines.Line2D at 0x1d4c1edf5c8>]"
      ]
     },
     "execution_count": 40,
     "metadata": {},
     "output_type": "execute_result"
    },
    {
     "data": {
      "image/png": "[encoded data removed]",
      "text/plain": [
       "<Figure size 432x288 with 1 Axes>"
      ]
     },
     "metadata": {
      "needs_background": "light"
     },
     "output_type": "display_data"
    }
   ],
   "source": [
    "print(np.mean(np.abs((y_pred - y_test))/y_test)*100)\n",
    "\n",
    "plt.plot(y_pred)\n",
    "plt.plot(y_test)"
   ]
  },
  {
   "cell_type": "code",
   "execution_count": null,
   "metadata": {},
   "outputs": [],
   "source": [
    "# linear"
   ]
  },
  {
   "cell_type": "code",
   "execution_count": 19,
   "metadata": {
    "ExecuteTime": {
     "end_time": "2021-04-04T21:57:28.398879Z",
     "start_time": "2021-04-04T21:57:28.145822Z"
    }
   },
   "outputs": [
    {
     "name": "stdout",
     "output_type": "stream",
     "text": [
      "2.4916754294257237\n"
     ]
    },
    {
     "data": {
      "text/plain": [
       "[<matplotlib.lines.Line2D at 0x1d4c1e8a088>]"
      ]
     },
     "execution_count": 19,
     "metadata": {},
     "output_type": "execute_result"
    },
    {
     "data": {
      "image/png": "[encoded data removed]",
      "text/plain": [
       "<Figure size 432x288 with 1 Axes>"
      ]
     },
     "metadata": {
      "needs_background": "light"
     },
     "output_type": "display_data"
    }
   ],
   "source": [
    "print(np.mean(np.abs((y_pred - y_test))/y_test)*100)\n",
    "\n",
    "plt.plot(y_pred)\n",
    "plt.plot(y_test)"
   ]
  },
  {
   "cell_type": "code",
   "execution_count": null,
   "metadata": {},
   "outputs": [],
   "source": [
    "# RBF"
   ]
  },
  {
   "cell_type": "code",
   "execution_count": 153,
   "metadata": {
    "ExecuteTime": {
     "end_time": "2021-04-04T18:31:44.234428Z",
     "start_time": "2021-04-04T18:31:44.222460Z"
    }
   },
   "outputs": [
    {
     "data": {
      "text/plain": [
       "2.2652287537551685"
      ]
     },
     "execution_count": 153,
     "metadata": {},
     "output_type": "execute_result"
    }
   ],
   "source": [
    "np.mean(np.abs((y_pred - y_test))/y_test)*100"
   ]
  },
  {
   "cell_type": "code",
   "execution_count": 154,
   "metadata": {
    "ExecuteTime": {
     "end_time": "2021-04-04T18:31:44.512885Z",
     "start_time": "2021-04-04T18:31:44.238872Z"
    }
   },
   "outputs": [
    {
     "data": {
      "text/plain": [
       "[<matplotlib.lines.Line2D at 0x20cb328f208>]"
      ]
     },
     "execution_count": 154,
     "metadata": {},
     "output_type": "execute_result"
    },
    {
     "data": {
      "image/png": "[encoded data removed]",
      "text/plain": [
       "<Figure size 432x288 with 1 Axes>"
      ]
     },
     "metadata": {
      "needs_background": "light"
     },
     "output_type": "display_data"
    }
   ],
   "source": [
    "plt.plot(y_pred)\n",
    "plt.plot(y_test)"
   ]
  },
  {
   "cell_type": "code",
   "execution_count": null,
   "metadata": {},
   "outputs": [],
   "source": []
  }
 ],
 "metadata": {
  "kernelspec": {
   "display_name": "Python 3",
   "language": "python",
   "name": "python3"
  },
  "language_info": {
   "codemirror_mode": {
    "name": "ipython",
    "version": 3
   },
   "file_extension": ".py",
   "mimetype": "text/x-python",
   "name": "python",
   "nbconvert_exporter": "python",
   "pygments_lexer": "ipython3",
   "version": "3.7.7"
  },
  "toc": {
   "base_numbering": 1,
   "nav_menu": {},
   "number_sections": true,
   "sideBar": true,
   "skip_h1_title": false,
   "title_cell": "Table of Contents",
   "title_sidebar": "Contents",
   "toc_cell": false,
   "toc_position": {},
   "toc_section_display": true,
   "toc_window_display": false
  }
 },
 "nbformat": 4,
 "nbformat_minor": 4
}
