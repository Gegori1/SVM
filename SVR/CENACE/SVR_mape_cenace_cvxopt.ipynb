{
 "cells": [
  {
   "cell_type": "code",
   "execution_count": 60,
   "metadata": {
    "ExecuteTime": {
     "end_time": "2021-04-05T03:28:08.311513Z",
     "start_time": "2021-04-05T03:28:08.298511Z"
    }
   },
   "outputs": [],
   "source": [
    "from sklearn.metrics.pairwise import pairwise_kernels, rbf_kernel\n",
    "import matplotlib.pyplot as plt\n",
    "from sklearn import datasets\n",
    "from scipy.optimize import minimize\n",
    "import numpy as np\n",
    "from cvxopt import matrix, solvers\n",
    "\n",
    "from sklearn.model_selection import train_test_split\n",
    "import pandas as pd\n",
    "from sklearn.preprocessing import Normalizer, MaxAbsScaler"
   ]
  },
  {
   "cell_type": "code",
   "execution_count": 61,
   "metadata": {
    "ExecuteTime": {
     "end_time": "2021-04-05T03:28:08.605686Z",
     "start_time": "2021-04-05T03:28:08.595712Z"
    }
   },
   "outputs": [],
   "source": [
    "kernel = \"rbf\""
   ]
  },
  {
   "cell_type": "markdown",
   "metadata": {},
   "source": [
    "# Fit"
   ]
  },
  {
   "cell_type": "code",
   "execution_count": 62,
   "metadata": {
    "ExecuteTime": {
     "end_time": "2021-04-05T03:28:09.758437Z",
     "start_time": "2021-04-05T03:28:09.223870Z"
    }
   },
   "outputs": [],
   "source": [
    "y1 =pd.read_excel(r'Data1.xlsx').set_index(\"fecha\").loc[\"2007-01-01\":\"2020-03-30\"]\n",
    "X1 = pd.read_csv(\"X.csv\")\n",
    "\n",
    "X = X1.drop([\"fecha\"], axis = 1).to_numpy(); y = y1.to_numpy()\n",
    "\n",
    "# scaler1 = MaxAbsScaler(); scaler1.fit(y); y = scaler1transform(y)\n",
    "\n",
    "X, X_test, y, y_test = train_test_split(X, y, test_size = 40, shuffle = False)\n",
    "\n",
    "scaler = MaxAbsScaler(); scaler.fit(X); X = scaler.transform(X)\n",
    "X_test = scaler.transform(X_test)\n",
    "\n",
    "scaler1 = MaxAbsScaler(); scaler1.fit(y); y = scaler1.transform(y).reshape(-1)\n",
    "y_test = scaler1.transform(y_test).reshape(-1)"
   ]
  },
  {
   "cell_type": "code",
   "execution_count": 63,
   "metadata": {
    "ExecuteTime": {
     "end_time": "2021-04-05T03:28:10.568272Z",
     "start_time": "2021-04-05T03:28:09.762426Z"
    }
   },
   "outputs": [],
   "source": [
    "ydim = y.shape[0]\n",
    "epsilon = 5 # margin max\n",
    "C = 0.5 # alphas constraint\n",
    "error = 1E-1 # vector support \n",
    "x0 = np.random.rand(ydim) # random initialization\n",
    "\n",
    "K = pairwise_kernels(X, X, metric = kernel)"
   ]
  },
  {
   "cell_type": "code",
   "execution_count": 64,
   "metadata": {
    "ExecuteTime": {
     "end_time": "2021-04-05T03:28:11.159730Z",
     "start_time": "2021-04-05T03:28:10.573262Z"
    }
   },
   "outputs": [],
   "source": [
    "# A = np.array(np.ones.reshape(1, -1), dtype = \"float64\")\n",
    "onev = np.ones((ydim,1))\n",
    "A = onev.T\n",
    "b = 0.0\n",
    "G = np.concatenate((np.identity(ydim), -np.identity(ydim)))\n",
    "h_ = np.concatenate((100*C*np.ones(ydim)/y, 100*C*np.ones(ydim)/y)); \n",
    "h = h_.reshape(-1, 1)"
   ]
  },
  {
   "cell_type": "code",
   "execution_count": 65,
   "metadata": {
    "ExecuteTime": {
     "end_time": "2021-04-05T03:28:12.049313Z",
     "start_time": "2021-04-05T03:28:11.163681Z"
    }
   },
   "outputs": [],
   "source": [
    "A = matrix(A)\n",
    "b = matrix(b)\n",
    "G = matrix(G)\n",
    "h = matrix(h)"
   ]
  },
  {
   "cell_type": "code",
   "execution_count": 66,
   "metadata": {
    "ExecuteTime": {
     "end_time": "2021-04-05T03:28:12.064305Z",
     "start_time": "2021-04-05T03:28:12.052304Z"
    }
   },
   "outputs": [],
   "source": [
    "def obj_func(x):\n",
    "    eps_con = (epsilon*y.T)/100\n",
    "    return 0.5* x.T @ K @ x + eps_con @ (np.abs(x)) - y.T @ x\n",
    "\n",
    "def obj_grad(x):\n",
    "    eps_con = (epsilon*y.T)/100\n",
    "    return x.T @ K + eps_con @ (x/np.abs(x)) - y\n",
    "\n",
    "def obj_jes(x):\n",
    "    return K  "
   ]
  },
  {
   "cell_type": "code",
   "execution_count": 67,
   "metadata": {
    "ExecuteTime": {
     "end_time": "2021-04-05T03:28:12.080242Z",
     "start_time": "2021-04-05T03:28:12.069259Z"
    }
   },
   "outputs": [],
   "source": [
    "def F(x = None, z = None):\n",
    "    if x is None: return 0, matrix(x0)\n",
    "    val = obj_func(x)\n",
    "    val_ = matrix(val)\n",
    "    \n",
    "    dif = obj_grad(x)\n",
    "    dif_ = matrix(dif)\n",
    "#     return val, Df.T\n",
    "    if z is None: return val_, dif_\n",
    "    H = matrix(z[0] * K)\n",
    "    return val_, dif_, H"
   ]
  },
  {
   "cell_type": "code",
   "execution_count": 68,
   "metadata": {
    "ExecuteTime": {
     "end_time": "2021-04-05T03:28:12.095190Z",
     "start_time": "2021-04-05T03:28:12.085217Z"
    }
   },
   "outputs": [],
   "source": [
    "# opts = {'maxiters' : 100, 'verbose':1, 'abstol':1e-20, 'reltol':1e-20}, options = opts"
   ]
  },
  {
   "cell_type": "code",
   "execution_count": 69,
   "metadata": {
    "ExecuteTime": {
     "end_time": "2021-04-05T03:28:12.111147Z",
     "start_time": "2021-04-05T03:28:12.098222Z"
    }
   },
   "outputs": [],
   "source": [
    "# import mosek\n",
    "# solvers.options['mosek'] = {mosek.iparam.log: 0}\n",
    "# solvers.options['glpk'] = {'msg_lev' : 'GLP_MSG_OFF'}"
   ]
  },
  {
   "cell_type": "code",
   "execution_count": 70,
   "metadata": {
    "ExecuteTime": {
     "end_time": "2021-04-05T03:30:57.781563Z",
     "start_time": "2021-04-05T03:28:12.783407Z"
    },
    "scrolled": true
   },
   "outputs": [
    {
     "name": "stdout",
     "output_type": "stream",
     "text": [
      "     pcost       dcost       gap    pres   dres\n",
      " 0:  0.0000e+00  1.9203e+06  1e+04  1e+00  1e+00\n",
      " 1: -2.5273e+04  2.2636e+06  6e+03  1e+00  1e+00\n",
      " 2: -7.4894e+04  2.3716e+06  3e+03  1e+00  1e+00\n",
      " 3: -1.6102e+05  2.2668e+06  1e+03  1e+00  9e-01\n",
      " 4: -2.6586e+05  2.0760e+06  8e+02  9e-01  9e-01\n",
      " 5: -3.9138e+05  1.8282e+06  6e+02  9e-01  8e-01\n",
      " 6: -5.2718e+05  1.5309e+06  4e+02  8e-01  7e-01\n",
      " 7: -6.3224e+05  1.2587e+06  4e+02  8e-01  7e-01\n",
      " 8: -7.2696e+05  9.5193e+05  3e+02  7e-01  6e-01\n",
      " 9: -7.7392e+05  6.8248e+05  3e+02  6e-01  5e-01\n",
      "10: -7.6822e+05  4.3510e+05  2e+02  5e-01  4e-01\n",
      "11: -6.9700e+05  2.4615e+05  2e+02  4e-01  3e-01\n",
      "12: -5.6295e+05  1.1506e+05  1e+02  3e-01  2e-01\n",
      "13: -3.8559e+05  4.1814e+04  9e+01  2e-01  1e-01\n",
      "14: -2.4707e+05  1.7119e+04  6e+01  1e-01  7e-02\n",
      "15: -1.3298e+05  7.7693e+03  4e+01  6e-02  4e-02\n",
      "16: -4.8579e+04  5.4260e+03  2e+01  2e-02  1e-02\n",
      "17: -1.8198e+04  5.3319e+03  8e+00  9e-03  6e-03\n",
      "18: -4.8177e+03  5.3971e+03  4e+00  4e-03  2e-03\n",
      "19:  2.3579e+03  5.4610e+03  1e+00  1e-03  6e-04\n",
      "20:  4.8617e+03  5.4886e+03  3e-01  2e-04  1e-04\n",
      "21:  5.3931e+03  5.4957e+03  5e-02  4e-05  4e-05\n",
      "22:  5.4866e+03  5.4973e+03  5e-03  4e-06  4e-06\n",
      "23:  5.4964e+03  5.4977e+03  4e-04  5e-07  3e-07\n",
      "24:  5.4976e+03  5.4977e+03  2e-05  5e-08  1e-08\n",
      "Optimal solution found.\n"
     ]
    }
   ],
   "source": [
    "sol = solvers.cp(F=F, G=G, h=h, A=A, b=b)"
   ]
  },
  {
   "cell_type": "code",
   "execution_count": 71,
   "metadata": {
    "ExecuteTime": {
     "end_time": "2021-04-05T03:30:57.797487Z",
     "start_time": "2021-04-05T03:30:57.785521Z"
    }
   },
   "outputs": [
    {
     "data": {
      "text/plain": [
       "array([[-9.11201417]])"
      ]
     },
     "execution_count": 71,
     "metadata": {},
     "output_type": "execute_result"
    }
   ],
   "source": [
    "np.array(sol[\"y\"])"
   ]
  },
  {
   "cell_type": "markdown",
   "metadata": {
    "ExecuteTime": {
     "end_time": "2021-04-03T19:42:46.535506Z",
     "start_time": "2021-04-03T19:42:46.523573Z"
    }
   },
   "source": [
    "# Predict"
   ]
  },
  {
   "cell_type": "markdown",
   "metadata": {},
   "source": [
    "## get coefficients"
   ]
  },
  {
   "cell_type": "code",
   "execution_count": 72,
   "metadata": {
    "ExecuteTime": {
     "end_time": "2021-04-05T03:30:57.812484Z",
     "start_time": "2021-04-05T03:30:57.801478Z"
    }
   },
   "outputs": [],
   "source": [
    "solution = np.array(sol[\"x\"]).reshape(-1)"
   ]
  },
  {
   "cell_type": "code",
   "execution_count": 73,
   "metadata": {
    "ExecuteTime": {
     "end_time": "2021-04-05T03:30:57.827441Z",
     "start_time": "2021-04-05T03:30:57.816470Z"
    }
   },
   "outputs": [],
   "source": [
    "# tol = np.quantile(np.abs(solution), 0.1)\n",
    "# index = (~np.isclose(solution, 0, atol = tol)).tolist()\n",
    "index = abs(solution) > error"
   ]
  },
  {
   "cell_type": "code",
   "execution_count": 74,
   "metadata": {
    "ExecuteTime": {
     "end_time": "2021-04-05T03:30:57.843402Z",
     "start_time": "2021-04-05T03:30:57.830432Z"
    }
   },
   "outputs": [],
   "source": [
    "alpha_sv = solution[index]\n",
    "y_sv = y[index]\n",
    "x_sv = X[index, :]"
   ]
  },
  {
   "cell_type": "code",
   "execution_count": 75,
   "metadata": {
    "ExecuteTime": {
     "end_time": "2021-04-05T03:30:58.685113Z",
     "start_time": "2021-04-05T03:30:57.846390Z"
    }
   },
   "outputs": [],
   "source": [
    "K_sv = pairwise_kernels(x_sv, x_sv, metric = kernel)\n",
    "w_phi = alpha_sv @ K_sv"
   ]
  },
  {
   "cell_type": "code",
   "execution_count": 76,
   "metadata": {
    "ExecuteTime": {
     "end_time": "2021-04-05T03:30:58.701072Z",
     "start_time": "2021-04-05T03:30:58.688106Z"
    }
   },
   "outputs": [
    {
     "data": {
      "text/plain": [
       "1.2993671084871039e-05"
      ]
     },
     "execution_count": 76,
     "metadata": {},
     "output_type": "execute_result"
    }
   ],
   "source": [
    "sum(alpha_sv)"
   ]
  },
  {
   "cell_type": "code",
   "execution_count": 77,
   "metadata": {
    "ExecuteTime": {
     "end_time": "2021-04-05T03:30:58.717031Z",
     "start_time": "2021-04-05T03:30:58.707057Z"
    }
   },
   "outputs": [],
   "source": [
    "const = np.where(alpha_sv >= 0, 1 - epsilon/100, 1 + epsilon/100)\n",
    "b = np.mean(y_sv*const - w_phi)"
   ]
  },
  {
   "cell_type": "markdown",
   "metadata": {},
   "source": [
    "## Predict new data"
   ]
  },
  {
   "cell_type": "code",
   "execution_count": 78,
   "metadata": {
    "ExecuteTime": {
     "end_time": "2021-04-05T03:30:58.747986Z",
     "start_time": "2021-04-05T03:30:58.721020Z"
    }
   },
   "outputs": [],
   "source": [
    "K_pred = pairwise_kernels(x_sv, X_test, metric = kernel)"
   ]
  },
  {
   "cell_type": "code",
   "execution_count": 79,
   "metadata": {
    "ExecuteTime": {
     "end_time": "2021-04-05T03:30:58.762911Z",
     "start_time": "2021-04-05T03:30:58.751968Z"
    }
   },
   "outputs": [],
   "source": [
    "w_phi_pred = alpha_sv.T @ K_pred\n",
    "y_pred = w_phi_pred + b"
   ]
  },
  {
   "cell_type": "code",
   "execution_count": 80,
   "metadata": {
    "ExecuteTime": {
     "end_time": "2021-04-05T03:30:58.778864Z",
     "start_time": "2021-04-05T03:30:58.765931Z"
    }
   },
   "outputs": [],
   "source": [
    "# rbf kernel"
   ]
  },
  {
   "cell_type": "code",
   "execution_count": 81,
   "metadata": {
    "ExecuteTime": {
     "end_time": "2021-04-05T03:30:58.996325Z",
     "start_time": "2021-04-05T03:30:58.781856Z"
    }
   },
   "outputs": [
    {
     "name": "stdout",
     "output_type": "stream",
     "text": [
      "2.0399074413133107\n"
     ]
    },
    {
     "data": {
      "text/plain": [
       "[<matplotlib.lines.Line2D at 0x1cc2e4ea848>]"
      ]
     },
     "execution_count": 81,
     "metadata": {},
     "output_type": "execute_result"
    },
    {
     "data": {
      "image/png": "[encoded data removed]",
      "text/plain": [
       "<Figure size 432x288 with 1 Axes>"
      ]
     },
     "metadata": {
      "needs_background": "light"
     },
     "output_type": "display_data"
    }
   ],
   "source": [
    "print(np.mean(np.abs((y_pred - y_test))/y_test)*100)\n",
    "plt.plot(y_test)\n",
    "plt.plot(y_pred)"
   ]
  },
  {
   "cell_type": "code",
   "execution_count": null,
   "metadata": {},
   "outputs": [],
   "source": [
    "# linear kernel"
   ]
  },
  {
   "cell_type": "code",
   "execution_count": 58,
   "metadata": {
    "ExecuteTime": {
     "end_time": "2021-04-05T03:07:41.575919Z",
     "start_time": "2021-04-05T03:07:41.330541Z"
    }
   },
   "outputs": [
    {
     "data": {
      "text/plain": [
       "[<matplotlib.lines.Line2D at 0x1cc39ae69c8>]"
      ]
     },
     "execution_count": 58,
     "metadata": {},
     "output_type": "execute_result"
    },
    {
     "data": {
      "image/png": "[encoded data removed]",
      "text/plain": [
       "<Figure size 432x288 with 1 Axes>"
      ]
     },
     "metadata": {
      "needs_background": "light"
     },
     "output_type": "display_data"
    }
   ],
   "source": [
    "plt.plot(y_test)\n",
    "plt.plot(y_pred)"
   ]
  },
  {
   "cell_type": "code",
   "execution_count": 59,
   "metadata": {
    "ExecuteTime": {
     "end_time": "2021-04-05T03:25:18.336996Z",
     "start_time": "2021-04-05T03:25:18.326022Z"
    }
   },
   "outputs": [
    {
     "name": "stdout",
     "output_type": "stream",
     "text": [
      "2.2799082638061527\n"
     ]
    }
   ],
   "source": [
    "print(np.mean(np.abs((y_pred - y_test))/y_test)*100)"
   ]
  }
 ],
 "metadata": {
  "kernelspec": {
   "display_name": "Python 3",
   "language": "python",
   "name": "python3"
  },
  "language_info": {
   "codemirror_mode": {
    "name": "ipython",
    "version": 3
   },
   "file_extension": ".py",
   "mimetype": "text/x-python",
   "name": "python",
   "nbconvert_exporter": "python",
   "pygments_lexer": "ipython3",
   "version": "3.7.7"
  },
  "toc": {
   "base_numbering": 1,
   "nav_menu": {},
   "number_sections": true,
   "sideBar": true,
   "skip_h1_title": false,
   "title_cell": "Table of Contents",
   "title_sidebar": "Contents",
   "toc_cell": false,
   "toc_position": {},
   "toc_section_display": true,
   "toc_window_display": false
  }
 },
 "nbformat": 4,
 "nbformat_minor": 4
}
