{
 "cells": [
  {
   "cell_type": "markdown",
   "metadata": {},
   "source": [
    "# SVRL1_MAPE derivation"
   ]
  },
  {
   "cell_type": "markdown",
   "metadata": {},
   "source": [
    "plane: $y - f(x) = 0$\n",
    "\n",
    "\n",
    "Distance from the plane: $\\frac{f(x) - y}{||\\omega^*||}$"
   ]
  },
  {
   "cell_type": "markdown",
   "metadata": {},
   "source": [
    "**Primal Problem**\n",
    "\n",
    "Given\n",
    "\n",
    "$$\n",
    "\\begin{align}\n",
    "% min D = 1/2 w^2 + C sum(E + E*)\n",
    "\\min_{\\omega, b, \\xi} \\;\\; & \\frac{1}{2} ||\\omega||^2 + C\\sum_{k = 1}^N \\left( \\xi + \\xi^* \\right) \\\\\n",
    "% 100(y - f(x) <= e + E)/y\n",
    "\\text{S. t. } \\;\\; & 100\\frac{y_k - \\langle \\omega, \\phi(x_k) \\rangle - b}{y_k} \\leq \\epsilon + \\xi_k & (1)\\\\\n",
    "% 100(y - f(x) <= e + E*)/y\n",
    "              & 100\\frac{\\langle \\omega, \\phi(x_k) \\rangle + b - y_k}{y_k} \\leq \\epsilon + \\xi^*_k\\\\\n",
    "% E, E* >= 0\n",
    "              & \\xi_k, \\xi^*_k \\geq 0 \\\\\n",
    "\\end{align}\n",
    "$$\n",
    "\n",
    "<font size=\"1\"> For $y_k \\neq 0$ </font>"
   ]
  },
  {
   "cell_type": "markdown",
   "metadata": {},
   "source": [
    "**Lagrangian**\n",
    "\n",
    "$$\n",
    "\\begin{align}\n",
    "% L\n",
    "\\mathcal{L}(\\omega, b, \\xi, \\alpha, \\alpha^*, \\eta, \\eta^*) = &\n",
    "% 1/2 w^2\n",
    "\\frac{1}{2} ||\\omega||^2 + C\\sum_{k = 1}^N \\left( \\xi + \\xi^* \\right) -\n",
    "% a((e + E)y/100 -y + f(x))\n",
    "\\sum_{k=1}^N \\alpha_k \\left[y_k\\frac{\\epsilon + \\xi_k}{100} - y_k + \\langle \\omega, \\phi(x_k) \\rangle + b \\right] \\\\\n",
    "% a((e + E)y/100  - f(x) + y)\n",
    "& - \\sum_{k=1}^N \\alpha^*_k \\left[ y_k\\frac{\\epsilon + \\xi_k^*}{100} + y_k - \\langle \\omega, \\phi(x_k) \\rangle - b  \\right] -\n",
    "% n E + n* E*\n",
    "\\sum_{k=1}^N \\left( \\eta_k \\xi_k + \\eta^*_k \\xi^*_k \\right) & (2)\n",
    "\\end{align}\n",
    "$$"
   ]
  },
  {
   "cell_type": "markdown",
   "metadata": {},
   "source": [
    "**Primal Feasibility**"
   ]
  },
  {
   "cell_type": "markdown",
   "metadata": {},
   "source": [
    "$$\n",
    "\\begin{equation}\n",
    "    \\epsilon + \\xi_k \\geq 100\\frac{y_k - \\langle \\omega, \\phi(x_k) \\rangle - b}{y_k}\\\\\n",
    "    \\epsilon + \\xi_k \\geq 100\\frac{\\langle \\omega, \\phi(x_k) \\rangle + b - y_k}{y_k}\\\\\n",
    "    \\xi_k, \\xi^*_k \\geq 0\n",
    "\\end{equation}\n",
    "$$"
   ]
  },
  {
   "cell_type": "markdown",
   "metadata": {},
   "source": [
    "**Dual feasibility**\n",
    "\n",
    "$$\n",
    "\\begin{align}\n",
    "\\alpha_k, \n",
    "\\alpha^*_k,\n",
    "\\eta_k, \n",
    "\\eta^*_k, \\geq 0\n",
    "\\end{align}\n",
    "$$"
   ]
  },
  {
   "cell_type": "markdown",
   "metadata": {},
   "source": [
    "**Stationarity**\n",
    "\n",
    "<!--  omega gradient -->\n",
    "- $\\nabla_{\\omega} \\mathcal{L}$\n",
    "\n",
    "$$\n",
    "\\begin{align}\n",
    "    \\nabla_{\\omega} \\mathcal{L} = \\;\\; & \\omega - \n",
    "    \\sum^N_{k = 1} \\alpha_k \\phi(x_k) + \\sum^N_{k = 1} \\alpha^*_k \\phi(x_k) =\n",
    "    \\omega - \\sum_{k=1}^N \\left( \\alpha_k \\phi(x_k) - \\alpha_k^* \\phi(x_k) \\right) = \n",
    "    \\omega - \\sum_{k=1}^N \\left( \\alpha_k - \\alpha_k^* \\right)\\phi(x_k) = 0 & (3a)\\\\\n",
    "    & \\boxed{\\omega = \\sum_{k=1}^N \\left( \\alpha_k - \\alpha_k^* \\right)\\phi(x_k)}\n",
    "\\end{align}\n",
    "$$\n",
    "\n",
    "<!-- derivative over b -->\n",
    "- $\\frac{\\partial \\mathcal{L}}{\\partial b}$\n",
    "\n",
    "$$\n",
    "\\begin{align}\n",
    "    \\frac{\\partial \\mathcal{L}}{\\partial b} = \\;\\; & - \\sum_{k=1}^N \\alpha_k + \\sum_{k=1}^N \\alpha_k^* = \n",
    "    \\boxed{\\sum_{k=1}^N \\left( \\alpha_k^* - \\alpha_k \\right) = 0} & (3b)\n",
    "\\end{align}\n",
    "$$\n",
    "\n",
    "<!-- derivative over xi -->\n",
    "$\\frac{\\partial \\mathcal{L}}{\\partial \\xi_k}$\n",
    "\n",
    "$$\n",
    "\\begin{align}\n",
    "    & \\frac{\\partial \\mathcal{L}}{\\partial \\xi_k} = C - \\frac{\\alpha_k}{100}y_k - \\eta_k = 0 & (3c)\n",
    "\\end{align}\n",
    "$$\n",
    "\n",
    "<!-- derivative over xi* -->\n",
    "$\\frac{\\partial \\mathcal{L}}{\\partial \\xi^*_k}$\n",
    "\n",
    "$$\n",
    "\\begin{align}\n",
    "   & \\frac{\\partial \\mathcal{L}}{\\partial \\xi^*_k} = C - \\frac{\\alpha_k^*}{100}y_k - \\eta_k^* = 0 & (3d)\n",
    "\\end{align}\n",
    "$$"
   ]
  },
  {
   "cell_type": "markdown",
   "metadata": {},
   "source": [
    "**Dual derivation**\n",
    "\n",
    "Substituting on (2)\n",
    "\n",
    "$$\n",
    "\\begin{align}\n",
    "% dual function\n",
    "\\mathcal{D}(\\alpha, \\eta, \\eta^*) = &\n",
    "% 1\\2 omega^2\n",
    "\\underbrace{\\frac{1}{2}\\sum_{k, l = 1}^N \\left( \\alpha_k - \\alpha_k^* \\right)\\phi(x_k) \\left( \\alpha_l - \\alpha_l^* \\right)\\phi(x_l)}_{a}\n",
    "% C (xi + xi*)\n",
    "+ \\underbrace{C\\sum_{k = 1}^N \\left( \\xi + \\xi^* \\right)}_{b}\n",
    "% e(a + a*)\n",
    "- \\underbrace{\\sum_{k=1}^N \\frac{\\epsilon}{100} (\\alpha_k + \\alpha_k^*)y_k}_{c}\n",
    "% a xi + a* xi*\n",
    "- \\underbrace{\\frac{1}{100} \\sum_{k=1}^N ( \\alpha_k \\xi_k + \\alpha_k^* \\xi_k^* )y_k}_{d}\n",
    "% sum_{k, l} a_k (a - a*) phi phi_k\n",
    "- \\underbrace{\\sum_{k, l=1}^N \\alpha_k \\left( \\alpha_l - \\alpha_l^* \\right)\\phi(x_l)\\phi(x_k)}_{e}\n",
    "% sum_{k, l} a_k* (a - a*) phi phi_k\n",
    "+ \\underbrace{\\sum_{k, l=1}^N \\alpha_k^* \\left( \\alpha_l - \\alpha_l^* \\right)\\phi(x_l)\\phi(x_k)}_{f}\n",
    "% -b(a - a*)\n",
    "-\\underbrace{b\\sum_{k=1}^N \\left( \\alpha_k - \\alpha_k^* \\right)}_{g}\n",
    "% y_k(a - a*)\n",
    "+ \\underbrace{\\sum_{k=1}^N y_k \\left( \\alpha_k - \\alpha_k^* \\right)}_{h}\n",
    "- \\underbrace{\\sum_{k=1}^N \\left( \\eta_k \\xi_k + \\eta^*_k \\xi^*_k \\right)}_{i} & (4)\\\\\n",
    "\\end{align} \n",
    "$$"
   ]
  },
  {
   "cell_type": "markdown",
   "metadata": {},
   "source": [
    "Rearranging (4) and substituting (3b) for each $k$ on (4g)\n",
    "\n",
    "$$\n",
    "\\begin{align}\n",
    "%     dual function\n",
    "    \\mathcal{D}(\\alpha, \\eta, \\eta^*) = &\n",
    "%     1\\2 omega^2\n",
    "    \\underbrace{\\frac{1}{2}\\sum_{k, l = 1}^N \\left( \\alpha_k - \\alpha_k^* \\right) \\left( \\alpha_l - \\alpha_l^* \\right)\\phi(x_l) \\phi(x_k)}_{a'} \n",
    "%     omega^2\n",
    "    - \\underbrace{\\sum_{k, l = 1}^N \\left( \\alpha_k - \\alpha_k^* \\right) \\left( \\alpha_l - \\alpha_l^* \\right)\\phi(x_l) \\phi(x_k)}_{e + f}\n",
    "%     C - ay/100 - n\n",
    "   + \\underbrace{ \\sum_{k=1}^N \\left( C - \\frac{\\alpha_k}{100}y_k - \\eta_k \\right)\\xi}_{b1 + d1 + i1}\n",
    "%    C - a*y/100 - n*\n",
    "    + \\underbrace{ \\sum_{k=1}^N \\left( C - \\frac{\\alpha_k^*}{100}y_k - \\eta_k^* \\right)\\xi}_{b2 + d2 + i2}\n",
    "%     e(a + a*)y/100\n",
    "- \\underbrace{\\frac{\\epsilon}{100} \\sum_{k=1}^N (\\alpha_k + \\alpha_k^*)y_k}_{c}\n",
    "%     y_k(a - a*)\n",
    "+ \\underbrace{\\sum_{k=1}^N y_k \\left( \\alpha_k - \\alpha_k^* \\right)}_{h} & (5)\\\\\n",
    "\\end{align}\n",
    "$$"
   ]
  },
  {
   "cell_type": "markdown",
   "metadata": {},
   "source": [
    "From (3c) and (3d), we can observe that each term on (b1 + d1 + i1) and (b2 + d2 + i2) is equal to 0, then both terms vanish.\n",
    "\n",
    "$$\n",
    "\\begin{align}\n",
    "%     dual function\n",
    "    \\mathcal{D}(\\alpha,\\alpha^* \\eta, \\eta^*) = &\n",
    "%     -1\\2 omega^2\n",
    "    \\underbrace{-\\frac{1}{2}\\sum_{k, l = 1}^N \\left( \\alpha_k - \\alpha_k^* \\right) \\left( \\alpha_l - \\alpha_l^* \\right)\\phi(x_l) \\phi(x_k)}_{a'-(e + f)}     \n",
    "%     e(a + a*)y/100\n",
    "- \\underbrace{ \\frac{\\epsilon}{100} \\sum_{k=1}^N (\\alpha_k + \\alpha_k^*)}_{c}\n",
    "%     y_k(a - a*)\n",
    "+ \\underbrace{\\sum_{k=1}^N y_k \\left( \\alpha_k - \\alpha_k^* \\right)}_{h} & (6)\n",
    "\\end{align}\n",
    "$$"
   ]
  },
  {
   "cell_type": "markdown",
   "metadata": {},
   "source": [
    "**Dual Problem**\n",
    "\n",
    "From the complementary Slackness conditions, (3b) and (10)\n",
    "\n",
    "$$\n",
    "\\begin{align}\n",
    "%     dual function\n",
    "    \\max_{\\alpha, \\alpha^*, \\eta, \\eta^*} \\mathcal{D}(\\alpha, \\alpha^*, \\eta, \\eta^*) = &\n",
    "%     -1\\2 omega^2\n",
    "    -\\frac{1}{2}\\sum_{k, l = 1}^N \\left( \\alpha_k - \\alpha_k^* \\right) \\left( \\alpha_l - \\alpha_l^* \\right)\\phi(x_l) \\phi(x_k)    \n",
    "%     e(a + a*)\n",
    "- \\frac{\\epsilon}{100} \\sum_{k=1}^N (\\alpha_k + \\alpha_k^*)y_k\n",
    "%     y_k(a - a*)\n",
    "+ \\sum_{k=1}^N y_k \\left( \\alpha_k - \\alpha_k^* \\right)\\\\\n",
    "\\text{S. t. } & \\sum_{k=1}^N \\left( \\alpha_k^* - \\alpha_k \\right) = 0 & (7)\\\\\n",
    "& 0 \\leq \\alpha_k \\leq \\frac{100C}{y_k}; \\;\\; 0 \\leq \\alpha_k^* \\leq \\frac{100C}{y_k}\n",
    "\\end{align}\n",
    "$$\n"
   ]
  },
  {
   "cell_type": "markdown",
   "metadata": {},
   "source": [
    "Substituting $\\phi(x_l)\\phi(x_k)$ with a kernel and minimizing the negative\n",
    "\n",
    "$$\n",
    "\\begin{align}\n",
    "%     dual function\n",
    "    \\min_{\\alpha, \\alpha^*, \\eta, \\eta^*} \\mathcal{D}(\\alpha, \\alpha^*, \\eta, \\eta^*) = &\n",
    "%     -1\\2 omega^2\n",
    "    \\frac{1}{2}\\sum_{k, l = 1}^N \\left( \\alpha_k - \\alpha_k^* \\right) \\left( \\alpha_l - \\alpha_l^* \\right)K(x_l, x_k)    \n",
    "%     e(a + a*)\n",
    "+ \\frac{\\epsilon}{100} \\sum_{k=1}^N (\\alpha_k + \\alpha_k^*)y_k\n",
    "%     y_k(a - a*)\n",
    "- \\sum_{k=1}^N y_k \\left( \\alpha_k - \\alpha_k^* \\right)\\\\\n",
    "\\text{S. t. } & \\sum_{k=1}^N \\left( \\alpha_k^* - \\alpha_k \\right) = 0 & (8)\\\\\n",
    "& 0 \\leq \\alpha_k \\leq \\frac{100C}{y_k}; \\;\\; 0 \\leq \\alpha_k^* \\leq \\frac{100C}{y_k}\n",
    "\\end{align}\n",
    "$$"
   ]
  },
  {
   "cell_type": "markdown",
   "metadata": {},
   "source": [
    "**Complementary Slackness condition**\n",
    "\n",
    "$$\n",
    "\\begin{align}\n",
    "% a(e + E - y + f(x))\n",
    "& \\alpha_k \\left[ y_k\\frac{\\epsilon + \\xi_k}{100} - y_k + \\langle \\omega, \\phi(x_k) \\rangle + b \\right] = 0, & \\eta_k \\xi_k = 0 \\\\\n",
    "% a(e + E - f(x) + y)\n",
    "& \\alpha_k^*\\left[ y_k\\frac{\\epsilon + \\xi_k^*}{100} + y_k - \\langle \\omega, \\phi(x_k) \\rangle - b \\right] = 0, & \\eta_k^* \\xi_k^* = 0\n",
    "\\end{align}\n",
    "$$"
   ]
  },
  {
   "cell_type": "markdown",
   "metadata": {},
   "source": [
    "- $\\mathbf{\\alpha_k, \\alpha_k^*  = 0}$"
   ]
  },
  {
   "cell_type": "markdown",
   "metadata": {},
   "source": [
    "if $\\alpha_k = 0 \\rightarrow \\;\\; \\eta_k = C \\rightarrow \\;\\; \\eta_k \\xi_k = 0 \\rightarrow \\;\\; \\xi_k = 0$\n",
    "\n",
    "$$\n",
    "\\begin{align}\n",
    "    \\alpha_k\\left( y_k\\frac{\\epsilon + \\xi_k}{100} - y_k + f(x_k) \\right) = 0  \\rightarrow \\frac{\\epsilon}{100}y_k - y_k + f(x_k) \\geq 0\\\\\n",
    "    y_k - f(x_k) \\leq \\frac{\\epsilon}{100}y_k \\longleftrightarrow\n",
    "    100\\frac{y_k - f(x_k)}{y_k} \\leq \\epsilon\n",
    "\\end{align}\n",
    "$$"
   ]
  },
  {
   "cell_type": "markdown",
   "metadata": {},
   "source": [
    "if $\\alpha_k^* = 0 \\rightarrow \\;\\; \\eta_k^* = C \\rightarrow \\;\\; \\eta_k^* \\xi_k^* = 0 \\;\\; \\rightarrow \\xi_k^* = 0$\n",
    "\n",
    "$$\n",
    "\\begin{align}\n",
    "    \\alpha_k^*\\left( y_k\\frac{\\epsilon + \\xi_k^*}{100} + y_k - f(x_k) \\right) = 0  \\rightarrow \\frac{\\epsilon}{100}y_k + y_k - f(x_k) \\geq 0\\\\\n",
    "     y_k - f(x_k) \\geq -\\frac{\\epsilon}{100}y_k \\longleftrightarrow \n",
    "    100\\frac{y_k - f(x_k)}{y_k} \\geq -\\epsilon\n",
    "\\end{align}\n",
    "$$"
   ]
  },
  {
   "cell_type": "markdown",
   "metadata": {},
   "source": [
    "---------------------------------------------------------------------------------------------------------------------------"
   ]
  },
  {
   "cell_type": "markdown",
   "metadata": {},
   "source": [
    "- $\\mathbf{\\alpha_k, \\alpha_k^* = \\frac{100C}{y_k}}$\n",
    "\n",
    "\n",
    "If $\\xi_k \\geq 0 \\;\\; \\rightarrow \\;\\; \\eta_k = 0 \\;\\; \\rightarrow \\;\\; \\alpha_k = \\frac{100C}{y_k}$\n",
    "$$\n",
    "\\begin{align}\n",
    "     & - y_k + f(x_k) \\geq -y_k\\frac{\\epsilon + \\xi_k}{100}  \\;\\; \\rightarrow\\\\ \n",
    "     &\\;\\; y_k - f(x_k) \\leq y_k\\frac{\\epsilon + \\xi_k}{100} \\longleftrightarrow 100\\frac{y_k - f(x_k)}{y_k} \\geq \\epsilon + \\xi_k\n",
    "\\end{align}\n",
    "$$\n",
    "\n",
    "If $\\xi_k^* \\geq 0 \\;\\; \\rightarrow \\;\\; \\eta_k^* = 0 \\;\\; \\rightarrow \\;\\; \\alpha_k^* = \\frac{100C}{y_k}$\n",
    "$$\n",
    "\\begin{align}\n",
    "     y_k - f(x_k) \\geq - y_k\\frac{\\epsilon + \\xi_k^*}{100} \\longleftrightarrow 100\\frac{y_k - f(x_k)}{y_k} \\geq -\\epsilon - \\xi_k^*\n",
    "\\end{align}\n",
    "$$"
   ]
  },
  {
   "cell_type": "markdown",
   "metadata": {},
   "source": [
    "From here, it can be derived that $y_k$ must be positive valued.\n",
    "\n",
    "The greater the difference between y_k and 100C, the less contribution it has to the model."
   ]
  },
  {
   "cell_type": "markdown",
   "metadata": {},
   "source": [
    "---------------------------------------------------------------------------------------------------------------------------"
   ]
  },
  {
   "cell_type": "markdown",
   "metadata": {},
   "source": [
    "- $\\mathbf{0 < \\alpha_k < \\frac{100}{y_k}C, \\;\\;  0 < \\alpha_k^* < \\frac{100}{y_k}C}$\n",
    "\n",
    "\n",
    "$$\n",
    "\\begin{align}\n",
    "% y - f = e\n",
    "    \\text{if } \\xi_k = 0 \\;\\; \\rightarrow \\;\\; \\eta_k \\geq 0 \\;\\; \\rightarrow \\;\\; 0 < \\alpha_k < \\frac{100C}{y_k} \\;\\; \\rightarrow \\;\\; \\\\ y_k - f(x_k) = \\frac{\\epsilon}{100}y_k \\longleftrightarrow 100\\frac{y_k - f(x_k)}{y_k} = \\epsilon\\\\\n",
    "% y - f = - e\n",
    "    \\text{if } \\xi_k^* = 0 \\;\\; \\rightarrow \\;\\; \\eta_k^* \\geq 0 \\;\\; \\rightarrow \\;\\; 0 < \\alpha_k^* < \\frac{100C}{y_k} \\;\\; \\rightarrow \\;\\; \\\\y_k - f(x_k) = -\\frac{\\epsilon}{100}y_k \\longleftrightarrow 100\\frac{y_k - f(x_k)}{y_k} = -\\epsilon\n",
    "\\end{align}\n",
    "$$"
   ]
  },
  {
   "cell_type": "markdown",
   "metadata": {
    "ExecuteTime": {
     "end_time": "2021-03-29T00:25:43.414150Z",
     "start_time": "2021-03-29T00:25:43.405307Z"
    }
   },
   "source": [
    "# SVRL1_MAPE Active set"
   ]
  },
  {
   "cell_type": "markdown",
   "metadata": {},
   "source": [
    "From the previous problem, it can be notice that 2N variables are necessary to solve the problem, where N is the number of examples. If N is big, the computation can become very expensive. Therefore, a new set of variables is proposed to decrease the number of variables to N."
   ]
  },
  {
   "cell_type": "markdown",
   "metadata": {},
   "source": [
    "| | Over the tube|On the upper border|Inside the tube|On the lower bound|Above the tube|\n",
    "| :--: | :--: | :--: | :--: | :--: | :--: |\n",
    "| \\begin{equation}\\alpha\\end{equation} | \\begin{equation}\\frac{100}{y_k}C\\end{equation} | \\begin{equation}> 0, < \\frac{100}{y_k}C \\end{equation} | 0 | 0 | 0 |\n",
    "<!-- First row alpha-->\n",
    "| \\begin{equation}\\xi\\end{equation} | \\begin{equation}\\geq 0\\end{equation} | 0 | 0 | 0 | 0 |\n",
    "<!-- Second row xi-->\n",
    "| \\begin{equation}\\eta\\end{equation} | 0 | \\begin{equation} C \\end{equation} | \\begin{equation} C \\end{equation} | \\begin{equation} C \\end{equation} | \\begin{equation} C \\end{equation} |\n",
    "<!-- Third row eta-->\n",
    "| \\begin{equation}\\alpha^*\\end{equation} | 0 | 0 | 0 | \\begin{equation}> 0, < \\frac{100}{y_k}C \\end{equation} | \\begin{equation}\\frac{100}{y_k}C\\end{equation}|\n",
    "<!-- Fourth row alpha*-->\n",
    "| \\begin{equation}\\xi^*\\end{equation} | 0 | 0 | 0 | 0 | \\begin{equation}\\geq 0\\end{equation} |\n",
    "<!-- Fifth row xi*-->\n",
    "| \\begin{equation}\\eta^*\\end{equation} | \\begin{equation} C\\end{equation} | \\begin{equation} C\\end{equation} | \\begin{equation} C\\end{equation} | \\begin{equation} C\\end{equation} | 0 |\n",
    "<!-- Sixth row eta*-->\n",
    "\n",
    "Table 1. The asterisk variables do not interfere on the opposite variable"
   ]
  },
  {
   "cell_type": "markdown",
   "metadata": {},
   "source": [
    "From Table 1 we can define,\n",
    "\n",
    "$\n",
    "\\begin{align} \n",
    "     & \\beta_k = \\alpha_k - \\alpha_k^* \\quad \\rightarrow -\\frac{100}{y_k}C \\geq \\beta \\geq \\frac{100}{y_k}C &\n",
    "     \\\\  \n",
    "     \\\\\n",
    "     & |\\beta_k| = \\alpha_k - \\alpha_k^* \\quad \\rightarrow 0 \\geq |\\beta| \\geq \\frac{100}{y_k}C &\n",
    "     \\\\\n",
    "     \\\\\n",
    "     & \\xi_k = \\xi_k + \\xi_k^* \\quad \\rightarrow \\xi_k \\geq 0 &\n",
    "     \\\\  \n",
    "     \\\\\n",
    "     & \\eta_k = \\eta_k + \\eta_k^* \\quad \\rightarrow  \\eta_k = C \\otimes \\eta_k = 2C&\n",
    "\\end{align}\n",
    "$\n",
    "\n",
    "<font size=\"1\"> For $y_k \\geq 0$ </font>"
   ]
  },
  {
   "cell_type": "markdown",
   "metadata": {
    "ExecuteTime": {
     "end_time": "2021-03-29T00:28:09.397730Z",
     "start_time": "2021-03-29T00:28:09.364602Z"
    }
   },
   "source": [
    "And substituting on (8)\n",
    "\n",
    "$$\n",
    "\\begin{align}\n",
    "%     dual function\n",
    "    \\min_{\\beta, \\eta} \\mathcal{D}(\\beta, \\eta) = &\n",
    "%     -1\\2 omega^2\n",
    "    \\frac{1}{2}\\sum_{k, l = 1}^N \\beta_k \\beta_l K(x_l, x_k)  \n",
    "%     e(a + a*)\n",
    "+ \\frac{\\epsilon}{100} \\sum_{k=1}^N |\\beta_k|y_k\n",
    "%     y_k(a - a*)\n",
    "- \\sum_{k=1}^N y_k \\beta_k \\\\\n",
    "\\text{S. t. } & \\sum_{k=1}^N  \\beta_k = 0 & (9)\\\\\n",
    "& |\\beta_k|  \\leq \\frac{100}{y_k}C\n",
    "\\end{align}\n",
    "$$"
   ]
  },
  {
   "cell_type": "markdown",
   "metadata": {},
   "source": [
    "**Slackness condition**\n",
    "\n",
    "$$\n",
    "\\begin{align}\n",
    "% a(e + E - y + f(x))\n",
    "& \\beta_k \\left[ y_k\\frac{\\epsilon + \\xi_k}{100} - y_k + \\langle \\omega, \\phi(x_k) \\rangle + b \\right] = 0, & \\beta \\geq 0 \n",
    "\\\\\n",
    "% a(e + E - f(x) + y)\n",
    "& \\beta_k\\left[ y_k\\frac{\\epsilon + \\xi_k}{100} + y_k - \\langle \\omega, \\phi(x_k) \\rangle - b \\right] = 0, & \\beta \\leq 0\n",
    "\\\\\n",
    "& \\eta_k \\xi_k = 0\n",
    "\\end{align}\n",
    "$$"
   ]
  },
  {
   "cell_type": "markdown",
   "metadata": {},
   "source": [
    "**Prediction**\n",
    "\n",
    "$$\n",
    "b = \\left\\{\n",
    "\\begin{array}{ll}\n",
    "& y_k\\left[1 - \\frac{\\epsilon}{100}\\right] - f(x) \n",
    "\\\\\n",
    "& & 0 < |\\beta| < 100\\frac{C}{y_k}\\\\\n",
    "& y_k\\left[1 + \\frac{\\epsilon}{100}\\right] - f(x)\n",
    "\\end{array}\n",
    "\\right.\n",
    "$$\n",
    "\n",
    "$$\n",
    "\\omega = \\sum_{k=1}^N \\beta_k\\phi(x_k)\n",
    "$$"
   ]
  }
 ],
 "metadata": {
  "kernelspec": {
   "display_name": "Python 3",
   "language": "python",
   "name": "python3"
  },
  "language_info": {
   "codemirror_mode": {
    "name": "ipython",
    "version": 3
   },
   "file_extension": ".py",
   "mimetype": "text/x-python",
   "name": "python",
   "nbconvert_exporter": "python",
   "pygments_lexer": "ipython3",
   "version": "3.7.7"
  },
  "toc": {
   "base_numbering": 1,
   "nav_menu": {},
   "number_sections": true,
   "sideBar": true,
   "skip_h1_title": false,
   "title_cell": "Table of Contents",
   "title_sidebar": "Contents",
   "toc_cell": false,
   "toc_position": {},
   "toc_section_display": true,
   "toc_window_display": false
  }
 },
 "nbformat": 4,
 "nbformat_minor": 4
}
