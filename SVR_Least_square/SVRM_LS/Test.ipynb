{
 "cells": [
  {
   "cell_type": "code",
   "execution_count": null,
   "metadata": {},
   "outputs": [],
   "source": [
    "### Derivation"
   ]
  },
  {
   "cell_type": "markdown",
   "metadata": {},
   "source": [
    "$$ \n",
    "\\begin{equation}\n",
    "\\left( \\Omega + \\Upsilon_{\\Gamma} \\right)\\alpha + b\\mathbf{1}_v = \\mathbf{y}\n",
    "\\end{equation}\n",
    "$$\n",
    "\n",
    "$$\n",
    "\\begin{equation}\n",
    "\\mathbf{1}_v^T \\alpha = 0\n",
    "\\end{equation}\n",
    "$$"
   ]
  },
  {
   "cell_type": "markdown",
   "metadata": {},
   "source": [
    "-----------------------------------------------------------------------------------------------------------"
   ]
  },
  {
   "cell_type": "markdown",
   "metadata": {},
   "source": [
    "$$\n",
    "\\begin{equation}\n",
    "\\alpha = \\Omega^{-1}\\left(y - \\mathbf{1}b\\right)\n",
    "\\end{equation}\n",
    "$$\n",
    "\n",
    "$$\n",
    "\\begin{equation}\n",
    "b = \\left( \\mathbf{1}^T \\Omega^{-1} \\mathbf{1} \\right)^{-1}\\mathbf{1}^T \\Omega^{-1} \\mathbf{y}\n",
    "\\end{equation}\n",
    "$$"
   ]
  },
  {
   "cell_type": "code",
   "execution_count": null,
   "metadata": {},
   "outputs": [],
   "source": []
  },
  {
   "cell_type": "code",
   "execution_count": 26,
   "metadata": {
    "ExecuteTime": {
     "end_time": "2021-06-17T19:37:33.676023Z",
     "start_time": "2021-06-17T19:37:33.664030Z"
    }
   },
   "outputs": [],
   "source": [
    "import numpy as np\n",
    "import pandas as pd\n",
    "import matplotlib.pyplot as plt\n",
    "from sklearn.metrics.pairwise import pairwise_kernels\n",
    "from sklearn.model_selection import train_test_split\n",
    "from sklearn.datasets import make_blobs\n",
    "from numpy.linalg import inv"
   ]
  },
  {
   "cell_type": "code",
   "execution_count": 32,
   "metadata": {
    "ExecuteTime": {
     "end_time": "2021-06-17T19:46:01.549954Z",
     "start_time": "2021-06-17T19:45:59.756999Z"
    }
   },
   "outputs": [],
   "source": [
    "%run SVRM_LS_Library.ipynb"
   ]
  },
  {
   "cell_type": "code",
   "execution_count": 9,
   "metadata": {
    "ExecuteTime": {
     "end_time": "2021-06-17T19:35:26.296866Z",
     "start_time": "2021-06-17T19:35:26.283860Z"
    }
   },
   "outputs": [],
   "source": [
    "## load data"
   ]
  },
  {
   "cell_type": "code",
   "execution_count": 38,
   "metadata": {
    "ExecuteTime": {
     "end_time": "2021-06-17T19:52:24.761961Z",
     "start_time": "2021-06-17T19:52:24.754268Z"
    }
   },
   "outputs": [],
   "source": [
    "X, y = make_blobs(centers = 2, random_state = 2, n_features = 2, cluster_std = 1);\n",
    "y = np.where(y == 0, -1, 1)"
   ]
  },
  {
   "cell_type": "code",
   "execution_count": 39,
   "metadata": {
    "ExecuteTime": {
     "end_time": "2021-06-17T19:52:25.332351Z",
     "start_time": "2021-06-17T19:52:25.320677Z"
    }
   },
   "outputs": [],
   "source": [
    "## split"
   ]
  },
  {
   "cell_type": "code",
   "execution_count": 40,
   "metadata": {
    "ExecuteTime": {
     "end_time": "2021-06-17T19:52:25.710905Z",
     "start_time": "2021-06-17T19:52:25.693842Z"
    }
   },
   "outputs": [],
   "source": [
    "X_train, X_test, y_train, y_test = train_test_split(X, y, random_state = 2, test_size = 20, \n",
    "                                                    shuffle = True)"
   ]
  },
  {
   "cell_type": "code",
   "execution_count": 41,
   "metadata": {
    "ExecuteTime": {
     "end_time": "2021-06-17T19:52:26.100459Z",
     "start_time": "2021-06-17T19:52:26.092940Z"
    }
   },
   "outputs": [],
   "source": [
    "## fit"
   ]
  },
  {
   "cell_type": "code",
   "execution_count": 42,
   "metadata": {
    "ExecuteTime": {
     "end_time": "2021-06-17T19:52:26.503965Z",
     "start_time": "2021-06-17T19:52:26.486203Z"
    }
   },
   "outputs": [],
   "source": [
    "kernel = \"linear\"\n",
    "C = 0.1"
   ]
  },
  {
   "cell_type": "code",
   "execution_count": 43,
   "metadata": {
    "ExecuteTime": {
     "end_time": "2021-06-17T19:52:27.024420Z",
     "start_time": "2021-06-17T19:52:27.007293Z"
    }
   },
   "outputs": [],
   "source": [
    "# omega + upsilon\n",
    "omega = pairwise_kernels(X_train, X_train, kernel) \n",
    "+ np.identity(y_train.size)*((y_train**2)/C)\n",
    "# ones vector\n",
    "onev = np.ones(y_train.shape).reshape(-1, 1)\n",
    "y_train = y_train.reshape(-1, 1)"
   ]
  },
  {
   "cell_type": "code",
   "execution_count": 77,
   "metadata": {
    "ExecuteTime": {
     "end_time": "2021-06-17T20:52:09.465120Z",
     "start_time": "2021-06-17T20:52:09.440099Z"
    }
   },
   "outputs": [],
   "source": [
    "A = np.linalg.pinv(np.block([[0, onev.T],[onev, omega]]))\n",
    "B = np.concatenate((np.array([0]),y_train.reshape(-1)))"
   ]
  },
  {
   "cell_type": "code",
   "execution_count": null,
   "metadata": {},
   "outputs": [],
   "source": [
    "A = np.linalg.pinv(np.block([[0, onev.T],[onev, omega_]]))\n",
    "B = np.concatenate((np.array([0]),y.reshape(-1)))"
   ]
  },
  {
   "cell_type": "code",
   "execution_count": 81,
   "metadata": {
    "ExecuteTime": {
     "end_time": "2021-06-17T20:53:24.818833Z",
     "start_time": "2021-06-17T20:53:24.804831Z"
    }
   },
   "outputs": [],
   "source": [
    "param =  A @ B"
   ]
  },
  {
   "cell_type": "code",
   "execution_count": 95,
   "metadata": {
    "ExecuteTime": {
     "end_time": "2021-06-17T21:03:23.392187Z",
     "start_time": "2021-06-17T21:03:23.380354Z"
    }
   },
   "outputs": [],
   "source": [
    "pred = sol[1:] @ pairwise_kernels(X_train, X_test, \"linear\") + sol[0]\n",
    "predict = np.sign(pred)"
   ]
  }
 ],
 "metadata": {
  "kernelspec": {
   "display_name": "Python 3",
   "language": "python",
   "name": "python3"
  },
  "language_info": {
   "codemirror_mode": {
    "name": "ipython",
    "version": 3
   },
   "file_extension": ".py",
   "mimetype": "text/x-python",
   "name": "python",
   "nbconvert_exporter": "python",
   "pygments_lexer": "ipython3",
   "version": "3.7.7"
  },
  "toc": {
   "base_numbering": 1,
   "nav_menu": {},
   "number_sections": true,
   "sideBar": true,
   "skip_h1_title": false,
   "title_cell": "Table of Contents",
   "title_sidebar": "Contents",
   "toc_cell": false,
   "toc_position": {},
   "toc_section_display": true,
   "toc_window_display": false
  }
 },
 "nbformat": 4,
 "nbformat_minor": 4
}
