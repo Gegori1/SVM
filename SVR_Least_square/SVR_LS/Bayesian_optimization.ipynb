{
 "cells": [
  {
   "cell_type": "markdown",
   "metadata": {},
   "source": [
    "## Libraries"
   ]
  },
  {
   "cell_type": "code",
   "execution_count": 11,
   "metadata": {
    "ExecuteTime": {
     "end_time": "2021-06-18T14:21:06.725656Z",
     "start_time": "2021-06-18T14:21:06.707686Z"
    }
   },
   "outputs": [],
   "source": [
    "import matplotlib.pyplot as plt\n",
    "import numpy as np\n",
    "from sklearn.preprocessing import MaxAbsScaler\n",
    "from sklearn.model_selection import train_test_split\n",
    "from sklearn.utils import check_random_state\n",
    "from sklearn.datasets import load_boston\n",
    "import pandas as pd\n",
    "from pathlib import Path"
   ]
  },
  {
   "cell_type": "code",
   "execution_count": 12,
   "metadata": {
    "ExecuteTime": {
     "end_time": "2021-06-18T14:21:06.912101Z",
     "start_time": "2021-06-18T14:21:06.905121Z"
    }
   },
   "outputs": [],
   "source": [
    "from bayes_opt import BayesianOptimization\n",
    "from bayes_opt import SequentialDomainReductionTransformer\n",
    "from bayes_opt import UtilityFunction\n",
    "from bayes_opt.logger import JSONLogger\n",
    "from bayes_opt.event import Events"
   ]
  },
  {
   "cell_type": "code",
   "execution_count": 13,
   "metadata": {
    "ExecuteTime": {
     "end_time": "2021-06-18T14:21:07.132646Z",
     "start_time": "2021-06-18T14:21:07.107740Z"
    }
   },
   "outputs": [],
   "source": [
    "%run SVR_LS_Library.ipynb "
   ]
  },
  {
   "cell_type": "markdown",
   "metadata": {},
   "source": [
    "## Load data"
   ]
  },
  {
   "cell_type": "code",
   "execution_count": 14,
   "metadata": {
    "ExecuteTime": {
     "end_time": "2021-06-18T14:21:07.407100Z",
     "start_time": "2021-06-18T14:21:07.380030Z"
    }
   },
   "outputs": [],
   "source": [
    "rng = check_random_state(0)\n",
    "boston = load_boston()\n",
    "perm = rng.permutation(boston.target.size)\n",
    "boston.data = boston.data[perm]\n",
    "boston.target = boston.target[perm]\n",
    "# \n",
    "Y = boston.target\n",
    "X = boston.data"
   ]
  },
  {
   "cell_type": "code",
   "execution_count": 15,
   "metadata": {
    "ExecuteTime": {
     "end_time": "2021-06-18T14:21:07.490280Z",
     "start_time": "2021-06-18T14:21:07.469558Z"
    }
   },
   "outputs": [],
   "source": [
    "X = pd.read_csv(\"new_boston.csv\")"
   ]
  },
  {
   "cell_type": "code",
   "execution_count": 16,
   "metadata": {
    "ExecuteTime": {
     "end_time": "2021-06-18T14:21:07.692084Z",
     "start_time": "2021-06-18T14:21:07.660604Z"
    }
   },
   "outputs": [],
   "source": [
    "#split\n",
    "x_train, x_test, y_train, y_test = train_test_split(X, Y, test_size=0.2, random_state = 5)\n",
    "\n",
    "#normalize\n",
    "scaler = MaxAbsScaler().fit(x_train)\n",
    "X_train = scaler.transform(x_train); X_test = scaler.transform(x_test)\n",
    "\n",
    "scaler1 = MaxAbsScaler().fit(y_train.reshape(-1, 1))\n",
    "Y_train = scaler1.transform(y_train.reshape(-1, 1)).reshape(-1)\n",
    "Y_test = scaler1.transform(y_test.reshape(-1, 1)).reshape(-1)"
   ]
  },
  {
   "cell_type": "markdown",
   "metadata": {},
   "source": [
    "## Optimization function"
   ]
  },
  {
   "cell_type": "code",
   "execution_count": 17,
   "metadata": {
    "ExecuteTime": {
     "end_time": "2021-06-18T14:21:08.509881Z",
     "start_time": "2021-06-18T14:21:08.494113Z"
    }
   },
   "outputs": [],
   "source": [
    "def opt_bas(C, gamma):\n",
    "    \n",
    "    # parameters\n",
    "    hyperparameters = {\n",
    "        'kernel' : \"rbf\",\n",
    "        'C' : C, \n",
    "        'gamma' : gamma,\n",
    "    }\n",
    "    \n",
    "    # fit and predict\n",
    "    model = SVR_ls(**hyperparameters).fit(X_train, Y_train)\n",
    "\n",
    "    y_pred = model.predict(X_test)\n",
    "    \n",
    "    # rescale\n",
    "#     y_pred = scaler1.inverse_transform(predict.reshape(-1, 1)).reshape(-1)\n",
    "    \n",
    "    # get score\n",
    "    mape = np.mean(np.abs((Y_test - y_pred)/Y_test))*100\n",
    "    \n",
    "    return -mape"
   ]
  },
  {
   "cell_type": "markdown",
   "metadata": {},
   "source": [
    "## Run optimization"
   ]
  },
  {
   "cell_type": "code",
   "execution_count": 18,
   "metadata": {
    "ExecuteTime": {
     "end_time": "2021-06-18T14:21:09.116480Z",
     "start_time": "2021-06-18T14:21:09.106596Z"
    }
   },
   "outputs": [],
   "source": [
    "class newJSONLogger(JSONLogger):\n",
    "\n",
    "      def __init__(self, path):\n",
    "            self._path=None\n",
    "            super(JSONLogger, self).__init__()\n",
    "            self._path = path if path[-5:] == \".json\" else path + \".json\""
   ]
  },
  {
   "cell_type": "code",
   "execution_count": 19,
   "metadata": {
    "ExecuteTime": {
     "end_time": "2021-06-18T14:21:09.645994Z",
     "start_time": "2021-06-18T14:21:09.619801Z"
    }
   },
   "outputs": [],
   "source": [
    "# Bounded region of parameter space\n",
    "pbounds = {'C': (0.001, 1000000), 'gamma': (0.0001, 10)}\n",
    "\n",
    "# Domain reduction function\n",
    "# bounds_transformer = SequentialDomainReductionTransformer()\n",
    "\n",
    "# Bayes optimizer instantiation\n",
    "optimizer = BayesianOptimization(f=opt_bas, \n",
    "                                 pbounds=pbounds, \n",
    "                                 random_state=1, verbose=2, \n",
    "#                                  bounds_transformer=bounds_transformer\n",
    "                                )\n",
    "\n",
    "# keep data\n",
    "log_path = Path().resolve() / \"Logs\" / \"test.json\"\n",
    "logger = newJSONLogger(path = str(log_path))\n",
    "optimizer.subscribe(Events.OPTIMIZATION_STEP, logger)"
   ]
  },
  {
   "cell_type": "code",
   "execution_count": 20,
   "metadata": {
    "ExecuteTime": {
     "end_time": "2021-06-18T16:36:20.011817Z",
     "start_time": "2021-06-18T14:21:10.147424Z"
    }
   },
   "outputs": [],
   "source": [
    "optimizer.maximize(init_points=100, n_iter=1100)"
   ]
  },
  {
   "cell_type": "code",
   "execution_count": null,
   "metadata": {
    "ExecuteTime": {
     "end_time": "2021-06-18T14:10:58.222076Z",
     "start_time": "2021-06-18T13:43:07.627Z"
    }
   },
   "outputs": [],
   "source": [
    "# optimizer.probe(\n",
    "#     params={\"C\": 1, \"gamma\": 0.3},\n",
    "#     lazy=True,\n",
    "# )"
   ]
  },
  {
   "cell_type": "code",
   "execution_count": 48,
   "metadata": {
    "ExecuteTime": {
     "end_time": "2021-06-17T16:57:01.045367Z",
     "start_time": "2021-06-17T16:49:55.341511Z"
    }
   },
   "outputs": [],
   "source": []
  },
  {
   "cell_type": "code",
   "execution_count": null,
   "metadata": {},
   "outputs": [],
   "source": []
  }
 ],
 "metadata": {
  "kernelspec": {
   "display_name": "Python 3",
   "language": "python",
   "name": "python3"
  },
  "language_info": {
   "codemirror_mode": {
    "name": "ipython",
    "version": 3
   },
   "file_extension": ".py",
   "mimetype": "text/x-python",
   "name": "python",
   "nbconvert_exporter": "python",
   "pygments_lexer": "ipython3",
   "version": "3.7.7"
  },
  "toc": {
   "base_numbering": 1,
   "nav_menu": {},
   "number_sections": true,
   "sideBar": true,
   "skip_h1_title": false,
   "title_cell": "Table of Contents",
   "title_sidebar": "Contents",
   "toc_cell": false,
   "toc_position": {},
   "toc_section_display": true,
   "toc_window_display": false
  }
 },
 "nbformat": 4,
 "nbformat_minor": 4
}
