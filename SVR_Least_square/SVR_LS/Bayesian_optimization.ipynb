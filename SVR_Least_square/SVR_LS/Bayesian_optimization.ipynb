{
 "cells": [
  {
   "cell_type": "markdown",
   "metadata": {},
   "source": [
    "## Libraries"
   ]
  },
  {
   "cell_type": "code",
   "execution_count": 43,
   "metadata": {
    "ExecuteTime": {
     "end_time": "2021-06-18T17:34:51.655074Z",
     "start_time": "2021-06-18T17:34:51.642399Z"
    }
   },
   "outputs": [],
   "source": [
    "import matplotlib.pyplot as plt\n",
    "import numpy as np\n",
    "from sklearn.preprocessing import MaxAbsScaler\n",
    "from sklearn.model_selection import train_test_split\n",
    "from sklearn.utils import check_random_state\n",
    "from sklearn.datasets import load_boston\n",
    "import pandas as pd\n",
    "from pathlib import Path"
   ]
  },
  {
   "cell_type": "code",
   "execution_count": 44,
   "metadata": {
    "ExecuteTime": {
     "end_time": "2021-06-18T17:34:51.703892Z",
     "start_time": "2021-06-18T17:34:51.694233Z"
    }
   },
   "outputs": [],
   "source": [
    "from bayes_opt import BayesianOptimization\n",
    "from bayes_opt import SequentialDomainReductionTransformer\n",
    "from bayes_opt import UtilityFunction\n",
    "from bayes_opt.logger import JSONLogger\n",
    "from bayes_opt.event import Events"
   ]
  },
  {
   "cell_type": "code",
   "execution_count": 45,
   "metadata": {
    "ExecuteTime": {
     "end_time": "2021-06-18T17:34:51.883416Z",
     "start_time": "2021-06-18T17:34:51.844733Z"
    }
   },
   "outputs": [],
   "source": [
    "%run SVR_LS_Library.ipynb "
   ]
  },
  {
   "cell_type": "markdown",
   "metadata": {},
   "source": [
    "## Load data"
   ]
  },
  {
   "cell_type": "code",
   "execution_count": 46,
   "metadata": {
    "ExecuteTime": {
     "end_time": "2021-06-18T17:34:52.171320Z",
     "start_time": "2021-06-18T17:34:52.138235Z"
    }
   },
   "outputs": [],
   "source": [
    "rng = check_random_state(0)\n",
    "boston = load_boston()\n",
    "perm = rng.permutation(boston.target.size)\n",
    "boston.data = boston.data[perm]\n",
    "boston.target = boston.target[perm]\n",
    "# \n",
    "Y = boston.target\n",
    "X = boston.data"
   ]
  },
  {
   "cell_type": "code",
   "execution_count": 47,
   "metadata": {
    "ExecuteTime": {
     "end_time": "2021-06-18T17:34:52.673584Z",
     "start_time": "2021-06-18T17:34:52.652637Z"
    }
   },
   "outputs": [],
   "source": [
    "# X = pd.read_csv(\"new_boston.csv\")"
   ]
  },
  {
   "cell_type": "code",
   "execution_count": 48,
   "metadata": {
    "ExecuteTime": {
     "end_time": "2021-06-18T17:34:53.068751Z",
     "start_time": "2021-06-18T17:34:53.046303Z"
    }
   },
   "outputs": [],
   "source": [
    "#split\n",
    "x_train, x_test, y_train, y_test = train_test_split(X, Y, test_size=0.2, random_state = 5)\n",
    "\n",
    "#normalize\n",
    "scaler = MaxAbsScaler().fit(x_train)\n",
    "X_train = scaler.transform(x_train); X_test = scaler.transform(x_test)\n",
    "\n",
    "scaler1 = MaxAbsScaler().fit(y_train.reshape(-1, 1))\n",
    "Y_train = scaler1.transform(y_train.reshape(-1, 1)).reshape(-1)\n",
    "Y_test = scaler1.transform(y_test.reshape(-1, 1)).reshape(-1)"
   ]
  },
  {
   "cell_type": "markdown",
   "metadata": {},
   "source": [
    "## Optimization function"
   ]
  },
  {
   "cell_type": "code",
   "execution_count": 49,
   "metadata": {
    "ExecuteTime": {
     "end_time": "2021-06-18T17:34:54.410875Z",
     "start_time": "2021-06-18T17:34:54.401136Z"
    }
   },
   "outputs": [],
   "source": [
    "def opt_bas(C, gamma):\n",
    "    \n",
    "    # parameters\n",
    "    hyperparameters = {\n",
    "        'kernel' : \"rbf\",\n",
    "        'C' : C, \n",
    "        'gamma' : gamma,\n",
    "    }\n",
    "    \n",
    "    # fit and predict\n",
    "    model = SVR_ls(**hyperparameters).fit(X_train, Y_train)\n",
    "\n",
    "    y_pred = model.predict(X_test)\n",
    "    \n",
    "    # rescale\n",
    "#     y_pred = scaler1.inverse_transform(predict.reshape(-1, 1)).reshape(-1)\n",
    "    \n",
    "    # get score\n",
    "    mape = np.mean(np.abs((Y_test - y_pred)/Y_test))*100\n",
    "    \n",
    "    return -mape"
   ]
  },
  {
   "cell_type": "markdown",
   "metadata": {},
   "source": [
    "## Run optimization"
   ]
  },
  {
   "cell_type": "code",
   "execution_count": 50,
   "metadata": {
    "ExecuteTime": {
     "end_time": "2021-06-18T17:34:55.223005Z",
     "start_time": "2021-06-18T17:34:55.211220Z"
    }
   },
   "outputs": [],
   "source": [
    "class newJSONLogger(JSONLogger):\n",
    "\n",
    "      def __init__(self, path):\n",
    "            self._path=None\n",
    "            super(JSONLogger, self).__init__()\n",
    "            self._path = path if path[-5:] == \".json\" else path + \".json\""
   ]
  },
  {
   "cell_type": "code",
   "execution_count": 143,
   "metadata": {
    "ExecuteTime": {
     "end_time": "2021-06-18T18:56:36.281860Z",
     "start_time": "2021-06-18T18:56:36.268863Z"
    }
   },
   "outputs": [],
   "source": [
    "# Bounded region of parameter space\n",
    "pbounds = {'C': (0.001, 1000000), 'gamma': (0.0001, 10)}\n",
    "\n",
    "# Domain reduction function\n",
    "# bounds_transformer = SequentialDomainReductionTransformer()\n",
    "\n",
    "# Bayes optimizer instantiation\n",
    "optimizer = BayesianOptimization(f=opt_bas, \n",
    "                                 pbounds=pbounds, \n",
    "                                 random_state=1, verbose=2, \n",
    "#                                  bounds_transformer=bounds_transformer\n",
    "                                )\n",
    "\n",
    "# keep data\n",
    "log_path = Path().resolve() / \"Logs\" / \"test1.json\"\n",
    "logger = newJSONLogger(path = str(log_path))\n",
    "optimizer.subscribe(Events.OPTIMIZATION_STEP, logger)"
   ]
  },
  {
   "cell_type": "code",
   "execution_count": 144,
   "metadata": {
    "ExecuteTime": {
     "end_time": "2021-06-18T18:56:37.951875Z",
     "start_time": "2021-06-18T18:56:37.115178Z"
    }
   },
   "outputs": [],
   "source": [
    "optimizer.probe(params={\"C\": 131.6135372548593, \"gamma\": 0.1926931038470609}, lazy = False)\n",
    "optimizer.probe(params={\"C\": 4, \"gamma\": 2}, lazy = False)\n",
    "optimizer.probe(params={\"C\": 7.628874476243877, \"gamma\": 1.1659271563361087}, lazy = False)"
   ]
  },
  {
   "cell_type": "code",
   "execution_count": null,
   "metadata": {
    "ExecuteTime": {
     "end_time": "2021-06-18T22:12:18.692339Z",
     "start_time": "2021-06-18T21:21:39.038003Z"
    }
   },
   "outputs": [],
   "source": [
    "optimizer.maximize(init_points=5, n_iter=400)"
   ]
  },
  {
   "cell_type": "code",
   "execution_count": 48,
   "metadata": {
    "ExecuteTime": {
     "end_time": "2021-06-17T16:57:01.045367Z",
     "start_time": "2021-06-17T16:49:55.341511Z"
    }
   },
   "outputs": [],
   "source": []
  },
  {
   "cell_type": "markdown",
   "metadata": {},
   "source": [
    "{\"target\": -10.405396953891422, \"params\": {\"C\": 145.77384906735986, \"gamma\": 0.2124613849674528}, \"datetime\": {\"datetime\": \"2021-06-18 11:04:40\", \"elapsed\": 6209.407793, \"delta\": 11.441449}}\n",
    "\n",
    "{\"target\": -10.514071087943606, \"params\": {\"C\": 146.55652561348376, \"gamma\": 0.24100561527179876}, \"datetime\": {\"datetime\": \"2021-06-18 10:39:32\", \"elapsed\": 4702.323429, \"delta\": 13.800381}}\n",
    "\n",
    "{\"target\": -10.917141024687126, \"params\": {\"C\": 144.95313389424803, \"gamma\": 0.34218534204829437}, \"datetime\": {\"datetime\": \"2021-06-18 10:04:16\", \"elapsed\": 2586.015739, \"delta\": 7.89459}}\n",
    "\n",
    "{\"target\": -11.340590596189683, \"params\": {\"C\": 135.11776824073686, \"gamma\": 0.4207548977595412}, \"datetime\": {\"datetime\": \"2021-06-18 10:00:56\", \"elapsed\": 2385.807744, \"delta\": 5.368786}}\n",
    "\n",
    "{\"target\": -10.273963393355416, \"params\": {\"C\": 131.6135372548593, \"gamma\": 0.1926931038470609}, \"datetime\": {\"datetime\": \"2021-06-18 09:56:55\", \"elapsed\": 2145.094956, \"delta\": 6.295304}}\n",
    "\n",
    "{\"target\": -10.515324650130054, \"params\": {\"C\": 133.41030297171602, \"gamma\": 0.25634656923630994}, \"datetime\": {\"datetime\": \"2021-06-18 09:43:23\", \"elapsed\": 1333.236594, \"delta\": 3.800363}}\n",
    "\n",
    "{\"target\": -10.509953420444594, \"params\": {\"C\": 90.56546154667917, \"gamma\": 0.3265541455292291}, \"datetime\": {\"datetime\": \"2021-06-18 09:36:11\", \"elapsed\": 900.641656, \"delta\": 4.047269}}\n",
    "\n",
    "{\"target\": -10.482047036160049, \"params\": {\"C\": 106.37884794241084, \"gamma\": 0.2865778921210128}, \"datetime\": {\"datetime\": \"2021-06-18 09:30:28\", \"elapsed\": 557.583728, \"delta\": 2.382331}}\n",
    "\n",
    "{\"target\": -10.189788195327274, \"params\": {\"C\": 106.34314342077398, \"gamma\": 0.19081778184382325}, \"datetime\": {\"datetime\": \"2021-06-18 09:25:14\", \"elapsed\": 243.842363, \"delta\": 1.564244}}\n",
    "\n",
    "{\"target\": -9.288636246050661, \"params\": {\"C\": 7.115276433808854, \"gamma\": 1.2427971926254497}, \"datetime\": {\"datetime\": \"2021-06-17 22:00:42\", \"elapsed\": 17.409482, \"delta\": 0.274522}}\n",
    "\n",
    "{\"target\": -9.390351622404006, \"params\": {\"C\": 5.56244671588079, \"gamma\": 1.364638611084284}, \"datetime\": {\"datetime\": \"2021-06-17 22:00:46\", \"elapsed\": 20.634438, \"delta\": 0.291262}}\n",
    "\n",
    "{\"target\": -9.273151468081213, \"params\": {\"C\": 7.429108586210357, \"gamma\": 1.1682991477100433}, \"datetime\": {\"datetime\": \"2021-06-17 22:00:57\", \"elapsed\": 32.137852, \"delta\": 0.900288}}\n",
    "\n",
    "{\"target\": -9.398309483014152, \"params\": {\"C\": 7.263608156940218, \"gamma\": 0.9419059306485307}, \"datetime\": {\"datetime\": \"2021-06-17 22:00:55\", \"elapsed\": 29.812497, \"delta\": 0.961556}}\n",
    "\n",
    "{\"target\": -9.269896691232166, \"params\": {\"C\": 7.433926922431135, \"gamma\": 1.1756996388768455}, \"datetime\": {\"datetime\": \"2021-06-17 22:01:07\", \"elapsed\": 42.054071, \"delta\": 0.86324}}\n",
    "\n",
    "{\"target\": -9.348638522020378, \"params\": {\"C\": 9.703492422040622, \"gamma\": 0.8721642844446199}, \"datetime\": {\"datetime\": \"2021-06-17 22:01:44\", \"elapsed\": 79.309359, \"delta\": 1.381108}}\n",
    "\n",
    "{\"target\": -9.286146249516818, \"params\": {\"C\": 8.41359372018643, \"gamma\": 1.070185910497249}, \"datetime\": {\"datetime\": \"2021-06-17 22:03:09\", \"elapsed\": 164.505163, \"delta\": 1.244778}}\n",
    "\n",
    "{\"target\": -9.297613526377074, \"params\": {\"C\": 9.784500524430815, \"gamma\": 1.155192591018298}, \"datetime\": {\"datetime\": \"2021-06-17 22:04:05\", \"elapsed\": 219.5999, \"delta\": 1.163145}}\n",
    "\n",
    "{\"target\": -9.27036097690317, \"params\": {\"C\": 9.030072196367662, \"gamma\": 1.0975712875360908}, \"datetime\": {\"datetime\": \"2021-06-17 22:04:20\", \"elapsed\": 234.94536, \"delta\": 1.210502}}\n",
    "\n",
    "{\"target\": -9.269694966254036, \"params\": {\"C\": 9.470540429368913, \"gamma\": 1.038282143064161}, \"datetime\": {\"datetime\": \"2021-06-17 22:04:32\", \"elapsed\": 246.894324, \"delta\": 1.186165}}\n",
    "\n",
    "{\"target\": -9.339703800205426, \"params\": {\"C\": 8.05208254958713, \"gamma\": 0.99417278582112}, \"datetime\": {\"datetime\": \"2021-06-17 22:04:53\", \"elapsed\": 268.057744, \"delta\": 1.40043}}\n",
    "\n",
    "{\"target\": -9.275239984640043, \"params\": {\"C\": 8.597610101717859, \"gamma\": 1.1643192103084814}, \"datetime\": {\"datetime\": \"2021-06-17 22:08:19\", \"elapsed\": 473.867519, \"delta\": 1.671379}}\n",
    "\n",
    "{\"target\": -9.271419721641024, \"params\": {\"C\": 7.96671064923825, \"gamma\": 1.2037037725528934}, \"datetime\": {\"datetime\": \"2021-06-17 22:08:41\", \"elapsed\": 495.740782, \"delta\": 2.890053}}\n",
    "\n",
    "{\"target\": -9.26732766401765, \"params\": {\"C\": 7.628874476243877, \"gamma\": 1.1659271563361087}, \"datetime\": {\"datetime\": \"2021-06-17 22:10:41\", \"elapsed\": 616.10778, \"delta\": 2.225994}}"
   ]
  },
  {
   "cell_type": "code",
   "execution_count": null,
   "metadata": {},
   "outputs": [],
   "source": [
    "# from bayes_opt.util import load_logs\n",
    "\n",
    "\n",
    "# new_optimizer = BayesianOptimization(\n",
    "#     f=black_box_function,\n",
    "#     pbounds={\"x\": (-2, 2), \"y\": (-2, 2)},\n",
    "#     verbose=2,\n",
    "#     random_state=7,\n",
    "# )\n",
    "# log_path = Path().resolve() / \"Logs\" / \"test2.json\"\n",
    "# # New optimizer is loaded with previously seen points\n",
    "# load_logs(new_optimizer, logs=[\"./logs.json\"]);"
   ]
  }
 ],
 "metadata": {
  "kernelspec": {
   "display_name": "Python 3",
   "language": "python",
   "name": "python3"
  },
  "language_info": {
   "codemirror_mode": {
    "name": "ipython",
    "version": 3
   },
   "file_extension": ".py",
   "mimetype": "text/x-python",
   "name": "python",
   "nbconvert_exporter": "python",
   "pygments_lexer": "ipython3",
   "version": "3.7.7"
  },
  "toc": {
   "base_numbering": 1,
   "nav_menu": {},
   "number_sections": true,
   "sideBar": true,
   "skip_h1_title": false,
   "title_cell": "Table of Contents",
   "title_sidebar": "Contents",
   "toc_cell": false,
   "toc_position": {},
   "toc_section_display": true,
   "toc_window_display": false
  }
 },
 "nbformat": 4,
 "nbformat_minor": 4
}
