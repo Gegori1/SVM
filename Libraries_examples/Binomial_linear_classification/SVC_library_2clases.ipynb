{
 "cells": [
  {
   "cell_type": "code",
   "execution_count": 1,
   "metadata": {
    "ExecuteTime": {
     "end_time": "2021-03-11T17:50:05.510728Z",
     "start_time": "2021-03-11T17:50:05.473563Z"
    }
   },
   "outputs": [],
   "source": [
    "class SVM_linear():\n",
    "    def __init__(self, C=0.1):\n",
    "        from sklearn.metrics.pairwise import linear_kernel\n",
    "        from cvxopt import solvers, matrix\n",
    "        self.C = C\n",
    "        self.linear_kernel = linear_kernel\n",
    "        self.matrix = matrix\n",
    "        self.solvers = solvers\n",
    "        \n",
    "    # learn   \n",
    "    def fit(self, X, y):\n",
    "        \n",
    "        # label preprocessing\n",
    "        a = np.unique(y); c = np.array([1, -1])\n",
    "        y = np.where(y == a[0], c[0], c[1])\n",
    "        \n",
    "        # pre_matrices\n",
    "        H = self.linear_kernel(X, X); Y = np.outer(y, y)\n",
    "        Q = np.multiply(Y, H); q = -np.ones(y.shape)\n",
    "        A = np.array(y.reshape(1, -1), dtype = \"float64\"); b = 0.0\n",
    "        ydim = y.shape[0]\n",
    "        G = np.concatenate((np.identity(ydim), -np.identity(ydim)))\n",
    "        h_ = np.concatenate((self.C*np.ones(ydim), np.zeros(ydim))); h = h_.reshape(-1, 1)\n",
    "        \n",
    "        # matrices for the solver\n",
    "        matrix = self.matrix\n",
    "        Q = matrix(Q); q = matrix(q)\n",
    "        A = matrix(A); b = matrix(b)\n",
    "        G = matrix(G); h = matrix(h)\n",
    "        # solver\n",
    "        solvers = self.solvers\n",
    "        solvers.options['show_progress']=False\n",
    "        sol=solvers.qp(P=Q, q=q,G=G,h=h, A=A, b=b)\n",
    "        \n",
    "        # alphas threshhold and svs\n",
    "        alphas = np.array(sol['x']); indx = alphas > 1e-10 \n",
    "        alpha_sv = alphas[indx]; x_sv = X[indx[:,0],:]; y_sv = y[indx[:,0]]\n",
    "\n",
    "        # a_k * y_k * x_k\n",
    "        ayx = np.multiply((alpha_sv*y_sv).reshape(-1, 1), x_sv) \n",
    "        # w and b\n",
    "        w = np.sum(ayx, axis=0)\n",
    "        b = np.mean(y-np.dot(X,w))\n",
    "        \n",
    "        self.w = w; self.b = b; self.c = c; self.a = a\n",
    "        return self\n",
    "    \n",
    "    # predict\n",
    "    def predict(self, X_test):\n",
    "        c = self.c; a = self.a\n",
    "        predict1 = np.sign(np.dot(self.w, X_test.T) + self.b)\n",
    "        predict2 = np.where(predict1 == c[0], a[0], a[1])\n",
    "        return predict2\n",
    "    \n",
    "    # coefficients\n",
    "    def coef_(self):\n",
    "        return self.w, self.b"
   ]
  },
  {
   "cell_type": "code",
   "execution_count": 2,
   "metadata": {
    "ExecuteTime": {
     "end_time": "2021-03-10T20:36:58.173724Z",
     "start_time": "2021-03-10T20:36:58.152252Z"
    }
   },
   "outputs": [],
   "source": [
    "class plott:\n",
    "    @staticmethod\n",
    "    def line(X, w, b):\n",
    "        xmin, xmax = min(X[:,0])-1, max(X[:,0]+1)\n",
    "        X_ = np.arange(xmin, xmax, 0.1)\n",
    "    \n",
    "        plt.plot(X_,(-w[0]*X_-b)/w[1])\n",
    "    \n",
    "    @staticmethod\n",
    "    def scatter(X, y, m = \"o\"):\n",
    "        plt.scatter(X[:,0], X[:,1], c = y, marker = m)"
   ]
  },
  {
   "cell_type": "code",
   "execution_count": null,
   "metadata": {},
   "outputs": [],
   "source": [
    "class contour_plott:\n",
    "    @staticmethod\n",
    "    def color(X, y):\n",
    "        h = .02\n",
    "        x_min, x_max = X[:, 0].min() - 1, X[:, 0].max() + 1\n",
    "        y_min, y_max = X[:, 1].min() - 1, X[:, 1].max() + 1\n",
    "        xx, yy = np.meshgrid(np.arange(x_min, x_max, h),np.arange(y_min, y_max, h))\n",
    "        \n",
    "        Z = SVM_linear().fit(X, y).predict(np.c_[xx.ravel(), yy.ravel()])\n",
    "        Z = Z.reshape(xx.shape)\n",
    "\n",
    "        plt.contourf(xx, yy, Z, cmap=plt.cm.coolwarm, alpha=0.8)"
   ]
  }
 ],
 "metadata": {
  "kernelspec": {
   "display_name": "Python 3",
   "language": "python",
   "name": "python3"
  },
  "language_info": {
   "codemirror_mode": {
    "name": "ipython",
    "version": 3
   },
   "file_extension": ".py",
   "mimetype": "text/x-python",
   "name": "python",
   "nbconvert_exporter": "python",
   "pygments_lexer": "ipython3",
   "version": "3.7.7"
  },
  "toc": {
   "base_numbering": 1,
   "nav_menu": {},
   "number_sections": true,
   "sideBar": true,
   "skip_h1_title": false,
   "title_cell": "Table of Contents",
   "title_sidebar": "Contents",
   "toc_cell": false,
   "toc_position": {},
   "toc_section_display": true,
   "toc_window_display": false
  }
 },
 "nbformat": 4,
 "nbformat_minor": 4
}
