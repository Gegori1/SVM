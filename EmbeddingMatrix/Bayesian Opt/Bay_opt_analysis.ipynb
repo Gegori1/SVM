{
 "cells": [
  {
   "cell_type": "markdown",
   "metadata": {},
   "source": [
    "File to observe mapping of hyperparameters and target values obtained from Bayesian optimization, optimizing for electricity demand forecasting, over MAPE"
   ]
  },
  {
   "cell_type": "code",
   "execution_count": 1,
   "metadata": {
    "ExecuteTime": {
     "end_time": "2021-08-25T17:33:21.100045Z",
     "start_time": "2021-08-25T17:33:21.082010Z"
    }
   },
   "outputs": [],
   "source": [
    "### Libraries"
   ]
  },
  {
   "cell_type": "code",
   "execution_count": 2,
   "metadata": {
    "ExecuteTime": {
     "end_time": "2021-08-25T17:33:25.924159Z",
     "start_time": "2021-08-25T17:33:21.310012Z"
    }
   },
   "outputs": [],
   "source": [
    "import numpy as np\n",
    "import pandas as pd\n",
    "from pathlib import Path\n",
    "import matplotlib.pyplot as plt \n",
    "import plotly.express as px"
   ]
  },
  {
   "cell_type": "markdown",
   "metadata": {
    "heading_collapsed": true
   },
   "source": [
    "# Ridge Regression"
   ]
  },
  {
   "cell_type": "markdown",
   "metadata": {
    "ExecuteTime": {
     "end_time": "2021-06-28T19:19:01.354500Z",
     "start_time": "2021-06-28T19:19:01.335502Z"
    },
    "hidden": true
   },
   "source": [
    "## load data"
   ]
  },
  {
   "cell_type": "code",
   "execution_count": 223,
   "metadata": {
    "ExecuteTime": {
     "end_time": "2021-08-25T22:04:47.857624Z",
     "start_time": "2021-08-25T22:04:47.820297Z"
    },
    "hidden": true
   },
   "outputs": [],
   "source": [
    "jsn_path = Path().resolve() / \"Logs\" / \"Ridge.json\"\n",
    "data = pd.read_json(jsn_path , lines = True).drop([\"datetime\"], axis = 1)"
   ]
  },
  {
   "cell_type": "markdown",
   "metadata": {
    "ExecuteTime": {
     "end_time": "2021-06-28T19:19:01.759647Z",
     "start_time": "2021-06-28T19:19:01.744648Z"
    },
    "hidden": true
   },
   "source": [
    "## convert data"
   ]
  },
  {
   "cell_type": "code",
   "execution_count": 224,
   "metadata": {
    "ExecuteTime": {
     "end_time": "2021-08-25T22:04:48.511411Z",
     "start_time": "2021-08-25T22:04:48.496408Z"
    },
    "hidden": true
   },
   "outputs": [],
   "source": [
    "params = pd.json_normalize(data['params'])"
   ]
  },
  {
   "cell_type": "code",
   "execution_count": 225,
   "metadata": {
    "ExecuteTime": {
     "end_time": "2021-08-25T22:04:48.776652Z",
     "start_time": "2021-08-25T22:04:48.752555Z"
    },
    "hidden": true
   },
   "outputs": [],
   "source": [
    "df = pd.concat([data[[\"target\"]]*-1, params], axis = 1)"
   ]
  },
  {
   "cell_type": "markdown",
   "metadata": {
    "ExecuteTime": {
     "end_time": "2021-06-28T19:19:02.241018Z",
     "start_time": "2021-06-28T19:19:02.236988Z"
    },
    "hidden": true
   },
   "source": [
    "## plot"
   ]
  },
  {
   "cell_type": "code",
   "execution_count": 226,
   "metadata": {
    "ExecuteTime": {
     "end_time": "2021-08-25T22:04:49.402516Z",
     "start_time": "2021-08-25T22:04:49.376403Z"
    },
    "hidden": true
   },
   "outputs": [],
   "source": [
    "df1 = df.query(\"alpha < 0.1\")\n",
    "# df2 = df.query(\"target < 4\")\n",
    "# df3 = df.query(\"C > 9.9 & target < 3\")"
   ]
  },
  {
   "cell_type": "code",
   "execution_count": 228,
   "metadata": {
    "ExecuteTime": {
     "end_time": "2021-08-25T22:04:50.026865Z",
     "start_time": "2021-08-25T22:04:49.997863Z"
    },
    "hidden": true
   },
   "outputs": [
    {
     "data": {
      "text/html": [
       "<div>\n",
       "<style scoped>\n",
       "    .dataframe tbody tr th:only-of-type {\n",
       "        vertical-align: middle;\n",
       "    }\n",
       "\n",
       "    .dataframe tbody tr th {\n",
       "        vertical-align: top;\n",
       "    }\n",
       "\n",
       "    .dataframe thead th {\n",
       "        text-align: right;\n",
       "    }\n",
       "</style>\n",
       "<table border=\"1\" class=\"dataframe\">\n",
       "  <thead>\n",
       "    <tr style=\"text-align: right;\">\n",
       "      <th></th>\n",
       "      <th>target</th>\n",
       "      <th>alpha</th>\n",
       "    </tr>\n",
       "  </thead>\n",
       "  <tbody>\n",
       "    <tr>\n",
       "      <th>0</th>\n",
       "      <td>6.698901</td>\n",
       "      <td>72.035246</td>\n",
       "    </tr>\n",
       "    <tr>\n",
       "      <th>1</th>\n",
       "      <td>3.728553</td>\n",
       "      <td>0.021436</td>\n",
       "    </tr>\n",
       "  </tbody>\n",
       "</table>\n",
       "</div>"
      ],
      "text/plain": [
       "     target      alpha\n",
       "0  6.698901  72.035246\n",
       "1  3.728553   0.021436"
      ]
     },
     "execution_count": 228,
     "metadata": {},
     "output_type": "execute_result"
    }
   ],
   "source": [
    "df.head(2)"
   ]
  },
  {
   "cell_type": "code",
   "execution_count": 229,
   "metadata": {
    "ExecuteTime": {
     "end_time": "2021-08-25T22:04:51.430245Z",
     "start_time": "2021-08-25T22:04:50.526074Z"
    },
    "hidden": true
   },
   "outputs": [
    {
     "data": {
      "application/vnd.plotly.v1+json": {
       "config": {
        "plotlyServerURL": "https://plot.ly"
       },
       "data": [
        {
         "hoverlabel": {
          "namelength": 0
         },
         "hovertemplate": "target=%{x}<br>alpha=%{y}",
         "legendgroup": "",
         "marker": {
          "color": "#636efa",
          "symbol": "circle"
         },
         "mode": "markers",
         "name": "",
         "showlegend": false,
         "type": "scatter",
         "x": [
          3.728552601027012,
          3.653867291964461,
          3.634027975838685,
          3.739826820282092,
          3.644757294975578,
          4.154460244866131,
          3.542387033306476,
          4.01355319684037,
          3.788286739316492,
          3.542165665465348,
          3.542165665465348,
          3.542165665465348,
          3.542165665465348,
          3.542165671655515,
          4.154460244866131,
          3.542387033306476,
          4.01355319684037,
          3.788286739316492,
          3.542165665465348,
          3.542165665465348,
          3.542165665465348,
          3.542165665465348,
          3.542165671655515,
          4.15475616388152,
          3.543257416478191,
          4.013973222634692,
          3.78884469204065,
          3.543036357934822,
          3.543036357934822,
          3.543036357934822,
          3.543036357934822,
          3.54303635885678,
          3.54303635885678,
          3.54303635885678,
          3.54303635885678,
          3.54303635885678,
          4.15475616388152,
          3.543257416478191,
          4.013973222634692,
          3.78884469204065,
          3.543036357934822,
          3.543036357934822,
          3.543036357934822,
          3.543036357934822,
          3.54303635885678,
          3.54303635885678,
          3.54303635885678,
          3.54303635885678,
          3.54303635885678,
          4.157709286836191,
          3.551916098060514,
          4.018162219670162,
          3.7944029591605313,
          3.55169810556555,
          3.551698139508786,
          3.551698139508786,
          3.551698139508786,
          3.5516981967603423,
          3.55169811023222,
          3.551698268411644,
          3.5516981665161342,
          3.5516981055655723,
          3.5516981055655723,
          3.551698137338565,
          3.551698137338565,
          3.551698137338565,
          3.551698137338565,
          3.551698137338565,
          3.551698124713932,
          3.551698124713932,
          3.551698509163291,
          3.551698509163291,
          3.551699378870884,
          3.551699378870884,
          4.154460244866131,
          3.542387033306476,
          4.01355319684037,
          3.788286739316492,
          3.542165665465348,
          3.542165665465348,
          3.542165665465348,
          3.542165665465348,
          3.542165671655515
         ],
         "xaxis": "x",
         "y": [
          0.021436337986315,
          0.012296874100829,
          0.01,
          0.022887914822697003,
          0.011235672813966001,
          0.08341023072046701,
          3.2873819720803885e-05,
          0.06047349120064101,
          0.029359710604514002,
          1e-05,
          1e-05,
          1e-05,
          1e-05,
          1.0000639549872561e-05,
          0.08341023072046701,
          3.2873819720803885e-05,
          0.06047349120064101,
          0.029359710604514002,
          1e-05,
          1e-05,
          1e-05,
          1e-05,
          1.0000639549872561e-05,
          0.083462698740044,
          0.00012286352598700001,
          0.06053628126910401,
          0.029436502574340002,
          0.0001,
          0.0001,
          0.0001,
          0.0001,
          0.00010000009534500001,
          0.00010000009534500001,
          0.00010000009534500001,
          0.00010000009534500001,
          0.00010000009534500001,
          0.083462698740044,
          0.00012286352598700001,
          0.06053628126910401,
          0.029436502574340002,
          0.0001,
          0.0001,
          0.0001,
          0.0001,
          0.00010000009534500001,
          0.00010000009534500001,
          0.00010000009534500001,
          0.00010000009534500001,
          0.00010000009534500001,
          0.08398737893581201,
          0.001022760588651,
          0.061164181953736005,
          0.030204422272605003,
          0.001,
          0.0010000035435890002,
          0.0010000035435890002,
          0.0010000035435890002,
          0.001000009520508,
          0.001000000487185,
          0.0010000170007260002,
          0.001000006363087,
          0.001000000000001,
          0.001000000000001,
          0.001000003317022,
          0.001000003317022,
          0.001000003317022,
          0.001000003317022,
          0.001000003317022,
          0.001000001999041,
          0.001000001999041,
          0.001000042134609,
          0.001000042134609,
          0.0010001329300010002,
          0.0010001329300010002,
          0.08341023072046701,
          3.2873819720803885e-05,
          0.06047349120064101,
          0.029359710604514002,
          1e-05,
          1e-05,
          1e-05,
          1e-05,
          1.0000639549872561e-05
         ],
         "yaxis": "y"
        }
       ],
       "layout": {
        "height": 600,
        "legend": {
         "tracegroupgap": 0
        },
        "margin": {
         "t": 60
        },
        "template": {
         "data": {
          "bar": [
           {
            "error_x": {
             "color": "#2a3f5f"
            },
            "error_y": {
             "color": "#2a3f5f"
            },
            "marker": {
             "line": {
              "color": "#E5ECF6",
              "width": 0.5
             }
            },
            "type": "bar"
           }
          ],
          "barpolar": [
           {
            "marker": {
             "line": {
              "color": "#E5ECF6",
              "width": 0.5
             }
            },
            "type": "barpolar"
           }
          ],
          "carpet": [
           {
            "aaxis": {
             "endlinecolor": "#2a3f5f",
             "gridcolor": "white",
             "linecolor": "white",
             "minorgridcolor": "white",
             "startlinecolor": "#2a3f5f"
            },
            "baxis": {
             "endlinecolor": "#2a3f5f",
             "gridcolor": "white",
             "linecolor": "white",
             "minorgridcolor": "white",
             "startlinecolor": "#2a3f5f"
            },
            "type": "carpet"
           }
          ],
          "choropleth": [
           {
            "colorbar": {
             "outlinewidth": 0,
             "ticks": ""
            },
            "type": "choropleth"
           }
          ],
          "contour": [
           {
            "colorbar": {
             "outlinewidth": 0,
             "ticks": ""
            },
            "colorscale": [
             [
              0,
              "#0d0887"
             ],
             [
              0.1111111111111111,
              "#46039f"
             ],
             [
              0.2222222222222222,
              "#7201a8"
             ],
             [
              0.3333333333333333,
              "#9c179e"
             ],
             [
              0.4444444444444444,
              "#bd3786"
             ],
             [
              0.5555555555555556,
              "#d8576b"
             ],
             [
              0.6666666666666666,
              "#ed7953"
             ],
             [
              0.7777777777777778,
              "#fb9f3a"
             ],
             [
              0.8888888888888888,
              "#fdca26"
             ],
             [
              1,
              "#f0f921"
             ]
            ],
            "type": "contour"
           }
          ],
          "contourcarpet": [
           {
            "colorbar": {
             "outlinewidth": 0,
             "ticks": ""
            },
            "type": "contourcarpet"
           }
          ],
          "heatmap": [
           {
            "colorbar": {
             "outlinewidth": 0,
             "ticks": ""
            },
            "colorscale": [
             [
              0,
              "#0d0887"
             ],
             [
              0.1111111111111111,
              "#46039f"
             ],
             [
              0.2222222222222222,
              "#7201a8"
             ],
             [
              0.3333333333333333,
              "#9c179e"
             ],
             [
              0.4444444444444444,
              "#bd3786"
             ],
             [
              0.5555555555555556,
              "#d8576b"
             ],
             [
              0.6666666666666666,
              "#ed7953"
             ],
             [
              0.7777777777777778,
              "#fb9f3a"
             ],
             [
              0.8888888888888888,
              "#fdca26"
             ],
             [
              1,
              "#f0f921"
             ]
            ],
            "type": "heatmap"
           }
          ],
          "heatmapgl": [
           {
            "colorbar": {
             "outlinewidth": 0,
             "ticks": ""
            },
            "colorscale": [
             [
              0,
              "#0d0887"
             ],
             [
              0.1111111111111111,
              "#46039f"
             ],
             [
              0.2222222222222222,
              "#7201a8"
             ],
             [
              0.3333333333333333,
              "#9c179e"
             ],
             [
              0.4444444444444444,
              "#bd3786"
             ],
             [
              0.5555555555555556,
              "#d8576b"
             ],
             [
              0.6666666666666666,
              "#ed7953"
             ],
             [
              0.7777777777777778,
              "#fb9f3a"
             ],
             [
              0.8888888888888888,
              "#fdca26"
             ],
             [
              1,
              "#f0f921"
             ]
            ],
            "type": "heatmapgl"
           }
          ],
          "histogram": [
           {
            "marker": {
             "colorbar": {
              "outlinewidth": 0,
              "ticks": ""
             }
            },
            "type": "histogram"
           }
          ],
          "histogram2d": [
           {
            "colorbar": {
             "outlinewidth": 0,
             "ticks": ""
            },
            "colorscale": [
             [
              0,
              "#0d0887"
             ],
             [
              0.1111111111111111,
              "#46039f"
             ],
             [
              0.2222222222222222,
              "#7201a8"
             ],
             [
              0.3333333333333333,
              "#9c179e"
             ],
             [
              0.4444444444444444,
              "#bd3786"
             ],
             [
              0.5555555555555556,
              "#d8576b"
             ],
             [
              0.6666666666666666,
              "#ed7953"
             ],
             [
              0.7777777777777778,
              "#fb9f3a"
             ],
             [
              0.8888888888888888,
              "#fdca26"
             ],
             [
              1,
              "#f0f921"
             ]
            ],
            "type": "histogram2d"
           }
          ],
          "histogram2dcontour": [
           {
            "colorbar": {
             "outlinewidth": 0,
             "ticks": ""
            },
            "colorscale": [
             [
              0,
              "#0d0887"
             ],
             [
              0.1111111111111111,
              "#46039f"
             ],
             [
              0.2222222222222222,
              "#7201a8"
             ],
             [
              0.3333333333333333,
              "#9c179e"
             ],
             [
              0.4444444444444444,
              "#bd3786"
             ],
             [
              0.5555555555555556,
              "#d8576b"
             ],
             [
              0.6666666666666666,
              "#ed7953"
             ],
             [
              0.7777777777777778,
              "#fb9f3a"
             ],
             [
              0.8888888888888888,
              "#fdca26"
             ],
             [
              1,
              "#f0f921"
             ]
            ],
            "type": "histogram2dcontour"
           }
          ],
          "mesh3d": [
           {
            "colorbar": {
             "outlinewidth": 0,
             "ticks": ""
            },
            "type": "mesh3d"
           }
          ],
          "parcoords": [
           {
            "line": {
             "colorbar": {
              "outlinewidth": 0,
              "ticks": ""
             }
            },
            "type": "parcoords"
           }
          ],
          "scatter": [
           {
            "marker": {
             "colorbar": {
              "outlinewidth": 0,
              "ticks": ""
             }
            },
            "type": "scatter"
           }
          ],
          "scatter3d": [
           {
            "line": {
             "colorbar": {
              "outlinewidth": 0,
              "ticks": ""
             }
            },
            "marker": {
             "colorbar": {
              "outlinewidth": 0,
              "ticks": ""
             }
            },
            "type": "scatter3d"
           }
          ],
          "scattercarpet": [
           {
            "marker": {
             "colorbar": {
              "outlinewidth": 0,
              "ticks": ""
             }
            },
            "type": "scattercarpet"
           }
          ],
          "scattergeo": [
           {
            "marker": {
             "colorbar": {
              "outlinewidth": 0,
              "ticks": ""
             }
            },
            "type": "scattergeo"
           }
          ],
          "scattergl": [
           {
            "marker": {
             "colorbar": {
              "outlinewidth": 0,
              "ticks": ""
             }
            },
            "type": "scattergl"
           }
          ],
          "scattermapbox": [
           {
            "marker": {
             "colorbar": {
              "outlinewidth": 0,
              "ticks": ""
             }
            },
            "type": "scattermapbox"
           }
          ],
          "scatterpolar": [
           {
            "marker": {
             "colorbar": {
              "outlinewidth": 0,
              "ticks": ""
             }
            },
            "type": "scatterpolar"
           }
          ],
          "scatterpolargl": [
           {
            "marker": {
             "colorbar": {
              "outlinewidth": 0,
              "ticks": ""
             }
            },
            "type": "scatterpolargl"
           }
          ],
          "scatterternary": [
           {
            "marker": {
             "colorbar": {
              "outlinewidth": 0,
              "ticks": ""
             }
            },
            "type": "scatterternary"
           }
          ],
          "surface": [
           {
            "colorbar": {
             "outlinewidth": 0,
             "ticks": ""
            },
            "colorscale": [
             [
              0,
              "#0d0887"
             ],
             [
              0.1111111111111111,
              "#46039f"
             ],
             [
              0.2222222222222222,
              "#7201a8"
             ],
             [
              0.3333333333333333,
              "#9c179e"
             ],
             [
              0.4444444444444444,
              "#bd3786"
             ],
             [
              0.5555555555555556,
              "#d8576b"
             ],
             [
              0.6666666666666666,
              "#ed7953"
             ],
             [
              0.7777777777777778,
              "#fb9f3a"
             ],
             [
              0.8888888888888888,
              "#fdca26"
             ],
             [
              1,
              "#f0f921"
             ]
            ],
            "type": "surface"
           }
          ],
          "table": [
           {
            "cells": {
             "fill": {
              "color": "#EBF0F8"
             },
             "line": {
              "color": "white"
             }
            },
            "header": {
             "fill": {
              "color": "#C8D4E3"
             },
             "line": {
              "color": "white"
             }
            },
            "type": "table"
           }
          ]
         },
         "layout": {
          "annotationdefaults": {
           "arrowcolor": "#2a3f5f",
           "arrowhead": 0,
           "arrowwidth": 1
          },
          "colorscale": {
           "diverging": [
            [
             0,
             "#8e0152"
            ],
            [
             0.1,
             "#c51b7d"
            ],
            [
             0.2,
             "#de77ae"
            ],
            [
             0.3,
             "#f1b6da"
            ],
            [
             0.4,
             "#fde0ef"
            ],
            [
             0.5,
             "#f7f7f7"
            ],
            [
             0.6,
             "#e6f5d0"
            ],
            [
             0.7,
             "#b8e186"
            ],
            [
             0.8,
             "#7fbc41"
            ],
            [
             0.9,
             "#4d9221"
            ],
            [
             1,
             "#276419"
            ]
           ],
           "sequential": [
            [
             0,
             "#0d0887"
            ],
            [
             0.1111111111111111,
             "#46039f"
            ],
            [
             0.2222222222222222,
             "#7201a8"
            ],
            [
             0.3333333333333333,
             "#9c179e"
            ],
            [
             0.4444444444444444,
             "#bd3786"
            ],
            [
             0.5555555555555556,
             "#d8576b"
            ],
            [
             0.6666666666666666,
             "#ed7953"
            ],
            [
             0.7777777777777778,
             "#fb9f3a"
            ],
            [
             0.8888888888888888,
             "#fdca26"
            ],
            [
             1,
             "#f0f921"
            ]
           ],
           "sequentialminus": [
            [
             0,
             "#0d0887"
            ],
            [
             0.1111111111111111,
             "#46039f"
            ],
            [
             0.2222222222222222,
             "#7201a8"
            ],
            [
             0.3333333333333333,
             "#9c179e"
            ],
            [
             0.4444444444444444,
             "#bd3786"
            ],
            [
             0.5555555555555556,
             "#d8576b"
            ],
            [
             0.6666666666666666,
             "#ed7953"
            ],
            [
             0.7777777777777778,
             "#fb9f3a"
            ],
            [
             0.8888888888888888,
             "#fdca26"
            ],
            [
             1,
             "#f0f921"
            ]
           ]
          },
          "colorway": [
           "#636efa",
           "#EF553B",
           "#00cc96",
           "#ab63fa",
           "#FFA15A",
           "#19d3f3",
           "#FF6692",
           "#B6E880",
           "#FF97FF",
           "#FECB52"
          ],
          "font": {
           "color": "#2a3f5f"
          },
          "geo": {
           "bgcolor": "white",
           "lakecolor": "white",
           "landcolor": "#E5ECF6",
           "showlakes": true,
           "showland": true,
           "subunitcolor": "white"
          },
          "hoverlabel": {
           "align": "left"
          },
          "hovermode": "closest",
          "mapbox": {
           "style": "light"
          },
          "paper_bgcolor": "white",
          "plot_bgcolor": "#E5ECF6",
          "polar": {
           "angularaxis": {
            "gridcolor": "white",
            "linecolor": "white",
            "ticks": ""
           },
           "bgcolor": "#E5ECF6",
           "radialaxis": {
            "gridcolor": "white",
            "linecolor": "white",
            "ticks": ""
           }
          },
          "scene": {
           "xaxis": {
            "backgroundcolor": "#E5ECF6",
            "gridcolor": "white",
            "gridwidth": 2,
            "linecolor": "white",
            "showbackground": true,
            "ticks": "",
            "zerolinecolor": "white"
           },
           "yaxis": {
            "backgroundcolor": "#E5ECF6",
            "gridcolor": "white",
            "gridwidth": 2,
            "linecolor": "white",
            "showbackground": true,
            "ticks": "",
            "zerolinecolor": "white"
           },
           "zaxis": {
            "backgroundcolor": "#E5ECF6",
            "gridcolor": "white",
            "gridwidth": 2,
            "linecolor": "white",
            "showbackground": true,
            "ticks": "",
            "zerolinecolor": "white"
           }
          },
          "shapedefaults": {
           "line": {
            "color": "#2a3f5f"
           }
          },
          "ternary": {
           "aaxis": {
            "gridcolor": "white",
            "linecolor": "white",
            "ticks": ""
           },
           "baxis": {
            "gridcolor": "white",
            "linecolor": "white",
            "ticks": ""
           },
           "bgcolor": "#E5ECF6",
           "caxis": {
            "gridcolor": "white",
            "linecolor": "white",
            "ticks": ""
           }
          },
          "title": {
           "x": 0.05
          },
          "xaxis": {
           "automargin": true,
           "gridcolor": "white",
           "linecolor": "white",
           "ticks": "",
           "zerolinecolor": "white",
           "zerolinewidth": 2
          },
          "yaxis": {
           "automargin": true,
           "gridcolor": "white",
           "linecolor": "white",
           "ticks": "",
           "zerolinecolor": "white",
           "zerolinewidth": 2
          }
         }
        },
        "xaxis": {
         "anchor": "y",
         "domain": [
          0,
          0.98
         ],
         "title": {
          "text": "target"
         }
        },
        "yaxis": {
         "anchor": "x",
         "domain": [
          0,
          1
         ],
         "title": {
          "text": "alpha"
         }
        }
       }
      },
      "text/html": [
       "<div>\n",
       "        \n",
       "        \n",
       "            <div id=\"219808ac-8e33-4c80-b9c6-a18bb6d1fb7a\" class=\"plotly-graph-div\" style=\"height:600px; width:100%;\"></div>\n",
       "            <script type=\"text/javascript\">\n",
       "                require([\"plotly\"], function(Plotly) {\n",
       "                    window.PLOTLYENV=window.PLOTLYENV || {};\n",
       "                    \n",
       "                if (document.getElementById(\"219808ac-8e33-4c80-b9c6-a18bb6d1fb7a\")) {\n",
       "                    Plotly.newPlot(\n",
       "                        '219808ac-8e33-4c80-b9c6-a18bb6d1fb7a',\n",
       "                        [{\"hoverlabel\": {\"namelength\": 0}, \"hovertemplate\": \"target=%{x}<br>alpha=%{y}\", \"legendgroup\": \"\", \"marker\": {\"color\": \"#636efa\", \"symbol\": \"circle\"}, \"mode\": \"markers\", \"name\": \"\", \"showlegend\": false, \"type\": \"scatter\", \"x\": [3.728552601027012, 3.653867291964461, 3.634027975838685, 3.739826820282092, 3.644757294975578, 4.154460244866131, 3.542387033306476, 4.01355319684037, 3.788286739316492, 3.542165665465348, 3.542165665465348, 3.542165665465348, 3.542165665465348, 3.542165671655515, 4.154460244866131, 3.542387033306476, 4.01355319684037, 3.788286739316492, 3.542165665465348, 3.542165665465348, 3.542165665465348, 3.542165665465348, 3.542165671655515, 4.15475616388152, 3.543257416478191, 4.013973222634692, 3.78884469204065, 3.543036357934822, 3.543036357934822, 3.543036357934822, 3.543036357934822, 3.54303635885678, 3.54303635885678, 3.54303635885678, 3.54303635885678, 3.54303635885678, 4.15475616388152, 3.543257416478191, 4.013973222634692, 3.78884469204065, 3.543036357934822, 3.543036357934822, 3.543036357934822, 3.543036357934822, 3.54303635885678, 3.54303635885678, 3.54303635885678, 3.54303635885678, 3.54303635885678, 4.157709286836191, 3.551916098060514, 4.018162219670162, 3.7944029591605313, 3.55169810556555, 3.551698139508786, 3.551698139508786, 3.551698139508786, 3.5516981967603423, 3.55169811023222, 3.551698268411644, 3.5516981665161342, 3.5516981055655723, 3.5516981055655723, 3.551698137338565, 3.551698137338565, 3.551698137338565, 3.551698137338565, 3.551698137338565, 3.551698124713932, 3.551698124713932, 3.551698509163291, 3.551698509163291, 3.551699378870884, 3.551699378870884, 4.154460244866131, 3.542387033306476, 4.01355319684037, 3.788286739316492, 3.542165665465348, 3.542165665465348, 3.542165665465348, 3.542165665465348, 3.542165671655515], \"xaxis\": \"x\", \"y\": [0.021436337986315, 0.012296874100829, 0.01, 0.022887914822697003, 0.011235672813966001, 0.08341023072046701, 3.2873819720803885e-05, 0.06047349120064101, 0.029359710604514002, 1e-05, 1e-05, 1e-05, 1e-05, 1.0000639549872561e-05, 0.08341023072046701, 3.2873819720803885e-05, 0.06047349120064101, 0.029359710604514002, 1e-05, 1e-05, 1e-05, 1e-05, 1.0000639549872561e-05, 0.083462698740044, 0.00012286352598700001, 0.06053628126910401, 0.029436502574340002, 0.0001, 0.0001, 0.0001, 0.0001, 0.00010000009534500001, 0.00010000009534500001, 0.00010000009534500001, 0.00010000009534500001, 0.00010000009534500001, 0.083462698740044, 0.00012286352598700001, 0.06053628126910401, 0.029436502574340002, 0.0001, 0.0001, 0.0001, 0.0001, 0.00010000009534500001, 0.00010000009534500001, 0.00010000009534500001, 0.00010000009534500001, 0.00010000009534500001, 0.08398737893581201, 0.001022760588651, 0.061164181953736005, 0.030204422272605003, 0.001, 0.0010000035435890002, 0.0010000035435890002, 0.0010000035435890002, 0.001000009520508, 0.001000000487185, 0.0010000170007260002, 0.001000006363087, 0.001000000000001, 0.001000000000001, 0.001000003317022, 0.001000003317022, 0.001000003317022, 0.001000003317022, 0.001000003317022, 0.001000001999041, 0.001000001999041, 0.001000042134609, 0.001000042134609, 0.0010001329300010002, 0.0010001329300010002, 0.08341023072046701, 3.2873819720803885e-05, 0.06047349120064101, 0.029359710604514002, 1e-05, 1e-05, 1e-05, 1e-05, 1.0000639549872561e-05], \"yaxis\": \"y\"}],\n",
       "                        {\"height\": 600, \"legend\": {\"tracegroupgap\": 0}, \"margin\": {\"t\": 60}, \"template\": {\"data\": {\"bar\": [{\"error_x\": {\"color\": \"#2a3f5f\"}, \"error_y\": {\"color\": \"#2a3f5f\"}, \"marker\": {\"line\": {\"color\": \"#E5ECF6\", \"width\": 0.5}}, \"type\": \"bar\"}], \"barpolar\": [{\"marker\": {\"line\": {\"color\": \"#E5ECF6\", \"width\": 0.5}}, \"type\": \"barpolar\"}], \"carpet\": [{\"aaxis\": {\"endlinecolor\": \"#2a3f5f\", \"gridcolor\": \"white\", \"linecolor\": \"white\", \"minorgridcolor\": \"white\", \"startlinecolor\": \"#2a3f5f\"}, \"baxis\": {\"endlinecolor\": \"#2a3f5f\", \"gridcolor\": \"white\", \"linecolor\": \"white\", \"minorgridcolor\": \"white\", \"startlinecolor\": \"#2a3f5f\"}, \"type\": \"carpet\"}], \"choropleth\": [{\"colorbar\": {\"outlinewidth\": 0, \"ticks\": \"\"}, \"type\": \"choropleth\"}], \"contour\": [{\"colorbar\": {\"outlinewidth\": 0, \"ticks\": \"\"}, \"colorscale\": [[0.0, \"#0d0887\"], [0.1111111111111111, \"#46039f\"], [0.2222222222222222, \"#7201a8\"], [0.3333333333333333, \"#9c179e\"], [0.4444444444444444, \"#bd3786\"], [0.5555555555555556, \"#d8576b\"], [0.6666666666666666, \"#ed7953\"], [0.7777777777777778, \"#fb9f3a\"], [0.8888888888888888, \"#fdca26\"], [1.0, \"#f0f921\"]], \"type\": \"contour\"}], \"contourcarpet\": [{\"colorbar\": {\"outlinewidth\": 0, \"ticks\": \"\"}, \"type\": \"contourcarpet\"}], \"heatmap\": [{\"colorbar\": {\"outlinewidth\": 0, \"ticks\": \"\"}, \"colorscale\": [[0.0, \"#0d0887\"], [0.1111111111111111, \"#46039f\"], [0.2222222222222222, \"#7201a8\"], [0.3333333333333333, \"#9c179e\"], [0.4444444444444444, \"#bd3786\"], [0.5555555555555556, \"#d8576b\"], [0.6666666666666666, \"#ed7953\"], [0.7777777777777778, \"#fb9f3a\"], [0.8888888888888888, \"#fdca26\"], [1.0, \"#f0f921\"]], \"type\": \"heatmap\"}], \"heatmapgl\": [{\"colorbar\": {\"outlinewidth\": 0, \"ticks\": \"\"}, \"colorscale\": [[0.0, \"#0d0887\"], [0.1111111111111111, \"#46039f\"], [0.2222222222222222, \"#7201a8\"], [0.3333333333333333, \"#9c179e\"], [0.4444444444444444, \"#bd3786\"], [0.5555555555555556, \"#d8576b\"], [0.6666666666666666, \"#ed7953\"], [0.7777777777777778, \"#fb9f3a\"], [0.8888888888888888, \"#fdca26\"], [1.0, \"#f0f921\"]], \"type\": \"heatmapgl\"}], \"histogram\": [{\"marker\": {\"colorbar\": {\"outlinewidth\": 0, \"ticks\": \"\"}}, \"type\": \"histogram\"}], \"histogram2d\": [{\"colorbar\": {\"outlinewidth\": 0, \"ticks\": \"\"}, \"colorscale\": [[0.0, \"#0d0887\"], [0.1111111111111111, \"#46039f\"], [0.2222222222222222, \"#7201a8\"], [0.3333333333333333, \"#9c179e\"], [0.4444444444444444, \"#bd3786\"], [0.5555555555555556, \"#d8576b\"], [0.6666666666666666, \"#ed7953\"], [0.7777777777777778, \"#fb9f3a\"], [0.8888888888888888, \"#fdca26\"], [1.0, \"#f0f921\"]], \"type\": \"histogram2d\"}], \"histogram2dcontour\": [{\"colorbar\": {\"outlinewidth\": 0, \"ticks\": \"\"}, \"colorscale\": [[0.0, \"#0d0887\"], [0.1111111111111111, \"#46039f\"], [0.2222222222222222, \"#7201a8\"], [0.3333333333333333, \"#9c179e\"], [0.4444444444444444, \"#bd3786\"], [0.5555555555555556, \"#d8576b\"], [0.6666666666666666, \"#ed7953\"], [0.7777777777777778, \"#fb9f3a\"], [0.8888888888888888, \"#fdca26\"], [1.0, \"#f0f921\"]], \"type\": \"histogram2dcontour\"}], \"mesh3d\": [{\"colorbar\": {\"outlinewidth\": 0, \"ticks\": \"\"}, \"type\": \"mesh3d\"}], \"parcoords\": [{\"line\": {\"colorbar\": {\"outlinewidth\": 0, \"ticks\": \"\"}}, \"type\": \"parcoords\"}], \"scatter\": [{\"marker\": {\"colorbar\": {\"outlinewidth\": 0, \"ticks\": \"\"}}, \"type\": \"scatter\"}], \"scatter3d\": [{\"line\": {\"colorbar\": {\"outlinewidth\": 0, \"ticks\": \"\"}}, \"marker\": {\"colorbar\": {\"outlinewidth\": 0, \"ticks\": \"\"}}, \"type\": \"scatter3d\"}], \"scattercarpet\": [{\"marker\": {\"colorbar\": {\"outlinewidth\": 0, \"ticks\": \"\"}}, \"type\": \"scattercarpet\"}], \"scattergeo\": [{\"marker\": {\"colorbar\": {\"outlinewidth\": 0, \"ticks\": \"\"}}, \"type\": \"scattergeo\"}], \"scattergl\": [{\"marker\": {\"colorbar\": {\"outlinewidth\": 0, \"ticks\": \"\"}}, \"type\": \"scattergl\"}], \"scattermapbox\": [{\"marker\": {\"colorbar\": {\"outlinewidth\": 0, \"ticks\": \"\"}}, \"type\": \"scattermapbox\"}], \"scatterpolar\": [{\"marker\": {\"colorbar\": {\"outlinewidth\": 0, \"ticks\": \"\"}}, \"type\": \"scatterpolar\"}], \"scatterpolargl\": [{\"marker\": {\"colorbar\": {\"outlinewidth\": 0, \"ticks\": \"\"}}, \"type\": \"scatterpolargl\"}], \"scatterternary\": [{\"marker\": {\"colorbar\": {\"outlinewidth\": 0, \"ticks\": \"\"}}, \"type\": \"scatterternary\"}], \"surface\": [{\"colorbar\": {\"outlinewidth\": 0, \"ticks\": \"\"}, \"colorscale\": [[0.0, \"#0d0887\"], [0.1111111111111111, \"#46039f\"], [0.2222222222222222, \"#7201a8\"], [0.3333333333333333, \"#9c179e\"], [0.4444444444444444, \"#bd3786\"], [0.5555555555555556, \"#d8576b\"], [0.6666666666666666, \"#ed7953\"], [0.7777777777777778, \"#fb9f3a\"], [0.8888888888888888, \"#fdca26\"], [1.0, \"#f0f921\"]], \"type\": \"surface\"}], \"table\": [{\"cells\": {\"fill\": {\"color\": \"#EBF0F8\"}, \"line\": {\"color\": \"white\"}}, \"header\": {\"fill\": {\"color\": \"#C8D4E3\"}, \"line\": {\"color\": \"white\"}}, \"type\": \"table\"}]}, \"layout\": {\"annotationdefaults\": {\"arrowcolor\": \"#2a3f5f\", \"arrowhead\": 0, \"arrowwidth\": 1}, \"colorscale\": {\"diverging\": [[0, \"#8e0152\"], [0.1, \"#c51b7d\"], [0.2, \"#de77ae\"], [0.3, \"#f1b6da\"], [0.4, \"#fde0ef\"], [0.5, \"#f7f7f7\"], [0.6, \"#e6f5d0\"], [0.7, \"#b8e186\"], [0.8, \"#7fbc41\"], [0.9, \"#4d9221\"], [1, \"#276419\"]], \"sequential\": [[0.0, \"#0d0887\"], [0.1111111111111111, \"#46039f\"], [0.2222222222222222, \"#7201a8\"], [0.3333333333333333, \"#9c179e\"], [0.4444444444444444, \"#bd3786\"], [0.5555555555555556, \"#d8576b\"], [0.6666666666666666, \"#ed7953\"], [0.7777777777777778, \"#fb9f3a\"], [0.8888888888888888, \"#fdca26\"], [1.0, \"#f0f921\"]], \"sequentialminus\": [[0.0, \"#0d0887\"], [0.1111111111111111, \"#46039f\"], [0.2222222222222222, \"#7201a8\"], [0.3333333333333333, \"#9c179e\"], [0.4444444444444444, \"#bd3786\"], [0.5555555555555556, \"#d8576b\"], [0.6666666666666666, \"#ed7953\"], [0.7777777777777778, \"#fb9f3a\"], [0.8888888888888888, \"#fdca26\"], [1.0, \"#f0f921\"]]}, \"colorway\": [\"#636efa\", \"#EF553B\", \"#00cc96\", \"#ab63fa\", \"#FFA15A\", \"#19d3f3\", \"#FF6692\", \"#B6E880\", \"#FF97FF\", \"#FECB52\"], \"font\": {\"color\": \"#2a3f5f\"}, \"geo\": {\"bgcolor\": \"white\", \"lakecolor\": \"white\", \"landcolor\": \"#E5ECF6\", \"showlakes\": true, \"showland\": true, \"subunitcolor\": \"white\"}, \"hoverlabel\": {\"align\": \"left\"}, \"hovermode\": \"closest\", \"mapbox\": {\"style\": \"light\"}, \"paper_bgcolor\": \"white\", \"plot_bgcolor\": \"#E5ECF6\", \"polar\": {\"angularaxis\": {\"gridcolor\": \"white\", \"linecolor\": \"white\", \"ticks\": \"\"}, \"bgcolor\": \"#E5ECF6\", \"radialaxis\": {\"gridcolor\": \"white\", \"linecolor\": \"white\", \"ticks\": \"\"}}, \"scene\": {\"xaxis\": {\"backgroundcolor\": \"#E5ECF6\", \"gridcolor\": \"white\", \"gridwidth\": 2, \"linecolor\": \"white\", \"showbackground\": true, \"ticks\": \"\", \"zerolinecolor\": \"white\"}, \"yaxis\": {\"backgroundcolor\": \"#E5ECF6\", \"gridcolor\": \"white\", \"gridwidth\": 2, \"linecolor\": \"white\", \"showbackground\": true, \"ticks\": \"\", \"zerolinecolor\": \"white\"}, \"zaxis\": {\"backgroundcolor\": \"#E5ECF6\", \"gridcolor\": \"white\", \"gridwidth\": 2, \"linecolor\": \"white\", \"showbackground\": true, \"ticks\": \"\", \"zerolinecolor\": \"white\"}}, \"shapedefaults\": {\"line\": {\"color\": \"#2a3f5f\"}}, \"ternary\": {\"aaxis\": {\"gridcolor\": \"white\", \"linecolor\": \"white\", \"ticks\": \"\"}, \"baxis\": {\"gridcolor\": \"white\", \"linecolor\": \"white\", \"ticks\": \"\"}, \"bgcolor\": \"#E5ECF6\", \"caxis\": {\"gridcolor\": \"white\", \"linecolor\": \"white\", \"ticks\": \"\"}}, \"title\": {\"x\": 0.05}, \"xaxis\": {\"automargin\": true, \"gridcolor\": \"white\", \"linecolor\": \"white\", \"ticks\": \"\", \"zerolinecolor\": \"white\", \"zerolinewidth\": 2}, \"yaxis\": {\"automargin\": true, \"gridcolor\": \"white\", \"linecolor\": \"white\", \"ticks\": \"\", \"zerolinecolor\": \"white\", \"zerolinewidth\": 2}}}, \"xaxis\": {\"anchor\": \"y\", \"domain\": [0.0, 0.98], \"title\": {\"text\": \"target\"}}, \"yaxis\": {\"anchor\": \"x\", \"domain\": [0.0, 1.0], \"title\": {\"text\": \"alpha\"}}},\n",
       "                        {\"responsive\": true}\n",
       "                    ).then(function(){\n",
       "                            \n",
       "var gd = document.getElementById('219808ac-8e33-4c80-b9c6-a18bb6d1fb7a');\n",
       "var x = new MutationObserver(function (mutations, observer) {{\n",
       "        var display = window.getComputedStyle(gd).display;\n",
       "        if (!display || display === 'none') {{\n",
       "            console.log([gd, 'removed!']);\n",
       "            Plotly.purge(gd);\n",
       "            observer.disconnect();\n",
       "        }}\n",
       "}});\n",
       "\n",
       "// Listen for the removal of the full notebook cells\n",
       "var notebookContainer = gd.closest('#notebook-container');\n",
       "if (notebookContainer) {{\n",
       "    x.observe(notebookContainer, {childList: true});\n",
       "}}\n",
       "\n",
       "// Listen for the clearing of the current output cell\n",
       "var outputEl = gd.closest('.output');\n",
       "if (outputEl) {{\n",
       "    x.observe(outputEl, {childList: true});\n",
       "}}\n",
       "\n",
       "                        })\n",
       "                };\n",
       "                });\n",
       "            </script>\n",
       "        </div>"
      ]
     },
     "metadata": {},
     "output_type": "display_data"
    }
   ],
   "source": [
    "px.scatter(df1, x=\"target\", y=\"alpha\")"
   ]
  },
  {
   "cell_type": "code",
   "execution_count": 233,
   "metadata": {
    "ExecuteTime": {
     "end_time": "2021-08-25T22:05:17.896769Z",
     "start_time": "2021-08-25T22:05:17.875774Z"
    },
    "hidden": true
   },
   "outputs": [
    {
     "data": {
      "text/html": [
       "<div>\n",
       "<style scoped>\n",
       "    .dataframe tbody tr th:only-of-type {\n",
       "        vertical-align: middle;\n",
       "    }\n",
       "\n",
       "    .dataframe tbody tr th {\n",
       "        vertical-align: top;\n",
       "    }\n",
       "\n",
       "    .dataframe thead th {\n",
       "        text-align: right;\n",
       "    }\n",
       "</style>\n",
       "<table border=\"1\" class=\"dataframe\">\n",
       "  <thead>\n",
       "    <tr style=\"text-align: right;\">\n",
       "      <th></th>\n",
       "      <th>target</th>\n",
       "      <th>alpha</th>\n",
       "    </tr>\n",
       "  </thead>\n",
       "  <tbody>\n",
       "    <tr>\n",
       "      <th>51</th>\n",
       "      <td>3.542166</td>\n",
       "      <td>0.00001</td>\n",
       "    </tr>\n",
       "    <tr>\n",
       "      <th>116</th>\n",
       "      <td>3.542166</td>\n",
       "      <td>0.00001</td>\n",
       "    </tr>\n",
       "  </tbody>\n",
       "</table>\n",
       "</div>"
      ],
      "text/plain": [
       "       target    alpha\n",
       "51   3.542166  0.00001\n",
       "116  3.542166  0.00001"
      ]
     },
     "execution_count": 233,
     "metadata": {},
     "output_type": "execute_result"
    }
   ],
   "source": [
    "df.sort_values(\"target\").head(2)"
   ]
  },
  {
   "cell_type": "markdown",
   "metadata": {
    "heading_collapsed": true
   },
   "source": [
    "# Lasso Regression"
   ]
  },
  {
   "cell_type": "markdown",
   "metadata": {
    "ExecuteTime": {
     "end_time": "2021-06-28T19:19:01.354500Z",
     "start_time": "2021-06-28T19:19:01.335502Z"
    },
    "hidden": true
   },
   "source": [
    "## load data"
   ]
  },
  {
   "cell_type": "code",
   "execution_count": 235,
   "metadata": {
    "ExecuteTime": {
     "end_time": "2021-08-25T22:07:11.528473Z",
     "start_time": "2021-08-25T22:07:11.491281Z"
    },
    "hidden": true
   },
   "outputs": [],
   "source": [
    "jsn_path = Path().resolve() / \"Logs\" / \"Lasso.json\"\n",
    "data = pd.read_json(jsn_path , lines = True).drop([\"datetime\"], axis = 1)"
   ]
  },
  {
   "cell_type": "markdown",
   "metadata": {
    "ExecuteTime": {
     "end_time": "2021-06-28T19:19:01.759647Z",
     "start_time": "2021-06-28T19:19:01.744648Z"
    },
    "hidden": true
   },
   "source": [
    "## convert data"
   ]
  },
  {
   "cell_type": "code",
   "execution_count": 236,
   "metadata": {
    "ExecuteTime": {
     "end_time": "2021-08-25T22:07:11.918474Z",
     "start_time": "2021-08-25T22:07:11.891316Z"
    },
    "hidden": true
   },
   "outputs": [],
   "source": [
    "params = pd.json_normalize(data['params'])"
   ]
  },
  {
   "cell_type": "code",
   "execution_count": 237,
   "metadata": {
    "ExecuteTime": {
     "end_time": "2021-08-25T22:07:12.089282Z",
     "start_time": "2021-08-25T22:07:12.068180Z"
    },
    "hidden": true
   },
   "outputs": [],
   "source": [
    "df = pd.concat([data[[\"target\"]]*-1, params], axis = 1)"
   ]
  },
  {
   "cell_type": "markdown",
   "metadata": {
    "ExecuteTime": {
     "end_time": "2021-06-28T19:19:02.241018Z",
     "start_time": "2021-06-28T19:19:02.236988Z"
    },
    "hidden": true
   },
   "source": [
    "## plot"
   ]
  },
  {
   "cell_type": "code",
   "execution_count": 238,
   "metadata": {
    "ExecuteTime": {
     "end_time": "2021-08-25T22:07:12.432247Z",
     "start_time": "2021-08-25T22:07:12.415294Z"
    },
    "hidden": true
   },
   "outputs": [],
   "source": [
    "# df1 = df.query(\"target < 4\")\n",
    "# df2 = df.query(\"target < 20\")\n",
    "# df3 = df.query(\"gamma < 0.5 & target < 20\")"
   ]
  },
  {
   "cell_type": "code",
   "execution_count": 239,
   "metadata": {
    "ExecuteTime": {
     "end_time": "2021-08-25T22:07:12.650275Z",
     "start_time": "2021-08-25T22:07:12.643209Z"
    },
    "hidden": true
   },
   "outputs": [],
   "source": [
    "# px.scatter_3d(df1, x = \"epsilon\", y = \"gamma\", z = \"C\", color = \"target\")"
   ]
  },
  {
   "cell_type": "code",
   "execution_count": 240,
   "metadata": {
    "ExecuteTime": {
     "end_time": "2021-08-25T22:07:13.167770Z",
     "start_time": "2021-08-25T22:07:13.139739Z"
    },
    "hidden": true
   },
   "outputs": [
    {
     "data": {
      "text/html": [
       "<div>\n",
       "<style scoped>\n",
       "    .dataframe tbody tr th:only-of-type {\n",
       "        vertical-align: middle;\n",
       "    }\n",
       "\n",
       "    .dataframe tbody tr th {\n",
       "        vertical-align: top;\n",
       "    }\n",
       "\n",
       "    .dataframe thead th {\n",
       "        text-align: right;\n",
       "    }\n",
       "</style>\n",
       "<table border=\"1\" class=\"dataframe\">\n",
       "  <thead>\n",
       "    <tr style=\"text-align: right;\">\n",
       "      <th></th>\n",
       "      <th>target</th>\n",
       "      <th>alpha</th>\n",
       "    </tr>\n",
       "  </thead>\n",
       "  <tbody>\n",
       "    <tr>\n",
       "      <th>9</th>\n",
       "      <td>6.710567</td>\n",
       "      <td>0.015172</td>\n",
       "    </tr>\n",
       "    <tr>\n",
       "      <th>29</th>\n",
       "      <td>6.710567</td>\n",
       "      <td>0.015746</td>\n",
       "    </tr>\n",
       "    <tr>\n",
       "      <th>11</th>\n",
       "      <td>6.710567</td>\n",
       "      <td>0.016578</td>\n",
       "    </tr>\n",
       "    <tr>\n",
       "      <th>2</th>\n",
       "      <td>6.710567</td>\n",
       "      <td>0.021436</td>\n",
       "    </tr>\n",
       "    <tr>\n",
       "      <th>19</th>\n",
       "      <td>6.710567</td>\n",
       "      <td>0.023893</td>\n",
       "    </tr>\n",
       "  </tbody>\n",
       "</table>\n",
       "</div>"
      ],
      "text/plain": [
       "      target     alpha\n",
       "9   6.710567  0.015172\n",
       "29  6.710567  0.015746\n",
       "11  6.710567  0.016578\n",
       "2   6.710567  0.021436\n",
       "19  6.710567  0.023893"
      ]
     },
     "execution_count": 240,
     "metadata": {},
     "output_type": "execute_result"
    }
   ],
   "source": [
    "df.sort_values(\"alpha\").head(5)"
   ]
  },
  {
   "cell_type": "code",
   "execution_count": 44,
   "metadata": {
    "ExecuteTime": {
     "end_time": "2021-08-25T19:03:56.151969Z",
     "start_time": "2021-08-25T19:03:55.409109Z"
    },
    "hidden": true
   },
   "outputs": [
    {
     "data": {
      "application/vnd.plotly.v1+json": {
       "config": {
        "plotlyServerURL": "https://plot.ly"
       },
       "data": [
        {
         "hoverlabel": {
          "namelength": 0
         },
         "hovertemplate": "alpha=%{x}<br>target=%{marker.color}",
         "legendgroup": "",
         "marker": {
          "color": [
           6.7105665431162915,
           6.7105665431162915,
           6.7105665431162915,
           6.7105665431162915,
           6.7105665431162915,
           6.7105665431162915,
           6.7105665431162915,
           6.7105665431162915,
           6.7105665431162915,
           6.7105665431162915,
           6.7105665431162915,
           6.7105665431162915,
           6.7105665431162915,
           6.7105665431162915,
           6.7105665431162915,
           6.7105665431162915,
           6.7105665431162915,
           6.7105665431162915,
           6.7105665431162915,
           6.7105665431162915,
           6.7105665431162915,
           6.7105665431162915,
           6.7105665431162915,
           6.7105665431162915,
           6.7105665431162915,
           6.7105665431162915,
           6.7105665431162915,
           6.7105665431162915,
           6.7105665431162915,
           6.7105665431162915,
           6.7105665431162915,
           6.7105665431162915,
           6.7105665431162915,
           6.7105665431162915,
           6.7105665431162915,
           6.7105665431162915,
           6.7105665431162915,
           6.7105665431162915,
           6.7105665431162915,
           6.7105665431162915,
           6.7105665431162915,
           6.7105665431162915,
           6.7105665431162915,
           6.7105665431162915,
           6.7105665431162915,
           6.7105665431162915,
           6.7105665431162915,
           6.7105665431162915,
           6.7105665431162915,
           6.7105665431162915,
           6.7105665431162915,
           6.7105665431162915,
           6.7105665431162915,
           6.7105665431162915,
           6.7105665431162915,
           6.7105665431162915,
           6.7105665431162915,
           6.7105665431162915,
           6.7105665431162915,
           6.7105665431162915,
           6.7105665431162915,
           6.7105665431162915,
           6.7105665431162915,
           6.7105665431162915,
           6.7105665431162915,
           6.7105665431162915,
           6.7105665431162915,
           6.7105665431162915,
           6.7105665431162915,
           6.7105665431162915,
           6.7105665431162915,
           6.7105665431162915,
           6.7105665431162915,
           6.7105665431162915,
           6.7105665431162915,
           6.7105665431162915,
           6.7105665431162915,
           6.7105665431162915,
           6.7105665431162915,
           6.7105665431162915,
           6.7105665431162915,
           6.7105665431162915,
           6.7105665431162915,
           6.7105665431162915,
           6.7105665431162915,
           6.7105665431162915,
           6.7105665431162915,
           6.7105665431162915,
           6.7105665431162915,
           6.7105665431162915,
           6.7105665431162915,
           6.7105665431162915,
           6.7105665431162915,
           6.7105665431162915,
           6.7105665431162915,
           6.7105665431162915,
           6.7105665431162915,
           6.7105665431162915,
           6.7105665431162915,
           6.7105665431162915,
           6.7105665431162915,
           6.7105665431162915,
           6.7105665431162915,
           6.7105665431162915,
           6.7105665431162915,
           6.7105665431162915,
           6.7105665431162915,
           6.7105665431162915,
           6.7105665431162915,
           6.7105665431162915,
           6.7105665431162915,
           6.7105665431162915,
           6.7105665431162915,
           6.7105665431162915,
           6.7105665431162915,
           6.7105665431162915,
           6.7105665431162915,
           6.7105665431162915,
           6.7105665431162915,
           6.7105665431162915,
           6.7105665431162915,
           6.7105665431162915,
           6.7105665431162915,
           6.7105665431162915,
           6.7105665431162915,
           6.7105665431162915,
           6.7105665431162915,
           6.7105665431162915,
           6.7105665431162915,
           6.7105665431162915,
           6.7105665431162915,
           6.7105665431162915,
           6.7105665431162915,
           6.7105665431162915,
           6.7105665431162915,
           6.7105665431162915,
           6.7105665431162915,
           6.7105665431162915,
           6.7105665431162915,
           6.7105665431162915,
           6.7105665431162915,
           6.7105665431162915,
           6.7105665431162915,
           6.7105665431162915,
           6.7105665431162915,
           6.7105665431162915,
           6.7105665431162915,
           6.7105665431162915,
           6.7105665431162915,
           6.7105665431162915,
           6.7105665431162915,
           6.7105665431162915,
           6.7105665431162915,
           6.7105665431162915,
           6.7105665431162915,
           6.7105665431162915,
           6.7105665431162915,
           6.7105665431162915,
           6.7105665431162915,
           6.7105665431162915,
           6.7105665431162915,
           6.7105665431162915,
           6.7105665431162915,
           6.7105665431162915,
           6.7105665431162915,
           6.7105665431162915,
           6.7105665431162915,
           6.7105665431162915,
           6.7105665431162915,
           6.7105665431162915,
           6.7105665431162915,
           6.7105665431162915,
           6.7105665431162915,
           6.7105665431162915,
           6.7105665431162915,
           6.7105665431162915,
           6.7105665431162915,
           6.7105665431162915,
           6.7105665431162915,
           6.7105665431162915,
           6.7105665431162915,
           6.7105665431162915,
           6.7105665431162915,
           6.7105665431162915,
           6.7105665431162915,
           6.7105665431162915,
           6.7105665431162915,
           6.7105665431162915,
           6.7105665431162915,
           6.7105665431162915,
           6.7105665431162915,
           6.7105665431162915,
           6.7105665431162915,
           6.7105665431162915,
           6.7105665431162915,
           6.7105665431162915,
           6.7105665431162915,
           6.7105665431162915,
           6.7105665431162915,
           6.7105665431162915,
           6.7105665431162915,
           6.7105665431162915,
           6.7105665431162915,
           6.7105665431162915,
           6.7105665431162915,
           6.7105665431162915,
           6.7105665431162915,
           6.7105665431162915,
           6.7105665431162915,
           6.7105665431162915
          ],
          "coloraxis": "coloraxis",
          "symbol": "circle"
         },
         "mode": "markers",
         "name": "",
         "showlegend": false,
         "type": "scatter",
         "x": [
          41.70803025021037,
          72.0352460992814,
          0.021436337986315,
          30.24023393745766,
          14.684121522803132,
          99.9875799995505,
          99.98342391856711,
          0.024185139972263,
          99.99902854286887,
          0.015172369200630002,
          99.95232267559385,
          0.016577882447386002,
          99.97549764050389,
          0.02514308693677,
          99.91171563050509,
          0.027413644748694004,
          99.90771220424313,
          0.024173823896923,
          99.94940921859525,
          0.023893132439288003,
          99.90456417805304,
          0.059732216491253,
          99.80112583848029,
          0.20524533529756,
          99.80186759627243,
          0.031544265031567,
          99.99947075508523,
          0.318529237755021,
          99.8550896167898,
          0.015745689865474,
          99.99000230635384,
          0.48325576419915206,
          99.86846598553436,
          0.29566899845965905,
          99.77675485195375,
          0.11903549223525801,
          99.84858182358086,
          0.728562861643395,
          99.90215927205911,
          99.73694670687865,
          0.359666895446137,
          0.588497432102669,
          99.25483540467273,
          0.159116754421639,
          99.85582538883197,
          0.34425085098671204,
          99.67407276146241,
          99.95906569462875,
          0.15689482860710102,
          99.78494281775433,
          0.20567192781665802,
          99.32935290870958,
          0.424761320531006,
          99.5130319449401,
          0.22408146528585002,
          1.171211113929721,
          99.86890403425127,
          0.35352607220146903,
          0.06789725115197401,
          99.99035531099565,
          99.21987569922081,
          99.56673259874304,
          0.390618650551793,
          0.19849903846101402,
          0.24379202365872402,
          97.67714684594556,
          99.60656595248382,
          99.52324197980873,
          0.037185817378180004,
          98.67071190662746,
          0.978349331816402,
          99.88330476351938,
          1.421469197692725,
          99.81535665958351,
          2.483086441645787,
          3.052651891443911,
          97.32276948190987,
          0.5777356715038631,
          99.7414279379222,
          99.23374975368195,
          0.74468946740426,
          0.59793688072742,
          99.93422311515353,
          1.318112491076756,
          0.08460461495950701,
          99.7777568608653,
          99.85232680180005,
          1.7137522310719522,
          0.030900808414163,
          97.44338232968852,
          99.8245352986044,
          3.127738710822583,
          1.869333358213471,
          96.43613269066067,
          99.09862883976616,
          1.825626447781295,
          98.19268265103737,
          3.637877950409486,
          99.7764833956277,
          97.36713950138292,
          2.535297492041771,
          3.22795899741768,
          2.919572080350248,
          99.75869348223442,
          99.8532744232743,
          475.3198042323166,
          748.2920440979423,
          100.10293733561039,
          372.09931536865577,
          232.08030173540175,
          999.8882088168361,
          999.910086531595,
          100.22463789483382,
          999.8320870486485,
          100.00933244395853,
          999.794272305335,
          100.05920686271274,
          999.9679350443201,
          100.1363014125722,
          999.5825734802733,
          100.39688935532118,
          998.8686776126635,
          100.04943975298714,
          999.5446374311003,
          100.83463123913843,
          999.4035638480667,
          100.10948016323418,
          999.7746015080028,
          101.92153281545406,
          998.7231317982049,
          100.45841466211225,
          998.755653377089,
          100.27368322465074,
          998.69567611872,
          100.50288927046566,
          999.9100117583604,
          102.35326420584583,
          999.9354859937545,
          102.1801267909814,
          998.2715607297762,
          100.23924209560543,
          997.397005371197,
          100.83871034765319,
          997.9959749640079,
          107.21411462934512,
          997.7694308428863,
          102.25794305490986,
          996.2339436457261,
          990.5624970784568,
          102.6396556056046,
          102.07705114334517,
          999.6574695105169,
          100.41447881475136,
          991.2966456692624,
          999.4659681057364,
          108.35919811271543,
          101.02979162883832,
          994.3553410857685,
          107.24321545131478,
          994.0190158890789,
          106.44665592651546,
          997.3209782109926,
          101.65465716881312,
          988.4583338524853,
          999.9843774147722,
          115.48535426715813,
          999.3830141300716,
          105.68297929791231,
          997.2880287139595,
          127.1767505085258,
          986.31319403542,
          106.9569545728134,
          113.74517718292915,
          105.73981819475777,
          981.8810809364732,
          990.5915719865894,
          100.13453802309405,
          999.4999468359393,
          998.3472121775094,
          111.18087218812202,
          114.92560632505821,
          978.1287679913023,
          108.74559749121543,
          997.0082680045934,
          109.26458800176032,
          997.1030326407592,
          996.1974433067635,
          997.0569534266344,
          116.80046645170052,
          122.8335036137613,
          127.20522392787491,
          994.7502525316579,
          105.84595368094763,
          993.0015918286464,
          998.8669493251864,
          107.2514623130392,
          135.2046207554046,
          113.9977635752568,
          986.9620903165097,
          119.98734352688568,
          998.6774888392271,
          999.3864679364082,
          134.51160866307922,
          997.6968396100126,
          103.380375542826,
          991.0152092264273,
          115.88338834092005,
          983.4900455523766,
          928.2836874605492,
          102.06423624400439
         ],
         "xaxis": "x",
         "y": [
          6.7105665431162915,
          6.7105665431162915,
          6.7105665431162915,
          6.7105665431162915,
          6.7105665431162915,
          6.7105665431162915,
          6.7105665431162915,
          6.7105665431162915,
          6.7105665431162915,
          6.7105665431162915,
          6.7105665431162915,
          6.7105665431162915,
          6.7105665431162915,
          6.7105665431162915,
          6.7105665431162915,
          6.7105665431162915,
          6.7105665431162915,
          6.7105665431162915,
          6.7105665431162915,
          6.7105665431162915,
          6.7105665431162915,
          6.7105665431162915,
          6.7105665431162915,
          6.7105665431162915,
          6.7105665431162915,
          6.7105665431162915,
          6.7105665431162915,
          6.7105665431162915,
          6.7105665431162915,
          6.7105665431162915,
          6.7105665431162915,
          6.7105665431162915,
          6.7105665431162915,
          6.7105665431162915,
          6.7105665431162915,
          6.7105665431162915,
          6.7105665431162915,
          6.7105665431162915,
          6.7105665431162915,
          6.7105665431162915,
          6.7105665431162915,
          6.7105665431162915,
          6.7105665431162915,
          6.7105665431162915,
          6.7105665431162915,
          6.7105665431162915,
          6.7105665431162915,
          6.7105665431162915,
          6.7105665431162915,
          6.7105665431162915,
          6.7105665431162915,
          6.7105665431162915,
          6.7105665431162915,
          6.7105665431162915,
          6.7105665431162915,
          6.7105665431162915,
          6.7105665431162915,
          6.7105665431162915,
          6.7105665431162915,
          6.7105665431162915,
          6.7105665431162915,
          6.7105665431162915,
          6.7105665431162915,
          6.7105665431162915,
          6.7105665431162915,
          6.7105665431162915,
          6.7105665431162915,
          6.7105665431162915,
          6.7105665431162915,
          6.7105665431162915,
          6.7105665431162915,
          6.7105665431162915,
          6.7105665431162915,
          6.7105665431162915,
          6.7105665431162915,
          6.7105665431162915,
          6.7105665431162915,
          6.7105665431162915,
          6.7105665431162915,
          6.7105665431162915,
          6.7105665431162915,
          6.7105665431162915,
          6.7105665431162915,
          6.7105665431162915,
          6.7105665431162915,
          6.7105665431162915,
          6.7105665431162915,
          6.7105665431162915,
          6.7105665431162915,
          6.7105665431162915,
          6.7105665431162915,
          6.7105665431162915,
          6.7105665431162915,
          6.7105665431162915,
          6.7105665431162915,
          6.7105665431162915,
          6.7105665431162915,
          6.7105665431162915,
          6.7105665431162915,
          6.7105665431162915,
          6.7105665431162915,
          6.7105665431162915,
          6.7105665431162915,
          6.7105665431162915,
          6.7105665431162915,
          6.7105665431162915,
          6.7105665431162915,
          6.7105665431162915,
          6.7105665431162915,
          6.7105665431162915,
          6.7105665431162915,
          6.7105665431162915,
          6.7105665431162915,
          6.7105665431162915,
          6.7105665431162915,
          6.7105665431162915,
          6.7105665431162915,
          6.7105665431162915,
          6.7105665431162915,
          6.7105665431162915,
          6.7105665431162915,
          6.7105665431162915,
          6.7105665431162915,
          6.7105665431162915,
          6.7105665431162915,
          6.7105665431162915,
          6.7105665431162915,
          6.7105665431162915,
          6.7105665431162915,
          6.7105665431162915,
          6.7105665431162915,
          6.7105665431162915,
          6.7105665431162915,
          6.7105665431162915,
          6.7105665431162915,
          6.7105665431162915,
          6.7105665431162915,
          6.7105665431162915,
          6.7105665431162915,
          6.7105665431162915,
          6.7105665431162915,
          6.7105665431162915,
          6.7105665431162915,
          6.7105665431162915,
          6.7105665431162915,
          6.7105665431162915,
          6.7105665431162915,
          6.7105665431162915,
          6.7105665431162915,
          6.7105665431162915,
          6.7105665431162915,
          6.7105665431162915,
          6.7105665431162915,
          6.7105665431162915,
          6.7105665431162915,
          6.7105665431162915,
          6.7105665431162915,
          6.7105665431162915,
          6.7105665431162915,
          6.7105665431162915,
          6.7105665431162915,
          6.7105665431162915,
          6.7105665431162915,
          6.7105665431162915,
          6.7105665431162915,
          6.7105665431162915,
          6.7105665431162915,
          6.7105665431162915,
          6.7105665431162915,
          6.7105665431162915,
          6.7105665431162915,
          6.7105665431162915,
          6.7105665431162915,
          6.7105665431162915,
          6.7105665431162915,
          6.7105665431162915,
          6.7105665431162915,
          6.7105665431162915,
          6.7105665431162915,
          6.7105665431162915,
          6.7105665431162915,
          6.7105665431162915,
          6.7105665431162915,
          6.7105665431162915,
          6.7105665431162915,
          6.7105665431162915,
          6.7105665431162915,
          6.7105665431162915,
          6.7105665431162915,
          6.7105665431162915,
          6.7105665431162915,
          6.7105665431162915,
          6.7105665431162915,
          6.7105665431162915,
          6.7105665431162915,
          6.7105665431162915,
          6.7105665431162915,
          6.7105665431162915,
          6.7105665431162915,
          6.7105665431162915,
          6.7105665431162915,
          6.7105665431162915,
          6.7105665431162915,
          6.7105665431162915,
          6.7105665431162915,
          6.7105665431162915,
          6.7105665431162915,
          6.7105665431162915,
          6.7105665431162915,
          6.7105665431162915
         ],
         "yaxis": "y"
        }
       ],
       "layout": {
        "coloraxis": {
         "colorbar": {
          "title": {
           "text": "target"
          }
         },
         "colorscale": [
          [
           0,
           "#0d0887"
          ],
          [
           0.1111111111111111,
           "#46039f"
          ],
          [
           0.2222222222222222,
           "#7201a8"
          ],
          [
           0.3333333333333333,
           "#9c179e"
          ],
          [
           0.4444444444444444,
           "#bd3786"
          ],
          [
           0.5555555555555556,
           "#d8576b"
          ],
          [
           0.6666666666666666,
           "#ed7953"
          ],
          [
           0.7777777777777778,
           "#fb9f3a"
          ],
          [
           0.8888888888888888,
           "#fdca26"
          ],
          [
           1,
           "#f0f921"
          ]
         ]
        },
        "height": 600,
        "legend": {
         "tracegroupgap": 0
        },
        "margin": {
         "t": 60
        },
        "template": {
         "data": {
          "bar": [
           {
            "error_x": {
             "color": "#2a3f5f"
            },
            "error_y": {
             "color": "#2a3f5f"
            },
            "marker": {
             "line": {
              "color": "#E5ECF6",
              "width": 0.5
             }
            },
            "type": "bar"
           }
          ],
          "barpolar": [
           {
            "marker": {
             "line": {
              "color": "#E5ECF6",
              "width": 0.5
             }
            },
            "type": "barpolar"
           }
          ],
          "carpet": [
           {
            "aaxis": {
             "endlinecolor": "#2a3f5f",
             "gridcolor": "white",
             "linecolor": "white",
             "minorgridcolor": "white",
             "startlinecolor": "#2a3f5f"
            },
            "baxis": {
             "endlinecolor": "#2a3f5f",
             "gridcolor": "white",
             "linecolor": "white",
             "minorgridcolor": "white",
             "startlinecolor": "#2a3f5f"
            },
            "type": "carpet"
           }
          ],
          "choropleth": [
           {
            "colorbar": {
             "outlinewidth": 0,
             "ticks": ""
            },
            "type": "choropleth"
           }
          ],
          "contour": [
           {
            "colorbar": {
             "outlinewidth": 0,
             "ticks": ""
            },
            "colorscale": [
             [
              0,
              "#0d0887"
             ],
             [
              0.1111111111111111,
              "#46039f"
             ],
             [
              0.2222222222222222,
              "#7201a8"
             ],
             [
              0.3333333333333333,
              "#9c179e"
             ],
             [
              0.4444444444444444,
              "#bd3786"
             ],
             [
              0.5555555555555556,
              "#d8576b"
             ],
             [
              0.6666666666666666,
              "#ed7953"
             ],
             [
              0.7777777777777778,
              "#fb9f3a"
             ],
             [
              0.8888888888888888,
              "#fdca26"
             ],
             [
              1,
              "#f0f921"
             ]
            ],
            "type": "contour"
           }
          ],
          "contourcarpet": [
           {
            "colorbar": {
             "outlinewidth": 0,
             "ticks": ""
            },
            "type": "contourcarpet"
           }
          ],
          "heatmap": [
           {
            "colorbar": {
             "outlinewidth": 0,
             "ticks": ""
            },
            "colorscale": [
             [
              0,
              "#0d0887"
             ],
             [
              0.1111111111111111,
              "#46039f"
             ],
             [
              0.2222222222222222,
              "#7201a8"
             ],
             [
              0.3333333333333333,
              "#9c179e"
             ],
             [
              0.4444444444444444,
              "#bd3786"
             ],
             [
              0.5555555555555556,
              "#d8576b"
             ],
             [
              0.6666666666666666,
              "#ed7953"
             ],
             [
              0.7777777777777778,
              "#fb9f3a"
             ],
             [
              0.8888888888888888,
              "#fdca26"
             ],
             [
              1,
              "#f0f921"
             ]
            ],
            "type": "heatmap"
           }
          ],
          "heatmapgl": [
           {
            "colorbar": {
             "outlinewidth": 0,
             "ticks": ""
            },
            "colorscale": [
             [
              0,
              "#0d0887"
             ],
             [
              0.1111111111111111,
              "#46039f"
             ],
             [
              0.2222222222222222,
              "#7201a8"
             ],
             [
              0.3333333333333333,
              "#9c179e"
             ],
             [
              0.4444444444444444,
              "#bd3786"
             ],
             [
              0.5555555555555556,
              "#d8576b"
             ],
             [
              0.6666666666666666,
              "#ed7953"
             ],
             [
              0.7777777777777778,
              "#fb9f3a"
             ],
             [
              0.8888888888888888,
              "#fdca26"
             ],
             [
              1,
              "#f0f921"
             ]
            ],
            "type": "heatmapgl"
           }
          ],
          "histogram": [
           {
            "marker": {
             "colorbar": {
              "outlinewidth": 0,
              "ticks": ""
             }
            },
            "type": "histogram"
           }
          ],
          "histogram2d": [
           {
            "colorbar": {
             "outlinewidth": 0,
             "ticks": ""
            },
            "colorscale": [
             [
              0,
              "#0d0887"
             ],
             [
              0.1111111111111111,
              "#46039f"
             ],
             [
              0.2222222222222222,
              "#7201a8"
             ],
             [
              0.3333333333333333,
              "#9c179e"
             ],
             [
              0.4444444444444444,
              "#bd3786"
             ],
             [
              0.5555555555555556,
              "#d8576b"
             ],
             [
              0.6666666666666666,
              "#ed7953"
             ],
             [
              0.7777777777777778,
              "#fb9f3a"
             ],
             [
              0.8888888888888888,
              "#fdca26"
             ],
             [
              1,
              "#f0f921"
             ]
            ],
            "type": "histogram2d"
           }
          ],
          "histogram2dcontour": [
           {
            "colorbar": {
             "outlinewidth": 0,
             "ticks": ""
            },
            "colorscale": [
             [
              0,
              "#0d0887"
             ],
             [
              0.1111111111111111,
              "#46039f"
             ],
             [
              0.2222222222222222,
              "#7201a8"
             ],
             [
              0.3333333333333333,
              "#9c179e"
             ],
             [
              0.4444444444444444,
              "#bd3786"
             ],
             [
              0.5555555555555556,
              "#d8576b"
             ],
             [
              0.6666666666666666,
              "#ed7953"
             ],
             [
              0.7777777777777778,
              "#fb9f3a"
             ],
             [
              0.8888888888888888,
              "#fdca26"
             ],
             [
              1,
              "#f0f921"
             ]
            ],
            "type": "histogram2dcontour"
           }
          ],
          "mesh3d": [
           {
            "colorbar": {
             "outlinewidth": 0,
             "ticks": ""
            },
            "type": "mesh3d"
           }
          ],
          "parcoords": [
           {
            "line": {
             "colorbar": {
              "outlinewidth": 0,
              "ticks": ""
             }
            },
            "type": "parcoords"
           }
          ],
          "scatter": [
           {
            "marker": {
             "colorbar": {
              "outlinewidth": 0,
              "ticks": ""
             }
            },
            "type": "scatter"
           }
          ],
          "scatter3d": [
           {
            "line": {
             "colorbar": {
              "outlinewidth": 0,
              "ticks": ""
             }
            },
            "marker": {
             "colorbar": {
              "outlinewidth": 0,
              "ticks": ""
             }
            },
            "type": "scatter3d"
           }
          ],
          "scattercarpet": [
           {
            "marker": {
             "colorbar": {
              "outlinewidth": 0,
              "ticks": ""
             }
            },
            "type": "scattercarpet"
           }
          ],
          "scattergeo": [
           {
            "marker": {
             "colorbar": {
              "outlinewidth": 0,
              "ticks": ""
             }
            },
            "type": "scattergeo"
           }
          ],
          "scattergl": [
           {
            "marker": {
             "colorbar": {
              "outlinewidth": 0,
              "ticks": ""
             }
            },
            "type": "scattergl"
           }
          ],
          "scattermapbox": [
           {
            "marker": {
             "colorbar": {
              "outlinewidth": 0,
              "ticks": ""
             }
            },
            "type": "scattermapbox"
           }
          ],
          "scatterpolar": [
           {
            "marker": {
             "colorbar": {
              "outlinewidth": 0,
              "ticks": ""
             }
            },
            "type": "scatterpolar"
           }
          ],
          "scatterpolargl": [
           {
            "marker": {
             "colorbar": {
              "outlinewidth": 0,
              "ticks": ""
             }
            },
            "type": "scatterpolargl"
           }
          ],
          "scatterternary": [
           {
            "marker": {
             "colorbar": {
              "outlinewidth": 0,
              "ticks": ""
             }
            },
            "type": "scatterternary"
           }
          ],
          "surface": [
           {
            "colorbar": {
             "outlinewidth": 0,
             "ticks": ""
            },
            "colorscale": [
             [
              0,
              "#0d0887"
             ],
             [
              0.1111111111111111,
              "#46039f"
             ],
             [
              0.2222222222222222,
              "#7201a8"
             ],
             [
              0.3333333333333333,
              "#9c179e"
             ],
             [
              0.4444444444444444,
              "#bd3786"
             ],
             [
              0.5555555555555556,
              "#d8576b"
             ],
             [
              0.6666666666666666,
              "#ed7953"
             ],
             [
              0.7777777777777778,
              "#fb9f3a"
             ],
             [
              0.8888888888888888,
              "#fdca26"
             ],
             [
              1,
              "#f0f921"
             ]
            ],
            "type": "surface"
           }
          ],
          "table": [
           {
            "cells": {
             "fill": {
              "color": "#EBF0F8"
             },
             "line": {
              "color": "white"
             }
            },
            "header": {
             "fill": {
              "color": "#C8D4E3"
             },
             "line": {
              "color": "white"
             }
            },
            "type": "table"
           }
          ]
         },
         "layout": {
          "annotationdefaults": {
           "arrowcolor": "#2a3f5f",
           "arrowhead": 0,
           "arrowwidth": 1
          },
          "colorscale": {
           "diverging": [
            [
             0,
             "#8e0152"
            ],
            [
             0.1,
             "#c51b7d"
            ],
            [
             0.2,
             "#de77ae"
            ],
            [
             0.3,
             "#f1b6da"
            ],
            [
             0.4,
             "#fde0ef"
            ],
            [
             0.5,
             "#f7f7f7"
            ],
            [
             0.6,
             "#e6f5d0"
            ],
            [
             0.7,
             "#b8e186"
            ],
            [
             0.8,
             "#7fbc41"
            ],
            [
             0.9,
             "#4d9221"
            ],
            [
             1,
             "#276419"
            ]
           ],
           "sequential": [
            [
             0,
             "#0d0887"
            ],
            [
             0.1111111111111111,
             "#46039f"
            ],
            [
             0.2222222222222222,
             "#7201a8"
            ],
            [
             0.3333333333333333,
             "#9c179e"
            ],
            [
             0.4444444444444444,
             "#bd3786"
            ],
            [
             0.5555555555555556,
             "#d8576b"
            ],
            [
             0.6666666666666666,
             "#ed7953"
            ],
            [
             0.7777777777777778,
             "#fb9f3a"
            ],
            [
             0.8888888888888888,
             "#fdca26"
            ],
            [
             1,
             "#f0f921"
            ]
           ],
           "sequentialminus": [
            [
             0,
             "#0d0887"
            ],
            [
             0.1111111111111111,
             "#46039f"
            ],
            [
             0.2222222222222222,
             "#7201a8"
            ],
            [
             0.3333333333333333,
             "#9c179e"
            ],
            [
             0.4444444444444444,
             "#bd3786"
            ],
            [
             0.5555555555555556,
             "#d8576b"
            ],
            [
             0.6666666666666666,
             "#ed7953"
            ],
            [
             0.7777777777777778,
             "#fb9f3a"
            ],
            [
             0.8888888888888888,
             "#fdca26"
            ],
            [
             1,
             "#f0f921"
            ]
           ]
          },
          "colorway": [
           "#636efa",
           "#EF553B",
           "#00cc96",
           "#ab63fa",
           "#FFA15A",
           "#19d3f3",
           "#FF6692",
           "#B6E880",
           "#FF97FF",
           "#FECB52"
          ],
          "font": {
           "color": "#2a3f5f"
          },
          "geo": {
           "bgcolor": "white",
           "lakecolor": "white",
           "landcolor": "#E5ECF6",
           "showlakes": true,
           "showland": true,
           "subunitcolor": "white"
          },
          "hoverlabel": {
           "align": "left"
          },
          "hovermode": "closest",
          "mapbox": {
           "style": "light"
          },
          "paper_bgcolor": "white",
          "plot_bgcolor": "#E5ECF6",
          "polar": {
           "angularaxis": {
            "gridcolor": "white",
            "linecolor": "white",
            "ticks": ""
           },
           "bgcolor": "#E5ECF6",
           "radialaxis": {
            "gridcolor": "white",
            "linecolor": "white",
            "ticks": ""
           }
          },
          "scene": {
           "xaxis": {
            "backgroundcolor": "#E5ECF6",
            "gridcolor": "white",
            "gridwidth": 2,
            "linecolor": "white",
            "showbackground": true,
            "ticks": "",
            "zerolinecolor": "white"
           },
           "yaxis": {
            "backgroundcolor": "#E5ECF6",
            "gridcolor": "white",
            "gridwidth": 2,
            "linecolor": "white",
            "showbackground": true,
            "ticks": "",
            "zerolinecolor": "white"
           },
           "zaxis": {
            "backgroundcolor": "#E5ECF6",
            "gridcolor": "white",
            "gridwidth": 2,
            "linecolor": "white",
            "showbackground": true,
            "ticks": "",
            "zerolinecolor": "white"
           }
          },
          "shapedefaults": {
           "line": {
            "color": "#2a3f5f"
           }
          },
          "ternary": {
           "aaxis": {
            "gridcolor": "white",
            "linecolor": "white",
            "ticks": ""
           },
           "baxis": {
            "gridcolor": "white",
            "linecolor": "white",
            "ticks": ""
           },
           "bgcolor": "#E5ECF6",
           "caxis": {
            "gridcolor": "white",
            "linecolor": "white",
            "ticks": ""
           }
          },
          "title": {
           "x": 0.05
          },
          "xaxis": {
           "automargin": true,
           "gridcolor": "white",
           "linecolor": "white",
           "ticks": "",
           "zerolinecolor": "white",
           "zerolinewidth": 2
          },
          "yaxis": {
           "automargin": true,
           "gridcolor": "white",
           "linecolor": "white",
           "ticks": "",
           "zerolinecolor": "white",
           "zerolinewidth": 2
          }
         }
        },
        "xaxis": {
         "anchor": "y",
         "domain": [
          0,
          0.98
         ],
         "title": {
          "text": "alpha"
         }
        },
        "yaxis": {
         "anchor": "x",
         "domain": [
          0,
          1
         ],
         "title": {
          "text": "target"
         }
        }
       }
      },
      "text/html": [
       "<div>\n",
       "        \n",
       "        \n",
       "            <div id=\"2a5dd7ec-c723-4467-ba36-eb8d6d1c94cd\" class=\"plotly-graph-div\" style=\"height:600px; width:100%;\"></div>\n",
       "            <script type=\"text/javascript\">\n",
       "                require([\"plotly\"], function(Plotly) {\n",
       "                    window.PLOTLYENV=window.PLOTLYENV || {};\n",
       "                    \n",
       "                if (document.getElementById(\"2a5dd7ec-c723-4467-ba36-eb8d6d1c94cd\")) {\n",
       "                    Plotly.newPlot(\n",
       "                        '2a5dd7ec-c723-4467-ba36-eb8d6d1c94cd',\n",
       "                        [{\"hoverlabel\": {\"namelength\": 0}, \"hovertemplate\": \"alpha=%{x}<br>target=%{marker.color}\", \"legendgroup\": \"\", \"marker\": {\"color\": [6.7105665431162915, 6.7105665431162915, 6.7105665431162915, 6.7105665431162915, 6.7105665431162915, 6.7105665431162915, 6.7105665431162915, 6.7105665431162915, 6.7105665431162915, 6.7105665431162915, 6.7105665431162915, 6.7105665431162915, 6.7105665431162915, 6.7105665431162915, 6.7105665431162915, 6.7105665431162915, 6.7105665431162915, 6.7105665431162915, 6.7105665431162915, 6.7105665431162915, 6.7105665431162915, 6.7105665431162915, 6.7105665431162915, 6.7105665431162915, 6.7105665431162915, 6.7105665431162915, 6.7105665431162915, 6.7105665431162915, 6.7105665431162915, 6.7105665431162915, 6.7105665431162915, 6.7105665431162915, 6.7105665431162915, 6.7105665431162915, 6.7105665431162915, 6.7105665431162915, 6.7105665431162915, 6.7105665431162915, 6.7105665431162915, 6.7105665431162915, 6.7105665431162915, 6.7105665431162915, 6.7105665431162915, 6.7105665431162915, 6.7105665431162915, 6.7105665431162915, 6.7105665431162915, 6.7105665431162915, 6.7105665431162915, 6.7105665431162915, 6.7105665431162915, 6.7105665431162915, 6.7105665431162915, 6.7105665431162915, 6.7105665431162915, 6.7105665431162915, 6.7105665431162915, 6.7105665431162915, 6.7105665431162915, 6.7105665431162915, 6.7105665431162915, 6.7105665431162915, 6.7105665431162915, 6.7105665431162915, 6.7105665431162915, 6.7105665431162915, 6.7105665431162915, 6.7105665431162915, 6.7105665431162915, 6.7105665431162915, 6.7105665431162915, 6.7105665431162915, 6.7105665431162915, 6.7105665431162915, 6.7105665431162915, 6.7105665431162915, 6.7105665431162915, 6.7105665431162915, 6.7105665431162915, 6.7105665431162915, 6.7105665431162915, 6.7105665431162915, 6.7105665431162915, 6.7105665431162915, 6.7105665431162915, 6.7105665431162915, 6.7105665431162915, 6.7105665431162915, 6.7105665431162915, 6.7105665431162915, 6.7105665431162915, 6.7105665431162915, 6.7105665431162915, 6.7105665431162915, 6.7105665431162915, 6.7105665431162915, 6.7105665431162915, 6.7105665431162915, 6.7105665431162915, 6.7105665431162915, 6.7105665431162915, 6.7105665431162915, 6.7105665431162915, 6.7105665431162915, 6.7105665431162915, 6.7105665431162915, 6.7105665431162915, 6.7105665431162915, 6.7105665431162915, 6.7105665431162915, 6.7105665431162915, 6.7105665431162915, 6.7105665431162915, 6.7105665431162915, 6.7105665431162915, 6.7105665431162915, 6.7105665431162915, 6.7105665431162915, 6.7105665431162915, 6.7105665431162915, 6.7105665431162915, 6.7105665431162915, 6.7105665431162915, 6.7105665431162915, 6.7105665431162915, 6.7105665431162915, 6.7105665431162915, 6.7105665431162915, 6.7105665431162915, 6.7105665431162915, 6.7105665431162915, 6.7105665431162915, 6.7105665431162915, 6.7105665431162915, 6.7105665431162915, 6.7105665431162915, 6.7105665431162915, 6.7105665431162915, 6.7105665431162915, 6.7105665431162915, 6.7105665431162915, 6.7105665431162915, 6.7105665431162915, 6.7105665431162915, 6.7105665431162915, 6.7105665431162915, 6.7105665431162915, 6.7105665431162915, 6.7105665431162915, 6.7105665431162915, 6.7105665431162915, 6.7105665431162915, 6.7105665431162915, 6.7105665431162915, 6.7105665431162915, 6.7105665431162915, 6.7105665431162915, 6.7105665431162915, 6.7105665431162915, 6.7105665431162915, 6.7105665431162915, 6.7105665431162915, 6.7105665431162915, 6.7105665431162915, 6.7105665431162915, 6.7105665431162915, 6.7105665431162915, 6.7105665431162915, 6.7105665431162915, 6.7105665431162915, 6.7105665431162915, 6.7105665431162915, 6.7105665431162915, 6.7105665431162915, 6.7105665431162915, 6.7105665431162915, 6.7105665431162915, 6.7105665431162915, 6.7105665431162915, 6.7105665431162915, 6.7105665431162915, 6.7105665431162915, 6.7105665431162915, 6.7105665431162915, 6.7105665431162915, 6.7105665431162915, 6.7105665431162915, 6.7105665431162915, 6.7105665431162915, 6.7105665431162915, 6.7105665431162915, 6.7105665431162915, 6.7105665431162915, 6.7105665431162915, 6.7105665431162915, 6.7105665431162915, 6.7105665431162915, 6.7105665431162915, 6.7105665431162915, 6.7105665431162915, 6.7105665431162915, 6.7105665431162915, 6.7105665431162915, 6.7105665431162915, 6.7105665431162915, 6.7105665431162915, 6.7105665431162915, 6.7105665431162915, 6.7105665431162915, 6.7105665431162915], \"coloraxis\": \"coloraxis\", \"symbol\": \"circle\"}, \"mode\": \"markers\", \"name\": \"\", \"showlegend\": false, \"type\": \"scatter\", \"x\": [41.70803025021037, 72.0352460992814, 0.021436337986315, 30.24023393745766, 14.684121522803132, 99.9875799995505, 99.98342391856711, 0.024185139972263, 99.99902854286887, 0.015172369200630002, 99.95232267559385, 0.016577882447386002, 99.97549764050389, 0.02514308693677, 99.91171563050509, 0.027413644748694004, 99.90771220424313, 0.024173823896923, 99.94940921859525, 0.023893132439288003, 99.90456417805304, 0.059732216491253, 99.80112583848029, 0.20524533529756, 99.80186759627243, 0.031544265031567, 99.99947075508523, 0.318529237755021, 99.8550896167898, 0.015745689865474, 99.99000230635384, 0.48325576419915206, 99.86846598553436, 0.29566899845965905, 99.77675485195375, 0.11903549223525801, 99.84858182358086, 0.728562861643395, 99.90215927205911, 99.73694670687865, 0.359666895446137, 0.588497432102669, 99.25483540467273, 0.159116754421639, 99.85582538883197, 0.34425085098671204, 99.67407276146241, 99.95906569462875, 0.15689482860710102, 99.78494281775433, 0.20567192781665802, 99.32935290870958, 0.424761320531006, 99.5130319449401, 0.22408146528585002, 1.171211113929721, 99.86890403425127, 0.35352607220146903, 0.06789725115197401, 99.99035531099565, 99.21987569922081, 99.56673259874304, 0.390618650551793, 0.19849903846101402, 0.24379202365872402, 97.67714684594556, 99.60656595248382, 99.52324197980873, 0.037185817378180004, 98.67071190662746, 0.978349331816402, 99.88330476351938, 1.421469197692725, 99.81535665958351, 2.483086441645787, 3.052651891443911, 97.32276948190987, 0.5777356715038631, 99.7414279379222, 99.23374975368195, 0.74468946740426, 0.59793688072742, 99.93422311515353, 1.318112491076756, 0.08460461495950701, 99.7777568608653, 99.85232680180005, 1.7137522310719522, 0.030900808414163, 97.44338232968852, 99.8245352986044, 3.127738710822583, 1.869333358213471, 96.43613269066067, 99.09862883976616, 1.825626447781295, 98.19268265103737, 3.637877950409486, 99.7764833956277, 97.36713950138292, 2.535297492041771, 3.22795899741768, 2.919572080350248, 99.75869348223442, 99.8532744232743, 475.3198042323166, 748.2920440979423, 100.10293733561039, 372.09931536865577, 232.08030173540175, 999.8882088168361, 999.910086531595, 100.22463789483382, 999.8320870486485, 100.00933244395853, 999.794272305335, 100.05920686271274, 999.9679350443201, 100.1363014125722, 999.5825734802733, 100.39688935532118, 998.8686776126635, 100.04943975298714, 999.5446374311003, 100.83463123913843, 999.4035638480667, 100.10948016323418, 999.7746015080028, 101.92153281545406, 998.7231317982049, 100.45841466211225, 998.755653377089, 100.27368322465074, 998.69567611872, 100.50288927046566, 999.9100117583604, 102.35326420584583, 999.9354859937545, 102.1801267909814, 998.2715607297762, 100.23924209560543, 997.397005371197, 100.83871034765319, 997.9959749640079, 107.21411462934512, 997.7694308428863, 102.25794305490986, 996.2339436457261, 990.5624970784568, 102.6396556056046, 102.07705114334517, 999.6574695105169, 100.41447881475136, 991.2966456692624, 999.4659681057364, 108.35919811271543, 101.02979162883832, 994.3553410857685, 107.24321545131478, 994.0190158890789, 106.44665592651546, 997.3209782109926, 101.65465716881312, 988.4583338524853, 999.9843774147722, 115.48535426715813, 999.3830141300716, 105.68297929791231, 997.2880287139595, 127.1767505085258, 986.31319403542, 106.9569545728134, 113.74517718292915, 105.73981819475777, 981.8810809364732, 990.5915719865894, 100.13453802309405, 999.4999468359393, 998.3472121775094, 111.18087218812202, 114.92560632505821, 978.1287679913023, 108.74559749121543, 997.0082680045934, 109.26458800176032, 997.1030326407592, 996.1974433067635, 997.0569534266344, 116.80046645170052, 122.8335036137613, 127.20522392787491, 994.7502525316579, 105.84595368094763, 993.0015918286464, 998.8669493251864, 107.2514623130392, 135.2046207554046, 113.9977635752568, 986.9620903165097, 119.98734352688568, 998.6774888392271, 999.3864679364082, 134.51160866307922, 997.6968396100126, 103.380375542826, 991.0152092264273, 115.88338834092005, 983.4900455523766, 928.2836874605492, 102.06423624400439], \"xaxis\": \"x\", \"y\": [6.7105665431162915, 6.7105665431162915, 6.7105665431162915, 6.7105665431162915, 6.7105665431162915, 6.7105665431162915, 6.7105665431162915, 6.7105665431162915, 6.7105665431162915, 6.7105665431162915, 6.7105665431162915, 6.7105665431162915, 6.7105665431162915, 6.7105665431162915, 6.7105665431162915, 6.7105665431162915, 6.7105665431162915, 6.7105665431162915, 6.7105665431162915, 6.7105665431162915, 6.7105665431162915, 6.7105665431162915, 6.7105665431162915, 6.7105665431162915, 6.7105665431162915, 6.7105665431162915, 6.7105665431162915, 6.7105665431162915, 6.7105665431162915, 6.7105665431162915, 6.7105665431162915, 6.7105665431162915, 6.7105665431162915, 6.7105665431162915, 6.7105665431162915, 6.7105665431162915, 6.7105665431162915, 6.7105665431162915, 6.7105665431162915, 6.7105665431162915, 6.7105665431162915, 6.7105665431162915, 6.7105665431162915, 6.7105665431162915, 6.7105665431162915, 6.7105665431162915, 6.7105665431162915, 6.7105665431162915, 6.7105665431162915, 6.7105665431162915, 6.7105665431162915, 6.7105665431162915, 6.7105665431162915, 6.7105665431162915, 6.7105665431162915, 6.7105665431162915, 6.7105665431162915, 6.7105665431162915, 6.7105665431162915, 6.7105665431162915, 6.7105665431162915, 6.7105665431162915, 6.7105665431162915, 6.7105665431162915, 6.7105665431162915, 6.7105665431162915, 6.7105665431162915, 6.7105665431162915, 6.7105665431162915, 6.7105665431162915, 6.7105665431162915, 6.7105665431162915, 6.7105665431162915, 6.7105665431162915, 6.7105665431162915, 6.7105665431162915, 6.7105665431162915, 6.7105665431162915, 6.7105665431162915, 6.7105665431162915, 6.7105665431162915, 6.7105665431162915, 6.7105665431162915, 6.7105665431162915, 6.7105665431162915, 6.7105665431162915, 6.7105665431162915, 6.7105665431162915, 6.7105665431162915, 6.7105665431162915, 6.7105665431162915, 6.7105665431162915, 6.7105665431162915, 6.7105665431162915, 6.7105665431162915, 6.7105665431162915, 6.7105665431162915, 6.7105665431162915, 6.7105665431162915, 6.7105665431162915, 6.7105665431162915, 6.7105665431162915, 6.7105665431162915, 6.7105665431162915, 6.7105665431162915, 6.7105665431162915, 6.7105665431162915, 6.7105665431162915, 6.7105665431162915, 6.7105665431162915, 6.7105665431162915, 6.7105665431162915, 6.7105665431162915, 6.7105665431162915, 6.7105665431162915, 6.7105665431162915, 6.7105665431162915, 6.7105665431162915, 6.7105665431162915, 6.7105665431162915, 6.7105665431162915, 6.7105665431162915, 6.7105665431162915, 6.7105665431162915, 6.7105665431162915, 6.7105665431162915, 6.7105665431162915, 6.7105665431162915, 6.7105665431162915, 6.7105665431162915, 6.7105665431162915, 6.7105665431162915, 6.7105665431162915, 6.7105665431162915, 6.7105665431162915, 6.7105665431162915, 6.7105665431162915, 6.7105665431162915, 6.7105665431162915, 6.7105665431162915, 6.7105665431162915, 6.7105665431162915, 6.7105665431162915, 6.7105665431162915, 6.7105665431162915, 6.7105665431162915, 6.7105665431162915, 6.7105665431162915, 6.7105665431162915, 6.7105665431162915, 6.7105665431162915, 6.7105665431162915, 6.7105665431162915, 6.7105665431162915, 6.7105665431162915, 6.7105665431162915, 6.7105665431162915, 6.7105665431162915, 6.7105665431162915, 6.7105665431162915, 6.7105665431162915, 6.7105665431162915, 6.7105665431162915, 6.7105665431162915, 6.7105665431162915, 6.7105665431162915, 6.7105665431162915, 6.7105665431162915, 6.7105665431162915, 6.7105665431162915, 6.7105665431162915, 6.7105665431162915, 6.7105665431162915, 6.7105665431162915, 6.7105665431162915, 6.7105665431162915, 6.7105665431162915, 6.7105665431162915, 6.7105665431162915, 6.7105665431162915, 6.7105665431162915, 6.7105665431162915, 6.7105665431162915, 6.7105665431162915, 6.7105665431162915, 6.7105665431162915, 6.7105665431162915, 6.7105665431162915, 6.7105665431162915, 6.7105665431162915, 6.7105665431162915, 6.7105665431162915, 6.7105665431162915, 6.7105665431162915, 6.7105665431162915, 6.7105665431162915, 6.7105665431162915, 6.7105665431162915, 6.7105665431162915, 6.7105665431162915, 6.7105665431162915, 6.7105665431162915, 6.7105665431162915, 6.7105665431162915, 6.7105665431162915, 6.7105665431162915, 6.7105665431162915, 6.7105665431162915, 6.7105665431162915, 6.7105665431162915], \"yaxis\": \"y\"}],\n",
       "                        {\"coloraxis\": {\"colorbar\": {\"title\": {\"text\": \"target\"}}, \"colorscale\": [[0.0, \"#0d0887\"], [0.1111111111111111, \"#46039f\"], [0.2222222222222222, \"#7201a8\"], [0.3333333333333333, \"#9c179e\"], [0.4444444444444444, \"#bd3786\"], [0.5555555555555556, \"#d8576b\"], [0.6666666666666666, \"#ed7953\"], [0.7777777777777778, \"#fb9f3a\"], [0.8888888888888888, \"#fdca26\"], [1.0, \"#f0f921\"]]}, \"height\": 600, \"legend\": {\"tracegroupgap\": 0}, \"margin\": {\"t\": 60}, \"template\": {\"data\": {\"bar\": [{\"error_x\": {\"color\": \"#2a3f5f\"}, \"error_y\": {\"color\": \"#2a3f5f\"}, \"marker\": {\"line\": {\"color\": \"#E5ECF6\", \"width\": 0.5}}, \"type\": \"bar\"}], \"barpolar\": [{\"marker\": {\"line\": {\"color\": \"#E5ECF6\", \"width\": 0.5}}, \"type\": \"barpolar\"}], \"carpet\": [{\"aaxis\": {\"endlinecolor\": \"#2a3f5f\", \"gridcolor\": \"white\", \"linecolor\": \"white\", \"minorgridcolor\": \"white\", \"startlinecolor\": \"#2a3f5f\"}, \"baxis\": {\"endlinecolor\": \"#2a3f5f\", \"gridcolor\": \"white\", \"linecolor\": \"white\", \"minorgridcolor\": \"white\", \"startlinecolor\": \"#2a3f5f\"}, \"type\": \"carpet\"}], \"choropleth\": [{\"colorbar\": {\"outlinewidth\": 0, \"ticks\": \"\"}, \"type\": \"choropleth\"}], \"contour\": [{\"colorbar\": {\"outlinewidth\": 0, \"ticks\": \"\"}, \"colorscale\": [[0.0, \"#0d0887\"], [0.1111111111111111, \"#46039f\"], [0.2222222222222222, \"#7201a8\"], [0.3333333333333333, \"#9c179e\"], [0.4444444444444444, \"#bd3786\"], [0.5555555555555556, \"#d8576b\"], [0.6666666666666666, \"#ed7953\"], [0.7777777777777778, \"#fb9f3a\"], [0.8888888888888888, \"#fdca26\"], [1.0, \"#f0f921\"]], \"type\": \"contour\"}], \"contourcarpet\": [{\"colorbar\": {\"outlinewidth\": 0, \"ticks\": \"\"}, \"type\": \"contourcarpet\"}], \"heatmap\": [{\"colorbar\": {\"outlinewidth\": 0, \"ticks\": \"\"}, \"colorscale\": [[0.0, \"#0d0887\"], [0.1111111111111111, \"#46039f\"], [0.2222222222222222, \"#7201a8\"], [0.3333333333333333, \"#9c179e\"], [0.4444444444444444, \"#bd3786\"], [0.5555555555555556, \"#d8576b\"], [0.6666666666666666, \"#ed7953\"], [0.7777777777777778, \"#fb9f3a\"], [0.8888888888888888, \"#fdca26\"], [1.0, \"#f0f921\"]], \"type\": \"heatmap\"}], \"heatmapgl\": [{\"colorbar\": {\"outlinewidth\": 0, \"ticks\": \"\"}, \"colorscale\": [[0.0, \"#0d0887\"], [0.1111111111111111, \"#46039f\"], [0.2222222222222222, \"#7201a8\"], [0.3333333333333333, \"#9c179e\"], [0.4444444444444444, \"#bd3786\"], [0.5555555555555556, \"#d8576b\"], [0.6666666666666666, \"#ed7953\"], [0.7777777777777778, \"#fb9f3a\"], [0.8888888888888888, \"#fdca26\"], [1.0, \"#f0f921\"]], \"type\": \"heatmapgl\"}], \"histogram\": [{\"marker\": {\"colorbar\": {\"outlinewidth\": 0, \"ticks\": \"\"}}, \"type\": \"histogram\"}], \"histogram2d\": [{\"colorbar\": {\"outlinewidth\": 0, \"ticks\": \"\"}, \"colorscale\": [[0.0, \"#0d0887\"], [0.1111111111111111, \"#46039f\"], [0.2222222222222222, \"#7201a8\"], [0.3333333333333333, \"#9c179e\"], [0.4444444444444444, \"#bd3786\"], [0.5555555555555556, \"#d8576b\"], [0.6666666666666666, \"#ed7953\"], [0.7777777777777778, \"#fb9f3a\"], [0.8888888888888888, \"#fdca26\"], [1.0, \"#f0f921\"]], \"type\": \"histogram2d\"}], \"histogram2dcontour\": [{\"colorbar\": {\"outlinewidth\": 0, \"ticks\": \"\"}, \"colorscale\": [[0.0, \"#0d0887\"], [0.1111111111111111, \"#46039f\"], [0.2222222222222222, \"#7201a8\"], [0.3333333333333333, \"#9c179e\"], [0.4444444444444444, \"#bd3786\"], [0.5555555555555556, \"#d8576b\"], [0.6666666666666666, \"#ed7953\"], [0.7777777777777778, \"#fb9f3a\"], [0.8888888888888888, \"#fdca26\"], [1.0, \"#f0f921\"]], \"type\": \"histogram2dcontour\"}], \"mesh3d\": [{\"colorbar\": {\"outlinewidth\": 0, \"ticks\": \"\"}, \"type\": \"mesh3d\"}], \"parcoords\": [{\"line\": {\"colorbar\": {\"outlinewidth\": 0, \"ticks\": \"\"}}, \"type\": \"parcoords\"}], \"scatter\": [{\"marker\": {\"colorbar\": {\"outlinewidth\": 0, \"ticks\": \"\"}}, \"type\": \"scatter\"}], \"scatter3d\": [{\"line\": {\"colorbar\": {\"outlinewidth\": 0, \"ticks\": \"\"}}, \"marker\": {\"colorbar\": {\"outlinewidth\": 0, \"ticks\": \"\"}}, \"type\": \"scatter3d\"}], \"scattercarpet\": [{\"marker\": {\"colorbar\": {\"outlinewidth\": 0, \"ticks\": \"\"}}, \"type\": \"scattercarpet\"}], \"scattergeo\": [{\"marker\": {\"colorbar\": {\"outlinewidth\": 0, \"ticks\": \"\"}}, \"type\": \"scattergeo\"}], \"scattergl\": [{\"marker\": {\"colorbar\": {\"outlinewidth\": 0, \"ticks\": \"\"}}, \"type\": \"scattergl\"}], \"scattermapbox\": [{\"marker\": {\"colorbar\": {\"outlinewidth\": 0, \"ticks\": \"\"}}, \"type\": \"scattermapbox\"}], \"scatterpolar\": [{\"marker\": {\"colorbar\": {\"outlinewidth\": 0, \"ticks\": \"\"}}, \"type\": \"scatterpolar\"}], \"scatterpolargl\": [{\"marker\": {\"colorbar\": {\"outlinewidth\": 0, \"ticks\": \"\"}}, \"type\": \"scatterpolargl\"}], \"scatterternary\": [{\"marker\": {\"colorbar\": {\"outlinewidth\": 0, \"ticks\": \"\"}}, \"type\": \"scatterternary\"}], \"surface\": [{\"colorbar\": {\"outlinewidth\": 0, \"ticks\": \"\"}, \"colorscale\": [[0.0, \"#0d0887\"], [0.1111111111111111, \"#46039f\"], [0.2222222222222222, \"#7201a8\"], [0.3333333333333333, \"#9c179e\"], [0.4444444444444444, \"#bd3786\"], [0.5555555555555556, \"#d8576b\"], [0.6666666666666666, \"#ed7953\"], [0.7777777777777778, \"#fb9f3a\"], [0.8888888888888888, \"#fdca26\"], [1.0, \"#f0f921\"]], \"type\": \"surface\"}], \"table\": [{\"cells\": {\"fill\": {\"color\": \"#EBF0F8\"}, \"line\": {\"color\": \"white\"}}, \"header\": {\"fill\": {\"color\": \"#C8D4E3\"}, \"line\": {\"color\": \"white\"}}, \"type\": \"table\"}]}, \"layout\": {\"annotationdefaults\": {\"arrowcolor\": \"#2a3f5f\", \"arrowhead\": 0, \"arrowwidth\": 1}, \"colorscale\": {\"diverging\": [[0, \"#8e0152\"], [0.1, \"#c51b7d\"], [0.2, \"#de77ae\"], [0.3, \"#f1b6da\"], [0.4, \"#fde0ef\"], [0.5, \"#f7f7f7\"], [0.6, \"#e6f5d0\"], [0.7, \"#b8e186\"], [0.8, \"#7fbc41\"], [0.9, \"#4d9221\"], [1, \"#276419\"]], \"sequential\": [[0.0, \"#0d0887\"], [0.1111111111111111, \"#46039f\"], [0.2222222222222222, \"#7201a8\"], [0.3333333333333333, \"#9c179e\"], [0.4444444444444444, \"#bd3786\"], [0.5555555555555556, \"#d8576b\"], [0.6666666666666666, \"#ed7953\"], [0.7777777777777778, \"#fb9f3a\"], [0.8888888888888888, \"#fdca26\"], [1.0, \"#f0f921\"]], \"sequentialminus\": [[0.0, \"#0d0887\"], [0.1111111111111111, \"#46039f\"], [0.2222222222222222, \"#7201a8\"], [0.3333333333333333, \"#9c179e\"], [0.4444444444444444, \"#bd3786\"], [0.5555555555555556, \"#d8576b\"], [0.6666666666666666, \"#ed7953\"], [0.7777777777777778, \"#fb9f3a\"], [0.8888888888888888, \"#fdca26\"], [1.0, \"#f0f921\"]]}, \"colorway\": [\"#636efa\", \"#EF553B\", \"#00cc96\", \"#ab63fa\", \"#FFA15A\", \"#19d3f3\", \"#FF6692\", \"#B6E880\", \"#FF97FF\", \"#FECB52\"], \"font\": {\"color\": \"#2a3f5f\"}, \"geo\": {\"bgcolor\": \"white\", \"lakecolor\": \"white\", \"landcolor\": \"#E5ECF6\", \"showlakes\": true, \"showland\": true, \"subunitcolor\": \"white\"}, \"hoverlabel\": {\"align\": \"left\"}, \"hovermode\": \"closest\", \"mapbox\": {\"style\": \"light\"}, \"paper_bgcolor\": \"white\", \"plot_bgcolor\": \"#E5ECF6\", \"polar\": {\"angularaxis\": {\"gridcolor\": \"white\", \"linecolor\": \"white\", \"ticks\": \"\"}, \"bgcolor\": \"#E5ECF6\", \"radialaxis\": {\"gridcolor\": \"white\", \"linecolor\": \"white\", \"ticks\": \"\"}}, \"scene\": {\"xaxis\": {\"backgroundcolor\": \"#E5ECF6\", \"gridcolor\": \"white\", \"gridwidth\": 2, \"linecolor\": \"white\", \"showbackground\": true, \"ticks\": \"\", \"zerolinecolor\": \"white\"}, \"yaxis\": {\"backgroundcolor\": \"#E5ECF6\", \"gridcolor\": \"white\", \"gridwidth\": 2, \"linecolor\": \"white\", \"showbackground\": true, \"ticks\": \"\", \"zerolinecolor\": \"white\"}, \"zaxis\": {\"backgroundcolor\": \"#E5ECF6\", \"gridcolor\": \"white\", \"gridwidth\": 2, \"linecolor\": \"white\", \"showbackground\": true, \"ticks\": \"\", \"zerolinecolor\": \"white\"}}, \"shapedefaults\": {\"line\": {\"color\": \"#2a3f5f\"}}, \"ternary\": {\"aaxis\": {\"gridcolor\": \"white\", \"linecolor\": \"white\", \"ticks\": \"\"}, \"baxis\": {\"gridcolor\": \"white\", \"linecolor\": \"white\", \"ticks\": \"\"}, \"bgcolor\": \"#E5ECF6\", \"caxis\": {\"gridcolor\": \"white\", \"linecolor\": \"white\", \"ticks\": \"\"}}, \"title\": {\"x\": 0.05}, \"xaxis\": {\"automargin\": true, \"gridcolor\": \"white\", \"linecolor\": \"white\", \"ticks\": \"\", \"zerolinecolor\": \"white\", \"zerolinewidth\": 2}, \"yaxis\": {\"automargin\": true, \"gridcolor\": \"white\", \"linecolor\": \"white\", \"ticks\": \"\", \"zerolinecolor\": \"white\", \"zerolinewidth\": 2}}}, \"xaxis\": {\"anchor\": \"y\", \"domain\": [0.0, 0.98], \"title\": {\"text\": \"alpha\"}}, \"yaxis\": {\"anchor\": \"x\", \"domain\": [0.0, 1.0], \"title\": {\"text\": \"target\"}}},\n",
       "                        {\"responsive\": true}\n",
       "                    ).then(function(){\n",
       "                            \n",
       "var gd = document.getElementById('2a5dd7ec-c723-4467-ba36-eb8d6d1c94cd');\n",
       "var x = new MutationObserver(function (mutations, observer) {{\n",
       "        var display = window.getComputedStyle(gd).display;\n",
       "        if (!display || display === 'none') {{\n",
       "            console.log([gd, 'removed!']);\n",
       "            Plotly.purge(gd);\n",
       "            observer.disconnect();\n",
       "        }}\n",
       "}});\n",
       "\n",
       "// Listen for the removal of the full notebook cells\n",
       "var notebookContainer = gd.closest('#notebook-container');\n",
       "if (notebookContainer) {{\n",
       "    x.observe(notebookContainer, {childList: true});\n",
       "}}\n",
       "\n",
       "// Listen for the clearing of the current output cell\n",
       "var outputEl = gd.closest('.output');\n",
       "if (outputEl) {{\n",
       "    x.observe(outputEl, {childList: true});\n",
       "}}\n",
       "\n",
       "                        })\n",
       "                };\n",
       "                });\n",
       "            </script>\n",
       "        </div>"
      ]
     },
     "metadata": {},
     "output_type": "display_data"
    }
   ],
   "source": [
    "px.scatter(df, x=\"alpha\", y=\"target\", color=\"target\")"
   ]
  },
  {
   "cell_type": "code",
   "execution_count": 37,
   "metadata": {
    "ExecuteTime": {
     "end_time": "2021-08-25T19:01:48.789776Z",
     "start_time": "2021-08-25T19:01:48.773779Z"
    },
    "hidden": true
   },
   "outputs": [],
   "source": [
    "# px.scatter_3d(df1, x = \"C\", y = \"gamma\", z = \"target\", color = \"target\")"
   ]
  },
  {
   "cell_type": "code",
   "execution_count": 162,
   "metadata": {
    "ExecuteTime": {
     "end_time": "2021-07-21T03:46:51.213923Z",
     "start_time": "2021-07-21T03:46:51.183920Z"
    },
    "hidden": true
   },
   "outputs": [
    {
     "data": {
      "text/html": [
       "<div>\n",
       "<style scoped>\n",
       "    .dataframe tbody tr th:only-of-type {\n",
       "        vertical-align: middle;\n",
       "    }\n",
       "\n",
       "    .dataframe tbody tr th {\n",
       "        vertical-align: top;\n",
       "    }\n",
       "\n",
       "    .dataframe thead th {\n",
       "        text-align: right;\n",
       "    }\n",
       "</style>\n",
       "<table border=\"1\" class=\"dataframe\">\n",
       "  <thead>\n",
       "    <tr style=\"text-align: right;\">\n",
       "      <th></th>\n",
       "      <th>target</th>\n",
       "      <th>C</th>\n",
       "      <th>epsilon</th>\n",
       "      <th>gamma</th>\n",
       "    </tr>\n",
       "  </thead>\n",
       "  <tbody>\n",
       "    <tr>\n",
       "      <th>1604</th>\n",
       "      <td>10.507991</td>\n",
       "      <td>22.039847</td>\n",
       "      <td>2.525620</td>\n",
       "      <td>0.021129</td>\n",
       "    </tr>\n",
       "    <tr>\n",
       "      <th>1335</th>\n",
       "      <td>10.515189</td>\n",
       "      <td>20.627595</td>\n",
       "      <td>2.629326</td>\n",
       "      <td>0.022105</td>\n",
       "    </tr>\n",
       "    <tr>\n",
       "      <th>1548</th>\n",
       "      <td>10.515350</td>\n",
       "      <td>24.941128</td>\n",
       "      <td>2.420051</td>\n",
       "      <td>0.019693</td>\n",
       "    </tr>\n",
       "    <tr>\n",
       "      <th>1358</th>\n",
       "      <td>10.515813</td>\n",
       "      <td>20.634306</td>\n",
       "      <td>2.628457</td>\n",
       "      <td>0.020276</td>\n",
       "    </tr>\n",
       "    <tr>\n",
       "      <th>1529</th>\n",
       "      <td>10.517441</td>\n",
       "      <td>27.663142</td>\n",
       "      <td>2.312948</td>\n",
       "      <td>0.018116</td>\n",
       "    </tr>\n",
       "    <tr>\n",
       "      <th>...</th>\n",
       "      <td>...</td>\n",
       "      <td>...</td>\n",
       "      <td>...</td>\n",
       "      <td>...</td>\n",
       "    </tr>\n",
       "    <tr>\n",
       "      <th>1153</th>\n",
       "      <td>80.281179</td>\n",
       "      <td>44.207399</td>\n",
       "      <td>3.513136</td>\n",
       "      <td>0.030663</td>\n",
       "    </tr>\n",
       "    <tr>\n",
       "      <th>1422</th>\n",
       "      <td>80.706100</td>\n",
       "      <td>23.030050</td>\n",
       "      <td>2.362115</td>\n",
       "      <td>0.036870</td>\n",
       "    </tr>\n",
       "    <tr>\n",
       "      <th>1084</th>\n",
       "      <td>81.138562</td>\n",
       "      <td>14.175473</td>\n",
       "      <td>6.347216</td>\n",
       "      <td>0.022410</td>\n",
       "    </tr>\n",
       "    <tr>\n",
       "      <th>1204</th>\n",
       "      <td>81.208670</td>\n",
       "      <td>46.615544</td>\n",
       "      <td>4.974446</td>\n",
       "      <td>0.029305</td>\n",
       "    </tr>\n",
       "    <tr>\n",
       "      <th>954</th>\n",
       "      <td>81.430815</td>\n",
       "      <td>14.796947</td>\n",
       "      <td>6.128727</td>\n",
       "      <td>0.028776</td>\n",
       "    </tr>\n",
       "  </tbody>\n",
       "</table>\n",
       "<p>1699 rows × 4 columns</p>\n",
       "</div>"
      ],
      "text/plain": [
       "         target          C   epsilon     gamma\n",
       "1604  10.507991  22.039847  2.525620  0.021129\n",
       "1335  10.515189  20.627595  2.629326  0.022105\n",
       "1548  10.515350  24.941128  2.420051  0.019693\n",
       "1358  10.515813  20.634306  2.628457  0.020276\n",
       "1529  10.517441  27.663142  2.312948  0.018116\n",
       "...         ...        ...       ...       ...\n",
       "1153  80.281179  44.207399  3.513136  0.030663\n",
       "1422  80.706100  23.030050  2.362115  0.036870\n",
       "1084  81.138562  14.175473  6.347216  0.022410\n",
       "1204  81.208670  46.615544  4.974446  0.029305\n",
       "954   81.430815  14.796947  6.128727  0.028776\n",
       "\n",
       "[1699 rows x 4 columns]"
      ]
     },
     "execution_count": 162,
     "metadata": {},
     "output_type": "execute_result"
    }
   ],
   "source": [
    "df.sort_values(\"target\")"
   ]
  },
  {
   "cell_type": "markdown",
   "metadata": {
    "heading_collapsed": true
   },
   "source": [
    "# SVR Sklearn"
   ]
  },
  {
   "cell_type": "markdown",
   "metadata": {
    "ExecuteTime": {
     "end_time": "2021-06-28T19:19:01.354500Z",
     "start_time": "2021-06-28T19:19:01.335502Z"
    },
    "hidden": true
   },
   "source": [
    "## load data"
   ]
  },
  {
   "cell_type": "code",
   "execution_count": 241,
   "metadata": {
    "ExecuteTime": {
     "end_time": "2021-08-25T22:09:06.210963Z",
     "start_time": "2021-08-25T22:09:06.159812Z"
    },
    "hidden": true
   },
   "outputs": [],
   "source": [
    "jsn_path = Path().resolve() / \"Logs\" / \"SVR_skl.json\"\n",
    "data = pd.read_json(jsn_path , lines = True).drop([\"datetime\"], axis = 1)"
   ]
  },
  {
   "cell_type": "markdown",
   "metadata": {
    "ExecuteTime": {
     "end_time": "2021-06-28T19:19:01.759647Z",
     "start_time": "2021-06-28T19:19:01.744648Z"
    },
    "hidden": true
   },
   "source": [
    "## convert data"
   ]
  },
  {
   "cell_type": "code",
   "execution_count": 242,
   "metadata": {
    "ExecuteTime": {
     "end_time": "2021-08-25T22:09:06.660396Z",
     "start_time": "2021-08-25T22:09:06.617909Z"
    },
    "hidden": true
   },
   "outputs": [],
   "source": [
    "params = pd.json_normalize(data['params'])"
   ]
  },
  {
   "cell_type": "code",
   "execution_count": 243,
   "metadata": {
    "ExecuteTime": {
     "end_time": "2021-08-25T22:09:06.783017Z",
     "start_time": "2021-08-25T22:09:06.757932Z"
    },
    "hidden": true
   },
   "outputs": [],
   "source": [
    "df = pd.concat([data[[\"target\"]]*-1, params], axis = 1)"
   ]
  },
  {
   "cell_type": "markdown",
   "metadata": {
    "ExecuteTime": {
     "end_time": "2021-06-28T19:19:02.241018Z",
     "start_time": "2021-06-28T19:19:02.236988Z"
    },
    "hidden": true
   },
   "source": [
    "## plot"
   ]
  },
  {
   "cell_type": "code",
   "execution_count": 183,
   "metadata": {
    "ExecuteTime": {
     "end_time": "2021-08-25T20:28:12.657413Z",
     "start_time": "2021-08-25T20:28:12.629413Z"
    },
    "hidden": true
   },
   "outputs": [],
   "source": [
    "df1 = df.query(\"target < 2.6\")\n",
    "df2 = df.query(\"target < 5\")\n",
    "df3 = df.query(\"C > 10\")\n",
    "# df3 = df.query(\"gamma < 0.5 & target < 20\")"
   ]
  },
  {
   "cell_type": "code",
   "execution_count": 184,
   "metadata": {
    "ExecuteTime": {
     "end_time": "2021-08-25T20:28:13.714228Z",
     "start_time": "2021-08-25T20:28:13.219184Z"
    },
    "hidden": true,
    "scrolled": false
   },
   "outputs": [
    {
     "data": {
      "application/vnd.plotly.v1+json": {
       "config": {
        "plotlyServerURL": "https://plot.ly"
       },
       "data": [
        {
         "hoverlabel": {
          "namelength": 0
         },
         "hovertemplate": "epsilon=%{x}<br>gamma=%{y}<br>C=%{z}<br>target=%{marker.color}",
         "legendgroup": "",
         "marker": {
          "color": [
           2.493084272883889,
           2.54314046867617,
           2.581303992749398,
           2.562148748718907,
           2.539260284910651,
           2.4647309734751772,
           2.567554785430285,
           2.537056418495036,
           2.515408937534707,
           2.400218950260562,
           2.5170254825540272,
           2.401847524193885,
           2.549166736441671,
           2.4123572966720213,
           2.5074688417167588,
           2.475353848392958,
           2.485377651351022,
           2.513644153904881,
           2.443353784410938,
           2.443312101961742,
           2.338415658929036,
           2.54016236515319,
           2.414919580150446,
           2.372068201259463,
           2.565837641597701,
           2.576376163035412,
           2.433773618178127,
           2.400494112928369,
           2.598341940161403,
           2.56516017591115,
           2.519098442436548,
           2.596327211370399,
           2.403708467754311,
           2.584388218703645,
           2.495115528814758,
           2.412207722396828,
           2.405390046066284,
           2.350269716192885,
           2.457841092286675,
           2.565837641597701,
           2.576376163035412,
           2.433773618178127,
           2.400494112928369,
           2.598341940161403,
           2.56516017591115,
           2.519098442436548,
           2.596327211370399,
           2.403708467754311,
           2.584388218703645,
           2.495115528814758,
           2.412207722396828,
           2.405390046066284,
           2.350269716192885,
           2.457841092286675,
           2.51709174448855,
           2.5027959549992502,
           2.489607407648145,
           2.5731748570999002,
           2.580664996477224,
           2.570191418293449,
           2.500422028087089,
           2.579707986768774,
           2.427472023954901,
           2.515345687267854,
           2.421840925116185,
           2.419139273803138,
           2.336005370009835,
           2.462740481897566,
           2.499424718849931,
           2.508868582390389,
           2.457770020213949,
           2.42679199693757,
           2.488257090529464,
           2.496839047347048,
           2.506991881341149,
           2.389968711737639,
           2.444471814406382,
           2.388594722391015,
           2.361138770707791,
           2.52105652735682,
           2.361498309973848,
           2.593697808324051,
           2.39873995514662,
           2.437138097888009,
           2.390576605930969,
           2.49835655090138,
           2.456664069680862,
           2.36471702496728,
           2.463858107034682,
           2.593035207560125,
           2.387644463867173,
           2.380779689430804,
           2.314474988678728,
           2.408601747077728,
           2.499288599621575,
           2.466905026507385,
           2.459107134690298,
           2.492626254390645,
           2.476351030287056,
           2.495132044536733,
           2.530952375351908,
           2.459263503976299,
           2.475861688400904,
           2.539741075066214
          ],
          "coloraxis": "coloraxis",
          "symbol": "circle"
         },
         "mode": "markers",
         "name": "",
         "scene": "scene",
         "showlegend": false,
         "type": "scatter3d",
         "x": [
          0.09159514140104101,
          0.0912514551199,
          0.090430800821741,
          0.09139311693341401,
          0.089660287423972,
          0.0803728664144,
          0.091246951653285,
          0.089660287423972,
          0.091246951653285,
          0.09209123290146401,
          0.081309684337622,
          0.08199667651870801,
          0.09091258906787701,
          0.09307665187891001,
          0.082339423230452,
          0.09088735426072901,
          0.091174037918439,
          0.09104425094393001,
          0.08020689312008,
          0.090597604424968,
          0.092056646877385,
          0.091027948301312,
          0.09201075915761901,
          0.091580298681758,
          0.089144480554027,
          0.09054141795109201,
          0.09286054478585401,
          0.09265074140273101,
          0.08874119745174401,
          0.08965497885119,
          0.09102458176378901,
          0.092616506120684,
          0.092243593750423,
          0.08952800420495001,
          0.092777341951727,
          0.091246951653285,
          0.091980455249524,
          0.09150898383750801,
          0.092841323948573,
          0.089144480554027,
          0.09054141795109201,
          0.09286054478585401,
          0.09265074140273101,
          0.08874119745174401,
          0.08965497885119,
          0.09102458176378901,
          0.092616506120684,
          0.092243593750423,
          0.08952800420495001,
          0.092777341951727,
          0.091246951653285,
          0.091980455249524,
          0.09150898383750801,
          0.092841323948573,
          0.09307665187891001,
          0.09088735426072901,
          0.09299181069132101,
          0.089144480554027,
          0.09054141795109201,
          0.08965497885119,
          0.09102458176378901,
          0.092616506120684,
          0.092243593750423,
          0.092777341951727,
          0.091246951653285,
          0.091980455249524,
          0.09150898383750801,
          0.092841323948573,
          0.09307665187891001,
          0.09088735426072901,
          0.09299181069132101,
          0.09095822085407401,
          0.09114783791282301,
          0.09078809421707701,
          0.090747539024653,
          0.092080374528514,
          0.092639787064639,
          0.09182758644779501,
          0.09215643435520701,
          0.093119790381818,
          0.09162195896767,
          0.09047104364282901,
          0.091311036205501,
          0.090211894223332,
          0.09206583726068501,
          0.09031169373586401,
          0.090654842168811,
          0.09211511829801901,
          0.09099833825935401,
          0.093398592516768,
          0.092171144813497,
          0.091214154139775,
          0.09146297184354,
          0.09239107607557201,
          0.09028614610776,
          0.09087828884297401,
          0.091069910831512,
          0.09022013611611901,
          0.09076677685671701,
          0.090359087054762,
          0.090645845978867,
          0.09201367546854301,
          0.090894445922268,
          0.08991619601988801
         ],
         "y": [
          7.746724551931922,
          8.014245868377442,
          8.029112414094469,
          8.03820331924647,
          6.613604863507273,
          9.917623730160225,
          5.09026903663919,
          6.6441129278,
          5.134500847119917,
          4.75844770509189,
          4.446267245103355,
          8.483574393989185,
          8.372231551632504,
          3.400157876533301,
          5.948408402672287,
          6.829678117512691,
          6.810568131092352,
          7.7046011833152,
          8.47311792459654,
          6.5010701052924915,
          4.158211189567182,
          8.074253159500262,
          5.467975941039625,
          4.339431315613426,
          3.584064094746825,
          5.5708849967304435,
          3.809334892715666,
          3.790207257650594,
          3.7665477292728493,
          4.606133803636898,
          5.76341374199714,
          5.923888781036287,
          4.882490302532518,
          4.194460978400922,
          4.103108237931719,
          4.525606317309066,
          5.061891966765919,
          4.014746641342523,
          3.8961490981013442,
          3.584064094746825,
          5.5708849967304435,
          3.809334892715666,
          3.790207257650594,
          3.7665477292728493,
          4.606133803636898,
          5.76341374199714,
          5.923888781036287,
          4.882490302532518,
          4.194460978400922,
          4.103108237931719,
          4.525606317309066,
          5.061891966765919,
          4.014746641342523,
          3.8961490981013442,
          4.000047841373727,
          5.03929639924627,
          3.112118168564351,
          3.584064094746825,
          5.5708849967304435,
          4.606133803636898,
          5.76341374199714,
          5.923888781036287,
          4.882490302532518,
          4.103108237931719,
          4.525606317309066,
          5.061891966765919,
          4.014746641342523,
          3.8961490981013442,
          4.000047841373727,
          5.03929639924627,
          3.112118168564351,
          4.149627501416115,
          4.96082076090534,
          4.695526187187717,
          4.704168354879348,
          4.703298185852811,
          4.687585250924299,
          4.684261898882934,
          4.676441067335853,
          3.85255232128341,
          4.2201407139147324,
          5.043674824884422,
          4.217481164066643,
          4.217709589148232,
          4.219711630695423,
          4.221472872025176,
          4.31705068033435,
          4.322417948479995,
          5.5404770890876325,
          4.467031697465733,
          4.69375298703788,
          4.156252835550521,
          3.858758149455118,
          4.8987812416195595,
          3.864167678738759,
          4.469819616162821,
          5.540788137415017,
          4.214481142386319,
          5.53598071568719,
          4.163388846285166,
          5.385341288044193,
          5.3802099370710454,
          5.540290059394377,
          4.165223545771592
         ],
         "z": [
          3.76464540383569,
          3.591616071274831,
          3.626816276713866,
          3.613636275643189,
          2.5804447613168513,
          0.417728753074716,
          2.790650727561948,
          2.647287601304988,
          2.855599820106436,
          9.533785416332446,
          0.500718460020243,
          0.30543062460873605,
          1.039924269157977,
          5.967656021447512,
          0.5881834511170151,
          3.099749286616264,
          3.122379977789521,
          1.2590267882230681,
          0.316011579521478,
          3.449729648614699,
          9.36706487385748,
          5.032767988285355,
          7.453295240751093,
          9.878813178257586,
          11.083792363168541,
          8.257309316057974,
          11.12876178033611,
          11.099982527866938,
          11.159720992085031,
          7.527854931585771,
          6.108696264961165,
          6.7604767815003175,
          8.22627114460847,
          10.720404591821715,
          12.237888635691668,
          7.948403913206571,
          8.23161898427033,
          6.367145429499684,
          9.208338052859535,
          11.083792363168541,
          8.257309316057974,
          11.12876178033611,
          11.099982527866938,
          11.159720992085031,
          7.527854931585771,
          6.108696264961165,
          6.7604767815003175,
          8.22627114460847,
          10.720404591821715,
          12.237888635691668,
          7.948403913206571,
          8.23161898427033,
          6.367145429499684,
          9.208338052859535,
          10.148847691932584,
          8.121034849122612,
          12.27942838153336,
          12.536304466930982,
          8.902254834931682,
          7.964384912038848,
          6.139752340664356,
          6.977755861928979,
          8.862348614496604,
          14.020142531603575,
          8.505090745551305,
          8.86922440834757,
          6.47204412364245,
          10.125006067962259,
          11.334232746770466,
          8.727044806014785,
          14.073550776257179,
          8.708446105070635,
          8.454498642871535,
          8.42287397416197,
          8.444002094573914,
          8.416294840364834,
          8.682785582882241,
          8.410845346568017,
          8.42955855035233,
          7.594283182800044,
          8.75387941650144,
          9.770638747427567,
          8.74288614640265,
          7.076685409880101,
          7.086787642476262,
          8.756002394813429,
          6.161906448493028,
          6.152230988877699,
          6.083002272569186,
          8.679266539935401,
          8.413892213286926,
          8.699318147595077,
          7.599954045780223,
          8.132643020038243,
          7.608444153604237,
          8.684488772942066,
          6.094667651014999,
          8.758994446881527,
          6.100513981652305,
          8.704364372224276,
          8.351279192282782,
          8.356398545463499,
          6.089732037833809,
          8.71233265853619
         ]
        }
       ],
       "layout": {
        "coloraxis": {
         "colorbar": {
          "title": {
           "text": "target"
          }
         },
         "colorscale": [
          [
           0,
           "#0d0887"
          ],
          [
           0.1111111111111111,
           "#46039f"
          ],
          [
           0.2222222222222222,
           "#7201a8"
          ],
          [
           0.3333333333333333,
           "#9c179e"
          ],
          [
           0.4444444444444444,
           "#bd3786"
          ],
          [
           0.5555555555555556,
           "#d8576b"
          ],
          [
           0.6666666666666666,
           "#ed7953"
          ],
          [
           0.7777777777777778,
           "#fb9f3a"
          ],
          [
           0.8888888888888888,
           "#fdca26"
          ],
          [
           1,
           "#f0f921"
          ]
         ]
        },
        "height": 600,
        "legend": {
         "tracegroupgap": 0
        },
        "margin": {
         "t": 60
        },
        "scene": {
         "domain": {
          "x": [
           0,
           0.98
          ],
          "y": [
           0,
           1
          ]
         },
         "xaxis": {
          "title": {
           "text": "epsilon"
          }
         },
         "yaxis": {
          "title": {
           "text": "gamma"
          }
         },
         "zaxis": {
          "title": {
           "text": "C"
          }
         }
        },
        "template": {
         "data": {
          "bar": [
           {
            "error_x": {
             "color": "#2a3f5f"
            },
            "error_y": {
             "color": "#2a3f5f"
            },
            "marker": {
             "line": {
              "color": "#E5ECF6",
              "width": 0.5
             }
            },
            "type": "bar"
           }
          ],
          "barpolar": [
           {
            "marker": {
             "line": {
              "color": "#E5ECF6",
              "width": 0.5
             }
            },
            "type": "barpolar"
           }
          ],
          "carpet": [
           {
            "aaxis": {
             "endlinecolor": "#2a3f5f",
             "gridcolor": "white",
             "linecolor": "white",
             "minorgridcolor": "white",
             "startlinecolor": "#2a3f5f"
            },
            "baxis": {
             "endlinecolor": "#2a3f5f",
             "gridcolor": "white",
             "linecolor": "white",
             "minorgridcolor": "white",
             "startlinecolor": "#2a3f5f"
            },
            "type": "carpet"
           }
          ],
          "choropleth": [
           {
            "colorbar": {
             "outlinewidth": 0,
             "ticks": ""
            },
            "type": "choropleth"
           }
          ],
          "contour": [
           {
            "colorbar": {
             "outlinewidth": 0,
             "ticks": ""
            },
            "colorscale": [
             [
              0,
              "#0d0887"
             ],
             [
              0.1111111111111111,
              "#46039f"
             ],
             [
              0.2222222222222222,
              "#7201a8"
             ],
             [
              0.3333333333333333,
              "#9c179e"
             ],
             [
              0.4444444444444444,
              "#bd3786"
             ],
             [
              0.5555555555555556,
              "#d8576b"
             ],
             [
              0.6666666666666666,
              "#ed7953"
             ],
             [
              0.7777777777777778,
              "#fb9f3a"
             ],
             [
              0.8888888888888888,
              "#fdca26"
             ],
             [
              1,
              "#f0f921"
             ]
            ],
            "type": "contour"
           }
          ],
          "contourcarpet": [
           {
            "colorbar": {
             "outlinewidth": 0,
             "ticks": ""
            },
            "type": "contourcarpet"
           }
          ],
          "heatmap": [
           {
            "colorbar": {
             "outlinewidth": 0,
             "ticks": ""
            },
            "colorscale": [
             [
              0,
              "#0d0887"
             ],
             [
              0.1111111111111111,
              "#46039f"
             ],
             [
              0.2222222222222222,
              "#7201a8"
             ],
             [
              0.3333333333333333,
              "#9c179e"
             ],
             [
              0.4444444444444444,
              "#bd3786"
             ],
             [
              0.5555555555555556,
              "#d8576b"
             ],
             [
              0.6666666666666666,
              "#ed7953"
             ],
             [
              0.7777777777777778,
              "#fb9f3a"
             ],
             [
              0.8888888888888888,
              "#fdca26"
             ],
             [
              1,
              "#f0f921"
             ]
            ],
            "type": "heatmap"
           }
          ],
          "heatmapgl": [
           {
            "colorbar": {
             "outlinewidth": 0,
             "ticks": ""
            },
            "colorscale": [
             [
              0,
              "#0d0887"
             ],
             [
              0.1111111111111111,
              "#46039f"
             ],
             [
              0.2222222222222222,
              "#7201a8"
             ],
             [
              0.3333333333333333,
              "#9c179e"
             ],
             [
              0.4444444444444444,
              "#bd3786"
             ],
             [
              0.5555555555555556,
              "#d8576b"
             ],
             [
              0.6666666666666666,
              "#ed7953"
             ],
             [
              0.7777777777777778,
              "#fb9f3a"
             ],
             [
              0.8888888888888888,
              "#fdca26"
             ],
             [
              1,
              "#f0f921"
             ]
            ],
            "type": "heatmapgl"
           }
          ],
          "histogram": [
           {
            "marker": {
             "colorbar": {
              "outlinewidth": 0,
              "ticks": ""
             }
            },
            "type": "histogram"
           }
          ],
          "histogram2d": [
           {
            "colorbar": {
             "outlinewidth": 0,
             "ticks": ""
            },
            "colorscale": [
             [
              0,
              "#0d0887"
             ],
             [
              0.1111111111111111,
              "#46039f"
             ],
             [
              0.2222222222222222,
              "#7201a8"
             ],
             [
              0.3333333333333333,
              "#9c179e"
             ],
             [
              0.4444444444444444,
              "#bd3786"
             ],
             [
              0.5555555555555556,
              "#d8576b"
             ],
             [
              0.6666666666666666,
              "#ed7953"
             ],
             [
              0.7777777777777778,
              "#fb9f3a"
             ],
             [
              0.8888888888888888,
              "#fdca26"
             ],
             [
              1,
              "#f0f921"
             ]
            ],
            "type": "histogram2d"
           }
          ],
          "histogram2dcontour": [
           {
            "colorbar": {
             "outlinewidth": 0,
             "ticks": ""
            },
            "colorscale": [
             [
              0,
              "#0d0887"
             ],
             [
              0.1111111111111111,
              "#46039f"
             ],
             [
              0.2222222222222222,
              "#7201a8"
             ],
             [
              0.3333333333333333,
              "#9c179e"
             ],
             [
              0.4444444444444444,
              "#bd3786"
             ],
             [
              0.5555555555555556,
              "#d8576b"
             ],
             [
              0.6666666666666666,
              "#ed7953"
             ],
             [
              0.7777777777777778,
              "#fb9f3a"
             ],
             [
              0.8888888888888888,
              "#fdca26"
             ],
             [
              1,
              "#f0f921"
             ]
            ],
            "type": "histogram2dcontour"
           }
          ],
          "mesh3d": [
           {
            "colorbar": {
             "outlinewidth": 0,
             "ticks": ""
            },
            "type": "mesh3d"
           }
          ],
          "parcoords": [
           {
            "line": {
             "colorbar": {
              "outlinewidth": 0,
              "ticks": ""
             }
            },
            "type": "parcoords"
           }
          ],
          "scatter": [
           {
            "marker": {
             "colorbar": {
              "outlinewidth": 0,
              "ticks": ""
             }
            },
            "type": "scatter"
           }
          ],
          "scatter3d": [
           {
            "line": {
             "colorbar": {
              "outlinewidth": 0,
              "ticks": ""
             }
            },
            "marker": {
             "colorbar": {
              "outlinewidth": 0,
              "ticks": ""
             }
            },
            "type": "scatter3d"
           }
          ],
          "scattercarpet": [
           {
            "marker": {
             "colorbar": {
              "outlinewidth": 0,
              "ticks": ""
             }
            },
            "type": "scattercarpet"
           }
          ],
          "scattergeo": [
           {
            "marker": {
             "colorbar": {
              "outlinewidth": 0,
              "ticks": ""
             }
            },
            "type": "scattergeo"
           }
          ],
          "scattergl": [
           {
            "marker": {
             "colorbar": {
              "outlinewidth": 0,
              "ticks": ""
             }
            },
            "type": "scattergl"
           }
          ],
          "scattermapbox": [
           {
            "marker": {
             "colorbar": {
              "outlinewidth": 0,
              "ticks": ""
             }
            },
            "type": "scattermapbox"
           }
          ],
          "scatterpolar": [
           {
            "marker": {
             "colorbar": {
              "outlinewidth": 0,
              "ticks": ""
             }
            },
            "type": "scatterpolar"
           }
          ],
          "scatterpolargl": [
           {
            "marker": {
             "colorbar": {
              "outlinewidth": 0,
              "ticks": ""
             }
            },
            "type": "scatterpolargl"
           }
          ],
          "scatterternary": [
           {
            "marker": {
             "colorbar": {
              "outlinewidth": 0,
              "ticks": ""
             }
            },
            "type": "scatterternary"
           }
          ],
          "surface": [
           {
            "colorbar": {
             "outlinewidth": 0,
             "ticks": ""
            },
            "colorscale": [
             [
              0,
              "#0d0887"
             ],
             [
              0.1111111111111111,
              "#46039f"
             ],
             [
              0.2222222222222222,
              "#7201a8"
             ],
             [
              0.3333333333333333,
              "#9c179e"
             ],
             [
              0.4444444444444444,
              "#bd3786"
             ],
             [
              0.5555555555555556,
              "#d8576b"
             ],
             [
              0.6666666666666666,
              "#ed7953"
             ],
             [
              0.7777777777777778,
              "#fb9f3a"
             ],
             [
              0.8888888888888888,
              "#fdca26"
             ],
             [
              1,
              "#f0f921"
             ]
            ],
            "type": "surface"
           }
          ],
          "table": [
           {
            "cells": {
             "fill": {
              "color": "#EBF0F8"
             },
             "line": {
              "color": "white"
             }
            },
            "header": {
             "fill": {
              "color": "#C8D4E3"
             },
             "line": {
              "color": "white"
             }
            },
            "type": "table"
           }
          ]
         },
         "layout": {
          "annotationdefaults": {
           "arrowcolor": "#2a3f5f",
           "arrowhead": 0,
           "arrowwidth": 1
          },
          "colorscale": {
           "diverging": [
            [
             0,
             "#8e0152"
            ],
            [
             0.1,
             "#c51b7d"
            ],
            [
             0.2,
             "#de77ae"
            ],
            [
             0.3,
             "#f1b6da"
            ],
            [
             0.4,
             "#fde0ef"
            ],
            [
             0.5,
             "#f7f7f7"
            ],
            [
             0.6,
             "#e6f5d0"
            ],
            [
             0.7,
             "#b8e186"
            ],
            [
             0.8,
             "#7fbc41"
            ],
            [
             0.9,
             "#4d9221"
            ],
            [
             1,
             "#276419"
            ]
           ],
           "sequential": [
            [
             0,
             "#0d0887"
            ],
            [
             0.1111111111111111,
             "#46039f"
            ],
            [
             0.2222222222222222,
             "#7201a8"
            ],
            [
             0.3333333333333333,
             "#9c179e"
            ],
            [
             0.4444444444444444,
             "#bd3786"
            ],
            [
             0.5555555555555556,
             "#d8576b"
            ],
            [
             0.6666666666666666,
             "#ed7953"
            ],
            [
             0.7777777777777778,
             "#fb9f3a"
            ],
            [
             0.8888888888888888,
             "#fdca26"
            ],
            [
             1,
             "#f0f921"
            ]
           ],
           "sequentialminus": [
            [
             0,
             "#0d0887"
            ],
            [
             0.1111111111111111,
             "#46039f"
            ],
            [
             0.2222222222222222,
             "#7201a8"
            ],
            [
             0.3333333333333333,
             "#9c179e"
            ],
            [
             0.4444444444444444,
             "#bd3786"
            ],
            [
             0.5555555555555556,
             "#d8576b"
            ],
            [
             0.6666666666666666,
             "#ed7953"
            ],
            [
             0.7777777777777778,
             "#fb9f3a"
            ],
            [
             0.8888888888888888,
             "#fdca26"
            ],
            [
             1,
             "#f0f921"
            ]
           ]
          },
          "colorway": [
           "#636efa",
           "#EF553B",
           "#00cc96",
           "#ab63fa",
           "#FFA15A",
           "#19d3f3",
           "#FF6692",
           "#B6E880",
           "#FF97FF",
           "#FECB52"
          ],
          "font": {
           "color": "#2a3f5f"
          },
          "geo": {
           "bgcolor": "white",
           "lakecolor": "white",
           "landcolor": "#E5ECF6",
           "showlakes": true,
           "showland": true,
           "subunitcolor": "white"
          },
          "hoverlabel": {
           "align": "left"
          },
          "hovermode": "closest",
          "mapbox": {
           "style": "light"
          },
          "paper_bgcolor": "white",
          "plot_bgcolor": "#E5ECF6",
          "polar": {
           "angularaxis": {
            "gridcolor": "white",
            "linecolor": "white",
            "ticks": ""
           },
           "bgcolor": "#E5ECF6",
           "radialaxis": {
            "gridcolor": "white",
            "linecolor": "white",
            "ticks": ""
           }
          },
          "scene": {
           "xaxis": {
            "backgroundcolor": "#E5ECF6",
            "gridcolor": "white",
            "gridwidth": 2,
            "linecolor": "white",
            "showbackground": true,
            "ticks": "",
            "zerolinecolor": "white"
           },
           "yaxis": {
            "backgroundcolor": "#E5ECF6",
            "gridcolor": "white",
            "gridwidth": 2,
            "linecolor": "white",
            "showbackground": true,
            "ticks": "",
            "zerolinecolor": "white"
           },
           "zaxis": {
            "backgroundcolor": "#E5ECF6",
            "gridcolor": "white",
            "gridwidth": 2,
            "linecolor": "white",
            "showbackground": true,
            "ticks": "",
            "zerolinecolor": "white"
           }
          },
          "shapedefaults": {
           "line": {
            "color": "#2a3f5f"
           }
          },
          "ternary": {
           "aaxis": {
            "gridcolor": "white",
            "linecolor": "white",
            "ticks": ""
           },
           "baxis": {
            "gridcolor": "white",
            "linecolor": "white",
            "ticks": ""
           },
           "bgcolor": "#E5ECF6",
           "caxis": {
            "gridcolor": "white",
            "linecolor": "white",
            "ticks": ""
           }
          },
          "title": {
           "x": 0.05
          },
          "xaxis": {
           "automargin": true,
           "gridcolor": "white",
           "linecolor": "white",
           "ticks": "",
           "zerolinecolor": "white",
           "zerolinewidth": 2
          },
          "yaxis": {
           "automargin": true,
           "gridcolor": "white",
           "linecolor": "white",
           "ticks": "",
           "zerolinecolor": "white",
           "zerolinewidth": 2
          }
         }
        }
       }
      },
      "text/html": [
       "<div>\n",
       "        \n",
       "        \n",
       "            <div id=\"62538fed-9480-48b5-b8b6-653c0e8207ca\" class=\"plotly-graph-div\" style=\"height:600px; width:100%;\"></div>\n",
       "            <script type=\"text/javascript\">\n",
       "                require([\"plotly\"], function(Plotly) {\n",
       "                    window.PLOTLYENV=window.PLOTLYENV || {};\n",
       "                    \n",
       "                if (document.getElementById(\"62538fed-9480-48b5-b8b6-653c0e8207ca\")) {\n",
       "                    Plotly.newPlot(\n",
       "                        '62538fed-9480-48b5-b8b6-653c0e8207ca',\n",
       "                        [{\"hoverlabel\": {\"namelength\": 0}, \"hovertemplate\": \"epsilon=%{x}<br>gamma=%{y}<br>C=%{z}<br>target=%{marker.color}\", \"legendgroup\": \"\", \"marker\": {\"color\": [2.493084272883889, 2.54314046867617, 2.581303992749398, 2.562148748718907, 2.539260284910651, 2.4647309734751772, 2.567554785430285, 2.537056418495036, 2.515408937534707, 2.400218950260562, 2.5170254825540272, 2.401847524193885, 2.549166736441671, 2.4123572966720213, 2.5074688417167588, 2.475353848392958, 2.485377651351022, 2.513644153904881, 2.443353784410938, 2.443312101961742, 2.338415658929036, 2.54016236515319, 2.414919580150446, 2.372068201259463, 2.565837641597701, 2.576376163035412, 2.433773618178127, 2.400494112928369, 2.598341940161403, 2.56516017591115, 2.519098442436548, 2.596327211370399, 2.403708467754311, 2.584388218703645, 2.495115528814758, 2.412207722396828, 2.405390046066284, 2.350269716192885, 2.457841092286675, 2.565837641597701, 2.576376163035412, 2.433773618178127, 2.400494112928369, 2.598341940161403, 2.56516017591115, 2.519098442436548, 2.596327211370399, 2.403708467754311, 2.584388218703645, 2.495115528814758, 2.412207722396828, 2.405390046066284, 2.350269716192885, 2.457841092286675, 2.51709174448855, 2.5027959549992502, 2.489607407648145, 2.5731748570999002, 2.580664996477224, 2.570191418293449, 2.500422028087089, 2.579707986768774, 2.427472023954901, 2.515345687267854, 2.421840925116185, 2.419139273803138, 2.336005370009835, 2.462740481897566, 2.499424718849931, 2.508868582390389, 2.457770020213949, 2.42679199693757, 2.488257090529464, 2.496839047347048, 2.506991881341149, 2.389968711737639, 2.444471814406382, 2.388594722391015, 2.361138770707791, 2.52105652735682, 2.361498309973848, 2.593697808324051, 2.39873995514662, 2.437138097888009, 2.390576605930969, 2.49835655090138, 2.456664069680862, 2.36471702496728, 2.463858107034682, 2.593035207560125, 2.387644463867173, 2.380779689430804, 2.314474988678728, 2.408601747077728, 2.499288599621575, 2.466905026507385, 2.459107134690298, 2.492626254390645, 2.476351030287056, 2.495132044536733, 2.530952375351908, 2.459263503976299, 2.475861688400904, 2.539741075066214], \"coloraxis\": \"coloraxis\", \"symbol\": \"circle\"}, \"mode\": \"markers\", \"name\": \"\", \"scene\": \"scene\", \"showlegend\": false, \"type\": \"scatter3d\", \"x\": [0.09159514140104101, 0.0912514551199, 0.090430800821741, 0.09139311693341401, 0.089660287423972, 0.0803728664144, 0.091246951653285, 0.089660287423972, 0.091246951653285, 0.09209123290146401, 0.081309684337622, 0.08199667651870801, 0.09091258906787701, 0.09307665187891001, 0.082339423230452, 0.09088735426072901, 0.091174037918439, 0.09104425094393001, 0.08020689312008, 0.090597604424968, 0.092056646877385, 0.091027948301312, 0.09201075915761901, 0.091580298681758, 0.089144480554027, 0.09054141795109201, 0.09286054478585401, 0.09265074140273101, 0.08874119745174401, 0.08965497885119, 0.09102458176378901, 0.092616506120684, 0.092243593750423, 0.08952800420495001, 0.092777341951727, 0.091246951653285, 0.091980455249524, 0.09150898383750801, 0.092841323948573, 0.089144480554027, 0.09054141795109201, 0.09286054478585401, 0.09265074140273101, 0.08874119745174401, 0.08965497885119, 0.09102458176378901, 0.092616506120684, 0.092243593750423, 0.08952800420495001, 0.092777341951727, 0.091246951653285, 0.091980455249524, 0.09150898383750801, 0.092841323948573, 0.09307665187891001, 0.09088735426072901, 0.09299181069132101, 0.089144480554027, 0.09054141795109201, 0.08965497885119, 0.09102458176378901, 0.092616506120684, 0.092243593750423, 0.092777341951727, 0.091246951653285, 0.091980455249524, 0.09150898383750801, 0.092841323948573, 0.09307665187891001, 0.09088735426072901, 0.09299181069132101, 0.09095822085407401, 0.09114783791282301, 0.09078809421707701, 0.090747539024653, 0.092080374528514, 0.092639787064639, 0.09182758644779501, 0.09215643435520701, 0.093119790381818, 0.09162195896767, 0.09047104364282901, 0.091311036205501, 0.090211894223332, 0.09206583726068501, 0.09031169373586401, 0.090654842168811, 0.09211511829801901, 0.09099833825935401, 0.093398592516768, 0.092171144813497, 0.091214154139775, 0.09146297184354, 0.09239107607557201, 0.09028614610776, 0.09087828884297401, 0.091069910831512, 0.09022013611611901, 0.09076677685671701, 0.090359087054762, 0.090645845978867, 0.09201367546854301, 0.090894445922268, 0.08991619601988801], \"y\": [7.746724551931922, 8.014245868377442, 8.029112414094469, 8.03820331924647, 6.613604863507273, 9.917623730160225, 5.09026903663919, 6.6441129278, 5.134500847119917, 4.75844770509189, 4.446267245103355, 8.483574393989185, 8.372231551632504, 3.400157876533301, 5.948408402672287, 6.829678117512691, 6.810568131092352, 7.7046011833152, 8.47311792459654, 6.5010701052924915, 4.158211189567182, 8.074253159500262, 5.467975941039625, 4.339431315613426, 3.584064094746825, 5.5708849967304435, 3.809334892715666, 3.790207257650594, 3.7665477292728493, 4.606133803636898, 5.76341374199714, 5.923888781036287, 4.882490302532518, 4.194460978400922, 4.103108237931719, 4.525606317309066, 5.061891966765919, 4.014746641342523, 3.8961490981013442, 3.584064094746825, 5.5708849967304435, 3.809334892715666, 3.790207257650594, 3.7665477292728493, 4.606133803636898, 5.76341374199714, 5.923888781036287, 4.882490302532518, 4.194460978400922, 4.103108237931719, 4.525606317309066, 5.061891966765919, 4.014746641342523, 3.8961490981013442, 4.000047841373727, 5.03929639924627, 3.112118168564351, 3.584064094746825, 5.5708849967304435, 4.606133803636898, 5.76341374199714, 5.923888781036287, 4.882490302532518, 4.103108237931719, 4.525606317309066, 5.061891966765919, 4.014746641342523, 3.8961490981013442, 4.000047841373727, 5.03929639924627, 3.112118168564351, 4.149627501416115, 4.96082076090534, 4.695526187187717, 4.704168354879348, 4.703298185852811, 4.687585250924299, 4.684261898882934, 4.676441067335853, 3.85255232128341, 4.2201407139147324, 5.043674824884422, 4.217481164066643, 4.217709589148232, 4.219711630695423, 4.221472872025176, 4.31705068033435, 4.322417948479995, 5.5404770890876325, 4.467031697465733, 4.69375298703788, 4.156252835550521, 3.858758149455118, 4.8987812416195595, 3.864167678738759, 4.469819616162821, 5.540788137415017, 4.214481142386319, 5.53598071568719, 4.163388846285166, 5.385341288044193, 5.3802099370710454, 5.540290059394377, 4.165223545771592], \"z\": [3.76464540383569, 3.591616071274831, 3.626816276713866, 3.613636275643189, 2.5804447613168513, 0.417728753074716, 2.790650727561948, 2.647287601304988, 2.855599820106436, 9.533785416332446, 0.500718460020243, 0.30543062460873605, 1.039924269157977, 5.967656021447512, 0.5881834511170151, 3.099749286616264, 3.122379977789521, 1.2590267882230681, 0.316011579521478, 3.449729648614699, 9.36706487385748, 5.032767988285355, 7.453295240751093, 9.878813178257586, 11.083792363168541, 8.257309316057974, 11.12876178033611, 11.099982527866938, 11.159720992085031, 7.527854931585771, 6.108696264961165, 6.7604767815003175, 8.22627114460847, 10.720404591821715, 12.237888635691668, 7.948403913206571, 8.23161898427033, 6.367145429499684, 9.208338052859535, 11.083792363168541, 8.257309316057974, 11.12876178033611, 11.099982527866938, 11.159720992085031, 7.527854931585771, 6.108696264961165, 6.7604767815003175, 8.22627114460847, 10.720404591821715, 12.237888635691668, 7.948403913206571, 8.23161898427033, 6.367145429499684, 9.208338052859535, 10.148847691932584, 8.121034849122612, 12.27942838153336, 12.536304466930982, 8.902254834931682, 7.964384912038848, 6.139752340664356, 6.977755861928979, 8.862348614496604, 14.020142531603575, 8.505090745551305, 8.86922440834757, 6.47204412364245, 10.125006067962259, 11.334232746770466, 8.727044806014785, 14.073550776257179, 8.708446105070635, 8.454498642871535, 8.42287397416197, 8.444002094573914, 8.416294840364834, 8.682785582882241, 8.410845346568017, 8.42955855035233, 7.594283182800044, 8.75387941650144, 9.770638747427567, 8.74288614640265, 7.076685409880101, 7.086787642476262, 8.756002394813429, 6.161906448493028, 6.152230988877699, 6.083002272569186, 8.679266539935401, 8.413892213286926, 8.699318147595077, 7.599954045780223, 8.132643020038243, 7.608444153604237, 8.684488772942066, 6.094667651014999, 8.758994446881527, 6.100513981652305, 8.704364372224276, 8.351279192282782, 8.356398545463499, 6.089732037833809, 8.71233265853619]}],\n",
       "                        {\"coloraxis\": {\"colorbar\": {\"title\": {\"text\": \"target\"}}, \"colorscale\": [[0.0, \"#0d0887\"], [0.1111111111111111, \"#46039f\"], [0.2222222222222222, \"#7201a8\"], [0.3333333333333333, \"#9c179e\"], [0.4444444444444444, \"#bd3786\"], [0.5555555555555556, \"#d8576b\"], [0.6666666666666666, \"#ed7953\"], [0.7777777777777778, \"#fb9f3a\"], [0.8888888888888888, \"#fdca26\"], [1.0, \"#f0f921\"]]}, \"height\": 600, \"legend\": {\"tracegroupgap\": 0}, \"margin\": {\"t\": 60}, \"scene\": {\"domain\": {\"x\": [0.0, 0.98], \"y\": [0.0, 1.0]}, \"xaxis\": {\"title\": {\"text\": \"epsilon\"}}, \"yaxis\": {\"title\": {\"text\": \"gamma\"}}, \"zaxis\": {\"title\": {\"text\": \"C\"}}}, \"template\": {\"data\": {\"bar\": [{\"error_x\": {\"color\": \"#2a3f5f\"}, \"error_y\": {\"color\": \"#2a3f5f\"}, \"marker\": {\"line\": {\"color\": \"#E5ECF6\", \"width\": 0.5}}, \"type\": \"bar\"}], \"barpolar\": [{\"marker\": {\"line\": {\"color\": \"#E5ECF6\", \"width\": 0.5}}, \"type\": \"barpolar\"}], \"carpet\": [{\"aaxis\": {\"endlinecolor\": \"#2a3f5f\", \"gridcolor\": \"white\", \"linecolor\": \"white\", \"minorgridcolor\": \"white\", \"startlinecolor\": \"#2a3f5f\"}, \"baxis\": {\"endlinecolor\": \"#2a3f5f\", \"gridcolor\": \"white\", \"linecolor\": \"white\", \"minorgridcolor\": \"white\", \"startlinecolor\": \"#2a3f5f\"}, \"type\": \"carpet\"}], \"choropleth\": [{\"colorbar\": {\"outlinewidth\": 0, \"ticks\": \"\"}, \"type\": \"choropleth\"}], \"contour\": [{\"colorbar\": {\"outlinewidth\": 0, \"ticks\": \"\"}, \"colorscale\": [[0.0, \"#0d0887\"], [0.1111111111111111, \"#46039f\"], [0.2222222222222222, \"#7201a8\"], [0.3333333333333333, \"#9c179e\"], [0.4444444444444444, \"#bd3786\"], [0.5555555555555556, \"#d8576b\"], [0.6666666666666666, \"#ed7953\"], [0.7777777777777778, \"#fb9f3a\"], [0.8888888888888888, \"#fdca26\"], [1.0, \"#f0f921\"]], \"type\": \"contour\"}], \"contourcarpet\": [{\"colorbar\": {\"outlinewidth\": 0, \"ticks\": \"\"}, \"type\": \"contourcarpet\"}], \"heatmap\": [{\"colorbar\": {\"outlinewidth\": 0, \"ticks\": \"\"}, \"colorscale\": [[0.0, \"#0d0887\"], [0.1111111111111111, \"#46039f\"], [0.2222222222222222, \"#7201a8\"], [0.3333333333333333, \"#9c179e\"], [0.4444444444444444, \"#bd3786\"], [0.5555555555555556, \"#d8576b\"], [0.6666666666666666, \"#ed7953\"], [0.7777777777777778, \"#fb9f3a\"], [0.8888888888888888, \"#fdca26\"], [1.0, \"#f0f921\"]], \"type\": \"heatmap\"}], \"heatmapgl\": [{\"colorbar\": {\"outlinewidth\": 0, \"ticks\": \"\"}, \"colorscale\": [[0.0, \"#0d0887\"], [0.1111111111111111, \"#46039f\"], [0.2222222222222222, \"#7201a8\"], [0.3333333333333333, \"#9c179e\"], [0.4444444444444444, \"#bd3786\"], [0.5555555555555556, \"#d8576b\"], [0.6666666666666666, \"#ed7953\"], [0.7777777777777778, \"#fb9f3a\"], [0.8888888888888888, \"#fdca26\"], [1.0, \"#f0f921\"]], \"type\": \"heatmapgl\"}], \"histogram\": [{\"marker\": {\"colorbar\": {\"outlinewidth\": 0, \"ticks\": \"\"}}, \"type\": \"histogram\"}], \"histogram2d\": [{\"colorbar\": {\"outlinewidth\": 0, \"ticks\": \"\"}, \"colorscale\": [[0.0, \"#0d0887\"], [0.1111111111111111, \"#46039f\"], [0.2222222222222222, \"#7201a8\"], [0.3333333333333333, \"#9c179e\"], [0.4444444444444444, \"#bd3786\"], [0.5555555555555556, \"#d8576b\"], [0.6666666666666666, \"#ed7953\"], [0.7777777777777778, \"#fb9f3a\"], [0.8888888888888888, \"#fdca26\"], [1.0, \"#f0f921\"]], \"type\": \"histogram2d\"}], \"histogram2dcontour\": [{\"colorbar\": {\"outlinewidth\": 0, \"ticks\": \"\"}, \"colorscale\": [[0.0, \"#0d0887\"], [0.1111111111111111, \"#46039f\"], [0.2222222222222222, \"#7201a8\"], [0.3333333333333333, \"#9c179e\"], [0.4444444444444444, \"#bd3786\"], [0.5555555555555556, \"#d8576b\"], [0.6666666666666666, \"#ed7953\"], [0.7777777777777778, \"#fb9f3a\"], [0.8888888888888888, \"#fdca26\"], [1.0, \"#f0f921\"]], \"type\": \"histogram2dcontour\"}], \"mesh3d\": [{\"colorbar\": {\"outlinewidth\": 0, \"ticks\": \"\"}, \"type\": \"mesh3d\"}], \"parcoords\": [{\"line\": {\"colorbar\": {\"outlinewidth\": 0, \"ticks\": \"\"}}, \"type\": \"parcoords\"}], \"scatter\": [{\"marker\": {\"colorbar\": {\"outlinewidth\": 0, \"ticks\": \"\"}}, \"type\": \"scatter\"}], \"scatter3d\": [{\"line\": {\"colorbar\": {\"outlinewidth\": 0, \"ticks\": \"\"}}, \"marker\": {\"colorbar\": {\"outlinewidth\": 0, \"ticks\": \"\"}}, \"type\": \"scatter3d\"}], \"scattercarpet\": [{\"marker\": {\"colorbar\": {\"outlinewidth\": 0, \"ticks\": \"\"}}, \"type\": \"scattercarpet\"}], \"scattergeo\": [{\"marker\": {\"colorbar\": {\"outlinewidth\": 0, \"ticks\": \"\"}}, \"type\": \"scattergeo\"}], \"scattergl\": [{\"marker\": {\"colorbar\": {\"outlinewidth\": 0, \"ticks\": \"\"}}, \"type\": \"scattergl\"}], \"scattermapbox\": [{\"marker\": {\"colorbar\": {\"outlinewidth\": 0, \"ticks\": \"\"}}, \"type\": \"scattermapbox\"}], \"scatterpolar\": [{\"marker\": {\"colorbar\": {\"outlinewidth\": 0, \"ticks\": \"\"}}, \"type\": \"scatterpolar\"}], \"scatterpolargl\": [{\"marker\": {\"colorbar\": {\"outlinewidth\": 0, \"ticks\": \"\"}}, \"type\": \"scatterpolargl\"}], \"scatterternary\": [{\"marker\": {\"colorbar\": {\"outlinewidth\": 0, \"ticks\": \"\"}}, \"type\": \"scatterternary\"}], \"surface\": [{\"colorbar\": {\"outlinewidth\": 0, \"ticks\": \"\"}, \"colorscale\": [[0.0, \"#0d0887\"], [0.1111111111111111, \"#46039f\"], [0.2222222222222222, \"#7201a8\"], [0.3333333333333333, \"#9c179e\"], [0.4444444444444444, \"#bd3786\"], [0.5555555555555556, \"#d8576b\"], [0.6666666666666666, \"#ed7953\"], [0.7777777777777778, \"#fb9f3a\"], [0.8888888888888888, \"#fdca26\"], [1.0, \"#f0f921\"]], \"type\": \"surface\"}], \"table\": [{\"cells\": {\"fill\": {\"color\": \"#EBF0F8\"}, \"line\": {\"color\": \"white\"}}, \"header\": {\"fill\": {\"color\": \"#C8D4E3\"}, \"line\": {\"color\": \"white\"}}, \"type\": \"table\"}]}, \"layout\": {\"annotationdefaults\": {\"arrowcolor\": \"#2a3f5f\", \"arrowhead\": 0, \"arrowwidth\": 1}, \"colorscale\": {\"diverging\": [[0, \"#8e0152\"], [0.1, \"#c51b7d\"], [0.2, \"#de77ae\"], [0.3, \"#f1b6da\"], [0.4, \"#fde0ef\"], [0.5, \"#f7f7f7\"], [0.6, \"#e6f5d0\"], [0.7, \"#b8e186\"], [0.8, \"#7fbc41\"], [0.9, \"#4d9221\"], [1, \"#276419\"]], \"sequential\": [[0.0, \"#0d0887\"], [0.1111111111111111, \"#46039f\"], [0.2222222222222222, \"#7201a8\"], [0.3333333333333333, \"#9c179e\"], [0.4444444444444444, \"#bd3786\"], [0.5555555555555556, \"#d8576b\"], [0.6666666666666666, \"#ed7953\"], [0.7777777777777778, \"#fb9f3a\"], [0.8888888888888888, \"#fdca26\"], [1.0, \"#f0f921\"]], \"sequentialminus\": [[0.0, \"#0d0887\"], [0.1111111111111111, \"#46039f\"], [0.2222222222222222, \"#7201a8\"], [0.3333333333333333, \"#9c179e\"], [0.4444444444444444, \"#bd3786\"], [0.5555555555555556, \"#d8576b\"], [0.6666666666666666, \"#ed7953\"], [0.7777777777777778, \"#fb9f3a\"], [0.8888888888888888, \"#fdca26\"], [1.0, \"#f0f921\"]]}, \"colorway\": [\"#636efa\", \"#EF553B\", \"#00cc96\", \"#ab63fa\", \"#FFA15A\", \"#19d3f3\", \"#FF6692\", \"#B6E880\", \"#FF97FF\", \"#FECB52\"], \"font\": {\"color\": \"#2a3f5f\"}, \"geo\": {\"bgcolor\": \"white\", \"lakecolor\": \"white\", \"landcolor\": \"#E5ECF6\", \"showlakes\": true, \"showland\": true, \"subunitcolor\": \"white\"}, \"hoverlabel\": {\"align\": \"left\"}, \"hovermode\": \"closest\", \"mapbox\": {\"style\": \"light\"}, \"paper_bgcolor\": \"white\", \"plot_bgcolor\": \"#E5ECF6\", \"polar\": {\"angularaxis\": {\"gridcolor\": \"white\", \"linecolor\": \"white\", \"ticks\": \"\"}, \"bgcolor\": \"#E5ECF6\", \"radialaxis\": {\"gridcolor\": \"white\", \"linecolor\": \"white\", \"ticks\": \"\"}}, \"scene\": {\"xaxis\": {\"backgroundcolor\": \"#E5ECF6\", \"gridcolor\": \"white\", \"gridwidth\": 2, \"linecolor\": \"white\", \"showbackground\": true, \"ticks\": \"\", \"zerolinecolor\": \"white\"}, \"yaxis\": {\"backgroundcolor\": \"#E5ECF6\", \"gridcolor\": \"white\", \"gridwidth\": 2, \"linecolor\": \"white\", \"showbackground\": true, \"ticks\": \"\", \"zerolinecolor\": \"white\"}, \"zaxis\": {\"backgroundcolor\": \"#E5ECF6\", \"gridcolor\": \"white\", \"gridwidth\": 2, \"linecolor\": \"white\", \"showbackground\": true, \"ticks\": \"\", \"zerolinecolor\": \"white\"}}, \"shapedefaults\": {\"line\": {\"color\": \"#2a3f5f\"}}, \"ternary\": {\"aaxis\": {\"gridcolor\": \"white\", \"linecolor\": \"white\", \"ticks\": \"\"}, \"baxis\": {\"gridcolor\": \"white\", \"linecolor\": \"white\", \"ticks\": \"\"}, \"bgcolor\": \"#E5ECF6\", \"caxis\": {\"gridcolor\": \"white\", \"linecolor\": \"white\", \"ticks\": \"\"}}, \"title\": {\"x\": 0.05}, \"xaxis\": {\"automargin\": true, \"gridcolor\": \"white\", \"linecolor\": \"white\", \"ticks\": \"\", \"zerolinecolor\": \"white\", \"zerolinewidth\": 2}, \"yaxis\": {\"automargin\": true, \"gridcolor\": \"white\", \"linecolor\": \"white\", \"ticks\": \"\", \"zerolinecolor\": \"white\", \"zerolinewidth\": 2}}}},\n",
       "                        {\"responsive\": true}\n",
       "                    ).then(function(){\n",
       "                            \n",
       "var gd = document.getElementById('62538fed-9480-48b5-b8b6-653c0e8207ca');\n",
       "var x = new MutationObserver(function (mutations, observer) {{\n",
       "        var display = window.getComputedStyle(gd).display;\n",
       "        if (!display || display === 'none') {{\n",
       "            console.log([gd, 'removed!']);\n",
       "            Plotly.purge(gd);\n",
       "            observer.disconnect();\n",
       "        }}\n",
       "}});\n",
       "\n",
       "// Listen for the removal of the full notebook cells\n",
       "var notebookContainer = gd.closest('#notebook-container');\n",
       "if (notebookContainer) {{\n",
       "    x.observe(notebookContainer, {childList: true});\n",
       "}}\n",
       "\n",
       "// Listen for the clearing of the current output cell\n",
       "var outputEl = gd.closest('.output');\n",
       "if (outputEl) {{\n",
       "    x.observe(outputEl, {childList: true});\n",
       "}}\n",
       "\n",
       "                        })\n",
       "                };\n",
       "                });\n",
       "            </script>\n",
       "        </div>"
      ]
     },
     "metadata": {},
     "output_type": "display_data"
    }
   ],
   "source": [
    "px.scatter_3d(df1, x = \"epsilon\", y = \"gamma\", z = \"C\", color = \"target\")"
   ]
  },
  {
   "cell_type": "code",
   "execution_count": 244,
   "metadata": {
    "ExecuteTime": {
     "end_time": "2021-08-25T22:09:12.624967Z",
     "start_time": "2021-08-25T22:09:12.603973Z"
    },
    "hidden": true
   },
   "outputs": [
    {
     "data": {
      "text/html": [
       "<div>\n",
       "<style scoped>\n",
       "    .dataframe tbody tr th:only-of-type {\n",
       "        vertical-align: middle;\n",
       "    }\n",
       "\n",
       "    .dataframe tbody tr th {\n",
       "        vertical-align: top;\n",
       "    }\n",
       "\n",
       "    .dataframe thead th {\n",
       "        text-align: right;\n",
       "    }\n",
       "</style>\n",
       "<table border=\"1\" class=\"dataframe\">\n",
       "  <thead>\n",
       "    <tr style=\"text-align: right;\">\n",
       "      <th></th>\n",
       "      <th>target</th>\n",
       "      <th>C</th>\n",
       "      <th>epsilon</th>\n",
       "      <th>gamma</th>\n",
       "    </tr>\n",
       "  </thead>\n",
       "  <tbody>\n",
       "    <tr>\n",
       "      <th>1664</th>\n",
       "      <td>2.314475</td>\n",
       "      <td>7.599954</td>\n",
       "      <td>0.091463</td>\n",
       "      <td>3.858758</td>\n",
       "    </tr>\n",
       "    <tr>\n",
       "      <th>1457</th>\n",
       "      <td>2.336005</td>\n",
       "      <td>6.472044</td>\n",
       "      <td>0.091509</td>\n",
       "      <td>4.014747</td>\n",
       "    </tr>\n",
       "    <tr>\n",
       "      <th>804</th>\n",
       "      <td>2.338416</td>\n",
       "      <td>9.367065</td>\n",
       "      <td>0.092057</td>\n",
       "      <td>4.158211</td>\n",
       "    </tr>\n",
       "    <tr>\n",
       "      <th>1087</th>\n",
       "      <td>2.350270</td>\n",
       "      <td>6.367145</td>\n",
       "      <td>0.091509</td>\n",
       "      <td>4.014747</td>\n",
       "    </tr>\n",
       "    <tr>\n",
       "      <th>1247</th>\n",
       "      <td>2.350270</td>\n",
       "      <td>6.367145</td>\n",
       "      <td>0.091509</td>\n",
       "      <td>4.014747</td>\n",
       "    </tr>\n",
       "  </tbody>\n",
       "</table>\n",
       "</div>"
      ],
      "text/plain": [
       "        target         C   epsilon     gamma\n",
       "1664  2.314475  7.599954  0.091463  3.858758\n",
       "1457  2.336005  6.472044  0.091509  4.014747\n",
       "804   2.338416  9.367065  0.092057  4.158211\n",
       "1087  2.350270  6.367145  0.091509  4.014747\n",
       "1247  2.350270  6.367145  0.091509  4.014747"
      ]
     },
     "execution_count": 244,
     "metadata": {},
     "output_type": "execute_result"
    }
   ],
   "source": [
    "df.sort_values(\"target\").head(5)"
   ]
  },
  {
   "cell_type": "code",
   "execution_count": 186,
   "metadata": {
    "ExecuteTime": {
     "end_time": "2021-08-25T20:28:17.513777Z",
     "start_time": "2021-08-25T20:28:16.994798Z"
    },
    "hidden": true
   },
   "outputs": [
    {
     "data": {
      "application/vnd.plotly.v1+json": {
       "config": {
        "plotlyServerURL": "https://plot.ly"
       },
       "data": [
        {
         "hoverlabel": {
          "namelength": 0
         },
         "hovertemplate": "<b>%{hovertext}</b><br><br>gamma=%{x}<br>C=%{y}<br>target=%{marker.color}",
         "hovertext": [
          0.09159514140104101,
          0.0912514551199,
          0.090430800821741,
          0.09139311693341401,
          0.089660287423972,
          0.0803728664144,
          0.091246951653285,
          0.089660287423972,
          0.091246951653285,
          0.09209123290146401,
          0.081309684337622,
          0.08199667651870801,
          0.09091258906787701,
          0.09307665187891001,
          0.082339423230452,
          0.09088735426072901,
          0.091174037918439,
          0.09104425094393001,
          0.08020689312008,
          0.090597604424968,
          0.092056646877385,
          0.091027948301312,
          0.09201075915761901,
          0.091580298681758,
          0.089144480554027,
          0.09054141795109201,
          0.09286054478585401,
          0.09265074140273101,
          0.08874119745174401,
          0.08965497885119,
          0.09102458176378901,
          0.092616506120684,
          0.092243593750423,
          0.08952800420495001,
          0.092777341951727,
          0.091246951653285,
          0.091980455249524,
          0.09150898383750801,
          0.092841323948573,
          0.089144480554027,
          0.09054141795109201,
          0.09286054478585401,
          0.09265074140273101,
          0.08874119745174401,
          0.08965497885119,
          0.09102458176378901,
          0.092616506120684,
          0.092243593750423,
          0.08952800420495001,
          0.092777341951727,
          0.091246951653285,
          0.091980455249524,
          0.09150898383750801,
          0.092841323948573,
          0.09307665187891001,
          0.09088735426072901,
          0.09299181069132101,
          0.089144480554027,
          0.09054141795109201,
          0.08965497885119,
          0.09102458176378901,
          0.092616506120684,
          0.092243593750423,
          0.092777341951727,
          0.091246951653285,
          0.091980455249524,
          0.09150898383750801,
          0.092841323948573,
          0.09307665187891001,
          0.09088735426072901,
          0.09299181069132101,
          0.09095822085407401,
          0.09114783791282301,
          0.09078809421707701,
          0.090747539024653,
          0.092080374528514,
          0.092639787064639,
          0.09182758644779501,
          0.09215643435520701,
          0.093119790381818,
          0.09162195896767,
          0.09047104364282901,
          0.091311036205501,
          0.090211894223332,
          0.09206583726068501,
          0.09031169373586401,
          0.090654842168811,
          0.09211511829801901,
          0.09099833825935401,
          0.093398592516768,
          0.092171144813497,
          0.091214154139775,
          0.09146297184354,
          0.09239107607557201,
          0.09028614610776,
          0.09087828884297401,
          0.091069910831512,
          0.09022013611611901,
          0.09076677685671701,
          0.090359087054762,
          0.090645845978867,
          0.09201367546854301,
          0.090894445922268,
          0.08991619601988801
         ],
         "legendgroup": "",
         "marker": {
          "color": [
           2.493084272883889,
           2.54314046867617,
           2.581303992749398,
           2.562148748718907,
           2.539260284910651,
           2.4647309734751772,
           2.567554785430285,
           2.537056418495036,
           2.515408937534707,
           2.400218950260562,
           2.5170254825540272,
           2.401847524193885,
           2.549166736441671,
           2.4123572966720213,
           2.5074688417167588,
           2.475353848392958,
           2.485377651351022,
           2.513644153904881,
           2.443353784410938,
           2.443312101961742,
           2.338415658929036,
           2.54016236515319,
           2.414919580150446,
           2.372068201259463,
           2.565837641597701,
           2.576376163035412,
           2.433773618178127,
           2.400494112928369,
           2.598341940161403,
           2.56516017591115,
           2.519098442436548,
           2.596327211370399,
           2.403708467754311,
           2.584388218703645,
           2.495115528814758,
           2.412207722396828,
           2.405390046066284,
           2.350269716192885,
           2.457841092286675,
           2.565837641597701,
           2.576376163035412,
           2.433773618178127,
           2.400494112928369,
           2.598341940161403,
           2.56516017591115,
           2.519098442436548,
           2.596327211370399,
           2.403708467754311,
           2.584388218703645,
           2.495115528814758,
           2.412207722396828,
           2.405390046066284,
           2.350269716192885,
           2.457841092286675,
           2.51709174448855,
           2.5027959549992502,
           2.489607407648145,
           2.5731748570999002,
           2.580664996477224,
           2.570191418293449,
           2.500422028087089,
           2.579707986768774,
           2.427472023954901,
           2.515345687267854,
           2.421840925116185,
           2.419139273803138,
           2.336005370009835,
           2.462740481897566,
           2.499424718849931,
           2.508868582390389,
           2.457770020213949,
           2.42679199693757,
           2.488257090529464,
           2.496839047347048,
           2.506991881341149,
           2.389968711737639,
           2.444471814406382,
           2.388594722391015,
           2.361138770707791,
           2.52105652735682,
           2.361498309973848,
           2.593697808324051,
           2.39873995514662,
           2.437138097888009,
           2.390576605930969,
           2.49835655090138,
           2.456664069680862,
           2.36471702496728,
           2.463858107034682,
           2.593035207560125,
           2.387644463867173,
           2.380779689430804,
           2.314474988678728,
           2.408601747077728,
           2.499288599621575,
           2.466905026507385,
           2.459107134690298,
           2.492626254390645,
           2.476351030287056,
           2.495132044536733,
           2.530952375351908,
           2.459263503976299,
           2.475861688400904,
           2.539741075066214
          ],
          "coloraxis": "coloraxis",
          "symbol": "circle"
         },
         "mode": "markers",
         "name": "",
         "showlegend": false,
         "type": "scatter",
         "x": [
          7.746724551931922,
          8.014245868377442,
          8.029112414094469,
          8.03820331924647,
          6.613604863507273,
          9.917623730160225,
          5.09026903663919,
          6.6441129278,
          5.134500847119917,
          4.75844770509189,
          4.446267245103355,
          8.483574393989185,
          8.372231551632504,
          3.400157876533301,
          5.948408402672287,
          6.829678117512691,
          6.810568131092352,
          7.7046011833152,
          8.47311792459654,
          6.5010701052924915,
          4.158211189567182,
          8.074253159500262,
          5.467975941039625,
          4.339431315613426,
          3.584064094746825,
          5.5708849967304435,
          3.809334892715666,
          3.790207257650594,
          3.7665477292728493,
          4.606133803636898,
          5.76341374199714,
          5.923888781036287,
          4.882490302532518,
          4.194460978400922,
          4.103108237931719,
          4.525606317309066,
          5.061891966765919,
          4.014746641342523,
          3.8961490981013442,
          3.584064094746825,
          5.5708849967304435,
          3.809334892715666,
          3.790207257650594,
          3.7665477292728493,
          4.606133803636898,
          5.76341374199714,
          5.923888781036287,
          4.882490302532518,
          4.194460978400922,
          4.103108237931719,
          4.525606317309066,
          5.061891966765919,
          4.014746641342523,
          3.8961490981013442,
          4.000047841373727,
          5.03929639924627,
          3.112118168564351,
          3.584064094746825,
          5.5708849967304435,
          4.606133803636898,
          5.76341374199714,
          5.923888781036287,
          4.882490302532518,
          4.103108237931719,
          4.525606317309066,
          5.061891966765919,
          4.014746641342523,
          3.8961490981013442,
          4.000047841373727,
          5.03929639924627,
          3.112118168564351,
          4.149627501416115,
          4.96082076090534,
          4.695526187187717,
          4.704168354879348,
          4.703298185852811,
          4.687585250924299,
          4.684261898882934,
          4.676441067335853,
          3.85255232128341,
          4.2201407139147324,
          5.043674824884422,
          4.217481164066643,
          4.217709589148232,
          4.219711630695423,
          4.221472872025176,
          4.31705068033435,
          4.322417948479995,
          5.5404770890876325,
          4.467031697465733,
          4.69375298703788,
          4.156252835550521,
          3.858758149455118,
          4.8987812416195595,
          3.864167678738759,
          4.469819616162821,
          5.540788137415017,
          4.214481142386319,
          5.53598071568719,
          4.163388846285166,
          5.385341288044193,
          5.3802099370710454,
          5.540290059394377,
          4.165223545771592
         ],
         "xaxis": "x",
         "y": [
          3.76464540383569,
          3.591616071274831,
          3.626816276713866,
          3.613636275643189,
          2.5804447613168513,
          0.417728753074716,
          2.790650727561948,
          2.647287601304988,
          2.855599820106436,
          9.533785416332446,
          0.500718460020243,
          0.30543062460873605,
          1.039924269157977,
          5.967656021447512,
          0.5881834511170151,
          3.099749286616264,
          3.122379977789521,
          1.2590267882230681,
          0.316011579521478,
          3.449729648614699,
          9.36706487385748,
          5.032767988285355,
          7.453295240751093,
          9.878813178257586,
          11.083792363168541,
          8.257309316057974,
          11.12876178033611,
          11.099982527866938,
          11.159720992085031,
          7.527854931585771,
          6.108696264961165,
          6.7604767815003175,
          8.22627114460847,
          10.720404591821715,
          12.237888635691668,
          7.948403913206571,
          8.23161898427033,
          6.367145429499684,
          9.208338052859535,
          11.083792363168541,
          8.257309316057974,
          11.12876178033611,
          11.099982527866938,
          11.159720992085031,
          7.527854931585771,
          6.108696264961165,
          6.7604767815003175,
          8.22627114460847,
          10.720404591821715,
          12.237888635691668,
          7.948403913206571,
          8.23161898427033,
          6.367145429499684,
          9.208338052859535,
          10.148847691932584,
          8.121034849122612,
          12.27942838153336,
          12.536304466930982,
          8.902254834931682,
          7.964384912038848,
          6.139752340664356,
          6.977755861928979,
          8.862348614496604,
          14.020142531603575,
          8.505090745551305,
          8.86922440834757,
          6.47204412364245,
          10.125006067962259,
          11.334232746770466,
          8.727044806014785,
          14.073550776257179,
          8.708446105070635,
          8.454498642871535,
          8.42287397416197,
          8.444002094573914,
          8.416294840364834,
          8.682785582882241,
          8.410845346568017,
          8.42955855035233,
          7.594283182800044,
          8.75387941650144,
          9.770638747427567,
          8.74288614640265,
          7.076685409880101,
          7.086787642476262,
          8.756002394813429,
          6.161906448493028,
          6.152230988877699,
          6.083002272569186,
          8.679266539935401,
          8.413892213286926,
          8.699318147595077,
          7.599954045780223,
          8.132643020038243,
          7.608444153604237,
          8.684488772942066,
          6.094667651014999,
          8.758994446881527,
          6.100513981652305,
          8.704364372224276,
          8.351279192282782,
          8.356398545463499,
          6.089732037833809,
          8.71233265853619
         ],
         "yaxis": "y"
        }
       ],
       "layout": {
        "coloraxis": {
         "colorbar": {
          "title": {
           "text": "target"
          }
         },
         "colorscale": [
          [
           0,
           "#0d0887"
          ],
          [
           0.1111111111111111,
           "#46039f"
          ],
          [
           0.2222222222222222,
           "#7201a8"
          ],
          [
           0.3333333333333333,
           "#9c179e"
          ],
          [
           0.4444444444444444,
           "#bd3786"
          ],
          [
           0.5555555555555556,
           "#d8576b"
          ],
          [
           0.6666666666666666,
           "#ed7953"
          ],
          [
           0.7777777777777778,
           "#fb9f3a"
          ],
          [
           0.8888888888888888,
           "#fdca26"
          ],
          [
           1,
           "#f0f921"
          ]
         ]
        },
        "height": 600,
        "legend": {
         "tracegroupgap": 0
        },
        "margin": {
         "t": 60
        },
        "template": {
         "data": {
          "bar": [
           {
            "error_x": {
             "color": "#2a3f5f"
            },
            "error_y": {
             "color": "#2a3f5f"
            },
            "marker": {
             "line": {
              "color": "#E5ECF6",
              "width": 0.5
             }
            },
            "type": "bar"
           }
          ],
          "barpolar": [
           {
            "marker": {
             "line": {
              "color": "#E5ECF6",
              "width": 0.5
             }
            },
            "type": "barpolar"
           }
          ],
          "carpet": [
           {
            "aaxis": {
             "endlinecolor": "#2a3f5f",
             "gridcolor": "white",
             "linecolor": "white",
             "minorgridcolor": "white",
             "startlinecolor": "#2a3f5f"
            },
            "baxis": {
             "endlinecolor": "#2a3f5f",
             "gridcolor": "white",
             "linecolor": "white",
             "minorgridcolor": "white",
             "startlinecolor": "#2a3f5f"
            },
            "type": "carpet"
           }
          ],
          "choropleth": [
           {
            "colorbar": {
             "outlinewidth": 0,
             "ticks": ""
            },
            "type": "choropleth"
           }
          ],
          "contour": [
           {
            "colorbar": {
             "outlinewidth": 0,
             "ticks": ""
            },
            "colorscale": [
             [
              0,
              "#0d0887"
             ],
             [
              0.1111111111111111,
              "#46039f"
             ],
             [
              0.2222222222222222,
              "#7201a8"
             ],
             [
              0.3333333333333333,
              "#9c179e"
             ],
             [
              0.4444444444444444,
              "#bd3786"
             ],
             [
              0.5555555555555556,
              "#d8576b"
             ],
             [
              0.6666666666666666,
              "#ed7953"
             ],
             [
              0.7777777777777778,
              "#fb9f3a"
             ],
             [
              0.8888888888888888,
              "#fdca26"
             ],
             [
              1,
              "#f0f921"
             ]
            ],
            "type": "contour"
           }
          ],
          "contourcarpet": [
           {
            "colorbar": {
             "outlinewidth": 0,
             "ticks": ""
            },
            "type": "contourcarpet"
           }
          ],
          "heatmap": [
           {
            "colorbar": {
             "outlinewidth": 0,
             "ticks": ""
            },
            "colorscale": [
             [
              0,
              "#0d0887"
             ],
             [
              0.1111111111111111,
              "#46039f"
             ],
             [
              0.2222222222222222,
              "#7201a8"
             ],
             [
              0.3333333333333333,
              "#9c179e"
             ],
             [
              0.4444444444444444,
              "#bd3786"
             ],
             [
              0.5555555555555556,
              "#d8576b"
             ],
             [
              0.6666666666666666,
              "#ed7953"
             ],
             [
              0.7777777777777778,
              "#fb9f3a"
             ],
             [
              0.8888888888888888,
              "#fdca26"
             ],
             [
              1,
              "#f0f921"
             ]
            ],
            "type": "heatmap"
           }
          ],
          "heatmapgl": [
           {
            "colorbar": {
             "outlinewidth": 0,
             "ticks": ""
            },
            "colorscale": [
             [
              0,
              "#0d0887"
             ],
             [
              0.1111111111111111,
              "#46039f"
             ],
             [
              0.2222222222222222,
              "#7201a8"
             ],
             [
              0.3333333333333333,
              "#9c179e"
             ],
             [
              0.4444444444444444,
              "#bd3786"
             ],
             [
              0.5555555555555556,
              "#d8576b"
             ],
             [
              0.6666666666666666,
              "#ed7953"
             ],
             [
              0.7777777777777778,
              "#fb9f3a"
             ],
             [
              0.8888888888888888,
              "#fdca26"
             ],
             [
              1,
              "#f0f921"
             ]
            ],
            "type": "heatmapgl"
           }
          ],
          "histogram": [
           {
            "marker": {
             "colorbar": {
              "outlinewidth": 0,
              "ticks": ""
             }
            },
            "type": "histogram"
           }
          ],
          "histogram2d": [
           {
            "colorbar": {
             "outlinewidth": 0,
             "ticks": ""
            },
            "colorscale": [
             [
              0,
              "#0d0887"
             ],
             [
              0.1111111111111111,
              "#46039f"
             ],
             [
              0.2222222222222222,
              "#7201a8"
             ],
             [
              0.3333333333333333,
              "#9c179e"
             ],
             [
              0.4444444444444444,
              "#bd3786"
             ],
             [
              0.5555555555555556,
              "#d8576b"
             ],
             [
              0.6666666666666666,
              "#ed7953"
             ],
             [
              0.7777777777777778,
              "#fb9f3a"
             ],
             [
              0.8888888888888888,
              "#fdca26"
             ],
             [
              1,
              "#f0f921"
             ]
            ],
            "type": "histogram2d"
           }
          ],
          "histogram2dcontour": [
           {
            "colorbar": {
             "outlinewidth": 0,
             "ticks": ""
            },
            "colorscale": [
             [
              0,
              "#0d0887"
             ],
             [
              0.1111111111111111,
              "#46039f"
             ],
             [
              0.2222222222222222,
              "#7201a8"
             ],
             [
              0.3333333333333333,
              "#9c179e"
             ],
             [
              0.4444444444444444,
              "#bd3786"
             ],
             [
              0.5555555555555556,
              "#d8576b"
             ],
             [
              0.6666666666666666,
              "#ed7953"
             ],
             [
              0.7777777777777778,
              "#fb9f3a"
             ],
             [
              0.8888888888888888,
              "#fdca26"
             ],
             [
              1,
              "#f0f921"
             ]
            ],
            "type": "histogram2dcontour"
           }
          ],
          "mesh3d": [
           {
            "colorbar": {
             "outlinewidth": 0,
             "ticks": ""
            },
            "type": "mesh3d"
           }
          ],
          "parcoords": [
           {
            "line": {
             "colorbar": {
              "outlinewidth": 0,
              "ticks": ""
             }
            },
            "type": "parcoords"
           }
          ],
          "scatter": [
           {
            "marker": {
             "colorbar": {
              "outlinewidth": 0,
              "ticks": ""
             }
            },
            "type": "scatter"
           }
          ],
          "scatter3d": [
           {
            "line": {
             "colorbar": {
              "outlinewidth": 0,
              "ticks": ""
             }
            },
            "marker": {
             "colorbar": {
              "outlinewidth": 0,
              "ticks": ""
             }
            },
            "type": "scatter3d"
           }
          ],
          "scattercarpet": [
           {
            "marker": {
             "colorbar": {
              "outlinewidth": 0,
              "ticks": ""
             }
            },
            "type": "scattercarpet"
           }
          ],
          "scattergeo": [
           {
            "marker": {
             "colorbar": {
              "outlinewidth": 0,
              "ticks": ""
             }
            },
            "type": "scattergeo"
           }
          ],
          "scattergl": [
           {
            "marker": {
             "colorbar": {
              "outlinewidth": 0,
              "ticks": ""
             }
            },
            "type": "scattergl"
           }
          ],
          "scattermapbox": [
           {
            "marker": {
             "colorbar": {
              "outlinewidth": 0,
              "ticks": ""
             }
            },
            "type": "scattermapbox"
           }
          ],
          "scatterpolar": [
           {
            "marker": {
             "colorbar": {
              "outlinewidth": 0,
              "ticks": ""
             }
            },
            "type": "scatterpolar"
           }
          ],
          "scatterpolargl": [
           {
            "marker": {
             "colorbar": {
              "outlinewidth": 0,
              "ticks": ""
             }
            },
            "type": "scatterpolargl"
           }
          ],
          "scatterternary": [
           {
            "marker": {
             "colorbar": {
              "outlinewidth": 0,
              "ticks": ""
             }
            },
            "type": "scatterternary"
           }
          ],
          "surface": [
           {
            "colorbar": {
             "outlinewidth": 0,
             "ticks": ""
            },
            "colorscale": [
             [
              0,
              "#0d0887"
             ],
             [
              0.1111111111111111,
              "#46039f"
             ],
             [
              0.2222222222222222,
              "#7201a8"
             ],
             [
              0.3333333333333333,
              "#9c179e"
             ],
             [
              0.4444444444444444,
              "#bd3786"
             ],
             [
              0.5555555555555556,
              "#d8576b"
             ],
             [
              0.6666666666666666,
              "#ed7953"
             ],
             [
              0.7777777777777778,
              "#fb9f3a"
             ],
             [
              0.8888888888888888,
              "#fdca26"
             ],
             [
              1,
              "#f0f921"
             ]
            ],
            "type": "surface"
           }
          ],
          "table": [
           {
            "cells": {
             "fill": {
              "color": "#EBF0F8"
             },
             "line": {
              "color": "white"
             }
            },
            "header": {
             "fill": {
              "color": "#C8D4E3"
             },
             "line": {
              "color": "white"
             }
            },
            "type": "table"
           }
          ]
         },
         "layout": {
          "annotationdefaults": {
           "arrowcolor": "#2a3f5f",
           "arrowhead": 0,
           "arrowwidth": 1
          },
          "colorscale": {
           "diverging": [
            [
             0,
             "#8e0152"
            ],
            [
             0.1,
             "#c51b7d"
            ],
            [
             0.2,
             "#de77ae"
            ],
            [
             0.3,
             "#f1b6da"
            ],
            [
             0.4,
             "#fde0ef"
            ],
            [
             0.5,
             "#f7f7f7"
            ],
            [
             0.6,
             "#e6f5d0"
            ],
            [
             0.7,
             "#b8e186"
            ],
            [
             0.8,
             "#7fbc41"
            ],
            [
             0.9,
             "#4d9221"
            ],
            [
             1,
             "#276419"
            ]
           ],
           "sequential": [
            [
             0,
             "#0d0887"
            ],
            [
             0.1111111111111111,
             "#46039f"
            ],
            [
             0.2222222222222222,
             "#7201a8"
            ],
            [
             0.3333333333333333,
             "#9c179e"
            ],
            [
             0.4444444444444444,
             "#bd3786"
            ],
            [
             0.5555555555555556,
             "#d8576b"
            ],
            [
             0.6666666666666666,
             "#ed7953"
            ],
            [
             0.7777777777777778,
             "#fb9f3a"
            ],
            [
             0.8888888888888888,
             "#fdca26"
            ],
            [
             1,
             "#f0f921"
            ]
           ],
           "sequentialminus": [
            [
             0,
             "#0d0887"
            ],
            [
             0.1111111111111111,
             "#46039f"
            ],
            [
             0.2222222222222222,
             "#7201a8"
            ],
            [
             0.3333333333333333,
             "#9c179e"
            ],
            [
             0.4444444444444444,
             "#bd3786"
            ],
            [
             0.5555555555555556,
             "#d8576b"
            ],
            [
             0.6666666666666666,
             "#ed7953"
            ],
            [
             0.7777777777777778,
             "#fb9f3a"
            ],
            [
             0.8888888888888888,
             "#fdca26"
            ],
            [
             1,
             "#f0f921"
            ]
           ]
          },
          "colorway": [
           "#636efa",
           "#EF553B",
           "#00cc96",
           "#ab63fa",
           "#FFA15A",
           "#19d3f3",
           "#FF6692",
           "#B6E880",
           "#FF97FF",
           "#FECB52"
          ],
          "font": {
           "color": "#2a3f5f"
          },
          "geo": {
           "bgcolor": "white",
           "lakecolor": "white",
           "landcolor": "#E5ECF6",
           "showlakes": true,
           "showland": true,
           "subunitcolor": "white"
          },
          "hoverlabel": {
           "align": "left"
          },
          "hovermode": "closest",
          "mapbox": {
           "style": "light"
          },
          "paper_bgcolor": "white",
          "plot_bgcolor": "#E5ECF6",
          "polar": {
           "angularaxis": {
            "gridcolor": "white",
            "linecolor": "white",
            "ticks": ""
           },
           "bgcolor": "#E5ECF6",
           "radialaxis": {
            "gridcolor": "white",
            "linecolor": "white",
            "ticks": ""
           }
          },
          "scene": {
           "xaxis": {
            "backgroundcolor": "#E5ECF6",
            "gridcolor": "white",
            "gridwidth": 2,
            "linecolor": "white",
            "showbackground": true,
            "ticks": "",
            "zerolinecolor": "white"
           },
           "yaxis": {
            "backgroundcolor": "#E5ECF6",
            "gridcolor": "white",
            "gridwidth": 2,
            "linecolor": "white",
            "showbackground": true,
            "ticks": "",
            "zerolinecolor": "white"
           },
           "zaxis": {
            "backgroundcolor": "#E5ECF6",
            "gridcolor": "white",
            "gridwidth": 2,
            "linecolor": "white",
            "showbackground": true,
            "ticks": "",
            "zerolinecolor": "white"
           }
          },
          "shapedefaults": {
           "line": {
            "color": "#2a3f5f"
           }
          },
          "ternary": {
           "aaxis": {
            "gridcolor": "white",
            "linecolor": "white",
            "ticks": ""
           },
           "baxis": {
            "gridcolor": "white",
            "linecolor": "white",
            "ticks": ""
           },
           "bgcolor": "#E5ECF6",
           "caxis": {
            "gridcolor": "white",
            "linecolor": "white",
            "ticks": ""
           }
          },
          "title": {
           "x": 0.05
          },
          "xaxis": {
           "automargin": true,
           "gridcolor": "white",
           "linecolor": "white",
           "ticks": "",
           "zerolinecolor": "white",
           "zerolinewidth": 2
          },
          "yaxis": {
           "automargin": true,
           "gridcolor": "white",
           "linecolor": "white",
           "ticks": "",
           "zerolinecolor": "white",
           "zerolinewidth": 2
          }
         }
        },
        "xaxis": {
         "anchor": "y",
         "domain": [
          0,
          0.98
         ],
         "title": {
          "text": "gamma"
         }
        },
        "yaxis": {
         "anchor": "x",
         "domain": [
          0,
          1
         ],
         "title": {
          "text": "C"
         }
        }
       }
      },
      "text/html": [
       "<div>\n",
       "        \n",
       "        \n",
       "            <div id=\"95ccf3b1-fae7-4be4-9940-7fed57b76e8c\" class=\"plotly-graph-div\" style=\"height:600px; width:100%;\"></div>\n",
       "            <script type=\"text/javascript\">\n",
       "                require([\"plotly\"], function(Plotly) {\n",
       "                    window.PLOTLYENV=window.PLOTLYENV || {};\n",
       "                    \n",
       "                if (document.getElementById(\"95ccf3b1-fae7-4be4-9940-7fed57b76e8c\")) {\n",
       "                    Plotly.newPlot(\n",
       "                        '95ccf3b1-fae7-4be4-9940-7fed57b76e8c',\n",
       "                        [{\"hoverlabel\": {\"namelength\": 0}, \"hovertemplate\": \"<b>%{hovertext}</b><br><br>gamma=%{x}<br>C=%{y}<br>target=%{marker.color}\", \"hovertext\": [0.09159514140104101, 0.0912514551199, 0.090430800821741, 0.09139311693341401, 0.089660287423972, 0.0803728664144, 0.091246951653285, 0.089660287423972, 0.091246951653285, 0.09209123290146401, 0.081309684337622, 0.08199667651870801, 0.09091258906787701, 0.09307665187891001, 0.082339423230452, 0.09088735426072901, 0.091174037918439, 0.09104425094393001, 0.08020689312008, 0.090597604424968, 0.092056646877385, 0.091027948301312, 0.09201075915761901, 0.091580298681758, 0.089144480554027, 0.09054141795109201, 0.09286054478585401, 0.09265074140273101, 0.08874119745174401, 0.08965497885119, 0.09102458176378901, 0.092616506120684, 0.092243593750423, 0.08952800420495001, 0.092777341951727, 0.091246951653285, 0.091980455249524, 0.09150898383750801, 0.092841323948573, 0.089144480554027, 0.09054141795109201, 0.09286054478585401, 0.09265074140273101, 0.08874119745174401, 0.08965497885119, 0.09102458176378901, 0.092616506120684, 0.092243593750423, 0.08952800420495001, 0.092777341951727, 0.091246951653285, 0.091980455249524, 0.09150898383750801, 0.092841323948573, 0.09307665187891001, 0.09088735426072901, 0.09299181069132101, 0.089144480554027, 0.09054141795109201, 0.08965497885119, 0.09102458176378901, 0.092616506120684, 0.092243593750423, 0.092777341951727, 0.091246951653285, 0.091980455249524, 0.09150898383750801, 0.092841323948573, 0.09307665187891001, 0.09088735426072901, 0.09299181069132101, 0.09095822085407401, 0.09114783791282301, 0.09078809421707701, 0.090747539024653, 0.092080374528514, 0.092639787064639, 0.09182758644779501, 0.09215643435520701, 0.093119790381818, 0.09162195896767, 0.09047104364282901, 0.091311036205501, 0.090211894223332, 0.09206583726068501, 0.09031169373586401, 0.090654842168811, 0.09211511829801901, 0.09099833825935401, 0.093398592516768, 0.092171144813497, 0.091214154139775, 0.09146297184354, 0.09239107607557201, 0.09028614610776, 0.09087828884297401, 0.091069910831512, 0.09022013611611901, 0.09076677685671701, 0.090359087054762, 0.090645845978867, 0.09201367546854301, 0.090894445922268, 0.08991619601988801], \"legendgroup\": \"\", \"marker\": {\"color\": [2.493084272883889, 2.54314046867617, 2.581303992749398, 2.562148748718907, 2.539260284910651, 2.4647309734751772, 2.567554785430285, 2.537056418495036, 2.515408937534707, 2.400218950260562, 2.5170254825540272, 2.401847524193885, 2.549166736441671, 2.4123572966720213, 2.5074688417167588, 2.475353848392958, 2.485377651351022, 2.513644153904881, 2.443353784410938, 2.443312101961742, 2.338415658929036, 2.54016236515319, 2.414919580150446, 2.372068201259463, 2.565837641597701, 2.576376163035412, 2.433773618178127, 2.400494112928369, 2.598341940161403, 2.56516017591115, 2.519098442436548, 2.596327211370399, 2.403708467754311, 2.584388218703645, 2.495115528814758, 2.412207722396828, 2.405390046066284, 2.350269716192885, 2.457841092286675, 2.565837641597701, 2.576376163035412, 2.433773618178127, 2.400494112928369, 2.598341940161403, 2.56516017591115, 2.519098442436548, 2.596327211370399, 2.403708467754311, 2.584388218703645, 2.495115528814758, 2.412207722396828, 2.405390046066284, 2.350269716192885, 2.457841092286675, 2.51709174448855, 2.5027959549992502, 2.489607407648145, 2.5731748570999002, 2.580664996477224, 2.570191418293449, 2.500422028087089, 2.579707986768774, 2.427472023954901, 2.515345687267854, 2.421840925116185, 2.419139273803138, 2.336005370009835, 2.462740481897566, 2.499424718849931, 2.508868582390389, 2.457770020213949, 2.42679199693757, 2.488257090529464, 2.496839047347048, 2.506991881341149, 2.389968711737639, 2.444471814406382, 2.388594722391015, 2.361138770707791, 2.52105652735682, 2.361498309973848, 2.593697808324051, 2.39873995514662, 2.437138097888009, 2.390576605930969, 2.49835655090138, 2.456664069680862, 2.36471702496728, 2.463858107034682, 2.593035207560125, 2.387644463867173, 2.380779689430804, 2.314474988678728, 2.408601747077728, 2.499288599621575, 2.466905026507385, 2.459107134690298, 2.492626254390645, 2.476351030287056, 2.495132044536733, 2.530952375351908, 2.459263503976299, 2.475861688400904, 2.539741075066214], \"coloraxis\": \"coloraxis\", \"symbol\": \"circle\"}, \"mode\": \"markers\", \"name\": \"\", \"showlegend\": false, \"type\": \"scatter\", \"x\": [7.746724551931922, 8.014245868377442, 8.029112414094469, 8.03820331924647, 6.613604863507273, 9.917623730160225, 5.09026903663919, 6.6441129278, 5.134500847119917, 4.75844770509189, 4.446267245103355, 8.483574393989185, 8.372231551632504, 3.400157876533301, 5.948408402672287, 6.829678117512691, 6.810568131092352, 7.7046011833152, 8.47311792459654, 6.5010701052924915, 4.158211189567182, 8.074253159500262, 5.467975941039625, 4.339431315613426, 3.584064094746825, 5.5708849967304435, 3.809334892715666, 3.790207257650594, 3.7665477292728493, 4.606133803636898, 5.76341374199714, 5.923888781036287, 4.882490302532518, 4.194460978400922, 4.103108237931719, 4.525606317309066, 5.061891966765919, 4.014746641342523, 3.8961490981013442, 3.584064094746825, 5.5708849967304435, 3.809334892715666, 3.790207257650594, 3.7665477292728493, 4.606133803636898, 5.76341374199714, 5.923888781036287, 4.882490302532518, 4.194460978400922, 4.103108237931719, 4.525606317309066, 5.061891966765919, 4.014746641342523, 3.8961490981013442, 4.000047841373727, 5.03929639924627, 3.112118168564351, 3.584064094746825, 5.5708849967304435, 4.606133803636898, 5.76341374199714, 5.923888781036287, 4.882490302532518, 4.103108237931719, 4.525606317309066, 5.061891966765919, 4.014746641342523, 3.8961490981013442, 4.000047841373727, 5.03929639924627, 3.112118168564351, 4.149627501416115, 4.96082076090534, 4.695526187187717, 4.704168354879348, 4.703298185852811, 4.687585250924299, 4.684261898882934, 4.676441067335853, 3.85255232128341, 4.2201407139147324, 5.043674824884422, 4.217481164066643, 4.217709589148232, 4.219711630695423, 4.221472872025176, 4.31705068033435, 4.322417948479995, 5.5404770890876325, 4.467031697465733, 4.69375298703788, 4.156252835550521, 3.858758149455118, 4.8987812416195595, 3.864167678738759, 4.469819616162821, 5.540788137415017, 4.214481142386319, 5.53598071568719, 4.163388846285166, 5.385341288044193, 5.3802099370710454, 5.540290059394377, 4.165223545771592], \"xaxis\": \"x\", \"y\": [3.76464540383569, 3.591616071274831, 3.626816276713866, 3.613636275643189, 2.5804447613168513, 0.417728753074716, 2.790650727561948, 2.647287601304988, 2.855599820106436, 9.533785416332446, 0.500718460020243, 0.30543062460873605, 1.039924269157977, 5.967656021447512, 0.5881834511170151, 3.099749286616264, 3.122379977789521, 1.2590267882230681, 0.316011579521478, 3.449729648614699, 9.36706487385748, 5.032767988285355, 7.453295240751093, 9.878813178257586, 11.083792363168541, 8.257309316057974, 11.12876178033611, 11.099982527866938, 11.159720992085031, 7.527854931585771, 6.108696264961165, 6.7604767815003175, 8.22627114460847, 10.720404591821715, 12.237888635691668, 7.948403913206571, 8.23161898427033, 6.367145429499684, 9.208338052859535, 11.083792363168541, 8.257309316057974, 11.12876178033611, 11.099982527866938, 11.159720992085031, 7.527854931585771, 6.108696264961165, 6.7604767815003175, 8.22627114460847, 10.720404591821715, 12.237888635691668, 7.948403913206571, 8.23161898427033, 6.367145429499684, 9.208338052859535, 10.148847691932584, 8.121034849122612, 12.27942838153336, 12.536304466930982, 8.902254834931682, 7.964384912038848, 6.139752340664356, 6.977755861928979, 8.862348614496604, 14.020142531603575, 8.505090745551305, 8.86922440834757, 6.47204412364245, 10.125006067962259, 11.334232746770466, 8.727044806014785, 14.073550776257179, 8.708446105070635, 8.454498642871535, 8.42287397416197, 8.444002094573914, 8.416294840364834, 8.682785582882241, 8.410845346568017, 8.42955855035233, 7.594283182800044, 8.75387941650144, 9.770638747427567, 8.74288614640265, 7.076685409880101, 7.086787642476262, 8.756002394813429, 6.161906448493028, 6.152230988877699, 6.083002272569186, 8.679266539935401, 8.413892213286926, 8.699318147595077, 7.599954045780223, 8.132643020038243, 7.608444153604237, 8.684488772942066, 6.094667651014999, 8.758994446881527, 6.100513981652305, 8.704364372224276, 8.351279192282782, 8.356398545463499, 6.089732037833809, 8.71233265853619], \"yaxis\": \"y\"}],\n",
       "                        {\"coloraxis\": {\"colorbar\": {\"title\": {\"text\": \"target\"}}, \"colorscale\": [[0.0, \"#0d0887\"], [0.1111111111111111, \"#46039f\"], [0.2222222222222222, \"#7201a8\"], [0.3333333333333333, \"#9c179e\"], [0.4444444444444444, \"#bd3786\"], [0.5555555555555556, \"#d8576b\"], [0.6666666666666666, \"#ed7953\"], [0.7777777777777778, \"#fb9f3a\"], [0.8888888888888888, \"#fdca26\"], [1.0, \"#f0f921\"]]}, \"height\": 600, \"legend\": {\"tracegroupgap\": 0}, \"margin\": {\"t\": 60}, \"template\": {\"data\": {\"bar\": [{\"error_x\": {\"color\": \"#2a3f5f\"}, \"error_y\": {\"color\": \"#2a3f5f\"}, \"marker\": {\"line\": {\"color\": \"#E5ECF6\", \"width\": 0.5}}, \"type\": \"bar\"}], \"barpolar\": [{\"marker\": {\"line\": {\"color\": \"#E5ECF6\", \"width\": 0.5}}, \"type\": \"barpolar\"}], \"carpet\": [{\"aaxis\": {\"endlinecolor\": \"#2a3f5f\", \"gridcolor\": \"white\", \"linecolor\": \"white\", \"minorgridcolor\": \"white\", \"startlinecolor\": \"#2a3f5f\"}, \"baxis\": {\"endlinecolor\": \"#2a3f5f\", \"gridcolor\": \"white\", \"linecolor\": \"white\", \"minorgridcolor\": \"white\", \"startlinecolor\": \"#2a3f5f\"}, \"type\": \"carpet\"}], \"choropleth\": [{\"colorbar\": {\"outlinewidth\": 0, \"ticks\": \"\"}, \"type\": \"choropleth\"}], \"contour\": [{\"colorbar\": {\"outlinewidth\": 0, \"ticks\": \"\"}, \"colorscale\": [[0.0, \"#0d0887\"], [0.1111111111111111, \"#46039f\"], [0.2222222222222222, \"#7201a8\"], [0.3333333333333333, \"#9c179e\"], [0.4444444444444444, \"#bd3786\"], [0.5555555555555556, \"#d8576b\"], [0.6666666666666666, \"#ed7953\"], [0.7777777777777778, \"#fb9f3a\"], [0.8888888888888888, \"#fdca26\"], [1.0, \"#f0f921\"]], \"type\": \"contour\"}], \"contourcarpet\": [{\"colorbar\": {\"outlinewidth\": 0, \"ticks\": \"\"}, \"type\": \"contourcarpet\"}], \"heatmap\": [{\"colorbar\": {\"outlinewidth\": 0, \"ticks\": \"\"}, \"colorscale\": [[0.0, \"#0d0887\"], [0.1111111111111111, \"#46039f\"], [0.2222222222222222, \"#7201a8\"], [0.3333333333333333, \"#9c179e\"], [0.4444444444444444, \"#bd3786\"], [0.5555555555555556, \"#d8576b\"], [0.6666666666666666, \"#ed7953\"], [0.7777777777777778, \"#fb9f3a\"], [0.8888888888888888, \"#fdca26\"], [1.0, \"#f0f921\"]], \"type\": \"heatmap\"}], \"heatmapgl\": [{\"colorbar\": {\"outlinewidth\": 0, \"ticks\": \"\"}, \"colorscale\": [[0.0, \"#0d0887\"], [0.1111111111111111, \"#46039f\"], [0.2222222222222222, \"#7201a8\"], [0.3333333333333333, \"#9c179e\"], [0.4444444444444444, \"#bd3786\"], [0.5555555555555556, \"#d8576b\"], [0.6666666666666666, \"#ed7953\"], [0.7777777777777778, \"#fb9f3a\"], [0.8888888888888888, \"#fdca26\"], [1.0, \"#f0f921\"]], \"type\": \"heatmapgl\"}], \"histogram\": [{\"marker\": {\"colorbar\": {\"outlinewidth\": 0, \"ticks\": \"\"}}, \"type\": \"histogram\"}], \"histogram2d\": [{\"colorbar\": {\"outlinewidth\": 0, \"ticks\": \"\"}, \"colorscale\": [[0.0, \"#0d0887\"], [0.1111111111111111, \"#46039f\"], [0.2222222222222222, \"#7201a8\"], [0.3333333333333333, \"#9c179e\"], [0.4444444444444444, \"#bd3786\"], [0.5555555555555556, \"#d8576b\"], [0.6666666666666666, \"#ed7953\"], [0.7777777777777778, \"#fb9f3a\"], [0.8888888888888888, \"#fdca26\"], [1.0, \"#f0f921\"]], \"type\": \"histogram2d\"}], \"histogram2dcontour\": [{\"colorbar\": {\"outlinewidth\": 0, \"ticks\": \"\"}, \"colorscale\": [[0.0, \"#0d0887\"], [0.1111111111111111, \"#46039f\"], [0.2222222222222222, \"#7201a8\"], [0.3333333333333333, \"#9c179e\"], [0.4444444444444444, \"#bd3786\"], [0.5555555555555556, \"#d8576b\"], [0.6666666666666666, \"#ed7953\"], [0.7777777777777778, \"#fb9f3a\"], [0.8888888888888888, \"#fdca26\"], [1.0, \"#f0f921\"]], \"type\": \"histogram2dcontour\"}], \"mesh3d\": [{\"colorbar\": {\"outlinewidth\": 0, \"ticks\": \"\"}, \"type\": \"mesh3d\"}], \"parcoords\": [{\"line\": {\"colorbar\": {\"outlinewidth\": 0, \"ticks\": \"\"}}, \"type\": \"parcoords\"}], \"scatter\": [{\"marker\": {\"colorbar\": {\"outlinewidth\": 0, \"ticks\": \"\"}}, \"type\": \"scatter\"}], \"scatter3d\": [{\"line\": {\"colorbar\": {\"outlinewidth\": 0, \"ticks\": \"\"}}, \"marker\": {\"colorbar\": {\"outlinewidth\": 0, \"ticks\": \"\"}}, \"type\": \"scatter3d\"}], \"scattercarpet\": [{\"marker\": {\"colorbar\": {\"outlinewidth\": 0, \"ticks\": \"\"}}, \"type\": \"scattercarpet\"}], \"scattergeo\": [{\"marker\": {\"colorbar\": {\"outlinewidth\": 0, \"ticks\": \"\"}}, \"type\": \"scattergeo\"}], \"scattergl\": [{\"marker\": {\"colorbar\": {\"outlinewidth\": 0, \"ticks\": \"\"}}, \"type\": \"scattergl\"}], \"scattermapbox\": [{\"marker\": {\"colorbar\": {\"outlinewidth\": 0, \"ticks\": \"\"}}, \"type\": \"scattermapbox\"}], \"scatterpolar\": [{\"marker\": {\"colorbar\": {\"outlinewidth\": 0, \"ticks\": \"\"}}, \"type\": \"scatterpolar\"}], \"scatterpolargl\": [{\"marker\": {\"colorbar\": {\"outlinewidth\": 0, \"ticks\": \"\"}}, \"type\": \"scatterpolargl\"}], \"scatterternary\": [{\"marker\": {\"colorbar\": {\"outlinewidth\": 0, \"ticks\": \"\"}}, \"type\": \"scatterternary\"}], \"surface\": [{\"colorbar\": {\"outlinewidth\": 0, \"ticks\": \"\"}, \"colorscale\": [[0.0, \"#0d0887\"], [0.1111111111111111, \"#46039f\"], [0.2222222222222222, \"#7201a8\"], [0.3333333333333333, \"#9c179e\"], [0.4444444444444444, \"#bd3786\"], [0.5555555555555556, \"#d8576b\"], [0.6666666666666666, \"#ed7953\"], [0.7777777777777778, \"#fb9f3a\"], [0.8888888888888888, \"#fdca26\"], [1.0, \"#f0f921\"]], \"type\": \"surface\"}], \"table\": [{\"cells\": {\"fill\": {\"color\": \"#EBF0F8\"}, \"line\": {\"color\": \"white\"}}, \"header\": {\"fill\": {\"color\": \"#C8D4E3\"}, \"line\": {\"color\": \"white\"}}, \"type\": \"table\"}]}, \"layout\": {\"annotationdefaults\": {\"arrowcolor\": \"#2a3f5f\", \"arrowhead\": 0, \"arrowwidth\": 1}, \"colorscale\": {\"diverging\": [[0, \"#8e0152\"], [0.1, \"#c51b7d\"], [0.2, \"#de77ae\"], [0.3, \"#f1b6da\"], [0.4, \"#fde0ef\"], [0.5, \"#f7f7f7\"], [0.6, \"#e6f5d0\"], [0.7, \"#b8e186\"], [0.8, \"#7fbc41\"], [0.9, \"#4d9221\"], [1, \"#276419\"]], \"sequential\": [[0.0, \"#0d0887\"], [0.1111111111111111, \"#46039f\"], [0.2222222222222222, \"#7201a8\"], [0.3333333333333333, \"#9c179e\"], [0.4444444444444444, \"#bd3786\"], [0.5555555555555556, \"#d8576b\"], [0.6666666666666666, \"#ed7953\"], [0.7777777777777778, \"#fb9f3a\"], [0.8888888888888888, \"#fdca26\"], [1.0, \"#f0f921\"]], \"sequentialminus\": [[0.0, \"#0d0887\"], [0.1111111111111111, \"#46039f\"], [0.2222222222222222, \"#7201a8\"], [0.3333333333333333, \"#9c179e\"], [0.4444444444444444, \"#bd3786\"], [0.5555555555555556, \"#d8576b\"], [0.6666666666666666, \"#ed7953\"], [0.7777777777777778, \"#fb9f3a\"], [0.8888888888888888, \"#fdca26\"], [1.0, \"#f0f921\"]]}, \"colorway\": [\"#636efa\", \"#EF553B\", \"#00cc96\", \"#ab63fa\", \"#FFA15A\", \"#19d3f3\", \"#FF6692\", \"#B6E880\", \"#FF97FF\", \"#FECB52\"], \"font\": {\"color\": \"#2a3f5f\"}, \"geo\": {\"bgcolor\": \"white\", \"lakecolor\": \"white\", \"landcolor\": \"#E5ECF6\", \"showlakes\": true, \"showland\": true, \"subunitcolor\": \"white\"}, \"hoverlabel\": {\"align\": \"left\"}, \"hovermode\": \"closest\", \"mapbox\": {\"style\": \"light\"}, \"paper_bgcolor\": \"white\", \"plot_bgcolor\": \"#E5ECF6\", \"polar\": {\"angularaxis\": {\"gridcolor\": \"white\", \"linecolor\": \"white\", \"ticks\": \"\"}, \"bgcolor\": \"#E5ECF6\", \"radialaxis\": {\"gridcolor\": \"white\", \"linecolor\": \"white\", \"ticks\": \"\"}}, \"scene\": {\"xaxis\": {\"backgroundcolor\": \"#E5ECF6\", \"gridcolor\": \"white\", \"gridwidth\": 2, \"linecolor\": \"white\", \"showbackground\": true, \"ticks\": \"\", \"zerolinecolor\": \"white\"}, \"yaxis\": {\"backgroundcolor\": \"#E5ECF6\", \"gridcolor\": \"white\", \"gridwidth\": 2, \"linecolor\": \"white\", \"showbackground\": true, \"ticks\": \"\", \"zerolinecolor\": \"white\"}, \"zaxis\": {\"backgroundcolor\": \"#E5ECF6\", \"gridcolor\": \"white\", \"gridwidth\": 2, \"linecolor\": \"white\", \"showbackground\": true, \"ticks\": \"\", \"zerolinecolor\": \"white\"}}, \"shapedefaults\": {\"line\": {\"color\": \"#2a3f5f\"}}, \"ternary\": {\"aaxis\": {\"gridcolor\": \"white\", \"linecolor\": \"white\", \"ticks\": \"\"}, \"baxis\": {\"gridcolor\": \"white\", \"linecolor\": \"white\", \"ticks\": \"\"}, \"bgcolor\": \"#E5ECF6\", \"caxis\": {\"gridcolor\": \"white\", \"linecolor\": \"white\", \"ticks\": \"\"}}, \"title\": {\"x\": 0.05}, \"xaxis\": {\"automargin\": true, \"gridcolor\": \"white\", \"linecolor\": \"white\", \"ticks\": \"\", \"zerolinecolor\": \"white\", \"zerolinewidth\": 2}, \"yaxis\": {\"automargin\": true, \"gridcolor\": \"white\", \"linecolor\": \"white\", \"ticks\": \"\", \"zerolinecolor\": \"white\", \"zerolinewidth\": 2}}}, \"xaxis\": {\"anchor\": \"y\", \"domain\": [0.0, 0.98], \"title\": {\"text\": \"gamma\"}}, \"yaxis\": {\"anchor\": \"x\", \"domain\": [0.0, 1.0], \"title\": {\"text\": \"C\"}}},\n",
       "                        {\"responsive\": true}\n",
       "                    ).then(function(){\n",
       "                            \n",
       "var gd = document.getElementById('95ccf3b1-fae7-4be4-9940-7fed57b76e8c');\n",
       "var x = new MutationObserver(function (mutations, observer) {{\n",
       "        var display = window.getComputedStyle(gd).display;\n",
       "        if (!display || display === 'none') {{\n",
       "            console.log([gd, 'removed!']);\n",
       "            Plotly.purge(gd);\n",
       "            observer.disconnect();\n",
       "        }}\n",
       "}});\n",
       "\n",
       "// Listen for the removal of the full notebook cells\n",
       "var notebookContainer = gd.closest('#notebook-container');\n",
       "if (notebookContainer) {{\n",
       "    x.observe(notebookContainer, {childList: true});\n",
       "}}\n",
       "\n",
       "// Listen for the clearing of the current output cell\n",
       "var outputEl = gd.closest('.output');\n",
       "if (outputEl) {{\n",
       "    x.observe(outputEl, {childList: true});\n",
       "}}\n",
       "\n",
       "                        })\n",
       "                };\n",
       "                });\n",
       "            </script>\n",
       "        </div>"
      ]
     },
     "metadata": {},
     "output_type": "display_data"
    }
   ],
   "source": [
    "px.scatter(df1, x=\"gamma\", y=\"C\", color=\"target\", hover_name = \"epsilon\")"
   ]
  },
  {
   "cell_type": "code",
   "execution_count": 189,
   "metadata": {
    "ExecuteTime": {
     "end_time": "2021-08-25T20:29:35.354803Z",
     "start_time": "2021-08-25T20:29:34.855059Z"
    },
    "hidden": true
   },
   "outputs": [
    {
     "data": {
      "application/vnd.plotly.v1+json": {
       "config": {
        "plotlyServerURL": "https://plot.ly"
       },
       "data": [
        {
         "hoverlabel": {
          "namelength": 0
         },
         "hovertemplate": "<b>%{hovertext}</b><br><br>C=%{x}<br>gamma=%{y}<br>target=%{marker.color}",
         "hovertext": [
          0.09159514140104101,
          0.0912514551199,
          0.090430800821741,
          0.09139311693341401,
          0.089660287423972,
          0.0803728664144,
          0.091246951653285,
          0.089660287423972,
          0.091246951653285,
          0.09209123290146401,
          0.081309684337622,
          0.08199667651870801,
          0.09091258906787701,
          0.09307665187891001,
          0.082339423230452,
          0.09088735426072901,
          0.091174037918439,
          0.09104425094393001,
          0.08020689312008,
          0.090597604424968,
          0.092056646877385,
          0.091027948301312,
          0.09201075915761901,
          0.091580298681758,
          0.089144480554027,
          0.09054141795109201,
          0.09286054478585401,
          0.09265074140273101,
          0.08874119745174401,
          0.08965497885119,
          0.09102458176378901,
          0.092616506120684,
          0.092243593750423,
          0.08952800420495001,
          0.092777341951727,
          0.091246951653285,
          0.091980455249524,
          0.09150898383750801,
          0.092841323948573,
          0.089144480554027,
          0.09054141795109201,
          0.09286054478585401,
          0.09265074140273101,
          0.08874119745174401,
          0.08965497885119,
          0.09102458176378901,
          0.092616506120684,
          0.092243593750423,
          0.08952800420495001,
          0.092777341951727,
          0.091246951653285,
          0.091980455249524,
          0.09150898383750801,
          0.092841323948573,
          0.09307665187891001,
          0.09088735426072901,
          0.09299181069132101,
          0.089144480554027,
          0.09054141795109201,
          0.08965497885119,
          0.09102458176378901,
          0.092616506120684,
          0.092243593750423,
          0.092777341951727,
          0.091246951653285,
          0.091980455249524,
          0.09150898383750801,
          0.092841323948573,
          0.09307665187891001,
          0.09088735426072901,
          0.09299181069132101,
          0.09095822085407401,
          0.09114783791282301,
          0.09078809421707701,
          0.090747539024653,
          0.092080374528514,
          0.092639787064639,
          0.09182758644779501,
          0.09215643435520701,
          0.093119790381818,
          0.09162195896767,
          0.09047104364282901,
          0.091311036205501,
          0.090211894223332,
          0.09206583726068501,
          0.09031169373586401,
          0.090654842168811,
          0.09211511829801901,
          0.09099833825935401,
          0.093398592516768,
          0.092171144813497,
          0.091214154139775,
          0.09146297184354,
          0.09239107607557201,
          0.09028614610776,
          0.09087828884297401,
          0.091069910831512,
          0.09022013611611901,
          0.09076677685671701,
          0.090359087054762,
          0.090645845978867,
          0.09201367546854301,
          0.090894445922268,
          0.08991619601988801
         ],
         "legendgroup": "",
         "marker": {
          "color": [
           2.493084272883889,
           2.54314046867617,
           2.581303992749398,
           2.562148748718907,
           2.539260284910651,
           2.4647309734751772,
           2.567554785430285,
           2.537056418495036,
           2.515408937534707,
           2.400218950260562,
           2.5170254825540272,
           2.401847524193885,
           2.549166736441671,
           2.4123572966720213,
           2.5074688417167588,
           2.475353848392958,
           2.485377651351022,
           2.513644153904881,
           2.443353784410938,
           2.443312101961742,
           2.338415658929036,
           2.54016236515319,
           2.414919580150446,
           2.372068201259463,
           2.565837641597701,
           2.576376163035412,
           2.433773618178127,
           2.400494112928369,
           2.598341940161403,
           2.56516017591115,
           2.519098442436548,
           2.596327211370399,
           2.403708467754311,
           2.584388218703645,
           2.495115528814758,
           2.412207722396828,
           2.405390046066284,
           2.350269716192885,
           2.457841092286675,
           2.565837641597701,
           2.576376163035412,
           2.433773618178127,
           2.400494112928369,
           2.598341940161403,
           2.56516017591115,
           2.519098442436548,
           2.596327211370399,
           2.403708467754311,
           2.584388218703645,
           2.495115528814758,
           2.412207722396828,
           2.405390046066284,
           2.350269716192885,
           2.457841092286675,
           2.51709174448855,
           2.5027959549992502,
           2.489607407648145,
           2.5731748570999002,
           2.580664996477224,
           2.570191418293449,
           2.500422028087089,
           2.579707986768774,
           2.427472023954901,
           2.515345687267854,
           2.421840925116185,
           2.419139273803138,
           2.336005370009835,
           2.462740481897566,
           2.499424718849931,
           2.508868582390389,
           2.457770020213949,
           2.42679199693757,
           2.488257090529464,
           2.496839047347048,
           2.506991881341149,
           2.389968711737639,
           2.444471814406382,
           2.388594722391015,
           2.361138770707791,
           2.52105652735682,
           2.361498309973848,
           2.593697808324051,
           2.39873995514662,
           2.437138097888009,
           2.390576605930969,
           2.49835655090138,
           2.456664069680862,
           2.36471702496728,
           2.463858107034682,
           2.593035207560125,
           2.387644463867173,
           2.380779689430804,
           2.314474988678728,
           2.408601747077728,
           2.499288599621575,
           2.466905026507385,
           2.459107134690298,
           2.492626254390645,
           2.476351030287056,
           2.495132044536733,
           2.530952375351908,
           2.459263503976299,
           2.475861688400904,
           2.539741075066214
          ],
          "coloraxis": "coloraxis",
          "symbol": "circle"
         },
         "mode": "markers",
         "name": "",
         "scene": "scene",
         "showlegend": false,
         "type": "scatter3d",
         "x": [
          3.76464540383569,
          3.591616071274831,
          3.626816276713866,
          3.613636275643189,
          2.5804447613168513,
          0.417728753074716,
          2.790650727561948,
          2.647287601304988,
          2.855599820106436,
          9.533785416332446,
          0.500718460020243,
          0.30543062460873605,
          1.039924269157977,
          5.967656021447512,
          0.5881834511170151,
          3.099749286616264,
          3.122379977789521,
          1.2590267882230681,
          0.316011579521478,
          3.449729648614699,
          9.36706487385748,
          5.032767988285355,
          7.453295240751093,
          9.878813178257586,
          11.083792363168541,
          8.257309316057974,
          11.12876178033611,
          11.099982527866938,
          11.159720992085031,
          7.527854931585771,
          6.108696264961165,
          6.7604767815003175,
          8.22627114460847,
          10.720404591821715,
          12.237888635691668,
          7.948403913206571,
          8.23161898427033,
          6.367145429499684,
          9.208338052859535,
          11.083792363168541,
          8.257309316057974,
          11.12876178033611,
          11.099982527866938,
          11.159720992085031,
          7.527854931585771,
          6.108696264961165,
          6.7604767815003175,
          8.22627114460847,
          10.720404591821715,
          12.237888635691668,
          7.948403913206571,
          8.23161898427033,
          6.367145429499684,
          9.208338052859535,
          10.148847691932584,
          8.121034849122612,
          12.27942838153336,
          12.536304466930982,
          8.902254834931682,
          7.964384912038848,
          6.139752340664356,
          6.977755861928979,
          8.862348614496604,
          14.020142531603575,
          8.505090745551305,
          8.86922440834757,
          6.47204412364245,
          10.125006067962259,
          11.334232746770466,
          8.727044806014785,
          14.073550776257179,
          8.708446105070635,
          8.454498642871535,
          8.42287397416197,
          8.444002094573914,
          8.416294840364834,
          8.682785582882241,
          8.410845346568017,
          8.42955855035233,
          7.594283182800044,
          8.75387941650144,
          9.770638747427567,
          8.74288614640265,
          7.076685409880101,
          7.086787642476262,
          8.756002394813429,
          6.161906448493028,
          6.152230988877699,
          6.083002272569186,
          8.679266539935401,
          8.413892213286926,
          8.699318147595077,
          7.599954045780223,
          8.132643020038243,
          7.608444153604237,
          8.684488772942066,
          6.094667651014999,
          8.758994446881527,
          6.100513981652305,
          8.704364372224276,
          8.351279192282782,
          8.356398545463499,
          6.089732037833809,
          8.71233265853619
         ],
         "y": [
          7.746724551931922,
          8.014245868377442,
          8.029112414094469,
          8.03820331924647,
          6.613604863507273,
          9.917623730160225,
          5.09026903663919,
          6.6441129278,
          5.134500847119917,
          4.75844770509189,
          4.446267245103355,
          8.483574393989185,
          8.372231551632504,
          3.400157876533301,
          5.948408402672287,
          6.829678117512691,
          6.810568131092352,
          7.7046011833152,
          8.47311792459654,
          6.5010701052924915,
          4.158211189567182,
          8.074253159500262,
          5.467975941039625,
          4.339431315613426,
          3.584064094746825,
          5.5708849967304435,
          3.809334892715666,
          3.790207257650594,
          3.7665477292728493,
          4.606133803636898,
          5.76341374199714,
          5.923888781036287,
          4.882490302532518,
          4.194460978400922,
          4.103108237931719,
          4.525606317309066,
          5.061891966765919,
          4.014746641342523,
          3.8961490981013442,
          3.584064094746825,
          5.5708849967304435,
          3.809334892715666,
          3.790207257650594,
          3.7665477292728493,
          4.606133803636898,
          5.76341374199714,
          5.923888781036287,
          4.882490302532518,
          4.194460978400922,
          4.103108237931719,
          4.525606317309066,
          5.061891966765919,
          4.014746641342523,
          3.8961490981013442,
          4.000047841373727,
          5.03929639924627,
          3.112118168564351,
          3.584064094746825,
          5.5708849967304435,
          4.606133803636898,
          5.76341374199714,
          5.923888781036287,
          4.882490302532518,
          4.103108237931719,
          4.525606317309066,
          5.061891966765919,
          4.014746641342523,
          3.8961490981013442,
          4.000047841373727,
          5.03929639924627,
          3.112118168564351,
          4.149627501416115,
          4.96082076090534,
          4.695526187187717,
          4.704168354879348,
          4.703298185852811,
          4.687585250924299,
          4.684261898882934,
          4.676441067335853,
          3.85255232128341,
          4.2201407139147324,
          5.043674824884422,
          4.217481164066643,
          4.217709589148232,
          4.219711630695423,
          4.221472872025176,
          4.31705068033435,
          4.322417948479995,
          5.5404770890876325,
          4.467031697465733,
          4.69375298703788,
          4.156252835550521,
          3.858758149455118,
          4.8987812416195595,
          3.864167678738759,
          4.469819616162821,
          5.540788137415017,
          4.214481142386319,
          5.53598071568719,
          4.163388846285166,
          5.385341288044193,
          5.3802099370710454,
          5.540290059394377,
          4.165223545771592
         ],
         "z": [
          2.493084272883889,
          2.54314046867617,
          2.581303992749398,
          2.562148748718907,
          2.539260284910651,
          2.4647309734751772,
          2.567554785430285,
          2.537056418495036,
          2.515408937534707,
          2.400218950260562,
          2.5170254825540272,
          2.401847524193885,
          2.549166736441671,
          2.4123572966720213,
          2.5074688417167588,
          2.475353848392958,
          2.485377651351022,
          2.513644153904881,
          2.443353784410938,
          2.443312101961742,
          2.338415658929036,
          2.54016236515319,
          2.414919580150446,
          2.372068201259463,
          2.565837641597701,
          2.576376163035412,
          2.433773618178127,
          2.400494112928369,
          2.598341940161403,
          2.56516017591115,
          2.519098442436548,
          2.596327211370399,
          2.403708467754311,
          2.584388218703645,
          2.495115528814758,
          2.412207722396828,
          2.405390046066284,
          2.350269716192885,
          2.457841092286675,
          2.565837641597701,
          2.576376163035412,
          2.433773618178127,
          2.400494112928369,
          2.598341940161403,
          2.56516017591115,
          2.519098442436548,
          2.596327211370399,
          2.403708467754311,
          2.584388218703645,
          2.495115528814758,
          2.412207722396828,
          2.405390046066284,
          2.350269716192885,
          2.457841092286675,
          2.51709174448855,
          2.5027959549992502,
          2.489607407648145,
          2.5731748570999002,
          2.580664996477224,
          2.570191418293449,
          2.500422028087089,
          2.579707986768774,
          2.427472023954901,
          2.515345687267854,
          2.421840925116185,
          2.419139273803138,
          2.336005370009835,
          2.462740481897566,
          2.499424718849931,
          2.508868582390389,
          2.457770020213949,
          2.42679199693757,
          2.488257090529464,
          2.496839047347048,
          2.506991881341149,
          2.389968711737639,
          2.444471814406382,
          2.388594722391015,
          2.361138770707791,
          2.52105652735682,
          2.361498309973848,
          2.593697808324051,
          2.39873995514662,
          2.437138097888009,
          2.390576605930969,
          2.49835655090138,
          2.456664069680862,
          2.36471702496728,
          2.463858107034682,
          2.593035207560125,
          2.387644463867173,
          2.380779689430804,
          2.314474988678728,
          2.408601747077728,
          2.499288599621575,
          2.466905026507385,
          2.459107134690298,
          2.492626254390645,
          2.476351030287056,
          2.495132044536733,
          2.530952375351908,
          2.459263503976299,
          2.475861688400904,
          2.539741075066214
         ]
        }
       ],
       "layout": {
        "coloraxis": {
         "colorbar": {
          "title": {
           "text": "target"
          }
         },
         "colorscale": [
          [
           0,
           "#0d0887"
          ],
          [
           0.1111111111111111,
           "#46039f"
          ],
          [
           0.2222222222222222,
           "#7201a8"
          ],
          [
           0.3333333333333333,
           "#9c179e"
          ],
          [
           0.4444444444444444,
           "#bd3786"
          ],
          [
           0.5555555555555556,
           "#d8576b"
          ],
          [
           0.6666666666666666,
           "#ed7953"
          ],
          [
           0.7777777777777778,
           "#fb9f3a"
          ],
          [
           0.8888888888888888,
           "#fdca26"
          ],
          [
           1,
           "#f0f921"
          ]
         ]
        },
        "height": 600,
        "legend": {
         "tracegroupgap": 0
        },
        "margin": {
         "t": 60
        },
        "scene": {
         "domain": {
          "x": [
           0,
           0.98
          ],
          "y": [
           0,
           1
          ]
         },
         "xaxis": {
          "title": {
           "text": "C"
          }
         },
         "yaxis": {
          "title": {
           "text": "gamma"
          }
         },
         "zaxis": {
          "title": {
           "text": "target"
          }
         }
        },
        "template": {
         "data": {
          "bar": [
           {
            "error_x": {
             "color": "#2a3f5f"
            },
            "error_y": {
             "color": "#2a3f5f"
            },
            "marker": {
             "line": {
              "color": "#E5ECF6",
              "width": 0.5
             }
            },
            "type": "bar"
           }
          ],
          "barpolar": [
           {
            "marker": {
             "line": {
              "color": "#E5ECF6",
              "width": 0.5
             }
            },
            "type": "barpolar"
           }
          ],
          "carpet": [
           {
            "aaxis": {
             "endlinecolor": "#2a3f5f",
             "gridcolor": "white",
             "linecolor": "white",
             "minorgridcolor": "white",
             "startlinecolor": "#2a3f5f"
            },
            "baxis": {
             "endlinecolor": "#2a3f5f",
             "gridcolor": "white",
             "linecolor": "white",
             "minorgridcolor": "white",
             "startlinecolor": "#2a3f5f"
            },
            "type": "carpet"
           }
          ],
          "choropleth": [
           {
            "colorbar": {
             "outlinewidth": 0,
             "ticks": ""
            },
            "type": "choropleth"
           }
          ],
          "contour": [
           {
            "colorbar": {
             "outlinewidth": 0,
             "ticks": ""
            },
            "colorscale": [
             [
              0,
              "#0d0887"
             ],
             [
              0.1111111111111111,
              "#46039f"
             ],
             [
              0.2222222222222222,
              "#7201a8"
             ],
             [
              0.3333333333333333,
              "#9c179e"
             ],
             [
              0.4444444444444444,
              "#bd3786"
             ],
             [
              0.5555555555555556,
              "#d8576b"
             ],
             [
              0.6666666666666666,
              "#ed7953"
             ],
             [
              0.7777777777777778,
              "#fb9f3a"
             ],
             [
              0.8888888888888888,
              "#fdca26"
             ],
             [
              1,
              "#f0f921"
             ]
            ],
            "type": "contour"
           }
          ],
          "contourcarpet": [
           {
            "colorbar": {
             "outlinewidth": 0,
             "ticks": ""
            },
            "type": "contourcarpet"
           }
          ],
          "heatmap": [
           {
            "colorbar": {
             "outlinewidth": 0,
             "ticks": ""
            },
            "colorscale": [
             [
              0,
              "#0d0887"
             ],
             [
              0.1111111111111111,
              "#46039f"
             ],
             [
              0.2222222222222222,
              "#7201a8"
             ],
             [
              0.3333333333333333,
              "#9c179e"
             ],
             [
              0.4444444444444444,
              "#bd3786"
             ],
             [
              0.5555555555555556,
              "#d8576b"
             ],
             [
              0.6666666666666666,
              "#ed7953"
             ],
             [
              0.7777777777777778,
              "#fb9f3a"
             ],
             [
              0.8888888888888888,
              "#fdca26"
             ],
             [
              1,
              "#f0f921"
             ]
            ],
            "type": "heatmap"
           }
          ],
          "heatmapgl": [
           {
            "colorbar": {
             "outlinewidth": 0,
             "ticks": ""
            },
            "colorscale": [
             [
              0,
              "#0d0887"
             ],
             [
              0.1111111111111111,
              "#46039f"
             ],
             [
              0.2222222222222222,
              "#7201a8"
             ],
             [
              0.3333333333333333,
              "#9c179e"
             ],
             [
              0.4444444444444444,
              "#bd3786"
             ],
             [
              0.5555555555555556,
              "#d8576b"
             ],
             [
              0.6666666666666666,
              "#ed7953"
             ],
             [
              0.7777777777777778,
              "#fb9f3a"
             ],
             [
              0.8888888888888888,
              "#fdca26"
             ],
             [
              1,
              "#f0f921"
             ]
            ],
            "type": "heatmapgl"
           }
          ],
          "histogram": [
           {
            "marker": {
             "colorbar": {
              "outlinewidth": 0,
              "ticks": ""
             }
            },
            "type": "histogram"
           }
          ],
          "histogram2d": [
           {
            "colorbar": {
             "outlinewidth": 0,
             "ticks": ""
            },
            "colorscale": [
             [
              0,
              "#0d0887"
             ],
             [
              0.1111111111111111,
              "#46039f"
             ],
             [
              0.2222222222222222,
              "#7201a8"
             ],
             [
              0.3333333333333333,
              "#9c179e"
             ],
             [
              0.4444444444444444,
              "#bd3786"
             ],
             [
              0.5555555555555556,
              "#d8576b"
             ],
             [
              0.6666666666666666,
              "#ed7953"
             ],
             [
              0.7777777777777778,
              "#fb9f3a"
             ],
             [
              0.8888888888888888,
              "#fdca26"
             ],
             [
              1,
              "#f0f921"
             ]
            ],
            "type": "histogram2d"
           }
          ],
          "histogram2dcontour": [
           {
            "colorbar": {
             "outlinewidth": 0,
             "ticks": ""
            },
            "colorscale": [
             [
              0,
              "#0d0887"
             ],
             [
              0.1111111111111111,
              "#46039f"
             ],
             [
              0.2222222222222222,
              "#7201a8"
             ],
             [
              0.3333333333333333,
              "#9c179e"
             ],
             [
              0.4444444444444444,
              "#bd3786"
             ],
             [
              0.5555555555555556,
              "#d8576b"
             ],
             [
              0.6666666666666666,
              "#ed7953"
             ],
             [
              0.7777777777777778,
              "#fb9f3a"
             ],
             [
              0.8888888888888888,
              "#fdca26"
             ],
             [
              1,
              "#f0f921"
             ]
            ],
            "type": "histogram2dcontour"
           }
          ],
          "mesh3d": [
           {
            "colorbar": {
             "outlinewidth": 0,
             "ticks": ""
            },
            "type": "mesh3d"
           }
          ],
          "parcoords": [
           {
            "line": {
             "colorbar": {
              "outlinewidth": 0,
              "ticks": ""
             }
            },
            "type": "parcoords"
           }
          ],
          "scatter": [
           {
            "marker": {
             "colorbar": {
              "outlinewidth": 0,
              "ticks": ""
             }
            },
            "type": "scatter"
           }
          ],
          "scatter3d": [
           {
            "line": {
             "colorbar": {
              "outlinewidth": 0,
              "ticks": ""
             }
            },
            "marker": {
             "colorbar": {
              "outlinewidth": 0,
              "ticks": ""
             }
            },
            "type": "scatter3d"
           }
          ],
          "scattercarpet": [
           {
            "marker": {
             "colorbar": {
              "outlinewidth": 0,
              "ticks": ""
             }
            },
            "type": "scattercarpet"
           }
          ],
          "scattergeo": [
           {
            "marker": {
             "colorbar": {
              "outlinewidth": 0,
              "ticks": ""
             }
            },
            "type": "scattergeo"
           }
          ],
          "scattergl": [
           {
            "marker": {
             "colorbar": {
              "outlinewidth": 0,
              "ticks": ""
             }
            },
            "type": "scattergl"
           }
          ],
          "scattermapbox": [
           {
            "marker": {
             "colorbar": {
              "outlinewidth": 0,
              "ticks": ""
             }
            },
            "type": "scattermapbox"
           }
          ],
          "scatterpolar": [
           {
            "marker": {
             "colorbar": {
              "outlinewidth": 0,
              "ticks": ""
             }
            },
            "type": "scatterpolar"
           }
          ],
          "scatterpolargl": [
           {
            "marker": {
             "colorbar": {
              "outlinewidth": 0,
              "ticks": ""
             }
            },
            "type": "scatterpolargl"
           }
          ],
          "scatterternary": [
           {
            "marker": {
             "colorbar": {
              "outlinewidth": 0,
              "ticks": ""
             }
            },
            "type": "scatterternary"
           }
          ],
          "surface": [
           {
            "colorbar": {
             "outlinewidth": 0,
             "ticks": ""
            },
            "colorscale": [
             [
              0,
              "#0d0887"
             ],
             [
              0.1111111111111111,
              "#46039f"
             ],
             [
              0.2222222222222222,
              "#7201a8"
             ],
             [
              0.3333333333333333,
              "#9c179e"
             ],
             [
              0.4444444444444444,
              "#bd3786"
             ],
             [
              0.5555555555555556,
              "#d8576b"
             ],
             [
              0.6666666666666666,
              "#ed7953"
             ],
             [
              0.7777777777777778,
              "#fb9f3a"
             ],
             [
              0.8888888888888888,
              "#fdca26"
             ],
             [
              1,
              "#f0f921"
             ]
            ],
            "type": "surface"
           }
          ],
          "table": [
           {
            "cells": {
             "fill": {
              "color": "#EBF0F8"
             },
             "line": {
              "color": "white"
             }
            },
            "header": {
             "fill": {
              "color": "#C8D4E3"
             },
             "line": {
              "color": "white"
             }
            },
            "type": "table"
           }
          ]
         },
         "layout": {
          "annotationdefaults": {
           "arrowcolor": "#2a3f5f",
           "arrowhead": 0,
           "arrowwidth": 1
          },
          "colorscale": {
           "diverging": [
            [
             0,
             "#8e0152"
            ],
            [
             0.1,
             "#c51b7d"
            ],
            [
             0.2,
             "#de77ae"
            ],
            [
             0.3,
             "#f1b6da"
            ],
            [
             0.4,
             "#fde0ef"
            ],
            [
             0.5,
             "#f7f7f7"
            ],
            [
             0.6,
             "#e6f5d0"
            ],
            [
             0.7,
             "#b8e186"
            ],
            [
             0.8,
             "#7fbc41"
            ],
            [
             0.9,
             "#4d9221"
            ],
            [
             1,
             "#276419"
            ]
           ],
           "sequential": [
            [
             0,
             "#0d0887"
            ],
            [
             0.1111111111111111,
             "#46039f"
            ],
            [
             0.2222222222222222,
             "#7201a8"
            ],
            [
             0.3333333333333333,
             "#9c179e"
            ],
            [
             0.4444444444444444,
             "#bd3786"
            ],
            [
             0.5555555555555556,
             "#d8576b"
            ],
            [
             0.6666666666666666,
             "#ed7953"
            ],
            [
             0.7777777777777778,
             "#fb9f3a"
            ],
            [
             0.8888888888888888,
             "#fdca26"
            ],
            [
             1,
             "#f0f921"
            ]
           ],
           "sequentialminus": [
            [
             0,
             "#0d0887"
            ],
            [
             0.1111111111111111,
             "#46039f"
            ],
            [
             0.2222222222222222,
             "#7201a8"
            ],
            [
             0.3333333333333333,
             "#9c179e"
            ],
            [
             0.4444444444444444,
             "#bd3786"
            ],
            [
             0.5555555555555556,
             "#d8576b"
            ],
            [
             0.6666666666666666,
             "#ed7953"
            ],
            [
             0.7777777777777778,
             "#fb9f3a"
            ],
            [
             0.8888888888888888,
             "#fdca26"
            ],
            [
             1,
             "#f0f921"
            ]
           ]
          },
          "colorway": [
           "#636efa",
           "#EF553B",
           "#00cc96",
           "#ab63fa",
           "#FFA15A",
           "#19d3f3",
           "#FF6692",
           "#B6E880",
           "#FF97FF",
           "#FECB52"
          ],
          "font": {
           "color": "#2a3f5f"
          },
          "geo": {
           "bgcolor": "white",
           "lakecolor": "white",
           "landcolor": "#E5ECF6",
           "showlakes": true,
           "showland": true,
           "subunitcolor": "white"
          },
          "hoverlabel": {
           "align": "left"
          },
          "hovermode": "closest",
          "mapbox": {
           "style": "light"
          },
          "paper_bgcolor": "white",
          "plot_bgcolor": "#E5ECF6",
          "polar": {
           "angularaxis": {
            "gridcolor": "white",
            "linecolor": "white",
            "ticks": ""
           },
           "bgcolor": "#E5ECF6",
           "radialaxis": {
            "gridcolor": "white",
            "linecolor": "white",
            "ticks": ""
           }
          },
          "scene": {
           "xaxis": {
            "backgroundcolor": "#E5ECF6",
            "gridcolor": "white",
            "gridwidth": 2,
            "linecolor": "white",
            "showbackground": true,
            "ticks": "",
            "zerolinecolor": "white"
           },
           "yaxis": {
            "backgroundcolor": "#E5ECF6",
            "gridcolor": "white",
            "gridwidth": 2,
            "linecolor": "white",
            "showbackground": true,
            "ticks": "",
            "zerolinecolor": "white"
           },
           "zaxis": {
            "backgroundcolor": "#E5ECF6",
            "gridcolor": "white",
            "gridwidth": 2,
            "linecolor": "white",
            "showbackground": true,
            "ticks": "",
            "zerolinecolor": "white"
           }
          },
          "shapedefaults": {
           "line": {
            "color": "#2a3f5f"
           }
          },
          "ternary": {
           "aaxis": {
            "gridcolor": "white",
            "linecolor": "white",
            "ticks": ""
           },
           "baxis": {
            "gridcolor": "white",
            "linecolor": "white",
            "ticks": ""
           },
           "bgcolor": "#E5ECF6",
           "caxis": {
            "gridcolor": "white",
            "linecolor": "white",
            "ticks": ""
           }
          },
          "title": {
           "x": 0.05
          },
          "xaxis": {
           "automargin": true,
           "gridcolor": "white",
           "linecolor": "white",
           "ticks": "",
           "zerolinecolor": "white",
           "zerolinewidth": 2
          },
          "yaxis": {
           "automargin": true,
           "gridcolor": "white",
           "linecolor": "white",
           "ticks": "",
           "zerolinecolor": "white",
           "zerolinewidth": 2
          }
         }
        }
       }
      },
      "text/html": [
       "<div>\n",
       "        \n",
       "        \n",
       "            <div id=\"fbc5690c-f015-4808-8703-581ed4fb2a8c\" class=\"plotly-graph-div\" style=\"height:600px; width:100%;\"></div>\n",
       "            <script type=\"text/javascript\">\n",
       "                require([\"plotly\"], function(Plotly) {\n",
       "                    window.PLOTLYENV=window.PLOTLYENV || {};\n",
       "                    \n",
       "                if (document.getElementById(\"fbc5690c-f015-4808-8703-581ed4fb2a8c\")) {\n",
       "                    Plotly.newPlot(\n",
       "                        'fbc5690c-f015-4808-8703-581ed4fb2a8c',\n",
       "                        [{\"hoverlabel\": {\"namelength\": 0}, \"hovertemplate\": \"<b>%{hovertext}</b><br><br>C=%{x}<br>gamma=%{y}<br>target=%{marker.color}\", \"hovertext\": [0.09159514140104101, 0.0912514551199, 0.090430800821741, 0.09139311693341401, 0.089660287423972, 0.0803728664144, 0.091246951653285, 0.089660287423972, 0.091246951653285, 0.09209123290146401, 0.081309684337622, 0.08199667651870801, 0.09091258906787701, 0.09307665187891001, 0.082339423230452, 0.09088735426072901, 0.091174037918439, 0.09104425094393001, 0.08020689312008, 0.090597604424968, 0.092056646877385, 0.091027948301312, 0.09201075915761901, 0.091580298681758, 0.089144480554027, 0.09054141795109201, 0.09286054478585401, 0.09265074140273101, 0.08874119745174401, 0.08965497885119, 0.09102458176378901, 0.092616506120684, 0.092243593750423, 0.08952800420495001, 0.092777341951727, 0.091246951653285, 0.091980455249524, 0.09150898383750801, 0.092841323948573, 0.089144480554027, 0.09054141795109201, 0.09286054478585401, 0.09265074140273101, 0.08874119745174401, 0.08965497885119, 0.09102458176378901, 0.092616506120684, 0.092243593750423, 0.08952800420495001, 0.092777341951727, 0.091246951653285, 0.091980455249524, 0.09150898383750801, 0.092841323948573, 0.09307665187891001, 0.09088735426072901, 0.09299181069132101, 0.089144480554027, 0.09054141795109201, 0.08965497885119, 0.09102458176378901, 0.092616506120684, 0.092243593750423, 0.092777341951727, 0.091246951653285, 0.091980455249524, 0.09150898383750801, 0.092841323948573, 0.09307665187891001, 0.09088735426072901, 0.09299181069132101, 0.09095822085407401, 0.09114783791282301, 0.09078809421707701, 0.090747539024653, 0.092080374528514, 0.092639787064639, 0.09182758644779501, 0.09215643435520701, 0.093119790381818, 0.09162195896767, 0.09047104364282901, 0.091311036205501, 0.090211894223332, 0.09206583726068501, 0.09031169373586401, 0.090654842168811, 0.09211511829801901, 0.09099833825935401, 0.093398592516768, 0.092171144813497, 0.091214154139775, 0.09146297184354, 0.09239107607557201, 0.09028614610776, 0.09087828884297401, 0.091069910831512, 0.09022013611611901, 0.09076677685671701, 0.090359087054762, 0.090645845978867, 0.09201367546854301, 0.090894445922268, 0.08991619601988801], \"legendgroup\": \"\", \"marker\": {\"color\": [2.493084272883889, 2.54314046867617, 2.581303992749398, 2.562148748718907, 2.539260284910651, 2.4647309734751772, 2.567554785430285, 2.537056418495036, 2.515408937534707, 2.400218950260562, 2.5170254825540272, 2.401847524193885, 2.549166736441671, 2.4123572966720213, 2.5074688417167588, 2.475353848392958, 2.485377651351022, 2.513644153904881, 2.443353784410938, 2.443312101961742, 2.338415658929036, 2.54016236515319, 2.414919580150446, 2.372068201259463, 2.565837641597701, 2.576376163035412, 2.433773618178127, 2.400494112928369, 2.598341940161403, 2.56516017591115, 2.519098442436548, 2.596327211370399, 2.403708467754311, 2.584388218703645, 2.495115528814758, 2.412207722396828, 2.405390046066284, 2.350269716192885, 2.457841092286675, 2.565837641597701, 2.576376163035412, 2.433773618178127, 2.400494112928369, 2.598341940161403, 2.56516017591115, 2.519098442436548, 2.596327211370399, 2.403708467754311, 2.584388218703645, 2.495115528814758, 2.412207722396828, 2.405390046066284, 2.350269716192885, 2.457841092286675, 2.51709174448855, 2.5027959549992502, 2.489607407648145, 2.5731748570999002, 2.580664996477224, 2.570191418293449, 2.500422028087089, 2.579707986768774, 2.427472023954901, 2.515345687267854, 2.421840925116185, 2.419139273803138, 2.336005370009835, 2.462740481897566, 2.499424718849931, 2.508868582390389, 2.457770020213949, 2.42679199693757, 2.488257090529464, 2.496839047347048, 2.506991881341149, 2.389968711737639, 2.444471814406382, 2.388594722391015, 2.361138770707791, 2.52105652735682, 2.361498309973848, 2.593697808324051, 2.39873995514662, 2.437138097888009, 2.390576605930969, 2.49835655090138, 2.456664069680862, 2.36471702496728, 2.463858107034682, 2.593035207560125, 2.387644463867173, 2.380779689430804, 2.314474988678728, 2.408601747077728, 2.499288599621575, 2.466905026507385, 2.459107134690298, 2.492626254390645, 2.476351030287056, 2.495132044536733, 2.530952375351908, 2.459263503976299, 2.475861688400904, 2.539741075066214], \"coloraxis\": \"coloraxis\", \"symbol\": \"circle\"}, \"mode\": \"markers\", \"name\": \"\", \"scene\": \"scene\", \"showlegend\": false, \"type\": \"scatter3d\", \"x\": [3.76464540383569, 3.591616071274831, 3.626816276713866, 3.613636275643189, 2.5804447613168513, 0.417728753074716, 2.790650727561948, 2.647287601304988, 2.855599820106436, 9.533785416332446, 0.500718460020243, 0.30543062460873605, 1.039924269157977, 5.967656021447512, 0.5881834511170151, 3.099749286616264, 3.122379977789521, 1.2590267882230681, 0.316011579521478, 3.449729648614699, 9.36706487385748, 5.032767988285355, 7.453295240751093, 9.878813178257586, 11.083792363168541, 8.257309316057974, 11.12876178033611, 11.099982527866938, 11.159720992085031, 7.527854931585771, 6.108696264961165, 6.7604767815003175, 8.22627114460847, 10.720404591821715, 12.237888635691668, 7.948403913206571, 8.23161898427033, 6.367145429499684, 9.208338052859535, 11.083792363168541, 8.257309316057974, 11.12876178033611, 11.099982527866938, 11.159720992085031, 7.527854931585771, 6.108696264961165, 6.7604767815003175, 8.22627114460847, 10.720404591821715, 12.237888635691668, 7.948403913206571, 8.23161898427033, 6.367145429499684, 9.208338052859535, 10.148847691932584, 8.121034849122612, 12.27942838153336, 12.536304466930982, 8.902254834931682, 7.964384912038848, 6.139752340664356, 6.977755861928979, 8.862348614496604, 14.020142531603575, 8.505090745551305, 8.86922440834757, 6.47204412364245, 10.125006067962259, 11.334232746770466, 8.727044806014785, 14.073550776257179, 8.708446105070635, 8.454498642871535, 8.42287397416197, 8.444002094573914, 8.416294840364834, 8.682785582882241, 8.410845346568017, 8.42955855035233, 7.594283182800044, 8.75387941650144, 9.770638747427567, 8.74288614640265, 7.076685409880101, 7.086787642476262, 8.756002394813429, 6.161906448493028, 6.152230988877699, 6.083002272569186, 8.679266539935401, 8.413892213286926, 8.699318147595077, 7.599954045780223, 8.132643020038243, 7.608444153604237, 8.684488772942066, 6.094667651014999, 8.758994446881527, 6.100513981652305, 8.704364372224276, 8.351279192282782, 8.356398545463499, 6.089732037833809, 8.71233265853619], \"y\": [7.746724551931922, 8.014245868377442, 8.029112414094469, 8.03820331924647, 6.613604863507273, 9.917623730160225, 5.09026903663919, 6.6441129278, 5.134500847119917, 4.75844770509189, 4.446267245103355, 8.483574393989185, 8.372231551632504, 3.400157876533301, 5.948408402672287, 6.829678117512691, 6.810568131092352, 7.7046011833152, 8.47311792459654, 6.5010701052924915, 4.158211189567182, 8.074253159500262, 5.467975941039625, 4.339431315613426, 3.584064094746825, 5.5708849967304435, 3.809334892715666, 3.790207257650594, 3.7665477292728493, 4.606133803636898, 5.76341374199714, 5.923888781036287, 4.882490302532518, 4.194460978400922, 4.103108237931719, 4.525606317309066, 5.061891966765919, 4.014746641342523, 3.8961490981013442, 3.584064094746825, 5.5708849967304435, 3.809334892715666, 3.790207257650594, 3.7665477292728493, 4.606133803636898, 5.76341374199714, 5.923888781036287, 4.882490302532518, 4.194460978400922, 4.103108237931719, 4.525606317309066, 5.061891966765919, 4.014746641342523, 3.8961490981013442, 4.000047841373727, 5.03929639924627, 3.112118168564351, 3.584064094746825, 5.5708849967304435, 4.606133803636898, 5.76341374199714, 5.923888781036287, 4.882490302532518, 4.103108237931719, 4.525606317309066, 5.061891966765919, 4.014746641342523, 3.8961490981013442, 4.000047841373727, 5.03929639924627, 3.112118168564351, 4.149627501416115, 4.96082076090534, 4.695526187187717, 4.704168354879348, 4.703298185852811, 4.687585250924299, 4.684261898882934, 4.676441067335853, 3.85255232128341, 4.2201407139147324, 5.043674824884422, 4.217481164066643, 4.217709589148232, 4.219711630695423, 4.221472872025176, 4.31705068033435, 4.322417948479995, 5.5404770890876325, 4.467031697465733, 4.69375298703788, 4.156252835550521, 3.858758149455118, 4.8987812416195595, 3.864167678738759, 4.469819616162821, 5.540788137415017, 4.214481142386319, 5.53598071568719, 4.163388846285166, 5.385341288044193, 5.3802099370710454, 5.540290059394377, 4.165223545771592], \"z\": [2.493084272883889, 2.54314046867617, 2.581303992749398, 2.562148748718907, 2.539260284910651, 2.4647309734751772, 2.567554785430285, 2.537056418495036, 2.515408937534707, 2.400218950260562, 2.5170254825540272, 2.401847524193885, 2.549166736441671, 2.4123572966720213, 2.5074688417167588, 2.475353848392958, 2.485377651351022, 2.513644153904881, 2.443353784410938, 2.443312101961742, 2.338415658929036, 2.54016236515319, 2.414919580150446, 2.372068201259463, 2.565837641597701, 2.576376163035412, 2.433773618178127, 2.400494112928369, 2.598341940161403, 2.56516017591115, 2.519098442436548, 2.596327211370399, 2.403708467754311, 2.584388218703645, 2.495115528814758, 2.412207722396828, 2.405390046066284, 2.350269716192885, 2.457841092286675, 2.565837641597701, 2.576376163035412, 2.433773618178127, 2.400494112928369, 2.598341940161403, 2.56516017591115, 2.519098442436548, 2.596327211370399, 2.403708467754311, 2.584388218703645, 2.495115528814758, 2.412207722396828, 2.405390046066284, 2.350269716192885, 2.457841092286675, 2.51709174448855, 2.5027959549992502, 2.489607407648145, 2.5731748570999002, 2.580664996477224, 2.570191418293449, 2.500422028087089, 2.579707986768774, 2.427472023954901, 2.515345687267854, 2.421840925116185, 2.419139273803138, 2.336005370009835, 2.462740481897566, 2.499424718849931, 2.508868582390389, 2.457770020213949, 2.42679199693757, 2.488257090529464, 2.496839047347048, 2.506991881341149, 2.389968711737639, 2.444471814406382, 2.388594722391015, 2.361138770707791, 2.52105652735682, 2.361498309973848, 2.593697808324051, 2.39873995514662, 2.437138097888009, 2.390576605930969, 2.49835655090138, 2.456664069680862, 2.36471702496728, 2.463858107034682, 2.593035207560125, 2.387644463867173, 2.380779689430804, 2.314474988678728, 2.408601747077728, 2.499288599621575, 2.466905026507385, 2.459107134690298, 2.492626254390645, 2.476351030287056, 2.495132044536733, 2.530952375351908, 2.459263503976299, 2.475861688400904, 2.539741075066214]}],\n",
       "                        {\"coloraxis\": {\"colorbar\": {\"title\": {\"text\": \"target\"}}, \"colorscale\": [[0.0, \"#0d0887\"], [0.1111111111111111, \"#46039f\"], [0.2222222222222222, \"#7201a8\"], [0.3333333333333333, \"#9c179e\"], [0.4444444444444444, \"#bd3786\"], [0.5555555555555556, \"#d8576b\"], [0.6666666666666666, \"#ed7953\"], [0.7777777777777778, \"#fb9f3a\"], [0.8888888888888888, \"#fdca26\"], [1.0, \"#f0f921\"]]}, \"height\": 600, \"legend\": {\"tracegroupgap\": 0}, \"margin\": {\"t\": 60}, \"scene\": {\"domain\": {\"x\": [0.0, 0.98], \"y\": [0.0, 1.0]}, \"xaxis\": {\"title\": {\"text\": \"C\"}}, \"yaxis\": {\"title\": {\"text\": \"gamma\"}}, \"zaxis\": {\"title\": {\"text\": \"target\"}}}, \"template\": {\"data\": {\"bar\": [{\"error_x\": {\"color\": \"#2a3f5f\"}, \"error_y\": {\"color\": \"#2a3f5f\"}, \"marker\": {\"line\": {\"color\": \"#E5ECF6\", \"width\": 0.5}}, \"type\": \"bar\"}], \"barpolar\": [{\"marker\": {\"line\": {\"color\": \"#E5ECF6\", \"width\": 0.5}}, \"type\": \"barpolar\"}], \"carpet\": [{\"aaxis\": {\"endlinecolor\": \"#2a3f5f\", \"gridcolor\": \"white\", \"linecolor\": \"white\", \"minorgridcolor\": \"white\", \"startlinecolor\": \"#2a3f5f\"}, \"baxis\": {\"endlinecolor\": \"#2a3f5f\", \"gridcolor\": \"white\", \"linecolor\": \"white\", \"minorgridcolor\": \"white\", \"startlinecolor\": \"#2a3f5f\"}, \"type\": \"carpet\"}], \"choropleth\": [{\"colorbar\": {\"outlinewidth\": 0, \"ticks\": \"\"}, \"type\": \"choropleth\"}], \"contour\": [{\"colorbar\": {\"outlinewidth\": 0, \"ticks\": \"\"}, \"colorscale\": [[0.0, \"#0d0887\"], [0.1111111111111111, \"#46039f\"], [0.2222222222222222, \"#7201a8\"], [0.3333333333333333, \"#9c179e\"], [0.4444444444444444, \"#bd3786\"], [0.5555555555555556, \"#d8576b\"], [0.6666666666666666, \"#ed7953\"], [0.7777777777777778, \"#fb9f3a\"], [0.8888888888888888, \"#fdca26\"], [1.0, \"#f0f921\"]], \"type\": \"contour\"}], \"contourcarpet\": [{\"colorbar\": {\"outlinewidth\": 0, \"ticks\": \"\"}, \"type\": \"contourcarpet\"}], \"heatmap\": [{\"colorbar\": {\"outlinewidth\": 0, \"ticks\": \"\"}, \"colorscale\": [[0.0, \"#0d0887\"], [0.1111111111111111, \"#46039f\"], [0.2222222222222222, \"#7201a8\"], [0.3333333333333333, \"#9c179e\"], [0.4444444444444444, \"#bd3786\"], [0.5555555555555556, \"#d8576b\"], [0.6666666666666666, \"#ed7953\"], [0.7777777777777778, \"#fb9f3a\"], [0.8888888888888888, \"#fdca26\"], [1.0, \"#f0f921\"]], \"type\": \"heatmap\"}], \"heatmapgl\": [{\"colorbar\": {\"outlinewidth\": 0, \"ticks\": \"\"}, \"colorscale\": [[0.0, \"#0d0887\"], [0.1111111111111111, \"#46039f\"], [0.2222222222222222, \"#7201a8\"], [0.3333333333333333, \"#9c179e\"], [0.4444444444444444, \"#bd3786\"], [0.5555555555555556, \"#d8576b\"], [0.6666666666666666, \"#ed7953\"], [0.7777777777777778, \"#fb9f3a\"], [0.8888888888888888, \"#fdca26\"], [1.0, \"#f0f921\"]], \"type\": \"heatmapgl\"}], \"histogram\": [{\"marker\": {\"colorbar\": {\"outlinewidth\": 0, \"ticks\": \"\"}}, \"type\": \"histogram\"}], \"histogram2d\": [{\"colorbar\": {\"outlinewidth\": 0, \"ticks\": \"\"}, \"colorscale\": [[0.0, \"#0d0887\"], [0.1111111111111111, \"#46039f\"], [0.2222222222222222, \"#7201a8\"], [0.3333333333333333, \"#9c179e\"], [0.4444444444444444, \"#bd3786\"], [0.5555555555555556, \"#d8576b\"], [0.6666666666666666, \"#ed7953\"], [0.7777777777777778, \"#fb9f3a\"], [0.8888888888888888, \"#fdca26\"], [1.0, \"#f0f921\"]], \"type\": \"histogram2d\"}], \"histogram2dcontour\": [{\"colorbar\": {\"outlinewidth\": 0, \"ticks\": \"\"}, \"colorscale\": [[0.0, \"#0d0887\"], [0.1111111111111111, \"#46039f\"], [0.2222222222222222, \"#7201a8\"], [0.3333333333333333, \"#9c179e\"], [0.4444444444444444, \"#bd3786\"], [0.5555555555555556, \"#d8576b\"], [0.6666666666666666, \"#ed7953\"], [0.7777777777777778, \"#fb9f3a\"], [0.8888888888888888, \"#fdca26\"], [1.0, \"#f0f921\"]], \"type\": \"histogram2dcontour\"}], \"mesh3d\": [{\"colorbar\": {\"outlinewidth\": 0, \"ticks\": \"\"}, \"type\": \"mesh3d\"}], \"parcoords\": [{\"line\": {\"colorbar\": {\"outlinewidth\": 0, \"ticks\": \"\"}}, \"type\": \"parcoords\"}], \"scatter\": [{\"marker\": {\"colorbar\": {\"outlinewidth\": 0, \"ticks\": \"\"}}, \"type\": \"scatter\"}], \"scatter3d\": [{\"line\": {\"colorbar\": {\"outlinewidth\": 0, \"ticks\": \"\"}}, \"marker\": {\"colorbar\": {\"outlinewidth\": 0, \"ticks\": \"\"}}, \"type\": \"scatter3d\"}], \"scattercarpet\": [{\"marker\": {\"colorbar\": {\"outlinewidth\": 0, \"ticks\": \"\"}}, \"type\": \"scattercarpet\"}], \"scattergeo\": [{\"marker\": {\"colorbar\": {\"outlinewidth\": 0, \"ticks\": \"\"}}, \"type\": \"scattergeo\"}], \"scattergl\": [{\"marker\": {\"colorbar\": {\"outlinewidth\": 0, \"ticks\": \"\"}}, \"type\": \"scattergl\"}], \"scattermapbox\": [{\"marker\": {\"colorbar\": {\"outlinewidth\": 0, \"ticks\": \"\"}}, \"type\": \"scattermapbox\"}], \"scatterpolar\": [{\"marker\": {\"colorbar\": {\"outlinewidth\": 0, \"ticks\": \"\"}}, \"type\": \"scatterpolar\"}], \"scatterpolargl\": [{\"marker\": {\"colorbar\": {\"outlinewidth\": 0, \"ticks\": \"\"}}, \"type\": \"scatterpolargl\"}], \"scatterternary\": [{\"marker\": {\"colorbar\": {\"outlinewidth\": 0, \"ticks\": \"\"}}, \"type\": \"scatterternary\"}], \"surface\": [{\"colorbar\": {\"outlinewidth\": 0, \"ticks\": \"\"}, \"colorscale\": [[0.0, \"#0d0887\"], [0.1111111111111111, \"#46039f\"], [0.2222222222222222, \"#7201a8\"], [0.3333333333333333, \"#9c179e\"], [0.4444444444444444, \"#bd3786\"], [0.5555555555555556, \"#d8576b\"], [0.6666666666666666, \"#ed7953\"], [0.7777777777777778, \"#fb9f3a\"], [0.8888888888888888, \"#fdca26\"], [1.0, \"#f0f921\"]], \"type\": \"surface\"}], \"table\": [{\"cells\": {\"fill\": {\"color\": \"#EBF0F8\"}, \"line\": {\"color\": \"white\"}}, \"header\": {\"fill\": {\"color\": \"#C8D4E3\"}, \"line\": {\"color\": \"white\"}}, \"type\": \"table\"}]}, \"layout\": {\"annotationdefaults\": {\"arrowcolor\": \"#2a3f5f\", \"arrowhead\": 0, \"arrowwidth\": 1}, \"colorscale\": {\"diverging\": [[0, \"#8e0152\"], [0.1, \"#c51b7d\"], [0.2, \"#de77ae\"], [0.3, \"#f1b6da\"], [0.4, \"#fde0ef\"], [0.5, \"#f7f7f7\"], [0.6, \"#e6f5d0\"], [0.7, \"#b8e186\"], [0.8, \"#7fbc41\"], [0.9, \"#4d9221\"], [1, \"#276419\"]], \"sequential\": [[0.0, \"#0d0887\"], [0.1111111111111111, \"#46039f\"], [0.2222222222222222, \"#7201a8\"], [0.3333333333333333, \"#9c179e\"], [0.4444444444444444, \"#bd3786\"], [0.5555555555555556, \"#d8576b\"], [0.6666666666666666, \"#ed7953\"], [0.7777777777777778, \"#fb9f3a\"], [0.8888888888888888, \"#fdca26\"], [1.0, \"#f0f921\"]], \"sequentialminus\": [[0.0, \"#0d0887\"], [0.1111111111111111, \"#46039f\"], [0.2222222222222222, \"#7201a8\"], [0.3333333333333333, \"#9c179e\"], [0.4444444444444444, \"#bd3786\"], [0.5555555555555556, \"#d8576b\"], [0.6666666666666666, \"#ed7953\"], [0.7777777777777778, \"#fb9f3a\"], [0.8888888888888888, \"#fdca26\"], [1.0, \"#f0f921\"]]}, \"colorway\": [\"#636efa\", \"#EF553B\", \"#00cc96\", \"#ab63fa\", \"#FFA15A\", \"#19d3f3\", \"#FF6692\", \"#B6E880\", \"#FF97FF\", \"#FECB52\"], \"font\": {\"color\": \"#2a3f5f\"}, \"geo\": {\"bgcolor\": \"white\", \"lakecolor\": \"white\", \"landcolor\": \"#E5ECF6\", \"showlakes\": true, \"showland\": true, \"subunitcolor\": \"white\"}, \"hoverlabel\": {\"align\": \"left\"}, \"hovermode\": \"closest\", \"mapbox\": {\"style\": \"light\"}, \"paper_bgcolor\": \"white\", \"plot_bgcolor\": \"#E5ECF6\", \"polar\": {\"angularaxis\": {\"gridcolor\": \"white\", \"linecolor\": \"white\", \"ticks\": \"\"}, \"bgcolor\": \"#E5ECF6\", \"radialaxis\": {\"gridcolor\": \"white\", \"linecolor\": \"white\", \"ticks\": \"\"}}, \"scene\": {\"xaxis\": {\"backgroundcolor\": \"#E5ECF6\", \"gridcolor\": \"white\", \"gridwidth\": 2, \"linecolor\": \"white\", \"showbackground\": true, \"ticks\": \"\", \"zerolinecolor\": \"white\"}, \"yaxis\": {\"backgroundcolor\": \"#E5ECF6\", \"gridcolor\": \"white\", \"gridwidth\": 2, \"linecolor\": \"white\", \"showbackground\": true, \"ticks\": \"\", \"zerolinecolor\": \"white\"}, \"zaxis\": {\"backgroundcolor\": \"#E5ECF6\", \"gridcolor\": \"white\", \"gridwidth\": 2, \"linecolor\": \"white\", \"showbackground\": true, \"ticks\": \"\", \"zerolinecolor\": \"white\"}}, \"shapedefaults\": {\"line\": {\"color\": \"#2a3f5f\"}}, \"ternary\": {\"aaxis\": {\"gridcolor\": \"white\", \"linecolor\": \"white\", \"ticks\": \"\"}, \"baxis\": {\"gridcolor\": \"white\", \"linecolor\": \"white\", \"ticks\": \"\"}, \"bgcolor\": \"#E5ECF6\", \"caxis\": {\"gridcolor\": \"white\", \"linecolor\": \"white\", \"ticks\": \"\"}}, \"title\": {\"x\": 0.05}, \"xaxis\": {\"automargin\": true, \"gridcolor\": \"white\", \"linecolor\": \"white\", \"ticks\": \"\", \"zerolinecolor\": \"white\", \"zerolinewidth\": 2}, \"yaxis\": {\"automargin\": true, \"gridcolor\": \"white\", \"linecolor\": \"white\", \"ticks\": \"\", \"zerolinecolor\": \"white\", \"zerolinewidth\": 2}}}},\n",
       "                        {\"responsive\": true}\n",
       "                    ).then(function(){\n",
       "                            \n",
       "var gd = document.getElementById('fbc5690c-f015-4808-8703-581ed4fb2a8c');\n",
       "var x = new MutationObserver(function (mutations, observer) {{\n",
       "        var display = window.getComputedStyle(gd).display;\n",
       "        if (!display || display === 'none') {{\n",
       "            console.log([gd, 'removed!']);\n",
       "            Plotly.purge(gd);\n",
       "            observer.disconnect();\n",
       "        }}\n",
       "}});\n",
       "\n",
       "// Listen for the removal of the full notebook cells\n",
       "var notebookContainer = gd.closest('#notebook-container');\n",
       "if (notebookContainer) {{\n",
       "    x.observe(notebookContainer, {childList: true});\n",
       "}}\n",
       "\n",
       "// Listen for the clearing of the current output cell\n",
       "var outputEl = gd.closest('.output');\n",
       "if (outputEl) {{\n",
       "    x.observe(outputEl, {childList: true});\n",
       "}}\n",
       "\n",
       "                        })\n",
       "                };\n",
       "                });\n",
       "            </script>\n",
       "        </div>"
      ]
     },
     "metadata": {},
     "output_type": "display_data"
    }
   ],
   "source": [
    "px.scatter_3d(df1, x = \"C\", y = \"gamma\", z = \"target\", color = \"target\", hover_name = \"epsilon\")"
   ]
  },
  {
   "cell_type": "code",
   "execution_count": 191,
   "metadata": {
    "ExecuteTime": {
     "end_time": "2021-08-25T20:30:01.986170Z",
     "start_time": "2021-08-25T20:30:01.967171Z"
    },
    "hidden": true
   },
   "outputs": [
    {
     "data": {
      "text/html": [
       "<div>\n",
       "<style scoped>\n",
       "    .dataframe tbody tr th:only-of-type {\n",
       "        vertical-align: middle;\n",
       "    }\n",
       "\n",
       "    .dataframe tbody tr th {\n",
       "        vertical-align: top;\n",
       "    }\n",
       "\n",
       "    .dataframe thead th {\n",
       "        text-align: right;\n",
       "    }\n",
       "</style>\n",
       "<table border=\"1\" class=\"dataframe\">\n",
       "  <thead>\n",
       "    <tr style=\"text-align: right;\">\n",
       "      <th></th>\n",
       "      <th>target</th>\n",
       "      <th>C</th>\n",
       "      <th>epsilon</th>\n",
       "      <th>gamma</th>\n",
       "    </tr>\n",
       "  </thead>\n",
       "  <tbody>\n",
       "    <tr>\n",
       "      <th>1664</th>\n",
       "      <td>2.314475</td>\n",
       "      <td>7.599954</td>\n",
       "      <td>0.091463</td>\n",
       "      <td>3.858758</td>\n",
       "    </tr>\n",
       "    <tr>\n",
       "      <th>1457</th>\n",
       "      <td>2.336005</td>\n",
       "      <td>6.472044</td>\n",
       "      <td>0.091509</td>\n",
       "      <td>4.014747</td>\n",
       "    </tr>\n",
       "    <tr>\n",
       "      <th>804</th>\n",
       "      <td>2.338416</td>\n",
       "      <td>9.367065</td>\n",
       "      <td>0.092057</td>\n",
       "      <td>4.158211</td>\n",
       "    </tr>\n",
       "    <tr>\n",
       "      <th>1087</th>\n",
       "      <td>2.350270</td>\n",
       "      <td>6.367145</td>\n",
       "      <td>0.091509</td>\n",
       "      <td>4.014747</td>\n",
       "    </tr>\n",
       "    <tr>\n",
       "      <th>1247</th>\n",
       "      <td>2.350270</td>\n",
       "      <td>6.367145</td>\n",
       "      <td>0.091509</td>\n",
       "      <td>4.014747</td>\n",
       "    </tr>\n",
       "  </tbody>\n",
       "</table>\n",
       "</div>"
      ],
      "text/plain": [
       "        target         C   epsilon     gamma\n",
       "1664  2.314475  7.599954  0.091463  3.858758\n",
       "1457  2.336005  6.472044  0.091509  4.014747\n",
       "804   2.338416  9.367065  0.092057  4.158211\n",
       "1087  2.350270  6.367145  0.091509  4.014747\n",
       "1247  2.350270  6.367145  0.091509  4.014747"
      ]
     },
     "execution_count": 191,
     "metadata": {},
     "output_type": "execute_result"
    }
   ],
   "source": [
    "df.sort_values(\"target\").head(5)"
   ]
  },
  {
   "cell_type": "markdown",
   "metadata": {},
   "source": [
    "# XGBoost"
   ]
  },
  {
   "cell_type": "markdown",
   "metadata": {
    "ExecuteTime": {
     "end_time": "2021-06-28T19:19:01.354500Z",
     "start_time": "2021-06-28T19:19:01.335502Z"
    }
   },
   "source": [
    "## load data"
   ]
  },
  {
   "cell_type": "code",
   "execution_count": 38,
   "metadata": {
    "ExecuteTime": {
     "end_time": "2021-08-25T21:22:49.753600Z",
     "start_time": "2021-08-25T21:22:49.728558Z"
    }
   },
   "outputs": [],
   "source": [
    "jsn_path = Path().resolve() / \"Logs\" / \"XGBoost_fixedmd.json\"\n",
    "data = pd.read_json(jsn_path , lines = True).drop([\"datetime\"], axis = 1)"
   ]
  },
  {
   "cell_type": "markdown",
   "metadata": {
    "ExecuteTime": {
     "end_time": "2021-06-28T19:19:01.759647Z",
     "start_time": "2021-06-28T19:19:01.744648Z"
    }
   },
   "source": [
    "## convert data"
   ]
  },
  {
   "cell_type": "code",
   "execution_count": 39,
   "metadata": {
    "ExecuteTime": {
     "end_time": "2021-08-25T21:22:50.454482Z",
     "start_time": "2021-08-25T21:22:50.444449Z"
    }
   },
   "outputs": [],
   "source": [
    "params = pd.json_normalize(data['params'])"
   ]
  },
  {
   "cell_type": "code",
   "execution_count": 41,
   "metadata": {
    "ExecuteTime": {
     "end_time": "2021-08-25T21:22:50.860850Z",
     "start_time": "2021-08-25T21:22:50.844807Z"
    }
   },
   "outputs": [],
   "source": [
    "df = pd.concat([data[[\"target\"]]*-1, params], axis = 1)\n",
    "# df.max_depth = df['max_depth'].astype('int')\n",
    "df.n_estimators = df['n_estimators'].astype('int')"
   ]
  },
  {
   "cell_type": "markdown",
   "metadata": {
    "ExecuteTime": {
     "end_time": "2021-06-28T19:19:02.241018Z",
     "start_time": "2021-06-28T19:19:02.236988Z"
    }
   },
   "source": [
    "## plot"
   ]
  },
  {
   "cell_type": "code",
   "execution_count": 43,
   "metadata": {
    "ExecuteTime": {
     "end_time": "2021-08-25T21:34:06.218309Z",
     "start_time": "2021-08-25T21:34:06.196311Z"
    }
   },
   "outputs": [],
   "source": [
    "df1 = df.query(\"target < 3.42\")\n",
    "df2 = df.query(\"target < 20\")\n",
    "# df3 = df.query(\"C > 10\")\n",
    "# df3 = df.query(\"gamma < 0.5 & target < 20\")"
   ]
  },
  {
   "cell_type": "code",
   "execution_count": 45,
   "metadata": {
    "ExecuteTime": {
     "end_time": "2021-08-25T21:34:07.012124Z",
     "start_time": "2021-08-25T21:34:06.477303Z"
    },
    "scrolled": false
   },
   "outputs": [
    {
     "data": {
      "application/vnd.plotly.v1+json": {
       "config": {
        "plotlyServerURL": "https://plot.ly"
       },
       "data": [
        {
         "hovertemplate": "eta=%{x}<br>n_estimators=%{y}<br>target=%{marker.color}<extra></extra>",
         "legendgroup": "",
         "marker": {
          "color": [
           6.419197038669239,
           5.79536120263515,
           3.581869642704718,
           6.1599560086303,
           6.440039725912866,
           6.419357978760923,
           6.418457106882553,
           6.419422782247813,
           6.419578860622753,
           4.4304991315334314,
           3.581869642704718,
           3.5338879447284652,
           3.532733758277833,
           3.5336514333413023,
           3.424027914347219,
           3.406039112429664,
           3.440517077493946,
           3.4955686386004743,
           3.432927116965632,
           3.657244175510864,
           4.311693232890162,
           4.072692252415653,
           3.422915605617387,
           3.80016239575059,
           3.463065806501661,
           3.40626141448061,
           3.40626141448061,
           3.406039112429664,
           3.406039112429664,
           4.43501491719908,
           3.406039112429664,
           3.406039112429664,
           3.406039112429664,
           3.406039112429664,
           3.406039112429664,
           4.640219316788484,
           4.816161141905104,
           3.406039112429664,
           5.192832478464996,
           3.406039112429664,
           3.608180001841469,
           3.669362535404732,
           3.624597705298502,
           6.417887979195691,
           6.585753771447578,
           6.418825039556246,
           3.406039112429664,
           6.418171938291556,
           6.419690440663488,
           3.40626141448061,
           6.526907135975055,
           6.3617729880236045,
           3.406039112429664,
           3.406039112429664,
           3.406039112429664,
           6.41863612287448,
           6.419005213788146,
           3.406039112429664,
           3.406039112429664,
           3.406039112429664,
           3.406039112429664,
           3.406039112429664
          ],
          "coloraxis": "coloraxis",
          "symbol": "circle"
         },
         "mode": "markers",
         "name": "",
         "scene": "scene",
         "showlegend": false,
         "type": "scatter3d",
         "x": [
          0.047531980423231,
          0.010010293733561,
          0.023208030173540003,
          0.02676341902399,
          0.04570907268076,
          0.047727506296296004,
          0.028400702475836002,
          0.012464883387813002,
          0.047557432213041005,
          0.022634824473571003,
          0.047885384644643,
          0.066544854645815,
          0.088268583874229,
          0.09141991352891,
          0.09867882402679001,
          0.081147264764481,
          0.085337859411445,
          0.089971953317157,
          0.1,
          0.088783149123398,
          0.1,
          0.08560407178243601,
          0.078657475392768,
          0.087252998359164,
          0.082842224374143,
          0.024985688606293,
          0.09667256992895701,
          0.09136178827732301,
          0.010407624025950002,
          0.02171169583748,
          0.080920384672324,
          0.023187787073564003,
          0.076487819542895,
          0.0913912476637,
          0.07160792346698201,
          0.09222951422555101,
          0.01,
          0.09180626220658401,
          0.1,
          0.021074920928029,
          0.08782732494480301,
          0.08856351996773201,
          0.06823498752191501,
          0.09049611286414201,
          0.040851352258250005,
          0.075475569593552,
          0.094002306527906,
          0.1,
          0.01,
          0.010642284894208001,
          0.1,
          0.051443419444725004,
          0.023378487971820003,
          0.09678784116971101,
          0.09235601138421401,
          0.01,
          0.07075925575050701,
          0.092641815529273,
          0.021826496464474,
          0.082853378103524,
          0.029211068254148,
          0.099322561497774
         ],
         "y": [
          723,
          309,
          101,
          352,
          543,
          688,
          879,
          673,
          563,
          206,
          101,
          103,
          109,
          106,
          116,
          123,
          120,
          133,
          128,
          144,
          190,
          162,
          125,
          152,
          114,
          124,
          124,
          123,
          123,
          176,
          123,
          123,
          123,
          123,
          123,
          227,
          249,
          123,
          273,
          123,
          89,
          80,
          84,
          999,
          445,
          800,
          123,
          939,
          618,
          124,
          495,
          395,
          123,
          123,
          123,
          840,
          761,
          123,
          123,
          123,
          123,
          123
         ],
         "z": [
          6.419197038669239,
          5.79536120263515,
          3.581869642704718,
          6.1599560086303,
          6.440039725912866,
          6.419357978760923,
          6.418457106882553,
          6.419422782247813,
          6.419578860622753,
          4.4304991315334314,
          3.581869642704718,
          3.5338879447284652,
          3.532733758277833,
          3.5336514333413023,
          3.424027914347219,
          3.406039112429664,
          3.440517077493946,
          3.4955686386004743,
          3.432927116965632,
          3.657244175510864,
          4.311693232890162,
          4.072692252415653,
          3.422915605617387,
          3.80016239575059,
          3.463065806501661,
          3.40626141448061,
          3.40626141448061,
          3.406039112429664,
          3.406039112429664,
          4.43501491719908,
          3.406039112429664,
          3.406039112429664,
          3.406039112429664,
          3.406039112429664,
          3.406039112429664,
          4.640219316788484,
          4.816161141905104,
          3.406039112429664,
          5.192832478464996,
          3.406039112429664,
          3.608180001841469,
          3.669362535404732,
          3.624597705298502,
          6.417887979195691,
          6.585753771447578,
          6.418825039556246,
          3.406039112429664,
          6.418171938291556,
          6.419690440663488,
          3.40626141448061,
          6.526907135975055,
          6.3617729880236045,
          3.406039112429664,
          3.406039112429664,
          3.406039112429664,
          6.41863612287448,
          6.419005213788146,
          3.406039112429664,
          3.406039112429664,
          3.406039112429664,
          3.406039112429664,
          3.406039112429664
         ]
        }
       ],
       "layout": {
        "coloraxis": {
         "colorbar": {
          "title": {
           "text": "target"
          }
         },
         "colorscale": [
          [
           0,
           "#0d0887"
          ],
          [
           0.1111111111111111,
           "#46039f"
          ],
          [
           0.2222222222222222,
           "#7201a8"
          ],
          [
           0.3333333333333333,
           "#9c179e"
          ],
          [
           0.4444444444444444,
           "#bd3786"
          ],
          [
           0.5555555555555556,
           "#d8576b"
          ],
          [
           0.6666666666666666,
           "#ed7953"
          ],
          [
           0.7777777777777778,
           "#fb9f3a"
          ],
          [
           0.8888888888888888,
           "#fdca26"
          ],
          [
           1,
           "#f0f921"
          ]
         ]
        },
        "legend": {
         "tracegroupgap": 0
        },
        "margin": {
         "t": 60
        },
        "scene": {
         "domain": {
          "x": [
           0,
           1
          ],
          "y": [
           0,
           1
          ]
         },
         "xaxis": {
          "title": {
           "text": "eta"
          }
         },
         "yaxis": {
          "title": {
           "text": "n_estimators"
          }
         },
         "zaxis": {
          "title": {
           "text": "target"
          }
         }
        },
        "template": {
         "data": {
          "bar": [
           {
            "error_x": {
             "color": "#2a3f5f"
            },
            "error_y": {
             "color": "#2a3f5f"
            },
            "marker": {
             "line": {
              "color": "#E5ECF6",
              "width": 0.5
             },
             "pattern": {
              "fillmode": "overlay",
              "size": 10,
              "solidity": 0.2
             }
            },
            "type": "bar"
           }
          ],
          "barpolar": [
           {
            "marker": {
             "line": {
              "color": "#E5ECF6",
              "width": 0.5
             },
             "pattern": {
              "fillmode": "overlay",
              "size": 10,
              "solidity": 0.2
             }
            },
            "type": "barpolar"
           }
          ],
          "carpet": [
           {
            "aaxis": {
             "endlinecolor": "#2a3f5f",
             "gridcolor": "white",
             "linecolor": "white",
             "minorgridcolor": "white",
             "startlinecolor": "#2a3f5f"
            },
            "baxis": {
             "endlinecolor": "#2a3f5f",
             "gridcolor": "white",
             "linecolor": "white",
             "minorgridcolor": "white",
             "startlinecolor": "#2a3f5f"
            },
            "type": "carpet"
           }
          ],
          "choropleth": [
           {
            "colorbar": {
             "outlinewidth": 0,
             "ticks": ""
            },
            "type": "choropleth"
           }
          ],
          "contour": [
           {
            "colorbar": {
             "outlinewidth": 0,
             "ticks": ""
            },
            "colorscale": [
             [
              0,
              "#0d0887"
             ],
             [
              0.1111111111111111,
              "#46039f"
             ],
             [
              0.2222222222222222,
              "#7201a8"
             ],
             [
              0.3333333333333333,
              "#9c179e"
             ],
             [
              0.4444444444444444,
              "#bd3786"
             ],
             [
              0.5555555555555556,
              "#d8576b"
             ],
             [
              0.6666666666666666,
              "#ed7953"
             ],
             [
              0.7777777777777778,
              "#fb9f3a"
             ],
             [
              0.8888888888888888,
              "#fdca26"
             ],
             [
              1,
              "#f0f921"
             ]
            ],
            "type": "contour"
           }
          ],
          "contourcarpet": [
           {
            "colorbar": {
             "outlinewidth": 0,
             "ticks": ""
            },
            "type": "contourcarpet"
           }
          ],
          "heatmap": [
           {
            "colorbar": {
             "outlinewidth": 0,
             "ticks": ""
            },
            "colorscale": [
             [
              0,
              "#0d0887"
             ],
             [
              0.1111111111111111,
              "#46039f"
             ],
             [
              0.2222222222222222,
              "#7201a8"
             ],
             [
              0.3333333333333333,
              "#9c179e"
             ],
             [
              0.4444444444444444,
              "#bd3786"
             ],
             [
              0.5555555555555556,
              "#d8576b"
             ],
             [
              0.6666666666666666,
              "#ed7953"
             ],
             [
              0.7777777777777778,
              "#fb9f3a"
             ],
             [
              0.8888888888888888,
              "#fdca26"
             ],
             [
              1,
              "#f0f921"
             ]
            ],
            "type": "heatmap"
           }
          ],
          "heatmapgl": [
           {
            "colorbar": {
             "outlinewidth": 0,
             "ticks": ""
            },
            "colorscale": [
             [
              0,
              "#0d0887"
             ],
             [
              0.1111111111111111,
              "#46039f"
             ],
             [
              0.2222222222222222,
              "#7201a8"
             ],
             [
              0.3333333333333333,
              "#9c179e"
             ],
             [
              0.4444444444444444,
              "#bd3786"
             ],
             [
              0.5555555555555556,
              "#d8576b"
             ],
             [
              0.6666666666666666,
              "#ed7953"
             ],
             [
              0.7777777777777778,
              "#fb9f3a"
             ],
             [
              0.8888888888888888,
              "#fdca26"
             ],
             [
              1,
              "#f0f921"
             ]
            ],
            "type": "heatmapgl"
           }
          ],
          "histogram": [
           {
            "marker": {
             "pattern": {
              "fillmode": "overlay",
              "size": 10,
              "solidity": 0.2
             }
            },
            "type": "histogram"
           }
          ],
          "histogram2d": [
           {
            "colorbar": {
             "outlinewidth": 0,
             "ticks": ""
            },
            "colorscale": [
             [
              0,
              "#0d0887"
             ],
             [
              0.1111111111111111,
              "#46039f"
             ],
             [
              0.2222222222222222,
              "#7201a8"
             ],
             [
              0.3333333333333333,
              "#9c179e"
             ],
             [
              0.4444444444444444,
              "#bd3786"
             ],
             [
              0.5555555555555556,
              "#d8576b"
             ],
             [
              0.6666666666666666,
              "#ed7953"
             ],
             [
              0.7777777777777778,
              "#fb9f3a"
             ],
             [
              0.8888888888888888,
              "#fdca26"
             ],
             [
              1,
              "#f0f921"
             ]
            ],
            "type": "histogram2d"
           }
          ],
          "histogram2dcontour": [
           {
            "colorbar": {
             "outlinewidth": 0,
             "ticks": ""
            },
            "colorscale": [
             [
              0,
              "#0d0887"
             ],
             [
              0.1111111111111111,
              "#46039f"
             ],
             [
              0.2222222222222222,
              "#7201a8"
             ],
             [
              0.3333333333333333,
              "#9c179e"
             ],
             [
              0.4444444444444444,
              "#bd3786"
             ],
             [
              0.5555555555555556,
              "#d8576b"
             ],
             [
              0.6666666666666666,
              "#ed7953"
             ],
             [
              0.7777777777777778,
              "#fb9f3a"
             ],
             [
              0.8888888888888888,
              "#fdca26"
             ],
             [
              1,
              "#f0f921"
             ]
            ],
            "type": "histogram2dcontour"
           }
          ],
          "mesh3d": [
           {
            "colorbar": {
             "outlinewidth": 0,
             "ticks": ""
            },
            "type": "mesh3d"
           }
          ],
          "parcoords": [
           {
            "line": {
             "colorbar": {
              "outlinewidth": 0,
              "ticks": ""
             }
            },
            "type": "parcoords"
           }
          ],
          "pie": [
           {
            "automargin": true,
            "type": "pie"
           }
          ],
          "scatter": [
           {
            "marker": {
             "colorbar": {
              "outlinewidth": 0,
              "ticks": ""
             }
            },
            "type": "scatter"
           }
          ],
          "scatter3d": [
           {
            "line": {
             "colorbar": {
              "outlinewidth": 0,
              "ticks": ""
             }
            },
            "marker": {
             "colorbar": {
              "outlinewidth": 0,
              "ticks": ""
             }
            },
            "type": "scatter3d"
           }
          ],
          "scattercarpet": [
           {
            "marker": {
             "colorbar": {
              "outlinewidth": 0,
              "ticks": ""
             }
            },
            "type": "scattercarpet"
           }
          ],
          "scattergeo": [
           {
            "marker": {
             "colorbar": {
              "outlinewidth": 0,
              "ticks": ""
             }
            },
            "type": "scattergeo"
           }
          ],
          "scattergl": [
           {
            "marker": {
             "colorbar": {
              "outlinewidth": 0,
              "ticks": ""
             }
            },
            "type": "scattergl"
           }
          ],
          "scattermapbox": [
           {
            "marker": {
             "colorbar": {
              "outlinewidth": 0,
              "ticks": ""
             }
            },
            "type": "scattermapbox"
           }
          ],
          "scatterpolar": [
           {
            "marker": {
             "colorbar": {
              "outlinewidth": 0,
              "ticks": ""
             }
            },
            "type": "scatterpolar"
           }
          ],
          "scatterpolargl": [
           {
            "marker": {
             "colorbar": {
              "outlinewidth": 0,
              "ticks": ""
             }
            },
            "type": "scatterpolargl"
           }
          ],
          "scatterternary": [
           {
            "marker": {
             "colorbar": {
              "outlinewidth": 0,
              "ticks": ""
             }
            },
            "type": "scatterternary"
           }
          ],
          "surface": [
           {
            "colorbar": {
             "outlinewidth": 0,
             "ticks": ""
            },
            "colorscale": [
             [
              0,
              "#0d0887"
             ],
             [
              0.1111111111111111,
              "#46039f"
             ],
             [
              0.2222222222222222,
              "#7201a8"
             ],
             [
              0.3333333333333333,
              "#9c179e"
             ],
             [
              0.4444444444444444,
              "#bd3786"
             ],
             [
              0.5555555555555556,
              "#d8576b"
             ],
             [
              0.6666666666666666,
              "#ed7953"
             ],
             [
              0.7777777777777778,
              "#fb9f3a"
             ],
             [
              0.8888888888888888,
              "#fdca26"
             ],
             [
              1,
              "#f0f921"
             ]
            ],
            "type": "surface"
           }
          ],
          "table": [
           {
            "cells": {
             "fill": {
              "color": "#EBF0F8"
             },
             "line": {
              "color": "white"
             }
            },
            "header": {
             "fill": {
              "color": "#C8D4E3"
             },
             "line": {
              "color": "white"
             }
            },
            "type": "table"
           }
          ]
         },
         "layout": {
          "annotationdefaults": {
           "arrowcolor": "#2a3f5f",
           "arrowhead": 0,
           "arrowwidth": 1
          },
          "autotypenumbers": "strict",
          "coloraxis": {
           "colorbar": {
            "outlinewidth": 0,
            "ticks": ""
           }
          },
          "colorscale": {
           "diverging": [
            [
             0,
             "#8e0152"
            ],
            [
             0.1,
             "#c51b7d"
            ],
            [
             0.2,
             "#de77ae"
            ],
            [
             0.3,
             "#f1b6da"
            ],
            [
             0.4,
             "#fde0ef"
            ],
            [
             0.5,
             "#f7f7f7"
            ],
            [
             0.6,
             "#e6f5d0"
            ],
            [
             0.7,
             "#b8e186"
            ],
            [
             0.8,
             "#7fbc41"
            ],
            [
             0.9,
             "#4d9221"
            ],
            [
             1,
             "#276419"
            ]
           ],
           "sequential": [
            [
             0,
             "#0d0887"
            ],
            [
             0.1111111111111111,
             "#46039f"
            ],
            [
             0.2222222222222222,
             "#7201a8"
            ],
            [
             0.3333333333333333,
             "#9c179e"
            ],
            [
             0.4444444444444444,
             "#bd3786"
            ],
            [
             0.5555555555555556,
             "#d8576b"
            ],
            [
             0.6666666666666666,
             "#ed7953"
            ],
            [
             0.7777777777777778,
             "#fb9f3a"
            ],
            [
             0.8888888888888888,
             "#fdca26"
            ],
            [
             1,
             "#f0f921"
            ]
           ],
           "sequentialminus": [
            [
             0,
             "#0d0887"
            ],
            [
             0.1111111111111111,
             "#46039f"
            ],
            [
             0.2222222222222222,
             "#7201a8"
            ],
            [
             0.3333333333333333,
             "#9c179e"
            ],
            [
             0.4444444444444444,
             "#bd3786"
            ],
            [
             0.5555555555555556,
             "#d8576b"
            ],
            [
             0.6666666666666666,
             "#ed7953"
            ],
            [
             0.7777777777777778,
             "#fb9f3a"
            ],
            [
             0.8888888888888888,
             "#fdca26"
            ],
            [
             1,
             "#f0f921"
            ]
           ]
          },
          "colorway": [
           "#636efa",
           "#EF553B",
           "#00cc96",
           "#ab63fa",
           "#FFA15A",
           "#19d3f3",
           "#FF6692",
           "#B6E880",
           "#FF97FF",
           "#FECB52"
          ],
          "font": {
           "color": "#2a3f5f"
          },
          "geo": {
           "bgcolor": "white",
           "lakecolor": "white",
           "landcolor": "#E5ECF6",
           "showlakes": true,
           "showland": true,
           "subunitcolor": "white"
          },
          "hoverlabel": {
           "align": "left"
          },
          "hovermode": "closest",
          "mapbox": {
           "style": "light"
          },
          "paper_bgcolor": "white",
          "plot_bgcolor": "#E5ECF6",
          "polar": {
           "angularaxis": {
            "gridcolor": "white",
            "linecolor": "white",
            "ticks": ""
           },
           "bgcolor": "#E5ECF6",
           "radialaxis": {
            "gridcolor": "white",
            "linecolor": "white",
            "ticks": ""
           }
          },
          "scene": {
           "xaxis": {
            "backgroundcolor": "#E5ECF6",
            "gridcolor": "white",
            "gridwidth": 2,
            "linecolor": "white",
            "showbackground": true,
            "ticks": "",
            "zerolinecolor": "white"
           },
           "yaxis": {
            "backgroundcolor": "#E5ECF6",
            "gridcolor": "white",
            "gridwidth": 2,
            "linecolor": "white",
            "showbackground": true,
            "ticks": "",
            "zerolinecolor": "white"
           },
           "zaxis": {
            "backgroundcolor": "#E5ECF6",
            "gridcolor": "white",
            "gridwidth": 2,
            "linecolor": "white",
            "showbackground": true,
            "ticks": "",
            "zerolinecolor": "white"
           }
          },
          "shapedefaults": {
           "line": {
            "color": "#2a3f5f"
           }
          },
          "ternary": {
           "aaxis": {
            "gridcolor": "white",
            "linecolor": "white",
            "ticks": ""
           },
           "baxis": {
            "gridcolor": "white",
            "linecolor": "white",
            "ticks": ""
           },
           "bgcolor": "#E5ECF6",
           "caxis": {
            "gridcolor": "white",
            "linecolor": "white",
            "ticks": ""
           }
          },
          "title": {
           "x": 0.05
          },
          "xaxis": {
           "automargin": true,
           "gridcolor": "white",
           "linecolor": "white",
           "ticks": "",
           "title": {
            "standoff": 15
           },
           "zerolinecolor": "white",
           "zerolinewidth": 2
          },
          "yaxis": {
           "automargin": true,
           "gridcolor": "white",
           "linecolor": "white",
           "ticks": "",
           "title": {
            "standoff": 15
           },
           "zerolinecolor": "white",
           "zerolinewidth": 2
          }
         }
        }
       }
      },
      "text/html": [
       "<div>                            <div id=\"62d5a1cc-bfc6-4aca-a31b-5dc18f8004b1\" class=\"plotly-graph-div\" style=\"height:525px; width:100%;\"></div>            <script type=\"text/javascript\">                require([\"plotly\"], function(Plotly) {                    window.PLOTLYENV=window.PLOTLYENV || {};                                    if (document.getElementById(\"62d5a1cc-bfc6-4aca-a31b-5dc18f8004b1\")) {                    Plotly.newPlot(                        \"62d5a1cc-bfc6-4aca-a31b-5dc18f8004b1\",                        [{\"hovertemplate\":\"eta=%{x}<br>n_estimators=%{y}<br>target=%{marker.color}<extra></extra>\",\"legendgroup\":\"\",\"marker\":{\"color\":[6.419197038669239,5.79536120263515,3.581869642704718,6.1599560086303,6.440039725912866,6.419357978760923,6.418457106882553,6.419422782247813,6.419578860622753,4.4304991315334314,3.581869642704718,3.5338879447284652,3.532733758277833,3.5336514333413023,3.424027914347219,3.406039112429664,3.440517077493946,3.4955686386004743,3.432927116965632,3.657244175510864,4.311693232890162,4.072692252415653,3.422915605617387,3.80016239575059,3.463065806501661,3.40626141448061,3.40626141448061,3.406039112429664,3.406039112429664,4.43501491719908,3.406039112429664,3.406039112429664,3.406039112429664,3.406039112429664,3.406039112429664,4.640219316788484,4.816161141905104,3.406039112429664,5.192832478464996,3.406039112429664,3.608180001841469,3.669362535404732,3.624597705298502,6.417887979195691,6.585753771447578,6.418825039556246,3.406039112429664,6.418171938291556,6.419690440663488,3.40626141448061,6.526907135975055,6.3617729880236045,3.406039112429664,3.406039112429664,3.406039112429664,6.41863612287448,6.419005213788146,3.406039112429664,3.406039112429664,3.406039112429664,3.406039112429664,3.406039112429664],\"coloraxis\":\"coloraxis\",\"symbol\":\"circle\"},\"mode\":\"markers\",\"name\":\"\",\"scene\":\"scene\",\"showlegend\":false,\"type\":\"scatter3d\",\"x\":[0.047531980423231,0.010010293733561,0.023208030173540003,0.02676341902399,0.04570907268076,0.047727506296296004,0.028400702475836002,0.012464883387813002,0.047557432213041005,0.022634824473571003,0.047885384644643,0.066544854645815,0.088268583874229,0.09141991352891,0.09867882402679001,0.081147264764481,0.085337859411445,0.089971953317157,0.1,0.088783149123398,0.1,0.08560407178243601,0.078657475392768,0.087252998359164,0.082842224374143,0.024985688606293,0.09667256992895701,0.09136178827732301,0.010407624025950002,0.02171169583748,0.080920384672324,0.023187787073564003,0.076487819542895,0.0913912476637,0.07160792346698201,0.09222951422555101,0.01,0.09180626220658401,0.1,0.021074920928029,0.08782732494480301,0.08856351996773201,0.06823498752191501,0.09049611286414201,0.040851352258250005,0.075475569593552,0.094002306527906,0.1,0.01,0.010642284894208001,0.1,0.051443419444725004,0.023378487971820003,0.09678784116971101,0.09235601138421401,0.01,0.07075925575050701,0.092641815529273,0.021826496464474,0.082853378103524,0.029211068254148,0.099322561497774],\"y\":[723,309,101,352,543,688,879,673,563,206,101,103,109,106,116,123,120,133,128,144,190,162,125,152,114,124,124,123,123,176,123,123,123,123,123,227,249,123,273,123,89,80,84,999,445,800,123,939,618,124,495,395,123,123,123,840,761,123,123,123,123,123],\"z\":[6.419197038669239,5.79536120263515,3.581869642704718,6.1599560086303,6.440039725912866,6.419357978760923,6.418457106882553,6.419422782247813,6.419578860622753,4.4304991315334314,3.581869642704718,3.5338879447284652,3.532733758277833,3.5336514333413023,3.424027914347219,3.406039112429664,3.440517077493946,3.4955686386004743,3.432927116965632,3.657244175510864,4.311693232890162,4.072692252415653,3.422915605617387,3.80016239575059,3.463065806501661,3.40626141448061,3.40626141448061,3.406039112429664,3.406039112429664,4.43501491719908,3.406039112429664,3.406039112429664,3.406039112429664,3.406039112429664,3.406039112429664,4.640219316788484,4.816161141905104,3.406039112429664,5.192832478464996,3.406039112429664,3.608180001841469,3.669362535404732,3.624597705298502,6.417887979195691,6.585753771447578,6.418825039556246,3.406039112429664,6.418171938291556,6.419690440663488,3.40626141448061,6.526907135975055,6.3617729880236045,3.406039112429664,3.406039112429664,3.406039112429664,6.41863612287448,6.419005213788146,3.406039112429664,3.406039112429664,3.406039112429664,3.406039112429664,3.406039112429664]}],                        {\"coloraxis\":{\"colorbar\":{\"title\":{\"text\":\"target\"}},\"colorscale\":[[0.0,\"#0d0887\"],[0.1111111111111111,\"#46039f\"],[0.2222222222222222,\"#7201a8\"],[0.3333333333333333,\"#9c179e\"],[0.4444444444444444,\"#bd3786\"],[0.5555555555555556,\"#d8576b\"],[0.6666666666666666,\"#ed7953\"],[0.7777777777777778,\"#fb9f3a\"],[0.8888888888888888,\"#fdca26\"],[1.0,\"#f0f921\"]]},\"legend\":{\"tracegroupgap\":0},\"margin\":{\"t\":60},\"scene\":{\"domain\":{\"x\":[0.0,1.0],\"y\":[0.0,1.0]},\"xaxis\":{\"title\":{\"text\":\"eta\"}},\"yaxis\":{\"title\":{\"text\":\"n_estimators\"}},\"zaxis\":{\"title\":{\"text\":\"target\"}}},\"template\":{\"data\":{\"bar\":[{\"error_x\":{\"color\":\"#2a3f5f\"},\"error_y\":{\"color\":\"#2a3f5f\"},\"marker\":{\"line\":{\"color\":\"#E5ECF6\",\"width\":0.5},\"pattern\":{\"fillmode\":\"overlay\",\"size\":10,\"solidity\":0.2}},\"type\":\"bar\"}],\"barpolar\":[{\"marker\":{\"line\":{\"color\":\"#E5ECF6\",\"width\":0.5},\"pattern\":{\"fillmode\":\"overlay\",\"size\":10,\"solidity\":0.2}},\"type\":\"barpolar\"}],\"carpet\":[{\"aaxis\":{\"endlinecolor\":\"#2a3f5f\",\"gridcolor\":\"white\",\"linecolor\":\"white\",\"minorgridcolor\":\"white\",\"startlinecolor\":\"#2a3f5f\"},\"baxis\":{\"endlinecolor\":\"#2a3f5f\",\"gridcolor\":\"white\",\"linecolor\":\"white\",\"minorgridcolor\":\"white\",\"startlinecolor\":\"#2a3f5f\"},\"type\":\"carpet\"}],\"choropleth\":[{\"colorbar\":{\"outlinewidth\":0,\"ticks\":\"\"},\"type\":\"choropleth\"}],\"contour\":[{\"colorbar\":{\"outlinewidth\":0,\"ticks\":\"\"},\"colorscale\":[[0.0,\"#0d0887\"],[0.1111111111111111,\"#46039f\"],[0.2222222222222222,\"#7201a8\"],[0.3333333333333333,\"#9c179e\"],[0.4444444444444444,\"#bd3786\"],[0.5555555555555556,\"#d8576b\"],[0.6666666666666666,\"#ed7953\"],[0.7777777777777778,\"#fb9f3a\"],[0.8888888888888888,\"#fdca26\"],[1.0,\"#f0f921\"]],\"type\":\"contour\"}],\"contourcarpet\":[{\"colorbar\":{\"outlinewidth\":0,\"ticks\":\"\"},\"type\":\"contourcarpet\"}],\"heatmap\":[{\"colorbar\":{\"outlinewidth\":0,\"ticks\":\"\"},\"colorscale\":[[0.0,\"#0d0887\"],[0.1111111111111111,\"#46039f\"],[0.2222222222222222,\"#7201a8\"],[0.3333333333333333,\"#9c179e\"],[0.4444444444444444,\"#bd3786\"],[0.5555555555555556,\"#d8576b\"],[0.6666666666666666,\"#ed7953\"],[0.7777777777777778,\"#fb9f3a\"],[0.8888888888888888,\"#fdca26\"],[1.0,\"#f0f921\"]],\"type\":\"heatmap\"}],\"heatmapgl\":[{\"colorbar\":{\"outlinewidth\":0,\"ticks\":\"\"},\"colorscale\":[[0.0,\"#0d0887\"],[0.1111111111111111,\"#46039f\"],[0.2222222222222222,\"#7201a8\"],[0.3333333333333333,\"#9c179e\"],[0.4444444444444444,\"#bd3786\"],[0.5555555555555556,\"#d8576b\"],[0.6666666666666666,\"#ed7953\"],[0.7777777777777778,\"#fb9f3a\"],[0.8888888888888888,\"#fdca26\"],[1.0,\"#f0f921\"]],\"type\":\"heatmapgl\"}],\"histogram\":[{\"marker\":{\"pattern\":{\"fillmode\":\"overlay\",\"size\":10,\"solidity\":0.2}},\"type\":\"histogram\"}],\"histogram2d\":[{\"colorbar\":{\"outlinewidth\":0,\"ticks\":\"\"},\"colorscale\":[[0.0,\"#0d0887\"],[0.1111111111111111,\"#46039f\"],[0.2222222222222222,\"#7201a8\"],[0.3333333333333333,\"#9c179e\"],[0.4444444444444444,\"#bd3786\"],[0.5555555555555556,\"#d8576b\"],[0.6666666666666666,\"#ed7953\"],[0.7777777777777778,\"#fb9f3a\"],[0.8888888888888888,\"#fdca26\"],[1.0,\"#f0f921\"]],\"type\":\"histogram2d\"}],\"histogram2dcontour\":[{\"colorbar\":{\"outlinewidth\":0,\"ticks\":\"\"},\"colorscale\":[[0.0,\"#0d0887\"],[0.1111111111111111,\"#46039f\"],[0.2222222222222222,\"#7201a8\"],[0.3333333333333333,\"#9c179e\"],[0.4444444444444444,\"#bd3786\"],[0.5555555555555556,\"#d8576b\"],[0.6666666666666666,\"#ed7953\"],[0.7777777777777778,\"#fb9f3a\"],[0.8888888888888888,\"#fdca26\"],[1.0,\"#f0f921\"]],\"type\":\"histogram2dcontour\"}],\"mesh3d\":[{\"colorbar\":{\"outlinewidth\":0,\"ticks\":\"\"},\"type\":\"mesh3d\"}],\"parcoords\":[{\"line\":{\"colorbar\":{\"outlinewidth\":0,\"ticks\":\"\"}},\"type\":\"parcoords\"}],\"pie\":[{\"automargin\":true,\"type\":\"pie\"}],\"scatter\":[{\"marker\":{\"colorbar\":{\"outlinewidth\":0,\"ticks\":\"\"}},\"type\":\"scatter\"}],\"scatter3d\":[{\"line\":{\"colorbar\":{\"outlinewidth\":0,\"ticks\":\"\"}},\"marker\":{\"colorbar\":{\"outlinewidth\":0,\"ticks\":\"\"}},\"type\":\"scatter3d\"}],\"scattercarpet\":[{\"marker\":{\"colorbar\":{\"outlinewidth\":0,\"ticks\":\"\"}},\"type\":\"scattercarpet\"}],\"scattergeo\":[{\"marker\":{\"colorbar\":{\"outlinewidth\":0,\"ticks\":\"\"}},\"type\":\"scattergeo\"}],\"scattergl\":[{\"marker\":{\"colorbar\":{\"outlinewidth\":0,\"ticks\":\"\"}},\"type\":\"scattergl\"}],\"scattermapbox\":[{\"marker\":{\"colorbar\":{\"outlinewidth\":0,\"ticks\":\"\"}},\"type\":\"scattermapbox\"}],\"scatterpolar\":[{\"marker\":{\"colorbar\":{\"outlinewidth\":0,\"ticks\":\"\"}},\"type\":\"scatterpolar\"}],\"scatterpolargl\":[{\"marker\":{\"colorbar\":{\"outlinewidth\":0,\"ticks\":\"\"}},\"type\":\"scatterpolargl\"}],\"scatterternary\":[{\"marker\":{\"colorbar\":{\"outlinewidth\":0,\"ticks\":\"\"}},\"type\":\"scatterternary\"}],\"surface\":[{\"colorbar\":{\"outlinewidth\":0,\"ticks\":\"\"},\"colorscale\":[[0.0,\"#0d0887\"],[0.1111111111111111,\"#46039f\"],[0.2222222222222222,\"#7201a8\"],[0.3333333333333333,\"#9c179e\"],[0.4444444444444444,\"#bd3786\"],[0.5555555555555556,\"#d8576b\"],[0.6666666666666666,\"#ed7953\"],[0.7777777777777778,\"#fb9f3a\"],[0.8888888888888888,\"#fdca26\"],[1.0,\"#f0f921\"]],\"type\":\"surface\"}],\"table\":[{\"cells\":{\"fill\":{\"color\":\"#EBF0F8\"},\"line\":{\"color\":\"white\"}},\"header\":{\"fill\":{\"color\":\"#C8D4E3\"},\"line\":{\"color\":\"white\"}},\"type\":\"table\"}]},\"layout\":{\"annotationdefaults\":{\"arrowcolor\":\"#2a3f5f\",\"arrowhead\":0,\"arrowwidth\":1},\"autotypenumbers\":\"strict\",\"coloraxis\":{\"colorbar\":{\"outlinewidth\":0,\"ticks\":\"\"}},\"colorscale\":{\"diverging\":[[0,\"#8e0152\"],[0.1,\"#c51b7d\"],[0.2,\"#de77ae\"],[0.3,\"#f1b6da\"],[0.4,\"#fde0ef\"],[0.5,\"#f7f7f7\"],[0.6,\"#e6f5d0\"],[0.7,\"#b8e186\"],[0.8,\"#7fbc41\"],[0.9,\"#4d9221\"],[1,\"#276419\"]],\"sequential\":[[0.0,\"#0d0887\"],[0.1111111111111111,\"#46039f\"],[0.2222222222222222,\"#7201a8\"],[0.3333333333333333,\"#9c179e\"],[0.4444444444444444,\"#bd3786\"],[0.5555555555555556,\"#d8576b\"],[0.6666666666666666,\"#ed7953\"],[0.7777777777777778,\"#fb9f3a\"],[0.8888888888888888,\"#fdca26\"],[1.0,\"#f0f921\"]],\"sequentialminus\":[[0.0,\"#0d0887\"],[0.1111111111111111,\"#46039f\"],[0.2222222222222222,\"#7201a8\"],[0.3333333333333333,\"#9c179e\"],[0.4444444444444444,\"#bd3786\"],[0.5555555555555556,\"#d8576b\"],[0.6666666666666666,\"#ed7953\"],[0.7777777777777778,\"#fb9f3a\"],[0.8888888888888888,\"#fdca26\"],[1.0,\"#f0f921\"]]},\"colorway\":[\"#636efa\",\"#EF553B\",\"#00cc96\",\"#ab63fa\",\"#FFA15A\",\"#19d3f3\",\"#FF6692\",\"#B6E880\",\"#FF97FF\",\"#FECB52\"],\"font\":{\"color\":\"#2a3f5f\"},\"geo\":{\"bgcolor\":\"white\",\"lakecolor\":\"white\",\"landcolor\":\"#E5ECF6\",\"showlakes\":true,\"showland\":true,\"subunitcolor\":\"white\"},\"hoverlabel\":{\"align\":\"left\"},\"hovermode\":\"closest\",\"mapbox\":{\"style\":\"light\"},\"paper_bgcolor\":\"white\",\"plot_bgcolor\":\"#E5ECF6\",\"polar\":{\"angularaxis\":{\"gridcolor\":\"white\",\"linecolor\":\"white\",\"ticks\":\"\"},\"bgcolor\":\"#E5ECF6\",\"radialaxis\":{\"gridcolor\":\"white\",\"linecolor\":\"white\",\"ticks\":\"\"}},\"scene\":{\"xaxis\":{\"backgroundcolor\":\"#E5ECF6\",\"gridcolor\":\"white\",\"gridwidth\":2,\"linecolor\":\"white\",\"showbackground\":true,\"ticks\":\"\",\"zerolinecolor\":\"white\"},\"yaxis\":{\"backgroundcolor\":\"#E5ECF6\",\"gridcolor\":\"white\",\"gridwidth\":2,\"linecolor\":\"white\",\"showbackground\":true,\"ticks\":\"\",\"zerolinecolor\":\"white\"},\"zaxis\":{\"backgroundcolor\":\"#E5ECF6\",\"gridcolor\":\"white\",\"gridwidth\":2,\"linecolor\":\"white\",\"showbackground\":true,\"ticks\":\"\",\"zerolinecolor\":\"white\"}},\"shapedefaults\":{\"line\":{\"color\":\"#2a3f5f\"}},\"ternary\":{\"aaxis\":{\"gridcolor\":\"white\",\"linecolor\":\"white\",\"ticks\":\"\"},\"baxis\":{\"gridcolor\":\"white\",\"linecolor\":\"white\",\"ticks\":\"\"},\"bgcolor\":\"#E5ECF6\",\"caxis\":{\"gridcolor\":\"white\",\"linecolor\":\"white\",\"ticks\":\"\"}},\"title\":{\"x\":0.05},\"xaxis\":{\"automargin\":true,\"gridcolor\":\"white\",\"linecolor\":\"white\",\"ticks\":\"\",\"title\":{\"standoff\":15},\"zerolinecolor\":\"white\",\"zerolinewidth\":2},\"yaxis\":{\"automargin\":true,\"gridcolor\":\"white\",\"linecolor\":\"white\",\"ticks\":\"\",\"title\":{\"standoff\":15},\"zerolinecolor\":\"white\",\"zerolinewidth\":2}}}},                        {\"responsive\": true}                    ).then(function(){\n",
       "                            \n",
       "var gd = document.getElementById('62d5a1cc-bfc6-4aca-a31b-5dc18f8004b1');\n",
       "var x = new MutationObserver(function (mutations, observer) {{\n",
       "        var display = window.getComputedStyle(gd).display;\n",
       "        if (!display || display === 'none') {{\n",
       "            console.log([gd, 'removed!']);\n",
       "            Plotly.purge(gd);\n",
       "            observer.disconnect();\n",
       "        }}\n",
       "}});\n",
       "\n",
       "// Listen for the removal of the full notebook cells\n",
       "var notebookContainer = gd.closest('#notebook-container');\n",
       "if (notebookContainer) {{\n",
       "    x.observe(notebookContainer, {childList: true});\n",
       "}}\n",
       "\n",
       "// Listen for the clearing of the current output cell\n",
       "var outputEl = gd.closest('.output');\n",
       "if (outputEl) {{\n",
       "    x.observe(outputEl, {childList: true});\n",
       "}}\n",
       "\n",
       "                        })                };                });            </script>        </div>"
      ]
     },
     "metadata": {},
     "output_type": "display_data"
    }
   ],
   "source": [
    "px.scatter_3d(df2, x = \"eta\", y = \"n_estimators\", z = \"target\", color = \"target\")"
   ]
  },
  {
   "cell_type": "code",
   "execution_count": 8,
   "metadata": {
    "ExecuteTime": {
     "end_time": "2021-08-25T21:33:04.003369Z",
     "start_time": "2021-08-25T21:33:03.986373Z"
    }
   },
   "outputs": [
    {
     "data": {
      "text/html": [
       "<div>\n",
       "<style scoped>\n",
       "    .dataframe tbody tr th:only-of-type {\n",
       "        vertical-align: middle;\n",
       "    }\n",
       "\n",
       "    .dataframe tbody tr th {\n",
       "        vertical-align: top;\n",
       "    }\n",
       "\n",
       "    .dataframe thead th {\n",
       "        text-align: right;\n",
       "    }\n",
       "</style>\n",
       "<table border=\"1\" class=\"dataframe\">\n",
       "  <thead>\n",
       "    <tr style=\"text-align: right;\">\n",
       "      <th></th>\n",
       "      <th>target</th>\n",
       "      <th>eta</th>\n",
       "      <th>n_estimators</th>\n",
       "    </tr>\n",
       "  </thead>\n",
       "  <tbody>\n",
       "    <tr>\n",
       "      <th>31</th>\n",
       "      <td>3.406039</td>\n",
       "      <td>0.080920</td>\n",
       "      <td>123.631833</td>\n",
       "    </tr>\n",
       "    <tr>\n",
       "      <th>61</th>\n",
       "      <td>3.406039</td>\n",
       "      <td>0.029211</td>\n",
       "      <td>123.537365</td>\n",
       "    </tr>\n",
       "    <tr>\n",
       "      <th>32</th>\n",
       "      <td>3.406039</td>\n",
       "      <td>0.023188</td>\n",
       "      <td>123.563307</td>\n",
       "    </tr>\n",
       "    <tr>\n",
       "      <th>33</th>\n",
       "      <td>3.406039</td>\n",
       "      <td>0.076488</td>\n",
       "      <td>123.879942</td>\n",
       "    </tr>\n",
       "    <tr>\n",
       "      <th>34</th>\n",
       "      <td>3.406039</td>\n",
       "      <td>0.091391</td>\n",
       "      <td>123.368754</td>\n",
       "    </tr>\n",
       "  </tbody>\n",
       "</table>\n",
       "</div>"
      ],
      "text/plain": [
       "      target       eta  n_estimators\n",
       "31  3.406039  0.080920    123.631833\n",
       "61  3.406039  0.029211    123.537365\n",
       "32  3.406039  0.023188    123.563307\n",
       "33  3.406039  0.076488    123.879942\n",
       "34  3.406039  0.091391    123.368754"
      ]
     },
     "execution_count": 8,
     "metadata": {},
     "output_type": "execute_result"
    }
   ],
   "source": [
    "df.sort_values(\"target\").head(5)"
   ]
  },
  {
   "cell_type": "code",
   "execution_count": 20,
   "metadata": {
    "ExecuteTime": {
     "end_time": "2021-08-25T20:23:21.284460Z",
     "start_time": "2021-08-25T20:23:20.708464Z"
    }
   },
   "outputs": [
    {
     "data": {
      "application/vnd.plotly.v1+json": {
       "config": {
        "plotlyServerURL": "https://plot.ly"
       },
       "data": [
        {
         "hovertemplate": "eta=%{x}<br>target=%{marker.color}<extra></extra>",
         "legendgroup": "",
         "marker": {
          "color": [
           3.406039112429664,
           3.40626141448061,
           3.40626141448061,
           3.406039112429664,
           3.406039112429664,
           3.406039112429664,
           3.406039112429664,
           3.406039112429664,
           3.406039112429664,
           3.406039112429664,
           3.406039112429664,
           3.406039112429664,
           3.406039112429664,
           3.40626141448061,
           3.406039112429664,
           3.406039112429664,
           3.406039112429664,
           3.406039112429664,
           3.406039112429664,
           3.406039112429664,
           3.406039112429664,
           3.406039112429664
          ],
          "coloraxis": "coloraxis",
          "symbol": "circle"
         },
         "mode": "markers",
         "name": "",
         "orientation": "v",
         "showlegend": false,
         "type": "scatter",
         "x": [
          0.081147264764481,
          0.024985688606293,
          0.09667256992895701,
          0.09136178827732301,
          0.010407624025950002,
          0.080920384672324,
          0.023187787073564003,
          0.076487819542895,
          0.0913912476637,
          0.07160792346698201,
          0.09180626220658401,
          0.021074920928029,
          0.094002306527906,
          0.010642284894208001,
          0.023378487971820003,
          0.09678784116971101,
          0.09235601138421401,
          0.092641815529273,
          0.021826496464474,
          0.082853378103524,
          0.029211068254148,
          0.099322561497774
         ],
         "xaxis": "x",
         "y": [
          3.406039112429664,
          3.40626141448061,
          3.40626141448061,
          3.406039112429664,
          3.406039112429664,
          3.406039112429664,
          3.406039112429664,
          3.406039112429664,
          3.406039112429664,
          3.406039112429664,
          3.406039112429664,
          3.406039112429664,
          3.406039112429664,
          3.40626141448061,
          3.406039112429664,
          3.406039112429664,
          3.406039112429664,
          3.406039112429664,
          3.406039112429664,
          3.406039112429664,
          3.406039112429664,
          3.406039112429664
         ],
         "yaxis": "y"
        }
       ],
       "layout": {
        "coloraxis": {
         "colorbar": {
          "title": {
           "text": "target"
          }
         },
         "colorscale": [
          [
           0,
           "#0d0887"
          ],
          [
           0.1111111111111111,
           "#46039f"
          ],
          [
           0.2222222222222222,
           "#7201a8"
          ],
          [
           0.3333333333333333,
           "#9c179e"
          ],
          [
           0.4444444444444444,
           "#bd3786"
          ],
          [
           0.5555555555555556,
           "#d8576b"
          ],
          [
           0.6666666666666666,
           "#ed7953"
          ],
          [
           0.7777777777777778,
           "#fb9f3a"
          ],
          [
           0.8888888888888888,
           "#fdca26"
          ],
          [
           1,
           "#f0f921"
          ]
         ]
        },
        "legend": {
         "tracegroupgap": 0
        },
        "margin": {
         "t": 60
        },
        "template": {
         "data": {
          "bar": [
           {
            "error_x": {
             "color": "#2a3f5f"
            },
            "error_y": {
             "color": "#2a3f5f"
            },
            "marker": {
             "line": {
              "color": "#E5ECF6",
              "width": 0.5
             },
             "pattern": {
              "fillmode": "overlay",
              "size": 10,
              "solidity": 0.2
             }
            },
            "type": "bar"
           }
          ],
          "barpolar": [
           {
            "marker": {
             "line": {
              "color": "#E5ECF6",
              "width": 0.5
             },
             "pattern": {
              "fillmode": "overlay",
              "size": 10,
              "solidity": 0.2
             }
            },
            "type": "barpolar"
           }
          ],
          "carpet": [
           {
            "aaxis": {
             "endlinecolor": "#2a3f5f",
             "gridcolor": "white",
             "linecolor": "white",
             "minorgridcolor": "white",
             "startlinecolor": "#2a3f5f"
            },
            "baxis": {
             "endlinecolor": "#2a3f5f",
             "gridcolor": "white",
             "linecolor": "white",
             "minorgridcolor": "white",
             "startlinecolor": "#2a3f5f"
            },
            "type": "carpet"
           }
          ],
          "choropleth": [
           {
            "colorbar": {
             "outlinewidth": 0,
             "ticks": ""
            },
            "type": "choropleth"
           }
          ],
          "contour": [
           {
            "colorbar": {
             "outlinewidth": 0,
             "ticks": ""
            },
            "colorscale": [
             [
              0,
              "#0d0887"
             ],
             [
              0.1111111111111111,
              "#46039f"
             ],
             [
              0.2222222222222222,
              "#7201a8"
             ],
             [
              0.3333333333333333,
              "#9c179e"
             ],
             [
              0.4444444444444444,
              "#bd3786"
             ],
             [
              0.5555555555555556,
              "#d8576b"
             ],
             [
              0.6666666666666666,
              "#ed7953"
             ],
             [
              0.7777777777777778,
              "#fb9f3a"
             ],
             [
              0.8888888888888888,
              "#fdca26"
             ],
             [
              1,
              "#f0f921"
             ]
            ],
            "type": "contour"
           }
          ],
          "contourcarpet": [
           {
            "colorbar": {
             "outlinewidth": 0,
             "ticks": ""
            },
            "type": "contourcarpet"
           }
          ],
          "heatmap": [
           {
            "colorbar": {
             "outlinewidth": 0,
             "ticks": ""
            },
            "colorscale": [
             [
              0,
              "#0d0887"
             ],
             [
              0.1111111111111111,
              "#46039f"
             ],
             [
              0.2222222222222222,
              "#7201a8"
             ],
             [
              0.3333333333333333,
              "#9c179e"
             ],
             [
              0.4444444444444444,
              "#bd3786"
             ],
             [
              0.5555555555555556,
              "#d8576b"
             ],
             [
              0.6666666666666666,
              "#ed7953"
             ],
             [
              0.7777777777777778,
              "#fb9f3a"
             ],
             [
              0.8888888888888888,
              "#fdca26"
             ],
             [
              1,
              "#f0f921"
             ]
            ],
            "type": "heatmap"
           }
          ],
          "heatmapgl": [
           {
            "colorbar": {
             "outlinewidth": 0,
             "ticks": ""
            },
            "colorscale": [
             [
              0,
              "#0d0887"
             ],
             [
              0.1111111111111111,
              "#46039f"
             ],
             [
              0.2222222222222222,
              "#7201a8"
             ],
             [
              0.3333333333333333,
              "#9c179e"
             ],
             [
              0.4444444444444444,
              "#bd3786"
             ],
             [
              0.5555555555555556,
              "#d8576b"
             ],
             [
              0.6666666666666666,
              "#ed7953"
             ],
             [
              0.7777777777777778,
              "#fb9f3a"
             ],
             [
              0.8888888888888888,
              "#fdca26"
             ],
             [
              1,
              "#f0f921"
             ]
            ],
            "type": "heatmapgl"
           }
          ],
          "histogram": [
           {
            "marker": {
             "pattern": {
              "fillmode": "overlay",
              "size": 10,
              "solidity": 0.2
             }
            },
            "type": "histogram"
           }
          ],
          "histogram2d": [
           {
            "colorbar": {
             "outlinewidth": 0,
             "ticks": ""
            },
            "colorscale": [
             [
              0,
              "#0d0887"
             ],
             [
              0.1111111111111111,
              "#46039f"
             ],
             [
              0.2222222222222222,
              "#7201a8"
             ],
             [
              0.3333333333333333,
              "#9c179e"
             ],
             [
              0.4444444444444444,
              "#bd3786"
             ],
             [
              0.5555555555555556,
              "#d8576b"
             ],
             [
              0.6666666666666666,
              "#ed7953"
             ],
             [
              0.7777777777777778,
              "#fb9f3a"
             ],
             [
              0.8888888888888888,
              "#fdca26"
             ],
             [
              1,
              "#f0f921"
             ]
            ],
            "type": "histogram2d"
           }
          ],
          "histogram2dcontour": [
           {
            "colorbar": {
             "outlinewidth": 0,
             "ticks": ""
            },
            "colorscale": [
             [
              0,
              "#0d0887"
             ],
             [
              0.1111111111111111,
              "#46039f"
             ],
             [
              0.2222222222222222,
              "#7201a8"
             ],
             [
              0.3333333333333333,
              "#9c179e"
             ],
             [
              0.4444444444444444,
              "#bd3786"
             ],
             [
              0.5555555555555556,
              "#d8576b"
             ],
             [
              0.6666666666666666,
              "#ed7953"
             ],
             [
              0.7777777777777778,
              "#fb9f3a"
             ],
             [
              0.8888888888888888,
              "#fdca26"
             ],
             [
              1,
              "#f0f921"
             ]
            ],
            "type": "histogram2dcontour"
           }
          ],
          "mesh3d": [
           {
            "colorbar": {
             "outlinewidth": 0,
             "ticks": ""
            },
            "type": "mesh3d"
           }
          ],
          "parcoords": [
           {
            "line": {
             "colorbar": {
              "outlinewidth": 0,
              "ticks": ""
             }
            },
            "type": "parcoords"
           }
          ],
          "pie": [
           {
            "automargin": true,
            "type": "pie"
           }
          ],
          "scatter": [
           {
            "marker": {
             "colorbar": {
              "outlinewidth": 0,
              "ticks": ""
             }
            },
            "type": "scatter"
           }
          ],
          "scatter3d": [
           {
            "line": {
             "colorbar": {
              "outlinewidth": 0,
              "ticks": ""
             }
            },
            "marker": {
             "colorbar": {
              "outlinewidth": 0,
              "ticks": ""
             }
            },
            "type": "scatter3d"
           }
          ],
          "scattercarpet": [
           {
            "marker": {
             "colorbar": {
              "outlinewidth": 0,
              "ticks": ""
             }
            },
            "type": "scattercarpet"
           }
          ],
          "scattergeo": [
           {
            "marker": {
             "colorbar": {
              "outlinewidth": 0,
              "ticks": ""
             }
            },
            "type": "scattergeo"
           }
          ],
          "scattergl": [
           {
            "marker": {
             "colorbar": {
              "outlinewidth": 0,
              "ticks": ""
             }
            },
            "type": "scattergl"
           }
          ],
          "scattermapbox": [
           {
            "marker": {
             "colorbar": {
              "outlinewidth": 0,
              "ticks": ""
             }
            },
            "type": "scattermapbox"
           }
          ],
          "scatterpolar": [
           {
            "marker": {
             "colorbar": {
              "outlinewidth": 0,
              "ticks": ""
             }
            },
            "type": "scatterpolar"
           }
          ],
          "scatterpolargl": [
           {
            "marker": {
             "colorbar": {
              "outlinewidth": 0,
              "ticks": ""
             }
            },
            "type": "scatterpolargl"
           }
          ],
          "scatterternary": [
           {
            "marker": {
             "colorbar": {
              "outlinewidth": 0,
              "ticks": ""
             }
            },
            "type": "scatterternary"
           }
          ],
          "surface": [
           {
            "colorbar": {
             "outlinewidth": 0,
             "ticks": ""
            },
            "colorscale": [
             [
              0,
              "#0d0887"
             ],
             [
              0.1111111111111111,
              "#46039f"
             ],
             [
              0.2222222222222222,
              "#7201a8"
             ],
             [
              0.3333333333333333,
              "#9c179e"
             ],
             [
              0.4444444444444444,
              "#bd3786"
             ],
             [
              0.5555555555555556,
              "#d8576b"
             ],
             [
              0.6666666666666666,
              "#ed7953"
             ],
             [
              0.7777777777777778,
              "#fb9f3a"
             ],
             [
              0.8888888888888888,
              "#fdca26"
             ],
             [
              1,
              "#f0f921"
             ]
            ],
            "type": "surface"
           }
          ],
          "table": [
           {
            "cells": {
             "fill": {
              "color": "#EBF0F8"
             },
             "line": {
              "color": "white"
             }
            },
            "header": {
             "fill": {
              "color": "#C8D4E3"
             },
             "line": {
              "color": "white"
             }
            },
            "type": "table"
           }
          ]
         },
         "layout": {
          "annotationdefaults": {
           "arrowcolor": "#2a3f5f",
           "arrowhead": 0,
           "arrowwidth": 1
          },
          "autotypenumbers": "strict",
          "coloraxis": {
           "colorbar": {
            "outlinewidth": 0,
            "ticks": ""
           }
          },
          "colorscale": {
           "diverging": [
            [
             0,
             "#8e0152"
            ],
            [
             0.1,
             "#c51b7d"
            ],
            [
             0.2,
             "#de77ae"
            ],
            [
             0.3,
             "#f1b6da"
            ],
            [
             0.4,
             "#fde0ef"
            ],
            [
             0.5,
             "#f7f7f7"
            ],
            [
             0.6,
             "#e6f5d0"
            ],
            [
             0.7,
             "#b8e186"
            ],
            [
             0.8,
             "#7fbc41"
            ],
            [
             0.9,
             "#4d9221"
            ],
            [
             1,
             "#276419"
            ]
           ],
           "sequential": [
            [
             0,
             "#0d0887"
            ],
            [
             0.1111111111111111,
             "#46039f"
            ],
            [
             0.2222222222222222,
             "#7201a8"
            ],
            [
             0.3333333333333333,
             "#9c179e"
            ],
            [
             0.4444444444444444,
             "#bd3786"
            ],
            [
             0.5555555555555556,
             "#d8576b"
            ],
            [
             0.6666666666666666,
             "#ed7953"
            ],
            [
             0.7777777777777778,
             "#fb9f3a"
            ],
            [
             0.8888888888888888,
             "#fdca26"
            ],
            [
             1,
             "#f0f921"
            ]
           ],
           "sequentialminus": [
            [
             0,
             "#0d0887"
            ],
            [
             0.1111111111111111,
             "#46039f"
            ],
            [
             0.2222222222222222,
             "#7201a8"
            ],
            [
             0.3333333333333333,
             "#9c179e"
            ],
            [
             0.4444444444444444,
             "#bd3786"
            ],
            [
             0.5555555555555556,
             "#d8576b"
            ],
            [
             0.6666666666666666,
             "#ed7953"
            ],
            [
             0.7777777777777778,
             "#fb9f3a"
            ],
            [
             0.8888888888888888,
             "#fdca26"
            ],
            [
             1,
             "#f0f921"
            ]
           ]
          },
          "colorway": [
           "#636efa",
           "#EF553B",
           "#00cc96",
           "#ab63fa",
           "#FFA15A",
           "#19d3f3",
           "#FF6692",
           "#B6E880",
           "#FF97FF",
           "#FECB52"
          ],
          "font": {
           "color": "#2a3f5f"
          },
          "geo": {
           "bgcolor": "white",
           "lakecolor": "white",
           "landcolor": "#E5ECF6",
           "showlakes": true,
           "showland": true,
           "subunitcolor": "white"
          },
          "hoverlabel": {
           "align": "left"
          },
          "hovermode": "closest",
          "mapbox": {
           "style": "light"
          },
          "paper_bgcolor": "white",
          "plot_bgcolor": "#E5ECF6",
          "polar": {
           "angularaxis": {
            "gridcolor": "white",
            "linecolor": "white",
            "ticks": ""
           },
           "bgcolor": "#E5ECF6",
           "radialaxis": {
            "gridcolor": "white",
            "linecolor": "white",
            "ticks": ""
           }
          },
          "scene": {
           "xaxis": {
            "backgroundcolor": "#E5ECF6",
            "gridcolor": "white",
            "gridwidth": 2,
            "linecolor": "white",
            "showbackground": true,
            "ticks": "",
            "zerolinecolor": "white"
           },
           "yaxis": {
            "backgroundcolor": "#E5ECF6",
            "gridcolor": "white",
            "gridwidth": 2,
            "linecolor": "white",
            "showbackground": true,
            "ticks": "",
            "zerolinecolor": "white"
           },
           "zaxis": {
            "backgroundcolor": "#E5ECF6",
            "gridcolor": "white",
            "gridwidth": 2,
            "linecolor": "white",
            "showbackground": true,
            "ticks": "",
            "zerolinecolor": "white"
           }
          },
          "shapedefaults": {
           "line": {
            "color": "#2a3f5f"
           }
          },
          "ternary": {
           "aaxis": {
            "gridcolor": "white",
            "linecolor": "white",
            "ticks": ""
           },
           "baxis": {
            "gridcolor": "white",
            "linecolor": "white",
            "ticks": ""
           },
           "bgcolor": "#E5ECF6",
           "caxis": {
            "gridcolor": "white",
            "linecolor": "white",
            "ticks": ""
           }
          },
          "title": {
           "x": 0.05
          },
          "xaxis": {
           "automargin": true,
           "gridcolor": "white",
           "linecolor": "white",
           "ticks": "",
           "title": {
            "standoff": 15
           },
           "zerolinecolor": "white",
           "zerolinewidth": 2
          },
          "yaxis": {
           "automargin": true,
           "gridcolor": "white",
           "linecolor": "white",
           "ticks": "",
           "title": {
            "standoff": 15
           },
           "zerolinecolor": "white",
           "zerolinewidth": 2
          }
         }
        },
        "xaxis": {
         "anchor": "y",
         "domain": [
          0,
          1
         ],
         "title": {
          "text": "eta"
         }
        },
        "yaxis": {
         "anchor": "x",
         "domain": [
          0,
          1
         ],
         "title": {
          "text": "target"
         }
        }
       }
      },
      "text/html": [
       "<div>                            <div id=\"8954808c-1d2e-4159-bb2b-7f26566a6fc6\" class=\"plotly-graph-div\" style=\"height:525px; width:100%;\"></div>            <script type=\"text/javascript\">                require([\"plotly\"], function(Plotly) {                    window.PLOTLYENV=window.PLOTLYENV || {};                                    if (document.getElementById(\"8954808c-1d2e-4159-bb2b-7f26566a6fc6\")) {                    Plotly.newPlot(                        \"8954808c-1d2e-4159-bb2b-7f26566a6fc6\",                        [{\"hovertemplate\":\"eta=%{x}<br>target=%{marker.color}<extra></extra>\",\"legendgroup\":\"\",\"marker\":{\"color\":[3.406039112429664,3.40626141448061,3.40626141448061,3.406039112429664,3.406039112429664,3.406039112429664,3.406039112429664,3.406039112429664,3.406039112429664,3.406039112429664,3.406039112429664,3.406039112429664,3.406039112429664,3.40626141448061,3.406039112429664,3.406039112429664,3.406039112429664,3.406039112429664,3.406039112429664,3.406039112429664,3.406039112429664,3.406039112429664],\"coloraxis\":\"coloraxis\",\"symbol\":\"circle\"},\"mode\":\"markers\",\"name\":\"\",\"orientation\":\"v\",\"showlegend\":false,\"type\":\"scatter\",\"x\":[0.081147264764481,0.024985688606293,0.09667256992895701,0.09136178827732301,0.010407624025950002,0.080920384672324,0.023187787073564003,0.076487819542895,0.0913912476637,0.07160792346698201,0.09180626220658401,0.021074920928029,0.094002306527906,0.010642284894208001,0.023378487971820003,0.09678784116971101,0.09235601138421401,0.092641815529273,0.021826496464474,0.082853378103524,0.029211068254148,0.099322561497774],\"xaxis\":\"x\",\"y\":[3.406039112429664,3.40626141448061,3.40626141448061,3.406039112429664,3.406039112429664,3.406039112429664,3.406039112429664,3.406039112429664,3.406039112429664,3.406039112429664,3.406039112429664,3.406039112429664,3.406039112429664,3.40626141448061,3.406039112429664,3.406039112429664,3.406039112429664,3.406039112429664,3.406039112429664,3.406039112429664,3.406039112429664,3.406039112429664],\"yaxis\":\"y\"}],                        {\"coloraxis\":{\"colorbar\":{\"title\":{\"text\":\"target\"}},\"colorscale\":[[0.0,\"#0d0887\"],[0.1111111111111111,\"#46039f\"],[0.2222222222222222,\"#7201a8\"],[0.3333333333333333,\"#9c179e\"],[0.4444444444444444,\"#bd3786\"],[0.5555555555555556,\"#d8576b\"],[0.6666666666666666,\"#ed7953\"],[0.7777777777777778,\"#fb9f3a\"],[0.8888888888888888,\"#fdca26\"],[1.0,\"#f0f921\"]]},\"legend\":{\"tracegroupgap\":0},\"margin\":{\"t\":60},\"template\":{\"data\":{\"bar\":[{\"error_x\":{\"color\":\"#2a3f5f\"},\"error_y\":{\"color\":\"#2a3f5f\"},\"marker\":{\"line\":{\"color\":\"#E5ECF6\",\"width\":0.5},\"pattern\":{\"fillmode\":\"overlay\",\"size\":10,\"solidity\":0.2}},\"type\":\"bar\"}],\"barpolar\":[{\"marker\":{\"line\":{\"color\":\"#E5ECF6\",\"width\":0.5},\"pattern\":{\"fillmode\":\"overlay\",\"size\":10,\"solidity\":0.2}},\"type\":\"barpolar\"}],\"carpet\":[{\"aaxis\":{\"endlinecolor\":\"#2a3f5f\",\"gridcolor\":\"white\",\"linecolor\":\"white\",\"minorgridcolor\":\"white\",\"startlinecolor\":\"#2a3f5f\"},\"baxis\":{\"endlinecolor\":\"#2a3f5f\",\"gridcolor\":\"white\",\"linecolor\":\"white\",\"minorgridcolor\":\"white\",\"startlinecolor\":\"#2a3f5f\"},\"type\":\"carpet\"}],\"choropleth\":[{\"colorbar\":{\"outlinewidth\":0,\"ticks\":\"\"},\"type\":\"choropleth\"}],\"contour\":[{\"colorbar\":{\"outlinewidth\":0,\"ticks\":\"\"},\"colorscale\":[[0.0,\"#0d0887\"],[0.1111111111111111,\"#46039f\"],[0.2222222222222222,\"#7201a8\"],[0.3333333333333333,\"#9c179e\"],[0.4444444444444444,\"#bd3786\"],[0.5555555555555556,\"#d8576b\"],[0.6666666666666666,\"#ed7953\"],[0.7777777777777778,\"#fb9f3a\"],[0.8888888888888888,\"#fdca26\"],[1.0,\"#f0f921\"]],\"type\":\"contour\"}],\"contourcarpet\":[{\"colorbar\":{\"outlinewidth\":0,\"ticks\":\"\"},\"type\":\"contourcarpet\"}],\"heatmap\":[{\"colorbar\":{\"outlinewidth\":0,\"ticks\":\"\"},\"colorscale\":[[0.0,\"#0d0887\"],[0.1111111111111111,\"#46039f\"],[0.2222222222222222,\"#7201a8\"],[0.3333333333333333,\"#9c179e\"],[0.4444444444444444,\"#bd3786\"],[0.5555555555555556,\"#d8576b\"],[0.6666666666666666,\"#ed7953\"],[0.7777777777777778,\"#fb9f3a\"],[0.8888888888888888,\"#fdca26\"],[1.0,\"#f0f921\"]],\"type\":\"heatmap\"}],\"heatmapgl\":[{\"colorbar\":{\"outlinewidth\":0,\"ticks\":\"\"},\"colorscale\":[[0.0,\"#0d0887\"],[0.1111111111111111,\"#46039f\"],[0.2222222222222222,\"#7201a8\"],[0.3333333333333333,\"#9c179e\"],[0.4444444444444444,\"#bd3786\"],[0.5555555555555556,\"#d8576b\"],[0.6666666666666666,\"#ed7953\"],[0.7777777777777778,\"#fb9f3a\"],[0.8888888888888888,\"#fdca26\"],[1.0,\"#f0f921\"]],\"type\":\"heatmapgl\"}],\"histogram\":[{\"marker\":{\"pattern\":{\"fillmode\":\"overlay\",\"size\":10,\"solidity\":0.2}},\"type\":\"histogram\"}],\"histogram2d\":[{\"colorbar\":{\"outlinewidth\":0,\"ticks\":\"\"},\"colorscale\":[[0.0,\"#0d0887\"],[0.1111111111111111,\"#46039f\"],[0.2222222222222222,\"#7201a8\"],[0.3333333333333333,\"#9c179e\"],[0.4444444444444444,\"#bd3786\"],[0.5555555555555556,\"#d8576b\"],[0.6666666666666666,\"#ed7953\"],[0.7777777777777778,\"#fb9f3a\"],[0.8888888888888888,\"#fdca26\"],[1.0,\"#f0f921\"]],\"type\":\"histogram2d\"}],\"histogram2dcontour\":[{\"colorbar\":{\"outlinewidth\":0,\"ticks\":\"\"},\"colorscale\":[[0.0,\"#0d0887\"],[0.1111111111111111,\"#46039f\"],[0.2222222222222222,\"#7201a8\"],[0.3333333333333333,\"#9c179e\"],[0.4444444444444444,\"#bd3786\"],[0.5555555555555556,\"#d8576b\"],[0.6666666666666666,\"#ed7953\"],[0.7777777777777778,\"#fb9f3a\"],[0.8888888888888888,\"#fdca26\"],[1.0,\"#f0f921\"]],\"type\":\"histogram2dcontour\"}],\"mesh3d\":[{\"colorbar\":{\"outlinewidth\":0,\"ticks\":\"\"},\"type\":\"mesh3d\"}],\"parcoords\":[{\"line\":{\"colorbar\":{\"outlinewidth\":0,\"ticks\":\"\"}},\"type\":\"parcoords\"}],\"pie\":[{\"automargin\":true,\"type\":\"pie\"}],\"scatter\":[{\"marker\":{\"colorbar\":{\"outlinewidth\":0,\"ticks\":\"\"}},\"type\":\"scatter\"}],\"scatter3d\":[{\"line\":{\"colorbar\":{\"outlinewidth\":0,\"ticks\":\"\"}},\"marker\":{\"colorbar\":{\"outlinewidth\":0,\"ticks\":\"\"}},\"type\":\"scatter3d\"}],\"scattercarpet\":[{\"marker\":{\"colorbar\":{\"outlinewidth\":0,\"ticks\":\"\"}},\"type\":\"scattercarpet\"}],\"scattergeo\":[{\"marker\":{\"colorbar\":{\"outlinewidth\":0,\"ticks\":\"\"}},\"type\":\"scattergeo\"}],\"scattergl\":[{\"marker\":{\"colorbar\":{\"outlinewidth\":0,\"ticks\":\"\"}},\"type\":\"scattergl\"}],\"scattermapbox\":[{\"marker\":{\"colorbar\":{\"outlinewidth\":0,\"ticks\":\"\"}},\"type\":\"scattermapbox\"}],\"scatterpolar\":[{\"marker\":{\"colorbar\":{\"outlinewidth\":0,\"ticks\":\"\"}},\"type\":\"scatterpolar\"}],\"scatterpolargl\":[{\"marker\":{\"colorbar\":{\"outlinewidth\":0,\"ticks\":\"\"}},\"type\":\"scatterpolargl\"}],\"scatterternary\":[{\"marker\":{\"colorbar\":{\"outlinewidth\":0,\"ticks\":\"\"}},\"type\":\"scatterternary\"}],\"surface\":[{\"colorbar\":{\"outlinewidth\":0,\"ticks\":\"\"},\"colorscale\":[[0.0,\"#0d0887\"],[0.1111111111111111,\"#46039f\"],[0.2222222222222222,\"#7201a8\"],[0.3333333333333333,\"#9c179e\"],[0.4444444444444444,\"#bd3786\"],[0.5555555555555556,\"#d8576b\"],[0.6666666666666666,\"#ed7953\"],[0.7777777777777778,\"#fb9f3a\"],[0.8888888888888888,\"#fdca26\"],[1.0,\"#f0f921\"]],\"type\":\"surface\"}],\"table\":[{\"cells\":{\"fill\":{\"color\":\"#EBF0F8\"},\"line\":{\"color\":\"white\"}},\"header\":{\"fill\":{\"color\":\"#C8D4E3\"},\"line\":{\"color\":\"white\"}},\"type\":\"table\"}]},\"layout\":{\"annotationdefaults\":{\"arrowcolor\":\"#2a3f5f\",\"arrowhead\":0,\"arrowwidth\":1},\"autotypenumbers\":\"strict\",\"coloraxis\":{\"colorbar\":{\"outlinewidth\":0,\"ticks\":\"\"}},\"colorscale\":{\"diverging\":[[0,\"#8e0152\"],[0.1,\"#c51b7d\"],[0.2,\"#de77ae\"],[0.3,\"#f1b6da\"],[0.4,\"#fde0ef\"],[0.5,\"#f7f7f7\"],[0.6,\"#e6f5d0\"],[0.7,\"#b8e186\"],[0.8,\"#7fbc41\"],[0.9,\"#4d9221\"],[1,\"#276419\"]],\"sequential\":[[0.0,\"#0d0887\"],[0.1111111111111111,\"#46039f\"],[0.2222222222222222,\"#7201a8\"],[0.3333333333333333,\"#9c179e\"],[0.4444444444444444,\"#bd3786\"],[0.5555555555555556,\"#d8576b\"],[0.6666666666666666,\"#ed7953\"],[0.7777777777777778,\"#fb9f3a\"],[0.8888888888888888,\"#fdca26\"],[1.0,\"#f0f921\"]],\"sequentialminus\":[[0.0,\"#0d0887\"],[0.1111111111111111,\"#46039f\"],[0.2222222222222222,\"#7201a8\"],[0.3333333333333333,\"#9c179e\"],[0.4444444444444444,\"#bd3786\"],[0.5555555555555556,\"#d8576b\"],[0.6666666666666666,\"#ed7953\"],[0.7777777777777778,\"#fb9f3a\"],[0.8888888888888888,\"#fdca26\"],[1.0,\"#f0f921\"]]},\"colorway\":[\"#636efa\",\"#EF553B\",\"#00cc96\",\"#ab63fa\",\"#FFA15A\",\"#19d3f3\",\"#FF6692\",\"#B6E880\",\"#FF97FF\",\"#FECB52\"],\"font\":{\"color\":\"#2a3f5f\"},\"geo\":{\"bgcolor\":\"white\",\"lakecolor\":\"white\",\"landcolor\":\"#E5ECF6\",\"showlakes\":true,\"showland\":true,\"subunitcolor\":\"white\"},\"hoverlabel\":{\"align\":\"left\"},\"hovermode\":\"closest\",\"mapbox\":{\"style\":\"light\"},\"paper_bgcolor\":\"white\",\"plot_bgcolor\":\"#E5ECF6\",\"polar\":{\"angularaxis\":{\"gridcolor\":\"white\",\"linecolor\":\"white\",\"ticks\":\"\"},\"bgcolor\":\"#E5ECF6\",\"radialaxis\":{\"gridcolor\":\"white\",\"linecolor\":\"white\",\"ticks\":\"\"}},\"scene\":{\"xaxis\":{\"backgroundcolor\":\"#E5ECF6\",\"gridcolor\":\"white\",\"gridwidth\":2,\"linecolor\":\"white\",\"showbackground\":true,\"ticks\":\"\",\"zerolinecolor\":\"white\"},\"yaxis\":{\"backgroundcolor\":\"#E5ECF6\",\"gridcolor\":\"white\",\"gridwidth\":2,\"linecolor\":\"white\",\"showbackground\":true,\"ticks\":\"\",\"zerolinecolor\":\"white\"},\"zaxis\":{\"backgroundcolor\":\"#E5ECF6\",\"gridcolor\":\"white\",\"gridwidth\":2,\"linecolor\":\"white\",\"showbackground\":true,\"ticks\":\"\",\"zerolinecolor\":\"white\"}},\"shapedefaults\":{\"line\":{\"color\":\"#2a3f5f\"}},\"ternary\":{\"aaxis\":{\"gridcolor\":\"white\",\"linecolor\":\"white\",\"ticks\":\"\"},\"baxis\":{\"gridcolor\":\"white\",\"linecolor\":\"white\",\"ticks\":\"\"},\"bgcolor\":\"#E5ECF6\",\"caxis\":{\"gridcolor\":\"white\",\"linecolor\":\"white\",\"ticks\":\"\"}},\"title\":{\"x\":0.05},\"xaxis\":{\"automargin\":true,\"gridcolor\":\"white\",\"linecolor\":\"white\",\"ticks\":\"\",\"title\":{\"standoff\":15},\"zerolinecolor\":\"white\",\"zerolinewidth\":2},\"yaxis\":{\"automargin\":true,\"gridcolor\":\"white\",\"linecolor\":\"white\",\"ticks\":\"\",\"title\":{\"standoff\":15},\"zerolinecolor\":\"white\",\"zerolinewidth\":2}}},\"xaxis\":{\"anchor\":\"y\",\"domain\":[0.0,1.0],\"title\":{\"text\":\"eta\"}},\"yaxis\":{\"anchor\":\"x\",\"domain\":[0.0,1.0],\"title\":{\"text\":\"target\"}}},                        {\"responsive\": true}                    ).then(function(){\n",
       "                            \n",
       "var gd = document.getElementById('8954808c-1d2e-4159-bb2b-7f26566a6fc6');\n",
       "var x = new MutationObserver(function (mutations, observer) {{\n",
       "        var display = window.getComputedStyle(gd).display;\n",
       "        if (!display || display === 'none') {{\n",
       "            console.log([gd, 'removed!']);\n",
       "            Plotly.purge(gd);\n",
       "            observer.disconnect();\n",
       "        }}\n",
       "}});\n",
       "\n",
       "// Listen for the removal of the full notebook cells\n",
       "var notebookContainer = gd.closest('#notebook-container');\n",
       "if (notebookContainer) {{\n",
       "    x.observe(notebookContainer, {childList: true});\n",
       "}}\n",
       "\n",
       "// Listen for the clearing of the current output cell\n",
       "var outputEl = gd.closest('.output');\n",
       "if (outputEl) {{\n",
       "    x.observe(outputEl, {childList: true});\n",
       "}}\n",
       "\n",
       "                        })                };                });            </script>        </div>"
      ]
     },
     "metadata": {},
     "output_type": "display_data"
    }
   ],
   "source": [
    "px.scatter(df1, x=\"eta\", y=\"target\", color=\"target\")"
   ]
  },
  {
   "cell_type": "code",
   "execution_count": null,
   "metadata": {
    "ExecuteTime": {
     "end_time": "2021-08-25T20:24:53.991388Z",
     "start_time": "2021-08-25T20:24:53.517389Z"
    }
   },
   "outputs": [],
   "source": [
    "px.scatter_3d(df1, x = \"C\", y = \"epsilon\", z = \"target\", color = \"target\")"
   ]
  },
  {
   "cell_type": "code",
   "execution_count": null,
   "metadata": {
    "ExecuteTime": {
     "end_time": "2021-07-21T03:46:51.213923Z",
     "start_time": "2021-07-21T03:46:51.183920Z"
    }
   },
   "outputs": [],
   "source": [
    "df.sort_values(\"target\")"
   ]
  },
  {
   "cell_type": "code",
   "execution_count": null,
   "metadata": {},
   "outputs": [],
   "source": []
  }
 ],
 "metadata": {
  "kernelspec": {
   "display_name": "Python 3 (ipykernel)",
   "language": "python",
   "name": "python3"
  },
  "language_info": {
   "codemirror_mode": {
    "name": "ipython",
    "version": 3
   },
   "file_extension": ".py",
   "mimetype": "text/x-python",
   "name": "python",
   "nbconvert_exporter": "python",
   "pygments_lexer": "ipython3",
   "version": "3.9.7"
  },
  "toc": {
   "base_numbering": 1,
   "nav_menu": {},
   "number_sections": true,
   "sideBar": true,
   "skip_h1_title": false,
   "title_cell": "Table of Contents",
   "title_sidebar": "Contents",
   "toc_cell": false,
   "toc_position": {},
   "toc_section_display": true,
   "toc_window_display": false
  }
 },
 "nbformat": 4,
 "nbformat_minor": 4
}
