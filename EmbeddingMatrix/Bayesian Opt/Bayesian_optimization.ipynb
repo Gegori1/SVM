{
 "cells": [
  {
   "cell_type": "markdown",
   "metadata": {},
   "source": [
    "## Libraries"
   ]
  },
  {
   "cell_type": "code",
   "execution_count": 126,
   "metadata": {
    "ExecuteTime": {
     "end_time": "2021-08-25T22:27:06.600908Z",
     "start_time": "2021-08-25T22:27:06.589870Z"
    }
   },
   "outputs": [],
   "source": [
    "import matplotlib.pyplot as plt\n",
    "import pandas as pd\n",
    "import numpy as np\n",
    "from pmdarima import arima\n",
    "from sklearn.preprocessing import StandardScaler\n",
    "from sklearn.model_selection import train_test_split\n",
    "from sklearn.datasets import load_boston\n",
    "from pathlib import Path"
   ]
  },
  {
   "cell_type": "code",
   "execution_count": 127,
   "metadata": {
    "ExecuteTime": {
     "end_time": "2021-08-25T22:27:07.005876Z",
     "start_time": "2021-08-25T22:27:06.994873Z"
    }
   },
   "outputs": [],
   "source": [
    "from bayes_opt import BayesianOptimization\n",
    "from bayes_opt.logger import JSONLogger\n",
    "from bayes_opt.event import Events"
   ]
  },
  {
   "cell_type": "code",
   "execution_count": 128,
   "metadata": {
    "ExecuteTime": {
     "end_time": "2021-08-25T22:27:07.052869Z",
     "start_time": "2021-08-25T22:27:07.042878Z"
    }
   },
   "outputs": [],
   "source": [
    "from sklearn.linear_model import Ridge, Lasso\n",
    "from sklearn.svm import SVR\n",
    "from xgboost import XGBRegressor"
   ]
  },
  {
   "cell_type": "code",
   "execution_count": 129,
   "metadata": {
    "ExecuteTime": {
     "end_time": "2021-08-25T22:27:07.286873Z",
     "start_time": "2021-08-25T22:27:07.279879Z"
    }
   },
   "outputs": [],
   "source": [
    "from pathlib import Path"
   ]
  },
  {
   "cell_type": "code",
   "execution_count": 130,
   "metadata": {
    "ExecuteTime": {
     "end_time": "2021-08-25T22:27:07.519094Z",
     "start_time": "2021-08-25T22:27:07.461879Z"
    }
   },
   "outputs": [],
   "source": [
    "%run ../Libraries/SVRmape_library.ipynb\n",
    "%run ../Utils/Utilss.ipynb"
   ]
  },
  {
   "cell_type": "markdown",
   "metadata": {},
   "source": [
    "## Load data"
   ]
  },
  {
   "cell_type": "code",
   "execution_count": 131,
   "metadata": {
    "ExecuteTime": {
     "end_time": "2021-08-25T22:27:08.126467Z",
     "start_time": "2021-08-25T22:27:08.039475Z"
    }
   },
   "outputs": [],
   "source": [
    "pathtofile = Path().resolve().parent / \"Data\" / \"Data1.csv\"\n",
    "df = pd.read_csv(pathtofile)[[\"fecha\", \"MWh\"]].dropna()"
   ]
  },
  {
   "cell_type": "code",
   "execution_count": 132,
   "metadata": {
    "ExecuteTime": {
     "end_time": "2021-08-25T22:27:08.251470Z",
     "start_time": "2021-08-25T22:27:08.153467Z"
    }
   },
   "outputs": [],
   "source": [
    "df[\"fecha\"] = pd.to_datetime(df[\"fecha\"], format = \"%m/%d/%Y\")\n",
    "df.set_index(\"fecha\", inplace = True)\n",
    "df = df.groupby(pd.Grouper(freq='MS')).agg({\"MWh\":\"mean\"})"
   ]
  },
  {
   "cell_type": "code",
   "execution_count": 133,
   "metadata": {
    "ExecuteTime": {
     "end_time": "2021-08-25T22:27:08.375469Z",
     "start_time": "2021-08-25T22:27:08.352490Z"
    }
   },
   "outputs": [],
   "source": [
    "train = df.query(\"index < 2018\")\n",
    "test = df.query(\"index > '2017-12-31'\")"
   ]
  },
  {
   "cell_type": "code",
   "execution_count": 134,
   "metadata": {
    "ExecuteTime": {
     "end_time": "2021-08-25T22:27:08.613309Z",
     "start_time": "2021-08-25T22:27:08.590621Z"
    }
   },
   "outputs": [],
   "source": [
    "df_trf = Utilss.transform_diflog(train, offset = 1)"
   ]
  },
  {
   "cell_type": "code",
   "execution_count": 135,
   "metadata": {
    "ExecuteTime": {
     "end_time": "2021-08-25T22:27:09.018928Z",
     "start_time": "2021-08-25T22:27:09.003927Z"
    }
   },
   "outputs": [],
   "source": [
    "lag_order = 4\n",
    "horizon = df.size - df_trf.size"
   ]
  },
  {
   "cell_type": "code",
   "execution_count": 136,
   "metadata": {
    "ExecuteTime": {
     "end_time": "2021-08-25T22:27:09.080928Z",
     "start_time": "2021-08-25T22:27:09.049921Z"
    }
   },
   "outputs": [],
   "source": [
    "# embed matrix\n",
    "mbd = Utilss.embed(df_trf, lag_order)"
   ]
  },
  {
   "cell_type": "code",
   "execution_count": 137,
   "metadata": {
    "ExecuteTime": {
     "end_time": "2021-08-25T22:27:09.563920Z",
     "start_time": "2021-08-25T22:27:09.538923Z"
    }
   },
   "outputs": [],
   "source": [
    "# Splitting to training and testing data\n",
    "X_train, X_test, y_train, y_test1 = Utilss.train_test(mbd, df, horizon)"
   ]
  },
  {
   "cell_type": "code",
   "execution_count": 138,
   "metadata": {
    "ExecuteTime": {
     "end_time": "2021-08-25T22:27:10.030964Z",
     "start_time": "2021-08-25T22:27:10.012926Z"
    }
   },
   "outputs": [],
   "source": [
    "y_test = y_test1.to_numpy().reshape(-1)"
   ]
  },
  {
   "cell_type": "markdown",
   "metadata": {},
   "source": [
    "## Optimization function"
   ]
  },
  {
   "cell_type": "code",
   "execution_count": 145,
   "metadata": {
    "ExecuteTime": {
     "end_time": "2021-08-25T22:29:58.685937Z",
     "start_time": "2021-08-25T22:29:58.665938Z"
    }
   },
   "outputs": [],
   "source": [
    "def opt_bas(C, epsilon, gamma):\n",
    "    \n",
    "    # parameters\n",
    "    hyperparameters = {\n",
    "#         'alpha' : alpha,\n",
    "#         'max_iter':10000,\n",
    "        'kernel' : \"rbf\",\n",
    "        'C' : C, \n",
    "        'epsilon' : epsilon,\n",
    "        'gamma' : gamma,\n",
    "#         \"n_estimators\" : int(n_estimators),\n",
    "#         \"max_depth\" : 3,\n",
    "#         \"eta\" : eta,\n",
    "#         \"objective\": \"reg:squarederror\",\n",
    "    }\n",
    "    \n",
    "    # fit and predict\n",
    "    predict = Utilss.forecasting(SVR_mape, X_train, y_train, **hyperparameters)\n",
    "    \n",
    "    y_pred = Utilss.backtransform(predict, train, 1)\n",
    "    \n",
    "    # get score\n",
    "    mape = np.mean(np.abs((y_test - y_pred)/y_test))*100\n",
    "    \n",
    "    return -mape"
   ]
  },
  {
   "cell_type": "markdown",
   "metadata": {},
   "source": [
    "## Run optimization"
   ]
  },
  {
   "cell_type": "code",
   "execution_count": 146,
   "metadata": {
    "ExecuteTime": {
     "end_time": "2021-08-25T22:30:00.543257Z",
     "start_time": "2021-08-25T22:30:00.528227Z"
    }
   },
   "outputs": [],
   "source": [
    "class newJSONLogger(JSONLogger):\n",
    "\n",
    "      def __init__(self, path):\n",
    "            self._path=None\n",
    "            super(JSONLogger, self).__init__()\n",
    "            self._path = path if path[-5:] == \".json\" else path + \".json\""
   ]
  },
  {
   "cell_type": "code",
   "execution_count": 147,
   "metadata": {
    "ExecuteTime": {
     "end_time": "2021-08-25T22:30:00.947399Z",
     "start_time": "2021-08-25T22:30:00.930370Z"
    }
   },
   "outputs": [],
   "source": [
    "# Bounded region of parameter space\n",
    "# pbounds = {'n_estimators': (120, 125), 'eta': (0.01, 0.1)}\n",
    "pbounds = {'C': (0.01, 10), 'epsilon': (0.01, 0.10), 'gamma': (0.01, 10)}\n",
    "# pbounds = {'alpha':(0.001, 100)}\n",
    "\n",
    "# Bayes optimizer instantiation\n",
    "optimizer = BayesianOptimization(f=opt_bas, \n",
    "                                 pbounds=pbounds, \n",
    "                                 random_state=1, verbose=2, \n",
    "                                )\n",
    "\n",
    "# keep data\n",
    "log_path = Path().resolve() / \"Logs\" / \"SVR_mape.json\"\n",
    "logger = newJSONLogger(path = str(log_path))\n",
    "optimizer.subscribe(Events.OPTIMIZATION_STEP, logger)"
   ]
  },
  {
   "cell_type": "code",
   "execution_count": 148,
   "metadata": {
    "ExecuteTime": {
     "end_time": "2021-08-25T22:45:17.953372Z",
     "start_time": "2021-08-25T22:30:01.487933Z"
    }
   },
   "outputs": [],
   "source": [
    "optimizer.maximize(init_points=10, n_iter=100)"
   ]
  },
  {
   "cell_type": "code",
   "execution_count": null,
   "metadata": {
    "ExecuteTime": {
     "end_time": "2021-08-25T21:07:18.390157Z",
     "start_time": "2021-08-25T21:07:18.372128Z"
    }
   },
   "outputs": [],
   "source": []
  },
  {
   "cell_type": "code",
   "execution_count": null,
   "metadata": {},
   "outputs": [],
   "source": []
  }
 ],
 "metadata": {
  "kernelspec": {
   "display_name": "Python 3 (ipykernel)",
   "language": "python",
   "name": "python3"
  },
  "language_info": {
   "codemirror_mode": {
    "name": "ipython",
    "version": 3
   },
   "file_extension": ".py",
   "mimetype": "text/x-python",
   "name": "python",
   "nbconvert_exporter": "python",
   "pygments_lexer": "ipython3",
   "version": "3.9.7"
  },
  "toc": {
   "base_numbering": 1,
   "nav_menu": {},
   "number_sections": true,
   "sideBar": true,
   "skip_h1_title": false,
   "title_cell": "Table of Contents",
   "title_sidebar": "Contents",
   "toc_cell": false,
   "toc_position": {},
   "toc_section_display": true,
   "toc_window_display": false
  }
 },
 "nbformat": 4,
 "nbformat_minor": 4
}
