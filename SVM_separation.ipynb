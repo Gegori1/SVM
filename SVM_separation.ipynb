{
 "cells": [
  {
   "cell_type": "markdown",
   "metadata": {},
   "source": [
    "## Observation"
   ]
  },
  {
   "cell_type": "code",
   "execution_count": 1,
   "metadata": {
    "ExecuteTime": {
     "end_time": "2021-03-11T19:51:03.914808Z",
     "start_time": "2021-03-11T19:51:03.903872Z"
    }
   },
   "outputs": [],
   "source": [
    "# Library"
   ]
  },
  {
   "cell_type": "code",
   "execution_count": 2,
   "metadata": {
    "ExecuteTime": {
     "end_time": "2021-03-11T19:51:05.641439Z",
     "start_time": "2021-03-11T19:51:04.089961Z"
    }
   },
   "outputs": [],
   "source": [
    "from sklearn.datasets import make_blobs\n",
    "import matplotlib.pyplot as plt\n",
    "import numpy as np\n",
    "from sklearn.metrics.pairwise import linear_kernel"
   ]
  },
  {
   "cell_type": "code",
   "execution_count": 3,
   "metadata": {
    "ExecuteTime": {
     "end_time": "2021-03-11T19:51:05.656339Z",
     "start_time": "2021-03-11T19:51:05.645142Z"
    }
   },
   "outputs": [],
   "source": [
    "X, y= make_blobs(n_samples = 100, n_features = 2, centers = 2, cluster_std = 3, random_state = 1)"
   ]
  },
  {
   "cell_type": "code",
   "execution_count": 4,
   "metadata": {
    "ExecuteTime": {
     "end_time": "2021-03-11T19:51:05.671106Z",
     "start_time": "2021-03-11T19:51:05.660100Z"
    }
   },
   "outputs": [],
   "source": [
    "y = np.where(y==1, 1, -1)"
   ]
  },
  {
   "cell_type": "code",
   "execution_count": 5,
   "metadata": {
    "ExecuteTime": {
     "end_time": "2021-03-11T19:51:05.905993Z",
     "start_time": "2021-03-11T19:51:05.674063Z"
    }
   },
   "outputs": [
    {
     "data": {
      "image/png": "[encoded data removed]",
      "text/plain": [
       "<Figure size 432x288 with 1 Axes>"
      ]
     },
     "metadata": {
      "needs_background": "light"
     },
     "output_type": "display_data"
    }
   ],
   "source": [
    "plt.scatter(X[:,0], X[:,1], c = y);"
   ]
  },
  {
   "cell_type": "markdown",
   "metadata": {},
   "source": [
    "The equation is written as follows\n",
    "\n",
    "$\\mathcal{D}(\\alpha) = \\alpha YY^TK(x_i, x_j)\\alpha^T - \\alpha^T 1$\n",
    "\n",
    "subject to $\\alpha^T Y = 0$ and $0 \\leq \\alpha \\geq C$"
   ]
  },
  {
   "cell_type": "markdown",
   "metadata": {},
   "source": [
    "Which can be solved for $\\alpha$ with a quadratic optimization library (`cvxopt`)\n",
    "\n",
    "For which we have to create a set of parameters that have the form of the quadratic solver function arguments:\n",
    "\n",
    "$f(x) = x^TQx + qx$\n",
    "\n",
    "subject to $Ax = b$ and $Gx \\leq h$\n",
    "\n",
    "$\\therefore$ $Q \\sim YY^TK(x_i, x_j)$ $\\;\\;\\;\\;\\;\\;$ | $\\;\\;\\;\\;\\;\\;$ $q \\sim 1$ $\\;\\;\\;\\;\\;\\;$ | $\\;\\;\\;\\;\\;\\;$ $A \\sim Y$ $\\;\\;\\;\\;\\;\\;$ | $\\;\\;\\;\\;\\;\\;$ $b \\sim 0$ $\\;\\;\\;\\;\\;\\;$ | $\\;\\;\\;\\;\\;\\;$ $G \\sim I$ $\\;\\;\\;\\;\\;\\;$ | $\\;\\;\\;\\;\\;\\;$ $h \\sim \\leq C \\text{ and } \\geq 0$"
   ]
  },
  {
   "cell_type": "markdown",
   "metadata": {},
   "source": [
    "f(x)"
   ]
  },
  {
   "cell_type": "code",
   "execution_count": 6,
   "metadata": {
    "ExecuteTime": {
     "end_time": "2021-03-11T19:51:05.937606Z",
     "start_time": "2021-03-11T19:51:05.914410Z"
    }
   },
   "outputs": [],
   "source": [
    "# Kernel\n",
    "H = linear_kernel(X, X)\n",
    "# YY\n",
    "Y = np.outer(y, y)\n",
    "# Q\n",
    "Q = np.multiply(Y, H)\n",
    "# q\n",
    "q = -np.ones(y.shape)"
   ]
  },
  {
   "cell_type": "markdown",
   "metadata": {},
   "source": [
    "Ax = b"
   ]
  },
  {
   "cell_type": "code",
   "execution_count": 7,
   "metadata": {
    "ExecuteTime": {
     "end_time": "2021-03-11T19:51:05.969550Z",
     "start_time": "2021-03-11T19:51:05.946315Z"
    }
   },
   "outputs": [],
   "source": [
    "# A\n",
    "A = np.array(y.reshape(1, -1), dtype = \"float64\")\n",
    "# b\n",
    "b = 0.0"
   ]
  },
  {
   "cell_type": "markdown",
   "metadata": {},
   "source": [
    "Gx $\\leq$ h"
   ]
  },
  {
   "cell_type": "code",
   "execution_count": 8,
   "metadata": {
    "ExecuteTime": {
     "end_time": "2021-03-11T19:51:06.326608Z",
     "start_time": "2021-03-11T19:51:06.314602Z"
    }
   },
   "outputs": [],
   "source": [
    "# G\n",
    "# dim y\n",
    "ydim = y.shape[0]\n",
    "# G for 0 < a and a < C\n",
    "G = np.concatenate((np.identity(ydim), -np.identity(ydim)))\n",
    "\n",
    "# C\n",
    "C = 0.001\n",
    "# h for 0 < a and a < C\n",
    "h_ = np.concatenate((C*np.ones(ydim), np.zeros(ydim)))\n",
    "h = h_.reshape(-1, 1)"
   ]
  },
  {
   "cell_type": "markdown",
   "metadata": {},
   "source": [
    "### Optimization"
   ]
  },
  {
   "cell_type": "code",
   "execution_count": 9,
   "metadata": {
    "ExecuteTime": {
     "end_time": "2021-03-11T19:51:06.918497Z",
     "start_time": "2021-03-11T19:51:06.888353Z"
    }
   },
   "outputs": [],
   "source": [
    "from cvxopt import matrix, solvers"
   ]
  },
  {
   "cell_type": "code",
   "execution_count": 10,
   "metadata": {
    "ExecuteTime": {
     "end_time": "2021-03-11T19:51:07.354939Z",
     "start_time": "2021-03-11T19:51:07.347961Z"
    }
   },
   "outputs": [],
   "source": [
    "Q = matrix(Q)\n",
    "q = matrix(q)\n",
    "A = matrix(A)\n",
    "b = matrix(b)\n",
    "G = matrix(G)\n",
    "h = matrix(h)"
   ]
  },
  {
   "cell_type": "code",
   "execution_count": 11,
   "metadata": {
    "ExecuteTime": {
     "end_time": "2021-03-11T19:51:07.927040Z",
     "start_time": "2021-03-11T19:51:07.863174Z"
    }
   },
   "outputs": [
    {
     "name": "stdout",
     "output_type": "stream",
     "text": [
      "     pcost       dcost       gap    pres   dres\n",
      " 0: -8.0037e+00 -1.7195e-01  5e+02  2e+01  3e-14\n",
      " 1: -1.0489e-01 -1.7184e-01  5e+00  2e-01  3e-14\n",
      " 2: -2.5430e-02 -1.6138e-01  2e-01  4e-03  7e-16\n",
      " 3: -2.5139e-02 -4.5752e-02  2e-02  2e-18  3e-16\n",
      " 4: -3.0806e-02 -3.4730e-02  4e-03  2e-18  3e-16\n",
      " 5: -3.2353e-02 -3.3140e-02  8e-04  2e-18  2e-16\n",
      " 6: -3.2712e-02 -3.2800e-02  9e-05  2e-18  2e-16\n",
      " 7: -3.2753e-02 -3.2758e-02  4e-06  2e-18  2e-16\n",
      " 8: -3.2755e-02 -3.2756e-02  9e-08  2e-18  3e-16\n",
      "Optimal solution found.\n"
     ]
    }
   ],
   "source": [
    "sol=solvers.qp(P=Q, q=q,G=G,h=h, A=A, b=b);"
   ]
  },
  {
   "cell_type": "markdown",
   "metadata": {},
   "source": [
    "To get the $\\omega$ and $b$ values, We have to get back to the first order equations from the primal lagrange equation.\n",
    "\n",
    "$\\omega = \\sum_{k = 1}^N \\alpha_k\n",
    "y_k x_k$\n",
    "\n",
    "$b = \\frac{1}{y_k} - \\langle \\omega, x  \\rangle$"
   ]
  },
  {
   "cell_type": "code",
   "execution_count": 14,
   "metadata": {
    "ExecuteTime": {
     "end_time": "2021-03-11T19:51:14.900550Z",
     "start_time": "2021-03-11T19:51:14.677423Z"
    }
   },
   "outputs": [
    {
     "data": {
      "image/png": "[encoded data removed]",
      "text/plain": [
       "<Figure size 432x288 with 1 Axes>"
      ]
     },
     "metadata": {
      "needs_background": "light"
     },
     "output_type": "display_data"
    }
   ],
   "source": [
    "alphas = np.array(sol['x'])\n",
    "indx = alphas > 1e-10\n",
    "alpha_sv = alphas[indx]\n",
    "x_sv = X[indx[:,0],:]\n",
    "y_sv = y[indx[:,0]]\n",
    "\n",
    "#%% w and b\n",
    "w = np.sum(np.c_[alpha_sv*y_sv,alpha_sv*y_sv]*x_sv,axis=0)\n",
    "b = np.mean(1/y_sv-np.dot(x_sv,w))\n",
    "\n",
    "#%% Plotting\n",
    "plt.scatter(X[:,0], X[:,1], c = y)\n",
    "plt.plot(X[:,0],(-w[0]*X[:,0]-b)/w[1])\n",
    "plt.ylim(-10, 10);"
   ]
  },
  {
   "cell_type": "code",
   "execution_count": null,
   "metadata": {},
   "outputs": [],
   "source": [
    "alphas[alphas > 1e-4].shape"
   ]
  },
  {
   "cell_type": "code",
   "execution_count": 124,
   "metadata": {
    "ExecuteTime": {
     "end_time": "2021-03-08T21:00:37.541168Z",
     "start_time": "2021-03-08T21:00:37.235416Z"
    }
   },
   "outputs": [
    {
     "data": {
      "image/png": "[encoded data removed]",
      "text/plain": [
       "<Figure size 432x288 with 1 Axes>"
      ]
     },
     "metadata": {
      "needs_background": "light"
     },
     "output_type": "display_data"
    }
   ],
   "source": [
    "plt.scatter(x_sv[:,0], x_sv[:,1], c = y_sv)\n",
    "plt.plot(X[:,0],(-w[0]*X[:,0]-b)/w[1]);"
   ]
  }
 ],
 "metadata": {
  "kernelspec": {
   "display_name": "Python 3",
   "language": "python",
   "name": "python3"
  },
  "language_info": {
   "codemirror_mode": {
    "name": "ipython",
    "version": 3
   },
   "file_extension": ".py",
   "mimetype": "text/x-python",
   "name": "python",
   "nbconvert_exporter": "python",
   "pygments_lexer": "ipython3",
   "version": "3.7.7"
  },
  "toc": {
   "base_numbering": 1,
   "nav_menu": {},
   "number_sections": true,
   "sideBar": true,
   "skip_h1_title": false,
   "title_cell": "Table of Contents",
   "title_sidebar": "Contents",
   "toc_cell": false,
   "toc_position": {},
   "toc_section_display": true,
   "toc_window_display": false
  }
 },
 "nbformat": 4,
 "nbformat_minor": 4
}
