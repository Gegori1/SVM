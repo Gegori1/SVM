{
 "cells": [
  {
   "cell_type": "markdown",
   "metadata": {},
   "source": [
    "### Libraries"
   ]
  },
  {
   "cell_type": "code",
   "execution_count": 12,
   "metadata": {
    "ExecuteTime": {
     "end_time": "2021-06-17T23:00:10.034377Z",
     "start_time": "2021-06-17T23:00:10.028370Z"
    }
   },
   "outputs": [],
   "source": [
    "from gplearn.genetic import SymbolicTransformer\n",
    "from gplearn.fitness import make_fitness\n",
    "import numpy as np\n",
    "import matplotlib.pyplot as plt\n",
    "import pandas as pd\n",
    "from pathlib import Path\n",
    "from sklearn.model_selection import train_test_split\n",
    "from sklearn.preprocessing import MaxAbsScaler\n",
    "from sklearn.datasets import load_boston\n",
    "from sklearn.utils import check_random_state"
   ]
  },
  {
   "cell_type": "code",
   "execution_count": 13,
   "metadata": {
    "ExecuteTime": {
     "end_time": "2021-06-17T23:00:10.939088Z",
     "start_time": "2021-06-17T23:00:10.923088Z"
    }
   },
   "outputs": [
    {
     "data": {
      "text/html": [
       "        <script type=\"text/javascript\">\n",
       "        window.PlotlyConfig = {MathJaxConfig: 'local'};\n",
       "        if (window.MathJax) {MathJax.Hub.Config({SVG: {font: \"STIX-Web\"}});}\n",
       "        if (typeof require !== 'undefined') {\n",
       "        require.undef(\"plotly\");\n",
       "        requirejs.config({\n",
       "            paths: {\n",
       "                'plotly': ['https://cdn.plot.ly/plotly-latest.min']\n",
       "            }\n",
       "        });\n",
       "        require(['plotly'], function(Plotly) {\n",
       "            window._Plotly = Plotly;\n",
       "        });\n",
       "        }\n",
       "        </script>\n",
       "        "
      ]
     },
     "metadata": {},
     "output_type": "display_data"
    }
   ],
   "source": [
    "import cufflinks as cf\n",
    "cf.go_offline()"
   ]
  },
  {
   "cell_type": "markdown",
   "metadata": {},
   "source": [
    "### Load"
   ]
  },
  {
   "cell_type": "code",
   "execution_count": 14,
   "metadata": {
    "ExecuteTime": {
     "end_time": "2021-06-17T23:00:11.708592Z",
     "start_time": "2021-06-17T23:00:11.675352Z"
    }
   },
   "outputs": [],
   "source": [
    "rng = check_random_state(0)\n",
    "boston = load_boston()\n",
    "perm = rng.permutation(boston.target.size)\n",
    "boston.data = boston.data[perm]\n",
    "boston.target = boston.target[perm]\n",
    "# \n",
    "Y = boston.target\n",
    "X = boston.data"
   ]
  },
  {
   "cell_type": "code",
   "execution_count": 15,
   "metadata": {
    "ExecuteTime": {
     "end_time": "2021-06-17T23:00:12.210216Z",
     "start_time": "2021-06-17T23:00:12.190216Z"
    }
   },
   "outputs": [],
   "source": [
    "#split\n",
    "x_train1, x_test1, y_train1, y_test1 = train_test_split(X, Y, test_size=0.2, random_state = 5)\n",
    "\n",
    "#normalize\n",
    "scaler = MaxAbsScaler().fit(x_train1)\n",
    "X_train = scaler.transform(x_train1); X_test = scaler.transform(x_test1)\n",
    "\n",
    "scaler1 = MaxAbsScaler().fit(y_train1.reshape(-1, 1))\n",
    "y_train = scaler1.transform(y_train1.reshape(-1, 1)).reshape(-1)\n",
    "y_test = scaler1.transform(y_test1.reshape(-1, 1)).reshape(-1)"
   ]
  },
  {
   "cell_type": "markdown",
   "metadata": {},
   "source": [
    "### functions"
   ]
  },
  {
   "cell_type": "code",
   "execution_count": 16,
   "metadata": {
    "ExecuteTime": {
     "end_time": "2021-06-17T23:00:13.226868Z",
     "start_time": "2021-06-17T23:00:13.218868Z"
    }
   },
   "outputs": [],
   "source": [
    "# custom metric\n",
    "def _mape(y, y_pred, w):\n",
    "    diffs = np.abs(np.divide((np.maximum(0.001, y) - np.maximum(0.001, y_pred)),np.maximum(0.001, y)))\n",
    "    \n",
    "    return 100. * np.average(diffs, weights=w)\n",
    "\n",
    "mape = make_fitness(_mape, greater_is_better=False)"
   ]
  },
  {
   "cell_type": "markdown",
   "metadata": {},
   "source": [
    "### model"
   ]
  },
  {
   "cell_type": "code",
   "execution_count": 19,
   "metadata": {
    "ExecuteTime": {
     "end_time": "2021-06-18T00:00:29.086903Z",
     "start_time": "2021-06-17T23:06:26.122913Z"
    }
   },
   "outputs": [
    {
     "name": "stdout",
     "output_type": "stream",
     "text": [
      "    |   Population Average    |             Best Individual              |\n",
      "---- ------------------------- ------------------------------------------ ----------\n",
      " Gen   Length          Fitness   Length          Fitness      OOB Fitness  Time Left\n",
      "   0    11.35          2333.88       19          21.1003          20.8942     17.32m\n",
      "   1     8.70          159.484       19          20.3613          27.4366     16.90m\n",
      "   2     8.47          108.667       16          17.9577           21.492     15.63m\n",
      "   3    10.65           100.03       14          15.7383          10.3593     15.44m\n",
      "   4    14.69          122.732       14          14.6474          20.0172     16.64m\n",
      "   5    18.61          104.792       18           14.636           19.093     17.23m\n",
      "   6    21.24          80.2295       39          13.8813           17.884     16.26m\n",
      "   7    27.81          83.3482       35          14.1482          19.3171     17.59m\n",
      "   8    35.60          83.0146       47          13.6098          12.5427     21.16m\n",
      "   9    40.37          92.5628       35          13.4716          25.3076     20.14m\n",
      "  10    50.64          71.8844       47          13.1696          16.4409     22.67m\n",
      "  11    66.62          58.4335       77           12.985          22.7737     24.78m\n",
      "  12    69.20          49.0562       74          12.6003          21.9298     23.65m\n",
      "  13    72.63          41.2063       75          12.7544          21.4166     23.05m\n",
      "  14    81.49          42.4625       81          12.4495           24.678     24.62m\n",
      "  15    92.09          35.2429       83          12.4256          21.0328     23.99m\n",
      "  16   106.28          44.2848       79          12.3426          18.6875     24.38m\n",
      "  17   115.37          39.3667       90          11.9196          20.4047     26.18m\n",
      "  18   125.17          32.8842      125          12.1453          19.9205     27.60m\n",
      "  19   135.71          29.7682      164          11.8519          19.7283     28.62m\n",
      "  20   145.80          31.3717       87          11.5993          23.2063     27.35m\n",
      "  21   152.70          31.0134      206          11.6924          18.6604     27.28m\n",
      "  22   156.07          31.2841      155          11.6636          17.3921     25.23m\n",
      "  23   165.51          28.5033      225          11.4636          20.5238     25.18m\n",
      "  24   180.69           28.542      187          11.4579          17.9479     25.06m\n",
      "  25   189.10          27.4828      120          11.1698          21.7634     23.32m\n",
      "  26   188.57          27.7665      137          11.2096          20.2787     21.88m\n",
      "  27   190.02          25.9588      297          11.1199          21.7443     19.85m\n",
      "  28   196.63           26.134      276          11.0514          15.8753     21.54m\n",
      "  29   211.13          24.9905      313          10.9455          16.8126     18.84m\n",
      "  30   224.66            26.64      251          10.8169          17.9511     17.42m\n",
      "  31   239.93          22.7309      288          10.5813          19.7365     16.06m\n",
      "  32   268.42          18.6634      313          10.5283          20.9462     16.15m\n",
      "  33   277.03          17.5398      285          10.3874          21.3902     14.19m\n",
      "  34   277.16          19.1574      291          10.4784            20.88     11.31m\n",
      "  35   277.67          16.8351      244          10.3939          22.4287      9.07m\n",
      "  36   273.06          20.6254      244          10.6042          19.3225      6.71m\n",
      "  37   271.69          18.1238      267          10.5906          18.5659      4.49m\n",
      "  38   267.71          17.7555      238          10.4873          20.1254      2.20m\n",
      "  39   264.37          19.2729      236          10.5609          18.7981      0.00s\n"
     ]
    },
    {
     "data": {
      "text/plain": [
       "SymbolicTransformer(const_range=(-1.0, 1.0), feature_names=None,\n",
       "                    function_set=['add', 'sub', 'mul', 'div', 'sqrt', 'log',\n",
       "                                  'abs', 'neg', 'inv', 'max', 'min'],\n",
       "                    generations=40, hall_of_fame=100, init_depth=(2, 6),\n",
       "                    init_method='half and half', low_memory=False,\n",
       "                    max_samples=0.9,\n",
       "                    metric=<gplearn.fitness._Fitness object at 0x000001CE2ACA7748>,\n",
       "                    n_components=10, n_jobs=1, p_crossover=0.9,\n",
       "                    p_hoist_mutation=0.01, p_point_mutation=0.01,\n",
       "                    p_point_replace=0.05, p_subtree_mutation=0.01,\n",
       "                    parsimony_coefficient=0.0005, population_size=20000,\n",
       "                    random_state=0, stopping_criteria=1.0, tournament_size=20,\n",
       "                    verbose=1, warm_start=False)"
      ]
     },
     "execution_count": 19,
     "metadata": {},
     "output_type": "execute_result"
    }
   ],
   "source": [
    "function_set = ['add', 'sub', 'mul', 'div',\n",
    "                'sqrt', 'log', 'abs', 'neg', 'inv',\n",
    "                'max', 'min']\n",
    "model = SymbolicTransformer(generations=40, population_size=20000,\n",
    "                         hall_of_fame=100, n_components=10, \n",
    "                         init_method = \"half and half\", \n",
    "#                          p_hoist_mutation = 0.05, p_crossover = 0.6, p_subtree_mutation = 0.3,\n",
    "                         function_set=function_set, metric = mape,\n",
    "                         parsimony_coefficient=0.0005,\n",
    "                         max_samples=0.9, verbose=1,\n",
    "                         random_state=0)\n",
    "model.fit(X_train, y_train)"
   ]
  },
  {
   "cell_type": "code",
   "execution_count": null,
   "metadata": {
    "ExecuteTime": {
     "end_time": "2021-06-18T00:05:49.472868Z",
     "start_time": "2021-06-18T00:05:49.459617Z"
    }
   },
   "outputs": [],
   "source": [
    "print(model._best_programs[0])\n",
    "# model._Program"
   ]
  },
  {
   "cell_type": "code",
   "execution_count": 24,
   "metadata": {
    "ExecuteTime": {
     "end_time": "2021-06-18T00:06:00.466351Z",
     "start_time": "2021-06-18T00:06:00.407204Z"
    }
   },
   "outputs": [],
   "source": [
    "gp_features = model.transform(boston.data)\n",
    "new_boston = np.hstack((X, gp_features))"
   ]
  },
  {
   "cell_type": "code",
   "execution_count": null,
   "metadata": {},
   "outputs": [],
   "source": []
  },
  {
   "cell_type": "code",
   "execution_count": 29,
   "metadata": {
    "ExecuteTime": {
     "end_time": "2021-06-18T00:21:17.649322Z",
     "start_time": "2021-06-18T00:21:17.585006Z"
    }
   },
   "outputs": [],
   "source": [
    "pd.DataFrame(new_boston).to_csv(\"..//Data//new_boston.csv\")"
   ]
  },
  {
   "cell_type": "code",
   "execution_count": null,
   "metadata": {},
   "outputs": [],
   "source": []
  }
 ],
 "metadata": {
  "kernelspec": {
   "display_name": "Python 3",
   "language": "python",
   "name": "python3"
  },
  "language_info": {
   "codemirror_mode": {
    "name": "ipython",
    "version": 3
   },
   "file_extension": ".py",
   "mimetype": "text/x-python",
   "name": "python",
   "nbconvert_exporter": "python",
   "pygments_lexer": "ipython3",
   "version": "3.7.7"
  },
  "toc": {
   "base_numbering": 1,
   "nav_menu": {},
   "number_sections": true,
   "sideBar": true,
   "skip_h1_title": false,
   "title_cell": "Table of Contents",
   "title_sidebar": "Contents",
   "toc_cell": false,
   "toc_position": {},
   "toc_section_display": true,
   "toc_window_display": false
  }
 },
 "nbformat": 4,
 "nbformat_minor": 4
}
