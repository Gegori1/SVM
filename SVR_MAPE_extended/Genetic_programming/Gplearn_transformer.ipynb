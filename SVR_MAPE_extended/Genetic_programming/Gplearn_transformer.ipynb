{
 "cells": [
  {
   "cell_type": "markdown",
   "metadata": {},
   "source": [
    "### Libraries"
   ]
  },
  {
   "cell_type": "code",
   "execution_count": 3,
   "metadata": {
    "ExecuteTime": {
     "end_time": "2021-06-20T17:07:14.513952Z",
     "start_time": "2021-06-20T17:07:10.011236Z"
    }
   },
   "outputs": [],
   "source": [
    "from gplearn.genetic import SymbolicTransformer\n",
    "from gplearn.fitness import make_fitness\n",
    "import numpy as np\n",
    "import matplotlib.pyplot as plt\n",
    "import pandas as pd\n",
    "from pathlib import Path\n",
    "from sklearn.model_selection import train_test_split\n",
    "from sklearn.preprocessing import MaxAbsScaler\n",
    "from sklearn.datasets import load_boston\n",
    "from sklearn.utils import check_random_state"
   ]
  },
  {
   "cell_type": "code",
   "execution_count": 4,
   "metadata": {
    "ExecuteTime": {
     "end_time": "2021-06-20T17:07:20.158050Z",
     "start_time": "2021-06-20T17:07:14.513952Z"
    }
   },
   "outputs": [
    {
     "data": {
      "text/html": [
       "        <script type=\"text/javascript\">\n",
       "        window.PlotlyConfig = {MathJaxConfig: 'local'};\n",
       "        if (window.MathJax) {MathJax.Hub.Config({SVG: {font: \"STIX-Web\"}});}\n",
       "        if (typeof require !== 'undefined') {\n",
       "        require.undef(\"plotly\");\n",
       "        requirejs.config({\n",
       "            paths: {\n",
       "                'plotly': ['https://cdn.plot.ly/plotly-latest.min']\n",
       "            }\n",
       "        });\n",
       "        require(['plotly'], function(Plotly) {\n",
       "            window._Plotly = Plotly;\n",
       "        });\n",
       "        }\n",
       "        </script>\n",
       "        "
      ]
     },
     "metadata": {},
     "output_type": "display_data"
    }
   ],
   "source": [
    "import cufflinks as cf\n",
    "cf.go_offline()"
   ]
  },
  {
   "cell_type": "markdown",
   "metadata": {},
   "source": [
    "### Load"
   ]
  },
  {
   "cell_type": "code",
   "execution_count": 5,
   "metadata": {
    "ExecuteTime": {
     "end_time": "2021-06-20T17:07:20.205054Z",
     "start_time": "2021-06-20T17:07:20.164055Z"
    }
   },
   "outputs": [],
   "source": [
    "rng = check_random_state(0)\n",
    "boston = load_boston()\n",
    "perm = rng.permutation(boston.target.size)\n",
    "boston.data = boston.data[perm]\n",
    "boston.target = boston.target[perm]\n",
    "# \n",
    "Y = boston.target\n",
    "X = boston.data"
   ]
  },
  {
   "cell_type": "code",
   "execution_count": 4,
   "metadata": {
    "ExecuteTime": {
     "end_time": "2021-06-19T19:48:59.804459Z",
     "start_time": "2021-06-19T19:48:59.777463Z"
    }
   },
   "outputs": [],
   "source": [
    "#split\n",
    "x_train1, x_test1, y_train1, y_test1 = train_test_split(X, Y, test_size=0.2, random_state = 5)\n",
    "\n",
    "#normalize\n",
    "scaler = MaxAbsScaler().fit(x_train1)\n",
    "X_train = scaler.transform(x_train1); X_test = scaler.transform(x_test1)\n",
    "\n",
    "scaler1 = MaxAbsScaler().fit(y_train1.reshape(-1, 1))\n",
    "y_train = scaler1.transform(y_train1.reshape(-1, 1)).reshape(-1)\n",
    "y_test = scaler1.transform(y_test1.reshape(-1, 1)).reshape(-1)"
   ]
  },
  {
   "cell_type": "markdown",
   "metadata": {},
   "source": [
    "### functions"
   ]
  },
  {
   "cell_type": "code",
   "execution_count": 7,
   "metadata": {
    "ExecuteTime": {
     "end_time": "2021-06-19T19:54:15.153848Z",
     "start_time": "2021-06-19T19:54:15.138855Z"
    }
   },
   "outputs": [],
   "source": [
    "# custom metric\n",
    "def _mape(y, y_pred, w):\n",
    "    diffs = np.abs(np.divide((np.maximum(0.001, y) - np.maximum(0.001, y_pred)),np.maximum(0.001, y)))\n",
    "    \n",
    "    return 100. * np.average(diffs, weights=w)\n",
    "\n",
    "mape = make_fitness(_mape, greater_is_better=False)"
   ]
  },
  {
   "cell_type": "markdown",
   "metadata": {},
   "source": [
    "### model"
   ]
  },
  {
   "cell_type": "code",
   "execution_count": 8,
   "metadata": {
    "ExecuteTime": {
     "end_time": "2021-06-19T19:54:15.840235Z",
     "start_time": "2021-06-19T19:54:15.820238Z"
    }
   },
   "outputs": [],
   "source": [
    "model = SymbolicTransformer(function_set=[\"sub\", \"add\", 'inv', 'mul', 'div', 'abs', 'log','sqrt','max','min'],\n",
    "                                population_size=5000, hall_of_fame=20, n_components=10,\n",
    "                                tournament_size=20,\n",
    "                                generations=5, init_depth=(2,8), init_method='half and half',\n",
    "                                parsimony_coefficient='auto', const_range=None, metric='pearson',\n",
    "                                 p_subtree_mutation=0.01,\n",
    "                                p_hoist_mutation=0.01, p_point_mutation=0.01, verbose=True,\n",
    "                                warm_start=True, n_jobs=1,random_state=123)"
   ]
  },
  {
   "cell_type": "code",
   "execution_count": 9,
   "metadata": {
    "ExecuteTime": {
     "end_time": "2021-06-19T19:55:02.115293Z",
     "start_time": "2021-06-19T19:54:16.339865Z"
    }
   },
   "outputs": [
    {
     "name": "stdout",
     "output_type": "stream",
     "text": [
      "    |   Population Average    |             Best Individual              |\n",
      "---- ------------------------- ------------------------------------------ ----------\n",
      " Gen   Length          Fitness   Length          Fitness      OOB Fitness  Time Left\n",
      "   0    22.07          0.28548        5         0.834319              N/A     39.68s\n",
      "   1    17.70         0.558128       15         0.858646              N/A     28.58s\n",
      "   2    25.97         0.661194       10         0.863079              N/A     20.19s\n",
      "   3    12.13         0.694029       17         0.868805              N/A      7.68s\n",
      "   4     7.27          0.72526       17         0.874665              N/A      0.00s\n"
     ]
    },
    {
     "data": {
      "text/plain": [
       "SymbolicTransformer(const_range=None, feature_names=None,\n",
       "                    function_set=['sub', 'add', 'inv', 'mul', 'div', 'abs',\n",
       "                                  'log', 'sqrt', 'max', 'min'],\n",
       "                    generations=5, hall_of_fame=20, init_depth=(2, 8),\n",
       "                    init_method='half and half', low_memory=False,\n",
       "                    max_samples=1.0, metric='pearson', n_components=10,\n",
       "                    n_jobs=1, p_crossover=0.9, p_hoist_mutation=0.01,\n",
       "                    p_point_mutation=0.01, p_point_replace=0.05,\n",
       "                    p_subtree_mutation=0.01, parsimony_coefficient='auto',\n",
       "                    population_size=5000, random_state=123,\n",
       "                    stopping_criteria=1.0, tournament_size=20, verbose=True,\n",
       "                    warm_start=True)"
      ]
     },
     "execution_count": 9,
     "metadata": {},
     "output_type": "execute_result"
    }
   ],
   "source": [
    "model.fit(X_train, y_train)"
   ]
  },
  {
   "cell_type": "code",
   "execution_count": 10,
   "metadata": {
    "ExecuteTime": {
     "end_time": "2021-06-19T19:56:49.505277Z",
     "start_time": "2021-06-19T19:56:49.485271Z"
    }
   },
   "outputs": [
    {
     "name": "stdout",
     "output_type": "stream",
     "text": [
      "mul(X5, log(div(inv(X12), max(mul(X9, add(X0, sqrt(X12))), sqrt(log(abs(X5)))))))\n"
     ]
    }
   ],
   "source": [
    "print(model._best_programs[0])\n",
    "# model._Program"
   ]
  },
  {
   "cell_type": "code",
   "execution_count": 11,
   "metadata": {
    "ExecuteTime": {
     "end_time": "2021-06-19T19:56:52.526431Z",
     "start_time": "2021-06-19T19:56:52.502390Z"
    }
   },
   "outputs": [],
   "source": [
    "gp_features = model.transform(boston.data)\n",
    "new_boston = np.hstack((X, gp_features))"
   ]
  },
  {
   "cell_type": "code",
   "execution_count": null,
   "metadata": {},
   "outputs": [],
   "source": []
  },
  {
   "cell_type": "code",
   "execution_count": 12,
   "metadata": {
    "ExecuteTime": {
     "end_time": "2021-06-19T19:56:55.210032Z",
     "start_time": "2021-06-19T19:56:55.133038Z"
    }
   },
   "outputs": [],
   "source": [
    "pd.DataFrame(new_boston).to_csv(\"..//Data//newBostonStandard.csv\")"
   ]
  },
  {
   "cell_type": "code",
   "execution_count": null,
   "metadata": {},
   "outputs": [],
   "source": []
  }
 ],
 "metadata": {
  "kernelspec": {
   "display_name": "Python 3",
   "language": "python",
   "name": "python3"
  },
  "language_info": {
   "codemirror_mode": {
    "name": "ipython",
    "version": 3
   },
   "file_extension": ".py",
   "mimetype": "text/x-python",
   "name": "python",
   "nbconvert_exporter": "python",
   "pygments_lexer": "ipython3",
   "version": "3.7.7"
  },
  "toc": {
   "base_numbering": 1,
   "nav_menu": {},
   "number_sections": true,
   "sideBar": true,
   "skip_h1_title": false,
   "title_cell": "Table of Contents",
   "title_sidebar": "Contents",
   "toc_cell": false,
   "toc_position": {},
   "toc_section_display": true,
   "toc_window_display": false
  }
 },
 "nbformat": 4,
 "nbformat_minor": 4
}
