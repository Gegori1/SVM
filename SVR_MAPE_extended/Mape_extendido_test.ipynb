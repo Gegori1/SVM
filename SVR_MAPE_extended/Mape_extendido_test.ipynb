{
 "cells": [
  {
   "cell_type": "markdown",
   "metadata": {},
   "source": [
    "## Libraries"
   ]
  },
  {
   "cell_type": "code",
   "execution_count": 1,
   "metadata": {
    "ExecuteTime": {
     "end_time": "2021-06-17T05:17:57.189812Z",
     "start_time": "2021-06-17T05:17:51.771361Z"
    }
   },
   "outputs": [
    {
     "data": {
      "text/html": [
       "        <script type=\"text/javascript\">\n",
       "        window.PlotlyConfig = {MathJaxConfig: 'local'};\n",
       "        if (window.MathJax) {MathJax.Hub.Config({SVG: {font: \"STIX-Web\"}});}\n",
       "        if (typeof require !== 'undefined') {\n",
       "        require.undef(\"plotly\");\n",
       "        requirejs.config({\n",
       "            paths: {\n",
       "                'plotly': ['https://cdn.plot.ly/plotly-latest.min']\n",
       "            }\n",
       "        });\n",
       "        require(['plotly'], function(Plotly) {\n",
       "            window._Plotly = Plotly;\n",
       "        });\n",
       "        }\n",
       "        </script>\n",
       "        "
      ]
     },
     "metadata": {},
     "output_type": "display_data"
    }
   ],
   "source": [
    "import numpy as np\n",
    "import pandas as pd\n",
    "from sklearn import metrics\n",
    "import cufflinks as cf\n",
    "cf.go_offline()\n",
    "import matplotlib.pyplot as plt\n",
    "from sklearn.model_selection import train_test_split"
   ]
  },
  {
   "cell_type": "code",
   "execution_count": 2,
   "metadata": {
    "ExecuteTime": {
     "end_time": "2021-06-17T05:17:57.236612Z",
     "start_time": "2021-06-17T05:17:57.193343Z"
    }
   },
   "outputs": [],
   "source": [
    "%run Libraries//Mape_extendido.ipynb"
   ]
  },
  {
   "cell_type": "markdown",
   "metadata": {},
   "source": [
    "### Functions"
   ]
  },
  {
   "cell_type": "code",
   "execution_count": 3,
   "metadata": {
    "ExecuteTime": {
     "end_time": "2021-06-17T05:17:57.251611Z",
     "start_time": "2021-06-17T05:17:57.239612Z"
    }
   },
   "outputs": [],
   "source": [
    "def mape_score(y_real, y_predict):\n",
    "    return np.mean(np.abs((y_real - y_predict)/y_real))*100"
   ]
  },
  {
   "cell_type": "markdown",
   "metadata": {
    "heading_collapsed": true
   },
   "source": [
    "## Data Random"
   ]
  },
  {
   "cell_type": "code",
   "execution_count": 4,
   "metadata": {
    "ExecuteTime": {
     "end_time": "2021-06-17T05:17:57.266691Z",
     "start_time": "2021-06-17T05:17:57.254613Z"
    },
    "hidden": true
   },
   "outputs": [],
   "source": [
    "rng = np.random.RandomState(0)"
   ]
  },
  {
   "cell_type": "code",
   "execution_count": 5,
   "metadata": {
    "ExecuteTime": {
     "end_time": "2021-06-17T05:18:02.759024Z",
     "start_time": "2021-06-17T05:18:02.739025Z"
    },
    "hidden": true
   },
   "outputs": [],
   "source": [
    "X = np.zeros((100,3))\n",
    "X[:,0] = 5 * rng.rand(100, 1)[:,0]\n",
    "X[:,1] = 10 * rng.rand(100, 1)[:,0]\n",
    "X[:,2] = 15 * rng.rand(100, 1)[:,0]\n",
    "\n",
    "y = np.ravel(3*X[:,0]-2*X[:,1]+3*X[:,2]-10)\n",
    "# Add noise to targets\n",
    "Yrnd = y + 3 * (0.5 - rng.rand(y.shape[0]))\n",
    "Yrnd = abs(Yrnd)"
   ]
  },
  {
   "cell_type": "code",
   "execution_count": 6,
   "metadata": {
    "ExecuteTime": {
     "end_time": "2021-06-17T05:18:03.008174Z",
     "start_time": "2021-06-17T05:18:02.987179Z"
    },
    "hidden": true
   },
   "outputs": [],
   "source": [
    "x_train, x_test, y_train, y_test = train_test_split(X, Yrnd, test_size=0.2, random_state =98647)\n",
    "y_test = y_test.reshape(y_test.shape[0],1)\n",
    "y_train = y_train.reshape(y_train.shape[0],1)\n",
    "y_train = abs(y_train)"
   ]
  },
  {
   "cell_type": "markdown",
   "metadata": {
    "hidden": true
   },
   "source": [
    "### Fit model"
   ]
  },
  {
   "cell_type": "code",
   "execution_count": 7,
   "metadata": {
    "ExecuteTime": {
     "end_time": "2021-06-17T05:18:05.926568Z",
     "start_time": "2021-06-17T05:18:05.895616Z"
    },
    "hidden": true
   },
   "outputs": [],
   "source": [
    "model = SVR_cvxopt_mapext()"
   ]
  },
  {
   "cell_type": "code",
   "execution_count": 8,
   "metadata": {
    "ExecuteTime": {
     "end_time": "2021-06-17T05:18:06.380126Z",
     "start_time": "2021-06-17T05:18:06.193854Z"
    },
    "hidden": true
   },
   "outputs": [],
   "source": [
    "fitted = model.fit(x_train,y_train.reshape(-1))"
   ]
  },
  {
   "cell_type": "code",
   "execution_count": 9,
   "metadata": {
    "ExecuteTime": {
     "end_time": "2021-06-17T05:18:06.599805Z",
     "start_time": "2021-06-17T05:18:06.581806Z"
    },
    "hidden": true
   },
   "outputs": [],
   "source": [
    "predict = fitted.predict(x_train)\n",
    "forecast = fitted.predict(x_test)"
   ]
  },
  {
   "cell_type": "markdown",
   "metadata": {
    "hidden": true
   },
   "source": [
    "### Metric"
   ]
  },
  {
   "cell_type": "code",
   "execution_count": 10,
   "metadata": {
    "ExecuteTime": {
     "end_time": "2021-06-17T05:18:08.602690Z",
     "start_time": "2021-06-17T05:18:08.587693Z"
    },
    "hidden": true
   },
   "outputs": [
    {
     "data": {
      "text/plain": [
       "(0.42132781704312516, 0.7755558075139275)"
      ]
     },
     "execution_count": 10,
     "metadata": {},
     "output_type": "execute_result"
    }
   ],
   "source": [
    "metrics.r2_score(y_train, predict), metrics.r2_score(y_test, forecast)"
   ]
  },
  {
   "cell_type": "markdown",
   "metadata": {},
   "source": [
    "## Boston houses dataset"
   ]
  },
  {
   "cell_type": "code",
   "execution_count": 11,
   "metadata": {
    "ExecuteTime": {
     "end_time": "2021-06-17T05:18:14.613638Z",
     "start_time": "2021-06-17T05:18:14.532500Z"
    }
   },
   "outputs": [],
   "source": [
    "from sklearn.datasets import load_boston\n",
    "from sklearn.utils import check_random_state\n",
    "from sklearn import preprocessing"
   ]
  },
  {
   "cell_type": "code",
   "execution_count": 12,
   "metadata": {
    "ExecuteTime": {
     "end_time": "2021-06-17T05:18:15.215832Z",
     "start_time": "2021-06-17T05:18:15.182831Z"
    }
   },
   "outputs": [],
   "source": [
    "rng = check_random_state(0)\n",
    "boston = load_boston()\n",
    "perm = rng.permutation(boston.target.size)\n",
    "boston.data = boston.data[perm]\n",
    "boston.target = boston.target[perm]\n",
    "# \n",
    "Y = boston.target\n",
    "Y=np.reshape(Y,(len(boston.target),1))\n",
    "X = boston.data"
   ]
  },
  {
   "cell_type": "code",
   "execution_count": 25,
   "metadata": {
    "ExecuteTime": {
     "end_time": "2021-06-17T05:19:00.759715Z",
     "start_time": "2021-06-17T05:19:00.733753Z"
    }
   },
   "outputs": [],
   "source": [
    "#split\n",
    "X_train, X_test, Y_train, Y_test = train_test_split(X, Y, test_size=0.2, random_state = 5)\n",
    "\n",
    "#normalize\n",
    "scaler = preprocessing.MaxAbsScaler().fit(X_train)\n",
    "x_train = scaler.transform(X_train); x_test = scaler.transform(X_test)\n",
    "\n",
    "scaler1 = preprocessing.MaxAbsScaler().fit(Y_train.reshape(-1, 1))\n",
    "y_train = scaler1.transform(Y_train.reshape(-1, 1)).reshape(-1)\n",
    "y_test = scaler1.transform(Y_test.reshape(-1, 1)).reshape(-1)"
   ]
  },
  {
   "cell_type": "code",
   "execution_count": 26,
   "metadata": {
    "ExecuteTime": {
     "end_time": "2021-06-17T05:19:01.515315Z",
     "start_time": "2021-06-17T05:19:01.491321Z"
    }
   },
   "outputs": [],
   "source": [
    "#normalize\n",
    "scaler = preprocessing.MaxAbsScaler().fit(X)\n",
    "X_scaled = scaler.transform(X)\n",
    "\n",
    "scaler = preprocessing.MaxAbsScaler().fit(Y)\n",
    "Yrnd = scaler.transform(Y)\n",
    "\n",
    "x_train, x_test, y_train, y_test = train_test_split(X_scaled, Yrnd, test_size=0.2, random_state = 5)\n",
    "n_train = x_train.shape[0]"
   ]
  },
  {
   "cell_type": "markdown",
   "metadata": {},
   "source": [
    "### Fit model"
   ]
  },
  {
   "cell_type": "code",
   "execution_count": 27,
   "metadata": {
    "ExecuteTime": {
     "end_time": "2021-06-17T05:19:02.369883Z",
     "start_time": "2021-06-17T05:19:02.353886Z"
    }
   },
   "outputs": [],
   "source": [
    "model = SVR_cvxopt_mapext(kernel = \"rbf\", gamma = 0.3)"
   ]
  },
  {
   "cell_type": "code",
   "execution_count": 28,
   "metadata": {
    "ExecuteTime": {
     "end_time": "2021-06-17T05:19:03.247610Z",
     "start_time": "2021-06-17T05:19:02.658923Z"
    }
   },
   "outputs": [],
   "source": [
    "fitted = model.fit(x_train,y_train.reshape(-1))"
   ]
  },
  {
   "cell_type": "code",
   "execution_count": 29,
   "metadata": {
    "ExecuteTime": {
     "end_time": "2021-06-17T05:19:03.279194Z",
     "start_time": "2021-06-17T05:19:03.247610Z"
    }
   },
   "outputs": [],
   "source": [
    "predict = fitted.predict(x_train)\n",
    "forecast = fitted.predict(x_test)"
   ]
  },
  {
   "cell_type": "markdown",
   "metadata": {},
   "source": [
    "### Metric"
   ]
  },
  {
   "cell_type": "code",
   "execution_count": 30,
   "metadata": {
    "ExecuteTime": {
     "end_time": "2021-06-17T05:19:04.119530Z",
     "start_time": "2021-06-17T05:19:04.091529Z"
    }
   },
   "outputs": [
    {
     "data": {
      "text/plain": [
       "(0.8779667410787063, 0.9235547365711272)"
      ]
     },
     "execution_count": 30,
     "metadata": {},
     "output_type": "execute_result"
    }
   ],
   "source": [
    "metrics.r2_score(y_train.reshape(-1), predict), metrics.r2_score(y_test.reshape(-1), forecast)"
   ]
  },
  {
   "cell_type": "code",
   "execution_count": 31,
   "metadata": {
    "ExecuteTime": {
     "end_time": "2021-06-17T05:19:04.932427Z",
     "start_time": "2021-06-17T05:19:04.919468Z"
    }
   },
   "outputs": [
    {
     "data": {
      "text/plain": [
       "(8.050847501265263, 9.653874118979248)"
      ]
     },
     "execution_count": 31,
     "metadata": {},
     "output_type": "execute_result"
    }
   ],
   "source": [
    "mape_score(y_train.reshape(-1), predict), mape_score(y_test.reshape(-1), forecast)"
   ]
  }
 ],
 "metadata": {
  "kernelspec": {
   "display_name": "Python 3",
   "language": "python",
   "name": "python3"
  },
  "language_info": {
   "codemirror_mode": {
    "name": "ipython",
    "version": 3
   },
   "file_extension": ".py",
   "mimetype": "text/x-python",
   "name": "python",
   "nbconvert_exporter": "python",
   "pygments_lexer": "ipython3",
   "version": "3.7.7"
  },
  "toc": {
   "base_numbering": 1,
   "nav_menu": {},
   "number_sections": true,
   "sideBar": true,
   "skip_h1_title": false,
   "title_cell": "Table of Contents",
   "title_sidebar": "Contents",
   "toc_cell": false,
   "toc_position": {},
   "toc_section_display": true,
   "toc_window_display": false
  }
 },
 "nbformat": 4,
 "nbformat_minor": 4
}
